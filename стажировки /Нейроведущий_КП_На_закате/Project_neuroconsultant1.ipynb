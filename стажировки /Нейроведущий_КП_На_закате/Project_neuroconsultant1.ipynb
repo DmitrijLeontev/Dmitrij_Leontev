{
  "nbformat": 4,
  "nbformat_minor": 0,
  "metadata": {
    "colab": {
      "provenance": [],
      "include_colab_link": true
    },
    "kernelspec": {
      "name": "python3",
      "display_name": "Python 3"
    },
    "language_info": {
      "name": "python"
    }
  },
  "cells": [
    {
      "cell_type": "markdown",
      "metadata": {
        "id": "view-in-github",
        "colab_type": "text"
      },
      "source": [
        "<a href=\"https://colab.research.google.com/github/DmitrijLeontev/Dmitrij_Leontev/blob/main/%D1%81%D1%82%D0%B0%D0%B6%D0%B8%D1%80%D0%BE%D0%B2%D0%BA%D0%B8%20/%D0%9D%D0%B5%D0%B9%D1%80%D0%BE%D0%B2%D0%B5%D0%B4%D1%83%D1%89%D0%B8%D0%B9_%D0%9A%D0%9F_%D0%9D%D0%B0_%D0%B7%D0%B0%D0%BA%D0%B0%D1%82%D0%B5/Project_neuroconsultant1.ipynb\" target=\"_parent\"><img src=\"https://colab.research.google.com/assets/colab-badge.svg\" alt=\"Open In Colab\"/></a>"
      ]
    },
    {
      "cell_type": "markdown",
      "source": [
        "**Задачи которые нужно решить :**\n",
        "\n",
        "Голосовой ввод запроса и перевод его в текст.\n",
        "\n",
        "Передача текстового запроса в интернет для поиска ответа.\n",
        "\n",
        "Получение ответа .\n",
        "\n",
        "Получение ссылок на 6 сайтов, с которых получена информация ( ссылки должны быть кликабельны).\n",
        "\n",
        "\n",
        "**Решение:**\n",
        "(Нужен доступ к ChatGPT  и работать нужно  через VPN.)\n",
        "\n",
        "Устанавливаются два плагина для ChatGPT\n",
        "\n",
        "Первый плагин  -  Voice ln Spech-To- Text Dictation\n",
        "\n",
        "Через микрофон наговаривается нужный запрос и переводится в текст в поисковую строку ChatGPT .\n",
        "\n",
        "Второй плагин   - MaxAI.me\n",
        "\n",
        "Выполняет функцию поиска из ChatGPT через Google нужной информации. Он выводит ответ на вопрос и показывает 6 ссылок на сайты, с которых взята информация. Ссылки кликабельны.\n",
        "\n",
        "\n",
        "**Вывод: **\n",
        "\n",
        "Таким образом через ChatGPT мы находим любую информацию и получаем развернутый ответ.\n",
        "\n",
        "Плагин MaxAI.me - также можно использовать для транскрибации любого диалога с микрофона.\n",
        "\n",
        "Готов все продемонстрировать на встрече.\n"
      ],
      "metadata": {
        "id": "MsPFUfRSCIT3"
      }
    }
  ]
}