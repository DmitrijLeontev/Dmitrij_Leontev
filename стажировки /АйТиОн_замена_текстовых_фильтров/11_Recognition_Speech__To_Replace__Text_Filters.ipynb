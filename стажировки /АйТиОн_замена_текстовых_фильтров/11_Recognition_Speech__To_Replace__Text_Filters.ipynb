{
  "nbformat": 4,
  "nbformat_minor": 0,
  "metadata": {
    "colab": {
      "provenance": [],
      "authorship_tag": "ABX9TyMv8QcEHEP3QJqEWY3kXIMM",
      "include_colab_link": true
    },
    "kernelspec": {
      "name": "python3",
      "display_name": "Python 3"
    },
    "language_info": {
      "name": "python"
    }
  },
  "cells": [
    {
      "cell_type": "markdown",
      "metadata": {
        "id": "view-in-github",
        "colab_type": "text"
      },
      "source": [
        "<a href=\"https://colab.research.google.com/github/DmitrijLeontev/Dmitrij_Leontev/blob/main/%D1%81%D1%82%D0%B0%D0%B6%D0%B8%D1%80%D0%BE%D0%B2%D0%BA%D0%B8%20/%D0%90%D0%B9%D0%A2%D0%B8%D0%9E%D0%BD_%D0%B7%D0%B0%D0%BC%D0%B5%D0%BD%D0%B0_%D1%82%D0%B5%D0%BA%D1%81%D1%82%D0%BE%D0%B2%D1%8B%D1%85_%D1%84%D0%B8%D0%BB%D1%8C%D1%82%D1%80%D0%BE%D0%B2/11_Recognition_Speech__To_Replace__Text_Filters.ipynb\" target=\"_parent\"><img src=\"https://colab.research.google.com/assets/colab-badge.svg\" alt=\"Open In Colab\"/></a>"
      ]
    },
    {
      "cell_type": "markdown",
      "source": [
        "Подключение библиотек"
      ],
      "metadata": {
        "id": "i2NoDEKAEiI4"
      }
    },
    {
      "cell_type": "code",
      "execution_count": null,
      "metadata": {
        "colab": {
          "base_uri": "https://localhost:8080/"
        },
        "id": "33nl3RRVEASz",
        "outputId": "78a4694c-c75d-44a9-f19e-f1c9a70466bb"
      },
      "outputs": [
        {
          "output_type": "stream",
          "name": "stdout",
          "text": [
            "Collecting ru-core-news-sm==3.7.0\n",
            "  Downloading https://github.com/explosion/spacy-models/releases/download/ru_core_news_sm-3.7.0/ru_core_news_sm-3.7.0-py3-none-any.whl (15.3 MB)\n",
            "\u001b[2K     \u001b[90m━━━━━━━━━━━━━━━━━━━━━━━━━━━━━━━━━━━━━━━━\u001b[0m \u001b[32m15.3/15.3 MB\u001b[0m \u001b[31m25.8 MB/s\u001b[0m eta \u001b[36m0:00:00\u001b[0m\n",
            "\u001b[?25hRequirement already satisfied: spacy<3.8.0,>=3.7.0 in /usr/local/lib/python3.10/dist-packages (from ru-core-news-sm==3.7.0) (3.7.4)\n",
            "Collecting pymorphy3>=1.0.0 (from ru-core-news-sm==3.7.0)\n",
            "  Downloading pymorphy3-2.0.1-py3-none-any.whl (53 kB)\n",
            "\u001b[2K     \u001b[90m━━━━━━━━━━━━━━━━━━━━━━━━━━━━━━━━━━━━━━━━\u001b[0m \u001b[32m53.2/53.2 kB\u001b[0m \u001b[31m2.0 MB/s\u001b[0m eta \u001b[36m0:00:00\u001b[0m\n",
            "\u001b[?25hCollecting dawg-python>=0.7.1 (from pymorphy3>=1.0.0->ru-core-news-sm==3.7.0)\n",
            "  Downloading DAWG_Python-0.7.2-py2.py3-none-any.whl (11 kB)\n",
            "Collecting pymorphy3-dicts-ru (from pymorphy3>=1.0.0->ru-core-news-sm==3.7.0)\n",
            "  Downloading pymorphy3_dicts_ru-2.4.417150.4580142-py2.py3-none-any.whl (8.4 MB)\n",
            "\u001b[2K     \u001b[90m━━━━━━━━━━━━━━━━━━━━━━━━━━━━━━━━━━━━━━━━\u001b[0m \u001b[32m8.4/8.4 MB\u001b[0m \u001b[31m1.7 MB/s\u001b[0m eta \u001b[36m0:00:00\u001b[0m\n",
            "\u001b[?25hRequirement already satisfied: spacy-legacy<3.1.0,>=3.0.11 in /usr/local/lib/python3.10/dist-packages (from spacy<3.8.0,>=3.7.0->ru-core-news-sm==3.7.0) (3.0.12)\n",
            "Requirement already satisfied: spacy-loggers<2.0.0,>=1.0.0 in /usr/local/lib/python3.10/dist-packages (from spacy<3.8.0,>=3.7.0->ru-core-news-sm==3.7.0) (1.0.5)\n",
            "Requirement already satisfied: murmurhash<1.1.0,>=0.28.0 in /usr/local/lib/python3.10/dist-packages (from spacy<3.8.0,>=3.7.0->ru-core-news-sm==3.7.0) (1.0.10)\n",
            "Requirement already satisfied: cymem<2.1.0,>=2.0.2 in /usr/local/lib/python3.10/dist-packages (from spacy<3.8.0,>=3.7.0->ru-core-news-sm==3.7.0) (2.0.8)\n",
            "Requirement already satisfied: preshed<3.1.0,>=3.0.2 in /usr/local/lib/python3.10/dist-packages (from spacy<3.8.0,>=3.7.0->ru-core-news-sm==3.7.0) (3.0.9)\n",
            "Requirement already satisfied: thinc<8.3.0,>=8.2.2 in /usr/local/lib/python3.10/dist-packages (from spacy<3.8.0,>=3.7.0->ru-core-news-sm==3.7.0) (8.2.3)\n",
            "Requirement already satisfied: wasabi<1.2.0,>=0.9.1 in /usr/local/lib/python3.10/dist-packages (from spacy<3.8.0,>=3.7.0->ru-core-news-sm==3.7.0) (1.1.2)\n",
            "Requirement already satisfied: srsly<3.0.0,>=2.4.3 in /usr/local/lib/python3.10/dist-packages (from spacy<3.8.0,>=3.7.0->ru-core-news-sm==3.7.0) (2.4.8)\n",
            "Requirement already satisfied: catalogue<2.1.0,>=2.0.6 in /usr/local/lib/python3.10/dist-packages (from spacy<3.8.0,>=3.7.0->ru-core-news-sm==3.7.0) (2.0.10)\n",
            "Requirement already satisfied: weasel<0.4.0,>=0.1.0 in /usr/local/lib/python3.10/dist-packages (from spacy<3.8.0,>=3.7.0->ru-core-news-sm==3.7.0) (0.3.4)\n",
            "Requirement already satisfied: typer<0.10.0,>=0.3.0 in /usr/local/lib/python3.10/dist-packages (from spacy<3.8.0,>=3.7.0->ru-core-news-sm==3.7.0) (0.9.0)\n",
            "Requirement already satisfied: smart-open<7.0.0,>=5.2.1 in /usr/local/lib/python3.10/dist-packages (from spacy<3.8.0,>=3.7.0->ru-core-news-sm==3.7.0) (6.4.0)\n",
            "Requirement already satisfied: tqdm<5.0.0,>=4.38.0 in /usr/local/lib/python3.10/dist-packages (from spacy<3.8.0,>=3.7.0->ru-core-news-sm==3.7.0) (4.66.2)\n",
            "Requirement already satisfied: requests<3.0.0,>=2.13.0 in /usr/local/lib/python3.10/dist-packages (from spacy<3.8.0,>=3.7.0->ru-core-news-sm==3.7.0) (2.31.0)\n",
            "Requirement already satisfied: pydantic!=1.8,!=1.8.1,<3.0.0,>=1.7.4 in /usr/local/lib/python3.10/dist-packages (from spacy<3.8.0,>=3.7.0->ru-core-news-sm==3.7.0) (2.6.4)\n",
            "Requirement already satisfied: jinja2 in /usr/local/lib/python3.10/dist-packages (from spacy<3.8.0,>=3.7.0->ru-core-news-sm==3.7.0) (3.1.3)\n",
            "Requirement already satisfied: setuptools in /usr/local/lib/python3.10/dist-packages (from spacy<3.8.0,>=3.7.0->ru-core-news-sm==3.7.0) (67.7.2)\n",
            "Requirement already satisfied: packaging>=20.0 in /usr/local/lib/python3.10/dist-packages (from spacy<3.8.0,>=3.7.0->ru-core-news-sm==3.7.0) (24.0)\n",
            "Requirement already satisfied: langcodes<4.0.0,>=3.2.0 in /usr/local/lib/python3.10/dist-packages (from spacy<3.8.0,>=3.7.0->ru-core-news-sm==3.7.0) (3.3.0)\n",
            "Requirement already satisfied: numpy>=1.19.0 in /usr/local/lib/python3.10/dist-packages (from spacy<3.8.0,>=3.7.0->ru-core-news-sm==3.7.0) (1.25.2)\n",
            "Requirement already satisfied: annotated-types>=0.4.0 in /usr/local/lib/python3.10/dist-packages (from pydantic!=1.8,!=1.8.1,<3.0.0,>=1.7.4->spacy<3.8.0,>=3.7.0->ru-core-news-sm==3.7.0) (0.6.0)\n",
            "Requirement already satisfied: pydantic-core==2.16.3 in /usr/local/lib/python3.10/dist-packages (from pydantic!=1.8,!=1.8.1,<3.0.0,>=1.7.4->spacy<3.8.0,>=3.7.0->ru-core-news-sm==3.7.0) (2.16.3)\n",
            "Requirement already satisfied: typing-extensions>=4.6.1 in /usr/local/lib/python3.10/dist-packages (from pydantic!=1.8,!=1.8.1,<3.0.0,>=1.7.4->spacy<3.8.0,>=3.7.0->ru-core-news-sm==3.7.0) (4.10.0)\n",
            "Requirement already satisfied: charset-normalizer<4,>=2 in /usr/local/lib/python3.10/dist-packages (from requests<3.0.0,>=2.13.0->spacy<3.8.0,>=3.7.0->ru-core-news-sm==3.7.0) (3.3.2)\n",
            "Requirement already satisfied: idna<4,>=2.5 in /usr/local/lib/python3.10/dist-packages (from requests<3.0.0,>=2.13.0->spacy<3.8.0,>=3.7.0->ru-core-news-sm==3.7.0) (3.6)\n",
            "Requirement already satisfied: urllib3<3,>=1.21.1 in /usr/local/lib/python3.10/dist-packages (from requests<3.0.0,>=2.13.0->spacy<3.8.0,>=3.7.0->ru-core-news-sm==3.7.0) (2.0.7)\n",
            "Requirement already satisfied: certifi>=2017.4.17 in /usr/local/lib/python3.10/dist-packages (from requests<3.0.0,>=2.13.0->spacy<3.8.0,>=3.7.0->ru-core-news-sm==3.7.0) (2024.2.2)\n",
            "Requirement already satisfied: blis<0.8.0,>=0.7.8 in /usr/local/lib/python3.10/dist-packages (from thinc<8.3.0,>=8.2.2->spacy<3.8.0,>=3.7.0->ru-core-news-sm==3.7.0) (0.7.11)\n",
            "Requirement already satisfied: confection<1.0.0,>=0.0.1 in /usr/local/lib/python3.10/dist-packages (from thinc<8.3.0,>=8.2.2->spacy<3.8.0,>=3.7.0->ru-core-news-sm==3.7.0) (0.1.4)\n",
            "Requirement already satisfied: click<9.0.0,>=7.1.1 in /usr/local/lib/python3.10/dist-packages (from typer<0.10.0,>=0.3.0->spacy<3.8.0,>=3.7.0->ru-core-news-sm==3.7.0) (8.1.7)\n",
            "Requirement already satisfied: cloudpathlib<0.17.0,>=0.7.0 in /usr/local/lib/python3.10/dist-packages (from weasel<0.4.0,>=0.1.0->spacy<3.8.0,>=3.7.0->ru-core-news-sm==3.7.0) (0.16.0)\n",
            "Requirement already satisfied: MarkupSafe>=2.0 in /usr/local/lib/python3.10/dist-packages (from jinja2->spacy<3.8.0,>=3.7.0->ru-core-news-sm==3.7.0) (2.1.5)\n",
            "Installing collected packages: pymorphy3-dicts-ru, dawg-python, pymorphy3, ru-core-news-sm\n",
            "Successfully installed dawg-python-0.7.2 pymorphy3-2.0.1 pymorphy3-dicts-ru-2.4.417150.4580142 ru-core-news-sm-3.7.0\n",
            "\u001b[38;5;2m✔ Download and installation successful\u001b[0m\n",
            "You can now load the package via spacy.load('ru_core_news_sm')\n",
            "\u001b[38;5;3m⚠ Restart to reload dependencies\u001b[0m\n",
            "If you are in a Jupyter or Colab notebook, you may need to restart Python in\n",
            "order to load all the package's dependencies. You can do this by selecting the\n",
            "'Restart kernel' or 'Restart runtime' option.\n"
          ]
        }
      ],
      "source": [
        "!python -m spacy download ru_core_news_sm"
      ]
    },
    {
      "cell_type": "code",
      "source": [
        "!pip install dateparser"
      ],
      "metadata": {
        "colab": {
          "base_uri": "https://localhost:8080/"
        },
        "id": "4KOO8P-rE0ml",
        "outputId": "1c14ff61-78b7-493b-b872-c93268a7427e"
      },
      "execution_count": null,
      "outputs": [
        {
          "output_type": "stream",
          "name": "stdout",
          "text": [
            "Collecting dateparser\n",
            "  Downloading dateparser-1.2.0-py2.py3-none-any.whl (294 kB)\n",
            "\u001b[2K     \u001b[90m━━━━━━━━━━━━━━━━━━━━━━━━━━━━━━━━━━━━━━━━\u001b[0m \u001b[32m295.0/295.0 kB\u001b[0m \u001b[31m2.7 MB/s\u001b[0m eta \u001b[36m0:00:00\u001b[0m\n",
            "\u001b[?25hRequirement already satisfied: python-dateutil in /usr/local/lib/python3.10/dist-packages (from dateparser) (2.8.2)\n",
            "Requirement already satisfied: pytz in /usr/local/lib/python3.10/dist-packages (from dateparser) (2023.4)\n",
            "Requirement already satisfied: regex!=2019.02.19,!=2021.8.27 in /usr/local/lib/python3.10/dist-packages (from dateparser) (2023.12.25)\n",
            "Requirement already satisfied: tzlocal in /usr/local/lib/python3.10/dist-packages (from dateparser) (5.2)\n",
            "Requirement already satisfied: six>=1.5 in /usr/local/lib/python3.10/dist-packages (from python-dateutil->dateparser) (1.16.0)\n",
            "Installing collected packages: dateparser\n",
            "Successfully installed dateparser-1.2.0\n"
          ]
        }
      ]
    },
    {
      "cell_type": "code",
      "source": [
        "import spacy\n",
        "import dateparser\n",
        "from datetime import datetime, date\n",
        "import os\n",
        "import json\n",
        "import random\n",
        "from spacy.training.example import Example\n",
        "import difflib"
      ],
      "metadata": {
        "id": "aFPzCVuaFICX"
      },
      "execution_count": null,
      "outputs": []
    },
    {
      "cell_type": "markdown",
      "source": [
        "Подключаем гуглдиск"
      ],
      "metadata": {
        "id": "TCN4nafcFQ-z"
      }
    },
    {
      "cell_type": "code",
      "source": [
        "from google.colab import drive\n",
        "drive.mount('/content/drive')"
      ],
      "metadata": {
        "colab": {
          "base_uri": "https://localhost:8080/"
        },
        "id": "i8wrQHNxFVAt",
        "outputId": "14a5bd7b-592d-4935-989b-e8dff19e28a3"
      },
      "execution_count": null,
      "outputs": [
        {
          "output_type": "stream",
          "name": "stdout",
          "text": [
            "Mounted at /content/drive\n"
          ]
        }
      ]
    },
    {
      "cell_type": "markdown",
      "source": [
        "1. СОЗДАНИЕ БАЗЫ ДЛЯ ОБУЧЕНИЯ СУЩНОСТЕЙ\n",
        "\n",
        "НАИМЕНОВАНИЕ СОЗДАВАЕМЫХ И ДООБУЧАЕМЫХ СУЩНОСТЕЙ"
      ],
      "metadata": {
        "id": "yscURVtjFrzs"
      }
    },
    {
      "cell_type": "code",
      "source": [
        "#LOC - Местоположение, используется для определения городов отправления и прибытия, а также городов пересадки.\n",
        "#DATE - Дата, применяется для установления дат отправления и прибытия.\n",
        "#TIME - Время, используется для указания времени отправления и прибытия.\n",
        "#TRANSIT - Пересадки, отмечает количество пересадок или их отсутствие.\n",
        "#AMOUNT - Количество, обозначает количество пассажиров.\n",
        "#TRANSPORT - Вид транспорта, указывает на тип транспортного средства, например, поезд, самолет, автобус, паром.\n",
        "#ORG - Организация, относится к компании-перевозчику.\n",
        "#ANIMAL - Животные, информирует о наличии или отсутствии животных с пассажиром.\n",
        "#CHILD - Дети, указывает на количество детей или их отсутствие.\n",
        "#BAGG - Багаж, обозначает наличие или отсутствие багажа.\n",
        "#LEVEL - Класс обслуживания, например, бизнес, эконом, купе, плацкарт.\n",
        "#COMFORT - Комфорт, содержит список дополнительных пожеланий, таких как женское купе, нижняя полка и т.д.\n",
        "#INSUR - Страховка, информирует о наличии или отсутствии страховки.\n",
        "#BUDGET - Бюджет, указывает общий бюджет на весь маршрут.\n",
        "#RETURN - Возврат, используется для обозначения обратной поездки.\n",
        "#FROM и TO - Используются для уточнения направления движения (откуда и куда соответственно).\n",
        "#ARRIVAL - Прибытие, указывает на дату прибытия.\n",
        "#GAP - Промежуток, может использоваться для указания на даты или другие временные интервалы."
      ],
      "metadata": {
        "id": "3qn0H8dlFvlM"
      },
      "execution_count": null,
      "outputs": []
    },
    {
      "cell_type": "markdown",
      "source": [
        "ФУНКЦИЯ ВЫВОДА ДАННЫХ О ПРЕДЛОЖЕНИИ"
      ],
      "metadata": {
        "id": "Xt5u577FGC0D"
      }
    },
    {
      "cell_type": "code",
      "source": [
        "import string\n",
        "\n",
        "def print_word_indices(sentence):\n",
        "    punctuation_marks = string.punctuation\n",
        "    words = sentence.split()\n",
        "    start_index = 0\n",
        "    for word in words:\n",
        "        # Находим индексы начальной и конечной буквы слова\n",
        "        start_index = sentence.find(word, start_index)\n",
        "        end_index = start_index + len(word)\n",
        "        # Если последний символ - знак пунктуации, сдвигаем индекс\n",
        "        while sentence[end_index - 1] in punctuation_marks:\n",
        "            end_index -= 1\n",
        "        print(word, ':', start_index, '-', end_index)\n",
        "        # Устанавливаем новый стартовый индекс для поиска\n",
        "        start_index += len(word)"
      ],
      "metadata": {
        "id": "RCwaLNIWGDWr"
      },
      "execution_count": null,
      "outputs": []
    },
    {
      "cell_type": "markdown",
      "source": [
        "СОБИРАЕМ БАЗУ ДЛЯ ОБУЧЕНИЯ\n",
        "\n",
        "на основе прошлого моего ноутбука №9 занятия стажировки: транскрибация whisper и реальный текст, размечаем и индексируем, выделянм сущности для предобучения модели на основе \"НАИМЕНОВАНИЕ СОЗДАВАЕМЫХ И ДООБУЧАЕМЫХ СУЩНОСТЕЙ\" , смотрите выше. для этого, индексируем текст с помощью print_word_indices и затем обрабатываем каждый файл(создаем базу сущностей)."
      ],
      "metadata": {
        "id": "hRCP1cd_Gfgy"
      }
    },
    {
      "cell_type": "code",
      "source": [
        "# файл 001 whisper\n",
        "(\"так еду 23 ноября и мне нужно нижнее место не у туалета, где-нибудь посередине вагона\",\n",
        "{\"entities\": [\n",
        "    (8, 17, \"DATE\"),  # 23 ноября\n",
        "    (30, 85, \"COMFORT\"),  # нижнее место не у туалета, где-нибудь посередине вагона\n",
        "]})"
      ],
      "metadata": {
        "colab": {
          "base_uri": "https://localhost:8080/"
        },
        "id": "9lRi9snUPx11",
        "outputId": "5a05a063-2470-434a-810b-dc6247c2673f"
      },
      "execution_count": null,
      "outputs": [
        {
          "output_type": "execute_result",
          "data": {
            "text/plain": [
              "('так еду 23 ноября и мне нужно нижнее место не у туалета, где-нибудь посередине вагона',\n",
              " {'entities': [(8, 17, 'DATE'), (30, 85, 'COMFORT')]})"
            ]
          },
          "metadata": {},
          "execution_count": 6
        }
      ]
    },
    {
      "cell_type": "code",
      "source": [
        "print_word_indices('так еду 23 ноября и мне нужно нижнее место не у туалета, где-нибудь посередине вагона')"
      ],
      "metadata": {
        "colab": {
          "base_uri": "https://localhost:8080/"
        },
        "id": "UgyBjoQAQ49E",
        "outputId": "f48c7504-d3aa-427d-e925-792fa51f07c1"
      },
      "execution_count": null,
      "outputs": [
        {
          "output_type": "stream",
          "name": "stdout",
          "text": [
            "так : 0 - 3\n",
            "еду : 4 - 7\n",
            "23 : 8 - 10\n",
            "ноября : 11 - 17\n",
            "и : 18 - 19\n",
            "мне : 20 - 23\n",
            "нужно : 24 - 29\n",
            "нижнее : 30 - 36\n",
            "место : 37 - 42\n",
            "не : 43 - 45\n",
            "у : 46 - 47\n",
            "туалета, : 48 - 55\n",
            "где-нибудь : 57 - 67\n",
            "посередине : 68 - 78\n",
            "вагона : 79 - 85\n"
          ]
        }
      ]
    },
    {
      "cell_type": "code",
      "source": [
        "# файл 002 whisper\n",
        "(\"Я из Уфы, поеду в Кострому. Мне нужен билет через неделю. Лучше на выходные. Так, у меня будет на поездку 10 тысяч рублей.\",\n",
        "{\"entities\": [\n",
        "    (2, 4, \"FROM\"),  # из\n",
        "    (5, 8, \"LOC\"),  # Уфы\n",
        "    (16, 17, \"TO\"),  # в\n",
        "    (18, 26, \"LOC\"),  # Кострому\n",
        "    (44, 55, \"DATE\"),  # через неделю\n",
        "    (64, 74, \"DATE\"),  # на выходные\n",
        "    (106, 121, \"BUDGET\"),   # 10.000 руб\n",
        "]})"
      ],
      "metadata": {
        "colab": {
          "base_uri": "https://localhost:8080/"
        },
        "id": "A3Sb87iDRGAb",
        "outputId": "e4368502-6793-498d-81de-0748523a912e"
      },
      "execution_count": null,
      "outputs": [
        {
          "output_type": "execute_result",
          "data": {
            "text/plain": [
              "('Я из Уфы, поеду в Кострому. Мне нужен билет через неделю. Лучше на выходные. Так, у меня будет на поездку 10 тысяч рублей.',\n",
              " {'entities': [(2, 4, 'FROM'),\n",
              "   (5, 8, 'LOC'),\n",
              "   (16, 17, 'TO'),\n",
              "   (18, 26, 'LOC'),\n",
              "   (44, 55, 'DATE'),\n",
              "   (64, 74, 'DATE'),\n",
              "   (106, 121, 'BUDGET')]})"
            ]
          },
          "metadata": {},
          "execution_count": 9
        }
      ]
    },
    {
      "cell_type": "code",
      "source": [
        "print_word_indices('Я из Уфы, поеду в Кострому. Мне нужен билет через неделю. Лучше на выходные. Так, у меня будет на поездку 10 тысяч рублей')"
      ],
      "metadata": {
        "colab": {
          "base_uri": "https://localhost:8080/"
        },
        "id": "iRvVjUPJUK4s",
        "outputId": "9641e84e-79fe-47d2-8175-67d59361b400"
      },
      "execution_count": null,
      "outputs": [
        {
          "output_type": "stream",
          "name": "stdout",
          "text": [
            "Я : 0 - 1\n",
            "из : 2 - 4\n",
            "Уфы, : 5 - 8\n",
            "поеду : 10 - 15\n",
            "в : 16 - 17\n",
            "Кострому. : 18 - 26\n",
            "Мне : 28 - 31\n",
            "нужен : 32 - 37\n",
            "билет : 38 - 43\n",
            "через : 44 - 49\n",
            "неделю. : 50 - 56\n",
            "Лучше : 58 - 63\n",
            "на : 64 - 66\n",
            "выходные. : 67 - 75\n",
            "Так, : 77 - 80\n",
            "у : 82 - 83\n",
            "меня : 84 - 88\n",
            "будет : 89 - 94\n",
            "на : 95 - 97\n",
            "поездку : 98 - 105\n",
            "10 : 106 - 108\n",
            "тысяч : 109 - 114\n",
            "рублей : 115 - 121\n"
          ]
        }
      ]
    },
    {
      "cell_type": "code",
      "source": [
        "# файл 003 whisper\n",
        "(\"Так, завтра утром мы едем, пять человек из Москвы в Петербург. Вечером мы выезжаем обратно в Москву, и через три дня мы едем в Краснодар. Также пять человек. Найди самый быстрый билет за самое быстрое время.\",\n",
        "{\"entities\": [\n",
        "    (5, 11, \"DATE\"),  # завтра\n",
        "    (27, 39, \"AMOUNT\"), #пять человек\n",
        "    (40, 42, \"FROM\"),  # из\n",
        "    (43, 49, \"LOC\"),  # Москвы\n",
        "    (50, 51, \"TO\"),  # в\n",
        "    (52, 61, \"LOC\"),  # Петербург\n",
        "    (63, 70, \"DATE\"),  # вечером\n",
        "    (83, 90, \"RETURN\"),  # обратно\n",
        "    (91, 92, \"TO\"),  # в\n",
        "    (93, 99, \"LOC\"),  # Москву\n",
        "    (103, 116, \"DATE\"),  # через три дня\n",
        "    (125, 126, \"TO\"),  # в\n",
        "    (127, 136, \"LOC\"),  # Краснодар\n",
        "    (144, 156, \"AMOUNT\") # пять человек\n",
        "]})"
      ],
      "metadata": {
        "colab": {
          "base_uri": "https://localhost:8080/"
        },
        "id": "m7vZfx_cUmjK",
        "outputId": "094ea212-d354-4598-e150-5e033a5f00b9"
      },
      "execution_count": null,
      "outputs": [
        {
          "output_type": "execute_result",
          "data": {
            "text/plain": [
              "('Так, завтра утром мы едем, пять человек из Москвы в Петербург. Вечером мы выезжаем обратно в Москву, и через три дня мы едем в Краснодар. Также пять человек. Найди самый быстрый билет за самое быстрое время.',\n",
              " {'entities': [(5, 11, 'DATE'),\n",
              "   (27, 39, 'AMOUNT'),\n",
              "   (40, 42, 'FROM'),\n",
              "   (43, 49, 'LOC'),\n",
              "   (50, 51, 'TO'),\n",
              "   (52, 61, 'LOC'),\n",
              "   (63, 70, 'DATE'),\n",
              "   (83, 90, 'RETURN'),\n",
              "   (91, 92, 'TO'),\n",
              "   (93, 99, 'LOC'),\n",
              "   (103, 116, 'DATE'),\n",
              "   (125, 126, 'TO'),\n",
              "   (127, 136, 'LOC'),\n",
              "   (144, 156, 'AMOUNT')]})"
            ]
          },
          "metadata": {},
          "execution_count": 10
        }
      ]
    },
    {
      "cell_type": "code",
      "source": [
        "print_word_indices('Так, завтра утром мы едем, пять человек из Москвы в Петербург. Вечером мы выезжаем обратно в Москву, и через три дня мы едем в Краснодар. Также пять человек. Найди самый быстрый билет за самое быстрое время.')"
      ],
      "metadata": {
        "colab": {
          "base_uri": "https://localhost:8080/"
        },
        "id": "wbeffDyiVUMz",
        "outputId": "ed9ae6ac-e330-487b-edef-3f6ffce39cf3"
      },
      "execution_count": null,
      "outputs": [
        {
          "output_type": "stream",
          "name": "stdout",
          "text": [
            "Так, : 0 - 3\n",
            "завтра : 5 - 11\n",
            "утром : 12 - 17\n",
            "мы : 18 - 20\n",
            "едем, : 21 - 25\n",
            "пять : 27 - 31\n",
            "человек : 32 - 39\n",
            "из : 40 - 42\n",
            "Москвы : 43 - 49\n",
            "в : 50 - 51\n",
            "Петербург. : 52 - 61\n",
            "Вечером : 63 - 70\n",
            "мы : 71 - 73\n",
            "выезжаем : 74 - 82\n",
            "обратно : 83 - 90\n",
            "в : 91 - 92\n",
            "Москву, : 93 - 99\n",
            "и : 101 - 102\n",
            "через : 103 - 108\n",
            "три : 109 - 112\n",
            "дня : 113 - 116\n",
            "мы : 117 - 119\n",
            "едем : 120 - 124\n",
            "в : 125 - 126\n",
            "Краснодар. : 127 - 136\n",
            "Также : 138 - 143\n",
            "пять : 144 - 148\n",
            "человек. : 149 - 156\n",
            "Найди : 158 - 163\n",
            "самый : 164 - 169\n",
            "быстрый : 170 - 177\n",
            "билет : 178 - 183\n",
            "за : 184 - 186\n",
            "самое : 187 - 192\n",
            "быстрое : 193 - 200\n",
            "время. : 201 - 206\n"
          ]
        }
      ]
    },
    {
      "cell_type": "code",
      "source": [
        "# файл 004 whisper\n",
        "(\"так не нужно самолет добраться из новосибирска до москвы я буду с двумя детьми у меня багаж две сумки по 10 килограмм найди мне билеты на 13 августа\",\n",
        "{\"entities\": [\n",
        "    (13, 20, \"TRANSPORT\"),  # самолёт\n",
        "    (31, 33, \"FROM\"),  # из\n",
        "    (34, 46, \"LOC\"),  # Новосибирска\n",
        "    (47, 49, \"TO\"),  # до\n",
        "    (50, 56, \"LOC\"),  # Москвы\n",
        "    (57, 78, \"AMOUNT\"), # я буду с двумя детьми\n",
        "    (86, 117, \"BAGG\"),    # багаж две сумки по 10 килограмм\n",
        "    (138, 148, \"DATE\"),  # 13 августа\n",
        "]})"
      ],
      "metadata": {
        "colab": {
          "base_uri": "https://localhost:8080/"
        },
        "id": "Ux9rH6iEYl_4",
        "outputId": "e01b6c15-36e6-4837-a5f4-cda2def54cb4"
      },
      "execution_count": null,
      "outputs": [
        {
          "output_type": "execute_result",
          "data": {
            "text/plain": [
              "('так не нужно самолет добраться из новосибирска до москвы я буду с двумя детьми у меня багаж две сумки по 10 килограмм найди мне билеты на 13 августа',\n",
              " {'entities': [(13, 20, 'TRANSPORT'),\n",
              "   (31, 33, 'FROM'),\n",
              "   (34, 46, 'LOC'),\n",
              "   (47, 49, 'TO'),\n",
              "   (50, 56, 'LOC'),\n",
              "   (57, 78, 'AMOUNT'),\n",
              "   (86, 117, 'BAGG'),\n",
              "   (138, 148, 'DATE')]})"
            ]
          },
          "metadata": {},
          "execution_count": 11
        }
      ]
    },
    {
      "cell_type": "code",
      "source": [
        "print_word_indices('так не нужно самолет добраться из новосибирска до москвы я буду с двумя детьми у меня багаж две сумки по 10 килограмм найди мне билеты на 13 августа')"
      ],
      "metadata": {
        "colab": {
          "base_uri": "https://localhost:8080/"
        },
        "id": "Pzza_VmuZKrY",
        "outputId": "d60ea87b-a468-4860-fe2d-94114069ca74"
      },
      "execution_count": null,
      "outputs": [
        {
          "output_type": "stream",
          "name": "stdout",
          "text": [
            "так : 0 - 3\n",
            "не : 4 - 6\n",
            "нужно : 7 - 12\n",
            "самолет : 13 - 20\n",
            "добраться : 21 - 30\n",
            "из : 31 - 33\n",
            "новосибирска : 34 - 46\n",
            "до : 47 - 49\n",
            "москвы : 50 - 56\n",
            "я : 57 - 58\n",
            "буду : 59 - 63\n",
            "с : 64 - 65\n",
            "двумя : 66 - 71\n",
            "детьми : 72 - 78\n",
            "у : 79 - 80\n",
            "меня : 81 - 85\n",
            "багаж : 86 - 91\n",
            "две : 92 - 95\n",
            "сумки : 96 - 101\n",
            "по : 102 - 104\n",
            "10 : 105 - 107\n",
            "килограмм : 108 - 117\n",
            "найди : 118 - 123\n",
            "мне : 124 - 127\n",
            "билеты : 128 - 134\n",
            "на : 135 - 137\n",
            "13 : 138 - 140\n",
            "августа : 141 - 148\n"
          ]
        }
      ]
    },
    {
      "cell_type": "code",
      "source": [
        "# файл 005 whisper\n",
        "(\"поеду из Архангельска в Тверь 15 октября и 20 октября я из Твери поеду в Омск, подбери билеты\",\n",
        "{\"entities\": [\n",
        "    (6, 8, \"FROM\"),  # из\n",
        "    (6, 21, \"LOC\"),  # Архангельска\n",
        "    (22, 33, \"FROM\"),  # в\n",
        "    (24, 29, \"LOC\"),  # Тверь\n",
        "    (30, 40, \"DATE\"),  # 15 октября\n",
        "    (43, 53, \"DATE\"),  # 20 октября\n",
        "    (56, 58, \"FROM\"),  # из\n",
        "    (59, 64, \"LOC\"),  # Твери\n",
        "    (71, 72, \"TO\"),  # в\n",
        "    (73, 77, \"LOC\"),  # Омск\n",
        "]})"
      ],
      "metadata": {
        "colab": {
          "base_uri": "https://localhost:8080/"
        },
        "id": "DP87eWvacE_B",
        "outputId": "0d99ac65-d492-45d2-f42f-a51e7af0819f"
      },
      "execution_count": null,
      "outputs": [
        {
          "output_type": "execute_result",
          "data": {
            "text/plain": [
              "('поеду из Архангельска в Тверь 15 октября и 20 октября я из Твери поеду в Омск, подбери билеты',\n",
              " {'entities': [(6, 8, 'FROM'),\n",
              "   (6, 21, 'LOC'),\n",
              "   (22, 33, 'FROM'),\n",
              "   (24, 29, 'LOC'),\n",
              "   (30, 40, 'DATE'),\n",
              "   (43, 53, 'DATE'),\n",
              "   (56, 58, 'FROM'),\n",
              "   (59, 64, 'LOC'),\n",
              "   (71, 72, 'TO'),\n",
              "   (73, 77, 'LOC')]})"
            ]
          },
          "metadata": {},
          "execution_count": 12
        }
      ]
    },
    {
      "cell_type": "code",
      "source": [
        "print_word_indices('поеду из Архангельска в Тверь 15 октября и 20 октября я из Твери поеду в Омск, подбери билеты')"
      ],
      "metadata": {
        "colab": {
          "base_uri": "https://localhost:8080/"
        },
        "id": "dJFY-kIDcXye",
        "outputId": "feb2e7fc-c761-4828-87ac-3ae333182ba3"
      },
      "execution_count": null,
      "outputs": [
        {
          "output_type": "stream",
          "name": "stdout",
          "text": [
            "поеду : 0 - 5\n",
            "из : 6 - 8\n",
            "Архангельска : 9 - 21\n",
            "в : 22 - 23\n",
            "Тверь : 24 - 29\n",
            "15 : 30 - 32\n",
            "октября : 33 - 40\n",
            "и : 41 - 42\n",
            "20 : 43 - 45\n",
            "октября : 46 - 53\n",
            "я : 54 - 55\n",
            "из : 56 - 58\n",
            "Твери : 59 - 64\n",
            "поеду : 65 - 70\n",
            "в : 71 - 72\n",
            "Омск, : 73 - 77\n",
            "подбери : 79 - 86\n",
            "билеты : 87 - 93\n"
          ]
        }
      ]
    },
    {
      "cell_type": "code",
      "source": [
        "# файл 006 whisper\n",
        "(\"планирую из Новокузнецка выехать 30 декабря в Ростов, из Ростова нужно 8 января вернуться обратно, я буду с мужем и с ребёнком, найди билеты\",\n",
        "{\"entities\": [\n",
        "    (9, 11, \"FROM\"),  # из\n",
        "    (12, 24, \"LOC\"),  # Новокузнецка\n",
        "    (33, 43, \"DATE\"),  # 30 декабря\n",
        "    (44, 45, \"TO\"),  # в\n",
        "    (46, 52, \"LOC\"),  # Ростов\n",
        "    (54, 56, \"FROM\"),  # из\n",
        "    (57, 64, \"LOC\"),  # Ростова\n",
        "    (71, 79, \"DATE\"),  # 8 января\n",
        "    (90, 97, \"RETURN\"),  # обратно\n",
        "    (99, 126, \"AMOUNT\"), # я буду с мужем и с ребёнком\n",
        "]})"
      ],
      "metadata": {
        "colab": {
          "base_uri": "https://localhost:8080/"
        },
        "id": "YWFgF9RheBd-",
        "outputId": "835df912-1906-49eb-9ecd-e33400561bd1"
      },
      "execution_count": null,
      "outputs": [
        {
          "output_type": "execute_result",
          "data": {
            "text/plain": [
              "('планирую из Новокузнецка выехать 30 декабря в Ростов, из Ростова нужно 8 января вернуться обратно, я буду с мужем и с ребёнком, найди билеты',\n",
              " {'entities': [(9, 11, 'FROM'),\n",
              "   (12, 24, 'LOC'),\n",
              "   (33, 43, 'DATE'),\n",
              "   (44, 45, 'TO'),\n",
              "   (46, 52, 'LOC'),\n",
              "   (54, 56, 'FROM'),\n",
              "   (57, 64, 'LOC'),\n",
              "   (71, 79, 'DATE'),\n",
              "   (90, 97, 'RETURN'),\n",
              "   (99, 126, 'AMOUNT')]})"
            ]
          },
          "metadata": {},
          "execution_count": 13
        }
      ]
    },
    {
      "cell_type": "code",
      "source": [
        "print_word_indices('планирую из Новокузнецка выехать 30 декабря в Ростов, из Ростова нужно 8 января вернуться обратно, я буду с мужем и с ребёнком, найди билеты')"
      ],
      "metadata": {
        "colab": {
          "base_uri": "https://localhost:8080/"
        },
        "id": "9XMXpu0seWDt",
        "outputId": "6a5255bf-d183-4e46-d1c2-10b5d869564a"
      },
      "execution_count": null,
      "outputs": [
        {
          "output_type": "stream",
          "name": "stdout",
          "text": [
            "планирую : 0 - 8\n",
            "из : 9 - 11\n",
            "Новокузнецка : 12 - 24\n",
            "выехать : 25 - 32\n",
            "30 : 33 - 35\n",
            "декабря : 36 - 43\n",
            "в : 44 - 45\n",
            "Ростов, : 46 - 52\n",
            "из : 54 - 56\n",
            "Ростова : 57 - 64\n",
            "нужно : 65 - 70\n",
            "8 : 71 - 72\n",
            "января : 73 - 79\n",
            "вернуться : 80 - 89\n",
            "обратно, : 90 - 97\n",
            "я : 99 - 100\n",
            "буду : 101 - 105\n",
            "с : 106 - 107\n",
            "мужем : 108 - 113\n",
            "и : 114 - 115\n",
            "с : 116 - 117\n",
            "ребёнком, : 118 - 126\n",
            "найди : 128 - 133\n",
            "билеты : 134 - 140\n"
          ]
        }
      ]
    },
    {
      "cell_type": "code",
      "source": [
        "# файл 007 whisper\n",
        "(\"с 1 июля по 1 августа я поеду из Краснодара в Уфу, мне нужны билеты\",\n",
        "{\"entities\": [\n",
        "    (0, 21, \"GAP\"),  # с 1 июля по 1 августа\n",
        "    (30, 32, \"FROM\"),  # из\n",
        "    (33, 43, \"LOC\"),  # Краснодара\n",
        "    (44, 45, \"TO\"),  # в\n",
        "    (46, 49, \"LOC\"),  # Уфу\n",
        "]})"
      ],
      "metadata": {
        "colab": {
          "base_uri": "https://localhost:8080/"
        },
        "id": "BWUoCSQHhpx0",
        "outputId": "d025df38-c55a-4087-d748-657e7de98de0"
      },
      "execution_count": null,
      "outputs": [
        {
          "output_type": "execute_result",
          "data": {
            "text/plain": [
              "('с 1 июля по 1 августа я поеду из Краснодара в Уфу, мне нужны билеты',\n",
              " {'entities': [(0, 21, 'GAP'),\n",
              "   (30, 32, 'FROM'),\n",
              "   (33, 43, 'LOC'),\n",
              "   (44, 45, 'TO'),\n",
              "   (46, 49, 'LOC')]})"
            ]
          },
          "metadata": {},
          "execution_count": 14
        }
      ]
    },
    {
      "cell_type": "code",
      "source": [
        "print_word_indices('с 1 июля по 1 августа я поеду из Краснодара в Уфу, мне нужны билеты')"
      ],
      "metadata": {
        "colab": {
          "base_uri": "https://localhost:8080/"
        },
        "id": "PnbGzIl8h3mq",
        "outputId": "228ea7cd-83ab-4880-bb45-d3b88be57ce8"
      },
      "execution_count": null,
      "outputs": [
        {
          "output_type": "stream",
          "name": "stdout",
          "text": [
            "с : 0 - 1\n",
            "1 : 2 - 3\n",
            "июля : 4 - 8\n",
            "по : 9 - 11\n",
            "1 : 12 - 13\n",
            "августа : 14 - 21\n",
            "я : 22 - 23\n",
            "поеду : 24 - 29\n",
            "из : 30 - 32\n",
            "Краснодара : 33 - 43\n",
            "в : 44 - 45\n",
            "Уфу, : 46 - 49\n",
            "мне : 51 - 54\n",
            "нужны : 55 - 60\n",
            "билеты : 61 - 67\n"
          ]
        }
      ]
    },
    {
      "cell_type": "code",
      "source": [
        "# файл 008 whisper\n",
        "(\"так найди-ка мне билеты из Сочи в Москву, у меня есть 5.000 и мне нужен билет на сегодня\",\n",
        "{\"entities\": [\n",
        "    (24, 26, \"FROM\"),  # из\n",
        "    (27, 31, \"LOC\"),  # Сочи\n",
        "    (32, 33, \"TO\"),  # в\n",
        "    (34, 40, \"LOC\"),  # Москву\n",
        "    (54, 59, \"BUDGET\"),   # 5.000\n",
        "    (78, 88, \"DATE\"),  # на сегодня\n",
        "]})"
      ],
      "metadata": {
        "colab": {
          "base_uri": "https://localhost:8080/"
        },
        "id": "DF94pjQek2TR",
        "outputId": "e108e4a1-6795-4362-9eba-77f9e44f146d"
      },
      "execution_count": null,
      "outputs": [
        {
          "output_type": "execute_result",
          "data": {
            "text/plain": [
              "('так найди-ка мне билеты из Сочи в Москву, у меня есть 5.000 и мне нужен билет на сегодня',\n",
              " {'entities': [(24, 26, 'FROM'),\n",
              "   (27, 31, 'LOC'),\n",
              "   (32, 33, 'TO'),\n",
              "   (34, 40, 'LOC'),\n",
              "   (54, 59, 'BUDGET'),\n",
              "   (78, 88, 'DATE')]})"
            ]
          },
          "metadata": {},
          "execution_count": 15
        }
      ]
    },
    {
      "cell_type": "code",
      "source": [
        "print_word_indices('так найди-ка мне билеты из Сочи в Москву, у меня есть 5.000 и мне нужен билет на сегодня')"
      ],
      "metadata": {
        "colab": {
          "base_uri": "https://localhost:8080/"
        },
        "id": "y1rQYX5kk7iK",
        "outputId": "362f7aa2-033b-4227-bfdf-97eefb90561d"
      },
      "execution_count": null,
      "outputs": [
        {
          "output_type": "stream",
          "name": "stdout",
          "text": [
            "так : 0 - 3\n",
            "найди-ка : 4 - 12\n",
            "мне : 13 - 16\n",
            "билеты : 17 - 23\n",
            "из : 24 - 26\n",
            "Сочи : 27 - 31\n",
            "в : 32 - 33\n",
            "Москву, : 34 - 40\n",
            "у : 42 - 43\n",
            "меня : 44 - 48\n",
            "есть : 49 - 53\n",
            "5.000 : 54 - 59\n",
            "и : 60 - 61\n",
            "мне : 62 - 65\n",
            "нужен : 66 - 71\n",
            "билет : 72 - 77\n",
            "на : 78 - 80\n",
            "сегодня : 81 - 88\n"
          ]
        }
      ]
    },
    {
      "cell_type": "code",
      "source": [
        "# файл 009 whisper\n",
        "(\"7 января хочу на самолете долететь из Омска в Тобольск, подбери билет, я буду одна, у меня с собой ручная кладь\",\n",
        "{\"entities\": [\n",
        "    (0, 8, \"DATE\"),  # 7 января\n",
        "    (14, 25, \"TRANSPORT\"),  # на самолете\n",
        "    (35, 37, \"FROM\"),  # из\n",
        "    (38, 43, \"LOC\"),  # Омска\n",
        "    (44, 45, \"TO\"),  # в\n",
        "    (46, 54, \"LOC\"),  # Тобольск\n",
        "    (71, 82, \"AMOUNT\"), # я буду одна\n",
        "    (99, 111, \"BAGG\"),    # ручная кладь\n",
        "]})"
      ],
      "metadata": {
        "colab": {
          "base_uri": "https://localhost:8080/"
        },
        "id": "NhdVgTNGmZca",
        "outputId": "5d147a43-f180-48ba-89ef-38be057138b8"
      },
      "execution_count": null,
      "outputs": [
        {
          "output_type": "execute_result",
          "data": {
            "text/plain": [
              "('7 января хочу на самолете долететь из Омска в Тобольск, подбери билет, я буду одна, у меня с собой ручная кладь',\n",
              " {'entities': [(0, 8, 'DATE'),\n",
              "   (14, 25, 'TRANSPORT'),\n",
              "   (35, 37, 'FROM'),\n",
              "   (38, 43, 'LOC'),\n",
              "   (44, 45, 'TO'),\n",
              "   (46, 54, 'LOC'),\n",
              "   (71, 82, 'AMOUNT'),\n",
              "   (99, 111, 'BAGG')]})"
            ]
          },
          "metadata": {},
          "execution_count": 16
        }
      ]
    },
    {
      "cell_type": "code",
      "source": [
        "print_word_indices('7 января хочу на самолете долететь из Омска в Тобольск, подбери билет, я буду одна, у меня с собой ручная кладь')"
      ],
      "metadata": {
        "colab": {
          "base_uri": "https://localhost:8080/"
        },
        "id": "HsQl71zymfXi",
        "outputId": "cc0ca7c5-ffd6-4833-c205-f4171559d4cc"
      },
      "execution_count": null,
      "outputs": [
        {
          "output_type": "stream",
          "name": "stdout",
          "text": [
            "7 : 0 - 1\n",
            "января : 2 - 8\n",
            "хочу : 9 - 13\n",
            "на : 14 - 16\n",
            "самолете : 17 - 25\n",
            "долететь : 26 - 34\n",
            "из : 35 - 37\n",
            "Омска : 38 - 43\n",
            "в : 44 - 45\n",
            "Тобольск, : 46 - 54\n",
            "подбери : 56 - 63\n",
            "билет, : 64 - 69\n",
            "я : 71 - 72\n",
            "буду : 73 - 77\n",
            "одна, : 78 - 82\n",
            "у : 84 - 85\n",
            "меня : 86 - 90\n",
            "с : 91 - 92\n",
            "собой : 93 - 98\n",
            "ручная : 99 - 105\n",
            "кладь : 106 - 111\n"
          ]
        }
      ]
    },
    {
      "cell_type": "code",
      "source": [
        "# файл 010 whisper\n",
        "(\"с 14 по 20 февраля я поеду из Твери в Москву и потом обратно, я буду одна, подбери самый дешёвый билет\",\n",
        "{\"entities\": [\n",
        "    (0, 18, \"GAP\"),  # с 14 по 20 февраля\n",
        "    (27, 29, \"FROM\"),  # из\n",
        "    (30, 35, \"LOC\"),  # Твери\n",
        "    (36, 37, \"TO\"),  # в\n",
        "    (38, 44, \"LOC\"),  # Москву\n",
        "    (53, 60, \"RETURN\"), # обратно\n",
        "    (62, 73, \"AMOUNT\"), # я буду одна\n",
        "    (75, 102, \"LEVEL\"), # подбери самый дешёвый билет\n",
        "]})"
      ],
      "metadata": {
        "colab": {
          "base_uri": "https://localhost:8080/"
        },
        "id": "XDFzw5MFp1mn",
        "outputId": "5f229f12-f8a3-4ca3-a166-5a35b5c54c8d"
      },
      "execution_count": null,
      "outputs": [
        {
          "output_type": "execute_result",
          "data": {
            "text/plain": [
              "('с 14 по 20 февраля я поеду из Твери в Москву и потом обратно, я буду одна, подбери самый дешёвый билет',\n",
              " {'entities': [(0, 18, 'GAP'),\n",
              "   (27, 29, 'FROM'),\n",
              "   (30, 35, 'LOC'),\n",
              "   (36, 37, 'TO'),\n",
              "   (38, 44, 'LOC'),\n",
              "   (53, 60, 'RETURN'),\n",
              "   (62, 73, 'AMOUNT'),\n",
              "   (75, 102, 'LEVEL')]})"
            ]
          },
          "metadata": {},
          "execution_count": 17
        }
      ]
    },
    {
      "cell_type": "code",
      "source": [
        "print_word_indices('с 14 по 20 февраля я поеду из Твери в Москву и потом обратно, я буду одна, подбери самый дешёвый билет')"
      ],
      "metadata": {
        "colab": {
          "base_uri": "https://localhost:8080/"
        },
        "id": "Pr-4ySsjp7F_",
        "outputId": "448ac6f0-a6ed-40ff-9419-9115add3f331"
      },
      "execution_count": null,
      "outputs": [
        {
          "output_type": "stream",
          "name": "stdout",
          "text": [
            "с : 0 - 1\n",
            "14 : 2 - 4\n",
            "по : 5 - 7\n",
            "20 : 8 - 10\n",
            "февраля : 11 - 18\n",
            "я : 19 - 20\n",
            "поеду : 21 - 26\n",
            "из : 27 - 29\n",
            "Твери : 30 - 35\n",
            "в : 36 - 37\n",
            "Москву : 38 - 44\n",
            "и : 45 - 46\n",
            "потом : 47 - 52\n",
            "обратно, : 53 - 60\n",
            "я : 62 - 63\n",
            "буду : 64 - 68\n",
            "одна, : 69 - 73\n",
            "подбери : 75 - 82\n",
            "самый : 83 - 88\n",
            "дешёвый : 89 - 96\n",
            "билет : 97 - 102\n"
          ]
        }
      ]
    },
    {
      "cell_type": "code",
      "source": [
        "# файл 011 whisper\n",
        "(\"хочу из Орла поехать в Пензу 20 марта и потом из Пензы мне нужно в Екатеринбург. это, наверное, число 25 марта. я буду одна, но у меня с собой будет чемодан, примерно 20 килограмм\",\n",
        "{\"entities\": [\n",
        "    (5, 7, \"FROM\"),  # из\n",
        "    (8, 12, \"LOC\"),  # Орла\n",
        "    (21, 22, \"TO\"),  # в\n",
        "    (30, 35, \"LOC\"),  # Пензу\n",
        "    (29, 37, \"DATE\"),  # 20 марта\n",
        "    (46, 48, \"FROM\"),  # из\n",
        "    (49, 54, \"LOC\"),  # Пензы\n",
        "    (65, 66, \"TO\"),  # в\n",
        "    (67, 79, \"LOC\"),  # Екатеринбург\n",
        "    (102, 110, \"DATE\"),  # 25 марта\n",
        "    (112, 123, \"AMOUNT\"), # я буду одна\n",
        "    (149, 179, \"BAGG\"),    # чемодан, примерно 20 килограмм\n",
        "]})"
      ],
      "metadata": {
        "colab": {
          "base_uri": "https://localhost:8080/"
        },
        "id": "SEjWVnW7siAG",
        "outputId": "f878972a-4aac-4207-f347-22cba018abc5"
      },
      "execution_count": null,
      "outputs": [
        {
          "output_type": "execute_result",
          "data": {
            "text/plain": [
              "('хочу из Орла поехать в Пензу 20 марта и потом из Пензы мне нужно в Екатеринбург. это, наверное, число 25 марта. я буду одна, но у меня с собой будет чемодан, примерно 20 килограмм',\n",
              " {'entities': [(5, 7, 'FROM'),\n",
              "   (8, 12, 'LOC'),\n",
              "   (21, 22, 'TO'),\n",
              "   (30, 35, 'LOC'),\n",
              "   (29, 37, 'DATE'),\n",
              "   (46, 48, 'FROM'),\n",
              "   (49, 54, 'LOC'),\n",
              "   (65, 66, 'TO'),\n",
              "   (67, 79, 'LOC'),\n",
              "   (102, 110, 'DATE'),\n",
              "   (112, 123, 'AMOUNT'),\n",
              "   (149, 179, 'BAGG')]})"
            ]
          },
          "metadata": {},
          "execution_count": 18
        }
      ]
    },
    {
      "cell_type": "code",
      "source": [
        "print_word_indices('хочу из Орла поехать в Пензу 20 марта и потом из Пензы мне нужно в Екатеринбург. это, наверное, число 25 марта. я буду одна, но у меня с собой будет чемодан, примерно 20 килограмм')"
      ],
      "metadata": {
        "colab": {
          "base_uri": "https://localhost:8080/"
        },
        "id": "_QxcJuvislfl",
        "outputId": "24cf3124-c397-4504-d42d-1d9ff70dd5b4"
      },
      "execution_count": null,
      "outputs": [
        {
          "output_type": "stream",
          "name": "stdout",
          "text": [
            "хочу : 0 - 4\n",
            "из : 5 - 7\n",
            "Орла : 8 - 12\n",
            "поехать : 13 - 20\n",
            "в : 21 - 22\n",
            "Пензу : 23 - 28\n",
            "20 : 29 - 31\n",
            "марта : 32 - 37\n",
            "и : 38 - 39\n",
            "потом : 40 - 45\n",
            "из : 46 - 48\n",
            "Пензы : 49 - 54\n",
            "мне : 55 - 58\n",
            "нужно : 59 - 64\n",
            "в : 65 - 66\n",
            "Екатеринбург. : 67 - 79\n",
            "это, : 81 - 84\n",
            "наверное, : 86 - 94\n",
            "число : 96 - 101\n",
            "25 : 102 - 104\n",
            "марта. : 105 - 110\n",
            "я : 112 - 113\n",
            "буду : 114 - 118\n",
            "одна, : 119 - 123\n",
            "но : 125 - 127\n",
            "у : 128 - 129\n",
            "меня : 130 - 134\n",
            "с : 135 - 136\n",
            "собой : 137 - 142\n",
            "будет : 143 - 148\n",
            "чемодан, : 149 - 156\n",
            "примерно : 158 - 166\n",
            "20 : 167 - 169\n",
            "килограмм : 170 - 179\n"
          ]
        }
      ]
    },
    {
      "cell_type": "code",
      "source": [
        "# файл 012 whisper\n",
        "(\"1 апреля я вылетаю из Москвы в Волгоград и из Волгограда мне нужно будет на поезде доехать до Нижневартовска, подбери билет и я буду с мужем.\",\n",
        "{\"entities\": [\n",
        "    (0, 8, \"DATE\"),  # 1 апреля\n",
        "    (11, 18, \"TRANSPORT\"),  # вылетаю\n",
        "    (19, 21, \"FROM\"),  # из\n",
        "    (22, 28, \"LOC\"),  # Москвы\n",
        "    (29, 30, \"TO\"),  # в\n",
        "    (31, 40, \"LOC\"),  # Волгоград\n",
        "    (43, 45, \"FROM\"),  # из\n",
        "    (46, 56, \"LOC\"),  # Волгограда\n",
        "    (73, 82, \"TRANSPORT\"),  # на поезде\n",
        "    (91, 93, \"TO\"),  # до\n",
        "    (94, 108, \"LOC\"),  # Нижневартовска\n",
        "    (126, 140, \"AMOUNT\"), # я буду с мужем\n",
        "]})"
      ],
      "metadata": {
        "colab": {
          "base_uri": "https://localhost:8080/"
        },
        "id": "WM3ylNT_u5_F",
        "outputId": "5cc6fb24-3af0-42db-d512-4cbaf1ec5f70"
      },
      "execution_count": null,
      "outputs": [
        {
          "output_type": "execute_result",
          "data": {
            "text/plain": [
              "('1 апреля я вылетаю из Москвы в Волгоград и из Волгограда мне нужно будет на поезде доехать до Нижневартовска, подбери билет и я буду с мужем.',\n",
              " {'entities': [(0, 8, 'DATE'),\n",
              "   (11, 18, 'TRANSPORT'),\n",
              "   (19, 21, 'FROM'),\n",
              "   (22, 28, 'LOC'),\n",
              "   (29, 30, 'TO'),\n",
              "   (31, 40, 'LOC'),\n",
              "   (43, 45, 'FROM'),\n",
              "   (46, 56, 'LOC'),\n",
              "   (73, 82, 'TRANSPORT'),\n",
              "   (91, 93, 'TO'),\n",
              "   (94, 108, 'LOC'),\n",
              "   (126, 140, 'AMOUNT')]})"
            ]
          },
          "metadata": {},
          "execution_count": 19
        }
      ]
    },
    {
      "cell_type": "code",
      "source": [
        "print_word_indices('1 апреля я вылетаю из Москвы в Волгоград и из Волгограда мне нужно будет на поезде доехать до Нижневартовска, подбери билет и я буду с мужем.')"
      ],
      "metadata": {
        "colab": {
          "base_uri": "https://localhost:8080/"
        },
        "id": "mKPre-fXvDlt",
        "outputId": "6a5552b2-d6a8-41e2-c814-cb2dcca46576"
      },
      "execution_count": null,
      "outputs": [
        {
          "output_type": "stream",
          "name": "stdout",
          "text": [
            "1 : 0 - 1\n",
            "апреля : 2 - 8\n",
            "я : 9 - 10\n",
            "вылетаю : 11 - 18\n",
            "из : 19 - 21\n",
            "Москвы : 22 - 28\n",
            "в : 29 - 30\n",
            "Волгоград : 31 - 40\n",
            "и : 41 - 42\n",
            "из : 43 - 45\n",
            "Волгограда : 46 - 56\n",
            "мне : 57 - 60\n",
            "нужно : 61 - 66\n",
            "будет : 67 - 72\n",
            "на : 73 - 75\n",
            "поезде : 76 - 82\n",
            "доехать : 83 - 90\n",
            "до : 91 - 93\n",
            "Нижневартовска, : 94 - 108\n",
            "подбери : 110 - 117\n",
            "билет : 118 - 123\n",
            "и : 124 - 125\n",
            "я : 126 - 127\n",
            "буду : 128 - 132\n",
            "с : 133 - 134\n",
            "мужем. : 135 - 140\n"
          ]
        }
      ]
    },
    {
      "cell_type": "code",
      "source": [
        "# файл 013 whisper\n",
        "(\"так с 1 по 9 мая я еду отдыхать в Сочи из Улан-удэ, я поеду с мужем и двумя детьми, подбери самые быстрые билеты.\",\n",
        "{\"entities\": [\n",
        "    (4, 16, \"GAP\"),  # с 1 по 9 мая\n",
        "    (32, 33, \"TO\"),  # в\n",
        "    (34, 38, \"LOC\"),  # Сочи\n",
        "    (39, 41, \"FROM\"),  # из\n",
        "    (42, 50, \"LOC\"),  # Улан-удэ\n",
        "    (52, 82, \"AMOUNT\"), # я поеду с мужем и двумя детьми\n",
        "    (84, 112, \"LEVEL\"), # подбери самые быстрые билеты\n",
        "]})"
      ],
      "metadata": {
        "colab": {
          "base_uri": "https://localhost:8080/"
        },
        "id": "82ViY4bixjkL",
        "outputId": "34401b63-cfe1-4fcc-cd50-e33252fdeb6f"
      },
      "execution_count": null,
      "outputs": [
        {
          "output_type": "execute_result",
          "data": {
            "text/plain": [
              "('так с 1 по 9 мая я еду отдыхать в Сочи из Улан-удэ, я поеду с мужем и двумя детьми, подбери самые быстрые билеты.',\n",
              " {'entities': [(4, 16, 'GAP'),\n",
              "   (32, 33, 'TO'),\n",
              "   (34, 38, 'LOC'),\n",
              "   (39, 41, 'FROM'),\n",
              "   (42, 50, 'LOC'),\n",
              "   (52, 82, 'AMOUNT'),\n",
              "   (84, 112, 'LEVEL')]})"
            ]
          },
          "metadata": {},
          "execution_count": 20
        }
      ]
    },
    {
      "cell_type": "code",
      "source": [
        "print_word_indices('так с 1 по 9 мая я еду отдыхать в Сочи из Улан-удэ, я поеду с мужем и двумя детьми, подбери самые быстрые билеты.')"
      ],
      "metadata": {
        "colab": {
          "base_uri": "https://localhost:8080/"
        },
        "id": "rHyp2-p-xrPS",
        "outputId": "f048345f-052e-4ff3-8a61-6b637972d2f6"
      },
      "execution_count": null,
      "outputs": [
        {
          "output_type": "stream",
          "name": "stdout",
          "text": [
            "так : 0 - 3\n",
            "с : 4 - 5\n",
            "1 : 6 - 7\n",
            "по : 8 - 10\n",
            "9 : 11 - 12\n",
            "мая : 13 - 16\n",
            "я : 17 - 18\n",
            "еду : 19 - 22\n",
            "отдыхать : 23 - 31\n",
            "в : 32 - 33\n",
            "Сочи : 34 - 38\n",
            "из : 39 - 41\n",
            "Улан-удэ, : 42 - 50\n",
            "я : 52 - 53\n",
            "поеду : 54 - 59\n",
            "с : 60 - 61\n",
            "мужем : 62 - 67\n",
            "и : 68 - 69\n",
            "двумя : 70 - 75\n",
            "детьми, : 76 - 82\n",
            "подбери : 84 - 91\n",
            "самые : 92 - 97\n",
            "быстрые : 98 - 105\n",
            "билеты. : 106 - 112\n"
          ]
        }
      ]
    },
    {
      "cell_type": "code",
      "source": [
        "# файл 014 whisper\n",
        "(\"с 3 по 17 июня я поеду из Нижневартовска в Астрахань, я буду с коллегой, нам нужно два билета туда-обратно.\",\n",
        "{\"entities\": [\n",
        "    (0, 14, \"GAP\"),  # с 3 по 17 июня\n",
        "    (23, 25, \"FROM\"),  # из\n",
        "    (26, 40, \"LOC\"),  # Нижневартовска\n",
        "    (41, 42, \"TO\"),  # в\n",
        "    (43, 52, \"LOC\"),  # Астрахань\n",
        "    (54, 71, \"AMOUNT\"), # я буду с коллегой\n",
        "    (83, 93, \"AMOUNT\"), # два билета\n",
        "    (94, 106, \"RETURN\"), # туда-обратно\n",
        "]})"
      ],
      "metadata": {
        "colab": {
          "base_uri": "https://localhost:8080/"
        },
        "id": "atlkoPRMzmQi",
        "outputId": "c6956531-35d8-4b85-b4e9-0f3016d02152"
      },
      "execution_count": null,
      "outputs": [
        {
          "output_type": "execute_result",
          "data": {
            "text/plain": [
              "('с 3 по 17 июня я поеду из Нижневартовска в Астрахань, я буду с коллегой, нам нужно два билета туда-обратно.',\n",
              " {'entities': [(0, 14, 'GAP'),\n",
              "   (23, 25, 'FROM'),\n",
              "   (26, 40, 'LOC'),\n",
              "   (41, 42, 'TO'),\n",
              "   (43, 52, 'LOC'),\n",
              "   (54, 71, 'AMOUNT'),\n",
              "   (83, 93, 'AMOUNT'),\n",
              "   (94, 106, 'RETURN')]})"
            ]
          },
          "metadata": {},
          "execution_count": 21
        }
      ]
    },
    {
      "cell_type": "code",
      "source": [
        "print_word_indices('с 3 по 17 июня я поеду из Нижневартовска в Астрахань, я буду с коллегой, нам нужно два билета туда-обратно.')"
      ],
      "metadata": {
        "colab": {
          "base_uri": "https://localhost:8080/"
        },
        "id": "6aPWp0PQzqwB",
        "outputId": "b85f8305-4a90-441a-9922-6ea33bfd154e"
      },
      "execution_count": null,
      "outputs": [
        {
          "output_type": "stream",
          "name": "stdout",
          "text": [
            "с : 0 - 1\n",
            "3 : 2 - 3\n",
            "по : 4 - 6\n",
            "17 : 7 - 9\n",
            "июня : 10 - 14\n",
            "я : 15 - 16\n",
            "поеду : 17 - 22\n",
            "из : 23 - 25\n",
            "Нижневартовска : 26 - 40\n",
            "в : 41 - 42\n",
            "Астрахань, : 43 - 52\n",
            "я : 54 - 55\n",
            "буду : 56 - 60\n",
            "с : 61 - 62\n",
            "коллегой, : 63 - 71\n",
            "нам : 73 - 76\n",
            "нужно : 77 - 82\n",
            "два : 83 - 86\n",
            "билета : 87 - 93\n",
            "туда-обратно. : 94 - 106\n"
          ]
        }
      ]
    },
    {
      "cell_type": "code",
      "source": [
        "# файл 015 whisper\n",
        "(\"так мне нужно из Краснодара на автобусе добраться до Сочи, посмотри пожалуйста билеты, у меня будет ручная кладь и ребёнок.\",\n",
        "{\"entities\": [\n",
        "    (14, 16, \"FROM\"),  # из\n",
        "    (17, 27, \"LOC\"),  # Краснодара\n",
        "    (31, 39, \"TRANSPORT\"),  # автобусе\n",
        "    (50, 52, \"TO\"),  # до\n",
        "    (53, 57, \"LOC\"),  # Сочи\n",
        "    (100, 112, \"BAGG\"),    # ручная кладь\n",
        "    (115, 122, \"CHILD\"),  # ребёнок\n",
        "]})"
      ],
      "metadata": {
        "colab": {
          "base_uri": "https://localhost:8080/"
        },
        "id": "Ab62JGgU1MT5",
        "outputId": "09489985-a2af-4291-c7de-df2c7b494249"
      },
      "execution_count": null,
      "outputs": [
        {
          "output_type": "execute_result",
          "data": {
            "text/plain": [
              "('так мне нужно из Краснодара на автобусе добраться до Сочи, посмотри пожалуйста билеты, у меня будет ручная кладь и ребёнок.',\n",
              " {'entities': [(14, 16, 'FROM'),\n",
              "   (17, 27, 'LOC'),\n",
              "   (31, 39, 'TRANSPORT'),\n",
              "   (50, 52, 'TO'),\n",
              "   (53, 57, 'LOC'),\n",
              "   (100, 112, 'BAGG'),\n",
              "   (115, 122, 'CHILD')]})"
            ]
          },
          "metadata": {},
          "execution_count": 22
        }
      ]
    },
    {
      "cell_type": "code",
      "source": [
        "print_word_indices('так мне нужно из Краснодара на автобусе добраться до Сочи, посмотри пожалуйста билеты, у меня будет ручная кладь и ребёнок.')"
      ],
      "metadata": {
        "colab": {
          "base_uri": "https://localhost:8080/"
        },
        "id": "BJFy0Nqb1Q9B",
        "outputId": "55f88fe9-441d-47b4-92cd-0b1b2ea575a4"
      },
      "execution_count": null,
      "outputs": [
        {
          "output_type": "stream",
          "name": "stdout",
          "text": [
            "так : 0 - 3\n",
            "мне : 4 - 7\n",
            "нужно : 8 - 13\n",
            "из : 14 - 16\n",
            "Краснодара : 17 - 27\n",
            "на : 28 - 30\n",
            "автобусе : 31 - 39\n",
            "добраться : 40 - 49\n",
            "до : 50 - 52\n",
            "Сочи, : 53 - 57\n",
            "посмотри : 59 - 67\n",
            "пожалуйста : 68 - 78\n",
            "билеты, : 79 - 85\n",
            "у : 87 - 88\n",
            "меня : 89 - 93\n",
            "будет : 94 - 99\n",
            "ручная : 100 - 106\n",
            "кладь : 107 - 112\n",
            "и : 113 - 114\n",
            "ребёнок. : 115 - 122\n"
          ]
        }
      ]
    },
    {
      "cell_type": "code",
      "source": [
        "# файл 016 whisper\n",
        "(\"получается 3 июля по 13 июля я поеду с ребёнком в Дагестан из Москвы, багаж будет 30 кг.\",\n",
        "{\"entities\": [\n",
        "    (11, 28, \"GAP\"),  # 3 июля по 13 июля\n",
        "    (29, 47, \"CHILD\"),  # с ребёнком\n",
        "    (48, 49, \"TO\"),  # в\n",
        "    (50, 58, \"LOC\"),  # Дагестан\n",
        "    (59, 61, \"FROM\"),  # из\n",
        "    (62, 68, \"LOC\"),  # Москвы\n",
        "    (70, 87, \"BAGG\"),    # багаж будет 30 кг\n",
        "]})"
      ],
      "metadata": {
        "colab": {
          "base_uri": "https://localhost:8080/"
        },
        "id": "qMLnd1-D3N3C",
        "outputId": "b8428647-d8b0-408b-f411-6e617a0a848f"
      },
      "execution_count": null,
      "outputs": [
        {
          "output_type": "execute_result",
          "data": {
            "text/plain": [
              "('получается 3 июля по 13 июля я поеду с ребёнком в Дагестан из Москвы, багаж будет 30 кг.',\n",
              " {'entities': [(11, 28, 'GAP'),\n",
              "   (29, 47, 'CHILD'),\n",
              "   (48, 49, 'TO'),\n",
              "   (50, 58, 'LOC'),\n",
              "   (59, 61, 'FROM'),\n",
              "   (62, 68, 'LOC'),\n",
              "   (70, 87, 'BAGG')]})"
            ]
          },
          "metadata": {},
          "execution_count": 23
        }
      ]
    },
    {
      "cell_type": "code",
      "source": [
        "print_word_indices('получается 3 июля по 13 июля я поеду с ребёнком в Дагестан из Москвы, багаж будет 30 кг.')"
      ],
      "metadata": {
        "colab": {
          "base_uri": "https://localhost:8080/"
        },
        "id": "oxfLpjcA3S9u",
        "outputId": "dbe363d6-bc44-4648-96e8-9c468d28172a"
      },
      "execution_count": null,
      "outputs": [
        {
          "output_type": "stream",
          "name": "stdout",
          "text": [
            "получается : 0 - 10\n",
            "3 : 11 - 12\n",
            "июля : 13 - 17\n",
            "по : 18 - 20\n",
            "13 : 21 - 23\n",
            "июля : 24 - 28\n",
            "я : 29 - 30\n",
            "поеду : 31 - 36\n",
            "с : 37 - 38\n",
            "ребёнком : 39 - 47\n",
            "в : 48 - 49\n",
            "Дагестан : 50 - 58\n",
            "из : 59 - 61\n",
            "Москвы, : 62 - 68\n",
            "багаж : 70 - 75\n",
            "будет : 76 - 81\n",
            "30 : 82 - 84\n",
            "кг. : 85 - 87\n"
          ]
        }
      ]
    },
    {
      "cell_type": "code",
      "source": [
        "# файл 017 whisper\n",
        "(\"2 августа я поеду из Астрахани в Махачкалу, подбери пожалуйста билет, у меня на поездку 7.000 руб.\",\n",
        "{\"entities\": [\n",
        "    (0, 9, \"DATE\"),  # 2 августа\n",
        "    (18, 20, \"FROM\"),  # из\n",
        "    (21, 30, \"LOC\"),  # Астрахани\n",
        "    (31, 32, \"TO\"),  # в\n",
        "    (33, 42, \"LOC\"),  # Махачкалу\n",
        "    (54, 59, \"BUDGET\"),  # 7.000 руб.\n",
        "]})"
      ],
      "metadata": {
        "colab": {
          "base_uri": "https://localhost:8080/"
        },
        "id": "iky9LAPTCizh",
        "outputId": "d5cc6306-f6cf-4929-fe07-bf0165ea8196"
      },
      "execution_count": null,
      "outputs": [
        {
          "output_type": "execute_result",
          "data": {
            "text/plain": [
              "('2 августа я поеду из Астрахани в Махачкалу, подбери пожалуйста билет, у меня на поездку 7.000 руб.',\n",
              " {'entities': [(0, 9, 'DATE'),\n",
              "   (18, 20, 'FROM'),\n",
              "   (21, 30, 'LOC'),\n",
              "   (31, 32, 'TO'),\n",
              "   (33, 42, 'LOC'),\n",
              "   (54, 59, 'BUDGET')]})"
            ]
          },
          "metadata": {},
          "execution_count": 24
        }
      ]
    },
    {
      "cell_type": "code",
      "source": [
        "print_word_indices('2 августа я поеду из Астрахани в Махачкалу, подбери пожалуйста билет, у меня на поездку 7.000 руб.')"
      ],
      "metadata": {
        "colab": {
          "base_uri": "https://localhost:8080/"
        },
        "id": "drkEa1NqClto",
        "outputId": "ff1ab8c5-2c63-44ab-addf-fe0868a7f5b8"
      },
      "execution_count": null,
      "outputs": [
        {
          "output_type": "stream",
          "name": "stdout",
          "text": [
            "2 : 0 - 1\n",
            "августа : 2 - 9\n",
            "я : 10 - 11\n",
            "поеду : 12 - 17\n",
            "из : 18 - 20\n",
            "Астрахани : 21 - 30\n",
            "в : 31 - 32\n",
            "Махачкалу, : 33 - 42\n",
            "подбери : 44 - 51\n",
            "пожалуйста : 52 - 62\n",
            "билет, : 63 - 68\n",
            "у : 70 - 71\n",
            "меня : 72 - 76\n",
            "на : 77 - 79\n",
            "поездку : 80 - 87\n",
            "7.000 : 88 - 93\n",
            "руб. : 94 - 97\n"
          ]
        }
      ]
    },
    {
      "cell_type": "code",
      "source": [
        "# файл 018 whisper\n",
        "(\"так я из Нефтекамска хочу поехать в Улан-удэ, это будет значит с 8 сентября по 19 число, подбери билет туда-обратно и у меня поедет муж, а ему нужно обязательно на поезде нижняя полочка.\",\n",
        "{\"entities\": [\n",
        "    (6, 8, \"FROM\"),  # из\n",
        "    (9, 20, \"LOC\"),  # Нефтекамска\n",
        "    (34, 35, \"TO\"),  # в\n",
        "    (36, 44, \"LOC\"),  # Улан-удэ\n",
        "    (63, 81, \"GAP\"),  # с 8 сентября по 19\n",
        "    (103, 115, \"RETURN\"),  # туда-обратно\n",
        "    (118, 135, \"AMOUNT\"),  # у меня поедет муж\n",
        "    (164, 170, \"TRANSPORT\"),  # поезде\n",
        "    (171, 185, \"COMFORT\"),  # нижняя полочка\n",
        "\n",
        "]})"
      ],
      "metadata": {
        "colab": {
          "base_uri": "https://localhost:8080/"
        },
        "id": "Gmnfr208S37A",
        "outputId": "df1dcce0-3673-4045-f427-10007d24577e"
      },
      "execution_count": null,
      "outputs": [
        {
          "output_type": "execute_result",
          "data": {
            "text/plain": [
              "('так я из Нефтекамска хочу поехать в Улан-удэ, это будет значит с 8 сентября по 19 число, подбери билет туда-обратно и у меня поедет муж, а ему нужно обязательно на поезде нижняя полочка.',\n",
              " {'entities': [(6, 8, 'FROM'),\n",
              "   (9, 20, 'LOC'),\n",
              "   (34, 35, 'TO'),\n",
              "   (36, 44, 'LOC'),\n",
              "   (63, 81, 'GAP'),\n",
              "   (103, 115, 'RETURN'),\n",
              "   (118, 135, 'AMOUNT'),\n",
              "   (164, 170, 'TRANSPORT'),\n",
              "   (171, 185, 'COMFORT')]})"
            ]
          },
          "metadata": {},
          "execution_count": 26
        }
      ]
    },
    {
      "cell_type": "code",
      "source": [
        "print_word_indices('так я из Нефтекамска хочу поехать в Улан-удэ, это будет значит с 8 сентября по 19 число, подбери билет туда-обратно и у меня поедет муж, а ему нужно обязательно на поезде нижняя полочка.')"
      ],
      "metadata": {
        "colab": {
          "base_uri": "https://localhost:8080/"
        },
        "id": "nv3nxvQMS-8v",
        "outputId": "b61a6780-7029-41d6-ef6d-f6f07a7f3602"
      },
      "execution_count": null,
      "outputs": [
        {
          "output_type": "stream",
          "name": "stdout",
          "text": [
            "так : 0 - 3\n",
            "я : 4 - 5\n",
            "из : 6 - 8\n",
            "Нефтекамска : 9 - 20\n",
            "хочу : 21 - 25\n",
            "поехать : 26 - 33\n",
            "в : 34 - 35\n",
            "Улан-удэ, : 36 - 44\n",
            "это : 46 - 49\n",
            "будет : 50 - 55\n",
            "значит : 56 - 62\n",
            "с : 63 - 64\n",
            "8 : 65 - 66\n",
            "сентября : 67 - 75\n",
            "по : 76 - 78\n",
            "19 : 79 - 81\n",
            "число, : 82 - 87\n",
            "подбери : 89 - 96\n",
            "билет : 97 - 102\n",
            "туда-обратно : 103 - 115\n",
            "и : 116 - 117\n",
            "у : 118 - 119\n",
            "меня : 120 - 124\n",
            "поедет : 125 - 131\n",
            "муж, : 132 - 135\n",
            "а : 137 - 138\n",
            "ему : 139 - 142\n",
            "нужно : 143 - 148\n",
            "обязательно : 149 - 160\n",
            "на : 161 - 163\n",
            "поезде : 164 - 170\n",
            "нижняя : 171 - 177\n",
            "полочка. : 178 - 185\n"
          ]
        }
      ]
    },
    {
      "cell_type": "code",
      "source": [
        "# файл 019 whisper\n",
        "(\"так 18 октября я поеду в командировку на Шарам, вот и я там буду неделю, и мне нужен билет, я поеду из Омска, посмотри как быстрее всего добраться.\",\n",
        "{\"entities\": [\n",
        "    (4, 14, \"DATE\"),  # 18 октября\n",
        "    (38, 40, \"TO\"),  # на\n",
        "    (41, 46, \"LOC\"),  # Шарам\n",
        "    (100, 102, \"FROM\"),  # из\n",
        "    (103, 108, \"LOC\"),  # Омска\n",
        "]})"
      ],
      "metadata": {
        "colab": {
          "base_uri": "https://localhost:8080/"
        },
        "id": "rNzIYf-OWspv",
        "outputId": "be636ecc-7442-46d2-a209-c8385fcd9f21"
      },
      "execution_count": null,
      "outputs": [
        {
          "output_type": "execute_result",
          "data": {
            "text/plain": [
              "('так 18 октября я поеду в командировку на Шарам, вот и я там буду неделю, и мне нужен билет, я поеду из Омска, посмотри как быстрее всего добраться.',\n",
              " {'entities': [(4, 14, 'DATE'),\n",
              "   (38, 40, 'TO'),\n",
              "   (41, 46, 'LOC'),\n",
              "   (100, 102, 'FROM'),\n",
              "   (103, 108, 'LOC')]})"
            ]
          },
          "metadata": {},
          "execution_count": 28
        }
      ]
    },
    {
      "cell_type": "code",
      "source": [
        "print_word_indices('так 18 октября я поеду в командировку на Шарам, вот и я там буду неделю, и мне нужен билет, я поеду из Омска, посмотри как быстрее всего добраться.')"
      ],
      "metadata": {
        "colab": {
          "base_uri": "https://localhost:8080/"
        },
        "id": "hDGwQJb1WyOP",
        "outputId": "edf02c7d-fd28-4f0b-8635-29d0f7b882d2"
      },
      "execution_count": null,
      "outputs": [
        {
          "output_type": "stream",
          "name": "stdout",
          "text": [
            "так : 0 - 3\n",
            "18 : 4 - 6\n",
            "октября : 7 - 14\n",
            "я : 15 - 16\n",
            "поеду : 17 - 22\n",
            "в : 23 - 24\n",
            "командировку : 25 - 37\n",
            "на : 38 - 40\n",
            "Шарам, : 41 - 46\n",
            "вот : 48 - 51\n",
            "и : 52 - 53\n",
            "я : 54 - 55\n",
            "там : 56 - 59\n",
            "буду : 60 - 64\n",
            "неделю, : 65 - 71\n",
            "и : 73 - 74\n",
            "мне : 75 - 78\n",
            "нужен : 79 - 84\n",
            "билет, : 85 - 90\n",
            "я : 92 - 93\n",
            "поеду : 94 - 99\n",
            "из : 100 - 102\n",
            "Омска, : 103 - 108\n",
            "посмотри : 110 - 118\n",
            "как : 119 - 122\n",
            "быстрее : 123 - 130\n",
            "всего : 131 - 136\n",
            "добраться. : 137 - 146\n"
          ]
        }
      ]
    },
    {
      "cell_type": "code",
      "source": [
        "# файл 020 whisper\n",
        "(\"15 ноября я поеду в Нальчик. Я поеду из Томска. Найди, пожалуйста, мне билеты до 10 тысяч рублей.\",\n",
        "{\"entities\": [\n",
        "    (0, 9, \"DATE\"),  # 15 ноября\n",
        "    (18, 19, \"TO\"),  # в\n",
        "    (20, 27, \"LOC\"),  # Нальчик\n",
        "    (37, 39, \"FROM\"),  # из\n",
        "    (40, 46, \"LOC\"),  # Томска\n",
        "    (81, 96, \"BUDGET\"),  # 10 тысяч рублей.\n",
        "]})"
      ],
      "metadata": {
        "colab": {
          "base_uri": "https://localhost:8080/"
        },
        "id": "9WqWlZprYQMo",
        "outputId": "fe52d34c-6055-4fca-f664-2a304c22e8fd"
      },
      "execution_count": null,
      "outputs": [
        {
          "output_type": "execute_result",
          "data": {
            "text/plain": [
              "('15 ноября я поеду в Нальчик. Я поеду из Томска. Найди, пожалуйста, мне билеты до 10 тысяч рублей.',\n",
              " {'entities': [(0, 9, 'DATE'),\n",
              "   (18, 19, 'TO'),\n",
              "   (20, 27, 'LOC'),\n",
              "   (37, 39, 'FROM'),\n",
              "   (40, 46, 'LOC'),\n",
              "   (81, 96, 'BUDGET')]})"
            ]
          },
          "metadata": {},
          "execution_count": 30
        }
      ]
    },
    {
      "cell_type": "code",
      "source": [
        "print_word_indices('15 ноября я поеду в Нальчик. Я поеду из Томска. Найди, пожалуйста, мне билеты до 10 тысяч рублей.')"
      ],
      "metadata": {
        "colab": {
          "base_uri": "https://localhost:8080/"
        },
        "id": "8FOpkrXhYWWw",
        "outputId": "979017ce-5d3f-4fd5-97e4-0d3058a1c85a"
      },
      "execution_count": null,
      "outputs": [
        {
          "output_type": "stream",
          "name": "stdout",
          "text": [
            "15 : 0 - 2\n",
            "ноября : 3 - 9\n",
            "я : 10 - 11\n",
            "поеду : 12 - 17\n",
            "в : 18 - 19\n",
            "Нальчик. : 20 - 27\n",
            "Я : 29 - 30\n",
            "поеду : 31 - 36\n",
            "из : 37 - 39\n",
            "Томска. : 40 - 46\n",
            "Найди, : 48 - 53\n",
            "пожалуйста, : 55 - 65\n",
            "мне : 67 - 70\n",
            "билеты : 71 - 77\n",
            "до : 78 - 80\n",
            "10 : 81 - 83\n",
            "тысяч : 84 - 89\n",
            "рублей. : 90 - 96\n"
          ]
        }
      ]
    },
    {
      "cell_type": "code",
      "source": [
        "# файл 021 whisper\n",
        "(\"6 декабря 6 декабря точнее А так значит по 10 декабря Я еду в Москву из Норильска Мне нужен самый быстрый билет Найди пожалуйста.\",\n",
        "{\"entities\": [\n",
        "    (0, 9, \"DATE\"),  # 6 декабря\n",
        "    (10, 53, \"GAP\"),  # 6 декабря точнее А так значит по 10 декабря\n",
        "    (60, 61, \"TO\"),  # в\n",
        "    (62, 68, \"LOC\"),  # Москву\n",
        "    (69, 71, \"FROM\"),  # из\n",
        "    (72, 81, \"LOC\"),  # Норильска\n",
        "    (92, 111, \"COMFORT\"),  # самый быстрый билет\n",
        "]})"
      ],
      "metadata": {
        "colab": {
          "base_uri": "https://localhost:8080/"
        },
        "id": "fTXwwrs-eVkv",
        "outputId": "e3f8544d-6c29-4779-e8ce-14fb3622be25"
      },
      "execution_count": null,
      "outputs": [
        {
          "output_type": "execute_result",
          "data": {
            "text/plain": [
              "('6 декабря 6 декабря точнее А так значит по 10 декабря Я еду в Москву из Норильска Мне нужен самый быстрый билет Найди пожалуйста.',\n",
              " {'entities': [(0, 9, 'DATE'),\n",
              "   (10, 53, 'GAP'),\n",
              "   (60, 61, 'TO'),\n",
              "   (62, 68, 'LOC'),\n",
              "   (69, 71, 'FROM'),\n",
              "   (72, 81, 'LOC'),\n",
              "   (92, 111, 'COMFORT')]})"
            ]
          },
          "metadata": {},
          "execution_count": 36
        }
      ]
    },
    {
      "cell_type": "code",
      "source": [
        "print_word_indices('6 декабря 6 декабря точнее А так значит по 10 декабря Я еду в Москву из Норильска Мне нужен самый быстрый билет Найди пожалуйста.')"
      ],
      "metadata": {
        "colab": {
          "base_uri": "https://localhost:8080/"
        },
        "id": "9Qg8DE-xeeLf",
        "outputId": "d3d7d02e-8918-4c7f-857a-4ae238acdc78"
      },
      "execution_count": null,
      "outputs": [
        {
          "output_type": "stream",
          "name": "stdout",
          "text": [
            "6 : 0 - 1\n",
            "декабря : 2 - 9\n",
            "6 : 10 - 11\n",
            "декабря : 12 - 19\n",
            "точнее : 20 - 26\n",
            "А : 27 - 28\n",
            "так : 29 - 32\n",
            "значит : 33 - 39\n",
            "по : 40 - 42\n",
            "10 : 43 - 45\n",
            "декабря : 46 - 53\n",
            "Я : 54 - 55\n",
            "еду : 56 - 59\n",
            "в : 60 - 61\n",
            "Москву : 62 - 68\n",
            "из : 69 - 71\n",
            "Норильска : 72 - 81\n",
            "Мне : 82 - 85\n",
            "нужен : 86 - 91\n",
            "самый : 92 - 97\n",
            "быстрый : 98 - 105\n",
            "билет : 106 - 111\n",
            "Найди : 112 - 117\n",
            "пожалуйста. : 118 - 128\n"
          ]
        }
      ]
    },
    {
      "cell_type": "code",
      "source": [
        "# файл 022 whisper\n",
        "(\"Покажи сегодня ближайшие рейсы до Екатеринбурга. Можно с пересадкой в Новосибирск, транзит. Только, пожалуйста, ближайшие покажи мне сегодня.\",\n",
        "{\"entities\": [\n",
        "    (7, 14, \"DATE\"),  # сегодня\n",
        "    (31, 33, \"TO\"),  # до\n",
        "    (34, 47, \"LOC\"),  # Екатеринбурга\n",
        "    (68, 69, \"TO\"),  # в\n",
        "    (20, 27, \"LOC\"),  # Новосибирск\n",
        "    (55, 67, \"TRANSIT\"),  # транзит\n",
        "    (133, 140, \"DATE\"),  # сегодня.\n",
        "]})"
      ],
      "metadata": {
        "colab": {
          "base_uri": "https://localhost:8080/"
        },
        "id": "bzOOGe31Z2ee",
        "outputId": "db65408c-a435-4998-aedd-408a9b63d802"
      },
      "execution_count": null,
      "outputs": [
        {
          "output_type": "execute_result",
          "data": {
            "text/plain": [
              "('Покажи сегодня ближайшие рейсы до Екатеринбурга. Можно с пересадкой в Новосибирск, транзит. Только, пожалуйста, ближайшие покажи мне сегодня.',\n",
              " {'entities': [(7, 14, 'DATE'),\n",
              "   (31, 33, 'TO'),\n",
              "   (34, 47, 'LOC'),\n",
              "   (68, 69, 'TO'),\n",
              "   (20, 27, 'LOC'),\n",
              "   (55, 67, 'TRANSIT'),\n",
              "   (133, 140, 'DATE')]})"
            ]
          },
          "metadata": {},
          "execution_count": 41
        }
      ]
    },
    {
      "cell_type": "code",
      "source": [
        "print_word_indices('Покажи сегодня ближайшие рейсы до Екатеринбурга. Можно с пересадкой в Новосибирск, транзит. Только, пожалуйста, ближайшие покажи мне сегодня.')"
      ],
      "metadata": {
        "colab": {
          "base_uri": "https://localhost:8080/"
        },
        "id": "UJe6kc78Z5XX",
        "outputId": "10550f7f-41b2-4f01-fee6-57b719324f5b"
      },
      "execution_count": null,
      "outputs": [
        {
          "output_type": "stream",
          "name": "stdout",
          "text": [
            "Покажи : 0 - 6\n",
            "сегодня : 7 - 14\n",
            "ближайшие : 15 - 24\n",
            "рейсы : 25 - 30\n",
            "до : 31 - 33\n",
            "Екатеринбурга. : 34 - 47\n",
            "Можно : 49 - 54\n",
            "с : 55 - 56\n",
            "пересадкой : 57 - 67\n",
            "в : 68 - 69\n",
            "Новосибирск, : 70 - 81\n",
            "транзит. : 83 - 90\n",
            "Только, : 92 - 98\n",
            "пожалуйста, : 100 - 110\n",
            "ближайшие : 112 - 121\n",
            "покажи : 122 - 128\n",
            "мне : 129 - 132\n",
            "сегодня. : 133 - 140\n"
          ]
        }
      ]
    },
    {
      "cell_type": "code",
      "source": [
        "# файл 023 whisper\n",
        "(\"Поезда отменили. Покажи ближайший самолет до Кавменвод из Краснодара на завтра, 5 число утра.\",\n",
        "{\"entities\": [\n",
        "    (0, 6, \"TRANSPORT\"),  # Поезда\n",
        "    (34, 41, \"TRANSPORT\"),  # самолет\n",
        "    (42, 44, \"TO\"),  # до\n",
        "    (45, 54, \"LOC\"),  # Кавменвод\n",
        "    (55, 57, \"FROM\"),  # из\n",
        "    (58, 68, \"LOC\"),  # Краснодара\n",
        "    (72, 78, \"DATE\"),  # завтра\n",
        "    (80, 92, \"DATE\"),  # 5 число утра.\n",
        "]})"
      ],
      "metadata": {
        "colab": {
          "base_uri": "https://localhost:8080/"
        },
        "id": "45Mwshr_duIg",
        "outputId": "59b4a0d6-3650-449c-d6e9-33cd326f2969"
      },
      "execution_count": null,
      "outputs": [
        {
          "output_type": "execute_result",
          "data": {
            "text/plain": [
              "('Поезда отменили. Покажи ближайший самолет до Кавменвод из Краснодара на завтра, 5 число утра.',\n",
              " {'entities': [(0, 6, 'TRANSPORT'),\n",
              "   (34, 41, 'TRANSPORT'),\n",
              "   (42, 44, 'TO'),\n",
              "   (45, 54, 'LOC'),\n",
              "   (55, 57, 'FROM'),\n",
              "   (58, 68, 'LOC'),\n",
              "   (72, 78, 'DATE'),\n",
              "   (80, 92, 'DATE')]})"
            ]
          },
          "metadata": {},
          "execution_count": 43
        }
      ]
    },
    {
      "cell_type": "code",
      "source": [
        "print_word_indices('Поезда отменили. Покажи ближайший самолет до Кавменвод из Краснодара на завтра, 5 число утра.')"
      ],
      "metadata": {
        "colab": {
          "base_uri": "https://localhost:8080/"
        },
        "id": "BDVnHS0qdxgv",
        "outputId": "29ce5b6d-eb0a-4ae9-ada7-677997a951dc"
      },
      "execution_count": null,
      "outputs": [
        {
          "output_type": "stream",
          "name": "stdout",
          "text": [
            "Поезда : 0 - 6\n",
            "отменили. : 7 - 15\n",
            "Покажи : 17 - 23\n",
            "ближайший : 24 - 33\n",
            "самолет : 34 - 41\n",
            "до : 42 - 44\n",
            "Кавменвод : 45 - 54\n",
            "из : 55 - 57\n",
            "Краснодара : 58 - 68\n",
            "на : 69 - 71\n",
            "завтра, : 72 - 78\n",
            "5 : 80 - 81\n",
            "число : 82 - 87\n",
            "утра. : 88 - 92\n"
          ]
        }
      ]
    },
    {
      "cell_type": "code",
      "source": [
        "# файл 024 whisper\n",
        "(\"Посмотри пожалуйста есть ли электрички от Тулы до Москвы на эти выходные 5-6 октября. Любое время все что есть найди покажи.\",\n",
        "{\"entities\": [\n",
        "    (28, 38, \"TRANSPORT\"),  # электрички\n",
        "    (39, 41, \"FROM\"),  # от\n",
        "    (42, 46, \"LOC\"),  # Тулы\n",
        "    (47, 49, \"TO\"),  # до\n",
        "    (50, 56, \"LOC\"),  # Москвы\n",
        "    (73, 84, \"DATE\"),  # 5-6 октября\n",
        "]})"
      ],
      "metadata": {
        "colab": {
          "base_uri": "https://localhost:8080/"
        },
        "id": "hPjzx_-klTeo",
        "outputId": "7e394373-3be7-4011-a021-f99e8094ab58"
      },
      "execution_count": null,
      "outputs": [
        {
          "output_type": "execute_result",
          "data": {
            "text/plain": [
              "('Посмотри пожалуйста есть ли электрички от Тулы до Москвы на эти выходные 5-6 октября. Любое время все что есть найди покажи.',\n",
              " {'entities': [(28, 38, 'TRANSPORT'),\n",
              "   (39, 41, 'FROM'),\n",
              "   (42, 46, 'LOC'),\n",
              "   (47, 49, 'TO'),\n",
              "   (50, 56, 'LOC'),\n",
              "   (73, 84, 'DATE')]})"
            ]
          },
          "metadata": {},
          "execution_count": 46
        }
      ]
    },
    {
      "cell_type": "code",
      "source": [
        "print_word_indices('Посмотри пожалуйста есть ли электрички от Тулы до Москвы на эти выходные 5-6 октября. Любое время все что есть найди покажи.')"
      ],
      "metadata": {
        "colab": {
          "base_uri": "https://localhost:8080/"
        },
        "id": "Zz-wr2eVlXVP",
        "outputId": "6cea54a8-98fd-4c7b-8e1c-afd626d22e5f"
      },
      "execution_count": null,
      "outputs": [
        {
          "output_type": "stream",
          "name": "stdout",
          "text": [
            "Посмотри : 0 - 8\n",
            "пожалуйста : 9 - 19\n",
            "есть : 20 - 24\n",
            "ли : 25 - 27\n",
            "электрички : 28 - 38\n",
            "от : 39 - 41\n",
            "Тулы : 42 - 46\n",
            "до : 47 - 49\n",
            "Москвы : 50 - 56\n",
            "на : 57 - 59\n",
            "эти : 60 - 63\n",
            "выходные : 64 - 72\n",
            "5-6 : 73 - 76\n",
            "октября. : 77 - 84\n",
            "Любое : 86 - 91\n",
            "время : 92 - 97\n",
            "все : 98 - 101\n",
            "что : 102 - 105\n",
            "есть : 106 - 110\n",
            "найди : 111 - 116\n",
            "покажи. : 117 - 123\n"
          ]
        }
      ]
    },
    {
      "cell_type": "code",
      "source": [
        "# файл 025 whisper\n",
        "(\"Срочно покажи поезд ближайший на сегодня 20 ноября из Комсомольска на Амуре до Хабаровска, ближайший, который есть, с прибытием не позже шести утра следующего дня.\",\n",
        "{\"entities\": [\n",
        "    (14, 19, \"TRANSPORT\"),  # поезд\n",
        "    (41, 50, \"DATE\"),  # 20 ноября\n",
        "    (51, 53, \"FROM\"),  # из\n",
        "    (54, 75, \"LOC\"),  # Комсомольска на Амуре\n",
        "    (76, 78, \"TO\"),  # до\n",
        "    (79, 89, \"LOC\"),  # Хабаровска\n",
        "    (116, 162, \"DATE\"),  # с прибытием не позже шести утра следующего дня.\n",
        "]})"
      ],
      "metadata": {
        "colab": {
          "base_uri": "https://localhost:8080/"
        },
        "id": "8mSqYvILqXBS",
        "outputId": "043399ef-9b4f-41e6-e7cd-d023d3a08390"
      },
      "execution_count": null,
      "outputs": [
        {
          "output_type": "execute_result",
          "data": {
            "text/plain": [
              "('Срочно покажи поезд ближайший на сегодня 20 ноября из Комсомольска на Амуре до Хабаровска, ближайший, который есть, с прибытием не позже шести утра следующего дня.',\n",
              " {'entities': [(14, 19, 'TRANSPORT'),\n",
              "   (41, 50, 'DATE'),\n",
              "   (51, 53, 'FROM'),\n",
              "   (54, 75, 'LOC'),\n",
              "   (76, 78, 'TO'),\n",
              "   (79, 89, 'LOC'),\n",
              "   (116, 162, 'DATE')]})"
            ]
          },
          "metadata": {},
          "execution_count": 48
        }
      ]
    },
    {
      "cell_type": "code",
      "source": [
        "print_word_indices('Срочно покажи поезд ближайший на сегодня 20 ноября из Комсомольска на Амуре до Хабаровска, ближайший, который есть, с прибытием не позже шести утра следующего дня.')"
      ],
      "metadata": {
        "colab": {
          "base_uri": "https://localhost:8080/"
        },
        "id": "6yDVC7N8qbvA",
        "outputId": "194a834b-530d-470f-8b10-92b95584056c"
      },
      "execution_count": null,
      "outputs": [
        {
          "output_type": "stream",
          "name": "stdout",
          "text": [
            "Срочно : 0 - 6\n",
            "покажи : 7 - 13\n",
            "поезд : 14 - 19\n",
            "ближайший : 20 - 29\n",
            "на : 30 - 32\n",
            "сегодня : 33 - 40\n",
            "20 : 41 - 43\n",
            "ноября : 44 - 50\n",
            "из : 51 - 53\n",
            "Комсомольска : 54 - 66\n",
            "на : 67 - 69\n",
            "Амуре : 70 - 75\n",
            "до : 76 - 78\n",
            "Хабаровска, : 79 - 89\n",
            "ближайший, : 91 - 100\n",
            "который : 102 - 109\n",
            "есть, : 110 - 114\n",
            "с : 116 - 117\n",
            "прибытием : 118 - 127\n",
            "не : 128 - 130\n",
            "позже : 131 - 136\n",
            "шести : 137 - 142\n",
            "утра : 143 - 147\n",
            "следующего : 148 - 158\n",
            "дня. : 159 - 162\n"
          ]
        }
      ]
    },
    {
      "cell_type": "code",
      "source": [
        "# файл 026 whisper\n",
        "(\"покажи мне, вообще, все варианты полетов из Кавминвод до Вилюйска, неважно пересадки, не важно время, главное чтобы вылет был послезавтра 7 июля.\",\n",
        "{\"entities\": [\n",
        "    (33, 40, \"TRANSPORT\"),  # полетов\n",
        "    (41, 43, \"FROM\"),  # из\n",
        "    (44, 53, \"LOC\"),  # Кавминвод\n",
        "    (54, 56, \"TO\"),  # до\n",
        "    (57, 65, \"LOC\"),  # Вилюйска\n",
        "    (138, 144, \"DATE\"),  # 7 июля.\n",
        "]})"
      ],
      "metadata": {
        "colab": {
          "base_uri": "https://localhost:8080/"
        },
        "id": "512RlFZlrn1Q",
        "outputId": "fd89eb00-39c0-4247-ed8f-aa87a7b7ec1a"
      },
      "execution_count": null,
      "outputs": [
        {
          "output_type": "execute_result",
          "data": {
            "text/plain": [
              "('покажи мне, вообще, все варианты полетов из Кавминвод до Вилюйска, неважно пересадки, не важно время, главное чтобы вылет был послезавтра 7 июля.',\n",
              " {'entities': [(33, 40, 'TRANSPORT'),\n",
              "   (41, 43, 'FROM'),\n",
              "   (44, 53, 'LOC'),\n",
              "   (54, 56, 'TO'),\n",
              "   (57, 65, 'LOC'),\n",
              "   (138, 144, 'DATE')]})"
            ]
          },
          "metadata": {},
          "execution_count": 50
        }
      ]
    },
    {
      "cell_type": "code",
      "source": [
        "print_word_indices('покажи мне, вообще, все варианты полетов из Кавминвод до Вилюйска, неважно пересадки, не важно время, главное чтобы вылет был послезавтра 7 июля.')"
      ],
      "metadata": {
        "colab": {
          "base_uri": "https://localhost:8080/"
        },
        "id": "RhZ8msM7rrxX",
        "outputId": "2e6a9c6f-fc73-42a2-9fa7-8585a5783b64"
      },
      "execution_count": null,
      "outputs": [
        {
          "output_type": "stream",
          "name": "stdout",
          "text": [
            "покажи : 0 - 6\n",
            "мне, : 7 - 10\n",
            "вообще, : 12 - 18\n",
            "все : 20 - 23\n",
            "варианты : 24 - 32\n",
            "полетов : 33 - 40\n",
            "из : 41 - 43\n",
            "Кавминвод : 44 - 53\n",
            "до : 54 - 56\n",
            "Вилюйска, : 57 - 65\n",
            "неважно : 67 - 74\n",
            "пересадки, : 75 - 84\n",
            "не : 86 - 88\n",
            "важно : 89 - 94\n",
            "время, : 95 - 100\n",
            "главное : 102 - 109\n",
            "чтобы : 110 - 115\n",
            "вылет : 116 - 121\n",
            "был : 122 - 125\n",
            "послезавтра : 126 - 137\n",
            "7 : 138 - 139\n",
            "июля. : 140 - 144\n"
          ]
        }
      ]
    },
    {
      "cell_type": "code",
      "source": [
        "# файл 027 whisper\n",
        "(\"покажи мне на декабрь, к примеру, 5 декабря, самолеты из Москвы до Петропавловска-Камчатский интересные варианты, которые будут прямые, без пересадки, обратно пока не показывай.\",\n",
        "{\"entities\": [\n",
        "    (11, 21, \"DATE\"),  # на декабрь\n",
        "    (34, 43, \"DATE\"),  # 5 декабря\n",
        "    (45, 53, \"TRANSPORT\"),  # самолеты\n",
        "    (54, 56, \"FROM\"),  # из\n",
        "    (57, 63, \"LOC\"),  # Москвы\n",
        "    (64, 66, \"TO\"),  # до\n",
        "    (67, 92, \"LOC\"),  # Петропавловска-Камчатский\n",
        "    (128, 149, \"TRANZIT\"),  # прямые, без пересадки\n",
        "    (151, 176, \"RETURN\"),  # обратно пока не показывай.\n",
        "]})"
      ],
      "metadata": {
        "colab": {
          "base_uri": "https://localhost:8080/"
        },
        "id": "JsColhkntETh",
        "outputId": "6096a2b4-7cdf-468b-ebd6-869f0d33cf9d"
      },
      "execution_count": null,
      "outputs": [
        {
          "output_type": "execute_result",
          "data": {
            "text/plain": [
              "('покажи мне на декабрь, к примеру, 5 декабря, самолеты из Москвы до Петропавловска-Камчатский интересные варианты, которые будут прямые, без пересадки, обратно пока не показывай.',\n",
              " {'entities': [(11, 21, 'DATE'),\n",
              "   (34, 43, 'DATE'),\n",
              "   (45, 53, 'TRANSPORT'),\n",
              "   (54, 56, 'FROM'),\n",
              "   (57, 63, 'LOC'),\n",
              "   (64, 66, 'TO'),\n",
              "   (67, 92, 'LOC'),\n",
              "   (128, 149, 'TRANZIT'),\n",
              "   (151, 176, 'RETURN')]})"
            ]
          },
          "metadata": {},
          "execution_count": 52
        }
      ]
    },
    {
      "cell_type": "code",
      "source": [
        "print_word_indices('покажи мне на декабрь, к примеру, 5 декабря, самолеты из Москвы до Петропавловска-Камчатский интересные варианты, которые будут прямые, без пересадки, обратно пока не показывай.')"
      ],
      "metadata": {
        "colab": {
          "base_uri": "https://localhost:8080/"
        },
        "id": "9wkpUTE3tIih",
        "outputId": "d4a1b7b3-a44a-4d8c-b440-deb44b7a583a"
      },
      "execution_count": null,
      "outputs": [
        {
          "output_type": "stream",
          "name": "stdout",
          "text": [
            "покажи : 0 - 6\n",
            "мне : 7 - 10\n",
            "на : 11 - 13\n",
            "декабрь, : 14 - 21\n",
            "к : 23 - 24\n",
            "примеру, : 25 - 32\n",
            "5 : 34 - 35\n",
            "декабря, : 36 - 43\n",
            "самолеты : 45 - 53\n",
            "из : 54 - 56\n",
            "Москвы : 57 - 63\n",
            "до : 64 - 66\n",
            "Петропавловска-Камчатский : 67 - 92\n",
            "интересные : 93 - 103\n",
            "варианты, : 104 - 112\n",
            "которые : 114 - 121\n",
            "будут : 122 - 127\n",
            "прямые, : 128 - 134\n",
            "без : 136 - 139\n",
            "пересадки, : 140 - 149\n",
            "обратно : 151 - 158\n",
            "пока : 159 - 163\n",
            "не : 164 - 166\n",
            "показывай. : 167 - 176\n"
          ]
        }
      ]
    },
    {
      "cell_type": "code",
      "source": [
        "# файл 028 whisper\n",
        "(\"срочно, на завтра, поезд утренний, Тула  Казань вообще все варианты, неважно какая цена, главное чтобы утром.\",\n",
        "{\"entities\": [\n",
        "    (11, 21, \"DATE\"),  # завтра\n",
        "    (45, 53, \"TRANSPORT\"),  # поезд\n",
        "    (11, 21, \"DATE\"),  # утренний\n",
        "    (57, 63, \"LOC\"),  # Тула\n",
        "    (57, 63, \"LOC\"),  # Казань\n",
        "    (81, 96, \"BUDGET\"),  # неважно какая цена\n",
        "    (34, 43, \"COMFORT\"),  # утром\n",
        "]})"
      ],
      "metadata": {
        "colab": {
          "base_uri": "https://localhost:8080/"
        },
        "id": "9TideBt9vPso",
        "outputId": "ff05189c-58e4-456c-bb1d-9465ebf88061"
      },
      "execution_count": null,
      "outputs": [
        {
          "output_type": "execute_result",
          "data": {
            "text/plain": [
              "('срочно, на завтра, поезд утренний, Тула  Казань вообще все варианты, неважно какая цена, главное чтобы утром.',\n",
              " {'entities': [(11, 21, 'DATE'),\n",
              "   (45, 53, 'TRANSPORT'),\n",
              "   (11, 21, 'DATE'),\n",
              "   (57, 63, 'LOC'),\n",
              "   (57, 63, 'LOC'),\n",
              "   (81, 96, 'BUDGET'),\n",
              "   (34, 43, 'COMFORT')]})"
            ]
          },
          "metadata": {},
          "execution_count": 54
        }
      ]
    },
    {
      "cell_type": "code",
      "source": [
        "print_word_indices('срочно, на завтра, поезд утренний, Тула - Казань вообще все варианты, неважно какая цена, главное чтобы утром.')"
      ],
      "metadata": {
        "colab": {
          "base_uri": "https://localhost:8080/"
        },
        "id": "e5hMz9oqvUeg",
        "outputId": "30638edc-d672-44ee-e99c-171584916916"
      },
      "execution_count": null,
      "outputs": [
        {
          "output_type": "stream",
          "name": "stdout",
          "text": [
            "срочно, : 0 - 6\n",
            "на : 8 - 10\n",
            "завтра, : 11 - 17\n",
            "поезд : 19 - 24\n",
            "утренний, : 25 - 33\n",
            "Тула : 35 - 39\n",
            "- : 40 - 40\n",
            "Казань : 42 - 48\n",
            "вообще : 49 - 55\n",
            "все : 56 - 59\n",
            "варианты, : 60 - 68\n",
            "неважно : 70 - 77\n",
            "какая : 78 - 83\n",
            "цена, : 84 - 88\n",
            "главное : 90 - 97\n",
            "чтобы : 98 - 103\n",
            "утром. : 104 - 109\n"
          ]
        }
      ]
    },
    {
      "cell_type": "code",
      "source": [
        "# файл 029 whisper\n",
        "(\"построй пожалуйста маршрут, самолёты на 1 мая из Ярославля в Иркутск, потом сутки ночуем и третьего числа вылетаем из Иркутска в Петропавловск-камчатский, и с Петропавловска-камчатский, где-то через недельку, покажи, пожалуйста, маршруты с 15, прямой рейс до Москвы.\",\n",
        "{\"entities\": [\n",
        "    (45, 53, \"TRANSPORT\"),  # самолёты\n",
        "    (11, 21, \"DATE\"),  # 1 мая\n",
        "    (57, 63, \"FROM\"),  # из\n",
        "    (57, 63, \"LOC\"),  # Ярославля\n",
        "    (57, 63, \"TO\"),  # в\n",
        "    (57, 63, \"LOC\"),  # Иркутск\n",
        "    (11, 21, \"DATE\"),  # третьего числа\n",
        "    (45, 53, \"TRANSPORT\"),  # вылетаем\n",
        "    (57, 63, \"FROM\"),  # из\n",
        "    (57, 63, \"LOC\"),  # Иркутска\n",
        "    (57, 63, \"TO\"),  # в\n",
        "    (57, 63, \"LOC\"),  # Петропавловск-камчатский\n",
        "    (57, 63, \"FROM\"),  # из\n",
        "    (57, 63, \"LOC\"),  # Петропавловск-камчатский\n",
        "    (11, 21, \"DATE\"),  # через недельку              маршруты с 15, прямой рейс до Москвы.\n",
        "    (11, 21, \"DATE\"),  # с 15\n",
        "    (45, 53, \"TRANSPORT\"),  # прямой рейс\n",
        "    (57, 63, \"TO\"),  # до\n",
        "    (57, 63, \"LOC\"),  # Москвы.\n",
        "]})"
      ],
      "metadata": {
        "colab": {
          "base_uri": "https://localhost:8080/"
        },
        "id": "fEhewrc0xI1Y",
        "outputId": "38eff485-c9ce-4475-8c15-c71c433e5627"
      },
      "execution_count": null,
      "outputs": [
        {
          "output_type": "execute_result",
          "data": {
            "text/plain": [
              "('построй пожалуйста маршрут, самолёты на 1 мая из Ярославля в Иркутск, потом сутки ночуем и третьего числа вылетаем из Иркутска в Петропавловск-камчатский, и с Петропавловска-камчатский, где-то через недельку, покажи, пожалуйста, маршруты с 15, прямой рейс до Москвы.',\n",
              " {'entities': [(45, 53, 'TRANSPORT'),\n",
              "   (11, 21, 'DATE'),\n",
              "   (57, 63, 'FROM'),\n",
              "   (57, 63, 'LOC'),\n",
              "   (57, 63, 'TO'),\n",
              "   (57, 63, 'LOC'),\n",
              "   (11, 21, 'DATE'),\n",
              "   (45, 53, 'TRANSPORT'),\n",
              "   (57, 63, 'FROM'),\n",
              "   (57, 63, 'LOC'),\n",
              "   (57, 63, 'TO'),\n",
              "   (57, 63, 'LOC'),\n",
              "   (57, 63, 'FROM'),\n",
              "   (57, 63, 'LOC'),\n",
              "   (11, 21, 'DATE'),\n",
              "   (11, 21, 'DATE'),\n",
              "   (45, 53, 'TRANSPORT'),\n",
              "   (57, 63, 'TO'),\n",
              "   (57, 63, 'LOC')]})"
            ]
          },
          "metadata": {},
          "execution_count": 56
        }
      ]
    },
    {
      "cell_type": "code",
      "source": [
        "print_word_indices('построй пожалуйста маршрут, самолёты на 1 мая из Ярославля в Иркутск, потом сутки ночуем и третьего числа вылетаем из Иркутска в Петропавловск-камчатский, и с Петропавловска-камчатский, где-то через недельку, покажи, пожалуйста, маршруты с 15, прямой рейс до Москвы.')"
      ],
      "metadata": {
        "colab": {
          "base_uri": "https://localhost:8080/"
        },
        "id": "TtK-KDu9xL6P",
        "outputId": "1a92a6a4-5a7d-4659-bf0d-da5cd5a6f196"
      },
      "execution_count": null,
      "outputs": [
        {
          "output_type": "stream",
          "name": "stdout",
          "text": [
            "построй : 0 - 7\n",
            "пожалуйста : 8 - 18\n",
            "маршрут, : 19 - 26\n",
            "самолёты : 28 - 36\n",
            "на : 37 - 39\n",
            "1 : 40 - 41\n",
            "мая : 42 - 45\n",
            "из : 46 - 48\n",
            "Ярославля : 49 - 58\n",
            "в : 59 - 60\n",
            "Иркутск, : 61 - 68\n",
            "потом : 70 - 75\n",
            "сутки : 76 - 81\n",
            "ночуем : 82 - 88\n",
            "и : 89 - 90\n",
            "третьего : 91 - 99\n",
            "числа : 100 - 105\n",
            "вылетаем : 106 - 114\n",
            "из : 115 - 117\n",
            "Иркутска : 118 - 126\n",
            "в : 127 - 128\n",
            "Петропавловск-камчатский, : 129 - 153\n",
            "и : 155 - 156\n",
            "с : 157 - 158\n",
            "Петропавловска-камчатский, : 159 - 184\n",
            "где-то : 186 - 192\n",
            "через : 193 - 198\n",
            "недельку, : 199 - 207\n",
            "покажи, : 209 - 215\n",
            "пожалуйста, : 217 - 227\n",
            "маршруты : 229 - 237\n",
            "с : 238 - 239\n",
            "15, : 240 - 242\n",
            "прямой : 244 - 250\n",
            "рейс : 251 - 255\n",
            "до : 256 - 258\n",
            "Москвы. : 259 - 265\n"
          ]
        }
      ]
    },
    {
      "cell_type": "code",
      "source": [
        "# файл 030 whisper\n",
        "(\"Покажи пожалуйста самолет из Перми в Тюмень на 7 февраля желательно рейсы до обеда, а из Тюмени вечерний поезд этого же числа до Перми.\",\n",
        "{\"entities\": [\n",
        "    (18, 25, \"TRANSPORT\"),  # самолет\n",
        "    (26, 28, \"FROM\"),  # из\n",
        "    (29, 34, \"LOC\"),  # Перми\n",
        "    (35, 36, \"TO\"),  # в\n",
        "    (37, 43, \"LOC\"),  # Тюмень\n",
        "    (47, 56, \"DATE\"),  # 7 февраля\n",
        "    (57, 82, \"COMFORT\"),  # желательно рейсы до обеда\n",
        "    (86, 88, \"FROM\"),  # из\n",
        "    (89, 95, \"LOC\"),  # Тюмени\n",
        "    (96, 104, \"DATE\"),  # вечерний\n",
        "    (105, 110, \"TRANSPORT\"),  # поезд\n",
        "    (111, 125, \"DATE\"),  # этого же числа\n",
        "    (126, 128, \"TO\"),  # до\n",
        "    (129, 134, \"LOC\"),  # Перми.\n",
        "]})"
      ],
      "metadata": {
        "colab": {
          "base_uri": "https://localhost:8080/"
        },
        "id": "E-bkiksM0Jv5",
        "outputId": "71bc1279-8029-4307-81ae-4ac43254bdce"
      },
      "execution_count": null,
      "outputs": [
        {
          "output_type": "execute_result",
          "data": {
            "text/plain": [
              "('Покажи пожалуйста самолет из Перми в Тюмень на 7 февраля желательно рейсы до обеда, а из Тюмени вечерний поезд этого же числа до Перми.',\n",
              " {'entities': [(18, 25, 'TRANSPORT'),\n",
              "   (26, 28, 'FROM'),\n",
              "   (29, 34, 'LOC'),\n",
              "   (35, 36, 'TO'),\n",
              "   (37, 43, 'LOC'),\n",
              "   (47, 56, 'DATE'),\n",
              "   (57, 82, 'COMFORT'),\n",
              "   (86, 88, 'FROM'),\n",
              "   (89, 95, 'LOC'),\n",
              "   (96, 104, 'DATE'),\n",
              "   (105, 110, 'TRANSPORT'),\n",
              "   (111, 125, 'DATE'),\n",
              "   (126, 128, 'TO'),\n",
              "   (129, 134, 'LOC')]})"
            ]
          },
          "metadata": {},
          "execution_count": 58
        }
      ]
    },
    {
      "cell_type": "code",
      "source": [
        "print_word_indices('Покажи пожалуйста самолет из Перми в Тюмень на 7 февраля желательно рейсы до обеда, а из Тюмени вечерний поезд этого же числа до Перми.')"
      ],
      "metadata": {
        "colab": {
          "base_uri": "https://localhost:8080/"
        },
        "id": "NCiMC7L30QCv",
        "outputId": "b141208e-b2b3-401c-fdf2-a42ea8a8a709"
      },
      "execution_count": null,
      "outputs": [
        {
          "output_type": "stream",
          "name": "stdout",
          "text": [
            "Покажи : 0 - 6\n",
            "пожалуйста : 7 - 17\n",
            "самолет : 18 - 25\n",
            "из : 26 - 28\n",
            "Перми : 29 - 34\n",
            "в : 35 - 36\n",
            "Тюмень : 37 - 43\n",
            "на : 44 - 46\n",
            "7 : 47 - 48\n",
            "февраля : 49 - 56\n",
            "желательно : 57 - 67\n",
            "рейсы : 68 - 73\n",
            "до : 74 - 76\n",
            "обеда, : 77 - 82\n",
            "а : 84 - 85\n",
            "из : 86 - 88\n",
            "Тюмени : 89 - 95\n",
            "вечерний : 96 - 104\n",
            "поезд : 105 - 110\n",
            "этого : 111 - 116\n",
            "же : 117 - 119\n",
            "числа : 120 - 125\n",
            "до : 126 - 128\n",
            "Перми. : 129 - 134\n"
          ]
        }
      ]
    },
    {
      "cell_type": "code",
      "source": [
        "# файл 031 whisper\n",
        "(\"Подбери пожалуйста на выходной день 10 июля самолет из Южно-Сахалинска до Благовещенска и в этот же день оттуда поезд до Читы. Время отправления не важно, главное чтобы прилет был и поезд был в один день.\",\n",
        "{\"entities\": [\n",
        "    (36, 43, \"DATE\"),  # 10 июля\n",
        "    (44, 51, \"TRANSPORT\"),  # самолет\n",
        "    (52, 54, \"FROM\"),  # из\n",
        "    (55, 70, \"LOC\"),  # Южно-Сахалинска\n",
        "    (71, 73, \"TO\"),  # до\n",
        "    (74, 87, \"LOC\"),  # Благовещенска\n",
        "    (90, 104, \"DATE\"),  # в этот же день\n",
        "    (112, 117, \"TRANSPORT\"),  # поезд\n",
        "    (118, 120, \"TO\"),  # до\n",
        "    (121, 125, \"LOC\"),  # Читы\n",
        "    (155, 203, \"COMFORT\"),  # главное чтобы прилет был и поезд был в один день.\n",
        "]})"
      ],
      "metadata": {
        "colab": {
          "base_uri": "https://localhost:8080/"
        },
        "id": "CWahO7ih5Z95",
        "outputId": "8db25710-9053-415b-d690-198a57e665c2"
      },
      "execution_count": null,
      "outputs": [
        {
          "output_type": "execute_result",
          "data": {
            "text/plain": [
              "('Подбери пожалуйста на выходной день 10 июля самолет из Южно-Сахалинска до Благовещенска и в этот же день оттуда поезд до Читы. Время отправления не важно, главное чтобы прилет был и поезд был в один день.',\n",
              " {'entities': [(36, 43, 'DATE'),\n",
              "   (44, 51, 'TRANSPORT'),\n",
              "   (52, 54, 'FROM'),\n",
              "   (55, 70, 'LOC'),\n",
              "   (71, 73, 'TO'),\n",
              "   (74, 87, 'LOC'),\n",
              "   (90, 104, 'DATE'),\n",
              "   (112, 117, 'TRANSPORT'),\n",
              "   (118, 120, 'TO'),\n",
              "   (121, 125, 'LOC'),\n",
              "   (155, 203, 'COMFORT')]})"
            ]
          },
          "metadata": {},
          "execution_count": 61
        }
      ]
    },
    {
      "cell_type": "code",
      "source": [
        "print_word_indices('Подбери пожалуйста на выходной день 10 июля самолет из Южно-Сахалинска до Благовещенска и в этот же день оттуда поезд до Читы. Время отправления не важно, главное чтобы прилет был и поезд был в один день.')"
      ],
      "metadata": {
        "colab": {
          "base_uri": "https://localhost:8080/"
        },
        "id": "ZjbVXlSb5ezi",
        "outputId": "d5afb0be-d0bc-4142-f892-4c3e084b4e55"
      },
      "execution_count": null,
      "outputs": [
        {
          "output_type": "stream",
          "name": "stdout",
          "text": [
            "Подбери : 0 - 7\n",
            "пожалуйста : 8 - 18\n",
            "на : 19 - 21\n",
            "выходной : 22 - 30\n",
            "день : 31 - 35\n",
            "10 : 36 - 38\n",
            "июля : 39 - 43\n",
            "самолет : 44 - 51\n",
            "из : 52 - 54\n",
            "Южно-Сахалинска : 55 - 70\n",
            "до : 71 - 73\n",
            "Благовещенска : 74 - 87\n",
            "и : 88 - 89\n",
            "в : 90 - 91\n",
            "этот : 92 - 96\n",
            "же : 97 - 99\n",
            "день : 100 - 104\n",
            "оттуда : 105 - 111\n",
            "поезд : 112 - 117\n",
            "до : 118 - 120\n",
            "Читы. : 121 - 125\n",
            "Время : 127 - 132\n",
            "отправления : 133 - 144\n",
            "не : 145 - 147\n",
            "важно, : 148 - 153\n",
            "главное : 155 - 162\n",
            "чтобы : 163 - 168\n",
            "прилет : 169 - 175\n",
            "был : 176 - 179\n",
            "и : 180 - 181\n",
            "поезд : 182 - 187\n",
            "был : 188 - 191\n",
            "в : 192 - 193\n",
            "один : 194 - 198\n",
            "день. : 199 - 203\n"
          ]
        }
      ]
    },
    {
      "cell_type": "code",
      "source": [
        "# файл 032 whisper\n",
        "(\"покажи все самолеты вылетающие 5 сентября с Благовещенска до Красноярска.\",\n",
        "{\"entities\": [\n",
        "    (11, 19, \"TRANSPORT\"),  # самолеты\n",
        "    (31, 41, \"DATE\"),  # 5 сентября\n",
        "    (42, 43, \"FROM\"),  # с\n",
        "    (44, 57, \"LOC\"),  # Благовещенска\n",
        "    (58, 60, \"TO\"),  # до\n",
        "    (61, 72, \"LOC\"),  # Красноярска.\n",
        "]})"
      ],
      "metadata": {
        "colab": {
          "base_uri": "https://localhost:8080/"
        },
        "id": "9b-n2B077Lgq",
        "outputId": "1e5356fa-f9ee-4f35-e0f8-049e92f417c7"
      },
      "execution_count": null,
      "outputs": [
        {
          "output_type": "execute_result",
          "data": {
            "text/plain": [
              "('покажи все самолеты вылетающие 5 сентября с Благовещенска до Красноярска.',\n",
              " {'entities': [(11, 19, 'TRANSPORT'),\n",
              "   (31, 41, 'DATE'),\n",
              "   (42, 43, 'FROM'),\n",
              "   (44, 57, 'LOC'),\n",
              "   (58, 60, 'TO'),\n",
              "   (61, 72, 'LOC')]})"
            ]
          },
          "metadata": {},
          "execution_count": 65
        }
      ]
    },
    {
      "cell_type": "code",
      "source": [
        "print_word_indices('покажи все самолеты вылетающие 5 сентября с Благовещенска до Красноярска.')"
      ],
      "metadata": {
        "colab": {
          "base_uri": "https://localhost:8080/"
        },
        "id": "_u3ShYDh7QQR",
        "outputId": "73d342cd-e72f-4b55-cda0-ba61a048980e"
      },
      "execution_count": null,
      "outputs": [
        {
          "output_type": "stream",
          "name": "stdout",
          "text": [
            "покажи : 0 - 6\n",
            "все : 7 - 10\n",
            "самолеты : 11 - 19\n",
            "вылетающие : 20 - 30\n",
            "5 : 31 - 32\n",
            "сентября : 33 - 41\n",
            "с : 42 - 43\n",
            "Благовещенска : 44 - 57\n",
            "до : 58 - 60\n",
            "Красноярска. : 61 - 72\n"
          ]
        }
      ]
    },
    {
      "cell_type": "code",
      "source": [
        "# файл 033 whisper\n",
        "(\"Срочно найди на сегодня самолёт ближайший из Хабаровска во Владивосток.\",\n",
        "{\"entities\": [\n",
        "    (0, 6, \"COMFORT\"),  # Срочно\n",
        "    (16, 23, \"DATE\"),  # сегодня\n",
        "    (24, 31, \"TRANSPORT\"),  # самолет\n",
        "    (42, 44, \"FROM\"),  # из\n",
        "    (45, 55, \"LOC\"),  # Хабаровска\n",
        "    (56, 58, \"TO\"),  # во\n",
        "    (59, 70, \"LOC\"),  # Владивосток.\n",
        "]})"
      ],
      "metadata": {
        "colab": {
          "base_uri": "https://localhost:8080/"
        },
        "id": "hcfpp8Nt9Unq",
        "outputId": "d5f9c27b-edde-4c26-dea8-21056b381013"
      },
      "execution_count": null,
      "outputs": [
        {
          "output_type": "execute_result",
          "data": {
            "text/plain": [
              "('Срочно найди на сегодня самолёт ближайший из Хабаровска во Владивосток.',\n",
              " {'entities': [(0, 6, 'COMFORT'),\n",
              "   (16, 23, 'DATE'),\n",
              "   (24, 31, 'TRANSPORT'),\n",
              "   (42, 44, 'FROM'),\n",
              "   (45, 55, 'LOC'),\n",
              "   (56, 58, 'TO'),\n",
              "   (59, 70, 'LOC')]})"
            ]
          },
          "metadata": {},
          "execution_count": 67
        }
      ]
    },
    {
      "cell_type": "code",
      "source": [
        "print_word_indices('Срочно найди на сегодня самолёт ближайший из Хабаровска во Владивосток.')"
      ],
      "metadata": {
        "colab": {
          "base_uri": "https://localhost:8080/"
        },
        "id": "Mlh3gZkN9fir",
        "outputId": "5bde01d2-44b6-4ef3-c795-6a2cd92ef8d3"
      },
      "execution_count": null,
      "outputs": [
        {
          "output_type": "stream",
          "name": "stdout",
          "text": [
            "Срочно : 0 - 6\n",
            "найди : 7 - 12\n",
            "на : 13 - 15\n",
            "сегодня : 16 - 23\n",
            "самолёт : 24 - 31\n",
            "ближайший : 32 - 41\n",
            "из : 42 - 44\n",
            "Хабаровска : 45 - 55\n",
            "во : 56 - 58\n",
            "Владивосток. : 59 - 70\n"
          ]
        }
      ]
    },
    {
      "cell_type": "code",
      "source": [
        "# файл 034 whisper\n",
        "(\"Надо построить маршрут из Якутска, самолёт, вылет через 3 дня, это 5 февраля, до Казани, в Казани пару дней побудем и где-то числа 11 посмотри, также, самолёт до Саратова, вылет после обеда.\",\n",
        "{\"entities\": [\n",
        "    (23, 25, \"FROM\"),  # из\n",
        "    (26, 33, \"LOC\"),  # Якутска\n",
        "    (35, 42, \"TRANSPORT\"),  # самолет\n",
        "    (67, 76, \"DATE\"),  # 5 февраля\n",
        "    (78, 80, \"TO\"),  # до\n",
        "    (81, 87, \"LOC\"),  # Казани\n",
        "    (125, 133, \"DATE\"),  # числа 11\n",
        "    (151, 158, \"TRANSPORT\"),  # самолет\n",
        "    (159, 161, \"TO\"),  # до\n",
        "    (162, 170, \"LOC\"),  # Саратова\n",
        "    (172, 189, \"COMFORT\"),  # вылет после обеда.\n",
        "]})"
      ],
      "metadata": {
        "colab": {
          "base_uri": "https://localhost:8080/"
        },
        "id": "1cDdrhR--st0",
        "outputId": "8ecdd0f1-4b69-4690-ceb7-4c36582da8fd"
      },
      "execution_count": null,
      "outputs": [
        {
          "output_type": "execute_result",
          "data": {
            "text/plain": [
              "('Надо построить маршрут из Якутска, самолёт, вылет через 3 дня, это 5 февраля, до Казани, в Казани пару дней побудем и где-то числа 11 посмотри, также, самолёт до Саратова, вылет после обеда.',\n",
              " {'entities': [(23, 25, 'FROM'),\n",
              "   (26, 33, 'LOC'),\n",
              "   (35, 42, 'TRANSPORT'),\n",
              "   (67, 76, 'DATE'),\n",
              "   (78, 80, 'TO'),\n",
              "   (81, 87, 'LOC'),\n",
              "   (125, 133, 'DATE'),\n",
              "   (151, 158, 'TRANSPORT'),\n",
              "   (159, 161, 'TO'),\n",
              "   (162, 170, 'LOC'),\n",
              "   (172, 189, 'COMFORT')]})"
            ]
          },
          "metadata": {},
          "execution_count": 69
        }
      ]
    },
    {
      "cell_type": "code",
      "source": [
        "print_word_indices('Надо построить маршрут из Якутска, самолёт, вылет через 3 дня, это 5 февраля, до Казани, в Казани пару дней побудем и где-то числа 11 посмотри, также, самолёт до Саратова, вылет после обеда.')"
      ],
      "metadata": {
        "colab": {
          "base_uri": "https://localhost:8080/"
        },
        "id": "IahC1X-t-xUC",
        "outputId": "39bcf3d4-796f-43b5-c9a1-4f68fb26c4d3"
      },
      "execution_count": null,
      "outputs": [
        {
          "output_type": "stream",
          "name": "stdout",
          "text": [
            "Надо : 0 - 4\n",
            "построить : 5 - 14\n",
            "маршрут : 15 - 22\n",
            "из : 23 - 25\n",
            "Якутска, : 26 - 33\n",
            "самолёт, : 35 - 42\n",
            "вылет : 44 - 49\n",
            "через : 50 - 55\n",
            "3 : 56 - 57\n",
            "дня, : 58 - 61\n",
            "это : 63 - 66\n",
            "5 : 67 - 68\n",
            "февраля, : 69 - 76\n",
            "до : 78 - 80\n",
            "Казани, : 81 - 87\n",
            "в : 89 - 90\n",
            "Казани : 91 - 97\n",
            "пару : 98 - 102\n",
            "дней : 103 - 107\n",
            "побудем : 108 - 115\n",
            "и : 116 - 117\n",
            "где-то : 118 - 124\n",
            "числа : 125 - 130\n",
            "11 : 131 - 133\n",
            "посмотри, : 134 - 142\n",
            "также, : 144 - 149\n",
            "самолёт : 151 - 158\n",
            "до : 159 - 161\n",
            "Саратова, : 162 - 170\n",
            "вылет : 172 - 177\n",
            "после : 178 - 183\n",
            "обеда. : 184 - 189\n"
          ]
        }
      ]
    },
    {
      "cell_type": "code",
      "source": [
        "# файл 035 whisper\n",
        "(\"я с ребёнком и мужем хочу поехать с Барнаула в Ялту, новогодние праздники, выезд 28 декабря, на неделю, найди поездку суммой до 20.000.\",\n",
        "{\"entities\": [\n",
        "    (0, 20, \"AMOUNT\"),  # я с ребёнком и мужем\n",
        "    (34, 35, \"TO\"),  # c\n",
        "    (36, 44, \"LOC\"),  # Барнаула\n",
        "    (45, 46, \"FROM\"),  # в\n",
        "    (47, 51, \"LOC\"),  # Ялту\n",
        "    (81, 91, \"DATE\"),  # 28 декабря\n",
        "    (118, 134, \"BUDGET\"),  # суммой до 20.000.\n",
        "]})"
      ],
      "metadata": {
        "colab": {
          "base_uri": "https://localhost:8080/"
        },
        "id": "m4z3SmZDBUup",
        "outputId": "e904c4b6-be60-471f-96f7-a72382f549d2"
      },
      "execution_count": null,
      "outputs": [
        {
          "output_type": "execute_result",
          "data": {
            "text/plain": [
              "('я с ребёнком и мужем хочу поехать с Барнаула в Ялту, новогодние праздники, выезд 28 декабря, на неделю, найди поездку суммой до 20.000.',\n",
              " {'entities': [(0, 20, 'AMOUNT'),\n",
              "   (34, 35, 'TO'),\n",
              "   (36, 44, 'LOC'),\n",
              "   (45, 46, 'FROM'),\n",
              "   (47, 51, 'LOC'),\n",
              "   (81, 91, 'DATE'),\n",
              "   (118, 134, 'BUDGET')]})"
            ]
          },
          "metadata": {},
          "execution_count": 71
        }
      ]
    },
    {
      "cell_type": "code",
      "source": [
        "print_word_indices('я с ребёнком и мужем хочу поехать с Барнаула в Ялту, новогодние праздники, выезд 28 декабря, на неделю, найди поездку суммой до 20.000.')"
      ],
      "metadata": {
        "colab": {
          "base_uri": "https://localhost:8080/"
        },
        "id": "nVq-qp_1BYwS",
        "outputId": "f7ddba49-95f7-4ab4-af63-166546f5587f"
      },
      "execution_count": null,
      "outputs": [
        {
          "output_type": "stream",
          "name": "stdout",
          "text": [
            "я : 0 - 1\n",
            "с : 2 - 3\n",
            "ребёнком : 4 - 12\n",
            "и : 13 - 14\n",
            "мужем : 15 - 20\n",
            "хочу : 21 - 25\n",
            "поехать : 26 - 33\n",
            "с : 34 - 35\n",
            "Барнаула : 36 - 44\n",
            "в : 45 - 46\n",
            "Ялту, : 47 - 51\n",
            "новогодние : 53 - 63\n",
            "праздники, : 64 - 73\n",
            "выезд : 75 - 80\n",
            "28 : 81 - 83\n",
            "декабря, : 84 - 91\n",
            "на : 93 - 95\n",
            "неделю, : 96 - 102\n",
            "найди : 104 - 109\n",
            "поездку : 110 - 117\n",
            "суммой : 118 - 124\n",
            "до : 125 - 127\n",
            "20.000. : 128 - 134\n"
          ]
        }
      ]
    },
    {
      "cell_type": "markdown",
      "source": [
        "БАЗА ОБУЧЕНИЯ СУЩНОСТЕЙ, ИТОГ:"
      ],
      "metadata": {
        "id": "1OadX2fAD8GR"
      }
    },
    {
      "cell_type": "code",
      "source": [
        "TRAIN_DATA = [\n",
        "    (\"так еду 23 ноября и мне нужно нижнее место не у туалета, где-нибудь посередине вагона\",\n",
        "    {\"entities\": [\n",
        "    (8, 17, \"DATE\"),  # 23 ноября\n",
        "    (30, 85, \"COMFORT\"),  # нижнее место не у туалета, где-нибудь посередине вагона\n",
        "    ]}),\n",
        "    (\"Я из Уфы, поеду в Кострому. Мне нужен билет через неделю. Лучше на выходные. Так, у меня будет на поездку 10 тысяч рублей.\",\n",
        "    {\"entities\": [\n",
        "    (2, 4, \"FROM\"),  # из\n",
        "    (5, 8, \"LOC\"),  # Уфы\n",
        "    (16, 17, \"TO\"),  # в\n",
        "    (18, 26, \"LOC\"),  # Кострому\n",
        "    (44, 55, \"DATE\"),  # через неделю\n",
        "    (64, 74, \"DATE\"),  # на выходные\n",
        "    (106, 121, \"BUDGET\"),   # 10.000 руб\n",
        "     ]}),\n",
        "    (\"Так, завтра утром мы едем, пять человек из Москвы в Петербург. Вечером мы выезжаем обратно в Москву, и через три дня мы едем в Краснодар. Также пять человек. Найди самый быстрый билет за самое быстрое время.\",\n",
        "    {\"entities\": [\n",
        "    (5, 11, \"DATE\"),  # завтра\n",
        "    (27, 39, \"AMOUNT\"), #пять человек\n",
        "    (40, 42, \"FROM\"),  # из\n",
        "    (43, 49, \"LOC\"),  # Москвы\n",
        "    (50, 51, \"TO\"),  # в\n",
        "    (52, 61, \"LOC\"),  # Петербург\n",
        "    (63, 70, \"DATE\"),  # вечером\n",
        "    (83, 90, \"RETURN\"),  # обратно\n",
        "    (91, 92, \"TO\"),  # в\n",
        "    (93, 99, \"LOC\"),  # Москву\n",
        "    (103, 116, \"DATE\"),  # через три дня\n",
        "    (125, 126, \"TO\"),  # в\n",
        "    (127, 136, \"LOC\"),  # Краснодар\n",
        "    (144, 156, \"AMOUNT\") # пять человек\n",
        "    ]}),\n",
        "    (\"так не нужно самолет добраться из новосибирска до москвы я буду с двумя детьми у меня багаж две сумки по 10 килограмм найди мне билеты на 13 августа\",\n",
        "    {\"entities\": [\n",
        "    (13, 20, \"TRANSPORT\"),  # самолёт\n",
        "    (31, 33, \"FROM\"),  # из\n",
        "    (34, 46, \"LOC\"),  # Новосибирска\n",
        "    (47, 49, \"TO\"),  # до\n",
        "    (50, 56, \"LOC\"),  # Москвы\n",
        "    (57, 78, \"AMOUNT\"), # я буду с двумя детьми\n",
        "    (86, 117, \"BAGG\"),    # багаж две сумки по 10 килограмм\n",
        "    (138, 148, \"DATE\"),  # 13 августа\n",
        "    ]}),\n",
        "    (\"поеду из Архангельска в Тверь 15 октября и 20 октября я из Твери поеду в Омск, подбери билеты\",\n",
        "    {\"entities\": [\n",
        "    (6, 8, \"FROM\"),  # из\n",
        "    (6, 21, \"LOC\"),  # Архангельска\n",
        "    (22, 33, \"FROM\"),  # в\n",
        "    (24, 29, \"LOC\"),  # Тверь\n",
        "    (30, 40, \"DATE\"),  # 15 октября\n",
        "    (43, 53, \"DATE\"),  # 20 октября\n",
        "    (56, 58, \"FROM\"),  # из\n",
        "    (59, 64, \"LOC\"),  # Твери\n",
        "    (71, 72, \"TO\"),  # в\n",
        "    (73, 77, \"LOC\"),  # Омск\n",
        "    ]}),\n",
        "   (\"планирую из Новокузнецка выехать 30 декабря в Ростов, из Ростова нужно 8 января вернуться обратно, я буду с мужем и с ребёнком, найди билеты\",\n",
        "   {\"entities\": [\n",
        "    (9, 11, \"FROM\"),  # из\n",
        "    (12, 24, \"LOC\"),  # Новокузнецка\n",
        "    (33, 43, \"DATE\"),  # 30 декабря\n",
        "    (44, 45, \"TO\"),  # в\n",
        "    (46, 52, \"LOC\"),  # Ростов\n",
        "    (54, 56, \"FROM\"),  # из\n",
        "    (57, 64, \"LOC\"),  # Ростова\n",
        "    (71, 79, \"DATE\"),  # 8 января\n",
        "    (90, 97, \"RETURN\"),  # обратно\n",
        "    (99, 126, \"AMOUNT\"), # я буду с мужем и с ребёнком\n",
        "    ]}),\n",
        "   (\"с 1 июля по 1 августа я поеду из Краснодара в Уфу, мне нужны билеты\",\n",
        "   {\"entities\": [\n",
        "    (0, 21, \"GAP\"),  # с 1 июля по 1 августа\n",
        "    (30, 32, \"FROM\"),  # из\n",
        "    (33, 43, \"LOC\"),  # Краснодара\n",
        "    (44, 45, \"TO\"),  # в\n",
        "    (46, 49, \"LOC\"),  # Уфу\n",
        "    ]}),\n",
        "    (\"так найди-ка мне билеты из Сочи в Москву, у меня есть 5.000 и мне нужен билет на сегодня\",\n",
        "    {\"entities\": [\n",
        "    (24, 26, \"FROM\"),  # из\n",
        "    (27, 31, \"LOC\"),  # Сочи\n",
        "    (32, 33, \"TO\"),  # в\n",
        "    (34, 40, \"LOC\"),  # Москву\n",
        "    (54, 59, \"BUDGET\"),   # 5.000\n",
        "    (78, 88, \"DATE\"),  # на сегодня\n",
        "    ]}),\n",
        "    (\"7 января хочу на самолете долететь из Омска в Тобольск, подбери билет, я буду одна, у меня с собой ручная кладь\",\n",
        "    {\"entities\": [\n",
        "    (0, 8, \"DATE\"),  # 7 января\n",
        "    (14, 25, \"TRANSPORT\"),  # на самолете\n",
        "    (35, 37, \"FROM\"),  # из\n",
        "    (38, 43, \"LOC\"),  # Омска\n",
        "    (44, 45, \"TO\"),  # в\n",
        "    (46, 54, \"LOC\"),  # Тобольск\n",
        "    (71, 82, \"AMOUNT\"), # я буду одна\n",
        "    (99, 111, \"BAGG\"),    # ручная кладь\n",
        "    ]}),\n",
        "    (\"с 14 по 20 февраля я поеду из Твери в Москву и потом обратно, я буду одна, подбери самый дешёвый билет\",\n",
        "    {\"entities\": [\n",
        "    (0, 18, \"GAP\"),  # с 14 по 20 февраля\n",
        "    (27, 29, \"FROM\"),  # из\n",
        "    (30, 35, \"LOC\"),  # Твери\n",
        "    (36, 37, \"TO\"),  # в\n",
        "    (38, 44, \"LOC\"),  # Москву\n",
        "    (53, 60, \"RETURN\"), # обратно\n",
        "    (62, 73, \"AMOUNT\"), # я буду одна\n",
        "    (75, 102, \"LEVEL\"), # подбери самый дешёвый билет\n",
        "    ]}),\n",
        "    (\"хочу из Орла поехать в Пензу 20 марта и потом из Пензы мне нужно в Екатеринбург. это, наверное, число 25 марта. я буду одна, но у меня с собой будет чемодан, примерно 20 килограмм\",\n",
        "    {\"entities\": [\n",
        "    (5, 7, \"FROM\"),  # из\n",
        "    (8, 12, \"LOC\"),  # Орла\n",
        "    (21, 22, \"TO\"),  # в\n",
        "    (30, 35, \"LOC\"),  # Пензу\n",
        "    (29, 37, \"DATE\"),  # 20 марта\n",
        "    (46, 48, \"FROM\"),  # из\n",
        "    (49, 54, \"LOC\"),  # Пензы\n",
        "    (65, 66, \"TO\"),  # в\n",
        "    (67, 79, \"LOC\"),  # Екатеринбург\n",
        "    (102, 110, \"DATE\"),  # 25 марта\n",
        "    (112, 123, \"AMOUNT\"), # я буду одна\n",
        "    (149, 179, \"BAGG\"),    # чемодан, примерно 20 килограмм\n",
        "    ]}),\n",
        "    (\"1 апреля я вылетаю из Москвы в Волгоград и из Волгограда мне нужно будет на поезде доехать до Нижневартовска, подбери билет и я буду с мужем.\",\n",
        "    {\"entities\": [\n",
        "    (0, 8, \"DATE\"),  # 1 апреля\n",
        "    (11, 18, \"TRANSPORT\"),  # вылетаю\n",
        "    (19, 21, \"FROM\"),  # из\n",
        "    (22, 28, \"LOC\"),  # Москвы\n",
        "    (29, 30, \"TO\"),  # в\n",
        "    (31, 40, \"LOC\"),  # Волгоград\n",
        "    (43, 45, \"FROM\"),  # из\n",
        "    (46, 56, \"LOC\"),  # Волгограда\n",
        "    (73, 82, \"TRANSPORT\"),  # на поезде\n",
        "    (91, 93, \"TO\"),  # до\n",
        "    (94, 108, \"LOC\"),  # Нижневартовска\n",
        "    (126, 140, \"AMOUNT\"), # я буду с мужем\n",
        "    ]}),\n",
        "    (\"так с 1 по 9 мая я еду отдыхать в Сочи из Улан-удэ, я поеду с мужем и двумя детьми, подбери самые быстрые билеты.\",\n",
        "    {\"entities\": [\n",
        "    (4, 16, \"GAP\"),  # с 1 по 9 мая\n",
        "    (32, 33, \"TO\"),  # в\n",
        "    (34, 38, \"LOC\"),  # Сочи\n",
        "    (39, 41, \"FROM\"),  # из\n",
        "    (42, 50, \"LOC\"),  # Улан-удэ\n",
        "    (52, 82, \"AMOUNT\"), # я поеду с мужем и двумя детьми\n",
        "    (84, 112, \"LEVEL\"), # подбери самые быстрые билеты\n",
        "    ]}),\n",
        "    (\"с 3 по 17 июня я поеду из Нижневартовска в Астрахань, я буду с коллегой, нам нужно два билета туда-обратно.\",\n",
        "    {\"entities\": [\n",
        "    (0, 14, \"GAP\"),  # с 3 по 17 июня\n",
        "    (23, 25, \"FROM\"),  # из\n",
        "    (26, 40, \"LOC\"),  # Нижневартовска\n",
        "    (41, 42, \"TO\"),  # в\n",
        "    (43, 52, \"LOC\"),  # Астрахань\n",
        "    (54, 71, \"AMOUNT\"), # я буду с коллегой\n",
        "    (83, 93, \"AMOUNT\"), # два билета\n",
        "    (94, 106, \"RETURN\"), # туда-обратно\n",
        "    ]}),\n",
        "    (\"так мне нужно из Краснодара на автобусе добраться до Сочи, посмотри пожалуйста билеты, у меня будет ручная кладь и ребёнок.\",\n",
        "    {\"entities\": [\n",
        "    (14, 16, \"FROM\"),  # из\n",
        "    (17, 27, \"LOC\"),  # Краснодара\n",
        "    (31, 39, \"TRANSPORT\"),  # автобусе\n",
        "    (50, 52, \"TO\"),  # до\n",
        "    (53, 57, \"LOC\"),  # Сочи\n",
        "    (100, 112, \"BAGG\"),    # ручная кладь\n",
        "    (115, 122, \"CHILD\"),  # ребёнок\n",
        "    ]}),\n",
        "    (\"получается 3 июля по 13 июля я поеду с ребёнком в Дагестан из Москвы, багаж будет 30 кг.\",\n",
        "    {\"entities\": [\n",
        "    (11, 28, \"GAP\"),  # 3 июля по 13 июля\n",
        "    (29, 47, \"CHILD\"),  # с ребёнком\n",
        "    (48, 49, \"TO\"),  # в\n",
        "    (50, 58, \"LOC\"),  # Дагестан\n",
        "    (59, 61, \"FROM\"),  # из\n",
        "    (62, 68, \"LOC\"),  # Москвы\n",
        "    (70, 87, \"BAGG\"),    # багаж будет 30 кг\n",
        "    ]}),\n",
        "    (\"2 августа я поеду из Астрахани в Махачкалу, подбери пожалуйста билет, у меня на поездку 7.000 руб.\",\n",
        "    {\"entities\": [\n",
        "    (0, 9, \"DATE\"),  # 2 августа\n",
        "    (18, 20, \"FROM\"),  # из\n",
        "    (21, 30, \"LOC\"),  # Астрахани\n",
        "    (31, 32, \"TO\"),  # в\n",
        "    (33, 42, \"LOC\"),  # Махачкалу\n",
        "    (54, 59, \"BUDGET\"),  # 7.000 руб.\n",
        "    ]}),\n",
        "    (\"так я из Нефтекамска хочу поехать в Улан-удэ, это будет значит с 8 сентября по 19 число, подбери билет туда-обратно и у меня поедет муж, а ему нужно обязательно на поезде нижняя полочка.\",\n",
        "    {\"entities\": [\n",
        "    (6, 8, \"FROM\"),  # из\n",
        "    (9, 20, \"LOC\"),  # Нефтекамска\n",
        "    (34, 35, \"TO\"),  # в\n",
        "    (36, 44, \"LOC\"),  # Улан-удэ\n",
        "    (63, 81, \"GAP\"),  # с 8 сентября по 19\n",
        "    (103, 115, \"RETURN\"),  # туда-обратно\n",
        "    (118, 135, \"AMOUNT\"),  # у меня поедет муж\n",
        "    (164, 170, \"TRANSPORT\"),  # поезде\n",
        "    (171, 185, \"COMFORT\"),  # нижняя полочка\n",
        "    ]}),\n",
        "    (\"так 18 октября я поеду в командировку на Шарам, вот и я там буду неделю, и мне нужен билет, я поеду из Омска, посмотри как быстрее всего добраться.\",\n",
        "    {\"entities\": [\n",
        "    (4, 14, \"DATE\"),  # 18 октября\n",
        "    (38, 40, \"TO\"),  # на\n",
        "    (41, 46, \"LOC\"),  # Шарам\n",
        "    (100, 102, \"FROM\"),  # из\n",
        "    (103, 108, \"LOC\"),  # Омска\n",
        "    ]}),\n",
        "    (\"15 ноября я поеду в Нальчик. Я поеду из Томска. Найди, пожалуйста, мне билеты до 10 тысяч рублей.\",\n",
        "    {\"entities\": [\n",
        "    (0, 9, \"DATE\"),  # 15 ноября\n",
        "    (18, 19, \"TO\"),  # в\n",
        "    (20, 27, \"LOC\"),  # Нальчик\n",
        "    (37, 39, \"FROM\"),  # из\n",
        "    (40, 46, \"LOC\"),  # Томска\n",
        "    (81, 96, \"BUDGET\"),  # 10 тысяч рублей.\n",
        "    ]}),\n",
        "    (\"6 декабря 6 декабря точнее А так значит по 10 декабря Я еду в Москву из Норильска Мне нужен самый быстрый билет Найди пожалуйста.\",\n",
        "    {\"entities\": [\n",
        "    (0, 9, \"DATE\"),  # 6 декабря\n",
        "    (10, 53, \"GAP\"),  # 6 декабря точнее А так значит по 10 декабря\n",
        "    (60, 61, \"TO\"),  # в\n",
        "    (62, 68, \"LOC\"),  # Москву\n",
        "    (69, 71, \"FROM\"),  # из\n",
        "    (72, 81, \"LOC\"),  # Норильска\n",
        "    (92, 111, \"COMFORT\"),  # самый быстрый билет\n",
        "    ]}),\n",
        "    (\"Покажи сегодня ближайшие рейсы до Екатеринбурга. Можно с пересадкой в Новосибирск, транзит. Только, пожалуйста, ближайшие покажи мне сегодня.\",\n",
        "    {\"entities\": [\n",
        "    (7, 14, \"DATE\"),  # сегодня\n",
        "    (31, 33, \"TO\"),  # до\n",
        "    (34, 47, \"LOC\"),  # Екатеринбурга\n",
        "    (68, 69, \"TO\"),  # в\n",
        "    (20, 27, \"LOC\"),  # Новосибирск\n",
        "    (55, 67, \"TRANSIT\"),  # транзит\n",
        "    ]}),\n",
        "    (\"Поезда отменили. Покажи ближайший самолет до Кавменвод из Краснодара на завтра, 5 число утра.\",\n",
        "    {\"entities\": [\n",
        "    (0, 6, \"TRANSPORT\"),  # Поезда\n",
        "    (34, 41, \"TRANSPORT\"),  # самолет\n",
        "    (42, 44, \"TO\"),  # до\n",
        "    (45, 54, \"LOC\"),  # Кавменвод\n",
        "    (55, 57, \"FROM\"),  # из\n",
        "    (58, 68, \"LOC\"),  # Краснодара\n",
        "    (80, 92, \"DATE\"),  # 5 число утра.\n",
        "    ]}),\n",
        "    (\"Посмотри пожалуйста есть ли электрички от Тулы до Москвы на эти выходные 5-6 октября. Любое время все что есть найди покажи.\",\n",
        "    {\"entities\": [\n",
        "    (28, 38, \"TRANSPORT\"),  # электрички\n",
        "    (39, 41, \"FROM\"),  # от\n",
        "    (42, 46, \"LOC\"),  # Тулы\n",
        "    (47, 49, \"TO\"),  # до\n",
        "    (50, 56, \"LOC\"),  # Москвы\n",
        "    (73, 84, \"DATE\"),  # 5-6 октября\n",
        "    ]}),\n",
        "    (\"Срочно покажи поезд ближайший на сегодня 20 ноября из Комсомольска на Амуре до Хабаровска, ближайший, который есть, с прибытием не позже шести утра следующего дня.\",\n",
        "    {\"entities\": [\n",
        "    (14, 19, \"TRANSPORT\"),  # поезд\n",
        "    (41, 50, \"DATE\"),  # 20 ноября\n",
        "    (51, 53, \"FROM\"),  # из\n",
        "    (54, 75, \"LOC\"),  # Комсомольска на Амуре\n",
        "    (76, 78, \"TO\"),  # до\n",
        "    (79, 89, \"LOC\"),  # Хабаровска\n",
        "    (116, 162, \"DATE\"),  # с прибытием не позже шести утра следующего дня.\n",
        "    ]}),\n",
        "    (\"покажи мне, вообще, все варианты полетов из Кавминвод до Вилюйска, неважно пересадки, не важно время, главное чтобы вылет был послезавтра 7 июля.\",\n",
        "    {\"entities\": [\n",
        "    (33, 40, \"TRANSPORT\"),  # полетов\n",
        "    (41, 43, \"FROM\"),  # из\n",
        "    (44, 53, \"LOC\"),  # Кавминвод\n",
        "    (54, 56, \"TO\"),  # до\n",
        "    (57, 65, \"LOC\"),  # Вилюйска\n",
        "    (138, 144, \"DATE\"),  # 7 июля.\n",
        "    ]}),\n",
        "    (\"покажи мне на декабрь, к примеру, 5 декабря, самолеты из Москвы до Петропавловска-Камчатский интересные варианты, которые будут прямые, без пересадки, обратно пока не показывай.\",\n",
        "    {\"entities\": [\n",
        "    (11, 21, \"DATE\"),  # на декабрь\n",
        "    (34, 43, \"DATE\"),  # 5 декабря\n",
        "    (45, 53, \"TRANSPORT\"),  # самолеты\n",
        "    (54, 56, \"FROM\"),  # из\n",
        "    (57, 63, \"LOC\"),  # Москвы\n",
        "    (64, 66, \"TO\"),  # до\n",
        "    (67, 92, \"LOC\"),  # Петропавловска-Камчатский\n",
        "    (128, 149, \"TRANZIT\"),  # прямые, без пересадки\n",
        "    (151, 176, \"RETURN\"),  # обратно пока не показывай.\n",
        "    ]}),\n",
        "    (\"срочно, на завтра, поезд утренний, Тула  Казань вообще все варианты, неважно какая цена, главное чтобы утром.\",\n",
        "    {\"entities\": [\n",
        "    (11, 21, \"DATE\"),  # завтра\n",
        "    (45, 53, \"TRANSPORT\"),  # поезд\n",
        "    (11, 21, \"DATE\"),  # утренний\n",
        "    (57, 63, \"LOC\"),  # Тула\n",
        "    (57, 63, \"LOC\"),  # Казань\n",
        "    (81, 96, \"BUDGET\"),  # неважно какая цена\n",
        "    (34, 43, \"COMFORT\"),  # утром\n",
        "    ]}),\n",
        "    (\"построй пожалуйста маршрут, самолёты на 1 мая из Ярославля в Иркутск, потом сутки ночуем и третьего числа вылетаем из Иркутска в Петропавловск-камчатский, и с Петропавловска-камчатский, где-то через недельку, покажи, пожалуйста, маршруты с 15, прямой рейс до Москвы.\",\n",
        "    {\"entities\": [\n",
        "    (45, 53, \"TRANSPORT\"),  # самолёты\n",
        "    (11, 21, \"DATE\"),  # 1 мая\n",
        "    (57, 63, \"FROM\"),  # из\n",
        "    (57, 63, \"LOC\"),  # Ярославля\n",
        "    (57, 63, \"TO\"),  # в\n",
        "    (57, 63, \"LOC\"),  # Иркутск\n",
        "    (11, 21, \"DATE\"),  # третьего числа\n",
        "    (45, 53, \"TRANSPORT\"),  # вылетаем\n",
        "    (57, 63, \"FROM\"),  # из\n",
        "    (57, 63, \"LOC\"),  # Иркутска\n",
        "    (57, 63, \"TO\"),  # в\n",
        "    (57, 63, \"LOC\"),  # Петропавловск-камчатский\n",
        "    (57, 63, \"FROM\"),  # из\n",
        "    (57, 63, \"LOC\"),  # Петропавловск-камчатский\n",
        "    (11, 21, \"DATE\"),  # через недельку\n",
        "    (11, 21, \"DATE\"),  # с 15\n",
        "    (45, 53, \"TRANSPORT\"),  # прямой рейс\n",
        "    (57, 63, \"TO\"),  # до\n",
        "    (57, 63, \"LOC\"),  # Москвы.\n",
        "    ]}),\n",
        "    (\"Покажи пожалуйста самолет из Перми в Тюмень на 7 февраля желательно рейсы до обеда, а из Тюмени вечерний поезд этого же числа до Перми.\",\n",
        "    {\"entities\": [\n",
        "    (18, 25, \"TRANSPORT\"),  # самолет\n",
        "    (26, 28, \"FROM\"),  # из\n",
        "    (29, 34, \"LOC\"),  # Перми\n",
        "    (35, 36, \"TO\"),  # в\n",
        "    (37, 43, \"LOC\"),  # Тюмень\n",
        "    (47, 56, \"DATE\"),  # 7 февраля\n",
        "    (57, 82, \"COMFORT\"),  # желательно рейсы до обеда\n",
        "    (86, 88, \"FROM\"),  # из\n",
        "    (89, 95, \"LOC\"),  # Тюмени\n",
        "    (96, 104, \"DATE\"),  # вечерний\n",
        "    (105, 110, \"TRANSPORT\"),  # поезд\n",
        "    (111, 125, \"DATE\"),  # этого же числа\n",
        "    (126, 128, \"TO\"),  # до\n",
        "    (129, 134, \"LOC\"),  # Перми.\n",
        "    ]}),\n",
        "    (\"Подбери пожалуйста на выходной день 10 июля самолет из Южно-Сахалинска до Благовещенска и в этот же день оттуда поезд до Читы. Время отправления не важно, главное чтобы прилет был и поезд был в один день.\",\n",
        "    {\"entities\": [\n",
        "    (36, 43, \"DATE\"),  # 10 июля\n",
        "    (44, 51, \"TRANSPORT\"),  # самолет\n",
        "    (52, 54, \"FROM\"),  # из\n",
        "    (55, 70, \"LOC\"),  # Южно-Сахалинска\n",
        "    (71, 73, \"TO\"),  # до\n",
        "    (74, 87, \"LOC\"),  # Благовещенска\n",
        "    (90, 104, \"DATE\"),  # в этот же день\n",
        "    (112, 117, \"TRANSPORT\"),  # поезд\n",
        "    (118, 120, \"TO\"),  # до\n",
        "    (121, 125, \"LOC\"),  # Читы\n",
        "    (155, 203, \"COMFORT\"),  # главное чтобы прилет был и поезд был в один день.\n",
        "    ]}),\n",
        "    (\"покажи все самолеты вылетающие 5 сентября с Благовещенска до Красноярска.\",\n",
        "    {\"entities\": [\n",
        "    (11, 19, \"TRANSPORT\"),  # самолеты\n",
        "    (31, 41, \"DATE\"),  # 5 сентября\n",
        "    (42, 43, \"FROM\"),  # с\n",
        "    (44, 57, \"LOC\"),  # Благовещенска\n",
        "    (58, 60, \"TO\"),  # до\n",
        "    (61, 72, \"LOC\"),  # Красноярска.\n",
        "    ]}),\n",
        "    (\"Срочно найди на сегодня самолёт ближайший из Хабаровска во Владивосток.\",\n",
        "    {\"entities\": [\n",
        "    (0, 6, \"COMFORT\"),  # Срочно\n",
        "    (16, 23, \"DATE\"),  # сегодня\n",
        "    (24, 31, \"TRANSPORT\"),  # самолет\n",
        "    (42, 44, \"FROM\"),  # из\n",
        "    (45, 55, \"LOC\"),  # Хабаровска\n",
        "    (56, 58, \"TO\"),  # во\n",
        "    (59, 70, \"LOC\"),  # Владивосток.\n",
        "    ]}),\n",
        "    (\"Надо построить маршрут из Якутска, самолёт, вылет через 3 дня, это 5 февраля, до Казани, в Казани пару дней побудем и где-то числа 11 посмотри, также, самолёт до Саратова, вылет после обеда.\",\n",
        "    {\"entities\": [\n",
        "    (23, 25, \"FROM\"),  # из\n",
        "    (26, 33, \"LOC\"),  # Якутска\n",
        "    (35, 42, \"TRANSPORT\"),  # самолет\n",
        "    (67, 76, \"DATE\"),  # 5 февраля\n",
        "    (78, 80, \"TO\"),  # до\n",
        "    (81, 87, \"LOC\"),  # Казани\n",
        "    (125, 133, \"DATE\"),  # числа 11\n",
        "    (151, 158, \"TRANSPORT\"),  # самолет\n",
        "    (159, 161, \"TO\"),  # до\n",
        "    (162, 170, \"LOC\"),  # Саратова\n",
        "    (172, 189, \"COMFORT\"),  # вылет после обеда.\n",
        "    ]}),\n",
        "    (\"я с ребёнком и мужем хочу поехать с Барнаула в Ялту, новогодние праздники, выезд 28 декабря, на неделю, найди поездку суммой до 20.000.\",\n",
        "    {\"entities\": [\n",
        "    (0, 20, \"AMOUNT\"),  # я с ребёнком и мужем\n",
        "    (34, 35, \"TO\"),  # c\n",
        "    (36, 44, \"LOC\"),  # Барнаула\n",
        "    (45, 46, \"FROM\"),  # в\n",
        "    (47, 51, \"LOC\"),  # Ялту\n",
        "    (81, 91, \"DATE\"),  # 28 декабря\n",
        "    (118, 134, \"BUDGET\"),  # суммой до 20.000.\n",
        "    ]})\n",
        "]"
      ],
      "metadata": {
        "id": "XHWg3Q9SEGEj"
      },
      "execution_count": null,
      "outputs": []
    },
    {
      "cell_type": "markdown",
      "source": [
        " ОБУЧЕНИЕ МОДЕЛИ\n",
        "\n",
        "ЗАГРУЗКА ПРЕДОБУЧЕННОЙ МОДЕЛИ И ЗАЯВКА НОВЫХ СУЩНОСТЕЙ С ДАТАСЕТА ОБУЧЕНИЯ"
      ],
      "metadata": {
        "id": "xobbr3L2QUjb"
      }
    },
    {
      "cell_type": "code",
      "source": [
        "nlp = spacy.load(\"ru_core_news_sm\")\n",
        "ner = nlp.get_pipe(\"ner\")\n",
        "for _, annotations in TRAIN_DATA:\n",
        "    for ent in annotations.get(\"entities\"):\n",
        "        ner.add_label(ent[2])\n",
        "ner = nlp.get_pipe(\"ner\")\n",
        "print(\"Обученные + наши сущности:\", ner.labels)\n"
      ],
      "metadata": {
        "colab": {
          "base_uri": "https://localhost:8080/"
        },
        "id": "LyahQkqRQbpl",
        "outputId": "3f17526e-760a-4c6a-f6a3-5d5e98aafe33"
      },
      "execution_count": null,
      "outputs": [
        {
          "output_type": "stream",
          "name": "stdout",
          "text": [
            "Обученные + наши сущности: ('AMOUNT', 'BAGG', 'BUDGET', 'CHILD', 'COMFORT', 'DATE', 'FROM', 'GAP', 'LEVEL', 'LOC', 'ORG', 'PER', 'RETURN', 'TO', 'TRANSIT', 'TRANSPORT', 'TRANZIT')\n"
          ]
        }
      ]
    },
    {
      "cell_type": "markdown",
      "source": [
        "ФУНКЦИЯ ДООБУЧЕНИЯ ПРЕДОБУЧЕННОЙ МОДЕЛИ НА НОВЫХ СУЩНОСТЯХ"
      ],
      "metadata": {
        "id": "WMmw_9G1QjLy"
      }
    },
    {
      "cell_type": "code",
      "source": [
        "import spacy\n",
        "from spacy.training import offsets_to_biluo_tags\n",
        "\n",
        "nlp = spacy.load(\"en_core_web_sm\")\n",
        "\n",
        "def analyze_entity_alignment(text, entities):\n",
        "    doc = nlp.make_doc(text)\n",
        "    biluo_tags = offsets_to_biluo_tags(doc, entities)\n",
        "    for token, tag in zip(doc, biluo_tags):\n",
        "        print(f\"{token.text}: {tag}\")\n",
        "\n",
        "# Пример текста и меток сущностей\n",
        "text = \"Покажи сегодня ближайшие рейсы до Екатеринбурга.\"\n",
        "entities = [(7, 14, 'DATE'), (31, 33, 'TO'), (34, 47, 'LOC')]\n",
        "\n",
        "# Анализ выравнивания сущностей\n",
        "analyze_entity_alignment(text, entities)\n"
      ],
      "metadata": {
        "colab": {
          "base_uri": "https://localhost:8080/"
        },
        "id": "Rkj4fA8OUxNN",
        "outputId": "89607ddf-eff2-489a-95b2-de784b4e9d83"
      },
      "execution_count": null,
      "outputs": [
        {
          "output_type": "stream",
          "name": "stdout",
          "text": [
            "Покажи: O\n",
            "сегодня: U-DATE\n",
            "ближайшие: O\n",
            "рейсы: O\n",
            "до: U-TO\n",
            "Екатеринбурга: U-LOC\n",
            ".: O\n"
          ]
        }
      ]
    },
    {
      "cell_type": "code",
      "source": [
        "!pip install -U spacy\n",
        "!python -m spacy download en_core_web_sm"
      ],
      "metadata": {
        "colab": {
          "base_uri": "https://localhost:8080/"
        },
        "id": "D8ZeT2vsXY-G",
        "outputId": "25bf478e-0054-44d3-ff3b-79b5ac865d96"
      },
      "execution_count": null,
      "outputs": [
        {
          "output_type": "stream",
          "name": "stdout",
          "text": [
            "Requirement already satisfied: spacy in /usr/local/lib/python3.10/dist-packages (3.7.4)\n",
            "Requirement already satisfied: spacy-legacy<3.1.0,>=3.0.11 in /usr/local/lib/python3.10/dist-packages (from spacy) (3.0.12)\n",
            "Requirement already satisfied: spacy-loggers<2.0.0,>=1.0.0 in /usr/local/lib/python3.10/dist-packages (from spacy) (1.0.5)\n",
            "Requirement already satisfied: murmurhash<1.1.0,>=0.28.0 in /usr/local/lib/python3.10/dist-packages (from spacy) (1.0.10)\n",
            "Requirement already satisfied: cymem<2.1.0,>=2.0.2 in /usr/local/lib/python3.10/dist-packages (from spacy) (2.0.8)\n",
            "Requirement already satisfied: preshed<3.1.0,>=3.0.2 in /usr/local/lib/python3.10/dist-packages (from spacy) (3.0.9)\n",
            "Requirement already satisfied: thinc<8.3.0,>=8.2.2 in /usr/local/lib/python3.10/dist-packages (from spacy) (8.2.3)\n",
            "Requirement already satisfied: wasabi<1.2.0,>=0.9.1 in /usr/local/lib/python3.10/dist-packages (from spacy) (1.1.2)\n",
            "Requirement already satisfied: srsly<3.0.0,>=2.4.3 in /usr/local/lib/python3.10/dist-packages (from spacy) (2.4.8)\n",
            "Requirement already satisfied: catalogue<2.1.0,>=2.0.6 in /usr/local/lib/python3.10/dist-packages (from spacy) (2.0.10)\n",
            "Requirement already satisfied: weasel<0.4.0,>=0.1.0 in /usr/local/lib/python3.10/dist-packages (from spacy) (0.3.4)\n",
            "Requirement already satisfied: typer<0.10.0,>=0.3.0 in /usr/local/lib/python3.10/dist-packages (from spacy) (0.9.0)\n",
            "Requirement already satisfied: smart-open<7.0.0,>=5.2.1 in /usr/local/lib/python3.10/dist-packages (from spacy) (6.4.0)\n",
            "Requirement already satisfied: tqdm<5.0.0,>=4.38.0 in /usr/local/lib/python3.10/dist-packages (from spacy) (4.66.2)\n",
            "Requirement already satisfied: requests<3.0.0,>=2.13.0 in /usr/local/lib/python3.10/dist-packages (from spacy) (2.31.0)\n",
            "Requirement already satisfied: pydantic!=1.8,!=1.8.1,<3.0.0,>=1.7.4 in /usr/local/lib/python3.10/dist-packages (from spacy) (2.6.4)\n",
            "Requirement already satisfied: jinja2 in /usr/local/lib/python3.10/dist-packages (from spacy) (3.1.3)\n",
            "Requirement already satisfied: setuptools in /usr/local/lib/python3.10/dist-packages (from spacy) (67.7.2)\n",
            "Requirement already satisfied: packaging>=20.0 in /usr/local/lib/python3.10/dist-packages (from spacy) (24.0)\n",
            "Requirement already satisfied: langcodes<4.0.0,>=3.2.0 in /usr/local/lib/python3.10/dist-packages (from spacy) (3.3.0)\n",
            "Requirement already satisfied: numpy>=1.19.0 in /usr/local/lib/python3.10/dist-packages (from spacy) (1.25.2)\n",
            "Requirement already satisfied: annotated-types>=0.4.0 in /usr/local/lib/python3.10/dist-packages (from pydantic!=1.8,!=1.8.1,<3.0.0,>=1.7.4->spacy) (0.6.0)\n",
            "Requirement already satisfied: pydantic-core==2.16.3 in /usr/local/lib/python3.10/dist-packages (from pydantic!=1.8,!=1.8.1,<3.0.0,>=1.7.4->spacy) (2.16.3)\n",
            "Requirement already satisfied: typing-extensions>=4.6.1 in /usr/local/lib/python3.10/dist-packages (from pydantic!=1.8,!=1.8.1,<3.0.0,>=1.7.4->spacy) (4.10.0)\n",
            "Requirement already satisfied: charset-normalizer<4,>=2 in /usr/local/lib/python3.10/dist-packages (from requests<3.0.0,>=2.13.0->spacy) (3.3.2)\n",
            "Requirement already satisfied: idna<4,>=2.5 in /usr/local/lib/python3.10/dist-packages (from requests<3.0.0,>=2.13.0->spacy) (3.6)\n",
            "Requirement already satisfied: urllib3<3,>=1.21.1 in /usr/local/lib/python3.10/dist-packages (from requests<3.0.0,>=2.13.0->spacy) (2.0.7)\n",
            "Requirement already satisfied: certifi>=2017.4.17 in /usr/local/lib/python3.10/dist-packages (from requests<3.0.0,>=2.13.0->spacy) (2024.2.2)\n",
            "Requirement already satisfied: blis<0.8.0,>=0.7.8 in /usr/local/lib/python3.10/dist-packages (from thinc<8.3.0,>=8.2.2->spacy) (0.7.11)\n",
            "Requirement already satisfied: confection<1.0.0,>=0.0.1 in /usr/local/lib/python3.10/dist-packages (from thinc<8.3.0,>=8.2.2->spacy) (0.1.4)\n",
            "Requirement already satisfied: click<9.0.0,>=7.1.1 in /usr/local/lib/python3.10/dist-packages (from typer<0.10.0,>=0.3.0->spacy) (8.1.7)\n",
            "Requirement already satisfied: cloudpathlib<0.17.0,>=0.7.0 in /usr/local/lib/python3.10/dist-packages (from weasel<0.4.0,>=0.1.0->spacy) (0.16.0)\n",
            "Requirement already satisfied: MarkupSafe>=2.0 in /usr/local/lib/python3.10/dist-packages (from jinja2->spacy) (2.1.5)\n",
            "Collecting en-core-web-sm==3.7.1\n",
            "  Downloading https://github.com/explosion/spacy-models/releases/download/en_core_web_sm-3.7.1/en_core_web_sm-3.7.1-py3-none-any.whl (12.8 MB)\n",
            "\u001b[2K     \u001b[90m━━━━━━━━━━━━━━━━━━━━━━━━━━━━━━━━━━━━━━━━\u001b[0m \u001b[32m12.8/12.8 MB\u001b[0m \u001b[31m29.3 MB/s\u001b[0m eta \u001b[36m0:00:00\u001b[0m\n",
            "\u001b[?25hRequirement already satisfied: spacy<3.8.0,>=3.7.2 in /usr/local/lib/python3.10/dist-packages (from en-core-web-sm==3.7.1) (3.7.4)\n",
            "Requirement already satisfied: spacy-legacy<3.1.0,>=3.0.11 in /usr/local/lib/python3.10/dist-packages (from spacy<3.8.0,>=3.7.2->en-core-web-sm==3.7.1) (3.0.12)\n",
            "Requirement already satisfied: spacy-loggers<2.0.0,>=1.0.0 in /usr/local/lib/python3.10/dist-packages (from spacy<3.8.0,>=3.7.2->en-core-web-sm==3.7.1) (1.0.5)\n",
            "Requirement already satisfied: murmurhash<1.1.0,>=0.28.0 in /usr/local/lib/python3.10/dist-packages (from spacy<3.8.0,>=3.7.2->en-core-web-sm==3.7.1) (1.0.10)\n",
            "Requirement already satisfied: cymem<2.1.0,>=2.0.2 in /usr/local/lib/python3.10/dist-packages (from spacy<3.8.0,>=3.7.2->en-core-web-sm==3.7.1) (2.0.8)\n",
            "Requirement already satisfied: preshed<3.1.0,>=3.0.2 in /usr/local/lib/python3.10/dist-packages (from spacy<3.8.0,>=3.7.2->en-core-web-sm==3.7.1) (3.0.9)\n",
            "Requirement already satisfied: thinc<8.3.0,>=8.2.2 in /usr/local/lib/python3.10/dist-packages (from spacy<3.8.0,>=3.7.2->en-core-web-sm==3.7.1) (8.2.3)\n",
            "Requirement already satisfied: wasabi<1.2.0,>=0.9.1 in /usr/local/lib/python3.10/dist-packages (from spacy<3.8.0,>=3.7.2->en-core-web-sm==3.7.1) (1.1.2)\n",
            "Requirement already satisfied: srsly<3.0.0,>=2.4.3 in /usr/local/lib/python3.10/dist-packages (from spacy<3.8.0,>=3.7.2->en-core-web-sm==3.7.1) (2.4.8)\n",
            "Requirement already satisfied: catalogue<2.1.0,>=2.0.6 in /usr/local/lib/python3.10/dist-packages (from spacy<3.8.0,>=3.7.2->en-core-web-sm==3.7.1) (2.0.10)\n",
            "Requirement already satisfied: weasel<0.4.0,>=0.1.0 in /usr/local/lib/python3.10/dist-packages (from spacy<3.8.0,>=3.7.2->en-core-web-sm==3.7.1) (0.3.4)\n",
            "Requirement already satisfied: typer<0.10.0,>=0.3.0 in /usr/local/lib/python3.10/dist-packages (from spacy<3.8.0,>=3.7.2->en-core-web-sm==3.7.1) (0.9.0)\n",
            "Requirement already satisfied: smart-open<7.0.0,>=5.2.1 in /usr/local/lib/python3.10/dist-packages (from spacy<3.8.0,>=3.7.2->en-core-web-sm==3.7.1) (6.4.0)\n",
            "Requirement already satisfied: tqdm<5.0.0,>=4.38.0 in /usr/local/lib/python3.10/dist-packages (from spacy<3.8.0,>=3.7.2->en-core-web-sm==3.7.1) (4.66.2)\n",
            "Requirement already satisfied: requests<3.0.0,>=2.13.0 in /usr/local/lib/python3.10/dist-packages (from spacy<3.8.0,>=3.7.2->en-core-web-sm==3.7.1) (2.31.0)\n",
            "Requirement already satisfied: pydantic!=1.8,!=1.8.1,<3.0.0,>=1.7.4 in /usr/local/lib/python3.10/dist-packages (from spacy<3.8.0,>=3.7.2->en-core-web-sm==3.7.1) (2.6.4)\n",
            "Requirement already satisfied: jinja2 in /usr/local/lib/python3.10/dist-packages (from spacy<3.8.0,>=3.7.2->en-core-web-sm==3.7.1) (3.1.3)\n",
            "Requirement already satisfied: setuptools in /usr/local/lib/python3.10/dist-packages (from spacy<3.8.0,>=3.7.2->en-core-web-sm==3.7.1) (67.7.2)\n",
            "Requirement already satisfied: packaging>=20.0 in /usr/local/lib/python3.10/dist-packages (from spacy<3.8.0,>=3.7.2->en-core-web-sm==3.7.1) (24.0)\n",
            "Requirement already satisfied: langcodes<4.0.0,>=3.2.0 in /usr/local/lib/python3.10/dist-packages (from spacy<3.8.0,>=3.7.2->en-core-web-sm==3.7.1) (3.3.0)\n",
            "Requirement already satisfied: numpy>=1.19.0 in /usr/local/lib/python3.10/dist-packages (from spacy<3.8.0,>=3.7.2->en-core-web-sm==3.7.1) (1.25.2)\n",
            "Requirement already satisfied: annotated-types>=0.4.0 in /usr/local/lib/python3.10/dist-packages (from pydantic!=1.8,!=1.8.1,<3.0.0,>=1.7.4->spacy<3.8.0,>=3.7.2->en-core-web-sm==3.7.1) (0.6.0)\n",
            "Requirement already satisfied: pydantic-core==2.16.3 in /usr/local/lib/python3.10/dist-packages (from pydantic!=1.8,!=1.8.1,<3.0.0,>=1.7.4->spacy<3.8.0,>=3.7.2->en-core-web-sm==3.7.1) (2.16.3)\n",
            "Requirement already satisfied: typing-extensions>=4.6.1 in /usr/local/lib/python3.10/dist-packages (from pydantic!=1.8,!=1.8.1,<3.0.0,>=1.7.4->spacy<3.8.0,>=3.7.2->en-core-web-sm==3.7.1) (4.10.0)\n",
            "Requirement already satisfied: charset-normalizer<4,>=2 in /usr/local/lib/python3.10/dist-packages (from requests<3.0.0,>=2.13.0->spacy<3.8.0,>=3.7.2->en-core-web-sm==3.7.1) (3.3.2)\n",
            "Requirement already satisfied: idna<4,>=2.5 in /usr/local/lib/python3.10/dist-packages (from requests<3.0.0,>=2.13.0->spacy<3.8.0,>=3.7.2->en-core-web-sm==3.7.1) (3.6)\n",
            "Requirement already satisfied: urllib3<3,>=1.21.1 in /usr/local/lib/python3.10/dist-packages (from requests<3.0.0,>=2.13.0->spacy<3.8.0,>=3.7.2->en-core-web-sm==3.7.1) (2.0.7)\n",
            "Requirement already satisfied: certifi>=2017.4.17 in /usr/local/lib/python3.10/dist-packages (from requests<3.0.0,>=2.13.0->spacy<3.8.0,>=3.7.2->en-core-web-sm==3.7.1) (2024.2.2)\n",
            "Requirement already satisfied: blis<0.8.0,>=0.7.8 in /usr/local/lib/python3.10/dist-packages (from thinc<8.3.0,>=8.2.2->spacy<3.8.0,>=3.7.2->en-core-web-sm==3.7.1) (0.7.11)\n",
            "Requirement already satisfied: confection<1.0.0,>=0.0.1 in /usr/local/lib/python3.10/dist-packages (from thinc<8.3.0,>=8.2.2->spacy<3.8.0,>=3.7.2->en-core-web-sm==3.7.1) (0.1.4)\n",
            "Requirement already satisfied: click<9.0.0,>=7.1.1 in /usr/local/lib/python3.10/dist-packages (from typer<0.10.0,>=0.3.0->spacy<3.8.0,>=3.7.2->en-core-web-sm==3.7.1) (8.1.7)\n",
            "Requirement already satisfied: cloudpathlib<0.17.0,>=0.7.0 in /usr/local/lib/python3.10/dist-packages (from weasel<0.4.0,>=0.1.0->spacy<3.8.0,>=3.7.2->en-core-web-sm==3.7.1) (0.16.0)\n",
            "Requirement already satisfied: MarkupSafe>=2.0 in /usr/local/lib/python3.10/dist-packages (from jinja2->spacy<3.8.0,>=3.7.2->en-core-web-sm==3.7.1) (2.1.5)\n",
            "\u001b[38;5;2m✔ Download and installation successful\u001b[0m\n",
            "You can now load the package via spacy.load('en_core_web_sm')\n",
            "\u001b[38;5;3m⚠ Restart to reload dependencies\u001b[0m\n",
            "If you are in a Jupyter or Colab notebook, you may need to restart Python in\n",
            "order to load all the package's dependencies. You can do this by selecting the\n",
            "'Restart kernel' or 'Restart runtime' option.\n"
          ]
        }
      ]
    },
    {
      "cell_type": "code",
      "source": [
        "!pip install -U spacy\n",
        "!python -m spacy download en_core_web_sm"
      ],
      "metadata": {
        "colab": {
          "base_uri": "https://localhost:8080/"
        },
        "id": "OWpwoboRYALr",
        "outputId": "76cd3695-79c2-4b81-f8e9-f2b862805b01"
      },
      "execution_count": null,
      "outputs": [
        {
          "output_type": "stream",
          "name": "stdout",
          "text": [
            "Requirement already satisfied: spacy in /usr/local/lib/python3.10/dist-packages (3.7.4)\n",
            "Requirement already satisfied: spacy-legacy<3.1.0,>=3.0.11 in /usr/local/lib/python3.10/dist-packages (from spacy) (3.0.12)\n",
            "Requirement already satisfied: spacy-loggers<2.0.0,>=1.0.0 in /usr/local/lib/python3.10/dist-packages (from spacy) (1.0.5)\n",
            "Requirement already satisfied: murmurhash<1.1.0,>=0.28.0 in /usr/local/lib/python3.10/dist-packages (from spacy) (1.0.10)\n",
            "Requirement already satisfied: cymem<2.1.0,>=2.0.2 in /usr/local/lib/python3.10/dist-packages (from spacy) (2.0.8)\n",
            "Requirement already satisfied: preshed<3.1.0,>=3.0.2 in /usr/local/lib/python3.10/dist-packages (from spacy) (3.0.9)\n",
            "Requirement already satisfied: thinc<8.3.0,>=8.2.2 in /usr/local/lib/python3.10/dist-packages (from spacy) (8.2.3)\n",
            "Requirement already satisfied: wasabi<1.2.0,>=0.9.1 in /usr/local/lib/python3.10/dist-packages (from spacy) (1.1.2)\n",
            "Requirement already satisfied: srsly<3.0.0,>=2.4.3 in /usr/local/lib/python3.10/dist-packages (from spacy) (2.4.8)\n",
            "Requirement already satisfied: catalogue<2.1.0,>=2.0.6 in /usr/local/lib/python3.10/dist-packages (from spacy) (2.0.10)\n",
            "Requirement already satisfied: weasel<0.4.0,>=0.1.0 in /usr/local/lib/python3.10/dist-packages (from spacy) (0.3.4)\n",
            "Requirement already satisfied: typer<0.10.0,>=0.3.0 in /usr/local/lib/python3.10/dist-packages (from spacy) (0.9.0)\n",
            "Requirement already satisfied: smart-open<7.0.0,>=5.2.1 in /usr/local/lib/python3.10/dist-packages (from spacy) (6.4.0)\n",
            "Requirement already satisfied: tqdm<5.0.0,>=4.38.0 in /usr/local/lib/python3.10/dist-packages (from spacy) (4.66.2)\n",
            "Requirement already satisfied: requests<3.0.0,>=2.13.0 in /usr/local/lib/python3.10/dist-packages (from spacy) (2.31.0)\n",
            "Requirement already satisfied: pydantic!=1.8,!=1.8.1,<3.0.0,>=1.7.4 in /usr/local/lib/python3.10/dist-packages (from spacy) (2.6.4)\n",
            "Requirement already satisfied: jinja2 in /usr/local/lib/python3.10/dist-packages (from spacy) (3.1.3)\n",
            "Requirement already satisfied: setuptools in /usr/local/lib/python3.10/dist-packages (from spacy) (67.7.2)\n",
            "Requirement already satisfied: packaging>=20.0 in /usr/local/lib/python3.10/dist-packages (from spacy) (24.0)\n",
            "Requirement already satisfied: langcodes<4.0.0,>=3.2.0 in /usr/local/lib/python3.10/dist-packages (from spacy) (3.3.0)\n",
            "Requirement already satisfied: numpy>=1.19.0 in /usr/local/lib/python3.10/dist-packages (from spacy) (1.25.2)\n",
            "Requirement already satisfied: annotated-types>=0.4.0 in /usr/local/lib/python3.10/dist-packages (from pydantic!=1.8,!=1.8.1,<3.0.0,>=1.7.4->spacy) (0.6.0)\n",
            "Requirement already satisfied: pydantic-core==2.16.3 in /usr/local/lib/python3.10/dist-packages (from pydantic!=1.8,!=1.8.1,<3.0.0,>=1.7.4->spacy) (2.16.3)\n",
            "Requirement already satisfied: typing-extensions>=4.6.1 in /usr/local/lib/python3.10/dist-packages (from pydantic!=1.8,!=1.8.1,<3.0.0,>=1.7.4->spacy) (4.10.0)\n",
            "Requirement already satisfied: charset-normalizer<4,>=2 in /usr/local/lib/python3.10/dist-packages (from requests<3.0.0,>=2.13.0->spacy) (3.3.2)\n",
            "Requirement already satisfied: idna<4,>=2.5 in /usr/local/lib/python3.10/dist-packages (from requests<3.0.0,>=2.13.0->spacy) (3.6)\n",
            "Requirement already satisfied: urllib3<3,>=1.21.1 in /usr/local/lib/python3.10/dist-packages (from requests<3.0.0,>=2.13.0->spacy) (2.0.7)\n",
            "Requirement already satisfied: certifi>=2017.4.17 in /usr/local/lib/python3.10/dist-packages (from requests<3.0.0,>=2.13.0->spacy) (2024.2.2)\n",
            "Requirement already satisfied: blis<0.8.0,>=0.7.8 in /usr/local/lib/python3.10/dist-packages (from thinc<8.3.0,>=8.2.2->spacy) (0.7.11)\n",
            "Requirement already satisfied: confection<1.0.0,>=0.0.1 in /usr/local/lib/python3.10/dist-packages (from thinc<8.3.0,>=8.2.2->spacy) (0.1.4)\n",
            "Requirement already satisfied: click<9.0.0,>=7.1.1 in /usr/local/lib/python3.10/dist-packages (from typer<0.10.0,>=0.3.0->spacy) (8.1.7)\n",
            "Requirement already satisfied: cloudpathlib<0.17.0,>=0.7.0 in /usr/local/lib/python3.10/dist-packages (from weasel<0.4.0,>=0.1.0->spacy) (0.16.0)\n",
            "Requirement already satisfied: MarkupSafe>=2.0 in /usr/local/lib/python3.10/dist-packages (from jinja2->spacy) (2.1.5)\n",
            "Collecting en-core-web-sm==3.7.1\n",
            "  Downloading https://github.com/explosion/spacy-models/releases/download/en_core_web_sm-3.7.1/en_core_web_sm-3.7.1-py3-none-any.whl (12.8 MB)\n",
            "\u001b[2K     \u001b[90m━━━━━━━━━━━━━━━━━━━━━━━━━━━━━━━━━━━━━━━━\u001b[0m \u001b[32m12.8/12.8 MB\u001b[0m \u001b[31m30.8 MB/s\u001b[0m eta \u001b[36m0:00:00\u001b[0m\n",
            "\u001b[?25hRequirement already satisfied: spacy<3.8.0,>=3.7.2 in /usr/local/lib/python3.10/dist-packages (from en-core-web-sm==3.7.1) (3.7.4)\n",
            "Requirement already satisfied: spacy-legacy<3.1.0,>=3.0.11 in /usr/local/lib/python3.10/dist-packages (from spacy<3.8.0,>=3.7.2->en-core-web-sm==3.7.1) (3.0.12)\n",
            "Requirement already satisfied: spacy-loggers<2.0.0,>=1.0.0 in /usr/local/lib/python3.10/dist-packages (from spacy<3.8.0,>=3.7.2->en-core-web-sm==3.7.1) (1.0.5)\n",
            "Requirement already satisfied: murmurhash<1.1.0,>=0.28.0 in /usr/local/lib/python3.10/dist-packages (from spacy<3.8.0,>=3.7.2->en-core-web-sm==3.7.1) (1.0.10)\n",
            "Requirement already satisfied: cymem<2.1.0,>=2.0.2 in /usr/local/lib/python3.10/dist-packages (from spacy<3.8.0,>=3.7.2->en-core-web-sm==3.7.1) (2.0.8)\n",
            "Requirement already satisfied: preshed<3.1.0,>=3.0.2 in /usr/local/lib/python3.10/dist-packages (from spacy<3.8.0,>=3.7.2->en-core-web-sm==3.7.1) (3.0.9)\n",
            "Requirement already satisfied: thinc<8.3.0,>=8.2.2 in /usr/local/lib/python3.10/dist-packages (from spacy<3.8.0,>=3.7.2->en-core-web-sm==3.7.1) (8.2.3)\n",
            "Requirement already satisfied: wasabi<1.2.0,>=0.9.1 in /usr/local/lib/python3.10/dist-packages (from spacy<3.8.0,>=3.7.2->en-core-web-sm==3.7.1) (1.1.2)\n",
            "Requirement already satisfied: srsly<3.0.0,>=2.4.3 in /usr/local/lib/python3.10/dist-packages (from spacy<3.8.0,>=3.7.2->en-core-web-sm==3.7.1) (2.4.8)\n",
            "Requirement already satisfied: catalogue<2.1.0,>=2.0.6 in /usr/local/lib/python3.10/dist-packages (from spacy<3.8.0,>=3.7.2->en-core-web-sm==3.7.1) (2.0.10)\n",
            "Requirement already satisfied: weasel<0.4.0,>=0.1.0 in /usr/local/lib/python3.10/dist-packages (from spacy<3.8.0,>=3.7.2->en-core-web-sm==3.7.1) (0.3.4)\n",
            "Requirement already satisfied: typer<0.10.0,>=0.3.0 in /usr/local/lib/python3.10/dist-packages (from spacy<3.8.0,>=3.7.2->en-core-web-sm==3.7.1) (0.9.0)\n",
            "Requirement already satisfied: smart-open<7.0.0,>=5.2.1 in /usr/local/lib/python3.10/dist-packages (from spacy<3.8.0,>=3.7.2->en-core-web-sm==3.7.1) (6.4.0)\n",
            "Requirement already satisfied: tqdm<5.0.0,>=4.38.0 in /usr/local/lib/python3.10/dist-packages (from spacy<3.8.0,>=3.7.2->en-core-web-sm==3.7.1) (4.66.2)\n",
            "Requirement already satisfied: requests<3.0.0,>=2.13.0 in /usr/local/lib/python3.10/dist-packages (from spacy<3.8.0,>=3.7.2->en-core-web-sm==3.7.1) (2.31.0)\n",
            "Requirement already satisfied: pydantic!=1.8,!=1.8.1,<3.0.0,>=1.7.4 in /usr/local/lib/python3.10/dist-packages (from spacy<3.8.0,>=3.7.2->en-core-web-sm==3.7.1) (2.6.4)\n",
            "Requirement already satisfied: jinja2 in /usr/local/lib/python3.10/dist-packages (from spacy<3.8.0,>=3.7.2->en-core-web-sm==3.7.1) (3.1.3)\n",
            "Requirement already satisfied: setuptools in /usr/local/lib/python3.10/dist-packages (from spacy<3.8.0,>=3.7.2->en-core-web-sm==3.7.1) (67.7.2)\n",
            "Requirement already satisfied: packaging>=20.0 in /usr/local/lib/python3.10/dist-packages (from spacy<3.8.0,>=3.7.2->en-core-web-sm==3.7.1) (24.0)\n",
            "Requirement already satisfied: langcodes<4.0.0,>=3.2.0 in /usr/local/lib/python3.10/dist-packages (from spacy<3.8.0,>=3.7.2->en-core-web-sm==3.7.1) (3.3.0)\n",
            "Requirement already satisfied: numpy>=1.19.0 in /usr/local/lib/python3.10/dist-packages (from spacy<3.8.0,>=3.7.2->en-core-web-sm==3.7.1) (1.25.2)\n",
            "Requirement already satisfied: annotated-types>=0.4.0 in /usr/local/lib/python3.10/dist-packages (from pydantic!=1.8,!=1.8.1,<3.0.0,>=1.7.4->spacy<3.8.0,>=3.7.2->en-core-web-sm==3.7.1) (0.6.0)\n",
            "Requirement already satisfied: pydantic-core==2.16.3 in /usr/local/lib/python3.10/dist-packages (from pydantic!=1.8,!=1.8.1,<3.0.0,>=1.7.4->spacy<3.8.0,>=3.7.2->en-core-web-sm==3.7.1) (2.16.3)\n",
            "Requirement already satisfied: typing-extensions>=4.6.1 in /usr/local/lib/python3.10/dist-packages (from pydantic!=1.8,!=1.8.1,<3.0.0,>=1.7.4->spacy<3.8.0,>=3.7.2->en-core-web-sm==3.7.1) (4.10.0)\n",
            "Requirement already satisfied: charset-normalizer<4,>=2 in /usr/local/lib/python3.10/dist-packages (from requests<3.0.0,>=2.13.0->spacy<3.8.0,>=3.7.2->en-core-web-sm==3.7.1) (3.3.2)\n",
            "Requirement already satisfied: idna<4,>=2.5 in /usr/local/lib/python3.10/dist-packages (from requests<3.0.0,>=2.13.0->spacy<3.8.0,>=3.7.2->en-core-web-sm==3.7.1) (3.6)\n",
            "Requirement already satisfied: urllib3<3,>=1.21.1 in /usr/local/lib/python3.10/dist-packages (from requests<3.0.0,>=2.13.0->spacy<3.8.0,>=3.7.2->en-core-web-sm==3.7.1) (2.0.7)\n",
            "Requirement already satisfied: certifi>=2017.4.17 in /usr/local/lib/python3.10/dist-packages (from requests<3.0.0,>=2.13.0->spacy<3.8.0,>=3.7.2->en-core-web-sm==3.7.1) (2024.2.2)\n",
            "Requirement already satisfied: blis<0.8.0,>=0.7.8 in /usr/local/lib/python3.10/dist-packages (from thinc<8.3.0,>=8.2.2->spacy<3.8.0,>=3.7.2->en-core-web-sm==3.7.1) (0.7.11)\n",
            "Requirement already satisfied: confection<1.0.0,>=0.0.1 in /usr/local/lib/python3.10/dist-packages (from thinc<8.3.0,>=8.2.2->spacy<3.8.0,>=3.7.2->en-core-web-sm==3.7.1) (0.1.4)\n",
            "Requirement already satisfied: click<9.0.0,>=7.1.1 in /usr/local/lib/python3.10/dist-packages (from typer<0.10.0,>=0.3.0->spacy<3.8.0,>=3.7.2->en-core-web-sm==3.7.1) (8.1.7)\n",
            "Requirement already satisfied: cloudpathlib<0.17.0,>=0.7.0 in /usr/local/lib/python3.10/dist-packages (from weasel<0.4.0,>=0.1.0->spacy<3.8.0,>=3.7.2->en-core-web-sm==3.7.1) (0.16.0)\n",
            "Requirement already satisfied: MarkupSafe>=2.0 in /usr/local/lib/python3.10/dist-packages (from jinja2->spacy<3.8.0,>=3.7.2->en-core-web-sm==3.7.1) (2.1.5)\n",
            "\u001b[38;5;2m✔ Download and installation successful\u001b[0m\n",
            "You can now load the package via spacy.load('en_core_web_sm')\n",
            "\u001b[38;5;3m⚠ Restart to reload dependencies\u001b[0m\n",
            "If you are in a Jupyter or Colab notebook, you may need to restart Python in\n",
            "order to load all the package's dependencies. You can do this by selecting the\n",
            "'Restart kernel' or 'Restart runtime' option.\n"
          ]
        }
      ]
    },
    {
      "cell_type": "code",
      "source": [
        "other_pipes = [pipe for pipe in nlp.pipe_names if pipe != \"ner\"]\n",
        "with nlp.disable_pipes(*other_pipes):\n",
        "   optimizer = nlp.begin_training()\n",
        "      for itn in range(50):\n",
        "        random.shuffle(TRAIN_DATA)\n",
        "        losses = {}\n",
        "        for text, annotations in TRAIN_DATA:\n",
        "            doc = nlp.make_doc(text)\n",
        "            example = Example.from_dict(doc, annotations)\n",
        "            nlp.update([example], drop=0.5, losses=losses)\n",
        "        print(losses)"
      ],
      "metadata": {
        "id": "PZOk_Z1dQilx"
      },
      "execution_count": null,
      "outputs": []
    },
    {
      "cell_type": "code",
      "source": [
        "nlp.to_disk(\"/content/drive/MyDrive/NLP_spacy\")"
      ],
      "metadata": {
        "id": "w_qoEuZ1Y3Xj"
      },
      "execution_count": null,
      "outputs": []
    },
    {
      "cell_type": "markdown",
      "source": [
        " РАСПОЗНОВАНИЕ СУЩНОСТЕЙ\n",
        "\n",
        "ЗАГРУЖАЕМ МОДЕЛЬ"
      ],
      "metadata": {
        "id": "Abb1PoOzY9n9"
      }
    },
    {
      "cell_type": "code",
      "source": [
        "work_path = '/content/drive/MyDrive/NLP_spacy'\n",
        "output_dir = work_path\n",
        "if not os.path.isdir(output_dir): print('Папка', output_dir, 'не найдена!')\n",
        "print(\"Loading from\", output_dir)\n",
        "nlp = spacy.load(output_dir)"
      ],
      "metadata": {
        "colab": {
          "base_uri": "https://localhost:8080/"
        },
        "id": "qxH2VrBaY_6F",
        "outputId": "9f347d12-6863-4ddd-87d0-668ac8ac4848"
      },
      "execution_count": null,
      "outputs": [
        {
          "output_type": "stream",
          "name": "stdout",
          "text": [
            "Loading from /content/drive/MyDrive/NLP_spacy\n"
          ]
        }
      ]
    },
    {
      "cell_type": "markdown",
      "source": [
        "ТЕСТИРУЕМ РАБОТУ МОДЕЛИ РАСПОЗНАВАНИЯ СУЩНОСТЕЙ"
      ],
      "metadata": {
        "id": "2xhPGYXyZJNj"
      }
    },
    {
      "cell_type": "code",
      "source": [
        "# тестирование инициализированной модели\n",
        "#test_text = \"Самолет до Москвы из Владивостока. Там нужно быть 5 мая вечером. Какие есть варианты? На двоих пассажиров без детей. Без багажа. Можно даже через Новосибирск. Обратно 26 числа. Покажи все, что есть. Общий бюджет 10000 рублей.\"\n",
        "test_text = \"Я из Уфы, поеду в Кострому. Мне нужен билет через неделю. Лучше на выходные. Так, у меня будет на поездку 10 тысяч рублей.\"\n",
        "#test_text = \"Срочно покажи поезд ближайший на сегодня 20 ноября из Комсомольска на Амуре до Хабаровска, ближайший, который есть. С прибытием не позже 6 утра следующего дня.\"\n",
        "#test_text = \"Какие есть варианты добраться 15 декабря из Краснодара в Новосибирск? Обратный возврат 19 декабря пассажир 1.\"\n",
        "\n",
        "doc = nlp(test_text)\n",
        "\n",
        "print([(w.text, w.pos_) for w in doc])\n",
        "print()\n",
        "print(\"Entities\", [(ent.text, ent.label_) for ent in doc.ents])\n",
        "print()\n",
        "spacy.displacy.render(doc, style=\"ent\", jupyter=True)"
      ],
      "metadata": {
        "colab": {
          "base_uri": "https://localhost:8080/",
          "height": 141
        },
        "id": "GnumIgUGZK-E",
        "outputId": "45490375-f2aa-4684-db9a-ad50d1ef8259"
      },
      "execution_count": null,
      "outputs": [
        {
          "output_type": "stream",
          "name": "stdout",
          "text": [
            "[('Я', 'PROPN'), ('из', 'PROPN'), ('Уфы', 'PROPN'), (',', 'PUNCT'), ('поеду', 'VERB'), ('в', 'PROPN'), ('Кострому', 'PROPN'), ('.', 'PUNCT'), ('Мне', 'PROPN'), ('нужен', 'PROPN'), ('билет', 'ADJ'), ('через', 'ADV'), ('неделю', 'ADV'), ('.', 'PUNCT'), ('Лучше', 'PROPN'), ('на', 'PROPN'), ('выходные', 'PROPN'), ('.', 'PUNCT'), ('Так', 'PROPN'), (',', 'PUNCT'), ('у', 'DET'), ('меня', 'NOUN'), ('будет', 'PROPN'), ('на', 'PROPN'), ('поездку', 'VERB'), ('10', 'NUM'), ('тысяч', 'ADJ'), ('рублей', 'NOUN'), ('.', 'PUNCT')]\n",
            "\n",
            "Entities [('Кострому', 'PERSON'), ('Мне', 'PERSON'), ('10', 'CARDINAL')]\n",
            "\n"
          ]
        },
        {
          "output_type": "display_data",
          "data": {
            "text/plain": [
              "<IPython.core.display.HTML object>"
            ],
            "text/html": [
              "<span class=\"tex2jax_ignore\"><div class=\"entities\" style=\"line-height: 2.5; direction: ltr\">Я из Уфы, поеду в \n",
              "<mark class=\"entity\" style=\"background: #aa9cfc; padding: 0.45em 0.6em; margin: 0 0.25em; line-height: 1; border-radius: 0.35em;\">\n",
              "    Кострому\n",
              "    <span style=\"font-size: 0.8em; font-weight: bold; line-height: 1; border-radius: 0.35em; vertical-align: middle; margin-left: 0.5rem\">PERSON</span>\n",
              "</mark>\n",
              ". \n",
              "<mark class=\"entity\" style=\"background: #aa9cfc; padding: 0.45em 0.6em; margin: 0 0.25em; line-height: 1; border-radius: 0.35em;\">\n",
              "    Мне\n",
              "    <span style=\"font-size: 0.8em; font-weight: bold; line-height: 1; border-radius: 0.35em; vertical-align: middle; margin-left: 0.5rem\">PERSON</span>\n",
              "</mark>\n",
              " нужен билет через неделю. Лучше на выходные. Так, у меня будет на поездку \n",
              "<mark class=\"entity\" style=\"background: #e4e7d2; padding: 0.45em 0.6em; margin: 0 0.25em; line-height: 1; border-radius: 0.35em;\">\n",
              "    10\n",
              "    <span style=\"font-size: 0.8em; font-weight: bold; line-height: 1; border-radius: 0.35em; vertical-align: middle; margin-left: 0.5rem\">CARDINAL</span>\n",
              "</mark>\n",
              " тысяч рублей.</div></span>"
            ]
          },
          "metadata": {}
        }
      ]
    },
    {
      "cell_type": "code",
      "source": [
        "# тестирование инициализированной модели\n",
        "#test_text = \"Самолет до Москвы из Владивостока. Там нужно быть 5 мая вечером. Какие есть варианты? На двоих пассажиров без детей. Без багажа. Можно даже через Новосибирск. Обратно 26 числа. Покажи все, что есть. Общий бюджет 10000 рублей.\"\n",
        "test_text = \"Самолет до Москвы из Владивостока на 5 мая. Какие есть варианты? На двоих пассажиров без детей. Без багажа. Без пересадок. Ну и потом обратно. Где-то 20 мая. Покажи все, что есть. Общий бюджет 10000 рублей.\"\n",
        "#test_text = \"Срочно покажи поезд ближайший на сегодня 20 ноября из Комсомольска на Амуре до Хабаровска, ближайший, который есть. С прибытием не позже 6 утра следующего дня.\"\n",
        "#test_text = \"Какие есть варианты добраться 15 декабря из Краснодара в Новосибирск? Обратный возврат 19 декабря пассажир 1.\"\n",
        "\n",
        "doc = nlp(test_text)\n",
        "\n",
        "print([(w.text, w.pos_) for w in doc])\n",
        "print()\n",
        "print(\"Entities\", [(ent.text, ent.label_) for ent in doc.ents])\n",
        "print()\n",
        "spacy.displacy.render(doc, style=\"ent\", jupyter=True)"
      ],
      "metadata": {
        "colab": {
          "base_uri": "https://localhost:8080/",
          "height": 176
        },
        "id": "eQ2U0_30Z45b",
        "outputId": "048c738a-1a6d-4178-fe30-a85caf998268"
      },
      "execution_count": null,
      "outputs": [
        {
          "output_type": "stream",
          "name": "stdout",
          "text": [
            "[('Самолет', 'INTJ'), ('до', 'ADV'), ('Москвы', 'PROPN'), ('из', 'PROPN'), ('Владивостока', 'PROPN'), ('на', 'PROPN'), ('5', 'NUM'), ('мая', 'NOUN'), ('.', 'PUNCT'), ('Какие', 'PROPN'), ('есть', 'NOUN'), ('варианты', 'NOUN'), ('?', 'PUNCT'), ('На', 'PROPN'), ('двоих', 'NOUN'), ('пассажиров', 'PROPN'), ('без', 'PROPN'), ('детей', 'PROPN'), ('.', 'PUNCT'), ('Без', 'PROPN'), ('багажа', 'PROPN'), ('.', 'PUNCT'), ('Без', 'PROPN'), ('пересадок', 'NOUN'), ('.', 'PUNCT'), ('Ну', 'NOUN'), ('и', 'ADJ'), ('потом', 'NOUN'), ('обратно', 'NOUN'), ('.', 'PUNCT'), ('Где', 'PROPN'), ('-', 'PUNCT'), ('то', 'PROPN'), ('20', 'NUM'), ('мая', 'NOUN'), ('.', 'PUNCT'), ('Покажи', 'PROPN'), ('все', 'NOUN'), (',', 'PUNCT'), ('что', 'NOUN'), ('есть', 'NOUN'), ('.', 'PUNCT'), ('Общий', 'PROPN'), ('бюджет', 'VERB'), ('10000', 'NUM'), ('рублей', 'NOUN'), ('.', 'PUNCT')]\n",
            "\n",
            "Entities [('5', 'CARDINAL'), ('Какие', 'ORG'), ('двоих пассажиров', 'PERSON'), ('детей', 'DATE'), ('20', 'CARDINAL'), ('Общий', 'ORG'), ('10000', 'CARDINAL')]\n",
            "\n"
          ]
        },
        {
          "output_type": "display_data",
          "data": {
            "text/plain": [
              "<IPython.core.display.HTML object>"
            ],
            "text/html": [
              "<span class=\"tex2jax_ignore\"><div class=\"entities\" style=\"line-height: 2.5; direction: ltr\">Самолет до Москвы из Владивостока на \n",
              "<mark class=\"entity\" style=\"background: #e4e7d2; padding: 0.45em 0.6em; margin: 0 0.25em; line-height: 1; border-radius: 0.35em;\">\n",
              "    5\n",
              "    <span style=\"font-size: 0.8em; font-weight: bold; line-height: 1; border-radius: 0.35em; vertical-align: middle; margin-left: 0.5rem\">CARDINAL</span>\n",
              "</mark>\n",
              " мая. \n",
              "<mark class=\"entity\" style=\"background: #7aecec; padding: 0.45em 0.6em; margin: 0 0.25em; line-height: 1; border-radius: 0.35em;\">\n",
              "    Какие\n",
              "    <span style=\"font-size: 0.8em; font-weight: bold; line-height: 1; border-radius: 0.35em; vertical-align: middle; margin-left: 0.5rem\">ORG</span>\n",
              "</mark>\n",
              " есть варианты? На \n",
              "<mark class=\"entity\" style=\"background: #aa9cfc; padding: 0.45em 0.6em; margin: 0 0.25em; line-height: 1; border-radius: 0.35em;\">\n",
              "    двоих пассажиров\n",
              "    <span style=\"font-size: 0.8em; font-weight: bold; line-height: 1; border-radius: 0.35em; vertical-align: middle; margin-left: 0.5rem\">PERSON</span>\n",
              "</mark>\n",
              " без \n",
              "<mark class=\"entity\" style=\"background: #bfe1d9; padding: 0.45em 0.6em; margin: 0 0.25em; line-height: 1; border-radius: 0.35em;\">\n",
              "    детей\n",
              "    <span style=\"font-size: 0.8em; font-weight: bold; line-height: 1; border-radius: 0.35em; vertical-align: middle; margin-left: 0.5rem\">DATE</span>\n",
              "</mark>\n",
              ". Без багажа. Без пересадок. Ну и потом обратно. Где-то \n",
              "<mark class=\"entity\" style=\"background: #e4e7d2; padding: 0.45em 0.6em; margin: 0 0.25em; line-height: 1; border-radius: 0.35em;\">\n",
              "    20\n",
              "    <span style=\"font-size: 0.8em; font-weight: bold; line-height: 1; border-radius: 0.35em; vertical-align: middle; margin-left: 0.5rem\">CARDINAL</span>\n",
              "</mark>\n",
              " мая. Покажи все, что есть. \n",
              "<mark class=\"entity\" style=\"background: #7aecec; padding: 0.45em 0.6em; margin: 0 0.25em; line-height: 1; border-radius: 0.35em;\">\n",
              "    Общий\n",
              "    <span style=\"font-size: 0.8em; font-weight: bold; line-height: 1; border-radius: 0.35em; vertical-align: middle; margin-left: 0.5rem\">ORG</span>\n",
              "</mark>\n",
              " бюджет \n",
              "<mark class=\"entity\" style=\"background: #e4e7d2; padding: 0.45em 0.6em; margin: 0 0.25em; line-height: 1; border-radius: 0.35em;\">\n",
              "    10000\n",
              "    <span style=\"font-size: 0.8em; font-weight: bold; line-height: 1; border-radius: 0.35em; vertical-align: middle; margin-left: 0.5rem\">CARDINAL</span>\n",
              "</mark>\n",
              " рублей.</div></span>"
            ]
          },
          "metadata": {}
        }
      ]
    },
    {
      "cell_type": "code",
      "source": [
        "entities = [{'text': ent.text, 'lemma': ent.lemma_, 'label': ent.label_} for ent in doc.ents]\n",
        "entities"
      ],
      "metadata": {
        "colab": {
          "base_uri": "https://localhost:8080/"
        },
        "id": "W99uHNYQaA_6",
        "outputId": "fe85162e-5b80-4586-f962-c3fd5af36b11"
      },
      "execution_count": null,
      "outputs": [
        {
          "output_type": "execute_result",
          "data": {
            "text/plain": [
              "[{'text': '5', 'lemma': '5', 'label': 'CARDINAL'},\n",
              " {'text': 'Какие', 'lemma': 'Какие', 'label': 'ORG'},\n",
              " {'text': 'двоих пассажиров', 'lemma': 'двоих пассажиров', 'label': 'PERSON'},\n",
              " {'text': 'детей', 'lemma': 'детей', 'label': 'DATE'},\n",
              " {'text': '20', 'lemma': '20', 'label': 'CARDINAL'},\n",
              " {'text': 'Общий', 'lemma': 'Общий', 'label': 'ORG'},\n",
              " {'text': '10000', 'lemma': '10000', 'label': 'CARDINAL'}]"
            ]
          },
          "metadata": {},
          "execution_count": 33
        }
      ]
    },
    {
      "cell_type": "markdown",
      "source": [
        "ФОРМИРОВАНИЕ JSON ФАЙЛА\n",
        "\n",
        "ОБРАБАТЫВАЕМ ГОРОДА ПО ПОРОГУ СХОДСТВА"
      ],
      "metadata": {
        "id": "TohgTH_eaK5T"
      }
    },
    {
      "cell_type": "code",
      "source": [
        "def load_city_list(file_path):  # Загружам список городов из текстового файла.\n",
        "   with open(file_path, 'r', encoding='utf-8') as f:\n",
        "        cities = [line.strip() for line in f]\n",
        "   return cities\n",
        "\n",
        "def find_closest_city(city, city_list):   # Находим ближайший город в списке с использованием метода наибольшего общего подпоследовательности.\n",
        "    matches = difflib.get_close_matches(city, city_list, n=1, cutoff=0.8)   # n - число возвращаемых совпадений, cutoff -  минимальный порог сходства\n",
        "    # get_close_matches - возвращает список ближайших совпадений, найденных в city_list\n",
        "    # n - число возвращаемых совпадений, cutoff -  минимальный порог сходства\n",
        "    closest_city = matches[0] if len(matches) > 0 else None\n",
        "    return closest_city\n",
        "\n",
        "def correct_city(city, city_list):    # Обработка списока городов и проверка на соответствие.\n",
        "    closest_city = find_closest_city(city, city_list)\n",
        "    if city == \"Питер\" or city == \"Ленинград\":        # Выявленная замена\n",
        "        closest_city = \"Санкт-Петербург\"\n",
        "    if city == \"Минводы\" or city == \"Кавминводы\"  or city == \"Каменвода\" or city == \"Каменводы\":     # Выявленная замена\n",
        "        closest_city = \"Минеральные Воды\"\n",
        "    if city == \"Нижний Арктовского\" or city == \"Нижний Арктовский\":     # Выявленная замена\n",
        "        closest_city = \"Нижневартовск\"\n",
        "    return closest_city\n",
        "\n",
        "file_path = \"/content/drive/MyDrive/Audio/cities.txt\"\n",
        "all_cities = load_city_list(file_path)\n"
      ],
      "metadata": {
        "id": "9blVVakTaNOC"
      },
      "execution_count": null,
      "outputs": []
    },
    {
      "cell_type": "markdown",
      "source": [
        "ОБРАБАТЫВАЕМ ЦИФРЫ"
      ],
      "metadata": {
        "id": "aN41KeucbLs6"
      }
    },
    {
      "cell_type": "code",
      "source": [
        "# служебные функции \"добавить\" и \"умножить\"\n",
        "def add(count): return lambda x: x+count\n",
        "def mul(count): return lambda x: x*count if x > 0 else count\n",
        "\n",
        "# словарь вариантов токенов\n",
        "startTokens = {\n",
        "    \"один\": add(1), \"одна\": add(1), \"одного\": add(1),\n",
        "    \"два\": add(2),  \"две\": add(2), \"двое\": add(2), \"вдвоём\": add(2),\n",
        "    \"три\": add(3), \"трое\": add(3), \"втроём\": add(3),\n",
        "    \"четыре\": add(4), \"четверо\": add(4), \"вчетвером\": add(4),\n",
        "    \"пять\": add(5), \"пятеро\": add(5), \"впятером\": add(5),\n",
        "    \"шесть\": add(6), \"шестеро\": add(6), \"вшестером\": add(6),\n",
        "    \"семь\": add(7), \"семеро\": add(7),\n",
        "    \"восемь\": add(8),\n",
        "    \"девять\": add(9),\n",
        "\n",
        "    \"десяток\": mul(10), \"десятка\": mul(10), \"десятков\": mul(10),\n",
        "\n",
        "    \"десять\": add(10),\n",
        "    \"одиннадцать\": add(11),\n",
        "    \"двенадцать\": add(12),\n",
        "    \"тринадцать\": add(13),\n",
        "    \"четырнадцать\": add(14),\n",
        "    \"пятнадцать\": add(15),\n",
        "    \"шестнадцать\": add(16),\n",
        "    \"семнадцать\": add(17),\n",
        "    \"восемнадцать\": add(18),\n",
        "    \"девятнадцать\": add(19),\n",
        "    \"двадцать\": add(20),\n",
        "    \"тридцать\": add(30),\n",
        "    \"сорок\": add(40),\n",
        "    \"пятьдесят\": add(50),\n",
        "    \"шестьдесят\": add(60),\n",
        "    \"семьдесят\": add(70),\n",
        "    \"восемьдесят\": add(80),\n",
        "    \"девяносто\": add(90),\n",
        "\n",
        "    \"сотня\": mul(100), \"сотни\": mul(100), \"сотен\": mul(100),\n",
        "\n",
        "    \"сто\": add(100),\n",
        "    \"двести\": add(200),\n",
        "    \"триста\": add(300),\n",
        "    \"четыреста\": add(400),\n",
        "    \"пятьсот\": add(500),\n",
        "    \"шестьсот\": add(600),\n",
        "    \"семьсот\": add(700),\n",
        "    \"восемьсот\": add(800),\n",
        "    \"девятьсот\": add(900),\n",
        "\n",
        "    \"тысяча\": mul(1000), \"тысячи\": mul(1000), \"тысяч\": mul(1000), \"тыс\": mul(1000)\n",
        "}\n",
        "\n",
        "# функция определения действия по токену\n",
        "def matchToken(token):\n",
        "  try:\n",
        "    return startTokens[token]\n",
        "  except:\n",
        "    if token.isdigit():\n",
        "      return add(int(token))\n",
        "    return add(0)\n",
        "\n",
        "\n",
        "# функция для преобразования числа, заданного словами, в число\n",
        "def str2num(st):\n",
        "\n",
        "    if st.isdigit():\n",
        "      return int(st)\n",
        "\n",
        "    tokens = st.split(\" \")\n",
        "    value = 0\n",
        "    for token in tokens:\n",
        "      value = matchToken(token)(value)\n",
        "\n",
        "    return value\n"
      ],
      "metadata": {
        "id": "DU7nLz4RbM7D"
      },
      "execution_count": null,
      "outputs": []
    },
    {
      "cell_type": "markdown",
      "source": [
        "ФУНКЦИЯ ФОРМИРОВАНИЯ НОВОЙ ПОЕЗДКИ"
      ],
      "metadata": {
        "id": "RG9lQHVSboCy"
      }
    },
    {
      "cell_type": "code",
      "source": [
        "def get_new_route():\n",
        "\n",
        "    route = {\n",
        "        'city_from': None,     # город отправления (может быть null)\n",
        "        'date_from': None,     # дата отправления (может быть null)\n",
        "        'date_from_t': None,   # дата отправления, если не удалось определить точное значение (может быть null)\n",
        "        'time_from': None,     # время отправления (может быть null)\n",
        "        'city_to': None,       # город прибытия (может быть null)\n",
        "        'date_to': None,       # дата прибытия (может быть null)\n",
        "        'date_to_t': None,     # дата прибытия, если не удалось определить точное значение (может быть null)\n",
        "        'time_to': None,       # время прибытия (может быть null)\n",
        "        'amount': None,        # количество пассажиров (минимум один)\n",
        "        'transit': None,       # количество пересадок (может быть null)\n",
        "#        'replace_city': None,  # города для возможных пересадок (может быть null)\n",
        "        'transport': None,     # вид транспорта -  'поезд', 'самолет', 'автобус', 'паром' (может быть null)\n",
        "        'company': None,       # компания-перевозчик (может быть null)\n",
        "        'animal': None,        # с животными (может быть null)\n",
        "        'children': None,      # количество детей (может быть null)\n",
        "        'baggage': None,       # с багажом (может быть null)\n",
        "        'level': None,         # класс обслуживания - 'бизнес', 'эконом', 'купе', 'плацкарт' (может быть null)\n",
        "        'comfort': None,       # список дополнительных пожеланий - 'нижняя полка', 'мягкий вагон', 'с питанием', 'женское купе', 'не у туалета', 'биотуалет'  (может быть null)\n",
        "        'insurance': None      # страховка (может быть null)\n",
        "    }\n",
        "\n",
        "    return route\n"
      ],
      "metadata": {
        "id": "_xXIreTmbpbb"
      },
      "execution_count": null,
      "outputs": []
    },
    {
      "cell_type": "markdown",
      "source": [
        "ФУНКЦИЯ ФОРМИРОВАНИЯ ДЖЕЙСОН ФАЙЛА"
      ],
      "metadata": {
        "id": "SW24msB7byWy"
      }
    },
    {
      "cell_type": "code",
      "source": [
        "def create_json(doc, filename, transcribator='whisper(model=large)'):\n",
        "\n",
        "    entities = [{'text': ent.text, 'lemma': ent.lemma_, 'label': ent.label_} for ent in doc.ents]\n",
        "\n",
        "    json_data = {\n",
        "        'route': [],                      # маршрут - список поездок (обязательно должен быть хотя бы один элемент)\n",
        "        'all_budget': None,               # общий бюджет на весь маршрут (может быть null)\n",
        "        'filename': filename,             # название транскрибированного аудиофайла\n",
        "#        'real_text': None,\n",
        "        'transcrib_text': doc.text,       # транскрибированный текст\n",
        "        'transcribator': transcribator    # использованный транскрибатор\n",
        "    }\n",
        "\n",
        "    # настройки для парсера дат\n",
        "    settings = {\n",
        "        'DATE_ORDER': 'DMY',\n",
        "        'PREFER_DATES_FROM': 'future'\n",
        "    }\n",
        "\n",
        "    #format_date = '%d.%m.%Y'\n",
        "    format_date = '%d.%m'\n",
        "\n",
        "    route = get_new_route()  # создаем новую поездку\n",
        "    pred_route = route.copy()  # нужно определить и предыдущую поездку\n",
        "\n",
        "    new_route = True\n",
        "    ll = len(entities)\n",
        "    for i in range(ll):\n",
        "        entity = entities[i]\n",
        "        if entity['label'] == 'LOC':  # анализ сущности LOCATION\n",
        "            if i > 0:\n",
        "                entity_pred = entities[i-1]\n",
        "            else:\n",
        "                entity_pred = entity\n",
        "            if (entity_pred['label'] == 'FROM'):  # если предыдущая сущность FROM, то это город отправления\n",
        "                route['city_from'] = correct_city(entity['lemma'].title().replace('.', ''), all_cities)\n",
        "            elif (entity_pred['label'] == 'TO'):  # если предыдущая сущность TO, то это город назначения\n",
        "                route['city_to'] = correct_city(entity['lemma'].title().replace('.', ''), all_cities)\n",
        "            elif entity_pred['label'] == 'TRANSIT':  # если предыдущая сущность TRANSIT, то это город пересадки\n",
        "                if new_route:\n",
        "               #     route['replace_city'] = []\n",
        "                    new_route = False\n",
        "                # if route['replace_city'] is None:\n",
        "                #     route['replace_city'] = []\n",
        "                # route['replace_city'].append(entity['lemma'].title().replace('.', ''))\n",
        "                route['transit'] = 1\n",
        "            elif route['city_from'] is None:  # если предыдущая сущность не подходящая, город отправления определен, а город назначения еще не определен, то это город назначения\n",
        "                route['city_from'] = correct_city(entity['lemma'].title().replace('.', ''), all_cities)\n",
        "            elif route['city_to'] is None:  # если предыдущая сущность не подходящая и город отправления еще не определен, то это город отправления\n",
        "                route['city_to'] = correct_city(entity['lemma'].title().replace('.', ''), all_cities)\n",
        "        elif entity['label'] == 'DATE':  # анализ сущности DATE\n",
        "            if i > 0:\n",
        "                entity_pred = entities[i-1]\n",
        "            else:\n",
        "                entity_pred = entity\n",
        "            if (entity_pred['label'] == 'ARRIVAL'):  # проверим предыдущую сущность, если она ARRIVAL, то это дата прибытия\n",
        "                st = entity['lemma']\n",
        "                if st.find('числ') > -1:  # если найдем \"число\", то заменим на месяц от текущей даты\n",
        "                    st = st.replace('число', datetime.strftime(date.today(), '%B'))\n",
        "                dt = dateparser.parse(st, settings=settings)\n",
        "                if dt is None: dt = date.today()\n",
        "                route['date_to'] = datetime.strftime(dt, format_date)  # если парсер не сможет определить дату, то будет текущая\n",
        "                route['date_to_t'] = entity['text']\n",
        "            elif route['date_from_t'] is None:  # записываем в дату отправления, если она еще не задана\n",
        "                st = entity['lemma']\n",
        "                if st.find('числ') > -1:  # если найдем \"число\", то заменим на текущий месяц\n",
        "                    if pred_route['date_from'] is not None:  # если была предыдущая поездка и определена дата отправления\n",
        "                        st = st.replace('число', datetime.strptime(pred_route['date_from'], format_date).strftime('%B'))\n",
        "                    elif pred_route['date_to'] is not None:  # ... или определена дата прибытия\n",
        "                        st = st.replace('число', datetime.strptime(pred_route['date_to'], format_date).strftime('%B'))\n",
        "                    else:  # иначе возьмем месяц от текущей даты\n",
        "                        st = st.replace('число', datetime.strftime(date.today(), '%B'))\n",
        "                dt = dateparser.parse(st, settings=settings)\n",
        "                if dt is None: dt = date.today()\n",
        "                route['date_from'] = datetime.strftime(dt, format_date)  # если парсер не сможет определить дату, то будет текущая\n",
        "                route['date_from_t'] = entity['text']\n",
        "            else:  # а если дата отправления уже определена, то записываем в дату прибытия\n",
        "                st = entity['lemma']\n",
        "                if st.find('числ') > -1:  # если найдем \"число\", то заменим на текущий месяц\n",
        "                    if route['date_from'] is not None:  # если определена дата отправления\n",
        "                        st = st.replace('число', datetime.strptime(route['date_from'], format_date).strftime('%B'))\n",
        "                    else:  # иначе возьмем месяц от текущей даты\n",
        "                        st = st.replace('число', datetime.strftime(date.today(), '%B'))\n",
        "                dt = dateparser.parse(st, settings=settings)\n",
        "                if dt is None: dt = date.today()\n",
        "                route['date_to'] = datetime.strftime(dt, format_date)  # если парсер не сможет определить дату, то будет текущая\n",
        "                route['date_to_t'] = entity['text']\n",
        "        elif entity['label'] == 'GAP':  # анализ сущности GAP\n",
        "            if i > 0:\n",
        "                entity_pred = entities[i-1]\n",
        "            else:\n",
        "                entity_pred = entity\n",
        "            if i < ll-1:\n",
        "                entity_next = entities[i+1]\n",
        "            else:\n",
        "                entity_next = entity\n",
        "            if (entity_pred['label'] == 'RETURN') or (entity_next['label'] == 'RETURN'):\n",
        "                # проверим предыдущую и следующую сущность и, если она RETURN, то анализ GAP пропускаем - будет выполняться при анализе RETURN\n",
        "                continue\n",
        "            elif route['date_from_t'] is None:  # записываем в дату отправления, если она еще не задана\n",
        "                dt = dateparser.parse(entity['text'], settings=settings)\n",
        "                if dt is None: dt = date.today()\n",
        "                route['date_from'] = datetime.strftime(dt, format_date)  # если парсер не сможет определить дату, то будет текущая\n",
        "                route['date_from_t'] = entity['text']\n",
        "            else:  # а если дата отправления уже определена, то записываем в дату прибытия\n",
        "                dt = dateparser.parse(entity['text'], settings=settings)\n",
        "                if dt is None: dt = date.today()\n",
        "                route['date_to'] = datetime.strftime(dt, format_date)  # если парсер не сможет определить дату, то будет текущая\n",
        "                route['date_to_t'] = entity['text']\n",
        "        elif entity['label'] == 'TIME':  # анализ сущности TIME\n",
        "            if route['time_from'] is None:  # проверим время отправления, если оно еще не задано\n",
        "                # дополнительно проверим даты отправления и прибытия\n",
        "                # если дата отправления не задана, а дата прибытия определена, то скорее всего это время прибытия\n",
        "                if (route['date_from_t'] is None) and (route['date_to_t'] is not None):\n",
        "                    route['time_to'] = entity['text']\n",
        "                else:  # в других случаях - время отправления\n",
        "                    route['time_from'] = entity['text']\n",
        "            else:  # а если время отправления уже определено, то записываем во время прибытия\n",
        "                route['time_to'] = entity['text']\n",
        "        elif entity['label'] == 'TRANSIT':  # здесь отлавливаем \"без пересадок\"\n",
        "            if entity['text'].find('без') == -1: route['transit'] = 0\n",
        "        elif entity['label'] == 'AMOUNT':  # кол-во пассажиров\n",
        "            route['amount'] = str2num(entity['lemma'].replace('.', ''))\n",
        "        elif entity['label'] == 'TRANSPORT':  # добавляем вид транспорта\n",
        "            if route['transport'] is None: route['transport'] = []\n",
        "            route['transport'].append(entity['lemma'].replace('.', ''))\n",
        "        elif entity['label'] == 'ORG':  # добавляем вид организацию-перевозчика\n",
        "            if route['company'] is None: route['company'] = []\n",
        "            route['company'].append(entity['lemma'].title().replace('.', ''))\n",
        "        elif entity['label'] == 'ANIMAL':  # \"без животных\" или есть какие-то животные\n",
        "            route['animal'] = entity['text'].find('без') == -1\n",
        "        elif entity['label'] == 'CHILD':  # кол-во детей, с проверкой на \"без детей\"\n",
        "            if entity['text'].find('без') > -1:\n",
        "                route['children'] = 0\n",
        "            else:\n",
        "                col = str2num(entity['lemma'].replace('.', ''))\n",
        "                if col == 0: col = 1\n",
        "                route['children'] = col\n",
        "        elif entity['label'] == 'BAGG':  # \"без багажа\" или есть какой-то багаж\n",
        "            route['baggage'] = entity['text'].find('без') == -1\n",
        "        elif entity['label'] == 'LEVEL':  # добавляем уровень обслуживания\n",
        "            if route['level'] is None: route['level'] = []\n",
        "            route['level'].append(entity['text'])\n",
        "        elif entity['label'] == 'COMFORT':  # добавляем пожелания к комфорту\n",
        "            if route['comfort'] is None: route['comfort'] = []\n",
        "            route['comfort'].append(entity['text'])\n",
        "        elif entity['label'] == 'INSUR':  # \"без страховки\" или страховка есть\n",
        "            route['insurance'] = entity['text'].find('без') == -1\n",
        "        elif entity['label'] == 'BUDGET':  # общий бюджет\n",
        "            json_data['all_budget'] = str2num(entity['lemma'].replace('.', ''))\n",
        "        elif entity['label'] == 'RETURN':\n",
        "            # если встречаем сущность RETURN, то формируем новую поездку, в которую записываем города отправления и прибытия из предыдущей поездки, но в обратном порядке\n",
        "            # все остальные сущности просто копируем, предполагая, что все ранее определенные особенности поездки будут такими же\n",
        "            # при этом даты не копируем, т.к. ясно, что обратная поездка будет позже\n",
        "            # если дальше при разборе фразы будут найдены сущности характеристик поездки, то просто перезапишем\n",
        "            # особенность с транзитными городами: если находим сущность TRANSIT, то обнуляем транзитные города предыдущей поездки\n",
        "\n",
        "            if i > 0:\n",
        "                entity_pred = entities[i-1]\n",
        "            else:\n",
        "                entity_pred = entity\n",
        "            if entity_pred['label'] == 'RETURN': continue  # не обрабатываем, если несколько сущностей RETURN идет подряд\n",
        "\n",
        "            if (route['date_from_t'] is None) and (route['date_to_t'] is None):  # если дата отправления осталась не опеределенной, то заполняем ее текущей датой\n",
        "                route['date_from'] = datetime.strftime(date.today(), format_date)\n",
        "                route['date_from_t'] = ''\n",
        "\n",
        "            pred_route = route.copy()  # скопируем текущую поездку\n",
        "            json_data['route'].append(route)  # добавляем текущую поездку в маршрут\n",
        "            route = get_new_route()  # создаем новую поездку\n",
        "            new_route = True\n",
        "            # заполним некоторые параметры новой поездки на основании предыдущей\n",
        "            route['city_from'] = pred_route['city_to']\n",
        "            route['city_to'] = pred_route['city_from']\n",
        "            route['transit'] = pred_route['transit']\n",
        "            #route['replace_city'] = pred_route['replace_city']\n",
        "            route['amount'] = pred_route['amount']\n",
        "            route['transport'] = pred_route['transport']\n",
        "            route['animal'] = pred_route['animal']\n",
        "            route['children'] = pred_route['children']\n",
        "            route['baggage'] = pred_route['baggage']\n",
        "            route['level'] = pred_route['level']\n",
        "            route['comfort'] = pred_route['comfort']\n",
        "            route['insurance'] = pred_route['insurance']\n",
        "\n",
        "            if i < ll-1:\n",
        "                entity_next = entities[i+1]\n",
        "            else:\n",
        "                entity_next = entity\n",
        "            if (entity_pred['label'] == 'GAP') or (entity_next['label'] == 'GAP'):  # проверим предыдущую и следующую сущность, если она GAP, то попробуем определить дату отправления для новой поездки\n",
        "                if entity_pred['label'] == 'GAP':\n",
        "                    route['date_from_t'] = entity_pred['text']\n",
        "                else:\n",
        "                    route['date_from_t'] = entity_next['text']\n",
        "                settings_modify = settings.copy()\n",
        "                # в настройки парсера дат добавляем \"считать от даты...\"\n",
        "                if pred_route['date_from'] is not None: # если определена дата отправления\n",
        "                    settings_modify['RELATIVE_BASE'] = datetime.strptime(pred_route['date_from'], format_date)\n",
        "                elif pred_route['date_to'] is not None: # если определена дата прибытия\n",
        "                    settings_modify['RELATIVE_BASE'] = datetime.strptime(pred_route['date_to'], format_date)\n",
        "                # или останется текущая дата\n",
        "\n",
        "                dt = dateparser.parse(route['date_from_t'], settings=settings_modify)\n",
        "                if dt is None: dt = date.today()\n",
        "                route['date_from'] = datetime.strftime(dt, format_date)  # если парсер не сможет определить дату, то будет текущая\n",
        "\n",
        "    json_data['route'].append(route)  # добавляем текущую поездку в маршрут\n",
        "\n",
        "    return json_data\n"
      ],
      "metadata": {
        "id": "o2qLFRzFb1UT"
      },
      "execution_count": null,
      "outputs": []
    },
    {
      "cell_type": "markdown",
      "source": [
        "ЗАПУСК ПИПЛАЙНА"
      ],
      "metadata": {
        "id": "dNHwPGtCctaj"
      }
    },
    {
      "cell_type": "code",
      "source": [
        "filename = '/content/drive/MyDrive/Audio/extracted1/whisper1/002.txt'\n",
        "create_json(doc, filename)"
      ],
      "metadata": {
        "colab": {
          "base_uri": "https://localhost:8080/"
        },
        "id": "IlZ9NPjlcuq1",
        "outputId": "764cadd5-540e-4606-a534-837329621c6a"
      },
      "execution_count": null,
      "outputs": [
        {
          "output_type": "execute_result",
          "data": {
            "text/plain": [
              "{'route': [{'city_from': None,\n",
              "   'date_from': '25.03',\n",
              "   'date_from_t': 'детей',\n",
              "   'time_from': None,\n",
              "   'city_to': None,\n",
              "   'date_to': None,\n",
              "   'date_to_t': None,\n",
              "   'time_to': None,\n",
              "   'amount': None,\n",
              "   'transit': None,\n",
              "   'transport': None,\n",
              "   'company': ['Какие', 'Общий'],\n",
              "   'animal': None,\n",
              "   'children': None,\n",
              "   'baggage': None,\n",
              "   'level': None,\n",
              "   'comfort': None,\n",
              "   'insurance': None}],\n",
              " 'all_budget': None,\n",
              " 'filename': '/content/drive/MyDrive/Audio/extracted1/whisper1/002.txt',\n",
              " 'transcrib_text': 'Самолет до Москвы из Владивостока на 5 мая. Какие есть варианты? На двоих пассажиров без детей. Без багажа. Без пересадок. Ну и потом обратно. Где-то 20 мая. Покажи все, что есть. Общий бюджет 10000 рублей.',\n",
              " 'transcribator': 'whisper(model=large)'}"
            ]
          },
          "metadata": {},
          "execution_count": 45
        }
      ]
    },
    {
      "cell_type": "code",
      "source": [
        "filename = '/content/drive/MyDrive/Audio/extracted1/whisper1/003.txt'\n",
        "create_json(doc, filename)"
      ],
      "metadata": {
        "colab": {
          "base_uri": "https://localhost:8080/"
        },
        "id": "xA4Y-y92e-Nb",
        "outputId": "30c92194-2c95-4112-e14e-44ee62ac40d0"
      },
      "execution_count": null,
      "outputs": [
        {
          "output_type": "execute_result",
          "data": {
            "text/plain": [
              "{'route': [{'city_from': None,\n",
              "   'date_from': '25.03',\n",
              "   'date_from_t': 'детей',\n",
              "   'time_from': None,\n",
              "   'city_to': None,\n",
              "   'date_to': None,\n",
              "   'date_to_t': None,\n",
              "   'time_to': None,\n",
              "   'amount': None,\n",
              "   'transit': None,\n",
              "   'transport': None,\n",
              "   'company': ['Какие', 'Общий'],\n",
              "   'animal': None,\n",
              "   'children': None,\n",
              "   'baggage': None,\n",
              "   'level': None,\n",
              "   'comfort': None,\n",
              "   'insurance': None}],\n",
              " 'all_budget': None,\n",
              " 'filename': '/content/drive/MyDrive/Audio/extracted1/whisper1/003.txt',\n",
              " 'transcrib_text': 'Самолет до Москвы из Владивостока на 5 мая. Какие есть варианты? На двоих пассажиров без детей. Без багажа. Без пересадок. Ну и потом обратно. Где-то 20 мая. Покажи все, что есть. Общий бюджет 10000 рублей.',\n",
              " 'transcribator': 'whisper(model=large)'}"
            ]
          },
          "metadata": {},
          "execution_count": 46
        }
      ]
    },
    {
      "cell_type": "code",
      "source": [
        "filename = '/content/drive/MyDrive/Audio/extracted1/whisper1/010.txt'\n",
        "create_json(doc, filename)"
      ],
      "metadata": {
        "colab": {
          "base_uri": "https://localhost:8080/"
        },
        "id": "coZhFzpPhB0t",
        "outputId": "4b537c5c-c902-4a9e-daee-6be5378b6902"
      },
      "execution_count": null,
      "outputs": [
        {
          "output_type": "execute_result",
          "data": {
            "text/plain": [
              "{'route': [{'city_from': None,\n",
              "   'date_from': '25.03',\n",
              "   'date_from_t': 'детей',\n",
              "   'time_from': None,\n",
              "   'city_to': None,\n",
              "   'date_to': None,\n",
              "   'date_to_t': None,\n",
              "   'time_to': None,\n",
              "   'amount': None,\n",
              "   'transit': None,\n",
              "   'transport': None,\n",
              "   'company': ['Какие', 'Общий'],\n",
              "   'animal': None,\n",
              "   'children': None,\n",
              "   'baggage': None,\n",
              "   'level': None,\n",
              "   'comfort': None,\n",
              "   'insurance': None}],\n",
              " 'all_budget': None,\n",
              " 'filename': '/content/drive/MyDrive/Audio/extracted1/whisper1/010.txt',\n",
              " 'transcrib_text': 'Самолет до Москвы из Владивостока на 5 мая. Какие есть варианты? На двоих пассажиров без детей. Без багажа. Без пересадок. Ну и потом обратно. Где-то 20 мая. Покажи все, что есть. Общий бюджет 10000 рублей.',\n",
              " 'transcribator': 'whisper(model=large)'}"
            ]
          },
          "metadata": {},
          "execution_count": 47
        }
      ]
    },
    {
      "cell_type": "code",
      "source": [
        "filename = '/content/drive/MyDrive/Audio/extracted1/whisper1/006.txt'\n",
        "create_json(doc, filename)"
      ],
      "metadata": {
        "colab": {
          "base_uri": "https://localhost:8080/"
        },
        "id": "Nu2lgv0chPXk",
        "outputId": "7e721d13-5733-4b57-9d91-099feead2355"
      },
      "execution_count": null,
      "outputs": [
        {
          "output_type": "execute_result",
          "data": {
            "text/plain": [
              "{'route': [{'city_from': None,\n",
              "   'date_from': '25.03',\n",
              "   'date_from_t': 'детей',\n",
              "   'time_from': None,\n",
              "   'city_to': None,\n",
              "   'date_to': None,\n",
              "   'date_to_t': None,\n",
              "   'time_to': None,\n",
              "   'amount': None,\n",
              "   'transit': None,\n",
              "   'transport': None,\n",
              "   'company': ['Какие', 'Общий'],\n",
              "   'animal': None,\n",
              "   'children': None,\n",
              "   'baggage': None,\n",
              "   'level': None,\n",
              "   'comfort': None,\n",
              "   'insurance': None}],\n",
              " 'all_budget': None,\n",
              " 'filename': '/content/drive/MyDrive/Audio/extracted1/whisper1/006.txt',\n",
              " 'transcrib_text': 'Самолет до Москвы из Владивостока на 5 мая. Какие есть варианты? На двоих пассажиров без детей. Без багажа. Без пересадок. Ну и потом обратно. Где-то 20 мая. Покажи все, что есть. Общий бюджет 10000 рублей.',\n",
              " 'transcribator': 'whisper(model=large)'}"
            ]
          },
          "metadata": {},
          "execution_count": 49
        }
      ]
    },
    {
      "cell_type": "code",
      "source": [
        "filename = '/content/drive/MyDrive/Audio/extracted1/whisper1/026.txt'\n",
        "create_json(doc, filename)"
      ],
      "metadata": {
        "colab": {
          "base_uri": "https://localhost:8080/"
        },
        "id": "fDzDhJy6hnYj",
        "outputId": "9e3a0b04-4ce3-4337-8f8e-00d4dee5ff64"
      },
      "execution_count": null,
      "outputs": [
        {
          "output_type": "execute_result",
          "data": {
            "text/plain": [
              "{'route': [{'city_from': None,\n",
              "   'date_from': '25.03',\n",
              "   'date_from_t': 'детей',\n",
              "   'time_from': None,\n",
              "   'city_to': None,\n",
              "   'date_to': None,\n",
              "   'date_to_t': None,\n",
              "   'time_to': None,\n",
              "   'amount': None,\n",
              "   'transit': None,\n",
              "   'transport': None,\n",
              "   'company': ['Какие', 'Общий'],\n",
              "   'animal': None,\n",
              "   'children': None,\n",
              "   'baggage': None,\n",
              "   'level': None,\n",
              "   'comfort': None,\n",
              "   'insurance': None}],\n",
              " 'all_budget': None,\n",
              " 'filename': '/content/drive/MyDrive/Audio/extracted1/whisper1/026.txt',\n",
              " 'transcrib_text': 'Самолет до Москвы из Владивостока на 5 мая. Какие есть варианты? На двоих пассажиров без детей. Без багажа. Без пересадок. Ну и потом обратно. Где-то 20 мая. Покажи все, что есть. Общий бюджет 10000 рублей.',\n",
              " 'transcribator': 'whisper(model=large)'}"
            ]
          },
          "metadata": {},
          "execution_count": 50
        }
      ]
    },
    {
      "cell_type": "code",
      "source": [
        "filename = '/content/drive/MyDrive/Audio/extracted1/whisper1/041.txt'\n",
        "create_json(doc, filename)"
      ],
      "metadata": {
        "colab": {
          "base_uri": "https://localhost:8080/"
        },
        "id": "Cp5WjrI5hzwj",
        "outputId": "e52b407b-c0de-4c4c-fce2-c0f06eea14da"
      },
      "execution_count": null,
      "outputs": [
        {
          "output_type": "execute_result",
          "data": {
            "text/plain": [
              "{'route': [{'city_from': None,\n",
              "   'date_from': '25.03',\n",
              "   'date_from_t': 'детей',\n",
              "   'time_from': None,\n",
              "   'city_to': None,\n",
              "   'date_to': None,\n",
              "   'date_to_t': None,\n",
              "   'time_to': None,\n",
              "   'amount': None,\n",
              "   'transit': None,\n",
              "   'transport': None,\n",
              "   'company': ['Какие', 'Общий'],\n",
              "   'animal': None,\n",
              "   'children': None,\n",
              "   'baggage': None,\n",
              "   'level': None,\n",
              "   'comfort': None,\n",
              "   'insurance': None}],\n",
              " 'all_budget': None,\n",
              " 'filename': '/content/drive/MyDrive/Audio/extracted1/whisper1/041.txt',\n",
              " 'transcrib_text': 'Самолет до Москвы из Владивостока на 5 мая. Какие есть варианты? На двоих пассажиров без детей. Без багажа. Без пересадок. Ну и потом обратно. Где-то 20 мая. Покажи все, что есть. Общий бюджет 10000 рублей.',\n",
              " 'transcribator': 'whisper(model=large)'}"
            ]
          },
          "metadata": {},
          "execution_count": 51
        }
      ]
    }
  ]
}