{
 "cells": [
  {
   "cell_type": "code",
   "execution_count": 1,
   "metadata": {},
   "outputs": [
    {
     "name": "stdout",
     "output_type": "stream",
     "text": [
      "{'result': 8.0}\n"
     ]
    }
   ],
   "source": [
    "import requests\n",
    "\n",
    "# Сложение\n",
    "url_add = \"http://127.0.0.1:8000/add\"\n",
    "params_add = {\"number1\": 5, \"number2\": 3}\n",
    "response_add = requests.post(url_add, json=params_add)\n",
    "print(response_add.json())\n"
   ]
  },
  {
   "cell_type": "code",
   "execution_count": 2,
   "metadata": {},
   "outputs": [
    {
     "name": "stdout",
     "output_type": "stream",
     "text": [
      "{'result': 2.0}\n"
     ]
    }
   ],
   "source": [
    "# Вычитание\n",
    "url_subtract = \"http://127.0.0.1:8000/subtract\"\n",
    "params_subtract = {\"number1\": 5, \"number2\": 3}\n",
    "response_subtract = requests.post(url_subtract, json=params_subtract)\n",
    "print(response_subtract.json())"
   ]
  },
  {
   "cell_type": "code",
   "execution_count": 3,
   "metadata": {},
   "outputs": [
    {
     "name": "stdout",
     "output_type": "stream",
     "text": [
      "{'result': 15.0}\n"
     ]
    }
   ],
   "source": [
    "# Умножение\n",
    "url_multiply = \"http://127.0.0.1:8000/multiply\"\n",
    "params_multiply = {\"number1\": 5, \"number2\": 3}\n",
    "response_multiply = requests.post(url_multiply, json=params_multiply)\n",
    "print(response_multiply.json())"
   ]
  },
  {
   "cell_type": "code",
   "execution_count": 4,
   "metadata": {},
   "outputs": [
    {
     "name": "stdout",
     "output_type": "stream",
     "text": [
      "{'result': 3.0}\n"
     ]
    }
   ],
   "source": [
    "# Деление\n",
    "url_divide = \"http://127.0.0.1:8000/divide\"\n",
    "params_divide = {\"number1\": 6, \"number2\": 2}\n",
    "response_divide = requests.post(url_divide, json=params_divide)\n",
    "print(response_divide.json())"
   ]
  }
 ],
 "metadata": {
  "kernelspec": {
   "display_name": "Python 3",
   "language": "python",
   "name": "python3"
  },
  "language_info": {
   "codemirror_mode": {
    "name": "ipython",
    "version": 3
   },
   "file_extension": ".py",
   "mimetype": "text/x-python",
   "name": "python",
   "nbconvert_exporter": "python",
   "pygments_lexer": "ipython3",
   "version": "3.9.13"
  }
 },
 "nbformat": 4,
 "nbformat_minor": 2
}
