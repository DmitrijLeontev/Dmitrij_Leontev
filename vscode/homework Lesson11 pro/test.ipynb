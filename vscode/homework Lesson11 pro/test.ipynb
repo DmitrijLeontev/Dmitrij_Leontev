{
 "cells": [
  {
   "cell_type": "markdown",
   "metadata": {},
   "source": [
    "Пример использования модуля кастомного chatGPT"
   ]
  },
  {
   "cell_type": "code",
   "execution_count": 2,
   "metadata": {},
   "outputs": [
    {
     "name": "stdout",
     "output_type": "stream",
     "text": [
      "Страховой случай - это факт наступления гражданской ответственности Страхователя за причинение вреда жизни, здоровью и/или имуществу юридических или физических лиц, нанесенного в процессе производственной деятельности. Страховой случай может быть признан Страхователем добровольно с предварительного согласия Страховщика или установлен решением суда.\n"
     ]
    }
   ],
   "source": [
    "from chunks import Chunk\n",
    "\n",
    "# использование кастомного chagpt через модуль\n",
    "chunk = Chunk(path_to_base=\"aviodatbas.txt\")\n",
    "res = chunk.get_answer(query=\"Что такое страховой случай?\")\n",
    "print(res)"
   ]
  },
  {
   "cell_type": "code",
   "execution_count": 27,
   "metadata": {},
   "outputs": [
    {
     "name": "stdout",
     "output_type": "stream",
     "text": [
      "Нет, причинение вреда имуществу, которым Страхователь владеет, не является страховым случаем.\n"
     ]
    }
   ],
   "source": [
    "res = chunk.get_answer(query=\"Является ли страховым случаем причинение вреда имуществу, которым владеет Страхователь?\")\n",
    "print(res)"
   ]
  },
  {
   "cell_type": "code",
   "execution_count": 28,
   "metadata": {},
   "outputs": [
    {
     "name": "stdout",
     "output_type": "stream",
     "text": [
      "Страховая франшиза - это сумма, которую Страховщик вычитает из страховой выплаты при наступлении страхового случая. То есть, если у вас есть страховая франшиза, то вы будете нести определенную часть убытков самостоятельно, а остальную сумму возмещения получите от Страховщика.\n"
     ]
    }
   ],
   "source": [
    "res = chunk.get_answer(query=\"Что такое страховая франшиза?\")\n",
    "print(res)"
   ]
  },
  {
   "cell_type": "markdown",
   "metadata": {},
   "source": [
    "Пример использования простого API"
   ]
  },
  {
   "cell_type": "code",
   "execution_count": 3,
   "metadata": {},
   "outputs": [
    {
     "name": "stdout",
     "output_type": "stream",
     "text": [
      "{\"message\":\"Hello FastAPI\"}\n"
     ]
    }
   ],
   "source": [
    "import requests\n",
    "\n",
    "# запросы в fastapi_example\n",
    "response = requests.get(\"http://127.0.0.1:8000/\")\n",
    "print(response.text)"
   ]
  },
  {
   "cell_type": "code",
   "execution_count": 4,
   "metadata": {},
   "outputs": [
    {
     "name": "stdout",
     "output_type": "stream",
     "text": [
      "{\"message\":\"Страница с описанием проекта\"}\n"
     ]
    }
   ],
   "source": [
    "# запросы в fastapi_example\n",
    "response = requests.get(\"http://127.0.0.1:8000/about\")\n",
    "print(response.text)"
   ]
  },
  {
   "cell_type": "code",
   "execution_count": null,
   "metadata": {},
   "outputs": [],
   "source": [
    "# запросы в fastapi_example\n",
    "payload={\"name\":\"Ivan\", \"description\":\"good item\", \"price\":42.3}\n",
    "response = requests.post(\"http://127.0.0.1:8000/users\", json=payload)\n",
    "print(response.text)"
   ]
  },
  {
   "cell_type": "markdown",
   "metadata": {},
   "source": [
    "Пример использования API с кастомным ChatGPT"
   ]
  },
  {
   "cell_type": "code",
   "execution_count": 5,
   "metadata": {},
   "outputs": [
    {
     "name": "stdout",
     "output_type": "stream",
     "text": [
      "{\"message\":\"Нет, причинение вреда имуществу, которым Страхователь владеет, не является страховым случаем.\"}\n"
     ]
    }
   ],
   "source": [
    "import requests\n",
    "\n",
    "# использование кастомного chatgpt через кастомный api\n",
    "payload = {\"text\":\"Является ли страховым случаем причинение вреда имуществу, которым владеет Страхователь?\"}\n",
    "response = requests.post(\"http://127.0.0.1:8000/api/get_answer\", json=payload)\n",
    "print(response.text)"
   ]
  },
  {
   "cell_type": "markdown",
   "metadata": {},
   "source": [
    "Проверка счетчика."
   ]
  },
  {
   "cell_type": "code",
   "execution_count": 7,
   "metadata": {},
   "outputs": [
    {
     "name": "stdout",
     "output_type": "stream",
     "text": [
      "Текущее количество обращений: 1\n"
     ]
    }
   ],
   "source": [
    "import requests\n",
    "\n",
    "# Запрос к вашему FastAPI-приложению для получения текущего значения счетчика\n",
    "response = requests.get(\"http://127.0.0.1:8000/total_requests\")\n",
    "total_requests = response.json()[\"total_requests\"]\n",
    "\n",
    "# Вывод текущего значения счетчика\n",
    "print(f\"Текущее количество обращений: {total_requests}\")\n"
   ]
  }
 ],
 "metadata": {
  "kernelspec": {
   "display_name": "Python 3",
   "language": "python",
   "name": "python3"
  },
  "language_info": {
   "codemirror_mode": {
    "name": "ipython",
    "version": 3
   },
   "file_extension": ".py",
   "mimetype": "text/x-python",
   "name": "python",
   "nbconvert_exporter": "python",
   "pygments_lexer": "ipython3",
   "version": "3.9.13"
  }
 },
 "nbformat": 4,
 "nbformat_minor": 2
}
