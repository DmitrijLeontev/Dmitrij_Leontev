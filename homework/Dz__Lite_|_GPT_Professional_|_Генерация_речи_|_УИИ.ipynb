{
  "nbformat": 4,
  "nbformat_minor": 0,
  "metadata": {
    "colab": {
      "provenance": [],
      "include_colab_link": true
    },
    "kernelspec": {
      "name": "python3",
      "display_name": "Python 3"
    },
    "language_info": {
      "name": "python"
    }
  },
  "cells": [
    {
      "cell_type": "markdown",
      "metadata": {
        "id": "view-in-github",
        "colab_type": "text"
      },
      "source": [
        "<a href=\"https://colab.research.google.com/github/DmitrijLeontev/Dmitrij_Leontev/blob/main/homework/Dz__Lite_%7C_GPT_Professional_%7C_%D0%93%D0%B5%D0%BD%D0%B5%D1%80%D0%B0%D1%86%D0%B8%D1%8F_%D1%80%D0%B5%D1%87%D0%B8_%7C_%D0%A3%D0%98%D0%98.ipynb\" target=\"_parent\"><img src=\"https://colab.research.google.com/assets/colab-badge.svg\" alt=\"Open In Colab\"/></a>"
      ]
    },
    {
      "cell_type": "markdown",
      "metadata": {
        "id": "U_Xd6KUIdTkU"
      },
      "source": [
        "Установите библиотеку gTTS и с помощью неё синтезируйте аудио следующего текста:\n",
        "\n",
        "    Многие знают много, но никто не знает всё\n",
        "\n",
        "Сделайте синтез с параметром сети на трёх языках:\n",
        "*   русском (ru)  и возмите 2 языка на выбор\n",
        "\n",
        "\n",
        "Сравните получившиеся аудио и напишите выводы: можно ли таким образом имитировать голоса иностранцев, говорящих на русском языке с акцентом?\n"
      ]
    },
    {
      "cell_type": "code",
      "source": [
        "# Ваше решение\n"
      ],
      "metadata": {
        "id": "IYxOk6Gb3Ds6"
      },
      "execution_count": null,
      "outputs": []
    },
    {
      "cell_type": "markdown",
      "source": [
        "Бесплатная библиотека TTS\n",
        "\n",
        "Начнем с ее установки:"
      ],
      "metadata": {
        "id": "vhn5NlqjnKPf"
      }
    },
    {
      "cell_type": "code",
      "source": [
        "%%capture\n",
        "\n",
        "# Бесплатная библиотека Google для задачи TTS\n",
        "!pip install gTTS"
      ],
      "metadata": {
        "id": "PF9m2PU1nNSd"
      },
      "execution_count": null,
      "outputs": []
    },
    {
      "cell_type": "markdown",
      "source": [
        "Данная библиотека находится в свободном доступе, использование бесплатно. Документация по ссылке: https://gtts.readthedocs.io/en/latest/"
      ],
      "metadata": {
        "id": "CC1IASTcnfc_"
      }
    },
    {
      "cell_type": "code",
      "source": [
        "# Импорт библиотеки google-cloud-texttospeech\n",
        "import gtts\n",
        "\n",
        "# Основной интерфейс для перевода текста в аудио\n",
        "from gtts import gTTS\n",
        "\n",
        "# Используем для проигрывания аудио\n",
        "from IPython.display import Audio"
      ],
      "metadata": {
        "id": "Y25xeHWSng1O"
      },
      "execution_count": null,
      "outputs": []
    },
    {
      "cell_type": "markdown",
      "source": [
        "Словарь со всеми доступными языками. К сожалению, для русского языка доступен только один голос:"
      ],
      "metadata": {
        "id": "iUH9xu10nuPe"
      }
    },
    {
      "cell_type": "code",
      "source": [
        "gtts.lang.tts_langs()"
      ],
      "metadata": {
        "colab": {
          "base_uri": "https://localhost:8080/"
        },
        "id": "vSZD2wrbnvSt",
        "outputId": "6e84b263-e588-4ebf-e8c2-a8f6fa590760"
      },
      "execution_count": null,
      "outputs": [
        {
          "output_type": "execute_result",
          "data": {
            "text/plain": [
              "{'af': 'Afrikaans',\n",
              " 'ar': 'Arabic',\n",
              " 'bg': 'Bulgarian',\n",
              " 'bn': 'Bengali',\n",
              " 'bs': 'Bosnian',\n",
              " 'ca': 'Catalan',\n",
              " 'cs': 'Czech',\n",
              " 'da': 'Danish',\n",
              " 'de': 'German',\n",
              " 'el': 'Greek',\n",
              " 'en': 'English',\n",
              " 'es': 'Spanish',\n",
              " 'et': 'Estonian',\n",
              " 'fi': 'Finnish',\n",
              " 'fr': 'French',\n",
              " 'gu': 'Gujarati',\n",
              " 'hi': 'Hindi',\n",
              " 'hr': 'Croatian',\n",
              " 'hu': 'Hungarian',\n",
              " 'id': 'Indonesian',\n",
              " 'is': 'Icelandic',\n",
              " 'it': 'Italian',\n",
              " 'iw': 'Hebrew',\n",
              " 'ja': 'Japanese',\n",
              " 'jw': 'Javanese',\n",
              " 'km': 'Khmer',\n",
              " 'kn': 'Kannada',\n",
              " 'ko': 'Korean',\n",
              " 'la': 'Latin',\n",
              " 'lv': 'Latvian',\n",
              " 'ml': 'Malayalam',\n",
              " 'mr': 'Marathi',\n",
              " 'ms': 'Malay',\n",
              " 'my': 'Myanmar (Burmese)',\n",
              " 'ne': 'Nepali',\n",
              " 'nl': 'Dutch',\n",
              " 'no': 'Norwegian',\n",
              " 'pl': 'Polish',\n",
              " 'pt': 'Portuguese',\n",
              " 'ro': 'Romanian',\n",
              " 'ru': 'Russian',\n",
              " 'si': 'Sinhala',\n",
              " 'sk': 'Slovak',\n",
              " 'sq': 'Albanian',\n",
              " 'sr': 'Serbian',\n",
              " 'su': 'Sundanese',\n",
              " 'sv': 'Swedish',\n",
              " 'sw': 'Swahili',\n",
              " 'ta': 'Tamil',\n",
              " 'te': 'Telugu',\n",
              " 'th': 'Thai',\n",
              " 'tl': 'Filipino',\n",
              " 'tr': 'Turkish',\n",
              " 'uk': 'Ukrainian',\n",
              " 'ur': 'Urdu',\n",
              " 'vi': 'Vietnamese',\n",
              " 'zh-CN': 'Chinese (Simplified)',\n",
              " 'zh-TW': 'Chinese (Mandarin/Taiwan)',\n",
              " 'zh': 'Chinese (Mandarin)'}"
            ]
          },
          "metadata": {},
          "execution_count": 3
        }
      ]
    },
    {
      "cell_type": "markdown",
      "source": [
        "1). Синтез на русском языке"
      ],
      "metadata": {
        "id": "qHIfXucmpw-O"
      }
    },
    {
      "cell_type": "code",
      "source": [
        "# Запишем текст из задачи в переменную для синтеза на русском языке\n",
        "\n",
        "text = \"\"\"Многие знают много, но никто не знает всё.\"\"\"\n",
        "\n",
        "# Преобразовываем текст в аудио\n",
        "tts = gTTS(text, lang='ru')\n",
        "\n",
        "# Сохраняем в формате мр3\n",
        "tts.save('mnogie_ru.mp3')"
      ],
      "metadata": {
        "id": "AOiJbEh-oEqm"
      },
      "execution_count": null,
      "outputs": []
    },
    {
      "cell_type": "code",
      "source": [
        "# Прослушаем полученное аудио\n",
        "Audio('mnogie_ru.mp3')"
      ],
      "metadata": {
        "colab": {
          "base_uri": "https://localhost:8080/",
          "height": 75
        },
        "id": "J8auJeBWogYu",
        "outputId": "4c5ce7b9-f79d-4e41-e5ee-a07318adf02d"
      },
      "execution_count": null,
      "outputs": [
        {
          "output_type": "execute_result",
          "data": {
            "text/plain": [
              "<IPython.lib.display.Audio object>"
            ],
            "text/html": [
              "\n",
              "                <audio  controls=\"controls\" >\n",
              "                    <source src=\"data:audio/mpeg;base64,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\" type=\"audio/mpeg\" />\n",
              "                    Your browser does not support the audio element.\n",
              "                </audio>\n",
              "              "
            ]
          },
          "metadata": {},
          "execution_count": 7
        }
      ]
    },
    {
      "cell_type": "markdown",
      "source": [
        "2). Синтез с акцентом на чешском языке"
      ],
      "metadata": {
        "id": "pVBPa4e_p5zu"
      }
    },
    {
      "cell_type": "code",
      "source": [
        "# Запишем текст из задачи в переменную для синтеза на русском языке с чешским акцентом\n",
        "\n",
        "text = \"\"\"Многие знают много, но никто не знает всё.\"\"\"\n",
        "\n",
        "# Преобразовываем текст в аудио\n",
        "tts = gTTS(text, lang='cs')\n",
        "\n",
        "# Сохраняем в формате мр3\n",
        "tts.save('mnogie_cs.mp3')"
      ],
      "metadata": {
        "id": "ifaWP5tWqGFd"
      },
      "execution_count": null,
      "outputs": []
    },
    {
      "cell_type": "code",
      "source": [
        "# Прослушаем полученное аудио\n",
        "Audio('mnogie_cs.mp3')"
      ],
      "metadata": {
        "colab": {
          "base_uri": "https://localhost:8080/",
          "height": 75
        },
        "id": "qY5LaAl2qYtF",
        "outputId": "e325f781-d2fd-4b70-97cf-98aead0c4395"
      },
      "execution_count": null,
      "outputs": [
        {
          "output_type": "execute_result",
          "data": {
            "text/plain": [
              "<IPython.lib.display.Audio object>"
            ],
            "text/html": [
              "\n",
              "                <audio  controls=\"controls\" >\n",
              "                    <source src=\"data:audio/mpeg;base64,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\" type=\"audio/mpeg\" />\n",
              "                    Your browser does not support the audio element.\n",
              "                </audio>\n",
              "              "
            ]
          },
          "metadata": {},
          "execution_count": 9
        }
      ]
    },
    {
      "cell_type": "markdown",
      "source": [
        "3). Синтез с акцентом на китайском языке"
      ],
      "metadata": {
        "id": "aocWjV8uqhkn"
      }
    },
    {
      "cell_type": "code",
      "source": [
        "# Запишем текст из задачи в переменную для синтеза на русском языке с китайским акцентом ('Chinese (Mandarin/Taiwan)')\n",
        "\n",
        "text = \"\"\"Многие знают много, но никто не знает всё.\"\"\"\n",
        "\n",
        "# Преобразовываем текст в аудио\n",
        "tts = gTTS(text, lang='zh-TW')\n",
        "\n",
        "# Сохраняем в формате мр3\n",
        "tts.save('mnogie_zh-TW.mp3')"
      ],
      "metadata": {
        "colab": {
          "base_uri": "https://localhost:8080/"
        },
        "id": "8k1ZIdr7qyhe",
        "outputId": "3ed31e19-210e-41ee-8b04-5099e4245b92"
      },
      "execution_count": null,
      "outputs": [
        {
          "output_type": "stream",
          "name": "stderr",
          "text": [
            "WARNING:gtts.lang:'zh-TW' has been deprecated, falling back to 'zh-TW'. This fallback will be removed in a future version.\n"
          ]
        }
      ]
    },
    {
      "cell_type": "code",
      "source": [
        "# Прослушаем полученное аудио\n",
        "Audio('mnogie_zh-TW.mp3')"
      ],
      "metadata": {
        "colab": {
          "base_uri": "https://localhost:8080/",
          "height": 75
        },
        "id": "xbVzHTI_q5OW",
        "outputId": "95d277df-741d-4496-9419-6903cf2e266d"
      },
      "execution_count": null,
      "outputs": [
        {
          "output_type": "execute_result",
          "data": {
            "text/plain": [
              "<IPython.lib.display.Audio object>"
            ],
            "text/html": [
              "\n",
              "                <audio  controls=\"controls\" >\n",
              "                    <source src=\"data:audio/mpeg;base64,//NExAARuM4QAHhGcBYEydceG/vu+qPEMcGMY+UAAAABNBbu4G7uBgAAAAAAAAgcB/g+fLg+Dgw4IFA+H4nL9v8Tg+CAIBgEATB9YP/3f+CAPnw+MQgHCGXfbnIrFPzk//NExAwR6QokAMDGcKrxDAgiUBtTLofNiBUzDPkFmi5u8JFRTwwtnaYwOEjFYVTqFC5ZaI16TNMlGpitV9742gc9n97GcU+ZVUyjBYBFQACB2aPM5nqpHiIkZOCpa5j5//NExBcVuYJAAOMKlIIGQ8YDEIfQ2dUag9A+aUOD0RxQFELyoBAUJxLM4yZEsrY4q/Oc43JDKgocijAwAzBxXclKvtPJ5NyfnEA4RdCu20MDAHMAAAxT3DyACMDAFSDD//NExBMWqXZoAOPQlQwOFjDglCBFTW1YW8HIuM7fgCwWBUvIkQl8GLM5HaAduWcabkZu+KqefCQosbbjRIBYs1SEgE/ey7r5/+X6T//Ds+2j+MCP7Y7I52GkvTUY86AH//NExAsUyXaEAN4OlFam9gFdRYbDJgRu8a4tAmSzil1xKR/5yn7SKNpdvpO9pFyY2Mf7K9b7hN558Ln88ByqlCHqnz/Q/Pnozx08LOJn7///////9Cqrrc0+IWgRY1l1//NExAoUQZqYAN4QlC1ZoQmgO1J2p24I6hKJTl7xDw5Nb1qGiUjeUsxf2xtCiz3VZ25//3S2q/gXTlav/0///2FK4g4BQRPYt0VUHilbcGOk/kPotuCCGNnlkJkAepNW//NExAwVUbqgAKZUlLuBC6L+Sbu8yoerzP95s+HgOb/BopM7e/DB9W/7//MknmjTzU+3q/nEnYLoCAkaogSV+I4iC3UWCTqSawxnN2GN3//3yxCWE+Tq9QS2I0bMwQSA//NExAkTavKsAJyOuG4mi5cBDsL9lZlOIxAuh7WPgXKpSpHhaekYKUYiyF9id+b/R+/0+SbmAKGLzRN7FS3lC3o3q3o3o/o3p/////+3zflMpf/9YitaLPNdhgUuRJns//NExA4V4ZaoAM5WlHTcwTuHFT2OptYcWFsf3BhD9d/Veswb/+7Dza8//mHfvt3+y/+f/pv+mdb2mXgSmqkILN/p5q1j0wZiBuVd6nyMmCR7///2NkaF1+dhwwpHZPRW//NExAkU2ZKgANYElONpKGLOqMUeOCd4em9r8m7l8YF1+5VS5fr4+7veZShsbLZbl8xGbPOUurl/+331RlAShwRxNHQCM9hwJ6A6xD4s1Qtt5Wp////9arlLWgksABr3//NExAgSoQKIANvacFCwDIJ6UGFhQLC0Om8qUFCuo9IY5Vnf1BLzr+12rQCTCdH1JGZKoPWTz/USnqPf7cJnQ+clnVnZZ0j//u///LKf8XqWXJC3yFhwVShyRW9IG7CI//NExBARSW58AONKlHYyRmGyq6xfBGCZUsaLXMh7uuxU2tEmpaQmoXM3dUEAd8YA53lM3s/vp/MRmUIAQ4539VQKVajqPGoYFRKag1pqMUoqOXCwYATKRrSzsVLsAEWH//NExB0RoWJ4AOPOlGm2unVK/tS3jdMO9a18vKUvVcqTVTh4NznNLE7UY///X5wrcHkhv/wqhZqQz0JVMYuNRxcDpcO/BqygSUkKnNv1XQDcM+1fhXOF/iyum/9XGJn///NExCkQIW58AOPKlbfH+vBTSNmA5GzHeszvy//6MHQ4HxSdZcOYU7IDCzg+0TW/DlJNhcGMXEWnSY+iUAzaaD42S4z0zr9Qx4767DODsrUoNFOU5P/v/+fzoyVKLpU7//NExDsR8XqIANwKlO7WOd///6aqTl+7IDX/1dkjCz7qCbn/BgiIgPihfTJgLLQA3G0eSRFqJUtmZvUV/RHUOBFJM6REiZplKhP//3/9g4GIBUQPMhF6S+QdL4qjv+n///NExEYRQVKkAMSElP+42E5G4VzW74yYCu5FSzd56wZAriTZamlVkU4O7hjddSUWPzqNhfyx/63N4c6jvv//+6ndnYAgICDjYYMlgAsSgwq1zv9RUyr/52q8QzVGL2ru//NExFQSgVqoAM5KlC7QBeVBams8BUBpqq+93ckhoIxDk5j60lJOpz/3S0uv/944n83///9WV1ggIUJFkGLDDAVAf//3////+GH///xGchaicwqT0MkoouZM1vvS5yAW//NExF0RsW6sAM4ElJyKdo4w/5hvAMyQz9J2zQxTvf/dX///9D////6/CiRb2lOTzDthp//66k////6Kw+rX5bmnRCtQCq4Ksr3ZdAakTxDRrGZkeIYI+AjiBQieQEdB//NExGkRmY6kAM5ElI2C/gQQw6Ik0tEyG/bWXSc/BE+7fVPR3+xPVhxtkAg97BgEAAz48NO1/oP3ARn//+r6kiXXe0kvZwBg8/0EL1sPXZDEyQgBrIELAkmXSaD0QMWR//NExHUVgZqQANUElALlD50qkCD9g5MMYEifbYnDf0USp9jX8r+q/0+gf5HKEUpwFARnuYPB4U6IYn/9PoJNsd///+vWQscq+FDBJj8meMmGAgL6pEq8gBbJpg6rmpXP//NExHIV8haIAN0KmJwc8DKYwArpOGZ5bkaIVNE+mRZK3Wj9SX6T//0franiIr9wBZV0EW+5f//+////////8v2Uio8pB61yM5XF24CpDNwSs0ACyEPFpDBoCccGBEw0//NExG0U6x6AAN0KvBFBI0KdlWUeBIGAwKgGanuZnQJD8qBoDEOpy1f+3t0ahLIiX2//////ch1vDaoO7a8cikJEcKVY8yvFOp/laHYs1ZdagWXpHNx3OnDr2uuu4JY7//NExGwRiH5oAVxgANcPcv5t9z5cSBqBAHRf/v2PjGwUCEJBorVPr6uY29nh2HQJC2wR/4mv5/qJfCFnD7jRrD9sqr98//M/UbN0Q88aEykBB5wo57bL3XH7fe1rP5j2//NExHghkypYAZlYAHXkJZQi4+oWD4PCI+IH6nXly0I2sCMAqenl3pXnSwFTL+5/JwYuPuhYQTrHO2eKDma3se5EsPLoHRGJDsbEQS4uQLjjsPgoDYUEYoOaCIsLh5RZ//NExEQfyuqIAZlAAGXcEliHnIewTiOAQOJXPTrmIMo5ap/4GLExE08t1TT1y2ntztv/wv8cvPH+91J3z7TCIsXA16RyQMqK1akPU2dLPgwSDYRMFrUxXvQQhBaz//0///NExBcWKgqQAds4AB3//0Gxb44L/lRf9G+gobqoXGUc4cHwWBzucegVCQbFrGDYSTtbCMW1qOl+ynkPo31Jsvjjd///pJsVdUIKA2Hw0t2NV5hu4xYMwlaRDjUmhWLQ//NExBEV4w6UANKguWF6Pn8FTfEtvnDvyp30J/xn7RYG0+bphrDV0LR/FsZNS2SGmf1ukTtdeRiHdZMNbqQ+tD2UX3+j///3/b8y9c4/VW3egV16obOsaZ9QabHMh7Fp//NExAwUOtaUANqguLa272MdAAJZ1+4DL/Hpf8d+VJP0/FT6Bkiukeg0D1c5JgNNZklqOkZ15Bq6ml9u0ajfU36PtLn6v////f2pt1Th9G60Tbtn8LcOAUbOXAF7vu4M//NExA4SWgaYANqamDFd6BEBki9QGn+JD/IzvqW+hv6ffJOtlOYAbjdaVbCODy59JsZLa6AyW9RRb1kt+r9T/MDv///yjdfDyuYb1XiAjmmzBP/Tv7Anw2LGi1tyYFK3//NExBcR8gqcANNUmMv/mP51v/1P8jFr0BcAKj5HU8YAZGrvcwYkvkY3Je6HfPGZb7t9PzC/T//9HPasTka5+t1HrAutTmKUkfkFUZCv0i9SAUBr62NvoJepn+rfR+p5//NExCIRcY6cANNOlMNn1JhYZOR8gA4XH0HBYDo7njrPq5hI7BFn/Awd///+z6nIqqnca0pGQw31KD8ImINgEY8AAHeaPOCEAgiaPyybPzBfp+xvP8gdiqBUq6VOqeCo//NExC8QqPaQANQEcDUBZUFXKX/zwoVI////2OqpfWC1oIesSJ1DA0PzhkXA4ImoxiCZAYWKBzsOdo7S2B0S9lrHP3Qi3P19SfO6jct55tNhoXfQwA4lXH3Z6thOxX3///NExD8SoQZ0AO6OcP1f///7XSLKmYfBZVtpdsASdEIWMOMs9spgEKZU/rtNWNNdRRhyRSGRCIoHDot9Nm9FzWP8+JYH56RnPnL39tMevvLCga8fFh2h64B8OnzqqGev//NExEcRQP5wAOaMcC24OWeYoSx74ihw8VG5amAqDQMtkgoSVyqRIH8VjdBI1Hca1qQHLLrKZyGK6J028BL8Tbn1tvrqvp8/Owwc7/1I/////+XbJqut4ZjsAxyVn0rh//NExFUSeXZ0AOSKlKg0LAgE8QrcTOmeU5KVZR1KqnQcB5JfnhcZxOZ6wpIKk3fwzmOf+uCz+Hf///0b5G6n6wjVh/1h//J/////qsfxrSkRsA9292E1KRUEAw7fS21M//NExF4ScY6UANYElAqHM0zp6m8kO50TLjyyx90wIWL6r5x8QC5flhnxO2f1/5hQl+xpd+rfb19UPukfBDdDZIx8+FG6u0eWpTpyPxNLl9f///5sIe7DnA6sV0FMGPgS//NExGcW+aaUANaUlDxur67kh4UDY666B/KQneNukLIWc6+D6Bg2Wv/N4P//4IP6P6/t9vv4kBzUo78aZZNP/+v////+KP/WcoFS4eKi9izTDAszQiBcvlSHAyQWbWm3//NExF4Q+YqoAKZKlILwOBb0a4pRytlxh6iPAdqlnHKMMHUS6Svbrv09nO4ZERIezHo33+SfLexBzUA0OEaHKKxipiJH7kY4v//qews5H///lITBMK3WOrr4EsUw4SV6//NExG0YqZaYANbUlLz/iIEc4OxyN6jBbMwJDh6bmqd6zqqRhzUX2XzHDQnAHAUYiz5PqYctA4GdV6saxCArN3T4UtyDtf+tZ////N/+/p11LY2ZWeH9NJSAyQk4wJ4n//NExF0e6xKQANbauTmCZ5JE1ZQ3GrMpN/t///917nVNt///////trRWbSrW+4yoQIzjBH5tW+IzG/Lt9LNwUrkyNAeXshjbODg1cmJW3f99E/jIToHMjjRVwmbAFAHh//NExDQbOZaUANbalAZ1I60hXyrBUw5kcLqW8/9/oJtrMfYxSSNzApjFB2Eqy01kqiTXUkO4pyhJ9f/fWavaj///voPMIfw7hGy8gexbSnoY4omVF0h3RStcwglr3mKW//NExBoXMZKYANaOlFCe5wP4ZLiUxL31IAI2Mj1Lk6RCKLTy6L1uYrp7j3FBGpaOv6/R/t8dMMMHmFYIM7TCZyurFARCjP/9DtTf///UgF3mG7kdIVDHVhrH6sBGxLhn//NExBASwZacAM5KlG6r+mx8yKzlSwEF/CkqzZgmUthB3NyZq/AQGOl2P71DXf/8d/9v//yoxYiBStun1FBobR//57////STqUk5ToyGGNHdZIr9huRgwI+8CYeQSt0E//NExBgQoKKQANZwTL80SC2MxLaadC4jWRm9vKngWetYzMtrq2vb6RJ+j/5Z55R7PUCXv//nmLUcCi5KsJggiYOtHh8h2a4RGSHUcWbAr+Dks0aGii9UoAiSIDO2Kj8o//NExCgSALJUAN4YTFReA8Xi2IoqH6rzLSYtCUfW9l0WMdRYC//5Vmg8+wqSFNGorS5cCDmSpzUjlMlssjgBYRucYxiBhyJoT71zPPqiXFzUAHAA/qKBgomlF7m2vg++//NExDMSYKJIAMMGTF/Vt3mWU9ynUQA6flzkoGDgfUhJ/o6Viw/FTmcmG4vLet8/C9b1e5y4Jiud/bQQ+Qz5eN3uW/Ye6rufSIip5lp5byZET2F+XL3c/I3A7ZrbsfZX//NExDwV0YpgAMJGlXv/Huczz/qEPpR6dSjPqLX5tX/dPud/L7d1qdVoo0GGGfoMIagEbLm9lEllwhMQFRDC+i1FldE1pk6gbiFRWFR0NWYVSwuNcp73eSUSRoNPlrBx//NExDcRiMZkAMJGcGqzr+xyyORPeNU/66v39Kp9X2ddjoIBpwnzm8w8nS0t4wSFzFYfHFHzK/vWkTMem91V8sW17BArOcKBS2tqlIhEl5hEexigd3JMc4grmRcbVUvi//NExEMQKPZcAOPQcPAl4QgGYDgYaaSgYmBMwGWKqBQJzFMDwX5kWfkkQjF564h2gUdPJcQUUCwJh9hYCcHs8yM1Oey663PfPLl31AWpz9RATe0mjKEMMqmMFEE9j9zN//NExFUSOP5kAOvWcII2eW32C5FM3hoHWy3iljaKU8VdXjYypotfg7wDfJVVYm48nU6kTHdRx9aiMp1TtxpL0T7xj99pQNpAFcnvbOgMMOjM/oCjSYbnXeJQAY2Ehvpk//NExF8R2P5oAOPacBm4GJXuwzEKliAAMDd9/wosfxSQDltiZIVQSzb9PG/zKV3P/L8adZbT7+F3tbmO+Dk73IE7DZ6v9nfvf8Z3jHjSwGvL95GNBO4P5QQhYEFvv//y//NExGob8Z5oAOZMlB///6SgQcM4g4YgDDj/YyIIXu7kUAJQbTPzlmOMDBCY35VPdp8FtgNfRFi70Q7N0pvECzIfrVCQirdFLT+S0CAl6V8rsfYnf/W5bF8+/9raupep//NExE0fEiZ8AN6amD9PzrqUdTDsCQHnWyLux0fh4Gh9KXRzut1IodFP1If6lpp9RoZhc2TWn//9soyH1ccKsSRlMRmQgRj3ZIVQcydSce52uMFheGxt76WTmWDlY+ci//NExCMaeiqMAN6UmN7GjBk7Nru1ki0V5NVbzKlEP7rjYOf/7g/v/91vX5f16Ri6EBKIwMnuQoUG7K6APDQwjZRBfLev3/8hPri93LDG7//3Sr4q1e7ehZpAJEnlt+Xo//NExAwUqaKYANZUlIBzh7VrW9MKH/nRpqGODryvqvMuqoUfN7gBpd7nc8FWa1+n356VHnlW9PUz1+Y85zwlTnnl9FOE1DjlF/1/7agza3///39F/Ll+BDN4ksnXwgAA//NExAwVKx6UANKOvDwmV6/flgMCmwklnFgAWHxx0wAi3CsDUqmoCMFKZQVn5Ul83/1/9OiCcHLHUnaONTazCS83/09f/nHXVkLsz/////+qf+j6j7rCWyhu4wXHeZZg//NExAoVCXZ8ANvKlCHIjSIlBDH3wHLDN5inP0AuKaHEYqIKaFZ+qYG63j63nwTSVVZWtpVO8bCYs+cTbUBxX3/6/foQpVOJ7WI/IiUXIq/2////wVsJ1bll/2cGAwme//NExAgSAXp4AONKlDUYTCpIR6WcmJRqHJV+p2mGKDkOUDgTZV3Iq7URyMmuYPyaIlmXDguzRobooI2wx/b/p5hOVTig/////////xadfZ/WbGBQNnEQzDwu07eo8mAh//NExBMSmXJwAOwOlG4IAOCpTgM4CiYLPoh+ZqktAU8/d43fMjRO5wzs6giMO4uSrDd1oUS1F7J/ogWIGq48xhtv6kUqyqyppIXEh1OEjweUt20UEFEHJ+OW8TuHXjEa//NExBsRUXZ0AOPOlBkxMeLbokdf/wkL/5tEx/lLXrjRUsfoXmJMTb/+nf4YY9ELtQn/////+mrHu8FUzYJRZsg3AIyMmnhMH1biO51WJDhupcCwE6JutXiCfdHh379P//NExCgXCWaIAN4OlH/+IVL3/gwTHDmYnXoQpo3V/05754LBg9x88busTggIBOTrehRxgYW9umU43/+7V3y9jItV+xzKWmplt7IOzRKbBy558N1wOAhFHYbmyq0LcRT8//NExB4XCaqYANZUlGaTEuc78dfzf7jaC9//yl7qd/1GDdG9fp5reTq6D4DIFcZzx6PiRaExiJOJDLSV332O/U+JAuLjH///v3UUKv/+UZyM507lkoaA4QnuJSAf4MKG//NExBQQmVqoAMTKlMlESAVmZqTNhGRFzBkyUENPs6xyTBu5/o/o///+oqu4dAIUOlz8RmxwcIP//rMV/uq8AGLELCU+HLhVje/9F0ELBYE1HcxfAMsN7NjqRNAJgLeG//NExCQSSWKkAMyKlGI4MjDJp8xNPv1K////+jnQeHQFDhCCiZcJNFAq///s////9wqqx7zstBJ8mqyLl6XGCgKbSG1VUeOGJPuGsYko+DnHEmuyxnY+a9uOt0tzP//+//NExC0RsWaYANZKlH//49/////91VSAYp94jqOyv//Z///v/lZC3b/VCOL5FSS69SvEVYAIOG1n1F0BY+FOQ5pXMSGA1TA4qRA6XFB+xLGtlkySXqf1/t9v//v1CjOV//NExDkR0XKMAN0ElIMYZ2l3xKc//////t/lqse5WZ4GNZ3gA/M9Vqhe8BUTEJWTgx4JBwFeY7jAuEyAaABFZNEknFeIe/Yy9zb0Rvn+X7/T4JvK+hg5LKFABfKFf/6a//NExEQSIaKAAN0ElI9///6a+9fonvMIAETPiBKFQ8tUwirjQpFQHO6RYWsAA8BvYQhqyGC9FkBek5TWUhQS/KPzH498d+j7VM/+Vfx5msOg9JoxxwLiUq+usfGXgKgH//NExE4R8Yp4AOUOlDEo8OBGFd0bh9NAhOxucvJryAc8igCWQHqjhdQKYMwLAQQLSkzqBoeJ1XZrf9Depf///9tW/viQBN///////i7mrTV9C8jCxUAGCiibir4tKAMQ//NExFkSGZJwAOUKlJXLCxog5/DPJA1Kt0jaoAhhVhxAXuNaErlzK18pJLVt1lvDj1tb29PillHo9KoRCjak2HLyALA3ewFD2IQMApwIqLs5myWXZWJiEApLgfJB6dSu//NExGMPSH5UAOZwSLIMMe1Hekk3f02Uv/enRt97iAq1U2r8Vn0IY2pNH9qqqniR+0oIAXztLMhAaAWDSRDAy3DDVr/ZlMB9MpEMnrzMEyiJb8oYligPEMRyw5KwwifY//NExHgRUJ5EANJSTDxX7aZQIg9xBBC7/8Q+/+78R/2IIe7tsjP3PAgYKP5rw/DDVAgCG8vB8uUg//5d4YlxA7LvL6iX78LyAreZW2EoONCLdzAEI66oMEIVePUgjOrW//NExIUZ+XZoAMsMlK7pPhjA61JVeZ+XHXdetSll7oOs7OMmhin523nQWt1q2FN3Wf45d9l/ptvoRhIgqLiIHGCBUEeQ7oyMzoIMcjVTISKORBgGTjVOaLIJj2nwqSf///NExHAfCdZ8AN4KmOoc0qpTINgQVNAgCCq5Pd4F4IO0zjAmtmEmG0Hx6RMbMSpEnSSWwSXjEizs24aAt2sZKreXLb3HCUSyLc/W//9cx/1t///XRjXOEBMXHh9C96u5//NExEYWaaqUANYKlB0ZS4mcOO409IqZ1/FBr7v///9N1yo6ZVivTLJU7RqyqzLcQkBpBQw2LgBKgXknUxqBaYF7jYohlwA5BtIqLh/UgbPq/////3ShBhKB1+tK7q9x//NExD8S8i6cANSEmEoiv////awRv////FH+7fA5LFvWZ4CRArahjCh5u4gpmGHTRvPoNktSUCBROqHpgLgiMNJHKUMMkXdVJdl++8////////6XoEMFWdH2fRWkMSMD//NExEYTQaaYAM5ElGkv/qIB40ndahTuOF+IW4qaqg8NFbIBxQymYg6JsSBdpQF+BhQIDQEihOBnAGmGh6x4Z8OPJFJigutNv7P////foY8JmAzLc91V9qkkP////96M//NExEwU2jKUAM0KuIJT7////8Dqx7eEYoDei/ocDuVhcfUeN4N24oquabhnaZ9wumpFW4BZBqG2sUXOwiRY1Juz/75///////////UowgWYWOLgNLkPFgs09//wbCrz//NExEsS2WKYAM4KlDX8vIYyYKzTBaxf0sh4GPCw0WesLt4QKQ8E5Dbi8QwGkBiUnBXAAjDCpOlwihPOs3Srdv/////+chAHKPOinuv9t1/////0SI4q/GnBiJE3YnDP//NExFISGjaYAMyKuRleQBJRsKtYU7AEIRcigcWAEIiZQBAABVpYHUBBgoxdSJo9QNdm//////+rxAwowgKdEM3cYP//+sOKDBnVLHgQ8hFZjhqOyCNKJh4EppkEYlDV//NExFwRgWaUAMzElLIQLGZRIGBpmIYgDdAL0kkbl8ZFpzp/+v////6amNDgnHUrKifen/////pUoAMn///+L7k4zgy4BoCUQSf5jN5tjAfbJpwGQrxh+UBMEk4IRIDV//NExGkSOj6UAMzEuGDpx1gEkhBYqk8KBMWlVt///////9hTCmUEBRy2s3df////1ohkcEBqsJRJ3jEc1QWPRAJONmqCIMHRZa+AkVRKkzSwbhJ0ZUE1YGXCDCEJQ+c8//NExHMSejqMAM0EuYl8gxsswbQ///////tVQyMEs//3/////+RxAYVPgqbiRxWJBQyQpBWWGKQLgDWs3BRrrWM2Yg4WZG4BiEGDzAXGChErLGdIhWk2n///////soRU//NExHwRejqIANUEuUzBNGFy5ibcv/////a9hFRgOpiLPUaNkPGKNfxzTDvum9pNIh5ZJgEe60sDoi6TYtIDFMuC8CyInJqMjWie///////9axArCY8UYaTK+dEI//////NExIkR6kKEAM0Kuf/9oSZgDoqzB7Px3iDlsWJSY9JVzBJKHBy2LPOIwzH4cdoLKTQaAIEAHqGRDmBa6O0yMi8kktt////////zlElJKVkMbopVX/////SqAJBRgmrc//NExJQR4j6AANUKuEofBcB87TVFSyrXaMQHFm0zYVNdS6qTRVI4AXBcsTaPoOWHcRVAwdW3///////7MBAQorG3R9XnEmf////+VjOUgEBIm12oXGHBGniApsWZdBdU//NExJ8SkkJ0ANTEuf52H2fqUyQtokyTJBh6Iwjw6cDTRaBuk+aoOitXW7KX/8xcxmstvX/9WDAYkyigqMf//8qCp1SaAVCwEGAkkNL14+n8jbtxBhx4WgNIESKrKzE1//NExKcRgkJkAMREubWhw2VDQsfCA0WMC7A6MAJQBFkRUWOBldjuhrX2EtudLVDlf9vZp//11QIQDq7Goat3KPE5KSMHUcucEhrCSj8b/y0lggOEwiFRwtAJgkJAVQ8O//NExLQRYVZAANSElKS4Yt1dwGRe8c8kpK/bb0dt16fR5J/rbkkFYE2VaLuu85kYWaSps13tZiPEw+PoJtKABOvf3U3aEIlU/cbk6yrkeF8ljv2yz/65rjt0GfJTqvbu//NExMERCIosAHmYTHpLe95PmnPf6vNO+f7ftQYsXtPuyL3WzKZI4U8ZgbepIaQ3oQRY4esamQuEhM6trobhTbKgiJDW6ng4ReV8nPKGRFw/yMuFfZfvTFW/8a0HP2z7//NExM8QcI4kAMGMTJ/ngiUdpp5jqXh6Q2345fVxCln1rdlvpuyldYpKZ12RCzUiVUIIiw9kyJzY41N0OOYeg9i1NHzRlq5FVjIV5LNessl5kd7TlXr12rVLtkoRzL2X//NExOASIJoQAJhGTa37PQi0+9TIhtnV6otMHSoGLK0k/Up3sQKKe5TdFVIrZQizggqhExhT2fZknKfmFbuJOjPWy1e9WPuqQ/sVeku5W3B30XwfZaBBHrsNvx7u85j9//NExOoVMf4IAKDGmXDWkbbEhXVV/dY1egYsZ91IMg6VORlxZJ4vBoVc3CBFZYQRUCmvCUqGrhjamCdpS6aiC4zsx3EyO5aD6DMz5KWYU0uRmk4n5rHBTOG/+3Y/vu4I//NExOgUWxoIAKDEvBKnY//G05iavv9aHy0KbFtTZG90bJ0XtoZwW2fNzUKW/IVr5epU3da4SlkE8MSjnTdjUtNi04Y5uVqBbZgiADx131G3+zXscqP03eoR+vGmbuOB//NExOkToY4IAKDElb+kOJdq9w6UhRtcZQptorVTdS3WpB1UWZ7kkXgIrPEaHEIIzoWKbKH7/djRFiOLJc044eCpCUkYt6Yv1EBYegwyDubI6hqZ+pI96OMoOxYW1RsV//NExO0U6VIIAKDGlaqMeu66d6+hpViFMvQ6ZtUGNmSQWpfUmtNqiyZnH4SSkGcEO6GlMSCIQQ8kDm9yBC10BnEZjKB3hgroyU0WZlLMptS1okvLwWhHHBO1LnLEeZ/J//NExOwUcWoEAKDGldap83Sjysh3fEYqW2pMpFSJFj+xxioGIv0gYn+leY4N7d6lODmhtyawEJJRjNOphdFMNsy/7z6ndo6wTqdbpa2vXIW5X/tY/vn/8rGpGxJjw9jv//NExO0VkYoEAKDGlf/1buK77e1CvJUKbVorpNNdSpdsnudA6HoMzEwwS8Fok9R0wpWA2IIVc1Mgm6lsDcYMKEpB8oqtd0aE0d0hkjZvHaEcs8jPfp2EUm35QuP1OEeu//NExOkWCb4EAKDGlTI31ZKg0DUvUv68v7xaPjy5QQY2vpJOgeW10nbM33z05fY9FnIKzS9e5aI4VrV2KxcljjNVOHBEUFEtpL6LmRvKscIEGjk5yF0pUI6f4I6m7y3u//NExOMRmAoMAKDGAaNO/Vmqf/rch25cBEjocgDhKJ5enNZyjLAGLFKXZTq1V7w9jNjLxGUYUzBKd4iSjqqAjYxU3YnehjFHOlvSyzemZpjxXjmSqRTNLnm0vLfpUgeY//NExO8Wwl4EAKDGuRXo8euEfhpF+sd0ngt7m/tSfDzl+a6Kq/i1KU1KGXM4lNHhnn+sm3NGb6mEYJgmKyduHXnNvumeOBEILvK+J7m/WdgMeQPBkPBEmscTEYXQ+btQ//NExOcWedYEAKGGmauXxSyta0cpp2MQrrnzXNaLcUTFFDA4FSYUzBIMzJkLzTSWDo5ojBgoSIvgsAIMAcwhBEwAB4SA1pyyyuRquV6f2kW5WJhUKvM2pYc8B0uG9cFv//NExOAU6eoIAKDGmW5t3fbyeL8qtavu/DD6q7ACFkvVdqcpOWM9a33WWf0ljv4YZ550/crH/vXMPtvDwYDCpxTnMQfsp/p/+j5NSyl7pepKlPMiAAwFBsyC3w9qQoyY//NExN8TePIUAMJMcASBwlAIJTB85TPcdQMIaED9lQDTCkE3O2rUWDfW8RE8LhFeRWM50L34kZqi0gLk640S5IAkCpc2wtiGKhnjn+n2Nu03qNXxMPIcZXZTXcfEsm5g//NExOQgEYIoAOvwlPgMEg08oNDCFSboxlFoyGGLz63V9jGsZ////////+mYZmGTyDWXK5UyAQBMo6Q630TFYYCgNfwEC03EwDEgKbm/z1iIKOPxwjjBL2q5WEZIAYKe//NExLYh6v5QAOvOuCdrJgjN5bUshEs/amdSMjEHGBALBKxPlSzw7p1SZxWC6ZIlbWGv2Mp2Fg4KDzgUDurqi1U0lbd0ssl0k9Fdy////////7LSZLMYOMjzkSKxfjbA//NExIEfKvJkAOPKuQBBs8LTi4KRVuMmLUkaODyA1p0Ep7FwIzPOQ9bIXPq5RF0wh8j5qkbvF/1lEYpL89MYQzb+bm7Lw5fv44+k5ewlUr7n3LtjD5TEF6oc7EMAwIJi//NExFcgQvZ0AOYKuWEwAO6iqmV6FExRav6EZkkJZXECMh0OjcjPr/////6X0QjChEKc4fHo5OXLtAOATebS9cNTL0ogA1S/1qOswMWMIfXZFM39M09COpQzEHK7tfnS//NExCkciaKYANZQlMGRTP7i0Ui3n/OCmnyzn2KlvfA13+YS/tEr7RPGK48eEodAAAAlXA5BzyMMRKJtBSlFxr4FSEGSaYfIAQg8Tp//92NUSHqABMhV1vuMSHNLO53G//NExAkU6aqwAMYKlGhHJtN4ZpknxSfeGO1yhI3X5/syjeuftrLzzfashdac/u61e3qUf1RfT7H6kIREFgOcTMJgoHc6lRXRHYjTDUFDh1qR/buULKBsautQNZCwI7Dn//NExAgTObK0AJ4OlIKMTQzpEkhddrdahBARKc9ju0OkTUotfTJjNv3/qwzb7//c9Wb0+/zn5xU89h0CIEBIIVHR48/KE1c65Da5bDezM5qVM//9VSFzScM9XYYJ8RTP//NExA4UCaKwAMYQlJbb09ofme5NU4j0kxf+yp0Z+oH3/p4yyKc///C3//oWr/lP/r/lP/uv1Iq1QIgNHy+oyX9UF02Y44oSkK/qbBprxqrueD9gDo5CsgsfgBl5d41m//NExBASYZ6wAKZOlIgU3RzkXOxGCA8iKbmIsghMUB8u2MtX7H6/Va3//OP+v0/b7ePFibmKIoZF73OHhufvNJ4dDOz/Trr//elHRxyK/uahkwpRJPBRICfQIdCQhql5//NExBkSiYqsAMzKlBTGcA9xHPKhNGQoUACIxD6GsebcpP9/Un//5vQSA4+kREJ3lHB84Gmtn/xL////+s1V73X9joA9e6xq7DzCx+/u4fsrlOK1Juer7yAFaH1BDtjk//NExCESMY6oAM5ElNrCz///1qfP//WPf6k+jfT/9fhAM9nKML6xZyJX7f+5dp3////W4EHku3qqosYjZKKW1ZcgVKgKdAJOk2ZByQNIwFjRLESi4h/A4w8PXKyzyR8W//NExCsSaZagANUKlOd+YH/nPo33///t0SGnrMFb6h/k8p//cOb///Ka31LX6xpnJN6/IhtHnQPsIgpwAzapFs+PgCsQXBSmwfwAbMLmPlVbFEpexYb5j9G//f/9+uCb//NExDQRWZagANUElLAhnzwi4x3/9Ms////6agMDNf7hnYa+dJuNG4pSStwxgobIq6heIss4AayBEoSQN0BeAaomOasyrMRst5NHvmX0f5P2/b6+owC9WGN0h6/ju7/V//NExEERea6cANUKlM9////S3rPCPpuGNzzMJXTyx5RUgB0G6xQIcTJAQtPBFFMq0hXgMqGJwrGqpgTreZnvl36D/u3/7fT4wN9lFfh0nkFdf7Mu7d////RV5hvCPp/B//NExE4Rya6YAN0KlFrSY1denmlNjACY0MKfsoEDNR0AYxuA0ZLFShQ4YlK5q9ZeV1pk6j1GRt6hn8OJbzP9v/sGN0UvuFNWePf/87////Qqs4TkHrdMLmc6yPiITuA+//NExFkSSZKMAN0ElAvmudEsEFoznRRckBGTCNvOX+S+E2f/kxHelwgkvkN6mfnQCfyf/nhALHkiwNPc7//////+usIrMQ+qoYjxpp8iKVwxLHaGBmYmAz12K9R6Rp0W//NExGIRIO58AOaEcN/qu7M7++7cJ+rWu3GqRXP97n73P7wI+kGRpJH9jW1L+v+5BU8k7/laq7znnBBs6mL4F0tWu+AhF0iNnCsmsQjB9HqCkbJpyVNV1Jj4EomjpR/J//NExHARYXZwAOYElCpspxZNMcIx492Q5qUKNzUd9r7T2blTN5VtT/KatVWIvNMyh6xDoIOcNl05GnQFSJFkV1ZWiCF4VceSTkAGgYrm4fmSbUFCWG7p4tJXvUXwrvLg//NExH0SCYJoAOyOlGiaYfENbhJanppu7itKrjGvPVhI+tqlDRozTpdSs91UeMQxeTK298CTLpmAZAmIAAsue2LyggGi1epLs+jonBzX14Je/X1849C8uYcuz/8/CUh0//NExIcUOWpgAOzQlF3SIDooeInJa5bJVtU2eiXTCheKnzi0hE+INesfX///k9eGN1Nshbm61DTGKYJkhdGca9KCB83hcFhmNS2PLbDrcs1iEiBoTZ/gIXvNfCjf5z48//NExIkXKXJsAO4KlP8WyyU+N6XKXm3jqSbPpeIxoJoSTL6SLmZJiNlJnJAG+ANMW5ogbm5gzSoxL59KYOPQlGdblw09SFqZggu6TdNSKbVqWb////X/tZ3dtSDM7Jlw//NExH8gQvqEANvauL1IrY1pS5QIUwW6KRk9hxzBlg8RhSAi8sjaaALVz6boEYDdcrdMdDdx0u3Lp/zY9e5qSS0lqEgHo0QLyzIQ81TadGQMUETclRZxNkzIKITgMggZ//NExFEg2xKIAN0iuOUZlQQlOJ2RHCfPrSMxHZoZpNNzR0EpmeVVOMptb66ZPVazKvs3//r+c+tL55XOrq1Gqt/3CVrCEcB7J+1LR10csOvalSREuBsQe1OLUh2O/Mvm//NExCAVwcKcANQWlE/os/4Xf+VD+/mpHomLTEjaT12NRAhBPHZcnQSUm1cEp93wSnsZ5qeOfKJzlRm31ucs6c//9hPf7wiY4wYk7V935QFQjxmnbB5g2BeCF+UHr9Wf//NExBwSma6cAMqQlN287/r/lL/mqu9XEGEpkDoQXpigBQHBTck2LqGa14ZVjtSTRFFO7CZB/q//+SH1qwPOyNQEzuQ9rgSbcj0DhQWZpCJFYtZps+3LX/qVRq0t5z+r//NExCQRiVqAAVo4AHo/o7+53NnP6jVkOOHhsrKYEIBI0Ep4i1cjPHf8Sp///8sqCwcMK5gwaCEEEhwjGTvRxNIBUSq5EPPSCia0TAEHKhpgCDggHxFQ8hFjVKjDrnlF//NExDAeIypEAZsoAJzpUhmVUF3Gioi5UWtCzuxDoJOQ4il2JVhyuiyLS/pVnayo5PddzLOzNLVJ+7Smh8iB855BR9tWTL97lShlZ2bkiiqU7qc6qPqEP6gmewWjKaLG//NExAoUIypwAZg4ABFWPu3//8epeYhoihQR27M5gjjyj/2RMcIGkzP1Pn5h6HM3/bzLGH2///dp6Vp+np/+tGeroxxL9rf/9tvIH0PMMVjFH0H6GgToyI+/euY+tV3j//NExAwVUxJ4Ac8QATjVvWNjONbVilVC2LofZCmMgNpnch8OVjdd9FYxUN+mbVDt/oul83+v+3TY3Y1U5mWZTHs5YVDkcr1RSmKciooMI7lEmZDShllqJ0AhOgJgQVpu//NExAkPuDJgAHjMAJroGFhgVGlkwrQyBTFBtJ5yA6d0g25blqrilaxj6Rau4b1SujXS8jLSz33VowlKjBESfTSRKww0ZCydhQ4XKHBBcCBP6IRD+UXNieoIj2HwgAwQ//NExB0RMA50AEiGADheRhjKAg4o4mQWUWIBZyFcCBELAgXh8pEDogLyxSD+fSMDYwbB+GEJAX8vaT14DHiE6JvghLpRbdOuZd0QR6UWNB8D9FXe1T1kEAAnHvgIyGIO//NExCsSmMKQAEDGTICtau8qZPzJyROhWUCyQu5Zo2QBMut468aRIbjCxHMKJhFxi+7a5ZWmTRZEiKYIsg+aQ1sMFBlrKs6Sjkmy6uocHFozXvTeu1ZCSK7KMEDiAYKC//NExDMRoWaYADIKlAcFwIHFqSIjy//9i6P89o9fSSkqjtjCuxg2WA2IOtVY8uylnsXfdcLN8TjK7qNediAxFC1Sz/y30VYMrWBtGUkNS9nn/O+m1xGqsY9gKnHhS2p///NExD8RiVKYAMMGlP/5Jv////RVuzuNlpQXrA5LLK/aBZB2DUO7k2KAHGHGrj7urD4Kvi0ondp+KcanjXC1lMlRMrI6En6U9//+ccPsJUAiKGj7ix////K////+Rd87//NExEsSMUKYANZOcFqEkoMHrbxtihgfWyC3SQ2FsgnKB7FPODpoOSi9mxJxAtDtFjllJKT/7/J3//9mej///X710CN7U15b1L/t/3d////+dGLeH6qks4eP6/7o40Iy//NExFUR6aKYANZOlLJs0CPCCUF/iqXmKQQEwJBFmBPDpCE4Fyz71GQ3vUn8t6N/9vv8t6gOc+5g1dM4q9lch2bP9nDP///+tNXHn6qjsISt3P1dHJQlllmdAE3gA3QX//NExGASSaKYANUOlAnDU2DoQUiGKyPRBCCBg0ttpl35/5/1+n1+3/qF5t4ErNQg9Bt1fd/uXAsm//1MjsAXZ5Z1oNHNBf2WcSIYAuYBHZGQKxqUwQCAFHJBCeRODuC6//NExGkQeYaYANUOlKN+skvmnyfT//6fb1DhjsowPiu6BTbxp2vu/zE+bhf//1/6qv/9VSw+Kf+suxEh6A7XFsTcnAEhwO0BJAqm4+QkUAYDmRRLCRmIEbmBc+j6jft9//NExHoSkZ6UANUKlP5/1/7FRKm48Dk1M0S2rOHec2/6Ezrl1f53k8FGwTXrONVohgVMBo6B7B1AJKwDqpPLNi6CRgCSovlJTlAPq3USPmBt5gX8r9X+/r9fhcWtRx8k//NExIIRiaKQANUOlPVh85lzA0/H3f+XOrh1uUtNEVVjHvg5sUbjNaXIaPEAoIdeWJqDpQLZGSLsoALwCx43PIKJsQxPWOgvvya+XvnkX4R+pvt/5xJe4kz9vUCfqjdT//NExI4SMbKIAN0OlH387eX6DqChhhfYiCQX1RjwNKneBjRKDQunwwOw1S2XAGxKuUXbaPUzXpjbbAfX7WU0a2P3Gv/fxW4Qz5wMT0L6L6N8rcnU4GJd6PKJpZ////r///NExJgSuiqAANzEmKVBWlUTCYNTuIAGOBY2HAj6BMMOgMvQzhXZpIvBhjeTcFcAJZYJfGXJDFjF84Kf6v2ovbjB+KozW81ZX6YgBVKeImPc4kRMiJVVPZJCrkF2uqqL//NExKAT4X54AOPElDYktZ6gIZ////+7mKq6ckOATkrDGBAiZf9J4IVg4DNAsiABGL2UYiAzW4xTxwEEh2xzObSPn7Os6GxvLP67vWMv+OO73vdRyFUMQMCefcYvdFJ5//NExKMXYXpoAOPKlO2/ZmrSXo5wkDpZ7tluoNvLhr/////+sS2WU0zBiHcwJjTLgFc65FmIGFyKGGlRmQFMuAjZER1AniaKmja76I8PJx80WuSQywxbdIosb6kK24fH//NExJgXaWZsAOYUlFt1mJt3X9zqENKKo65YVvDIpcUdGn4MSoc3///6NFXIKoWY33KuFoChbI8Kz6AVThhYe+dt8JAWBADV6grxgE9IflL5Pf0j3mtK0fh4mqK44RfT//NExI0W4WZ4AONSlGMzIJiCzKaDGIzhJpqW5FRxpIHykEOBPNi4XCiLQO9JBkyIH2zIlSfSVMSGFf2fdI6n0UH6k36k/////WYIU7oKp2dOpR0oFxk0DMuIZrNquc+7//NExIQgGwaAAONguTRJcg40r2N2hyLB0ZG9Z4FUDB2oaY7QyeVN5iU/UUfUb+cPdSZLaMnieJVHDMAC4aHJwkwslmZNUHUC+ROuxgHIQUpRwX16kR2NVcejebN5pVqP//NExFYaYwqIANtauD+h9v///q+7eZNas5tUkaacyNKK1jrGVClcI0UvLMSEDkDkJbkygwhvpLzg8fUX/pfN/q+j896yR2SMQu67JE8N0hmp42IoT0l2eok0LOsxN/Ot//NExD8T4c6YANNalLrSNNU7qdLf//92TqP1gvk61n+NMIloasvW+TyDovUeyjwzsgTyatIZfzL6P0Pr+r6m+fsphipVrMBPgVbGJ1JMbmRpF0Shlryc1qJRfyf62fqd//NExEIUMvqcANNauL0v//////3+putn849Ybtd7y0u0jcQd3syOGDSCYczMPEgBBn1FT5D8p85vv6N6N6voaMQaGOVCEBYyyKFIbRzBFnNxJP8VjPNJ8s+t3///26Mj//NExEQRgcKgANKUlIpp3+dSViJIEuXkn78tEJI5IVtp12H4Bvwr/F3yNvVvR/t/60N1xYuii5mB1Jc3P3JYsfckSn6Jb6RZ829T/O6tX//79tRGoliSu93cg0k+Ahcc//NExFER8e6cANKamLtekEYJ0qQ/Yz/EAF6CAfz28r9W+/3+d8+utRwj3W5JhmTUtNh0oKZZkt9y5XzZl8x+v6z/2///////b7ddL53kqqtNjWiIhZHlButZ5mjqHlGo//NExFwSkwKcAMqauNplJBIW8ebeV/W/rb1/q+b8t8KhNNYuFUIh6WKsIw5V3ia2qD/3Fn5j+vyr9///+ytOV0a6xscvxVDcNNmz2JiVigoYgHw5XUmwOY/46fNH9B/W//NExGQRYe6YANNUmN62+30vWbPrTIaCnRKATQW5uyRmPJB0lsXkfYveYG2p/wzs2///Lc9UeqfG1dWfzvBdBBYtXwuWyUmJkaRcOUGAaDdRcT+hf5f7fN+vzPmP1Gg2//NExHESiaqUANtalM8hLg0sjHhPa6IRkvmE3kBN6Hfb0IXSuJv//9ek7Ueq3zVmNgRrD1qK9wgAUPg5Cl+CcFADl6xqNvv639f1fX/3KKlSgikvEUHpacgVB1Lcv6P5//NExHkRgeqQANqUmEJPt/ZBH///4pizEoJnHzbbZq0AodjMjY5EYa7NagowMaSCn8N8WkBU5zyAnMP19bdU/o2e1XcamzjjR0jyt6s5CvAYDPZKv+3///////+n2//v//NExIYQuZ6EANtOlPyt69BI1wdqqQ7WiKUxr4BEz+1tULu1L/63w1E5/6//lgVHdaL93/u+vfb////9G9L9f9Tojdjuy3V0V5XUOWIEU6eMHeefPfgt/CQPHLoASLM7//NExJYSkvZ8ANnKuP/+Vg8/2efmln///21fTX2Xf+jZ2/tZ//aikdrOYrkMWIBCJCCHOcUccoxg46nFCEGIIKzqKMMQ5JARWADC5G4kA9lIyUdau39Zb8ur5Z4iRfhL//NExJ4Qwpp8AMhEuf/V7d0kbtrZ2/9df7fb73773sp1AnMYri1KxxzgzhWOcIRDMggwYWkpRglTkAJAji9c4VVqPRGwl9DgjhwoXiSa7zVPm62tHCMAUIhPe9anur9z//NExK4R8wKAADhEuW8mv/+1s6orf/yev67f//L7UWxXdtJXmQGoNEDVViIVXYO4aUKM1HLPICOTVY9F8sSqDOS1fhukZYCaN+ET53LofA0h0kAAYtXCaMX7P4JDbbpn//NExLkR8wqAAGhEueqYVgPFzOieY3mf/5591Hz7dRyU0//+3t5WzKy1ck0e4kp9KvkV2CCU6ZRY3NfMKJQh3A40GjOrIHRG10+CAEnm+zcGLb/J/uP+JIv9b1x8NiyC//NExMQSir6IAHiEuePQOwuIvwKT/t+k182qznoLUSEQQALD5U9t37XLMoKCwEOEMUIf0IJmo445////kMbmMSUFBeV7YszYkOBqpr260ABl0ecpgDxEk50bRaUkYDKF//NExMwSWVqUANLOlG1Fw1bM23KBd40RwCrwQWb6LXzDfP/010zCCItYlBUH0S5vQeUDsqGpWUH/z1UrwnaWNEpQfULQOjq1cZZDYwlxam5smkHEhAQarRuQjZeJtUST//NExNUXwY6UANPQlA2z5HefqWTXzUiMWcTgwscqC99B99Tve/9Z7GiUeNTbnjXclLR4p//////1KrEvfxOcwcwBvWlYCXOxIwSUAOHyYBRSFwyznm+2Q5OGNp0Q6uud//NExMkUeXqUANQQlJUuqd7+TrX8e4vrf7y61p5Ocmwaf0Ou+DAdd3JSh9N+d1+7bd3mq9Sobv/7jB15GnqXSqkSBUL2g2k1yqEggIoQjgbMkqwIBKuqWtNyLHGJBVS9//NExMoUCWaAANvOlDnJIITWaemuuCrzD/dFs97Pu5i9cy+JzjvnBBNYgi1bHHHpKmv81elL/DO+ULB+qwqAW/cibolLXeTVMSmQ/SVR4tO6vMUAJi5ajwrgSN4OhKKS//NExMwVYXJwAOYWlJpa3JFiQZ3JoSO7mdykj93Kk3RUVPrkkpIpnnMwgQWQPnZFC75TM97tu/VCZxiSAacUE+38R8aCUwYSjZiFMFQFXKQwjECqECXGGDqKSnZgBMRC//NExMkWMWZoAOYQlC+dhp5IROO/ATuJQW8yRKrZqvSOnetUtMqkEEGIV5RE0ll6xq1K14Ncoq2NtyJf3eqt///+f+Ex/c3xmMI9CAFABxHhyDsgUBoIYLxPVC5BjxN///NExMMUuVZwAOYKlMV0xJ//on//7v78TaPzbn7P//1AOoBqwu4V2QG4hyaH5VARYjCy6W36RLY64db8foFgzyPF65izQDBxuDNBnrE2NIQBSaoC9QcZXv4qNoaQJc3c//NExMMhmlqAAN6QuGzyDv8zee//6l1j9/jh//ux/f+apLG6jpCGKlzRBB0kWePRuTk54qiULBx5wiRue9VPzld3ff/Y96s1GVlc5HNpdv////5nomkxpdbXf+VHbVGY//NExI8h8x6QANZUvFbwKthEXLM9dM8mllR/YMKsAXFvxXxcohVqv5ugLBp+ZZy600BLYGvdq4L8w75qBK6uilf+kf+a/hf/SMu3DyAyR1nqkChPCJYvXvGuHW00fDeZ//NExFoZWaaYAM6WlN/huWNUG///++Xxlf/eoNNLNt5VdvCqAHXl163LAEnKwTsUEcCo4NVuXGH3hlLweT3vqJbB0d/c+w0FxT/0n8wbHY/0EYJ37P7+vq/Q4g1BGAcE//NExEcX6ZacAM6OlIqicUiIfoSIMaagyL3//rDMSsp///+uoKr96qwEKWR69lchs2xKHX04iyHIgidmI2YEMXsWcXCBRpNnhXQmqCWMeSpNKQYa/cTz+8v5329TP9EP//NExDoS+YqkAM4OlGuo6Ejss4+6yqSrP///////K/7zOWAIorMt802U4i4G59OraP2M3xv2AuohXa/GZQQyDvO1U5e4WsZI997/5MxCcXAVKYk3qf1f08aqOwDA4o2p//NExEESKZKgAM5KlCtSikld//9a/WGpSKrR4rIsaVsQhgJISvIzHQB5iLxNJhjgFHTyDj5FENLKSLy0cxPaK2NeoRAj8SHez+nyvMowDnZ1KO75UP//+mr57etjtFLC//NExEsQ0WqgANTKlHq2UVEjxNsebhkQMDCKQWOmqaJZCwI29Z4g57uXUfO/f4RlzA7vwZe7/F7YTcWJMMn9+g07///bL//HWyw0zlmtGmAmGxYOUXWsqNgScC9SeRMW//NExFoP+ZqYANUKlBXBF2rWPlvIxD0T/nX8o3jpdLqEJOeko/mHx9SoZL9Bs7dD+o537Nm39JyZ+3ztUZhYbopHQMJBGqZCBvtQusINAiiZLdQtQ0k7TF+opP5x/v6f//NExG0RgZ6UANzOlGezISk6mKp1ryI404fMBg69RLL0yeroo+bO7d+c/RV//627czuQGWIsHHbuV8WJmKOYO+34nzxGBLguOgyI1FPzD5m/n/pfX1JP3DR3Q09aIRU+//NExHoSMZ6QANzUlMCwGFiBqjpO2Pv4rMVatGX/3IXGE50jSzAHMOt38m4JWGM8bhNCabLjUdYB9hxxOmx5Q3Trosop7aHz32938b8Veyql1uctA8Ew+OEHeIG3kfkF//NExIQQ4ZaQANzOlFWgg3//y3///9al1RZWYeMaJAxihmnmZoyuoCrpa/mMYI8snyuXqdm8jqYZ35PrDBg5+odTu9vV6MQIKk1PzFFY0lB1MHXLIOQ////////quVcJ//NExJMSoZqMANyKlLWwM6lKJmpASb5t/oOOurOoCUwNaXMiDFo1BMCPpJbGQoAklrqKjtrMkur6mcuHvUv1+3YQejgIGdQ+epdED///UAHlrG1AppyI85kdaOPqda5D//NExJsRQOqUAN4EcLjxAEzoGxCC4ScLpQAgXHai54wDpkOZFd+WT3mXqPP1DvK/HvkfKhxykouI0qNPX5xbVMdH/ILP////5NXVF9hSsxiHQ3hdHoGFgWi5585wvAI2//NExKkRcXKYANUKlAQAJTGiakcXygWj2K6aINl5dp09fOt1Dvdg76/VvfxEVa0oILIKfb2r//WCy////620/0iUBEIqa3ACRushfahhnbUcGjAvzRq8GKrnCK31c1rt//NExLYTEaaYANUOlIr2cf+Zf2HcfEQKQpHDodLdhFuhvMLPy//+gkCo0FYcJep///zxVSUTCpOyttjOoc7DNIwue8SdwYYwkSdWbKjQRrX5hETGgWF1RQDDnwqMI2PA//NExLwRsV6QANzKlDFECUNOUlVrExT/YQs9G//9/7qIzs/STVOSVCCUYe4Lmgyy8woC51MUTjSDi6lirVVhcH9HX3gg6CAYWk2mJwwQUCAoAAwFk9ucpc7UA+8ao4gk//NExMgSIUZ0AN4KcNKOIAgs+J3rCwIEAOIGKCLQxD9dC5ngYi5P2TF6ZvAZKavDCBYDT97ERCBmY9/KllQgXWkJC2nWi9KQs8mliZVGRJyBMmT5BA4I6RabOVKRxqiY//NExNIQuGJIAN4SKI0HCwcURcwiCIFlHjzBaZ9EwGnRSufBOHjM8XT3S2zeTggEkaKCP76wdbw86t9c+zNRMQKeQIp3zdcpjDzDgjaMAEBB8AQqCsCwfWXxM3TB+bDK//NExOITuEpQANPGJM/5lsn/mKZ6pX6sZ+jmdi6HQUZJICjRZ54GWOEQqAgK7VGrR1PrEvutoWLCNilG3qJtFBw+LicYQgvQfhugYYBRxCEDRHDz//d65Dn7Op6kgGuf//NExOYhixJYAHmMuacnn+Xy8Kcdn/bfT152+26k/roX+zdrX+jS+9xvbv17tfkNi+dMya/oFTL2WKTEtyeA1R0lO1N5DAxbCGYPkCbySI8wAn1DlA8kEXsA5ESjxVz8//NExLIRMUZ0AFhEcMsOsCU09R1brZWxlbr0xVCGPzKt+WLkGLuzNptVqnj6lWUhxXAQ4GSh8AEbQhRuaGN5IZebPg2CTiZeJigcKFDjXFmx5tx5ELQklQuA9njKde9N//NExMASeBZcAHiGAbcccOxe//i/+5j3aVZtwbVYVfBj4GdIKAojUETLMmRDMAZeZCGkd065wzJ9qS2f079/+um3MgFAUDCqMV7aC9UDAEGAgFkNlJ8HAQD7Dc4fFDjy//NExMkQ0C5YAHvGAJyH/9NH/7/q0/lBxQIKnWPZtuNCk70fiIKmBwmNCYwSxjbQgQ0emqsLC43k2rItecZSQ9c7zT1EKimWFcKvdm06X/wwvzIiQNq1PD0LEnlJ2he///NExNgP8FZcAMPMJJZ4uZ54Gsz1Th0QVYzm4ZCghihAcCIkIQIg08+zxtqDcFmQOIMqf///+3vd6r0qPF76u9K54pP/////r73uuX6051anpOyIMIJGVdXogvMCG41Y//NExOsUmMZoANsScElAxBE8QOARzkZvNYv+7MnydYCrN64ujIUzHBz2qHg/Lpvyo91GepIOQSxs6wkhRQZEK8oIomwxhKyQN6QTceg71jCBtB4Ps4jiNc3Gsp2crN1r//NExOsjyxpwAOPQvUWHepnnPV806BKKbdq5oWulQTSTWipa2///X39TrqRZTV1vOIAwpcqtNDIVOHrMr2TFiowDPJAZrPY5BQIbCFKetEbPOebNzj9Te/m/kkf1j6LS//NExK4gYwqAAONaubWbAvk8wUmHYlC6s6CjTKR4xcgM0zOeXl3kRmfb39F+ZtzHzI/Tkv/08aXetMu4svpK76BdCek4tdgUvhk2dGc5/BSHz0BkbcoMfK+M26P5P5vq//NExH8W6iKUANNamN/wXfwNtK24BkuUk1eEV00AfBMumMK76oi13crXEoK/8/7P/X53v/zl/qbf/+yu8HFABlfG/VgIRHTsEmmvzKZKaZxL8P2GFHjOb9RH61ea+cfr//NExHYVuiaUANKWmH9/Q9J+TD7pKMwsj+YDSXTNEvhJy6ZvLhszLOmz6zzVrOK/0H60n1HWTzFf//+00oQmlca16XggwfYCvxoc8VQBArcS3hoCQvxwd8d8l8v5/t/7//NExHIUUfqYANNamHMJeeNtSMQg6yGCAE5UF4GwKRU04wbLy1qM1zx+W/7+2aeUfJQi7//+qOD7CETh2Dz6uFOIIwGW1I7KmDhnaRXuzAjmZ4JPqNn6+e+jenp//H+X//NExHMUOfaYANKUmB8ljqtDD4tDAWAGMcG4s305vza8Irem3//61L2aplUaHf///pNpDpIIxlXeW44KXkgJFBNVE0SdWcsHgDWg1JcVm8x9G6v6f9fVt2fm8qNndB8I//NExHUTCfKcANHQmIHxEbiMEpynnFTwREUPxAa+gClAG54w3///9RJh0MqLqvvW4cM24m0hchlIg0X9vVdzuPhM+pLu3O9vb///4/mK/VZexZuDA+YssHwCiLlG4nBY//NExHsSCWqcANHOlChAisGQA76iAdD6cJ///+qAFi5QWYpF1uYYWYXKNBbVICR5ph7VrXHxntgEfILal9ucv///+pq3bVzTaKNRqTB4I4SjA0a0ydaJUkW/cNConK6P//NExIUSKWKcAMnQlP//4AOwwAzhBEqq1XuKNmx8zeWOmOekQkusumy60yBARzCWYR6t31f///r/Zy1qVVIHgseAgfKOpTNzI0F/8ANF2oOp///2pW0XBMKAdD1V78XB//NExI8RiV6YANFOlIaO4lWZLnEM1SW5dtqKz3NRCluoGeot/mzt////Tm7OtjO4oAIoEBoBGUpi0Yz6NVE/+vRUQ5bzO+3//////yIcgw/56hsc2ruFcRVlRy6+AHB7//NExJsRGWKUAMnKlI2qaPsjL9T2OUv4hwT5H31Q1S/////00+ywoSDRAeLCLEQrN2///0VVr08yf/7////7UElEd0IIwk11dcrG3ABLoUAjbqGHaEXFVBry5YPxyiE9//NExKkSqtaMANFKufCJaDW/bt/////6dZVcVY4CB4GcxWV20+v//q1C0Qq6f//////+IiTlAZgtLykuXs3Ad00JYOeS9uZk9ocBd5513RbGY/9AE4G1///////9E1cw//NExLER4uqIANCKueForGwDCAju1l2+3///NqjKyt6f1/6///852VzXPNKDyknIn6kqksLeMKbiyMqR3BgiJcbXTzna3f8T5f////GtcGX0+zMxQFVI7N///////++r//NExLwRctqEANFKuZ6UTJIAHFnTRqTvznU6ESwG5zu5QBWKMosWeBUaRCOiSYrSSpJUT370zma53aqutqN0/3UDHLZjGVKHvqi3ndnZWff/ZmfvWcnZnKf2/O9nzPzk//NExMkSEu6AANBOue5T5npnJnqZNOy7Ew27Iol1cXRNwHC9M6Oh22sLqp8ViWTCmsQlFjMG4NygVFjx4IkIkEuF5Z9jAsg3Ngb2MYB8XLCwSDyiEkFDHP9P/Pd+br/+//NExNMSGwqEAMhEub9v7/5eet9f76/9e/57mf7X2v//nyv9/9bt+5UpsqheX5pRhFjF0fNLxYXoRa0QSJypQ6gUTIiMeZQjiIQikPuHSJkICYwZEhdtABsLNo1j5sfX//NExN0fayKEAGCYvLoqCP///P3//+i////p/9fb/d////7P2R57IadcaJYk5BRoLTxwaFRMxM46cepYdURB40TOOxQphpYahYhF43UZKkTRqSYqIgYn///vn///P/////NExLIX4yKQAFBSvP////////1r/RD2nMxGoyMJh8eKHONIg0eLCFiijBJIiOEhweMwdIJg40VECMUXEHHlEFOMKHxMPgsU/9v/g7P//5/////////+v////7/////9//NExKURsxKcADhOueOXn4ltme6Ohke5xwwhFQtXp4IoRWPsfSMfAkYRhCNPEVpPDwPrEwsCoYDYOhgWduoL/62/lOj/X/9H//////39//tt6+1Nm+5K1dhpKkuYphJD//NExLEQ8xqgABBKvUwurkRqiKFYLgMHgsBRcIiYdcVHiAmofGCowOCwdDQ0AgtxQpQk1Qv/vb78jKX//u7/////9/9vtp//09F+qXdmlQ8xotKiCyiQ8cQUKimM5CGF//NExMASkxqcAChQvcOuU2OZ3D7h4ICsOHO5xVBMODhISAdgFDos6gVJ/9WT/MBmRfL/xbF////4v62v6/X///9F0zJKiPqXK71HmA1SjppnRwGuYYhyFHmdg6oeGiQs//NExMgSGxaYAChKuB4XFRcVQQGsJPiB0QNoc6/rd2RR9bIrTGaWY0pb/0dwxvfN/T/3/2/Tb7UtTs6/dFKztUjmc0tWZSGFvKW0osjxZlKosYXHDRI7uJB4IsIoJDxU//NExNIRmyKUAChKvM4khg8NDoqwsQDY8OiIs6oRQkTMVpr2GOW8tY26bXOdRBE9t7VlLSiPragDiBi+jt9pqLNkyl/6tvr/9Epzb6tm8v+VN9WSjM5cxyoYylKVnYMK//NExN4Q+xqMADhKvCkoj+mgoF8xWCiJTwIjgtAWvcgWXT0llMZs2B6YgLwU7NzyVlNs9nkqsrPdpSo4RBZ4tIsQOPLJrFhdjSLy6lia9IwWPHWD32Ias6jjhC66yyOe//NExO0ViyJ0AGiKvBPYHg0VIMddRNUSSjANz0BVDqsoty2flsaiNKAEYoUFGGwQEJECYwckCO4q0xmIaiXTIYUxeIIsFzCQUJhGLSZVzRVALEsc2jDzh9uaTTF2w6R0//NExOkTuq5QAMlEuSE02NSOZdY7DLcqhioCNxMLQvzLcKDkqwz0gkrpoSZDtlZGYmWGYyPHRnq3fhkLjAn9HJy0oxLHHj6RMeKMAJFLhXoTvKBYTUPULkHOIPcpNRV9//NExO0UmMo0ANmKcOq1ZtAqD6qE0CGgM3qqNK0Xlh+E0lPT0X0tLqtdjNbBJZamCmc7DdxgaK2naJS9XXgzq4HEjVUIglEaibG50pVyoPERw0lrIHPCNvJuVMHmJgRj//NExO0U8OIoANDGcPUfkLjAoomFzOUPpNqNM7BZ5GoFlBwW1q0WVrKm/7uVTSC3T5GAeS/9zIDGqP8n0uN98jWMTQr81Ektp5EGluAUFZI69sJq5Y0p7kiY2twoRcsK//NExOwU0Q4kANGGcCi0e4exThR4pThok1C03nl1CllBJloqd1rT4MCPMgnW1KKZ1PBiaaHzCkT4Um/rG8MnVhV80CdicyKSej23BGuODtXYfqnb3v35+9pvA/7j/+2a//NExOsV0VYcAMmGlIYS9sbXQPUTy5tLX9HfcNUGNrMp7KSrdluWZQOCH7lo9Yo2y5A5BzZSY92hDTqoOpdVGoCio1VHzQPFQ8mIwzIIuynxpnTOk0mTtI+xclS2lvyl//NExOYUGSIYAMGGcJSv22XNe7lMf9WXaFQZwN/4B1lbpXs6ClhOzvs1GfLYtKAxmZHc3Y9nPzHx3Jjo0+g3BVliFBk9rko2b/tjs3Lr6DKzjfdNPG9c+1Z+/0KxfIda//NExOgUUSYIAKDGcfBzsBd1bFwX/7/RjGwlmSoGNpggvRazqSVyf+rVICjuyqDlOMRnuRj9fMz5UhP2JmyCkRjzzdoRPLS/h6V7782M0hVKXf2LzabTH/1mi9sn/e7s//NExOkWar4EAKDGuXGHcPv3oBdzZE9nWswNWiuyzbqY9wxz3q9nn6prB56R1yTzdSZXhxE2eFYZKaLCfcVY/RBAlr/mju/ZxFN4WXxDfxJaa1LI5z2ncUHSa3R7f7cs//NExOIS0NYIAKCGcbv5gpIe9+uc5I17drW2bHoM0WkvyjQlujsrcMBAxIZxIZxVIM6tRNgEbg0DIK1BU8HQ0eEIKnQaPEcRAyIkLGOw1UeERYY8iJRMBXfsDuIgVLBQ//NExOkUYhoEAKDGmfCF3lnyf5GW4a0lagLwWkXQlZoHOfh/nIrH8CbiYUiIZGShGgey0hWLHVG80jJZ+yy1DI1YKCBUEzILC4jMjBYVYsVFBa/oFRRpqsWb/6hdmoV4//NExOoU4aYIAMjGlbs/9YqLIesUFkxBTUUzLjEwMKqqqqqqqqqqqqqqqqqqqqqqqqqqqqqqqqqqqqqqqqqqqqqqqqqqqqqqqqqqqqqqqqqqqqqqqqqqqqqqqqqqqqqq//NExOkTkH4EAHjGSKqqqqqqqqqqqqqqqqqqqqqqqqqqqqqqqqqqqqqqqqqqqqqqqqqqqqqqqqqqqqqqqqqqqqqqqqqqqqqqqqqqqqqqqqqqqqqqqqqqqqqqqqqqqqqq//NExO0UAOFgAHpGcKqqqqqqqqqqqqqqqqqqqqqqqqqqqqqqqqqqqqqqqqqqqqqqqqqqqqqqqqqqqqqqqqqqqqqqqqqqqqqqqqqqqqqqqqqqqqqqqqqqqqqqqqqqqqqq\" type=\"audio/mpeg\" />\n",
              "                    Your browser does not support the audio element.\n",
              "                </audio>\n",
              "              "
            ]
          },
          "metadata": {},
          "execution_count": 12
        }
      ]
    },
    {
      "cell_type": "markdown",
      "source": [
        "Вывод: Таким способом можно  имитировать голоса иностранцев, говорящих на русском языке с акцентом.\n",
        "\n",
        "Вполне себе сносно получается 👍."
      ],
      "metadata": {
        "id": "aEm9QxF7roU2"
      }
    }
  ]
}