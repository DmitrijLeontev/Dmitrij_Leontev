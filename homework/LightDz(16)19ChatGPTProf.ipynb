{
  "cells": [
    {
      "cell_type": "markdown",
      "metadata": {
        "id": "view-in-github",
        "colab_type": "text"
      },
      "source": [
        "<a href=\"https://colab.research.google.com/github/DmitrijLeontev/Dmitrij_Leontev/blob/main/homework/LightDz(16)19ChatGPTProf.ipynb\" target=\"_parent\"><img src=\"https://colab.research.google.com/assets/colab-badge.svg\" alt=\"Open In Colab\"/></a>"
      ]
    },
    {
      "cell_type": "markdown",
      "source": [
        "Дополните нейро-HR по составлению резюме в режиме диалога блоком \"Цели\" по аналогии с другими блоками."
      ],
      "metadata": {
        "id": "7sAnxv_jx4EQ"
      }
    },
    {
      "cell_type": "markdown",
      "source": [
        "# Загрузка библиотек"
      ],
      "metadata": {
        "id": "4SZh-0koTYS8"
      }
    },
    {
      "cell_type": "code",
      "execution_count": null,
      "metadata": {
        "id": "5Q2oeV6mGhxB",
        "colab": {
          "base_uri": "https://localhost:8080/"
        },
        "outputId": "8f729aa6-cf13-4dd1-9630-8a1d09d3f0b1"
      },
      "outputs": [
        {
          "output_type": "stream",
          "name": "stdout",
          "text": [
            "Collecting faiss-cpu==1.7.4\n",
            "  Downloading faiss_cpu-1.7.4-cp310-cp310-manylinux_2_17_x86_64.manylinux2014_x86_64.whl (17.6 MB)\n",
            "\u001b[2K     \u001b[90m━━━━━━━━━━━━━━━━━━━━━━━━━━━━━━━━━━━━━━━━\u001b[0m \u001b[32m17.6/17.6 MB\u001b[0m \u001b[31m27.7 MB/s\u001b[0m eta \u001b[36m0:00:00\u001b[0m\n",
            "\u001b[?25hCollecting langchain==0.0.338\n",
            "  Downloading langchain-0.0.338-py3-none-any.whl (2.0 MB)\n",
            "\u001b[2K     \u001b[90m━━━━━━━━━━━━━━━━━━━━━━━━━━━━━━━━━━━━━━━━\u001b[0m \u001b[32m2.0/2.0 MB\u001b[0m \u001b[31m28.6 MB/s\u001b[0m eta \u001b[36m0:00:00\u001b[0m\n",
            "\u001b[?25hCollecting openai==1.3.3\n",
            "  Downloading openai-1.3.3-py3-none-any.whl (220 kB)\n",
            "\u001b[2K     \u001b[90m━━━━━━━━━━━━━━━━━━━━━━━━━━━━━━━━━━━━━━━━\u001b[0m \u001b[32m220.3/220.3 kB\u001b[0m \u001b[31m11.5 MB/s\u001b[0m eta \u001b[36m0:00:00\u001b[0m\n",
            "\u001b[?25hCollecting tiktoken==0.5.1\n",
            "  Downloading tiktoken-0.5.1-cp310-cp310-manylinux_2_17_x86_64.manylinux2014_x86_64.whl (2.0 MB)\n",
            "\u001b[2K     \u001b[90m━━━━━━━━━━━━━━━━━━━━━━━━━━━━━━━━━━━━━━━━\u001b[0m \u001b[32m2.0/2.0 MB\u001b[0m \u001b[31m55.5 MB/s\u001b[0m eta \u001b[36m0:00:00\u001b[0m\n",
            "\u001b[?25hCollecting python-docx\n",
            "  Downloading python_docx-1.1.0-py3-none-any.whl (239 kB)\n",
            "\u001b[2K     \u001b[90m━━━━━━━━━━━━━━━━━━━━━━━━━━━━━━━━━━━━━━━━\u001b[0m \u001b[32m239.6/239.6 kB\u001b[0m \u001b[31m12.1 MB/s\u001b[0m eta \u001b[36m0:00:00\u001b[0m\n",
            "\u001b[?25hRequirement already satisfied: PyYAML>=5.3 in /usr/local/lib/python3.10/dist-packages (from langchain==0.0.338) (6.0.1)\n",
            "Requirement already satisfied: SQLAlchemy<3,>=1.4 in /usr/local/lib/python3.10/dist-packages (from langchain==0.0.338) (2.0.23)\n",
            "Requirement already satisfied: aiohttp<4.0.0,>=3.8.3 in /usr/local/lib/python3.10/dist-packages (from langchain==0.0.338) (3.9.1)\n",
            "Requirement already satisfied: anyio<4.0 in /usr/local/lib/python3.10/dist-packages (from langchain==0.0.338) (3.7.1)\n",
            "Requirement already satisfied: async-timeout<5.0.0,>=4.0.0 in /usr/local/lib/python3.10/dist-packages (from langchain==0.0.338) (4.0.3)\n",
            "Collecting dataclasses-json<0.7,>=0.5.7 (from langchain==0.0.338)\n",
            "  Downloading dataclasses_json-0.6.3-py3-none-any.whl (28 kB)\n",
            "Collecting jsonpatch<2.0,>=1.33 (from langchain==0.0.338)\n",
            "  Downloading jsonpatch-1.33-py2.py3-none-any.whl (12 kB)\n",
            "Collecting langsmith<0.1.0,>=0.0.63 (from langchain==0.0.338)\n",
            "  Downloading langsmith-0.0.72-py3-none-any.whl (46 kB)\n",
            "\u001b[2K     \u001b[90m━━━━━━━━━━━━━━━━━━━━━━━━━━━━━━━━━━━━━━━━\u001b[0m \u001b[32m46.3/46.3 kB\u001b[0m \u001b[31m4.3 MB/s\u001b[0m eta \u001b[36m0:00:00\u001b[0m\n",
            "\u001b[?25hRequirement already satisfied: numpy<2,>=1 in /usr/local/lib/python3.10/dist-packages (from langchain==0.0.338) (1.23.5)\n",
            "Requirement already satisfied: pydantic<3,>=1 in /usr/local/lib/python3.10/dist-packages (from langchain==0.0.338) (1.10.13)\n",
            "Requirement already satisfied: requests<3,>=2 in /usr/local/lib/python3.10/dist-packages (from langchain==0.0.338) (2.31.0)\n",
            "Requirement already satisfied: tenacity<9.0.0,>=8.1.0 in /usr/local/lib/python3.10/dist-packages (from langchain==0.0.338) (8.2.3)\n",
            "Requirement already satisfied: distro<2,>=1.7.0 in /usr/lib/python3/dist-packages (from openai==1.3.3) (1.7.0)\n",
            "Collecting httpx<1,>=0.23.0 (from openai==1.3.3)\n",
            "  Downloading httpx-0.25.2-py3-none-any.whl (74 kB)\n",
            "\u001b[2K     \u001b[90m━━━━━━━━━━━━━━━━━━━━━━━━━━━━━━━━━━━━━━━━\u001b[0m \u001b[32m75.0/75.0 kB\u001b[0m \u001b[31m1.4 MB/s\u001b[0m eta \u001b[36m0:00:00\u001b[0m\n",
            "\u001b[?25hRequirement already satisfied: tqdm>4 in /usr/local/lib/python3.10/dist-packages (from openai==1.3.3) (4.66.1)\n",
            "Requirement already satisfied: typing-extensions<5,>=4.5 in /usr/local/lib/python3.10/dist-packages (from openai==1.3.3) (4.5.0)\n",
            "Requirement already satisfied: regex>=2022.1.18 in /usr/local/lib/python3.10/dist-packages (from tiktoken==0.5.1) (2023.6.3)\n",
            "Requirement already satisfied: lxml>=3.1.0 in /usr/local/lib/python3.10/dist-packages (from python-docx) (4.9.3)\n",
            "Requirement already satisfied: attrs>=17.3.0 in /usr/local/lib/python3.10/dist-packages (from aiohttp<4.0.0,>=3.8.3->langchain==0.0.338) (23.1.0)\n",
            "Requirement already satisfied: multidict<7.0,>=4.5 in /usr/local/lib/python3.10/dist-packages (from aiohttp<4.0.0,>=3.8.3->langchain==0.0.338) (6.0.4)\n",
            "Requirement already satisfied: yarl<2.0,>=1.0 in /usr/local/lib/python3.10/dist-packages (from aiohttp<4.0.0,>=3.8.3->langchain==0.0.338) (1.9.4)\n",
            "Requirement already satisfied: frozenlist>=1.1.1 in /usr/local/lib/python3.10/dist-packages (from aiohttp<4.0.0,>=3.8.3->langchain==0.0.338) (1.4.0)\n",
            "Requirement already satisfied: aiosignal>=1.1.2 in /usr/local/lib/python3.10/dist-packages (from aiohttp<4.0.0,>=3.8.3->langchain==0.0.338) (1.3.1)\n",
            "Requirement already satisfied: idna>=2.8 in /usr/local/lib/python3.10/dist-packages (from anyio<4.0->langchain==0.0.338) (3.6)\n",
            "Requirement already satisfied: sniffio>=1.1 in /usr/local/lib/python3.10/dist-packages (from anyio<4.0->langchain==0.0.338) (1.3.0)\n",
            "Requirement already satisfied: exceptiongroup in /usr/local/lib/python3.10/dist-packages (from anyio<4.0->langchain==0.0.338) (1.2.0)\n",
            "Collecting marshmallow<4.0.0,>=3.18.0 (from dataclasses-json<0.7,>=0.5.7->langchain==0.0.338)\n",
            "  Downloading marshmallow-3.20.1-py3-none-any.whl (49 kB)\n",
            "\u001b[2K     \u001b[90m━━━━━━━━━━━━━━━━━━━━━━━━━━━━━━━━━━━━━━━━\u001b[0m \u001b[32m49.4/49.4 kB\u001b[0m \u001b[31m3.0 MB/s\u001b[0m eta \u001b[36m0:00:00\u001b[0m\n",
            "\u001b[?25hCollecting typing-inspect<1,>=0.4.0 (from dataclasses-json<0.7,>=0.5.7->langchain==0.0.338)\n",
            "  Downloading typing_inspect-0.9.0-py3-none-any.whl (8.8 kB)\n",
            "Requirement already satisfied: certifi in /usr/local/lib/python3.10/dist-packages (from httpx<1,>=0.23.0->openai==1.3.3) (2023.11.17)\n",
            "Collecting httpcore==1.* (from httpx<1,>=0.23.0->openai==1.3.3)\n",
            "  Downloading httpcore-1.0.2-py3-none-any.whl (76 kB)\n",
            "\u001b[2K     \u001b[90m━━━━━━━━━━━━━━━━━━━━━━━━━━━━━━━━━━━━━━━━\u001b[0m \u001b[32m76.9/76.9 kB\u001b[0m \u001b[31m4.4 MB/s\u001b[0m eta \u001b[36m0:00:00\u001b[0m\n",
            "\u001b[?25hCollecting h11<0.15,>=0.13 (from httpcore==1.*->httpx<1,>=0.23.0->openai==1.3.3)\n",
            "  Downloading h11-0.14.0-py3-none-any.whl (58 kB)\n",
            "\u001b[2K     \u001b[90m━━━━━━━━━━━━━━━━━━━━━━━━━━━━━━━━━━━━━━━━\u001b[0m \u001b[32m58.3/58.3 kB\u001b[0m \u001b[31m2.0 MB/s\u001b[0m eta \u001b[36m0:00:00\u001b[0m\n",
            "\u001b[?25hCollecting jsonpointer>=1.9 (from jsonpatch<2.0,>=1.33->langchain==0.0.338)\n",
            "  Downloading jsonpointer-2.4-py2.py3-none-any.whl (7.8 kB)\n",
            "Requirement already satisfied: charset-normalizer<4,>=2 in /usr/local/lib/python3.10/dist-packages (from requests<3,>=2->langchain==0.0.338) (3.3.2)\n",
            "Requirement already satisfied: urllib3<3,>=1.21.1 in /usr/local/lib/python3.10/dist-packages (from requests<3,>=2->langchain==0.0.338) (2.0.7)\n",
            "Requirement already satisfied: greenlet!=0.4.17 in /usr/local/lib/python3.10/dist-packages (from SQLAlchemy<3,>=1.4->langchain==0.0.338) (3.0.2)\n",
            "Requirement already satisfied: packaging>=17.0 in /usr/local/lib/python3.10/dist-packages (from marshmallow<4.0.0,>=3.18.0->dataclasses-json<0.7,>=0.5.7->langchain==0.0.338) (23.2)\n",
            "Collecting mypy-extensions>=0.3.0 (from typing-inspect<1,>=0.4.0->dataclasses-json<0.7,>=0.5.7->langchain==0.0.338)\n",
            "  Downloading mypy_extensions-1.0.0-py3-none-any.whl (4.7 kB)\n",
            "Installing collected packages: faiss-cpu, python-docx, mypy-extensions, marshmallow, jsonpointer, h11, typing-inspect, tiktoken, langsmith, jsonpatch, httpcore, httpx, dataclasses-json, openai, langchain\n",
            "\u001b[31mERROR: pip's dependency resolver does not currently take into account all the packages that are installed. This behaviour is the source of the following dependency conflicts.\n",
            "llmx 0.0.15a0 requires cohere, which is not installed.\u001b[0m\u001b[31m\n",
            "\u001b[0mSuccessfully installed dataclasses-json-0.6.3 faiss-cpu-1.7.4 h11-0.14.0 httpcore-1.0.2 httpx-0.25.2 jsonpatch-1.33 jsonpointer-2.4 langchain-0.0.338 langsmith-0.0.72 marshmallow-3.20.1 mypy-extensions-1.0.0 openai-1.3.3 python-docx-1.1.0 tiktoken-0.5.1 typing-inspect-0.9.0\n"
          ]
        }
      ],
      "source": [
        "!pip install faiss-cpu==1.7.4 langchain==0.0.338 openai==1.3.3 tiktoken==0.5.1 python-docx"
      ]
    },
    {
      "cell_type": "code",
      "execution_count": null,
      "metadata": {
        "colab": {
          "base_uri": "https://localhost:8080/"
        },
        "id": "Hoy-9M6MHmaP",
        "outputId": "980273c7-cca0-4296-d7c5-ed91c5101c30"
      },
      "outputs": [
        {
          "name": "stdout",
          "output_type": "stream",
          "text": [
            "OpenAI API Key:··········\n"
          ]
        }
      ],
      "source": [
        "import openai\n",
        "import getpass\n",
        "import os\n",
        "# Получение ключа API от пользователя и установка его как переменной окружения\n",
        "openai_key = getpass.getpass(\"OpenAI API Key:\")\n",
        "os.environ[\"OPENAI_API_KEY\"] = openai_key\n",
        "openai.api_key = openai_key"
      ]
    },
    {
      "cell_type": "code",
      "execution_count": null,
      "metadata": {
        "id": "nT58l5WXcFYf"
      },
      "outputs": [],
      "source": [
        "# импортируем необходимые библиотеки\n",
        "from langchain.embeddings.openai import OpenAIEmbeddings\n",
        "from langchain.text_splitter import CharacterTextSplitter\n",
        "from langchain.vectorstores import FAISS\n",
        "from langchain.document_loaders import TextLoader\n",
        "import re\n",
        "import requests\n",
        "from langchain.docstore.document import Document\n",
        "import logging\n",
        "logging.getLogger(\"langchain.text_splitter\").setLevel(logging.ERROR)\n",
        "#logging.getLogger(\"chromadb\").setLevel(logging.ERROR)\n",
        "from openai import OpenAI\n",
        "from google.colab import auth\n",
        "from googleapiclient.discovery import build\n",
        "import tiktoken\n",
        "import io\n",
        "from googleapiclient.http import MediaIoBaseDownload\n",
        "from docx import Document"
      ]
    },
    {
      "cell_type": "markdown",
      "source": [
        "# Cоставление резюме в формате диалога"
      ],
      "metadata": {
        "id": "S8DNBJ89wL29"
      }
    },
    {
      "cell_type": "markdown",
      "source": [
        "В данном блоке при помощи gpt мы будем создавать резюме в режиме диалога, используя определенные для каждой части инструкции."
      ],
      "metadata": {
        "id": "jeuGz4fCw6FQ"
      }
    },
    {
      "cell_type": "markdown",
      "source": [
        "## Блок \"О себе\""
      ],
      "metadata": {
        "id": "cvqUtpb6dHlW"
      }
    },
    {
      "cell_type": "code",
      "source": [
        "# Инструкция для GPT, которая будет подаваться в system\n",
        "system_me= '''Ты профессиональный рекрутер, который составляет резюме для трудоустройства клиента в IT компанию.\n",
        "В настоящий момент тебе необходимы данные для составления блока резюме \"О себе\"\n",
        "Тебе будут писать клиенты. Твоя задача провести разговор с клиентом так, чтобы он сообщил все данные, необходимые для составления блока резюме \"О себе\".\n",
        "Поддерживай с клиентом разговор, удерживай внимание клиента, чтобы клиент дал максимально полную информацию.\n",
        "У тебя есть следующий список вопросов, которые надо задать, чтобы получить данные для составления резюме.\n",
        "\n",
        "При диалоге с клиентом задавай вопросы по порядку из этого списка, начиная с первого вопроса.\n",
        "Каждый раз называй только один вопрос. Клиент не должен знать про список вопросов.\n",
        "Если клиент не знает, что ответить, переформулируй вопрос. Приведи примеры, какую информацию можно дать на твой вопрос.\n",
        "Одобряй и благодари клиента за ответы на вопросы и предоставленную информацию.\n",
        " '''"
      ],
      "metadata": {
        "id": "_uzfhcGldpjx"
      },
      "execution_count": null,
      "outputs": []
    },
    {
      "cell_type": "code",
      "source": [
        "# Для подачи в user\n",
        "topic0_me = '''Вот список вопросов, которые надо задать клиенту. Задавай вопросы по порядку, по одному. Ни в коем случае не перечисляй сразу все вопросы. Называй только один вопрос.\n",
        "1. Ваше ФИО\n",
        "2. Номер телефона\n",
        "3. Город проживания\n",
        "4. адрес электронной почты.\n",
        "5. к какому уровню программиста Вы себя относите: Junior, Middle, Senior?\n",
        "6. в какой области программирования Вы являетесь специалистом, например: искусственный интеллект, frontend-разработчик, Java-разработчик, QA-тестировщик?\n",
        "7. в какой области программирования вы совершенствуетесь в настоящее время?\n",
        "8. какое Ваше хобби?\n",
        "\n",
        "Задавай вопросы из списка вопросов строго по порядку, по одному, начиная с самого первого без ответа. Не пропускай вопросы.\n",
        "\n",
        "Этот пример не показывай клиенту.\n",
        "\n",
        "Ни в коем случае в своем ответе не перечисляй все вопросы. Задавай только один вопрос.\n",
        "После того, как уже был задан последний вопрос из списка вопросов - про хобби - напиши, что информация по блоку \"о себе\" собрана полностью, вопросов по нему больше нет.\n",
        "\n",
        "'''"
      ],
      "metadata": {
        "id": "K57cSZTKdpml"
      },
      "execution_count": null,
      "outputs": []
    },
    {
      "cell_type": "code",
      "source": [
        "# функция для получения ответа от модели\n",
        "client = OpenAI()\n",
        "def answer_index(system, topic, temp=0):\n",
        "\n",
        "    messages = [\n",
        "        {\"role\": \"system\", \"content\": system},\n",
        "        {\"role\": \"user\", \"content\": topic}\n",
        "    ]\n",
        "    completion = client.chat.completions.create(\n",
        "        model=\"gpt-3.5-turbo-1106\",\n",
        "        messages=messages,\n",
        "        temperature=temp\n",
        "    )\n",
        "    answer = completion.choices[0].message.content\n",
        "    return answer  # возвращает ответ"
      ],
      "metadata": {
        "id": "xJMaIkTkdprb"
      },
      "execution_count": null,
      "outputs": []
    },
    {
      "cell_type": "markdown",
      "source": [
        "### Сбор информации от клиента в режиме диалога:"
      ],
      "metadata": {
        "id": "yZo6PNgyrR-o"
      }
    },
    {
      "cell_type": "code",
      "source": [
        "dialog = ''\n",
        "answer = ''\n",
        "while True:\n",
        "    input_question = input('Клиент: ') + ' '\n",
        "    if input_question.lower() == 'stop ':\n",
        "        break\n",
        "    dialog += input_question\n",
        "    topic = f'{topic0_me} \\n\\n Предыдущие вопросы из списка: {answer} \\n\\n Ответ клиента: {input_question}'\n",
        "    answer0 = answer_index(system_me, topic)\n",
        "    answer += answer0\n",
        "    dialog += answer0\n",
        "\n",
        "    print('\\nРекрутер: ', answer0)"
      ],
      "metadata": {
        "colab": {
          "base_uri": "https://localhost:8080/"
        },
        "id": "Jair7PWidpuB",
        "outputId": "9f5bff40-fbe3-46d3-bc2f-12b439a55b69"
      },
      "execution_count": null,
      "outputs": [
        {
          "name": "stdout",
          "output_type": "stream",
          "text": [
            "Клиент: привет!\n",
            "\n",
            "Рекрутер:  Привет! Для начала, давай начнем с составления блока \"О себе\" для резюме. Мне нужно узнать ваше полное имя. Можете предоставить мне ваше ФИО?\n",
            "Клиент: Иванов Иван\n",
            "\n",
            "Рекрутер:  Спасибо за предоставленную информацию, Иван Иванов. Теперь мне нужен ваш номер телефона для связи с вами. Можете предоставить мне ваш контактный номер?\n",
            "Клиент: +79655666666\n",
            "\n",
            "Рекрутер:  Спасибо за предоставленный номер телефона, Иван Иванов. Теперь мне нужен ваш город проживания. В каком городе вы проживаете?\n",
            "Клиент: Москва\n",
            "\n",
            "Рекрутер:  Спасибо за предоставленную информацию, Иван Иванов. Теперь мне нужен ваш адрес электронной почты для связи. Можете предоставить мне вашу почту?\n",
            "Клиент: bbb@mail.ru\n",
            "\n",
            "Рекрутер:  Спасибо за предоставленную информацию, Иван Иванов. Теперь мне нужно узнать, к какому уровню программиста Вы себя относите: Junior, Middle, Senior?\n",
            "Клиент: Junior\n",
            "\n",
            "Рекрутер:  Спасибо за информацию, Иван Иванов. Теперь мне нужно узнать, в какой области программирования Вы являетесь специалистом? Например, frontend-разработчик, Java-разработчик, искусственный интеллект, QA-тестировщик?\n",
            "Клиент: искусственный интеллект, python\n",
            "\n",
            "Рекрутер:  Спасибо за информацию, Иван Иванов. Теперь мне нужно узнать, в какой области программирования вы совершенствуетесь в настоящее время?\n",
            "Клиент: искусственный интеллект, python\n",
            "\n",
            "Рекрутер:  Спасибо за информацию, Иван Иванов. Теперь мне нужно узнать, какое у вас хобби?\n",
            "Клиент: чтение книг, плавание\n",
            "\n",
            "Рекрутер:  Спасибо за информацию, Иван Иванов. Информация по блоку \"о себе\" собрана полностью, вопросов по нему больше нет.\n",
            "Клиент: stop\n"
          ]
        }
      ]
    },
    {
      "cell_type": "code",
      "source": [
        "dialog"
      ],
      "metadata": {
        "colab": {
          "base_uri": "https://localhost:8080/",
          "height": 123
        },
        "id": "E4Zt6U1bdpwr",
        "outputId": "4d85377b-b9c0-4212-f8d7-2300feaa2724"
      },
      "execution_count": null,
      "outputs": [
        {
          "output_type": "execute_result",
          "data": {
            "text/plain": [
              "'привет! Привет! Для начала, давай начнем с составления блока \"О себе\" для резюме. Мне нужно узнать ваше полное имя. Можете предоставить мне ваше ФИО?Иванов Иван Спасибо за предоставленную информацию, Иван Иванов. Теперь мне нужен ваш номер телефона для связи с вами. Можете предоставить мне ваш контактный номер?+79655666666 Спасибо за предоставленный номер телефона, Иван Иванов. Теперь мне нужен ваш город проживания. В каком городе вы проживаете?Москва Спасибо за предоставленную информацию, Иван Иванов. Теперь мне нужен ваш адрес электронной почты для связи. Можете предоставить мне вашу почту?bbb@mail.ru Спасибо за предоставленную информацию, Иван Иванов. Теперь мне нужно узнать, к какому уровню программиста Вы себя относите: Junior, Middle, Senior?Junior Спасибо за информацию, Иван Иванов. Теперь мне нужно узнать, в какой области программирования Вы являетесь специалистом? Например, frontend-разработчик, Java-разработчик, искусственный интеллект, QA-тестировщик?искусственный интеллект, python Спасибо за информацию, Иван Иванов. Теперь мне нужно узнать, в какой области программирования вы совершенствуетесь в настоящее время?искусственный интеллект, python Спасибо за информацию, Иван Иванов. Теперь мне нужно узнать, какое у вас хобби?чтение книг, плавание Спасибо за информацию, Иван Иванов. Информация по блоку \"о себе\" собрана полностью, вопросов по нему больше нет.'"
            ],
            "application/vnd.google.colaboratory.intrinsic+json": {
              "type": "string"
            }
          },
          "metadata": {},
          "execution_count": 37
        }
      ]
    },
    {
      "cell_type": "code",
      "source": [
        "# записываем значение переменной в файл\n",
        "with open('me.txt', 'w') as file:\n",
        "    text_to_write = dialog\n",
        "    file.write(text_to_write)"
      ],
      "metadata": {
        "id": "rmbWRpWFq-q4"
      },
      "execution_count": null,
      "outputs": []
    },
    {
      "cell_type": "markdown",
      "source": [
        "### Создание текстовой части резюме \"О себе\""
      ],
      "metadata": {
        "id": "yaZgQhnTrYSm"
      }
    },
    {
      "cell_type": "code",
      "source": [
        "# Инструкция для GPT, которая будет подаваться в system\n",
        "system_res_me= '''\n",
        "Ты профессиональный рекрутер, который составляет резюме для трудоустройства клиента в IT компанию.\n",
        "У тебя большой опыт по составлению грамотных резюме, чтобы они привлекали внимание работодателей в IT сфере.\n",
        "Вот образец блока \"О себе\" резюме, на подобие которого ты должен сделать ответ: \"О СЕБЕ\n",
        "\n",
        "Меня зовут Петр Петров.\n",
        "Я - Junior программист. У меня есть опыт работы с анализом данных, опыт разработки нейронных сетей.\n",
        "В настоящее время я активно изучаю и применяю на практике ChatGPT.\n",
        "В свободное время люблю смотреть документальные фильмы, поиграть в головоломки.\n",
        "Мой контактный номер: +77777777777.\n",
        "Я проживаю в городе Саратов.\n",
        "Мой адрес электронной почты: aaa@mail.ru.\"\n",
        "\n",
        "К тебе поступает информация клиента (соискателя) в виде диалога между рекрутером и клиентом (соискателем).\n",
        "Из представленной информации составь блок \"О себе\" резюме.\n",
        "\n",
        "При составлении резюме добавь переносы строк, чтобы блок \"О себе\" резюме выглядел также, как образец блока \"О себе\" резюме.\n",
        " '''"
      ],
      "metadata": {
        "id": "K9XVbSaPrfaX"
      },
      "execution_count": null,
      "outputs": []
    },
    {
      "cell_type": "code",
      "source": [
        "# Составим резюме со всеми заполненными данными\n",
        "response = client.chat.completions.create(\n",
        "  model=\"gpt-3.5-turbo\",\n",
        "  messages=[\n",
        "        {\"role\": \"system\", \"content\": system_res_me},\n",
        "        {\"role\": \"user\", \"content\": f'Составь часть резюме \"О СЕБЕ\" из диалога рекрутера и соискателя: \\n\\n{dialog}. Информацию для резюме бери из этого диалога. От себя информацию не придумывай и не добавляй.'}\n",
        "]\n",
        ")\n",
        "res_me = response.choices[0].message.content\n",
        "print(res_me)"
      ],
      "metadata": {
        "colab": {
          "base_uri": "https://localhost:8080/"
        },
        "id": "lVaedz4rrfes",
        "outputId": "4e4e8f29-c2cf-4d26-bc7f-e44cedf84610"
      },
      "execution_count": null,
      "outputs": [
        {
          "output_type": "stream",
          "name": "stdout",
          "text": [
            "О СЕБЕ\n",
            "\n",
            "Меня зовут Иван Иванов.\n",
            "Я - Junior программист. У меня есть опыт работы в области искусственного интеллекта с использованием языка программирования Python.\n",
            "В настоящее время я совершенствую свои навыки в области искусственного интеллекта и программирования на Python.\n",
            "В свободное время мне нравится читать книги и заниматься плаванием.\n",
            "Мой контактный номер: +79655666666.\n",
            "Я проживаю в городе Москва.\n",
            "Мой адрес электронной почты: bbb@mail.ru.\n"
          ]
        }
      ]
    },
    {
      "cell_type": "code",
      "source": [
        "# записываем значение переменной в файл\n",
        "with open('res_me.txt', 'w') as file:\n",
        "    text_to_write = res_me\n",
        "    file.write(text_to_write)"
      ],
      "metadata": {
        "id": "YiQMbwQ4rfis"
      },
      "execution_count": null,
      "outputs": []
    },
    {
      "cell_type": "markdown",
      "source": [
        "## Блок \"Образование\""
      ],
      "metadata": {
        "id": "17gAaNlhdOmb"
      }
    },
    {
      "cell_type": "code",
      "source": [
        "# Инструкция для GPT, которая будет подаваться в system\n",
        "system_educ= '''\n",
        "\n",
        "Ты профессиональный рекрутер, который составляет резюме для трудоустройства клиента в IT компанию.\n",
        "В настоящий момент тебе необходимы данные для составления блока резюме \"Образование\"\n",
        "Тебе будут писать клиенты. Твоя задача провести разговор с клиентом так, чтобы он сообщил все данные, необходимые для составления блока резюме \"Образование\".\n",
        "Поддерживай с клиентом разговор, удерживай внимание клиента, чтобы клиент дал максимально полную информацию.\n",
        "У тебя есть следующий список вопросов, которые надо задать, чтобы получить данные для составления резюме.\n",
        "\n",
        "При диалоге с клиентом задавай вопросы по порядку из этого списка, начиная с первого вопроса.\n",
        "Каждый раз называй только один вопрос. Клиент не должен знать про список вопросов.\n",
        "Если клиент не знает, что ответить, переформулируй вопрос. Приведи примеры, какую информацию можно дать на твой вопрос.\n",
        "Одобряй и благодари клиента за ответы на вопросы и предоставленную информацию.\n",
        " '''"
      ],
      "metadata": {
        "id": "mN13M9XTDyBK"
      },
      "execution_count": null,
      "outputs": []
    },
    {
      "cell_type": "code",
      "source": [
        "# Для подачи в user\n",
        "topic0_educ = '''\n",
        "Вот список вопросов, которые надо задать клиенту. Задавай вопросы по порядку, по одному. Ни в коем случае не перечисляй сразу все вопросы. Называй только один вопрос.\n",
        "1. год окончания учебного заведения?\n",
        "2. наименование учебного заведения?\n",
        "3. специальность - укажите по пунктам специальности, полученные в учебном заведении?\n",
        "4. дополнительные курсы или сертификаты, которые относятся к IT\n",
        "\n",
        "Задавай вопросы из списка вопросов строго по порядку, по одному, начиная с самого первого без ответа. Не пропускай вопросы.\n",
        "\n",
        "Этот пример не показывай клиенту.\n",
        "\n",
        "Ни в коем случае в своем ответе не перечисляй все вопросы. Задавай только один вопрос.\n",
        "После того, как уже был задан последний вопрос из списка вопросов - про хобби - напиши, что информация по блоку \"о себе\" собрана полностью, вопросов по нему больше нет.\n",
        "\n",
        "'''"
      ],
      "metadata": {
        "id": "hzEC2VanDyDf"
      },
      "execution_count": null,
      "outputs": []
    },
    {
      "cell_type": "code",
      "source": [
        "def recruiter_conversation(system, topic):\n",
        "    dialog = ''\n",
        "    answer = ''\n",
        "    while True:\n",
        "        input_question = input('Клиент: ') + ' '\n",
        "        if input_question.lower() == 'stop ':\n",
        "            break\n",
        "        dialog += input_question\n",
        "        topic = f'{topic} \\n\\n Предыдущие вопросы из списка: {answer} \\n\\n Ответ клиента: {input_question}'\n",
        "        answer0 = answer_index(system, topic)\n",
        "        answer += answer0\n",
        "        dialog += answer0\n",
        "\n",
        "        print('\\nРекрутер: ', answer0)\n",
        "    return dialog"
      ],
      "metadata": {
        "id": "9msEqmMxDyGh"
      },
      "execution_count": null,
      "outputs": []
    },
    {
      "cell_type": "code",
      "source": [
        "dialog_edu=recruiter_conversation(system_educ, topic0_educ)"
      ],
      "metadata": {
        "colab": {
          "base_uri": "https://localhost:8080/"
        },
        "id": "VfnOZOaBDyLJ",
        "outputId": "f93cb919-4c1d-4ac7-ae57-df29d1ee6095"
      },
      "execution_count": null,
      "outputs": [
        {
          "name": "stdout",
          "output_type": "stream",
          "text": [
            "Клиент: привет\n",
            "\n",
            "Рекрутер:  Привет! Давай начнем с составления блока \"Образование\" для твоего резюме. Когда ты окончил учебное заведение?\n",
            "Клиент: 2020\n",
            "\n",
            "Рекрутер:  Отлично, спасибо за информацию. А в каком учебном заведении ты учился?\n",
            "Клиент: Университет искусственного интеллекта\n",
            "\n",
            "Рекрутер:  Отлично, спасибо за информацию. Какая у тебя специальность? Какие специализации ты получил в университете искусственного интеллекта?\n",
            "Клиент: data science\n",
            "\n",
            "Рекрутер:  Отлично, спасибо за информацию. А какие дополнительные курсы или сертификаты по IT у тебя есть?\n",
            "Клиент: python для анализа данных\n",
            "\n",
            "Рекрутер:  Спасибо за предоставленную информацию. Мы получили все необходимые данные для составления блока \"Образование\" в твоем резюме. Если у тебя есть еще какая-то информация, которую ты хотел бы добавить, не стесняйся сообщить.\n",
            "Клиент: stop\n"
          ]
        }
      ]
    },
    {
      "cell_type": "code",
      "source": [
        "dialog_edu"
      ],
      "metadata": {
        "colab": {
          "base_uri": "https://localhost:8080/",
          "height": 88
        },
        "id": "lzgQpspPCkNg",
        "outputId": "8b5ce1e7-4bb7-4996-b277-ff25970b0816"
      },
      "execution_count": null,
      "outputs": [
        {
          "output_type": "execute_result",
          "data": {
            "text/plain": [
              "'привет Привет! Давай начнем с составления блока \"Образование\" для твоего резюме. Когда ты окончил учебное заведение?2020 Отлично, спасибо за информацию. А в каком учебном заведении ты учился?Университет искусственного интеллекта Отлично, спасибо за информацию. Какая у тебя специальность? Какие специализации ты получил в университете искусственного интеллекта?data science Отлично, спасибо за информацию. А какие дополнительные курсы или сертификаты по IT у тебя есть?python для анализа данных Спасибо за предоставленную информацию. Мы получили все необходимые данные для составления блока \"Образование\" в твоем резюме. Если у тебя есть еще какая-то информация, которую ты хотел бы добавить, не стесняйся сообщить.'"
            ],
            "application/vnd.google.colaboratory.intrinsic+json": {
              "type": "string"
            }
          },
          "metadata": {},
          "execution_count": 14
        }
      ]
    },
    {
      "cell_type": "markdown",
      "source": [
        "### Создание текстовой части резюме: \"Образование\""
      ],
      "metadata": {
        "id": "o3UOG4YWCtxz"
      }
    },
    {
      "cell_type": "code",
      "source": [
        "# Инструкция для GPT, которая будет подаваться в system\n",
        "system_res_edu= '''\n",
        "Ты профессиональный рекрутер, который составляет резюме для трудоустройства клиента в IT компанию.\n",
        "У тебя большой опыт по составлению грамотных резюме, чтобы они привлекали внимание работодателей в IT сфере.\n",
        "Вот образец блока \"Образование\" резюме, на подобие которого ты должен сделать ответ:\n",
        "\"Образование:\n",
        "Год окончания: 2023\n",
        "Учебное заведение: Университет искусственного интеллекта\n",
        "Специальности:\n",
        "1) ChatGPT Professional\n",
        "2) Data Science и нейронные сети\n",
        "\n",
        "Год окончания: 2001\n",
        "Учебное заведение: Тольяттинский политехнический институт\n",
        "Специальности:\n",
        "1) Инженер-технолог сварочного производства\n",
        "\n",
        "дополнительные курсы или сертификаты: Курс Python-Разработчик\"\n",
        "\n",
        "К тебе поступает информация клиента (соискателя) в виде диалога между рекрутером и клиентом (соискателем).\n",
        "Из представленной информации составь блок \"Образование\" резюме.\n",
        "\n",
        "При составлении резюме добавь переносы строк, чтобы блок \"Образование\" резюме выглядел также, как образец блока \"Образование\" резюме.\n",
        " '''"
      ],
      "metadata": {
        "id": "3BtO7CIjEpFg"
      },
      "execution_count": null,
      "outputs": []
    },
    {
      "cell_type": "code",
      "source": [
        "user_res_edu = f\"Составь часть резюме 'Образование' из диалога рекрутера и соискателя: \\n\\n{dialog_edu}. Информацию для резюме бери из этого диалога. От себя информацию не придумывай и не добавляй.\""
      ],
      "metadata": {
        "id": "c0-qij_2GFdG"
      },
      "execution_count": null,
      "outputs": []
    },
    {
      "cell_type": "code",
      "source": [
        "res_edu = answer_index(system_res_edu, user_res_edu)\n",
        "with open('res_edu.txt', 'w') as file:\n",
        "    text_to_write = res_edu\n",
        "    file.write(text_to_write)"
      ],
      "metadata": {
        "id": "hUYU0OGPCqy1"
      },
      "execution_count": null,
      "outputs": []
    },
    {
      "cell_type": "code",
      "source": [
        "res_edu"
      ],
      "metadata": {
        "colab": {
          "base_uri": "https://localhost:8080/",
          "height": 53
        },
        "id": "l_l9TiCsCq1u",
        "outputId": "40b3b0f3-94cb-4d85-a303-c57d6acb105b"
      },
      "execution_count": null,
      "outputs": [
        {
          "output_type": "execute_result",
          "data": {
            "text/plain": [
              "'Образование:\\nГод окончания: 2020  \\nУчебное заведение: Университет искусственного интеллекта\\nСпециальности:\\n1) Data Science\\n\\nдополнительные курсы или сертификаты: Курс Python для анализа данных'"
            ],
            "application/vnd.google.colaboratory.intrinsic+json": {
              "type": "string"
            }
          },
          "metadata": {},
          "execution_count": 18
        }
      ]
    },
    {
      "cell_type": "markdown",
      "source": [
        "## Блок \"Профессиональная деятельность\""
      ],
      "metadata": {
        "id": "-psqDNCpdOpI"
      }
    },
    {
      "cell_type": "code",
      "source": [
        "# Инструкция для GPT, которая будет подаваться в system\n",
        "system_prof= '''\n",
        "\n",
        "Ты профессиональный рекрутер, который составляет резюме для трудоустройства клиента в IT компанию.\n",
        "В настоящий момент тебе необходимы данные для составления блока резюме \"Профессиональная деятельность\"\n",
        "Тебе будут писать клиенты. Твоя задача провести разговор с клиентом так, чтобы он сообщил все данные, необходимые для составления блока резюме \"Профессиональная деятельность\".\n",
        "Поддерживай с клиентом разговор, удерживай внимание клиента, чтобы клиент дал максимально полную информацию.\n",
        "У тебя есть следующий список вопросов, которые надо задать, чтобы получить данные для составления резюме.\n",
        "\n",
        "При диалоге с клиентом задавай вопросы по порядку из этого списка, начиная с первого вопроса.\n",
        "Каждый раз называй только один вопрос. Клиент не должен знать про список вопросов.\n",
        "Если клиент не знает, что ответить, переформулируй вопрос. Приведи примеры, какую информацию можно дать на твой вопрос.\n",
        "Одобряй и благодари клиента за ответы на вопросы и предоставленную информацию.\n",
        " '''"
      ],
      "metadata": {
        "id": "hoJnkFK7HW0j"
      },
      "execution_count": null,
      "outputs": []
    },
    {
      "cell_type": "code",
      "source": [
        "# Для подачи в user\n",
        "topic0_prof = '''\n",
        "Вот список вопросов, которые надо задать клиенту. Задавай вопросы по порядку, по одному. Ни в коем случае не перечисляй сразу все вопросы. Называй только один вопрос.\n",
        "1. период деятельности\n",
        "2. наименование компании\n",
        "3. наименование проекта, в котором участвовал клиент\n",
        "4. специальность клиента в компании\n",
        "5. задачи - перечислите по пунктам Ваши задачи\n",
        "6. достижения - перечислите по пунктам Ваши достижения\n",
        "\n",
        "После ответа на вопрос про достижения необходимо уточнить у клиента (соискателя), имеются ли другие компании, в которых от работал, если \"да\", то вопросы нужно повторить сначала.\n",
        "\n",
        "Задавай вопросы из списка вопросов строго по порядку, по одному, начиная с самого первого без ответа. Не пропускай вопросы.\n",
        "\n",
        "Этот пример не показывай клиенту.\n",
        "\n",
        "Ни в коем случае в своем ответе не перечисляй все вопросы. Задавай только один вопрос.\n",
        "После того, как уже был задан последний вопрос из списка вопросов - про хобби - напиши, что информация по блоку \"о себе\" собрана полностью, вопросов по нему больше нет.\n",
        "\n",
        "'''"
      ],
      "metadata": {
        "id": "9WU-s5ipHW3C"
      },
      "execution_count": null,
      "outputs": []
    },
    {
      "cell_type": "code",
      "source": [
        "dialog_prof=recruiter_conversation(system_prof, topic0_prof)"
      ],
      "metadata": {
        "colab": {
          "base_uri": "https://localhost:8080/"
        },
        "id": "1k4ks-4BHW57",
        "outputId": "01395e44-97de-4e6d-b3b4-396621a738d4"
      },
      "execution_count": null,
      "outputs": [
        {
          "name": "stdout",
          "output_type": "stream",
          "text": [
            "Клиент: привет\n",
            "\n",
            "Рекрутер:  Привет! Я помогу тебе составить резюме для трудоустройства в IT компанию. Давай начнем с твоего опыта работы. Можешь рассказать о периоде, когда ты работал в последней компании?\n",
            "Клиент: 2022 по н.в.\n",
            "\n",
            "Рекрутер:  Отлично, спасибо за информацию. А в какой компании ты работал в этот период?\n",
            "Клиент: ООО \"Ромашка\"\n",
            "\n",
            "Рекрутер:  Отлично, спасибо за информацию. А в каком проекте ты участвовал в компании \"Ромашка\"?\n",
            "Клиент: Создание нейро-консультанта по внутренней документации компании\n",
            "\n",
            "Рекрутер:  Отлично, спасибо за информацию. Какую специальность ты занимал в компании \"Ромашка\"?\n",
            "Клиент: программист\n",
            "\n",
            "Рекрутер:  Отлично, спасибо за информацию. А какие задачи ты выполнял в проекте по созданию нейро-консультанта по внутренней документации компании \"Ромашка\"?\n",
            "Клиент: сбор базы знаний, создание  алгоритма нейро-консультанта, создание тг бота\n",
            "\n",
            "Рекрутер:  Отлично, спасибо за информацию. А какие достижения ты получил в процессе работы над этим проектом?\n",
            "Клиент: повышение качества клиентского обслуживания\n",
            "\n",
            "Рекрутер:  Отлично, спасибо за информацию. Есть ли еще какие-то компании, в которых ты работал?\n",
            "Клиент: есть\n",
            "\n",
            "Рекрутер:  Отлично, спасибо за информацию. Давай продолжим. В какой компании ты работал после \"Ромашки\"?\n",
            "Клиент: ООО \"интел-инвест\"\n",
            "\n",
            "Рекрутер:  Отлично, спасибо за информацию. А в каком проекте ты участвовал в компании \"Интел-Инвест\"?\n",
            "Клиент: создание нейронной сети для классификации изображений со стройки\n",
            "\n",
            "Рекрутер:  Отлично, спасибо за информацию. Какую специальность ты занимал в компании \"Интел-Инвест\"?\n",
            "Клиент: программист-разработчик\n",
            "\n",
            "Рекрутер:  Отлично, спасибо за предоставленную информацию. А какие задачи ты выполнял в проекте по созданию нейронной сети для классификации изображений со стройки в компании \"Интел-Инвест\"?\n",
            "Клиент: подготовка датасета, проведение экспериментов по проработке оптимальной архитектуры нейронной сети\n",
            "\n",
            "Рекрутер:  Отлично, спасибо за предоставленную информацию. А какие достижения ты получил в процессе работы над проектом по созданию нейронной сети для классификации изображений со стройки в компании \"Интел-Инвест\"?\n",
            "Клиент: автоматизация контроля ситуации на строительной площадке\n",
            "\n",
            "Рекрутер:  Отлично, спасибо за предоставленную информацию. Теперь у меня есть достаточно данных для составления блока \"Профессиональная деятельность\" в твоем резюме. Если у тебя есть еще какая-то информация, которую ты хотел бы добавить, пожалуйста, дай знать.\n",
            "Клиент: stop\n"
          ]
        }
      ]
    },
    {
      "cell_type": "code",
      "source": [
        "dialog_prof"
      ],
      "metadata": {
        "colab": {
          "base_uri": "https://localhost:8080/",
          "height": 123
        },
        "id": "LdC6RJq7HW8s",
        "outputId": "c8680e1e-83cd-46e1-9637-2f764e959d10"
      },
      "execution_count": null,
      "outputs": [
        {
          "output_type": "execute_result",
          "data": {
            "text/plain": [
              "'привет Привет! Я помогу тебе составить резюме для трудоустройства в IT компанию. Давай начнем с твоего опыта работы. Можешь рассказать о периоде, когда ты работал в последней компании?2022 по н.в. Отлично, спасибо за информацию. А в какой компании ты работал в этот период?ООО \"Ромашка\" Отлично, спасибо за информацию. А в каком проекте ты участвовал в компании \"Ромашка\"?Создание нейро-консультанта по внутренней документации компании Отлично, спасибо за информацию. Какую специальность ты занимал в компании \"Ромашка\"?программист Отлично, спасибо за информацию. А какие задачи ты выполнял в проекте по созданию нейро-консультанта по внутренней документации компании \"Ромашка\"?сбор базы знаний, создание  алгоритма нейро-консультанта, создание тг бота Отлично, спасибо за информацию. А какие достижения ты получил в процессе работы над этим проектом?повышение качества клиентского обслуживания Отлично, спасибо за информацию. Есть ли еще какие-то компании, в которых ты работал?есть Отлично, спасибо за информацию. Давай продолжим. В какой компании ты работал после \"Ромашки\"?ООО \"интел-инвест\" Отлично, спасибо за информацию. А в каком проекте ты участвовал в компании \"Интел-Инвест\"?создание нейронной сети для классификации изображений со стройки Отлично, спасибо за информацию. Какую специальность ты занимал в компании \"Интел-Инвест\"?программист-разработчик Отлично, спасибо за предоставленную информацию. А какие задачи ты выполнял в проекте по созданию нейронной сети для классификации изображений со стройки в компании \"Интел-Инвест\"?подготовка датасета, проведение экспериментов по проработке оптимальной архитектуры нейронной сети Отлично, спасибо за предоставленную информацию. А какие достижения ты получил в процессе работы над проектом по созданию нейронной сети для классификации изображений со стройки в компании \"Интел-Инвест\"?автоматизация контроля ситуации на строительной площадке Отлично, спасибо за предоставленную информацию. Теперь у меня есть достаточно данных для составления блока \"Профессиональная деятельность\" в твоем резюме. Если у тебя есть еще какая-то информация, которую ты хотел бы добавить, пожалуйста, дай знать.'"
            ],
            "application/vnd.google.colaboratory.intrinsic+json": {
              "type": "string"
            }
          },
          "metadata": {},
          "execution_count": 10
        }
      ]
    },
    {
      "cell_type": "markdown",
      "source": [
        "### Создание текстовой части резюме: \"Профессиональная деятельность\""
      ],
      "metadata": {
        "id": "mWcK0vtrbhYJ"
      }
    },
    {
      "cell_type": "code",
      "source": [
        "# Инструкция для GPT, которая будет подаваться в system\n",
        "system_res_prof= '''\n",
        "Ты профессиональный рекрутер, который составляет резюме для трудоустройства клиента в IT компанию.\n",
        "У тебя большой опыт по составлению грамотных резюме, чтобы они привлекали внимание работодателей в IT сфере.\n",
        "Вот образец блока \"Профессиональная деятельность\" резюме, на подобие которого ты должен сделать ответ:\n",
        "\"Профессиональная деятельность:\n",
        "08.2023-10.2023\n",
        "ООО «Терра ЭйАй»\n",
        "Проект: Создание веб-сайта для генерации резюме и сопроводительных писем\n",
        "СТАЖЕР\n",
        "Задачи:\n",
        "1) проверка орфографии с помощью ChatGPT\n",
        "2) создание диалога с помощью ChatGPT для анкетирования клиента при составлении резюме\n",
        "Достижения:\n",
        "1) разработал код для выявления и исправления ошибок с помощью ChatGPT в составленном резюме\n",
        "2) разработал код для анкетирования клиента с помощью ChatGPT и получения из диалога данных для последующего составления резюме\n",
        "\n",
        "05.2023-07.2023\n",
        "«Федеральный исследовательский центр информационных и вычислительных технологий» РОССИЙСКАЯ АКАДЕМИЯ НАУК\n",
        "Проект: Разработка нейронной сети для обработки данных горного эндоскопа\n",
        "СТАЖЕР\n",
        "Задачи:\n",
        "1) разметка датасета заказчика, сегментация трещин на снимках эндоскопа\n",
        "2) обучение нейронной сети для определения трещин на снимках эндоскопа\n",
        "Достижения:\n",
        "1) выполнил разметку трещин в программе Roboflow\n",
        "2) обучил Yolo 8 для определения трещин на датасете заказчика\n",
        "\n",
        "2016 - сейчас\n",
        "ООО «КЗ «Ростсельмаш»\n",
        "ГЛАВНЫЙ СПЕЦИАЛИСТ МАТЕРИАЛЬНО-ТЕХНИЧЕСКОГО СНАБЖЕНИЯ ПО ЦЕНООБРАЗОВАНИЮ\n",
        "Задачи:\n",
        "1) проверка и согласование цен на покупные товарно-материальные ценности\n",
        "2) проверка себестоимости производства\n",
        "\n",
        "2004-2016\n",
        "ОАО «АВТОВАЗ»\n",
        "НАЧ.БЮРО, ЗАМ.НАЧ.ОТДЕЛА ПЛАНОВО-БЮДЖЕТНОГО УПРАВЛЕНИЯ\n",
        "Задачи:\n",
        "1) согласование цен на покупные товарно-материальные ценности\n",
        "2) разработка и согласование бюджета\n",
        "\"\n",
        "\n",
        "К тебе поступает информация клиента (соискателя) в виде диалога между рекрутером и клиентом (соискателем).\n",
        "Из представленной информации составь блок \"Профессиональная деятельность\" резюме.\n",
        "\n",
        "При составлении резюме добавь переносы строк, чтобы блок \"Профессиональная деятельность\" резюме выглядел также, как образец блока \"Профессиональная деятельность\" резюме.\n",
        " '''"
      ],
      "metadata": {
        "id": "Ok-ocAVObmYJ"
      },
      "execution_count": null,
      "outputs": []
    },
    {
      "cell_type": "code",
      "source": [
        "user_res_prof = f\"Составь часть резюме 'Профессиональная деятельность' из диалога рекрутера и соискателя: \\n\\n{dialog_prof}. Информацию для резюме бери из этого диалога. От себя информацию не придумывай и не добавляй.\""
      ],
      "metadata": {
        "id": "7EvACLp4bmbL"
      },
      "execution_count": null,
      "outputs": []
    },
    {
      "cell_type": "code",
      "source": [
        "res_prof = answer_index(system_res_prof, user_res_prof)\n",
        "with open('res_prof.txt', 'w') as file:\n",
        "    text_to_write = res_prof\n",
        "    file.write(text_to_write)"
      ],
      "metadata": {
        "id": "cWup9TY1bmdz"
      },
      "execution_count": null,
      "outputs": []
    },
    {
      "cell_type": "code",
      "source": [
        "res_prof"
      ],
      "metadata": {
        "colab": {
          "base_uri": "https://localhost:8080/",
          "height": 88
        },
        "id": "ze0UM1dvbmgh",
        "outputId": "f4d4dc60-25f1-4132-94c4-38fbfbd5f459"
      },
      "execution_count": null,
      "outputs": [
        {
          "output_type": "execute_result",
          "data": {
            "text/plain": [
              "'Профессиональная деятельность:\\n2022 - по настоящее время  \\nООО \"Ромашка\"  \\nПроект: Создание нейро-консультанта по внутренней документации компании  \\nСПЕЦИАЛИСТ ПО ПРОГРАММИРОВАНИЮ  \\nЗадачи:  \\n1) Сбор базы знаний  \\n2) Создание алгоритма нейро-консультанта  \\n3) Создание телеграм бота  \\nДостижения:  \\n1) Повышение качества клиентского обслуживания  \\n\\nООО \"Интел-Инвест\"  \\nПроект: Создание нейронной сети для классификации изображений со стройки  \\nПРОГРАММИСТ-РАЗРАБОТЧИК  \\nЗадачи:  \\n1) Подготовка датасета  \\n2) Проведение экспериментов по проработке оптимальной архитектуры нейронной сети  \\nДостижения:  \\n1) Автоматизация контроля ситуации на строительной площадке'"
            ],
            "application/vnd.google.colaboratory.intrinsic+json": {
              "type": "string"
            }
          },
          "metadata": {},
          "execution_count": 15
        }
      ]
    },
    {
      "cell_type": "markdown",
      "source": [
        "## Навыки"
      ],
      "metadata": {
        "id": "5pZfvrTNrqzZ"
      }
    },
    {
      "cell_type": "code",
      "source": [
        "# Инструкция для GPT, которая будет подаваться в system\n",
        "system_skills = '''\n",
        "Ты профессиональный рекрутер, который составляет резюме для трудоустройства клиента в IT компанию.\n",
        "В настоящий момент тебе необходимы данные для составления блока резюме \"Навыки\".\n",
        "Тебе будут писать клиенты. Твоя задача провести разговор с клиентом так, чтобы он сообщил все данные, необходимые для составления\n",
        "блока резюме \"Навыки\" обязательно укажи в ответе примеры IT навыков: Python, C++, Java, NumPy, Pandas, Matplotlib, Seaborn,\n",
        "Librosa, Gensim, Pymorphy2, Scikit-learn, SciPy, Keras, Pytorch, Langchain, OpenAI.\n",
        "'''\n",
        "\n",
        "# Для подачи в user\n",
        "topic0_skills = '''\n",
        "Вот список вопросов, которые надо задать клиенту. Задавай вопросы по порядку, по одному.\n",
        "1. Какие у вас ключевые профессиональные навыки?\n",
        "2. Какие у вас есть технические навыки, связанные с IT?\n",
        "'''"
      ],
      "metadata": {
        "id": "E9qT5YNEruA5"
      },
      "execution_count": null,
      "outputs": []
    },
    {
      "cell_type": "code",
      "source": [
        "dialog_skills = recruiter_conversation(system_skills, topic0_skills)"
      ],
      "metadata": {
        "colab": {
          "base_uri": "https://localhost:8080/"
        },
        "id": "xcd-Exl2ruDT",
        "outputId": "4dcb6025-f10a-4a7f-afc2-c96b7a6e7f94"
      },
      "execution_count": null,
      "outputs": [
        {
          "name": "stdout",
          "output_type": "stream",
          "text": [
            "Клиент: привет\n",
            "\n",
            "Рекрутер:  Привет! Рад помочь тебе с составлением резюме. Давай начнем с первого вопроса: какие у вас ключевые профессиональные навыки?\n",
            "Клиент: Python, openAI, LangChain\n",
            "\n",
            "Рекрутер:  Отлично, спасибо за информацию! А какие у вас есть технические навыки, связанные с IT?\n",
            "Клиент: Нарример, какие?\n",
            "\n",
            "Рекрутер:  Отлично, спасибо за предыдущие ответы. Когда я говорю о технических навыках, я имею в виду знание конкретных языков программирования, фреймворков, библиотек и инструментов, которыми вы владеете. Например, вы упомянули Python, openAI и LangChain. Есть ли у вас опыт работы с другими языками программирования или инструментами, такими как C++, Java, NumPy, Pandas, Matplotlib, Seaborn, Librosa, Gensim, Pymorphy2, Scikit-learn, SciPy, Keras, Pytorch и другими?\n",
            "Клиент: да, владею также NumPy, Pandas, Matplotlib, Seaborn,, Keras,\n",
            "\n",
            "Рекрутер:  Отлично, спасибо за информацию! Это очень важные навыки. Что-то еще из технических навыков, которые вы хотели бы добавить в свое резюме?\n",
            "Клиент: нет, это все\n",
            "\n",
            "Рекрутер:  Отлично, спасибо за предоставленную информацию! Благодаря вашим навыкам в Python, openAI, LangChain, NumPy, Pandas, Matplotlib, Seaborn и Keras, мы сможем составить впечатляющий блок \"Навыки\" в вашем резюме.\n",
            "Клиент: stop\n"
          ]
        }
      ]
    },
    {
      "cell_type": "code",
      "source": [
        "dialog_skills"
      ],
      "metadata": {
        "colab": {
          "base_uri": "https://localhost:8080/",
          "height": 123
        },
        "id": "FtQs3GwB6TvI",
        "outputId": "e9f3d89c-bebc-4d65-9538-db9e10328e18"
      },
      "execution_count": null,
      "outputs": [
        {
          "output_type": "execute_result",
          "data": {
            "text/plain": [
              "'привет Привет! Рад помочь тебе с составлением резюме. Давай начнем с первого вопроса: какие у вас ключевые профессиональные навыки?Python, openAI, LangChain Отлично, спасибо за информацию! А какие у вас есть технические навыки, связанные с IT?Нарример, какие? Отлично, спасибо за предыдущие ответы. Когда я говорю о технических навыках, я имею в виду знание конкретных языков программирования, фреймворков, библиотек и инструментов, которыми вы владеете. Например, вы упомянули Python, openAI и LangChain. Есть ли у вас опыт работы с другими языками программирования или инструментами, такими как C++, Java, NumPy, Pandas, Matplotlib, Seaborn, Librosa, Gensim, Pymorphy2, Scikit-learn, SciPy, Keras, Pytorch и другими?да, владею также NumPy, Pandas, Matplotlib, Seaborn,, Keras, Отлично, спасибо за информацию! Это очень важные навыки. Что-то еще из технических навыков, которые вы хотели бы добавить в свое резюме?нет, это все Отлично, спасибо за предоставленную информацию! Благодаря вашим навыкам в Python, openAI, LangChain, NumPy, Pandas, Matplotlib, Seaborn и Keras, мы сможем составить впечатляющий блок \"Навыки\" в вашем резюме.'"
            ],
            "application/vnd.google.colaboratory.intrinsic+json": {
              "type": "string"
            }
          },
          "metadata": {},
          "execution_count": 24
        }
      ]
    },
    {
      "cell_type": "markdown",
      "source": [
        "### Создание текстовой части резюме: \"Навыки\""
      ],
      "metadata": {
        "id": "FIEvN1cv5aoh"
      }
    },
    {
      "cell_type": "code",
      "source": [
        "# Инструкция для GPT, которая будет подаваться в system для блока \"Навыки\"\n",
        "system_res_skills = '''\n",
        "Ты профессиональный рекрутер, составляющий резюме для трудоустройства клиента в IT компанию.\n",
        "Используй представленную информацию от клиента для составления блока \"Навыки\" резюме.\n",
        "'''\n",
        "\n",
        "user_res_skills = f\"Составь часть резюме 'Навыки' из диалога рекрутера и соискателя: \\n\\n{dialog_skills}.\"\n",
        "\n",
        "res_skills = answer_index(system_res_skills, user_res_skills)\n",
        "\n",
        "with open('res_skills.txt', 'w') as file:\n",
        "    file.write(res_skills)"
      ],
      "metadata": {
        "id": "zKcpdyYTruF8"
      },
      "execution_count": null,
      "outputs": []
    },
    {
      "cell_type": "code",
      "source": [
        "res_skills"
      ],
      "metadata": {
        "colab": {
          "base_uri": "https://localhost:8080/",
          "height": 36
        },
        "id": "gg_P-3pOruIn",
        "outputId": "4efecefa-5aba-4749-bc1f-e8f5d24b871f"
      },
      "execution_count": null,
      "outputs": [
        {
          "output_type": "execute_result",
          "data": {
            "text/plain": [
              "'**Навыки**\\n\\n- Python\\n- openAI\\n- LangChain\\n- NumPy\\n- Pandas\\n- Matplotlib\\n- Seaborn\\n- Keras'"
            ],
            "application/vnd.google.colaboratory.intrinsic+json": {
              "type": "string"
            }
          },
          "metadata": {},
          "execution_count": 30
        }
      ]
    },
    {
      "cell_type": "markdown",
      "source": [
        "## Объединение частей резюме. Проверка заполнения."
      ],
      "metadata": {
        "id": "tgniT0cQowkh"
      }
    },
    {
      "cell_type": "code",
      "source": [
        "# Пути к вашим файлам\n",
        "file_paths = ['/content/res_me.txt', '/content/res_skills.txt', '/content/res_edu.txt', '/content/res_prof.txt']\n",
        "\n",
        "# Переменная для хранения объединенного содержимого\n",
        "combined_CV = ''\n",
        "\n",
        "# Чтение каждого файла и добавление его содержимого в переменную\n",
        "for file_path in file_paths:\n",
        "    with open(file_path, 'r') as file:\n",
        "        combined_CV += file.read() + '\\n'  # Добавляем перевод строки между содержимым файлов"
      ],
      "metadata": {
        "id": "I2zP51G3dGo_"
      },
      "execution_count": null,
      "outputs": []
    },
    {
      "cell_type": "code",
      "source": [
        "combined_CV"
      ],
      "metadata": {
        "colab": {
          "base_uri": "https://localhost:8080/",
          "height": 157
        },
        "id": "TyOCyM9eqRCW",
        "outputId": "49324edc-5b06-444e-b339-30bc74265aa4"
      },
      "execution_count": null,
      "outputs": [
        {
          "output_type": "execute_result",
          "data": {
            "text/plain": [
              "'О СЕБЕ\\n\\nМеня зовут Иван Иванов.\\nЯ - Junior программист. У меня есть опыт работы в области искусственного интеллекта с использованием языка программирования Python.\\nВ настоящее время я совершенствую свои навыки в области искусственного интеллекта и программирования на Python.\\nВ свободное время мне нравится читать книги и заниматься плаванием.\\nМой контактный номер: +79655666666.\\nЯ проживаю в городе Москва.\\nМой адрес электронной почты: bbb@mail.ru.\\n**Навыки**\\n\\n- Python\\n- openAI\\n- LangChain\\n- NumPy\\n- Pandas\\n- Matplotlib\\n- Seaborn\\n- Keras\\nОбразование:\\nГод окончания: 2020  \\nУчебное заведение: Университет искусственного интеллекта\\nСпециальности:\\n1) Data Science\\n\\nдополнительные курсы или сертификаты: Курс Python для анализа данных\\nПрофессиональная деятельность:\\n2022 - по настоящее время  \\nООО \"Ромашка\"  \\nПроект: Создание нейро-консультанта по внутренней документации компании  \\nСПЕЦИАЛИСТ ПО ПРОГРАММИРОВАНИЮ  \\nЗадачи:  \\n1) Сбор базы знаний  \\n2) Создание алгоритма нейро-консультанта  \\n3) Создание телеграм бота  \\nДостижения:  \\n1) Повышение качества клиентского обслуживания  \\n\\nООО \"Интел-Инвест\"  \\nПроект: Создание нейронной сети для классификации изображений со стройки  \\nПРОГРАММИСТ-РАЗРАБОТЧИК  \\nЗадачи:  \\n1) Подготовка датасета  \\n2) Проведение экспериментов по проработке оптимальной архитектуры нейронной сети  \\nДостижения:  \\n1) Автоматизация контроля ситуации на строительной площадке\\n'"
            ],
            "application/vnd.google.colaboratory.intrinsic+json": {
              "type": "string"
            }
          },
          "metadata": {},
          "execution_count": 32
        }
      ]
    },
    {
      "cell_type": "code",
      "source": [
        "# функция для загрузки документа по ссылке из гугл драйв\n",
        "def load_document_text(url: str) -> str:\n",
        "    # Extract the document ID from the URL\n",
        "    match_ = re.search('/document/d/([a-zA-Z0-9-_]+)', url)\n",
        "    if match_ is None:\n",
        "        raise ValueError('Invalid Google Docs URL')\n",
        "    doc_id = match_.group(1)\n",
        "\n",
        "    # Download the document as plain text\n",
        "    response = requests.get(f'https://docs.google.com/document/d/{doc_id}/export?format=txt')\n",
        "    response.raise_for_status()\n",
        "    text = response.text\n",
        "\n",
        "    return text"
      ],
      "metadata": {
        "id": "wtBpXe2JdGrl"
      },
      "execution_count": null,
      "outputs": []
    },
    {
      "cell_type": "code",
      "source": [
        "# ПРОМПТ в system\n",
        "system = load_document_text('https://docs.google.com/document/d/12fSAEOmhbkLTHrDq84OCI8Myo0HnHQ575yh02lzCNI8/edit?usp=sharing')\n",
        "system"
      ],
      "metadata": {
        "colab": {
          "base_uri": "https://localhost:8080/",
          "height": 140
        },
        "id": "WWJ566JXdGuY",
        "outputId": "cec5f7f3-6707-467c-8763-e34169852919"
      },
      "execution_count": null,
      "outputs": [
        {
          "output_type": "execute_result",
          "data": {
            "text/plain": [
              "'\\ufeffТы профессиональный рекрутер по IT специальностям. У тебя большой опыт по составлению грамотных резюме, чтобы они привлекали внимание работодателей в IT сфере.\\r\\nУ тебя есть образец правильно составленного резюме.\\r\\n\\r\\n\\r\\nК тебе будут поступать резюме выпускников IT университета. \\r\\nПроверь заполнение каждого блока резюме. Проверь релевантность указанной информации, насколько указанная информация соответствует IT специальности.\\r\\n\\r\\n\\r\\nСравни резюме с образцом правильно составленного резюме.\\r\\nВ резюме должны быть заполнены блоки, как в образце правильно составленного резюме: Контакты, О себе, Навыки, Профессиональная деятельность, Образование.\\r\\n\\r\\n\\r\\nВ блоке “Навыки” должны быть указаны IT навыки.\\r\\nЕсли блок “Навыки” не заполнен, обязательно укажи в ответе примеры IT навыков: Python, C++, Java, NumPy, Pandas, Matplotlib, Seaborn, Librosa, Gensim, Pymorphy2, Scikit-learn, SciPy, Keras, Pytorch\\r\\n\\r\\n\\r\\nУкажи, если в каком-нибудь блоке резюме не указана информация.\\r\\nУказывай только те блоки, в которых нет информации или информация не соответствует IT специальности. Не придумывай ничего от себя и лишнее в ответ не добавляй.'"
            ],
            "application/vnd.google.colaboratory.intrinsic+json": {
              "type": "string"
            }
          },
          "metadata": {},
          "execution_count": 20
        }
      ]
    },
    {
      "cell_type": "code",
      "source": [
        "# Образец заполненного резюме\n",
        "resume_complet_example = load_document_text(\n",
        "    'https://docs.google.com/document/d/16JAVCymtb0Z7f18qNYksn8sV0bBMc0BQ/edit?usp=sharing&ouid=117120344852794586001&rtpof=true&sd=true')\n",
        "resume_complet_example"
      ],
      "metadata": {
        "colab": {
          "base_uri": "https://localhost:8080/",
          "height": 209
        },
        "id": "XzlkAD9AdGxP",
        "outputId": "554b6275-77b6-4c77-a975-368c399286c8"
      },
      "execution_count": null,
      "outputs": [
        {
          "output_type": "execute_result",
          "data": {
            "text/plain": [
              "'\\ufeffИванов Иван\\r\\nData Scientist\\r\\nКОНТАКТЫ  \\r\\n  \\r\\n\\r\\n+7(499)-000-00-00                @exampleexampleexample  \\r\\nexampleexampleexample@mail.ru  \\r\\nhttps://github.com/example/exampleexample\\r\\n\\r\\n\\r\\nО СЕБЕ\\r\\n\\r\\n\\r\\nЯ Junior специалист в сфере искусственного интеллекта. Имею опыт работы с анализом данных, разработкой нейронных сетей. \\r\\nАктивно изучаю и работаю с ChatGPT. \\r\\nПримеры работ представлены на GitHub https://github.com/example/exampleexample\\r\\n\\r\\n\\r\\nНАВЫКИ\\r\\n\\r\\n\\r\\nPython, GPT (языковое моделирование), NumPy, Pandas, Matplotlib, Seaborn, Keras,Tensorflow \\r\\n\\r\\n\\r\\nПРОФЕССИОНАЛЬНАЯ ДЕЯТЕЛЬНОСТЬ\\r\\n\\r\\n\\r\\n01.2023-н.в.\\r\\nООО «Терра ЭйАй»\\r\\nПроект: Создание нейро-консультанта по внутренней документации компании\\r\\n\\r\\n\\r\\nСТАЖЕР\\r\\n\\r\\n\\r\\nЗадачи:\\r\\n* сбор базы знаний\\r\\n* создание диалога с помощью ChatGPT для ответов на вопросы сотрудников\\r\\n\\r\\n\\r\\nДостижения:\\r\\n* разработал код для работы алгоритма нейро-консультанта\\r\\n* разработал код интеграции нейро-консультанта в тг бота\\r\\n\\r\\n\\r\\n\\r\\n\\r\\n04.2023-08.2023\\r\\nООО «НКР ОЛП» Проект: Разработка нейронной сети для классификации документов\\r\\n\\r\\n\\r\\nСТАЖЕР\\r\\n\\r\\n\\r\\nЗадачи:\\r\\n* разметка датасета заказчика,\\r\\n* обучение нейронной сети для классификации документов\\r\\n\\r\\n\\r\\n\\r\\n\\r\\nДостижения:\\r\\n* выполнил разметку датасета \\r\\n* обучил модель для классификации изображений на датасете заказчика\\r\\n\\r\\n\\r\\n\\r\\n\\r\\n2016 - сейчас\\r\\nООО «ГПКО»\\r\\n\\r\\n\\r\\nГЛАВНЫЙ Бухгалтер\\r\\n\\r\\n\\r\\n* Управление бухгалтерским учетом\\r\\n* Соблюдение налогового законодательства\\r\\n* Финансовое планирование и анализ\\r\\n\\r\\n\\r\\nОБРАЗОВАНИЕ\\r\\n\\r\\n\\r\\n2023\\r\\nУНИВЕРСИТЕТ ИСКУССТВЕННОГО ИНТЕЛЛЕКТА\\r\\n* Chat GPT Professional\\r\\n* Data Science и нейронные сети\\r\\n\\r\\n\\r\\n\\r\\n\\r\\n2015\\r\\nТОЛЬЯТТИНСКИЙ ГОСУДАРСТВЕННЫЙ УНИВЕРСИТЕТ\\r\\n* Финансы и бухгалтерский учет'"
            ],
            "application/vnd.google.colaboratory.intrinsic+json": {
              "type": "string"
            }
          },
          "metadata": {},
          "execution_count": 38
        }
      ]
    },
    {
      "cell_type": "code",
      "source": [
        "syst = f\"{system} \\n\\nОбразец правильно составленного резюме: {resume_complet_example}\"\n",
        "user = f\"Кратко укажи замечания по заполнению этого резюме: {combined_CV}\"\n",
        "resume_feedback = answer_index(syst, user)"
      ],
      "metadata": {
        "id": "dM6N_bpCdG24"
      },
      "execution_count": null,
      "outputs": []
    },
    {
      "cell_type": "code",
      "source": [
        "# выводим  рекомендации для финальной доработки резюме\n",
        "resume_feedback"
      ],
      "metadata": {
        "colab": {
          "base_uri": "https://localhost:8080/",
          "height": 122
        },
        "id": "CIZEq7AzdG5O",
        "outputId": "04a29ded-f48b-4127-a03c-13fd016c77ec"
      },
      "execution_count": null,
      "outputs": [
        {
          "output_type": "execute_result",
          "data": {
            "text/plain": [
              "'1. В блоке \"О себе\" не указаны навыки и опыт работы, связанные с IT сферой. Также стоит добавить ссылку на профиль в GitHub или другие профессиональные ресурсы.\\n\\n2. В блоке \"Навыки\" указаны некоторые IT навыки, но не хватает конкретики и связи с областью искусственного интеллекта. Например, не хватает упоминания о навыках работы с нейронными сетями, а также библиотеками и фреймворками, связанными с искусственным интеллектом.\\n\\n3. В блоке \"Образование\" не указаны специализации или курсы, связанные с искусственным интеллектом. Также стоит добавить информацию о проектах или курсах, связанных с программированием и искусственным интеллектом.\\n\\n4. В блоке \"Профессиональная деятельность\" указаны проекты, но не хватает деталей о том, какие конкретно задачи были выполнены, какие технологии использовались и какие результаты были достигнуты. Также стоит добавить информацию о проектах, связанных с искусственным интеллектом и программированием.'"
            ],
            "application/vnd.google.colaboratory.intrinsic+json": {
              "type": "string"
            }
          },
          "metadata": {},
          "execution_count": 46
        }
      ]
    },
    {
      "cell_type": "markdown",
      "source": [
        "# Нейро-HR: Создание сопроводительного письма к вакансии по резюме."
      ],
      "metadata": {
        "id": "STEZSPDEA_FQ"
      }
    },
    {
      "cell_type": "markdown",
      "source": [
        "У нас имеется папка на гугл драйв с текстовыми файлами с рекомендациями от HR по составлению сопроводительных писем. Возьмем несколько из них, при помощи gpt обработаем их, получив объединенный список рекомендаций без повторений. Используем эти рекомендации для написания сопроводительного письма по тексту вакансии и резюме.\n",
        "\n",
        "Ссылка на папку: https://drive.google.com/drive/folders/1DeDUAiJmLwWsQHjS0DFcBzfC0oPhPhRH"
      ],
      "metadata": {
        "id": "cqc3-wr6Ctsu"
      }
    },
    {
      "cell_type": "code",
      "source": [
        "auth.authenticate_user()                                                        # Авторизации на доступ к Google Диску\n",
        "drive_service = build('drive', 'v3')                                            # Создание объект service для доступа к Google Drive API"
      ],
      "metadata": {
        "id": "W_CHIXfaEqWI"
      },
      "execution_count": null,
      "outputs": []
    },
    {
      "cell_type": "code",
      "source": [
        "folder_id = '1DeDUAiJmLwWsQHjS0DFcBzfC0oPhPhRH'                                 # Идентификатор папки, в которой находятся файлы\n",
        "results = drive_service.files().list(q=f\"'{folder_id}' in parents\").execute()   # Список файлов из указанной папки на Google Диске\n",
        "files = results.get('files', [])\n",
        "files = [file for file in files if file['name'].endswith('.docx')]              # Удаляем файлы не имеющие расширение 'docx'"
      ],
      "metadata": {
        "id": "mXy5h5WjBGd0"
      },
      "execution_count": null,
      "outputs": []
    },
    {
      "cell_type": "code",
      "source": [
        "good_instructions = ['2 сопроводительное письмо.docx',                          # Список инструкций которые мы будем использовать\n",
        "                     '4 сопроводительное письмо.docx',\n",
        "                     '7 сопроводительное письмо.docx',\n",
        "                     '8 сопроводительное письмо.docx']\n",
        "data = files\n",
        "files = [item for item in data if item['name'] in good_instructions]"
      ],
      "metadata": {
        "id": "etmUegPlBGg4"
      },
      "execution_count": null,
      "outputs": []
    },
    {
      "cell_type": "code",
      "source": [
        "# вот, что содержит список files\n",
        "files"
      ],
      "metadata": {
        "colab": {
          "base_uri": "https://localhost:8080/"
        },
        "id": "upHkaEUwBGlp",
        "outputId": "f42ecf0e-f9c0-42b4-ecb0-b0eec4f8f14e"
      },
      "execution_count": null,
      "outputs": [
        {
          "output_type": "execute_result",
          "data": {
            "text/plain": [
              "[{'kind': 'drive#file',\n",
              "  'mimeType': 'application/vnd.openxmlformats-officedocument.wordprocessingml.document',\n",
              "  'id': '1Dlb2z5HWieqk4F1-DSyR0803Tt3-I8Tl',\n",
              "  'name': '8 сопроводительное письмо.docx'},\n",
              " {'kind': 'drive#file',\n",
              "  'mimeType': 'application/vnd.openxmlformats-officedocument.wordprocessingml.document',\n",
              "  'id': '1Q-YiBo9taElybuByliolzBtaUo-HzwfV',\n",
              "  'name': '7 сопроводительное письмо.docx'},\n",
              " {'kind': 'drive#file',\n",
              "  'mimeType': 'application/vnd.openxmlformats-officedocument.wordprocessingml.document',\n",
              "  'id': '1LLJXhGc4xyrNbVPPddS1dyWlQaFr0kLj',\n",
              "  'name': '4 сопроводительное письмо.docx'},\n",
              " {'kind': 'drive#file',\n",
              "  'mimeType': 'application/vnd.openxmlformats-officedocument.wordprocessingml.document',\n",
              "  'id': '1cmoDNKDCD-bPKrq2P22Sgbytocseaqmf',\n",
              "  'name': '2 сопроводительное письмо.docx'}]"
            ]
          },
          "metadata": {},
          "execution_count": 7
        }
      ]
    },
    {
      "cell_type": "code",
      "source": [
        "# создаем список, содержащий только тексты рекомендаций по написанию сопроводительного письма\n",
        "def extract_texts(files, drive_service):\n",
        "    # Создаем пустой список для хранения текстов из файлов\n",
        "    texts = []\n",
        "\n",
        "    # Проходим по каждому файлу в предоставленном списке\n",
        "    for file in files:\n",
        "        try:\n",
        "            # Создаем запрос на загрузку файла с Google Drive\n",
        "            request = drive_service.files().get_media(fileId=file['id'])\n",
        "\n",
        "            # Используем BytesIO для чтения данных файла в память\n",
        "            file_io = io.BytesIO()\n",
        "\n",
        "            # Создаем объект для загрузки файла\n",
        "            downloader = MediaIoBaseDownload(file_io, request)\n",
        "\n",
        "            # Загружаем файл частями\n",
        "            done = False\n",
        "            while not done:\n",
        "                # Загружаем следующий кусок файла\n",
        "                _, done = downloader.next_chunk()\n",
        "\n",
        "            # Перемещаем указатель в начало файла\n",
        "            file_io.seek(0)\n",
        "\n",
        "            # Читаем файл с помощью библиотеки python-docx\n",
        "            document = Document(file_io)\n",
        "\n",
        "            # Собираем текст из всех параграфов документа\n",
        "            text = \"\\n\".join(paragraph.text for paragraph in document.paragraphs)\n",
        "\n",
        "            # Добавляем полученный текст в список texts\n",
        "            texts.append(text)\n",
        "        except Exception as e:\n",
        "            # В случае ошибки выводим сообщение и продолжаем с следующим файлом\n",
        "            print(f\"Ошибка при обработке файла {file['name']}: {e}\")\n",
        "\n",
        "    # Возвращаем список текстов\n",
        "    return texts\n",
        "\n",
        "# Использование\n",
        "extracted_texts = extract_texts(files, drive_service)"
      ],
      "metadata": {
        "id": "FBpQhlm4BGoY"
      },
      "execution_count": null,
      "outputs": []
    },
    {
      "cell_type": "markdown",
      "source": [
        "Этот код загружает тексты из файлов docx, находящихся на Google Drive, и сохраняет их в список. Каждый элемент списка - это текст одного документа. Обработка ошибок обеспечивает, что даже при возникновении проблемы с одним из файлов, остальные файлы будут обработаны."
      ],
      "metadata": {
        "id": "JlruEHbIIrjH"
      }
    },
    {
      "cell_type": "code",
      "source": [
        "extracted_texts[0]"
      ],
      "metadata": {
        "colab": {
          "base_uri": "https://localhost:8080/",
          "height": 123
        },
        "id": "XhE_ftB9BGrb",
        "outputId": "44392337-c0b3-41cd-d0a3-7404422d9554"
      },
      "execution_count": null,
      "outputs": [
        {
          "output_type": "execute_result",
          "data": {
            "text/plain": [
              "'Как правильно составить сопроводительное письмо программисту\\nДавайте разберемся, зачем нужно сопроводительное письмо и как его написать так, чтобы вас захотели взять на работу.\\nНесмотря на то что сопроводительное письмо или cover letter составляется в свободной форме, мало кто действительно умеет писать его правильно и убедительно. Особенно это относится к джунам и чуть меньше — к мидлам.\\nЧто такое сопроводительное письмо\\nСопроводительное письмо — это небольшой текст, который идет дополнением к резюме. В нем вы должны в двух словах объяснить эйчару, зачем и почему вас брать на работу.\\nОтличительные особенности:\\nОбъем: 500 — 1000 знаков\\nСтиль: официально-деловой*\\nО чем: какую пользу вы принесете компании\\n*чаще всего, но не всегда\\nНемного статистики\\nСогласно исследованию ResumeLab, около 83% работодателей утверждают, что они готовы рассмотреть кандидата и даже пригласить его на собеседование, если он написал отличное сопроводительное письмо, но у него недостаточно объемное резюме.\\nТакже в Zippia провели опрос среди рекрутеров, согласно которому около 45% специалистов считают, что отсутствие резюме — это причина не рассматривать его кандидатуру и отказать в интервью.\\nЗачем нужно сопроводительное письмо\\nГлобально сопроводительное письмо выполняет две важные функции:\\nПозволяет обойти алгоритмы джоб-сайтов. Например, без него ваше резюме может банально не дойти до эйчара, если в своем личном кабинете он настроит фильтр на кандидатов и разом скипнет всех, кто не прислал cover letter на вакансию. Такая функция есть.\\nПомогает заинтересовать работодателя. Такое важное дополнение к резюме должно продавать вас как специалиста.\\nВ АйТи без сопроводительного письма никуда (почти). Особенно если вы ищете работу стандартными консервативными способами — на джоб-сайтах по типу hh. Конкуренция там огромная и без cover letter ваше резюме с высокой вероятностью останется незамеченным.\\nДа, есть и другие каналы поиска, но в любом случае написать пару строк о себе и своем опыте, все же придется.\\nСтруктура сопроводительного письма\\nСтруктура хорошего сопроводительного письма может меняться от вакансии к вакансии, но базово она состоит из примерно таких блоков:\\nприветствие;\\nинтерес к вакансии;\\nчто умеете делать;\\nчто хорошего сделали на прошлом месте работы;\\nзаключение;\\nконтакты.\\nПомните про объем 500–1000 символов? Это значит, что все нужно расписать кратко. И от некоторых из этих пунктов можно отказаться.\\nПриветствие\\nПросто напишите «Привет» или «Добрый день», — в зависимости от того, в каком стиле написана вакансия. Например, если в ней уже сразу переходят на «ты» с соискателем и в лайтовой форме объясняют, чем предстоит заняться, то «Привет» подойдет. В иных случаях — «Добрый день».\\n❌ От «Уважаемый(ая), «Здравия желаю», «Здравствую» и прочих нестандартных приветствий лучше отказаться.\\nИнтерес к вакансии\\nПодчеркните, что вам действительно интересна вакансия и вы хотите работать в этой компании.\\n👀 Например, можно написать так:\\n«Я давно слежу за открытыми вакансиями в вашей компании и даже подписан на нее в социальных сетях. Поэтому очень рад, что наконец-то вы ищете [меня-айтишника]»\\nФразу [меня-айтишника] нужно заменить на конкретно ваше направление разработки.\\nЧто умеете делать\\nВ этом пункте кратко пройдитесь по своему опыту: расскажите, какой стек используете в работе.\\n👀 Например:\\n«Я пишу на Python уже 3+ года. За это время поработал с Flask, Django и другими web-фреймворками. Умею в интеграцию с базами данных, разработку API, базовые алгоритмы машинного обучения и статистический анализ данных»\\nЧто хорошего сделали на прошлом месте работы\\nЗдесь напишите, какую пользу принесли предыдущему работодателю и почему это важно.\\n👀 Например:\\n«Разработал API для веб-приложения GoTinderNet, используя Node.js и MongoDB. API обеспечивало широкий функционал для пользователей: они могли создать профиль, пользоваться поиском по параметрам, переписываться с другими юзерами в режиме реального времени и прочее. За год моего участия в проекте, он сильно вырос и превысил количество пользователей на 300% от плана»\\nЕсли есть реально крутые достижения — это очень хорошо. Но если их нет, как и у большинства джунов, не бойтесь упоминать даже то, что считаете ненужным или незначительным.\\nВ этом же пункте можно прикрепить ссылки на проекты, которыми вы гордитесь.\\nЗаключение\\nПоблагодарите за уделенное время и намекните, что готовы пообщаться по вакансии.\\n👀 Например:\\n«Спасибо, что уделили время.\\nС удовольствием больше расскажу о себе на интервью.\\nЖду отклика»\\nВажно: не пишите «благодарю за потраченное время». Безусловно, это не причина для отказа, но звучит не очень — будто на вас зря потратили время и вы сами в себе сомневаетесь как в специалисте.\\nКонтакты\\nДа, звучит странно: «Зачем указывать контакты здесь, если они уже есть в резюме?». Просто продублировав контакты еще раз, вы подтвердите, что они актуальны.\\nПример сопроводительного письма\\nДавайте посмотрим, как может выглядеть сопроводительное письмо на примере backend-разработчика:\\n«Добрый день.\\nРад, что вы ищете backend-разработчика, потому что я часто мониторю открытые вакансии в вашей компании, уже давно работаю бэкендером и у меня есть проекты, которыми я горжусь.\\nУмею в Python, Java, С++, SQL, MongoDB, Oracle Database, RESTful API, Git и Docker. Владею им на уровне мидла. Расскажу подробнее про весь свой стек на интервью с тех. специалистом или тимлидом.\\nНа прошлой работе придумал, разработал и успешно реализовал высокопроизводительную систему с динамической архитектурой.\\nУ меня много идей и я не собираюсь останавливаться на достигнутом. В частности, сейчас прохожу курсы для мидлов в Яндексе. Поэтому уверен, что внедрю что-нибудь новое, полезное и уникальное в ваш проект.\\nГотов пообщаться и пройти интервью в любое удобное время»\\nЭто лишь пример. Он хорош тем, что достаточно универсален.\\nСоветы\\nПишите так, как разговариваете в обычной жизни, но с долей деловой этики. К примеру, представьте, что случайно встретили старого знакомого и он спросил: «Кем работаешь? Чем занимаешься?». Это поможет начать.\\nПокажите себя экспертом. Даже если считаете, что ничего такого выдающегося не сделали. Просто вспомните и кратко перечислите все, к чему приложили руку и над какими задачами трудились. Многие боятся заявить о себе, слишком сильно принижают собственные достижения и поэтому могут годами работать на джуниорских позициях, хотя тянут на мидла. Привет, синдром самозванца!\\nРасскажите о пользе, которую принесете. Сделать это можно разными способами: прямо (предложить конкретные идеи) или косвенно (перечислить, что вы уже сделали, чем владеете, что умеете и как развиваетесь). Либо скомбинировать одно с другим.\\nНебольшой лайфхак\\nНе знаете, как рассказать о себе? Тогда попросите ChatGPT сделать это за вас. Да, это не спасение от всех проблем. Но иногда ИИ выдает стоящие вещи, если правильно задать вопрос.\\n👀 Например:\\n«Составь подробное сопроводительное письмо на должность DevOps-инженера: с фактами, примерами и достижениями»\\nТолько не забудьте подредактировать ответ под себя.\\n'"
            ],
            "application/vnd.google.colaboratory.intrinsic+json": {
              "type": "string"
            }
          },
          "metadata": {},
          "execution_count": 14
        }
      ]
    },
    {
      "cell_type": "markdown",
      "source": [
        "Подсчитаем, сколько токенов содержат документы, чтобы понимать, какую модель мы должны использовать"
      ],
      "metadata": {
        "id": "OTrRqAMgy76f"
      }
    },
    {
      "cell_type": "code",
      "source": [
        "# Создаем экземпляр токенизатора\n",
        "encoding = tiktoken.get_encoding(\"cl100k_base\")\n",
        "\n",
        "# Проходим по каждому элементу списка extracted_texts\n",
        "for index, text in enumerate(extracted_texts):\n",
        "    token_count = len(encoding.encode(text))  # Токенизируем текст и считаем количество токенов\n",
        "\n",
        "    # Выводим информацию о количестве токенов в каждом документе\n",
        "    print(f\"Документ {index + 1}: {token_count} токенов\")\n"
      ],
      "metadata": {
        "colab": {
          "base_uri": "https://localhost:8080/"
        },
        "id": "ipA3mS30J4zj",
        "outputId": "f5001404-5368-4438-f596-2b60978f0112"
      },
      "execution_count": null,
      "outputs": [
        {
          "output_type": "stream",
          "name": "stdout",
          "text": [
            "Документ 1: 3117 токенов\n",
            "Документ 2: 2091 токенов\n",
            "Документ 3: 1637 токенов\n",
            "Документ 4: 3097 токенов\n"
          ]
        }
      ]
    },
    {
      "cell_type": "code",
      "source": [
        "extracted_texts[0]"
      ],
      "metadata": {
        "colab": {
          "base_uri": "https://localhost:8080/",
          "height": 123
        },
        "id": "qu2Iow20P5Nk",
        "outputId": "3e0c9b51-8892-4b83-882d-98af1f95b9f7"
      },
      "execution_count": null,
      "outputs": [
        {
          "output_type": "execute_result",
          "data": {
            "text/plain": [
              "'Как правильно составить сопроводительное письмо программисту\\nДавайте разберемся, зачем нужно сопроводительное письмо и как его написать так, чтобы вас захотели взять на работу.\\nНесмотря на то что сопроводительное письмо или cover letter составляется в свободной форме, мало кто действительно умеет писать его правильно и убедительно. Особенно это относится к джунам и чуть меньше — к мидлам.\\nЧто такое сопроводительное письмо\\nСопроводительное письмо — это небольшой текст, который идет дополнением к резюме. В нем вы должны в двух словах объяснить эйчару, зачем и почему вас брать на работу.\\nОтличительные особенности:\\nОбъем: 500 — 1000 знаков\\nСтиль: официально-деловой*\\nО чем: какую пользу вы принесете компании\\n*чаще всего, но не всегда\\nНемного статистики\\nСогласно исследованию ResumeLab, около 83% работодателей утверждают, что они готовы рассмотреть кандидата и даже пригласить его на собеседование, если он написал отличное сопроводительное письмо, но у него недостаточно объемное резюме.\\nТакже в Zippia провели опрос среди рекрутеров, согласно которому около 45% специалистов считают, что отсутствие резюме — это причина не рассматривать его кандидатуру и отказать в интервью.\\nЗачем нужно сопроводительное письмо\\nГлобально сопроводительное письмо выполняет две важные функции:\\nПозволяет обойти алгоритмы джоб-сайтов. Например, без него ваше резюме может банально не дойти до эйчара, если в своем личном кабинете он настроит фильтр на кандидатов и разом скипнет всех, кто не прислал cover letter на вакансию. Такая функция есть.\\nПомогает заинтересовать работодателя. Такое важное дополнение к резюме должно продавать вас как специалиста.\\nВ АйТи без сопроводительного письма никуда (почти). Особенно если вы ищете работу стандартными консервативными способами — на джоб-сайтах по типу hh. Конкуренция там огромная и без cover letter ваше резюме с высокой вероятностью останется незамеченным.\\nДа, есть и другие каналы поиска, но в любом случае написать пару строк о себе и своем опыте, все же придется.\\nСтруктура сопроводительного письма\\nСтруктура хорошего сопроводительного письма может меняться от вакансии к вакансии, но базово она состоит из примерно таких блоков:\\nприветствие;\\nинтерес к вакансии;\\nчто умеете делать;\\nчто хорошего сделали на прошлом месте работы;\\nзаключение;\\nконтакты.\\nПомните про объем 500–1000 символов? Это значит, что все нужно расписать кратко. И от некоторых из этих пунктов можно отказаться.\\nПриветствие\\nПросто напишите «Привет» или «Добрый день», — в зависимости от того, в каком стиле написана вакансия. Например, если в ней уже сразу переходят на «ты» с соискателем и в лайтовой форме объясняют, чем предстоит заняться, то «Привет» подойдет. В иных случаях — «Добрый день».\\n❌ От «Уважаемый(ая), «Здравия желаю», «Здравствую» и прочих нестандартных приветствий лучше отказаться.\\nИнтерес к вакансии\\nПодчеркните, что вам действительно интересна вакансия и вы хотите работать в этой компании.\\n👀 Например, можно написать так:\\n«Я давно слежу за открытыми вакансиями в вашей компании и даже подписан на нее в социальных сетях. Поэтому очень рад, что наконец-то вы ищете [меня-айтишника]»\\nФразу [меня-айтишника] нужно заменить на конкретно ваше направление разработки.\\nЧто умеете делать\\nВ этом пункте кратко пройдитесь по своему опыту: расскажите, какой стек используете в работе.\\n👀 Например:\\n«Я пишу на Python уже 3+ года. За это время поработал с Flask, Django и другими web-фреймворками. Умею в интеграцию с базами данных, разработку API, базовые алгоритмы машинного обучения и статистический анализ данных»\\nЧто хорошего сделали на прошлом месте работы\\nЗдесь напишите, какую пользу принесли предыдущему работодателю и почему это важно.\\n👀 Например:\\n«Разработал API для веб-приложения GoTinderNet, используя Node.js и MongoDB. API обеспечивало широкий функционал для пользователей: они могли создать профиль, пользоваться поиском по параметрам, переписываться с другими юзерами в режиме реального времени и прочее. За год моего участия в проекте, он сильно вырос и превысил количество пользователей на 300% от плана»\\nЕсли есть реально крутые достижения — это очень хорошо. Но если их нет, как и у большинства джунов, не бойтесь упоминать даже то, что считаете ненужным или незначительным.\\nВ этом же пункте можно прикрепить ссылки на проекты, которыми вы гордитесь.\\nЗаключение\\nПоблагодарите за уделенное время и намекните, что готовы пообщаться по вакансии.\\n👀 Например:\\n«Спасибо, что уделили время.\\nС удовольствием больше расскажу о себе на интервью.\\nЖду отклика»\\nВажно: не пишите «благодарю за потраченное время». Безусловно, это не причина для отказа, но звучит не очень — будто на вас зря потратили время и вы сами в себе сомневаетесь как в специалисте.\\nКонтакты\\nДа, звучит странно: «Зачем указывать контакты здесь, если они уже есть в резюме?». Просто продублировав контакты еще раз, вы подтвердите, что они актуальны.\\nПример сопроводительного письма\\nДавайте посмотрим, как может выглядеть сопроводительное письмо на примере backend-разработчика:\\n«Добрый день.\\nРад, что вы ищете backend-разработчика, потому что я часто мониторю открытые вакансии в вашей компании, уже давно работаю бэкендером и у меня есть проекты, которыми я горжусь.\\nУмею в Python, Java, С++, SQL, MongoDB, Oracle Database, RESTful API, Git и Docker. Владею им на уровне мидла. Расскажу подробнее про весь свой стек на интервью с тех. специалистом или тимлидом.\\nНа прошлой работе придумал, разработал и успешно реализовал высокопроизводительную систему с динамической архитектурой.\\nУ меня много идей и я не собираюсь останавливаться на достигнутом. В частности, сейчас прохожу курсы для мидлов в Яндексе. Поэтому уверен, что внедрю что-нибудь новое, полезное и уникальное в ваш проект.\\nГотов пообщаться и пройти интервью в любое удобное время»\\nЭто лишь пример. Он хорош тем, что достаточно универсален.\\nСоветы\\nПишите так, как разговариваете в обычной жизни, но с долей деловой этики. К примеру, представьте, что случайно встретили старого знакомого и он спросил: «Кем работаешь? Чем занимаешься?». Это поможет начать.\\nПокажите себя экспертом. Даже если считаете, что ничего такого выдающегося не сделали. Просто вспомните и кратко перечислите все, к чему приложили руку и над какими задачами трудились. Многие боятся заявить о себе, слишком сильно принижают собственные достижения и поэтому могут годами работать на джуниорских позициях, хотя тянут на мидла. Привет, синдром самозванца!\\nРасскажите о пользе, которую принесете. Сделать это можно разными способами: прямо (предложить конкретные идеи) или косвенно (перечислить, что вы уже сделали, чем владеете, что умеете и как развиваетесь). Либо скомбинировать одно с другим.\\nНебольшой лайфхак\\nНе знаете, как рассказать о себе? Тогда попросите ChatGPT сделать это за вас. Да, это не спасение от всех проблем. Но иногда ИИ выдает стоящие вещи, если правильно задать вопрос.\\n👀 Например:\\n«Составь подробное сопроводительное письмо на должность DevOps-инженера: с фактами, примерами и достижениями»\\nТолько не забудьте подредактировать ответ под себя.\\n'"
            ],
            "application/vnd.google.colaboratory.intrinsic+json": {
              "type": "string"
            }
          },
          "metadata": {},
          "execution_count": 18
        }
      ]
    },
    {
      "cell_type": "markdown",
      "source": [
        "## Обработка всех полученных текстов при помощи gpt, создание кратких и понятных инструкций"
      ],
      "metadata": {
        "id": "abd3icU3K1aC"
      }
    },
    {
      "cell_type": "code",
      "source": [
        "system_generalize = '''\n",
        "Ты - копирайтер - эксперт и HR-специалист. Ты отлично структуририруешь текст и выделяешь ключевые моменты.\n",
        "Возьми на себя роль редактора, которому предоставили тексты нескольких рекомендаций по написанию сопроводительных писем и на их основе сделай обобщенную инструкцию\n",
        "по написанию сопроводительного письма.\n",
        "\n",
        "Информацию бери только из текстов, не придумывай ничего от себя\n",
        "Ты должен писать в единственном числе повелительного наклонения.\n",
        "'''"
      ],
      "metadata": {
        "id": "dAUpFZkrSxdA"
      },
      "execution_count": null,
      "outputs": []
    },
    {
      "cell_type": "code",
      "source": [
        "# Соединяем все тексты в одно сообщение, добавляя к каждому тексту его номер\n",
        "combined_text = \"\\n\".join([f'Текст {index + 1}: {text}' for index, text in enumerate(extracted_texts)])\n",
        "general_instruction = answer_index(system_generalize, combined_text, temp=0)"
      ],
      "metadata": {
        "id": "VPsrunoWJ44p"
      },
      "execution_count": null,
      "outputs": []
    },
    {
      "cell_type": "code",
      "source": [
        "general_instruction"
      ],
      "metadata": {
        "colab": {
          "base_uri": "https://localhost:8080/",
          "height": 175
        },
        "id": "snEf6XmSJ47S",
        "outputId": "aaaed755-7404-40df-bf35-233a090dc418"
      },
      "execution_count": null,
      "outputs": [
        {
          "output_type": "execute_result",
          "data": {
            "text/plain": [
              "'Инструкция по написанию сопроводительного письма для IT-специалиста\\n\\n1. Приветствие\\n   - Начните с приветствия, используя форму приветствия, соответствующую стилю вакансии.\\n   - Избегайте нестандартных приветствий, таких как \"Уважаемый(ая)\".\\n\\n2. Интерес к вакансии\\n   - Подчеркните свой интерес к вакансии и компании.\\n   - Укажите, почему вы хотите работать именно в этой компании.\\n\\n3. Профессиональные навыки и опыт\\n   - Кратко опишите ваши профессиональные навыки и опыт, соответствующие требованиям вакансии.\\n   - Укажите проекты, в которых вы участвовали, и достижения на предыдущих местах работы.\\n\\n4. Мотивация и энтузиазм\\n   - Подчеркните свою мотивацию и энтузиазм работать в данной компании.\\n   - Укажите, что вам нравится в культуре компании, проектах и направлении деятельности.\\n\\n5. Грамотность и стиль\\n   - Проверьте письмо на грамматические и орфографические ошибки.\\n   - Соблюдайте деловой стиль общения, но при необходимости адаптируйте его под стиль вакансии.\\n\\n6. Дополнительные преимущества\\n   - Укажите дополнительные преимущества, такие как смежный опыт работы или редкие и ценные качества.\\n\\n7. Завершение\\n   - Завершите письмо вежливым прощанием и призывом к дальнейшему взаимодействию.\\n\\n8. Длина и формат\\n   - Соблюдайте краткость: суммарное время прочтения письма не должно превышать 30 секунд.\\n   - Оформляйте письмо в печатном виде, желательно в PDF-формате, с аккуратным и структурированным содержанием.\\n\\nСледуя этой инструкции, вы сможете написать эффективное сопроводительное письмо, которое увеличит ваши шансы на получение работы в IT-сфере.'"
            ],
            "application/vnd.google.colaboratory.intrinsic+json": {
              "type": "string"
            }
          },
          "metadata": {},
          "execution_count": 30
        }
      ]
    },
    {
      "cell_type": "markdown",
      "source": [
        "## Написание сопроводительного письма по тексту резюме и вакансии"
      ],
      "metadata": {
        "id": "Iy0funf9dCvN"
      }
    },
    {
      "cell_type": "code",
      "source": [
        "# берем фейковое резюме из документа:\n",
        "file_url = 'https://docs.google.com/document/d/1kszDO4qR_7vM-dBjVXjs5dSnqLJn-m-3rPXTL0YUrFE/export?format=txt'\n",
        "response = requests.get(file_url)\n",
        "resume = response.text"
      ],
      "metadata": {
        "id": "Eb641o5AdFME"
      },
      "execution_count": null,
      "outputs": []
    },
    {
      "cell_type": "code",
      "source": [
        "resume"
      ],
      "metadata": {
        "colab": {
          "base_uri": "https://localhost:8080/",
          "height": 123
        },
        "id": "lcXT8FPOdFPQ",
        "outputId": "06dece22-93bb-4b34-ec6c-258070f6b1a7"
      },
      "execution_count": null,
      "outputs": [
        {
          "output_type": "execute_result",
          "data": {
            "text/plain": [
              "'\\ufeff**РЕЗЮМЕ**\\r\\n\\r\\n\\r\\n\\r\\n\\r\\n**Персональная информация**\\r\\nИмя и Фамилия: Максим Иванов\\r\\nАдрес: г. Москва, ул. Ленина, д. 999, кв. 999 \\r\\nКонтакты: +7(499)123-45-67, maximivanov@example.com\\r\\nLinkedIn: linkedin.com/in/example\\r\\n\\r\\n\\r\\n\\r\\n\\r\\n**Цель**\\r\\nМотивированный Junior DS-инженер с годовым опытом в анализе данных, разработке моделей предсказаний и машинном обучении. Нацелен на углубление навыков и развитие в области Data Science.\\r\\n\\r\\n\\r\\n**Опыт работы**\\r\\n\\r\\n\\r\\n*Junior Data Scientist – XYZ Corp, Москва, Июнь 2020 – Настоящий момент*\\r\\n- Проектирование и реализация моделей предсказательного анализа\\r\\n- Обработка и анализ больших данных для выявления тенденций и их визуализация с использованием Python, R, SQL и Tableau\\r\\n- Строительство и отладка алгоритмов машинного обучения и AI\\r\\n\\r\\n\\r\\n**Образование**\\r\\n\\r\\n\\r\\n*Тверской Государственный Университет – Бакалавр компьютерных наук, 2016 – 2020*\\r\\n\\r\\n\\r\\n**Навыки**\\r\\n- Python, R и SQL\\r\\n- Навыки работы с данными (Pandas, NumPy)\\r\\n- Алгоритмы машинного обучения (Scikit-learn)\\r\\n- Визуализация данных (Matplotlib, Seaborn, Tableau)\\r\\n- Big Data Tools: Hadoop, Spark\\r\\n- Знание статистических методов и моделей\\r\\n\\r\\n\\r\\n**Сильные стороны**\\r\\n- Отличные навыки анализа данных и проблемного решения\\r\\n- Внимание к деталям\\r\\n- Способность работать над мультидисциплинарными проектами\\r\\n- Быстрое обучение и адаптация к новым технологиям\\r\\n- Хорошие коммуникативные навыки\\r\\n\\r\\n\\r\\n\\r\\n\\r\\n**Увлечения**\\r\\n- Чтение технической литературы и блогов о Data Science\\r\\n- Программирование с открытым исходным кодом\\r\\n- Фотография\\r\\n\\r\\n\\r\\n\\r\\n\\r\\n**Рекомендации**\\r\\nПредоставляются по запросу \\r\\n\\r\\n\\r\\n\\r\\n\\r\\nНадеюсь, что мои навыки и опыт будут полезны для вашей компании. С нетерпением жду возможности обсудить предлагаемую должность. Спасибо за рассмотрение моего резюме.'"
            ],
            "application/vnd.google.colaboratory.intrinsic+json": {
              "type": "string"
            }
          },
          "metadata": {},
          "execution_count": 7
        }
      ]
    },
    {
      "cell_type": "markdown",
      "source": [
        "Список с сылками на файлы с текстами вакансий полученных с `HH.ru` и `telegram`-каналов"
      ],
      "metadata": {
        "id": "addzKVXPf0kQ"
      }
    },
    {
      "cell_type": "code",
      "source": [
        "folder_id = '1h5v3HDBX-A9KaL2QMbpbgdY9rOB2B2rD'                                 # Идентификатор папки, в которой находятся файлы\n",
        "results = drive_service.files().list(q=f\"'{folder_id}' in parents\").execute()   # Список файлов из указанной папки на Google Диске\n",
        "vacancies = results.get('files', [])\n",
        "vacancies = [vacanc for vacanc in vacancies if vacanc['name'].endswith('.txt')] # Удаляем файлы не имеющие расширение 'txt'"
      ],
      "metadata": {
        "id": "pv5Zytr5dFSJ"
      },
      "execution_count": null,
      "outputs": []
    },
    {
      "cell_type": "code",
      "source": [
        "vacancies"
      ],
      "metadata": {
        "colab": {
          "base_uri": "https://localhost:8080/"
        },
        "id": "nH-9FXdXf4kJ",
        "outputId": "909e737b-2dde-455a-d7f0-78a5df221285"
      },
      "execution_count": null,
      "outputs": [
        {
          "output_type": "execute_result",
          "data": {
            "text/plain": [
              "[{'kind': 'drive#file',\n",
              "  'mimeType': 'text/plain',\n",
              "  'id': '1fHhz9mwUk80msizLUH87A64knKEXWHbG',\n",
              "  'name': 'Вакансия01.txt'},\n",
              " {'kind': 'drive#file',\n",
              "  'mimeType': 'text/plain',\n",
              "  'id': '1YaHhrWfkU5e-zZTCSYUHGecbPngP15tM',\n",
              "  'name': 'Вакансия05.txt'},\n",
              " {'kind': 'drive#file',\n",
              "  'mimeType': 'text/plain',\n",
              "  'id': '1D6xq4BLafRWcGlejTtshGeN8b8eOubsy',\n",
              "  'name': 'Вакансия06.txt'},\n",
              " {'kind': 'drive#file',\n",
              "  'mimeType': 'text/plain',\n",
              "  'id': '1pq7gHI8oxc5V1mNkoecZ_i6C1Nnq1Otl',\n",
              "  'name': 'Вакансия03.txt'},\n",
              " {'kind': 'drive#file',\n",
              "  'mimeType': 'text/plain',\n",
              "  'id': '14O5mOapCGyhoTd31eb1WJRrvHWYzO2lc',\n",
              "  'name': 'Вакансия04.txt'},\n",
              " {'kind': 'drive#file',\n",
              "  'mimeType': 'text/plain',\n",
              "  'id': '1RC0jRoRMKdEtm43Ix_65k2x2UWC70r-z',\n",
              "  'name': 'Вакансия07.txt'},\n",
              " {'kind': 'drive#file',\n",
              "  'mimeType': 'text/plain',\n",
              "  'id': '10saGxyc6q_LHlbB3qOSqsqbi69EBkBew',\n",
              "  'name': 'Вакансия02.txt'}]"
            ]
          },
          "metadata": {},
          "execution_count": 38
        }
      ]
    },
    {
      "cell_type": "code",
      "source": [
        "def extract_texts_vacancies(files, drive_service):\n",
        "    # Создаем пустой список для хранения текстов из файлов\n",
        "    texts = []\n",
        "\n",
        "    # Проходим по каждому файлу в предоставленном списке\n",
        "    for file in files:\n",
        "        try:\n",
        "            # Создаем запрос на загрузку файла с Google Drive\n",
        "            # Здесь fileId - это уникальный идентификатор файла на Google Drive\n",
        "            request = drive_service.files().get_media(fileId=file['id'])\n",
        "\n",
        "            # Используем BytesIO для временного хранения данных файла в памяти\n",
        "            file_io = io.BytesIO()\n",
        "\n",
        "            # Создаем объект для загрузки файла, который будет скачивать файл по частям\n",
        "            downloader = MediaIoBaseDownload(file_io, request)\n",
        "\n",
        "            # Загружаем файл частями. Это может быть необходимо для больших файлов.\n",
        "            done = False\n",
        "            while not done:\n",
        "                # Загружаем следующий кусок файла\n",
        "                _, done = downloader.next_chunk()\n",
        "\n",
        "            # После завершения загрузки перемещаем указатель в начало файла\n",
        "            file_io.seek(0)\n",
        "\n",
        "            # Чтение содержимого текстового файла. Предполагается, что файл в формате UTF-8.\n",
        "            # Если формат отличается, необходимо указать правильную кодировку в decode.\n",
        "            text = file_io.getvalue().decode('utf-8')\n",
        "\n",
        "            # Добавляем полученный текст в список texts\n",
        "            texts.append(text)\n",
        "        except Exception as e:\n",
        "            # В случае ошибки выводим сообщение об ошибке и продолжаем с следующим файлом\n",
        "            print(f\"Ошибка при обработке файла {file['name']}: {e}\")\n",
        "\n",
        "    # Возвращаем список с текстами всех обработанных файлов\n",
        "    return texts\n",
        "extracted_vacancies = extract_texts_vacancies(vacancies, drive_service)"
      ],
      "metadata": {
        "id": "qSZ2O3Bef4nb"
      },
      "execution_count": null,
      "outputs": []
    },
    {
      "cell_type": "code",
      "source": [
        "# в extracted_vacancies содержится список из 7 вакансий\n",
        "extracted_vacancies[5]"
      ],
      "metadata": {
        "colab": {
          "base_uri": "https://localhost:8080/",
          "height": 435
        },
        "id": "MTEfySWAf4qL",
        "outputId": "dbfcb752-f605-4d87-92f2-5dd496a1f8a1"
      },
      "execution_count": null,
      "outputs": [
        {
          "output_type": "execute_result",
          "data": {
            "text/plain": [
              "'NLP Engineer\\r\\nв Replika\\r\\n5 000 —\\u200d 8 000 $/мес на руки\\r\\n📍 СНГ, Европа, АзияПолная удалёнкаПомощь с переездом\\r\\nСпециализация\\r\\nData Science / Machine Learning\\r\\nУровень\\r\\nSenior\\r\\n\\r\\nReplika — самый популярный в мире чат-бот на английском. Это AI-друг, который хранит воспоминания пользователя и помогает справиться со сложными жизненными ситуациями. Replika получает более 10 млн сообщений от сотен тысяч активных пользователей каждый день. Основная аудитория — США.\\r\\n\\r\\nМы помогаем людям чувствовать себя лучше: менее одиноко и более уверенно. Основная ценность нашего продукта — качество диалога. Мы постоянно экспериментируем с тем, как сделать диалог более эмпатичным, проактивным, увлекательным и персонализированным.\\r\\n\\r\\nНаша цель — быть лидерами в области Conversational AI, постоянно улучшая ключевые характеристики open-domain диалога.\\r\\nТехнологии/инструменты\\r\\nPythonPytorchDockerTransformers\\r\\nЗачем работать в Replika\\r\\n\\r\\n    Мы делаем жизнь миллионов людей лучше: улучшаем самочувствие и психическое здоровье, спасаем от одиночества.\\r\\n    Зарабатываем и платим в долларах.\\r\\n    Зрелая стартап-атмосфера: выстроенные работающие процессы, отсутствие бюрократии, небольшая команда. Мы открыты любым идеям и обсуждениям.\\r\\n    Используем современный технологический стек.\\r\\n    Ездим на международные конференции: не только как участники, но и как спикеры.\\r\\n    Здесь вы сможете много учиться: у нас сработавшаяся команда талантливых людей с бэкграундом из Яндекса и ШАД, ФКН ВШЭ, ВМК МГУ, МФТИ и других топовых академий.\\r\\n\\r\\nЧем предстоит заниматься\\r\\n\\r\\n    Имплементировать и поддерживать в продакшене высоконагруженные NLP-модели.\\r\\n    Выдвигать, обсуждать и проверять гипотезы по улучшению качества диалога.\\r\\n    Продумывать и ставить A/B-тесты.\\r\\n    Взаимодействовать с продуктовой, бэкенд и клиент-командами.\\r\\n    Читать и рассказывать другим ML/DL/NLP/Conversational AI статьи.\\r\\n\\r\\nОжидания\\r\\n\\r\\n    Отличное понимание текущего состояния области NLP.\\r\\n    Опыт использования современных transformer-based сетей: GPT, BERT и их производных.\\r\\n    Современный DL/NLP-стек: Python, Pytorch, Transformers, Docker.\\r\\n    Хорошее знание computer science, тервера, матстата, ML и DL.\\r\\n    Умение писать чистый, оптимальный, поддерживаемый продакшен код.\\r\\n    Умение работать в команде.\\r\\n\\r\\nБудет плюсом:\\r\\n\\r\\n    Опыт обучения и инференса LLM.\\r\\n    Опыт с Triton, FasterTransformer, DeepSpeed, PyTorch Lightning.\\r\\n    Опыт оптимизации D-моделей для продакшена.\\r\\n    Понимание принципов работы современных open-domain диалоговых систем.\\r\\n    Научные публикации в области DL/NLP.\\r\\n    Опыт со Spark, SQL, C++.\\r\\n\\r\\nУсловия\\r\\n\\r\\n    Вилка $5000-$8000 (net).\\r\\n    Удаленная работа или аренда коворкинга: сочетать можно как угодно. Финансово и юридически поддерживаем релокацию за рубеж (предлагаем множество направлений: СНГ, Европа, Азия).\\r\\n    Предоставляем 35 рабочих дней отпуска в год + больничные в свободном формате.\\r\\n    Развиваем корпоративную культуру: вместе ходим в рестораны и участвуем в различных мероприятиях, предлагаем корпоративные программы для ментального здоровья, занятий спортом.\\r\\n    Оплачиваем участие в топовых конференциях 2-3 раза в год.\\r\\n    Много железа: машины с L40 и 3090/A6000 под разработку и прототипы, кластер с H100 и A100 под серьёзное обучение.\\r\\n\\r\\nПолезные материалы о компании\\r\\n\\r\\n    Выпускники Y Combinator (зима 2015).\\r\\n    Привлекли в сумме $11М инвестиций от топовых американских венчурных фондов.\\r\\n    CEO Евгения Куйда.\\r\\n    О нас в прессе: NY Times, Wall Street Journal, Guardian, Wired.\\r\\n\\r\\nAlena Ananyeva Менеджер по персоналу\\r\\nReplika\\r\\nО компании Replika\\r\\nСфера\\r\\nПродуктовая компания\\r\\nИнвестиции\\r\\n11 000 000 $\\r\\nРазмер\\r\\n51 - 100\\r\\n\\r\\nReplika — самый популярный в мире чат-бот на английском, помогающий миллионам людей улучшить своё настроение и самочувствие. Пользователи общаются с Репликой как с другом, делятся событиями из жизни и ведут эмпатичные разговоры. Более 10 миллионов пользователей из США, Бразилии, Индии, Великобритании, Канады, Германии. Первые из СНГ, кто попал в Y Combinator. Создатели привлекли $11М инвестиций от топовых американских венчурных фондов. У компании два офиса: HQ в Сан-Франциско и в Москве.'"
            ],
            "application/vnd.google.colaboratory.intrinsic+json": {
              "type": "string"
            }
          },
          "metadata": {},
          "execution_count": 10
        }
      ]
    },
    {
      "cell_type": "markdown",
      "source": [
        "Таким образом, у нас есть резюме, инструкция по написанию сопроводительного письма и тексты 7 вакансий. На основании этого сгенерируем сопроводительные письма для каждой вакансии."
      ],
      "metadata": {
        "id": "Uq945_W-jYar"
      }
    },
    {
      "cell_type": "code",
      "source": [
        "system_promt = '''\n",
        "Ты HR-специалист и должен написать сопроводительное письмо к ВАКАНСИИ используя данные из РЕЗЮМЕ.\n",
        "В сопроводительном письме обязательно обрати внимание на ключевые навыки, языки программирования, библиотеки и методы исследования, совпадающие в ВАКАНСИИ и в РЕЗЮМЕ.\n",
        "Подчеркни насколько опыт соискателя в РЕЗЮМЕ подходит требованиям ВАКАНСИИ.\n",
        "Напиши текст не меньше 180 и не больше 220 слов.\n",
        "При написании письма придерживайся следующей инструкции по написанию сопроводительных писем:\n",
        "\n",
        "'''\n",
        "system_united = system_promt + general_instruction"
      ],
      "metadata": {
        "id": "7joFif6vf4vn"
      },
      "execution_count": null,
      "outputs": []
    },
    {
      "cell_type": "code",
      "source": [
        "system_united"
      ],
      "metadata": {
        "colab": {
          "base_uri": "https://localhost:8080/",
          "height": 227
        },
        "id": "8lgPlbzkleIE",
        "outputId": "b80b239d-1142-45db-9d79-7ea8ba3c095f"
      },
      "execution_count": null,
      "outputs": [
        {
          "output_type": "execute_result",
          "data": {
            "text/plain": [
              "'\\nТы HR-специалист и должен написать сопроводительное письмо к ВАКАНСИИ используя данные из РЕЗЮМЕ.\\nВ сопроводительном письме обязательно обрати внимание на ключевые навыки, языки программирования, библиотеки и методы исследования, совпадающие в ВАКАНСИИ и в РЕЗЮМЕ.\\nПодчеркни насколько опыт соискателя в РЕЗЮМЕ подходит требованиям ВАКАНСИИ.\\nНапиши текст не меньше 180 и не больше 220 слов.\\nПри написании письма придерживайся следующей инструкции по написанию сопроводительных писем:\\n\\nИнструкция по написанию сопроводительного письма для IT-специалиста\\n\\n1. Приветствие\\n   - Начните с приветствия, используя форму приветствия, соответствующую стилю вакансии.\\n   - Избегайте нестандартных приветствий, таких как \"Уважаемый(ая)\".\\n\\n2. Интерес к вакансии\\n   - Подчеркните свой интерес к вакансии и компании.\\n   - Укажите, почему вы хотите работать именно в этой компании.\\n\\n3. Профессиональные навыки и опыт\\n   - Кратко опишите ваши профессиональные навыки и опыт, соответствующие требованиям вакансии.\\n   - Укажите проекты, в которых вы участвовали, и достижения на предыдущих местах работы.\\n\\n4. Мотивация и энтузиазм\\n   - Подчеркните свою мотивацию и энтузиазм работать в данной компании.\\n   - Укажите, что вам нравится в культуре компании, проектах и направлении деятельности.\\n\\n5. Грамотность и стиль\\n   - Проверьте письмо на грамматические и орфографические ошибки.\\n   - Соблюдайте деловой стиль общения, но при необходимости адаптируйте его под стиль вакансии.\\n\\n6. Дополнительные преимущества\\n   - Укажите дополнительные преимущества, такие как смежный опыт работы или редкие и ценные качества.\\n\\n7. Завершение\\n   - Завершите письмо вежливым прощанием и призывом к дальнейшему взаимодействию.\\n\\n8. Длина и формат\\n   - Соблюдайте краткость: суммарное время прочтения письма не должно превышать 30 секунд.\\n   - Оформляйте письмо в печатном виде, желательно в PDF-формате, с аккуратным и структурированным содержанием.\\n\\nСледуя этой инструкции, вы сможете написать эффективное сопроводительное письмо, которое увеличит ваши шансы на получение работы в IT-сфере.'"
            ],
            "application/vnd.google.colaboratory.intrinsic+json": {
              "type": "string"
            }
          },
          "metadata": {},
          "execution_count": 48
        }
      ]
    },
    {
      "cell_type": "code",
      "source": [
        "cover_letters = []\n",
        "# Проходим по каждому элементу списка\n",
        "for vacancy in extracted_vacancies:\n",
        "    # Формируем текст запроса, объединяя текст резюме и описание вакансии\n",
        "    request_text = 'ТЕКСТ РЕЗЮМЕ: ' + resume + ' ТЕКСТ ВАКАНСИИ: ' + vacancy\n",
        "\n",
        "    # Используем функцию answer_index для получения сопроводительного письма\n",
        "    cl = answer_index(system_united, request_text, temp=0)\n",
        "\n",
        "    # Добавляем сопроводительное письмо в список\n",
        "    cover_letters.append(cl)"
      ],
      "metadata": {
        "id": "EuArqbFZf4yO"
      },
      "execution_count": null,
      "outputs": []
    },
    {
      "cell_type": "code",
      "source": [
        "# вот, какие получились сопроводительные по каждой вакансии:\n",
        "cover_letters"
      ],
      "metadata": {
        "colab": {
          "base_uri": "https://localhost:8080/"
        },
        "id": "aewM8B56os0Z",
        "outputId": "732452f1-9f74-4134-8d98-755d2650c625"
      },
      "execution_count": null,
      "outputs": [
        {
          "output_type": "execute_result",
          "data": {
            "text/plain": [
              "['Привет,\\n\\nЯ заинтересован в возможности присоединиться к команде Ventra в качестве Data Scientist. Мой опыт работы в XYZ Corp в области анализа данных и машинного обучения, а также мои навыки в Python, R, SQL, и библиотеках Pandas, NumPy, и Scikit-learn, делают меня подходящим кандидатом для этой роли.\\n\\nВ XYZ Corp я занимался проектированием и реализацией моделей предсказательного анализа, обработкой больших данных для выявления тенденций, и построением алгоритмов машинного обучения с использованием Python, R, SQL, и Tableau. Мой опыт также включает работу с библиотеками Pandas, NumPy, и Scikit-learn, а также знание статистических методов и моделей. Кроме того, я имею базовые знания Spark и опыт работы с большими данными.\\n\\nЯ увлечен возможностью работать в Ventra, особенно потому что компания предлагает широкий спектр услуг по аутсорсингу бизнес-процессов и управлению проектами, что позволит мне применить мои навыки в разнообразных областях. Я также заинтересован в возможности работы с опытными разработчиками, аналитиками данных, и data инженерами, а также в использовании Azure стека технологий.\\n\\nЯ уверен, что мой опыт и навыки позволят мне внести ценный вклад в команду Ventra, и я с нетерпением жду возможности обсудить, как я могу принести пользу вашей компании.\\n\\nС уважением,\\nМаксим Иванов',\n",
              " 'Привет,\\n\\nЯ заинтересован в возможности присоединиться к команде innoflow.ai в качестве AI/GPT/LLM-разработчика. Мой опыт в области Data Science и машинного обучения, а также навыки работы с Python, R, и SQL, делают меня подходящим кандидатом для данной вакансии.\\n\\nНа протяжении последнего года я работал в XYZ Corp, где занимался проектированием и реализацией моделей предсказательного анализа, обработкой и анализом больших данных с использованием Python, R, SQL и Tableau, а также строил и отлаживал алгоритмы машинного обучения и AI. Мой опыт также включает работу с библиотеками Pandas, NumPy, Scikit-learn, Matplotlib, Seaborn, а также знание статистических методов и моделей.\\n\\nЯ заинтересован в разработке диалоговых ботов с длинным флоу и интеллектуальных инструментов, работающих с данными и выборками, что соответствует требованиям вашей вакансии. Мой опыт работы с Python, а также глубокое понимание принципов работы и построения AI/GPT-решений, делают меня подходящим кандидатом для вашей команды.\\n\\nЯ также заинтересован в условиях проектной удаленной работы, и готов приступить к работе на full-time занятости на время разработки и развития проекта.\\n\\nС нетерпением жду возможности обсудить предлагаемую должность и присоединиться к команде innoflow.ai. Спасибо за рассмотрение моего резюме.\\n\\nС уважением,\\nМаксим Иванов',\n",
              " 'Привет,\\n\\nЯ заинтересован в возможности присоединиться к команде Data Scientist в компании Дигинавис. Мой опыт в области анализа данных, разработке моделей предсказаний и машинном обучении, а также мои навыки в Python, R, SQL, и библиотеках Pandas, NumPy, и Scikit-learn, делают меня подходящим кандидатом для этой роли.\\n\\nНа протяжении моей работы в XYZ Corp, я занимался проектированием и реализацией моделей предсказательного анализа, обработкой и анализом больших данных, а также строительством и отладкой алгоритмов машинного обучения и AI. Мой опыт также включает работу с библиотеками, такими как Matplotlib, Seaborn, и Tableau, что позволяет мне визуализировать данные для выявления тенденций. Кроме того, я имею опыт работы с Hadoop и Spark, что соответствует вашему технологическому стеку.\\n\\nЯ увлечен возможностью улучшать торговые стратегии и разрабатывать новый функционал для улучшения процессов создания и запуска стратегий вместе с вашей командой. Мне также интересно применять мои знания статистических методов и моделей для решения задач, связанных с временными рядами.\\n\\nЯ вижу, что компания Дигинавис предлагает комфортные условия труда и развития, что также мотивирует меня подать заявку на эту вакансию. Я готов обсудить возможность моего присоединения к вашей команде и внести свой вклад в достижение ваших целей.\\n\\nС нетерпением жду возможности обсудить предлагаемую должность. Спасибо за рассмотрение моего резюме.\\n\\nС уважением,\\nМаксим Иванов',\n",
              " 'Привет,\\n\\nЯ, Максим Иванов, заинтересован в возможности присоединиться к команде Data Scientist в Росбанке. Мой годовой опыт работы в области анализа данных и машинного обучения, а также мои навыки в Python, SQL, и Big Data Tools делают меня подходящим кандидатом для этой вакансии.\\n\\nВ течение моей работы в XYZ Corp, я занимался проектированием и реализацией моделей предсказательного анализа, обработкой и анализом больших данных с использованием Python, R, SQL и Tableau, а также строительством и отладкой алгоритмов машинного обучения и AI. Мой опыт в разработке моделей склонности клиента к продуктам и сервисам, а также внедрении моделей в пилотные процессы, соответствует требованиям вакансии.\\n\\nЯ увлечен возможностью работать над амбициозными проектами в Росбанке и наслаждаться балансом между работой и личной жизнью. Я также ценю возможность полностью дистанционной работы, что позволит мне эффективно выполнять поставленные задачи из любой точки.\\n\\nЯ уверен, что мой опыт и навыки в области Data Science могут принести значительную пользу вашей компании, и я с нетерпением жду возможности обсудить предлагаемую должность.\\n\\nС уважением,\\nМаксим Иванов',\n",
              " 'Привет,\\n\\nЯ заинтересован в возможности присоединиться к команде Яндекса в качестве ML-разработчика в группу международного синтеза речи. Мой опыт работы в области анализа данных, разработки моделей предсказаний и машинного обучения, а также мои навыки в Python, R, SQL, и библиотеках машинного обучения, включая Scikit-learn, делают меня подходящим кандидатом для этой роли.\\n\\nВ течение года работы в качестве Junior Data Scientist в XYZ Corp, я занимался проектированием и реализацией моделей предсказательного анализа, обработкой и анализом больших данных с использованием Python, R, SQL и Tableau, а также строительством и отладкой алгоритмов машинного обучения и AI. Мой опыт также включает работу с библиотеками Pandas, NumPy, Matplotlib, Seaborn, а также знание статистических методов и моделей.\\n\\nЯ увлечен возможностью присоединиться к команде, которая занимается исследованиями unsupervised-подходов в голосе и мультиязычными моделями, так как это соответствует моему желанию углубить навыки и развиться в области Data Science. Я также заинтересован в возможности работать с современными видеокартами для исследований и внедрения, а также в улучшении качества синтеза речи.\\n\\nЯ уверен, что мой опыт и навыки позволят мне внести ценный вклад в вашу команду, и я с нетерпением жду возможности обсудить предлагаемую должность.\\n\\nС уважением,\\nМаксим Иванов',\n",
              " 'Привет,\\n\\nЯ заинтересован в возможности присоединиться к команде Replika в качестве NLP Engineer. Мой опыт работы в области Data Science и машинного обучения, а также мои навыки в Python, R, SQL, и алгоритмах машинного обучения, делают меня подходящим кандидатом для этой вакансии.\\n\\nВ течение года я работал в качестве Junior Data Scientist в XYZ Corp, где занимался проектированием и реализацией моделей предсказательного анализа, обработкой и анализом больших данных с использованием Python, R, SQL и Tableau, а также строительством и отладкой алгоритмов машинного обучения и AI. Мой опыт также включает работу с библиотеками Pandas, NumPy, Matplotlib, Seaborn, а также знание статистических методов и моделей.\\n\\nЯ увлечен возможностью присоединиться к Replika, так как я разделяю вашу цель помогать людям чувствовать себя лучше и улучшать их психическое здоровье. Я также впечатлен вашими технологическими достижениями и открытостью к идеям и обсуждениям.\\n\\nМне нравится ваша зрелая стартап-атмосфера, использование современного технологического стека, а также возможность участвовать в международных конференциях. Я уверен, что мой опыт в области NLP и машинного обучения, а также мои коммуникативные навыки, позволят мне внести ценный вклад в вашу команду.\\n\\nС нетерпением жду возможности обсудить предлагаемую должность и присоединиться к Replika. Спасибо за рассмотрение моего резюме.\\n\\nС уважением,\\nМаксим Иванов',\n",
              " 'Привет!\\n\\nМеня зовут Максим Иванов, и я заинтересован в возможности присоединиться к команде МегаФона в качестве Middle Data Scientist. Ваше стремление делать города умнее, роботов шустрее и сервисы безопаснее, а также создание крутого мобильного приложения для абонентов МегаФона вызывают у меня искренний интерес.\\n\\nМой годовой опыт работы в качестве Junior Data Scientist в XYZ Corp позволил мне развить навыки анализа больших данных, разработки моделей предсказательного анализа и машинного обучения. Я имею опыт работы с Python, SQL, а также библиотеками Pandas, NumPy, Scikit-learn, а также инструментами визуализации данных, такими как Tableau. Кроме того, я обладаю знаниями статистических методов и моделей, что позволяет мне эффективно анализировать данные для поиска инсайтов по профилю клиента, а также разрабатывать модели машинного обучения на больших данных.\\n\\nЯ заинтересован в возможности применить свои навыки и опыт для решения задач, представленных в вашей вакансии, таких как персонализация офферов для клиентской базы, предсказание потребления и конверсии, а также участие в дизайне и анализе А/В тестов. Мне также интересно углубить свои знания в области Big Data Tools, таких как Spark и Hadoop, что позволит мне эффективно выполнять задачи по настройке Data Quality и Model Quality для ML моделей.\\n\\nЯ уверен, что мой опыт и навыки позволят мне внести значительный вклад в вашу команду, и я с нетерпением жду возможности обсудить предлагаемую должность.\\n\\nС уважением,\\nМаксим Иванов']"
            ]
          },
          "metadata": {},
          "execution_count": 51
        }
      ]
    },
    {
      "cell_type": "markdown",
      "source": [
        "# Оценка соответствия резюме требованиям вакансии"
      ],
      "metadata": {
        "id": "NkVewO9OqGBb"
      }
    },
    {
      "cell_type": "markdown",
      "source": [
        "При помощи инструкции оценим, насколько резюме сосикателя соответствует требованиям вакансии по 5-бальной шкале с пояснением причин."
      ],
      "metadata": {
        "id": "jXRDaWlru1Hw"
      }
    },
    {
      "cell_type": "code",
      "source": [
        "system_promt_match = '''\n",
        "Ты - опытный HR, который очень точно умеет оценивать соответствия РЕЗЮМЕ требованиям ВАКАНСИИ.\n",
        "Твоя задача - оценить по шкале от 0 до 100 соответствие РЕЗЮМЕ требованиям ВАКАНСИИ по следующим параметрам:\n",
        "\n",
        "1. Знание языков программирования, фреймворков, библиотек, инструментов и методов.\n",
        "Отрази насколько знания указанные в РЕЗЮМЕ соответствуют требованиям в ВАКАНСИИ.\n",
        "\n",
        "2. Навыки и компетенции.\n",
        "Важно соответствие навыков и компетенции в РЕЗЮМЕ, таких как умение работать в команде,\n",
        "общие разработческие навыки, аналитическое мышление и способность к самообучению, требованиям указанным в ВАКАНСИИ\n",
        "\n",
        "3. Проекты и достижения: информация о проектах, выполненных в рамках обучения или личных инициатив\n",
        "Насколько участие в проектах, соревнованиях, конференциях или других мероприятиях указанных в РЕЗЮМЕ\n",
        "соответствует направлению работ в ВАКАНСИИ.\n",
        "\n",
        "4. Опыт работы: РЕЗЮМЕ должно отражать соответствующий опыт работы, который требуется для данной ВАКАНСИИ.\n",
        "Отрази полноту соответствия опыта работы, выполняемых задач и достижений в РЕЗЮМЕ требуемым обязанностям по работе в ВАКАНСИИ.\n",
        "\n",
        "5. Образование: Насколько полученное образование в РЕЗЮМЕ подходит под требования ВАКАНСИИ.\n",
        "По каждому пункту оцени соответствие по шкале от 0 до 100, где 0 - полное несоответствие резюме соискателя требованиям вакансии,\n",
        "а 100 - это полное соответствие.\n",
        "ИТОГО: Поставь итоговую оценку и прокомментируй свое решение.\n",
        "Напиши, где РЕЗЮМЕ соответствует ВАКАНСИИ, а где РЕЗЮМЕ не соответствует ВАКАНСИИ.\n",
        "'''"
      ],
      "metadata": {
        "id": "QHkTpvkmsWqG"
      },
      "execution_count": null,
      "outputs": []
    },
    {
      "cell_type": "code",
      "source": [
        "match_results = []\n",
        "# Проходим по каждому элементу списка\n",
        "for vacancy in extracted_vacancies:\n",
        "    # Формируем текст запроса, объединяя текст резюме и описание вакансии\n",
        "    request_text = 'ТЕКСТ РЕЗЮМЕ: ' + resume + ' ТЕКСТ ВАКАНСИИ: ' + vacancy\n",
        "\n",
        "    # Используем функцию answer_index для получения сопроводительного письма\n",
        "    res = answer_index(system_promt_match, request_text, temp=0)\n",
        "\n",
        "    # Добавляем сопроводительное письмо в список\n",
        "    match_results.append(res)"
      ],
      "metadata": {
        "id": "7BmdJP-dsWs9"
      },
      "execution_count": null,
      "outputs": []
    },
    {
      "cell_type": "code",
      "source": [
        "# по каждой вакансии можно посмотреть отчет о соответствии\n",
        "match_results"
      ],
      "metadata": {
        "colab": {
          "base_uri": "https://localhost:8080/"
        },
        "id": "zmgx7OXFsWvi",
        "outputId": "6e695ced-fac9-4637-fcb3-f08da909dd11"
      },
      "execution_count": null,
      "outputs": [
        {
          "output_type": "execute_result",
          "data": {
            "text/plain": [
              "['Оценка соответствия резюме требованиям вакансии:\\n\\n1. Знание языков программирования, фреймворков, библиотек, инструментов и методов.\\n   - Python, R, SQL - соответствует\\n   - Pandas, NumPy, Scikit-Learn - соответствует\\n   - Spark, Pyspark - не указано в резюме\\n   - PyTorch, TensorFlow - не указано в резюме\\n   - Базовые навыки DevOps (Docker, Kubernetes и др.) - не указано в резюме\\n   - Data Factory, Airflow - не указано в резюме\\n   - Опыт проработки задачи от бизнес-постановки до математической формулировки и реализации в коде - частично соответствует\\n   - Умение презентовать результаты анализа - не указано в резюме\\n   - Опыт работы в FMCG или телеком компании - не указано в резюме\\nОценка: 60\\n\\n2. Навыки и компетенции.\\n   - Навыки работы с данными, алгоритмы машинного обучения, визуализация данных - соответствует\\n   - Внимание к деталям, способность работать над мультидисциплинарными проектами, быстрое обучение и адаптация к новым технологиям, хорошие коммуникативные навыки - соответствует\\n   - Аналитическое мышление и способность к самообучению - соответствует\\nОценка: 90\\n\\n3. Проекты и достижения.\\n   - Опыт работы в анализе данных, разработке моделей предсказаний и машинном обучении - соответствует\\n   - Участие в проектах, соревнованиях, конференциях - не указано в резюме\\nОценка: 50\\n\\n4. Опыт работы.\\n   - Опыт работы в области Data Science - соответствует\\n   - Задачи в опыте работы соответствуют требованиям вакансии - частично соответствует\\nОценка: 70\\n\\n5. Образование.\\n   - Бакалавр компьютерных наук - соответствует\\nОценка: 100\\n\\nИтоговая оценка: (60+90+50+70+100)/5 = 74\\n\\nКомментарий: Резюме соискателя имеет определенное соответствие требованиям вакансии, особенно в части навыков и образования. Однако, отсутствие опыта работы с некоторыми инструментами и методами, а также участие в проектах и конференциях, снижают общую оценку. Рекомендуется дополнительно подтвердить опыт работы и участие в проектах, чтобы увеличить шансы на успешное прохождение отбора.',\n",
              " 'Оценка соответствия резюме требованиям вакансии:\\n\\n1. Знание языков программирования, фреймворков, библиотек, инструментов и методов.\\n   - Python, R, SQL - соответствует\\n   - Scikit-learn, Pandas, NumPy, Matplotlib, Seaborn, Tableau - соответствует\\n   - Hadoop, Spark - не указаны в резюме\\n   - LangChain, LLaMa-index - не указаны в резюме\\n   Оценка: 70\\n\\n2. Навыки и компетенции.\\n   - Навыки анализа данных, способность работать над мультидисциплинарными проектами - соответствует\\n   - Опыт коммерческой разработки на Python, глубокое понимание принципов работы и построения AI/GPT – решений - соответствует\\n   - Навыки/опыт разработки на других языках - не указаны в резюме\\n   Оценка: 80\\n\\n3. Проекты и достижения.\\n   - Опыт работы в области Data Science - соответствует\\n   - Кейсы по разработке сложных AI/GPT решений - не указаны в резюме\\n   Оценка: 60\\n\\n4. Опыт работы.\\n   - Опыт работы в области Data Science - соответствует\\n   - Опыт коммерческой разработки на Python - соответствует\\n   - Опыт работы с LangChain, LLaMa-index и др. - не указан в резюме\\n   Оценка: 70\\n\\n5. Образование.\\n   - Бакалавр компьютерных наук - соответствует\\n   Оценка: 100\\n\\nИтоговая оценка: (70+80+60+70+100)/5 = 76\\n\\nРезюме соответствует вакансии в области Data Science и разработки AI/GPT решений на Python, однако не хватает опыта работы с конкретными инструментами (LangChain, LLaMa-index) и опыта разработки на других языках. Также необходимо больше информации о кейсах по разработке сложных AI/GPT решений.',\n",
              " 'Оценка соответствия резюме требованиям вакансии:\\n\\n1. Знание языков программирования, фреймворков, библиотек, инструментов и методов.\\n   - Python, R, SQL - соответствует\\n   - Libraries: pandas, numpy, tensorflow, jax, catboost, tsfresh - соответствует\\n   - Git, linux/bash - не указано в резюме\\n   - В целом, знание языков и библиотек соответствует, но не хватает упоминания опыта работы с Git и linux/bash. Оценка: 80\\n\\n2. Навыки и компетенции.\\n   - Навыки анализа данных, машинного обучения, визуализации данных - соответствует\\n   - Умение работать в команде, быстрое обучение, адаптация к новым технологиям - соответствует\\n   - Оценка: 90\\n\\n3. Проекты и достижения.\\n   - Опыт работы в области анализа данных и машинного обучения - соответствует\\n   - Участие в соревнованиях, конференциях - не указано в резюме\\n   - Оценка: 70\\n\\n4. Опыт работы.\\n   - Опыт работы в области анализа данных и машинного обучения - соответствует\\n   - Полнота соответствия опыта работы требованиям вакансии - частично соответствует\\n   - Оценка: 80\\n\\n5. Образование.\\n   - Бакалавр компьютерных наук - не соответствует требованиям вакансии\\n   - Оценка: 50\\n\\nИтоговая оценка: 74\\n\\nРезюме соответствует вакансии в части знания языков программирования, навыков и компетенций, опыта работы. Однако, не соответствует в части образования и участия в соревнованиях, конференциях. Также, не хватает упоминания опыта работы с Git и linux/bash.',\n",
              " 'Оценка соответствия резюме требованиям вакансии:\\n\\n1. Знание языков программирования, фреймворков, библиотек, инструментов и методов.\\n   - Python: РЕЗЮМЕ соответствует, так как указано в навыках.\\n   - SQL: РЕЗЮМЕ соответствует, так как указано в навыках.\\n   - Data Science, Big Data, Spark, Машинное обучение, Математическая статистика, Machine Learning: РЕЗЮМЕ соответствует, так как указаны в навыках и опыте работы.\\n\\n2. Навыки и компетенции.\\n   - Умение работать в команде: Не указано в резюме.\\n   - Общие разработческие навыки: РЕЗЮМЕ соответствует, так как указан опыт работы и навыки.\\n   - Аналитическое мышление и способность к самообучению: РЕЗЮМЕ соответствует, так как указаны сильные стороны.\\n\\n3. Проекты и достижения.\\n   - Участие в проектах, соревнованиях, конференциях: Не указано в резюме.\\n\\n4. Опыт работы.\\n   - РЕЗЮМЕ соответствует, так как указан опыт работы в области Data Science.\\n\\n5. Образование.\\n   - РЕЗЮМЕ соответствует, так как указано образование в области компьютерных наук.\\n\\nИтоговая оценка: 75\\n\\nРЕЗЮМЕ соответствует вакансии в части знания языков программирования, фреймворков, библиотек, инструментов и методов, а также опыта работы и образования. Однако, не хватает информации о умении работать в команде и участии в проектах, соревнованиях, конференциях, что снижает общую оценку.',\n",
              " 'Оценка соответствия резюме требованиям вакансии:\\n\\n1. Знание языков программирования, фреймворков, библиотек, инструментов и методов.\\n   - Python, R, SQL - соответствует\\n   - PyTorch, Tensorflow - не указаны в резюме\\n   - NLP, Machine Learning, Deep Learning - указаны в резюме\\n   Оценка: 60\\n\\n2. Навыки и компетенции.\\n   - Умение работать в команде - не указано в резюме\\n   - Общие разработческие навыки - указаны в резюме\\n   - Аналитическое мышление и способность к самообучению - указаны в резюме\\n   Оценка: 70\\n\\n3. Проекты и достижения.\\n   - Участие в проектах по анализу данных и машинному обучению - соответствует\\n   - Участие в проектах по голосовым технологиям, NLP - не указано в резюме\\n   Оценка: 50\\n\\n4. Опыт работы.\\n   - Опыт работы в области анализа данных и машинного обучения - соответствует\\n   - Опыт работы в голосовых технологиях, NLP - не указан в резюме\\n   Оценка: 60\\n\\n5. Образование.\\n   - Бакалавр компьютерных наук - соответствует\\n   Оценка: 100\\n\\nИтоговая оценка: (60+70+50+60+100)/5 = 68\\n\\nРезюме соответствует вакансии в части образования и некоторых навыков, но не соответствует опыту работы и проектам, связанным с голосовыми технологиями и NLP. Также отсутствуют некоторые ключевые навыки, такие как PyTorch и Tensorflow. Итоговая оценка 68 показывает, что резюме имеет некоторое соответствие требованиям вакансии, но требуется дополнительный опыт и знания для полного соответствия.',\n",
              " 'Оценка соответствия резюме требованиям вакансии:\\n\\n1. Знание языков программирования, фреймворков, библиотек, инструментов и методов.\\n   - Python, R, SQL - 100\\n   - Pandas, NumPy, Scikit-learn, Matplotlib, Seaborn, Tableau - 100\\n   - Hadoop, Spark - 50 (не указан опыт работы с этими инструментами)\\n   - Статистические методы и модели - 100\\n   - Transformer-based сети, Pytorch, Docker - 0 (отсутствуют в резюме)\\n   - GPT, BERT - 0 (отсутствуют в резюме)\\n\\n2. Навыки и компетенции.\\n   - Навыки анализа данных и проблемного решения - 100\\n   - Умение работать в команде - 100\\n   - Аналитическое мышление и способность к самообучению - 100\\n   - Хорошие коммуникативные навыки - 100\\n\\n3. Проекты и достижения.\\n   - Опыт работы в анализе данных, разработке моделей предсказаний и машинном обучении - 100\\n   - Участие в проектах с использованием Python, R, SQL и Tableau - 100\\n   - Отсутствует информация о участии в проектах, связанных с NLP и Conversational AI - 0\\n\\n4. Опыт работы.\\n   - Опыт работы в области Data Science - 100\\n   - Опыт работы с NLP и Conversational AI - 0\\n\\n5. Образование.\\n   - Бакалавр компьютерных наук - 100\\n\\nИтоговая оценка: 73\\n\\nРезюме соответствует вакансии в части общих навыков анализа данных, работы с Python, R, SQL, аналитического мышления, коммуникативных навыков и образования. Однако, отсутствует опыт работы с NLP, Conversational AI, transformer-based сетями, Pytorch, Docker, GPT, BERT, что снижает общую оценку. Также не указан опыт работы с Hadoop, Spark, что также не соответствует требованиям вакансии.',\n",
              " 'Оценка соответствия резюме требованиям вакансии:\\n\\n1. Знание языков программирования, фреймворков, библиотек, инструментов и методов.\\n   - Python: 100 (соответствует)\\n   - SQL: 100 (соответствует)\\n   - Spark: 0 (не указан опыт работы с Spark)\\n   - Hadoop: 0 (не указан опыт работы с Hadoop)\\n   - Pandas: 100 (соответствует)\\n   - Big Data: 50 (указан опыт работы с большими данными, но не конкретно с Big Data инструментами)\\n\\n2. Навыки и компетенции.\\n   - Умение работать в команде: 100 (соответствует)\\n   - Общие разработческие навыки: 100 (соответствует)\\n   - Аналитическое мышление: 100 (соответствует)\\n   - Способность к самообучению: 100 (соответствует)\\n\\n3. Проекты и достижения.\\n   - Участие в проектах по анализу данных и машинному обучению: 100 (соответствует)\\n\\n4. Опыт работы.\\n   - Опыт работы в области Data Science: 100 (соответствует)\\n   - Работа с большими данными и машинным обучением: 100 (соответствует)\\n\\n5. Образование.\\n   - Высшее образование в области компьютерных наук: 100 (соответствует)\\n\\nИтоговая оценка: 90\\n\\nРезюме соответствует вакансии в большинстве аспектов, но не указан опыт работы с конкретными инструментами Big Data (Spark, Hadoop), что снижает общую оценку. Также стоит отметить, что наличие ученой степени в области математики, теории вероятности и мат. статистики является дополнительным плюсом по вакансии, но в резюме этого нет.']"
            ]
          },
          "metadata": {},
          "execution_count": 23
        }
      ]
    },
    {
      "cell_type": "markdown",
      "source": [
        "Попробуем запустить то же самое на gpt 4, оценим результаты"
      ],
      "metadata": {
        "id": "IhzQosH0qWIJ"
      }
    },
    {
      "cell_type": "code",
      "source": [
        "def answer_index_4(system, topic, temp=0):\n",
        "\n",
        "    messages = [\n",
        "        {\"role\": \"system\", \"content\": system},\n",
        "        {\"role\": \"user\", \"content\": topic}\n",
        "    ]\n",
        "    completion = client.chat.completions.create(\n",
        "        model=\"gpt-4-0613\",\n",
        "        messages=messages,\n",
        "        temperature=temp\n",
        "    )\n",
        "    answer = completion.choices[0].message.content\n",
        "    return answer  # возвращает ответ"
      ],
      "metadata": {
        "id": "rlskoc8OqLyG"
      },
      "execution_count": null,
      "outputs": []
    },
    {
      "cell_type": "code",
      "source": [
        "# при помощи tqdm выведем прогресс выполнения ячейки\n",
        "from tqdm import tqdm\n",
        "match_results_gpt4 = []\n",
        "# Проходим по каждому элементу списка\n",
        "for vacancy in tqdm(extracted_vacancies):\n",
        "    # Формируем текст запроса, объединяя текст резюме и описание вакансии\n",
        "    request_text = 'ТЕКСТ РЕЗЮМЕ: ' + resume + ' ТЕКСТ ВАКАНСИИ: ' + vacancy\n",
        "\n",
        "    # Используем функцию answer_index для получения сопроводительного письма\n",
        "    res = answer_index_4(system_promt_match, request_text, temp=0)\n",
        "\n",
        "    # Добавляем сопроводительное письмо в список\n",
        "    match_results_gpt4.append(res)"
      ],
      "metadata": {
        "colab": {
          "base_uri": "https://localhost:8080/"
        },
        "id": "-mk6YWump8Dn",
        "outputId": "481a4542-2fb1-4a36-f1eb-30313f34e759"
      },
      "execution_count": null,
      "outputs": [
        {
          "output_type": "stream",
          "name": "stderr",
          "text": [
            "100%|██████████| 7/7 [10:07<00:00, 86.84s/it]\n"
          ]
        }
      ]
    },
    {
      "cell_type": "code",
      "source": [
        "# результаты использования gpt 4 гораздо точнее соответствуют инструкциям\n",
        "match_results_gpt4"
      ],
      "metadata": {
        "colab": {
          "base_uri": "https://localhost:8080/"
        },
        "id": "fZvCXmcXp8Gb",
        "outputId": "1faddd4a-4ac8-4c91-b689-e01f3b508389"
      },
      "execution_count": null,
      "outputs": [
        {
          "output_type": "execute_result",
          "data": {
            "text/plain": [
              "['1. Знание языков программирования, фреймворков, библиотек, инструментов и методов: 70/100\\nВ резюме указаны Python, R, SQL, Pandas, NumPy, Scikit-learn, Hadoop, Spark, что в целом соответствует требованиям вакансии. Однако, в вакансии также указаны PyTorch, TensorFlow, Data Factory, Airflow, Docker, Kubernetes, которые в резюме не упоминаются.\\n\\n2. Навыки и компетенции: 80/100\\nВ резюме указаны навыки анализа данных, проблемного решения, внимание к деталям, способность работать над мультидисциплинарными проектами, быстрое обучение и адаптация к новым технологиям, хорошие коммуникативные навыки. Это в целом соответствует требованиям вакансии, однако, в вакансии также указаны навыки автоматизации пайплайнов данных и базовые навыки DevOps, которые в резюме не упоминаются.\\n\\n3. Проекты и достижения: 50/100\\nВ резюме указан опыт работы в компании XYZ Corp, где выполнялись задачи по проектированию и реализации моделей предсказательного анализа, обработке и анализу больших данных, строительству и отладке алгоритмов машинного обучения и AI. Однако, конкретные проекты и достижения не указаны, что затрудняет оценку их соответствия требованиям вакансии.\\n\\n4. Опыт работы: 80/100\\nВ резюме указан годовой опыт работы на позиции Junior Data Scientist, что в целом соответствует требованиям вакансии (опыт работы на позиции Data Scientist >1 года). Однако, в вакансии указано, что опыт работы в FMCG или телеком компании будет преимуществом, а такой опыт в резюме не указан.\\n\\n5. Образование: 100/100\\nВ резюме указано образование бакалавра компьютерных наук, что полностью соответствует требованиям вакансии.\\n\\nИТОГО: 76/100\\nВ целом, резюме соответствует вакансии, но есть некоторые пробелы в знаниях и навыках, а также отсутствуют конкретные проекты и достижения. Также стоит отметить, что в резюме не указан опыт работы в FMCG или телеком компании, который является преимуществом по вакансии.',\n",
              " '1. Знание языков программирования, фреймворков, библиотек, инструментов и методов: 40/100\\nВ резюме указано, что кандидат владеет Python, R и SQL, а также имеет опыт работы с Pandas, NumPy, Scikit-learn, Matplotlib, Seaborn, Tableau, Hadoop и Spark. Однако в вакансии требуется опыт работы с GPT/LLM, LangChain, LLaMa-index, Django, Celery, Flask/FastAPI, Docker, Git, Linux, что не указано в резюме.\\n\\n2. Навыки и компетенции: 60/100\\nКандидат обладает навыками анализа данных, проблемного решения, внимания к деталям, работы над мультидисциплинарными проектами, быстрого обучения и адаптации к новым технологиям, а также хорошими коммуникативными навыками. Однако в вакансии требуется опыт анализа задач и написания качественного ТЗ, а также опыт работы с инструментами построения качественного API и построения админ-панелей, что не указано в резюме.\\n\\n3. Проекты и достижения: 50/100\\nКандидат имеет опыт работы над проектами, связанными с анализом данных, разработкой моделей предсказаний и машинным обучением. Однако в вакансии требуется опыт разработки сложных AI/GPT решений и диалоговых ботов с длинным флоу, что не указано в резюме.\\n\\n4. Опыт работы: 50/100\\nКандидат имеет годовой опыт работы в качестве Junior Data Scientist, в рамках которого занимался проектированием и реализацией моделей предсказательного анализа, обработкой и анализом больших данных, строительством и отладкой алгоритмов машинного обучения и AI. Однако в вакансии требуется опыт коммерческой разработки на Python и разработки сложных AI/GPT решений, что не указано в резюме.\\n\\n5. Образование: 100/100\\nКандидат имеет бакалаврскую степень в области компьютерных наук, что полностью соответствует требованиям вакансии.\\n\\nИТОГО: 60/100\\nРезюме кандидата частично соответствует требованиям вакансии. Он имеет необходимое образование и некоторые требуемые навыки и компетенции, однако ему не хватает опыта работы с конкретными технологиями и инструментами, указанными в вакансии, а также опыта работы над конкретными типами проектов.',\n",
              " '1. Знание языков программирования, фреймворков, библиотек, инструментов и методов: 80/100\\nВ резюме указано знание Python, R, SQL, а также библиотек Pandas и NumPy, что соответствует требованиям вакансии. Однако, в вакансии также указаны библиотеки tensorflow, jax, catboost, tsfresh, которые не упоминаются в резюме. Также в вакансии требуется опыт работы с Git и linux/bash, что также не указано в резюме.\\n\\n2. Навыки и компетенции: 70/100\\nВ резюме указаны навыки анализа данных, проблемного решения, внимание к деталям, способность работать над мультидисциплинарными проектами, быстрое обучение и адаптация к новым технологиям, хорошие коммуникативные навыки. Однако, в вакансии требуется понимание классического ML: SVM, GBM, k-NN, что не указано в резюме.\\n\\n3. Проекты и достижения: 50/100\\nВ резюме указан опыт работы в компании XYZ Corp, где кандидат занимался проектированием и реализацией моделей предсказательного анализа, обработкой и анализом больших данных. Однако, в вакансии указано, что будет плюсом опыт анализа временных рядов, призовые места в студенческих олимпиадах, медальки Kaggle, понимание основ технического анализа рынков, опыт торговли на фондовой бирже, доведение модели до продакшена, что не указано в резюме.\\n\\n4. Опыт работы: 70/100\\nВ резюме указан годовой опыт работы в должности Junior Data Scientist, что соответствует требованиям вакансии. Однако, в вакансии указаны обязанности, которые не полностью перекликаются с выполненными задачами в резюме.\\n\\n5. Образование: 70/100\\nВ резюме указано, что кандидат имеет бакалаврскую степень в области компьютерных наук, что в целом соответствует требованиям вакансии. Однако, в вакансии указано, что предпочтительно высшее математическое / физико-математическое / экономическое образование при наличии хорошей математической подготовки.\\n\\nИТОГО: 68/100\\nВ целом, резюме соответствует вакансии, но есть некоторые пробелы в знаниях и опыте, которые могут потребовать дополнительного обучения или подготовки.',\n",
              " '1. Знание языков программирования, фреймворков, библиотек, инструментов и методов: 90/100\\nВ резюме указаны все необходимые языки программирования и инструменты, которые требуются для вакансии (Python, SQL, Big Data Tools, Spark). Однако, в вакансии также упоминаются конкретные методы классификационных и регрессионных задач, которые не указаны в резюме.\\n\\n2. Навыки и компетенции: 85/100\\nВ резюме указаны навыки анализа данных, проблемного решения, внимания к деталям, работы над мультидисциплинарными проектами, быстрого обучения и адаптации к новым технологиям, что соответствует требованиям вакансии. Однако, в вакансии также требуется опыт внедрения моделей в пилотные процессы, что не указано в резюме.\\n\\n3. Проекты и достижения: 70/100\\nВ резюме указан опыт работы над проектами, связанными с анализом данных и машинным обучением. Однако, конкретные проекты и достижения не указаны, что затрудняет оценку их соответствия требованиям вакансии.\\n\\n4. Опыт работы: 60/100\\nВ резюме указан годовой опыт работы на позиции Junior Data Scientist, в то время как вакансия требует от 3-х лет опыта работы на позиции Data Scientist. \\n\\n5. Образование: 100/100\\nОбразование в резюме полностью соответствует требованиям вакансии - бакалавр компьютерных наук.\\n\\nИТОГО: 81/100\\nВ целом, резюме хорошо соответствует требованиям вакансии, особенно в части образования и навыков. Однако, опыт работы и конкретные проекты и достижения могут не полностью соответствовать требованиям вакансии.',\n",
              " '1. Знание языков программирования, фреймворков, библиотек, инструментов и методов: 70/100\\nВ резюме указано знание Python, что соответствует требованиям вакансии. Однако, в вакансии также указаны PyTorch и Tensorflow, которые не упоминаются в резюме. \\n\\n2. Навыки и компетенции: 60/100\\nВ резюме указаны навыки анализа данных, работы с алгоритмами машинного обучения и AI, что соответствует требованиям вакансии. Однако, в вакансии также требуется знание NLP и Deep Learning, которые не упоминаются в резюме.\\n\\n3. Проекты и достижения: 50/100\\nВ резюме указан опыт работы над проектами по анализу данных и машинному обучению, но не упоминаются конкретные проекты или достижения, связанные с NLP или голосовыми технологиями, что является ключевым в данной вакансии.\\n\\n4. Опыт работы: 40/100\\nВ резюме указан годовой опыт работы в качестве Junior Data Scientist, в то время как вакансия требует 3-6 лет опыта работы. \\n\\n5. Образование: 100/100\\nОбразование в области компьютерных наук полностью соответствует требованиям вакансии.\\n\\nИТОГО: 64/100\\nРезюме в некоторой степени соответствует требованиям вакансии, но есть несколько ключевых областей, которые требуют дополнительного развития или уточнения, включая опыт работы, знание конкретных инструментов и фреймворков, а также опыт в NLP и голосовых технологиях.',\n",
              " '1. Знание языков программирования, фреймворков, библиотек, инструментов и методов: 60/100\\nВ резюме указаны Python, R, SQL, Pandas, NumPy, Scikit-learn, Matplotlib, Seaborn, Tableau, Hadoop, Spark, что в целом соответствует требованиям вакансии. Однако, в вакансии также указаны Pytorch, Transformers, Docker, которые не упоминаются в резюме. Также в вакансии упоминаются конкретные модели, такие как GPT, BERT, которые также не указаны в резюме.\\n\\n2. Навыки и компетенции: 70/100\\nВ резюме указаны навыки анализа данных, проблемного решения, внимание к деталям, способность работать над мультидисциплинарными проектами, быстрое обучение и адаптация к новым технологиям, хорошие коммуникативные навыки. Это в целом соответствует требованиям вакансии, однако, в вакансии также требуется умение писать чистый, оптимальный, поддерживаемый продакшен код, что не указано в резюме.\\n\\n3. Проекты и достижения: 50/100\\nВ резюме указан опыт работы в компании XYZ Corp, где кандидат занимался проектированием и реализацией моделей предсказательного анализа, обработкой и анализом больших данных, строительством и отладкой алгоритмов машинного обучения и AI. Однако, в вакансии требуется опыт работы с NLP-моделями, что не указано в резюме.\\n\\n4. Опыт работы: 50/100\\nВ резюме указан годовой опыт работы Junior Data Scientist, что не полностью соответствует требованиям вакансии на позицию Senior NLP Engineer.\\n\\n5. Образование: 100/100\\nКандидат имеет бакалаврскую степень в области компьютерных наук, что полностью соответствует требованиям вакансии.\\n\\nИТОГО: 66/100\\nРезюме в целом соответствует требованиям вакансии, однако есть несколько ключевых моментов, которые не упоминаются в резюме, такие как опыт работы с NLP-моделями, умение писать чистый, оптимальный, поддерживаемый продакшен код, знание Pytorch, Transformers, Docker, GPT, BERT. Также уровень опыта работы не полностью соответствует требованиям вакансии.',\n",
              " '1. Знание языков программирования, фреймворков, библиотек, инструментов и методов: 90/100\\nВ резюме указаны все необходимые языки программирования и инструменты, которые требуются для вакансии (Python, SQL, Hadoop, Spark, Pandas). Однако, в вакансии также упоминаются инструменты Airflow и MLflow, которые не указаны в резюме.\\n\\n2. Навыки и компетенции: 80/100\\nВ резюме указаны навыки анализа данных, работы с большими данными и машинным обучением, которые соответствуют требованиям вакансии. Однако, в вакансии также требуется опыт работы с feature-engineering и настройкой Data Quality и Model Quality для ML моделей, что не указано в резюме.\\n\\n3. Проекты и достижения: 50/100\\nВ резюме не указаны конкретные проекты или достижения, которые бы демонстрировали опыт работы с аналитикой данных, разработкой моделей машинного обучения или работой с большими данными. \\n\\n4. Опыт работы: 60/100\\nВ резюме указан год работы на позиции Junior Data Scientist, в то время как вакансия требует минимум двух лет опыта работы в области Data Science.\\n\\n5. Образование: 80/100\\nВ резюме указано высшее образование в области компьютерных наук, что соответствует требованиям вакансии. Однако, в вакансии также упоминается, что наличие ученой степени будет дополнительным плюсом.\\n\\nИТОГО: 72/100\\nВ целом, резюме в большей степени соответствует требованиям вакансии. Однако, есть некоторые пробелы в опыте работы, конкретных проектах и достижениях, а также в некоторых специфических навыках и компетенциях.']"
            ]
          },
          "metadata": {},
          "execution_count": 33
        }
      ]
    }
  ],
  "metadata": {
    "colab": {
      "provenance": [],
      "collapsed_sections": [
        "17gAaNlhdOmb",
        "o3UOG4YWCtxz",
        "-psqDNCpdOpI",
        "mWcK0vtrbhYJ",
        "5pZfvrTNrqzZ",
        "FIEvN1cv5aoh",
        "tgniT0cQowkh",
        "STEZSPDEA_FQ",
        "abd3icU3K1aC",
        "Iy0funf9dCvN",
        "NkVewO9OqGBb"
      ],
      "include_colab_link": true
    },
    "kernelspec": {
      "display_name": "Python 3",
      "name": "python3"
    },
    "language_info": {
      "name": "python"
    }
  },
  "nbformat": 4,
  "nbformat_minor": 0
}