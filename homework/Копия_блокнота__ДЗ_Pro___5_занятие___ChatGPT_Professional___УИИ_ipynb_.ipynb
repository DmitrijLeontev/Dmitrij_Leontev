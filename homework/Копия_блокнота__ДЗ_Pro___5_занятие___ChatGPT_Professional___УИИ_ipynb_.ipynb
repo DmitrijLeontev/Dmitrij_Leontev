{
  "nbformat": 4,
  "nbformat_minor": 0,
  "metadata": {
    "colab": {
      "provenance": [],
      "include_colab_link": true
    },
    "kernelspec": {
      "name": "python3",
      "display_name": "Python 3"
    },
    "language_info": {
      "name": "python"
    }
  },
  "cells": [
    {
      "cell_type": "markdown",
      "metadata": {
        "id": "view-in-github",
        "colab_type": "text"
      },
      "source": [
        "<a href=\"https://colab.research.google.com/github/DmitrijLeontev/Dmitrij_Leontev/blob/main/%D0%B4%D0%BE%D0%BC%D0%B0%D1%88%D0%BD%D0%B5%D0%B5%20%D0%B7%D0%B0%D0%B4%D0%B0%D0%BD%D0%B8%D0%B5/%D0%9A%D0%BE%D0%BF%D0%B8%D1%8F_%D0%B1%D0%BB%D0%BE%D0%BA%D0%BD%D0%BE%D1%82%D0%B0_%22%D0%94%D0%97_Pro_%7C_5_%D0%B7%D0%B0%D0%BD%D1%8F%D1%82%D0%B8%D0%B5_%7C_ChatGPT_Professional_%7C_%D0%A3%D0%98%D0%98_ipynb%22.ipynb\" target=\"_parent\"><img src=\"https://colab.research.google.com/assets/colab-badge.svg\" alt=\"Open In Colab\"/></a>"
      ]
    },
    {
      "cell_type": "markdown",
      "source": [
        "На основании нормативов по качеству питьевой воды и прайс листа с ценами бутилированной воды создайте нейро-консультанта, который бы отвечал на вопросы по данной информации.\n",
        "Для этого скачайте pdf файлы по ссылкам:\n",
        "\n",
        "**Нормативы**: https://files.stroyinf.ru/Data2/1/4294850/4294850590.pdf\n",
        "\n",
        "https://files.stroyinf.ru/Data2/1/4294846/4294846957.pdf\n",
        "\n",
        "**Прайс-лист**: https://xn---56-5cdablc8cp7g.xn--p1ai/ckfinder/userfiles/files/price%20ot%202019-01-01.pdf\n",
        "\n",
        "Документы с нормативами объедините в 1 БЗ, а из прайс-листа сделайте вторую БЗ.\n",
        "\n",
        "Нейро-консультант должен на основании вопроса пользователя динамически выбирать соответствующую базу знаний и отвечать на оcнове нее на вопрос.\n",
        "\n",
        "Проверьте работу нейро-консультанта на самостоятельно-сформулированных вопросах."
      ],
      "metadata": {
        "id": "AWaujLqSymnt"
      }
    },
    {
      "cell_type": "code",
      "execution_count": null,
      "metadata": {
        "id": "ceDwj6_Uyg4s",
        "colab": {
          "base_uri": "https://localhost:8080/"
        },
        "outputId": "a326c5ba-4510-453d-fa64-e7a7d11b0449"
      },
      "outputs": [
        {
          "output_type": "stream",
          "name": "stdout",
          "text": [
            "Requirement already satisfied: unstructured in /usr/local/lib/python3.10/dist-packages (0.11.6)\n",
            "Requirement already satisfied: pdf2image in /usr/local/lib/python3.10/dist-packages (1.16.3)\n",
            "Requirement already satisfied: pdfminer.six in /usr/local/lib/python3.10/dist-packages (20221105)\n",
            "Requirement already satisfied: faiss-cpu==1.7.4 in /usr/local/lib/python3.10/dist-packages (1.7.4)\n",
            "Requirement already satisfied: chardet in /usr/local/lib/python3.10/dist-packages (from unstructured) (5.2.0)\n",
            "Requirement already satisfied: filetype in /usr/local/lib/python3.10/dist-packages (from unstructured) (1.2.0)\n",
            "Requirement already satisfied: python-magic in /usr/local/lib/python3.10/dist-packages (from unstructured) (0.4.27)\n",
            "Requirement already satisfied: lxml in /usr/local/lib/python3.10/dist-packages (from unstructured) (4.9.3)\n",
            "Requirement already satisfied: nltk in /usr/local/lib/python3.10/dist-packages (from unstructured) (3.8.1)\n",
            "Requirement already satisfied: tabulate in /usr/local/lib/python3.10/dist-packages (from unstructured) (0.9.0)\n",
            "Requirement already satisfied: requests in /usr/local/lib/python3.10/dist-packages (from unstructured) (2.31.0)\n",
            "Requirement already satisfied: beautifulsoup4 in /usr/local/lib/python3.10/dist-packages (from unstructured) (4.11.2)\n",
            "Requirement already satisfied: emoji in /usr/local/lib/python3.10/dist-packages (from unstructured) (2.9.0)\n",
            "Requirement already satisfied: dataclasses-json in /usr/local/lib/python3.10/dist-packages (from unstructured) (0.6.3)\n",
            "Requirement already satisfied: python-iso639 in /usr/local/lib/python3.10/dist-packages (from unstructured) (2023.12.11)\n",
            "Requirement already satisfied: langdetect in /usr/local/lib/python3.10/dist-packages (from unstructured) (1.0.9)\n",
            "Requirement already satisfied: numpy in /usr/local/lib/python3.10/dist-packages (from unstructured) (1.23.5)\n",
            "Requirement already satisfied: rapidfuzz in /usr/local/lib/python3.10/dist-packages (from unstructured) (3.6.0)\n",
            "Requirement already satisfied: backoff in /usr/local/lib/python3.10/dist-packages (from unstructured) (2.2.1)\n",
            "Requirement already satisfied: typing-extensions in /usr/local/lib/python3.10/dist-packages (from unstructured) (4.9.0)\n",
            "Requirement already satisfied: unstructured-client in /usr/local/lib/python3.10/dist-packages (from unstructured) (0.15.1)\n",
            "Requirement already satisfied: wrapt in /usr/local/lib/python3.10/dist-packages (from unstructured) (1.14.1)\n",
            "Requirement already satisfied: pillow in /usr/local/lib/python3.10/dist-packages (from pdf2image) (9.4.0)\n",
            "Requirement already satisfied: charset-normalizer>=2.0.0 in /usr/local/lib/python3.10/dist-packages (from pdfminer.six) (3.3.2)\n",
            "Requirement already satisfied: cryptography>=36.0.0 in /usr/local/lib/python3.10/dist-packages (from pdfminer.six) (41.0.7)\n",
            "Requirement already satisfied: cffi>=1.12 in /usr/local/lib/python3.10/dist-packages (from cryptography>=36.0.0->pdfminer.six) (1.16.0)\n",
            "Requirement already satisfied: soupsieve>1.2 in /usr/local/lib/python3.10/dist-packages (from beautifulsoup4->unstructured) (2.5)\n",
            "Requirement already satisfied: marshmallow<4.0.0,>=3.18.0 in /usr/local/lib/python3.10/dist-packages (from dataclasses-json->unstructured) (3.20.1)\n",
            "Requirement already satisfied: typing-inspect<1,>=0.4.0 in /usr/local/lib/python3.10/dist-packages (from dataclasses-json->unstructured) (0.9.0)\n",
            "Requirement already satisfied: six in /usr/local/lib/python3.10/dist-packages (from langdetect->unstructured) (1.16.0)\n",
            "Requirement already satisfied: click in /usr/local/lib/python3.10/dist-packages (from nltk->unstructured) (8.1.7)\n",
            "Requirement already satisfied: joblib in /usr/local/lib/python3.10/dist-packages (from nltk->unstructured) (1.3.2)\n",
            "Requirement already satisfied: regex>=2021.8.3 in /usr/local/lib/python3.10/dist-packages (from nltk->unstructured) (2023.6.3)\n",
            "Requirement already satisfied: tqdm in /usr/local/lib/python3.10/dist-packages (from nltk->unstructured) (4.66.1)\n",
            "Requirement already satisfied: idna<4,>=2.5 in /usr/local/lib/python3.10/dist-packages (from requests->unstructured) (3.6)\n",
            "Requirement already satisfied: urllib3<3,>=1.21.1 in /usr/local/lib/python3.10/dist-packages (from requests->unstructured) (2.0.7)\n",
            "Requirement already satisfied: certifi>=2017.4.17 in /usr/local/lib/python3.10/dist-packages (from requests->unstructured) (2023.11.17)\n",
            "Requirement already satisfied: jsonpath-python>=1.0.6 in /usr/local/lib/python3.10/dist-packages (from unstructured-client->unstructured) (1.0.6)\n",
            "Requirement already satisfied: mypy-extensions>=1.0.0 in /usr/local/lib/python3.10/dist-packages (from unstructured-client->unstructured) (1.0.0)\n",
            "Requirement already satisfied: packaging>=23.1 in /usr/local/lib/python3.10/dist-packages (from unstructured-client->unstructured) (23.2)\n",
            "Requirement already satisfied: python-dateutil>=2.8.2 in /usr/local/lib/python3.10/dist-packages (from unstructured-client->unstructured) (2.8.2)\n",
            "Requirement already satisfied: pycparser in /usr/local/lib/python3.10/dist-packages (from cffi>=1.12->cryptography>=36.0.0->pdfminer.six) (2.21)\n"
          ]
        }
      ],
      "source": [
        "!pip install unstructured pdf2image pdfminer.six faiss-cpu==1.7.4"
      ]
    },
    {
      "cell_type": "code",
      "source": [],
      "metadata": {
        "id": "1leZ8LdUeAa7"
      },
      "execution_count": null,
      "outputs": []
    },
    {
      "cell_type": "code",
      "source": [
        "openai_key = getpass.getpass(\"OpenAI API Key:\")\n",
        "os.environ[\"OPENAI_API_KEY\"] = openai_key\n",
        "openai.api_key = openai_key"
      ],
      "metadata": {
        "colab": {
          "base_uri": "https://localhost:8080/"
        },
        "id": "cVLfMhoSWh6v",
        "outputId": "3e032606-7f9e-4315-c97a-a45e946230f2"
      },
      "execution_count": null,
      "outputs": [
        {
          "name": "stdout",
          "output_type": "stream",
          "text": [
            "OpenAI API Key:··········\n"
          ]
        }
      ]
    },
    {
      "cell_type": "code",
      "source": [
        "# функция принимает URL PDF-файла и путь, по которому файл будет сохранен в файловой системе Colab.\n",
        "# Она скачивает файл и сохраняет его, если HTTP-запрос успешен\n",
        "def download_pdf_from_url(url, save_path):\n",
        "    response = requests.get(url)\n",
        "\n",
        "    if response.status_code == 200:\n",
        "        with open(save_path, 'wb') as f:\n",
        "            f.write(response.content)\n",
        "        print(f\"PDF downloaded and saved as {save_path}\")\n",
        "    else:\n",
        "        print(f\"Failed to download PDF. HTTP Status Code: {response.status_code}\")\n",
        "\n",
        "# используем функцию выше\n",
        "url =  \"https://files.stroyinf.ru/Data2/1/4294850/4294850590.pdf\"\n",
        "save_path = \"/content/4294850590.pdf\"\n",
        "\n",
        "download_pdf_from_url(url, save_path)"
      ],
      "metadata": {
        "id": "5MPEH5PcWjtg",
        "colab": {
          "base_uri": "https://localhost:8080/"
        },
        "outputId": "c5c1f24a-b14f-4618-e26c-04191af1e543"
      },
      "execution_count": null,
      "outputs": [
        {
          "output_type": "stream",
          "name": "stdout",
          "text": [
            "PDF downloaded and saved as /content/4294850590.pdf\n"
          ]
        }
      ]
    },
    {
      "cell_type": "code",
      "source": [
        "url = \"https://files.stroyinf.ru/Data2/1/4294846/4294846957.pdf\"\n",
        "save_path = \"/content/4294846957.pdf\"\n",
        "\n",
        "download_pdf_from_url(url, save_path)"
      ],
      "metadata": {
        "id": "i8gc24AxWkkT",
        "colab": {
          "base_uri": "https://localhost:8080/"
        },
        "outputId": "db50579c-11e2-4c8e-aa76-57c2516cf933"
      },
      "execution_count": null,
      "outputs": [
        {
          "output_type": "stream",
          "name": "stdout",
          "text": [
            "PDF downloaded and saved as /content/4294846957.pdf\n"
          ]
        }
      ]
    },
    {
      "cell_type": "code",
      "source": [
        "# функция, которая принимает список названий PDF-файлов и возвращает базу знаний FAISS\n",
        "def create_faiss_vectorstore(pdf_names):\n",
        "    pdf_folder_path = \"/content/\"\n",
        "\n",
        "    # Фильтрация файлов: загрузка только файлов с определенными именами и расширением .pdf\n",
        "    all_files = os.listdir(pdf_folder_path)\n",
        "    pdf_files = [fn for fn in all_files if fn in pdf_names and fn.endswith('.pdf')]\n",
        "\n",
        "    # Создание объектов UnstructuredPDFLoader для каждого PDF-файла\n",
        "    loaders = [UnstructuredPDFLoader(os.path.join(pdf_folder_path, fn)) for fn in pdf_files]\n",
        "\n",
        "    all_documents = []\n",
        "    text_splitter = RecursiveCharacterTextSplitter(chunk_size=800, chunk_overlap=100, length_function=len)\n",
        "\n",
        "    for loader in loaders:\n",
        "        # Загрузка и разделение текста\n",
        "        raw_documents = loader.load()\n",
        "        documents = text_splitter.split_documents(raw_documents)\n",
        "        all_documents.extend(documents)\n",
        "\n",
        "    # Создание FAISS vectorstore\n",
        "    embeddings = OpenAIEmbeddings()\n",
        "    vectorstore = FAISS.from_documents(all_documents, OpenAIEmbeddings()).as_retriever()\n",
        "\n",
        "    return vectorstore"
      ],
      "metadata": {
        "id": "dTAX3kfVh3_Y"
      },
      "execution_count": null,
      "outputs": []
    },
    {
      "cell_type": "code",
      "source": [
        "#Создадим базу знаний по норматиавм питьевой воды на основе спецификаций в формате pdf:\n",
        "pdf_names = ['4294850590.pdf', '4294846957.pdf']\n",
        "db_standards = create_faiss_vectorstore(pdf_names)"
      ],
      "metadata": {
        "id": "K2EQnBSVjpD4"
      },
      "execution_count": null,
      "outputs": []
    },
    {
      "cell_type": "code",
      "source": [
        "# Используем MultiRetrievalQAChain для создания цепочки вопросов-ответов, которая выбирает цепочку поиска QA (вопрос-ответ)\n",
        "# Для этого создадим базу знаний еще и по прайслисту из pdf\n",
        "# Сохраняем pdf в память колаба\n",
        "url = \"https://xn---56-5cdablc8cp7g.xn--p1ai/ckfinder/userfiles/files/price%20ot%202019-01-01.pdf\"\n",
        "save_path = \"/content/price%20ot%202019-01-01.pdf\"\n",
        "\n",
        "download_pdf_from_url(url, save_path)"
      ],
      "metadata": {
        "id": "9yIkzmJBkmyB",
        "colab": {
          "base_uri": "https://localhost:8080/"
        },
        "outputId": "1c376c3e-c1a8-43cb-bec1-e88be04f78a9"
      },
      "execution_count": null,
      "outputs": [
        {
          "output_type": "stream",
          "name": "stdout",
          "text": [
            "PDF downloaded and saved as /content/price%20ot%202019-01-01.pdf\n"
          ]
        }
      ]
    },
    {
      "cell_type": "code",
      "source": [
        "# создаем базу знаний faiss по prise\n",
        "pdf_names = ['price%20ot%202019-01-01.pdf']\n",
        "db_prise = create_faiss_vectorstore(pdf_names)"
      ],
      "metadata": {
        "id": "WqYNnGN-p1u4"
      },
      "execution_count": null,
      "outputs": []
    },
    {
      "cell_type": "code",
      "source": [
        "# Таким образом, у нас имеются 2 разные базы знаний faiss: одна по Corolla, вторая по LandCruiser\n",
        "# Добавляем информацию и описание для наших векторных хранилищ (баз знаний)\n",
        "retriever_infos = [\n",
        "    {\n",
        "        \"name\": \"drinking_water_quality_standards\",\n",
        "        \"description\": \"Suitable for answering questions about drinking water quality standards\",  # описываем, для каких вопросов применять данную БЗ\n",
        "        \"retriever\": db_standards\n",
        "    },\n",
        "    {\n",
        "        \"name\": \"_price_bottled_water\",\n",
        "        \"description\": \"Suitable for answering questions about the price and quantity of drinking bottled water\", # описываем, для каких вопросов применять данную БЗ\n",
        "        \"retriever\": db_prise\n",
        "    }\n",
        "]"
      ],
      "metadata": {
        "id": "O0rG_7lQv5oj"
      },
      "execution_count": null,
      "outputs": []
    },
    {
      "cell_type": "code",
      "source": [
        "# Иициализируем класс\n",
        "chain = MultiRetrievalQAChain.from_retrievers(ChatOpenAI(temperature=0), retriever_infos, verbose=True)"
      ],
      "metadata": {
        "id": "r0BXtUFXy3_e"
      },
      "execution_count": null,
      "outputs": []
    },
    {
      "cell_type": "code",
      "source": [
        "# Запускаем на вопросе из раздела по нормативам по качеству питьевой воды (в промежуточных итогах видим , что выбрана нужная база данных )\n",
        "\n",
        "print(chain.run(\"Каким нормативам должно соответствовать качество воды?\"))"
      ],
      "metadata": {
        "colab": {
          "base_uri": "https://localhost:8080/"
        },
        "id": "H4dr_YGrp3VU",
        "outputId": "642c8f47-c6f5-48b2-88b4-176a6ef14df7"
      },
      "execution_count": null,
      "outputs": [
        {
          "output_type": "stream",
          "name": "stdout",
          "text": [
            "\n",
            "\n",
            "\u001b[1m> Entering new MultiRetrievalQAChain chain...\u001b[0m\n",
            "drinking_water_quality_standards: {'query': 'Каким нормативам должно соответствовать качество воды?'}\n",
            "\u001b[1m> Finished chain.\u001b[0m\n",
            "Качество питьевой воды должно соответствовать требованиям действующих санитарных правил и норм, утвержденных в установленном порядке.\n"
          ]
        }
      ]
    },
    {
      "cell_type": "code",
      "source": [
        "# задаем вопрос, на основе вопроса выбирается необходимая БЗ\n",
        "print(chain.run(\"Применимы ли данные нормативы при проведении сертификации воды, подаваемой централизованными системами питьевого водоснабжения?\"))"
      ],
      "metadata": {
        "id": "Ocm2sIOZrHsP",
        "colab": {
          "base_uri": "https://localhost:8080/"
        },
        "outputId": "5f29196c-c3cf-46f2-a6ab-fd1c0baf7d03"
      },
      "execution_count": null,
      "outputs": [
        {
          "output_type": "stream",
          "name": "stdout",
          "text": [
            "\n",
            "\n",
            "\u001b[1m> Entering new MultiRetrievalQAChain chain...\u001b[0m\n"
          ]
        },
        {
          "output_type": "stream",
          "name": "stderr",
          "text": [
            "/usr/local/lib/python3.10/dist-packages/langchain/chains/llm.py:278: UserWarning: The predict_and_parse method is deprecated, instead pass an output parser directly to LLMChain.\n",
            "  warnings.warn(\n"
          ]
        },
        {
          "output_type": "stream",
          "name": "stdout",
          "text": [
            "drinking_water_quality_standards: {'query': 'Are these standards applicable when certifying water supplied by centralized drinking water supply systems?'}\n",
            "\u001b[1m> Finished chain.\u001b[0m\n",
            "Yes, these standards are applicable when certifying water supplied by centralized drinking water supply systems.\n"
          ]
        }
      ]
    },
    {
      "cell_type": "code",
      "source": [
        "# задаем вопрос, на основе вопроса выбирается необходимая БЗ\n",
        "print(chain.run(\"Сколько стоит домтавка воды  Аква-Вита?\"))"
      ],
      "metadata": {
        "id": "nkVQ3bn7qsq7",
        "colab": {
          "base_uri": "https://localhost:8080/"
        },
        "outputId": "d2fa7ca0-c203-4a21-ea43-afc8569aeccf"
      },
      "execution_count": null,
      "outputs": [
        {
          "output_type": "stream",
          "name": "stdout",
          "text": [
            "\n",
            "\n",
            "\u001b[1m> Entering new MultiRetrievalQAChain chain...\u001b[0m\n",
            "bottled_water_price: {'query': 'Сколько стоит доставка воды Аква-Вита?'}\n",
            "\u001b[1m> Finished chain.\u001b[0m\n",
            "Доставка продукции ООО \"Аква-Вита\" бесплатна при заказе от 2 бутылей воды (18,9л) или от 10 упаковок.\n"
          ]
        }
      ]
    },
    {
      "cell_type": "code",
      "source": [
        "# задаем вопрос, на основе вопроса выбирается необходимая БЗ\n",
        "print(chain.run(\"Подскажи контактный телефон для заключения договора доставки воды Аква-Вита?\"))"
      ],
      "metadata": {
        "id": "6RnbNwwotuKp",
        "colab": {
          "base_uri": "https://localhost:8080/"
        },
        "outputId": "fbb3b26f-cabc-4ac0-ac3b-1bf652b28c59"
      },
      "execution_count": null,
      "outputs": [
        {
          "output_type": "stream",
          "name": "stdout",
          "text": [
            "\n",
            "\n",
            "\u001b[1m> Entering new MultiRetrievalQAChain chain...\u001b[0m\n",
            "None: {'query': 'Подскажи контактный телефон для заключения договора доставки воды Аква-Вита?'}\n",
            "\u001b[1m> Finished chain.\u001b[0m\n",
            "К сожалению, я не могу найти контактный телефон для заключения договора доставки воды Аква-Вита.\n"
          ]
        }
      ]
    }
  ]
}