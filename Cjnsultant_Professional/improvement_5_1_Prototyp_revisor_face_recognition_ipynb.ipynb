{
  "nbformat": 4,
  "nbformat_minor": 0,
  "metadata": {
    "colab": {
      "provenance": [],
      "authorship_tag": "ABX9TyN0dLOGlN2T94IqN5N7DW0/",
      "include_colab_link": true
    },
    "kernelspec": {
      "name": "python3",
      "display_name": "Python 3"
    },
    "language_info": {
      "name": "python"
    }
  },
  "cells": [
    {
      "cell_type": "markdown",
      "metadata": {
        "id": "view-in-github",
        "colab_type": "text"
      },
      "source": [
        "<a href=\"https://colab.research.google.com/github/DmitrijLeontev/Dmitrij_Leontev/blob/main/Cjnsultant_Professional/improvement_5_1_Prototyp_revisor_face_recognition_ipynb.ipynb\" target=\"_parent\"><img src=\"https://colab.research.google.com/assets/colab-badge.svg\" alt=\"Open In Colab\"/></a>"
      ]
    },
    {
      "cell_type": "markdown",
      "source": [
        "Подтягивание базы с Github,\n",
        "\n",
        "подсчет токенов для каждого фрагмента и построение графика,\n",
        "\n",
        "суммаризация диалога,\n",
        "\n",
        "отображение стоимости вопрос-ответа и\n",
        "\n",
        "суммы за весь диалог.\n",
        "\n",
        "для выхода из режима диалога с консультантом наберите  в окне диалоговом - stop"
      ],
      "metadata": {
        "id": "pljzw91IiAD0"
      }
    },
    {
      "cell_type": "code",
      "source": [
        "!pip install -q langchain_openai==0.0.2 faiss-cpu==1.7.4 openai==1.6.1 tiktoken==0.5.2 langchain_community==0.0.11 langchain==0.1.0"
      ],
      "metadata": {
        "id": "oBjC37DE795K"
      },
      "execution_count": 2,
      "outputs": []
    },
    {
      "source": [
        "!pip install PyGithub"
      ],
      "cell_type": "code",
      "metadata": {
        "colab": {
          "base_uri": "https://localhost:8080/"
        },
        "id": "-WjgYv3-HZNk",
        "outputId": "3b2a7594-40e4-44ef-f5b5-cb9cb5d8b1ee"
      },
      "execution_count": 3,
      "outputs": [
        {
          "output_type": "stream",
          "name": "stdout",
          "text": [
            "Collecting PyGithub\n",
            "  Downloading PyGithub-2.3.0-py3-none-any.whl.metadata (3.8 kB)\n",
            "Collecting pynacl>=1.4.0 (from PyGithub)\n",
            "  Downloading PyNaCl-1.5.0-cp36-abi3-manylinux_2_17_x86_64.manylinux2014_x86_64.manylinux_2_24_x86_64.whl.metadata (8.6 kB)\n",
            "Requirement already satisfied: requests>=2.14.0 in /usr/local/lib/python3.10/dist-packages (from PyGithub) (2.31.0)\n",
            "Requirement already satisfied: pyjwt>=2.4.0 in /usr/local/lib/python3.10/dist-packages (from pyjwt[crypto]>=2.4.0->PyGithub) (2.8.0)\n",
            "Requirement already satisfied: typing-extensions>=4.0.0 in /usr/local/lib/python3.10/dist-packages (from PyGithub) (4.12.2)\n",
            "Requirement already satisfied: urllib3>=1.26.0 in /usr/local/lib/python3.10/dist-packages (from PyGithub) (2.0.7)\n",
            "Collecting Deprecated (from PyGithub)\n",
            "  Downloading Deprecated-1.2.14-py2.py3-none-any.whl.metadata (5.4 kB)\n",
            "Requirement already satisfied: cryptography>=3.4.0 in /usr/local/lib/python3.10/dist-packages (from pyjwt[crypto]>=2.4.0->PyGithub) (42.0.8)\n",
            "Requirement already satisfied: cffi>=1.4.1 in /usr/local/lib/python3.10/dist-packages (from pynacl>=1.4.0->PyGithub) (1.16.0)\n",
            "Requirement already satisfied: charset-normalizer<4,>=2 in /usr/local/lib/python3.10/dist-packages (from requests>=2.14.0->PyGithub) (3.3.2)\n",
            "Requirement already satisfied: idna<4,>=2.5 in /usr/local/lib/python3.10/dist-packages (from requests>=2.14.0->PyGithub) (3.7)\n",
            "Requirement already satisfied: certifi>=2017.4.17 in /usr/local/lib/python3.10/dist-packages (from requests>=2.14.0->PyGithub) (2024.7.4)\n",
            "Requirement already satisfied: wrapt<2,>=1.10 in /usr/local/lib/python3.10/dist-packages (from Deprecated->PyGithub) (1.16.0)\n",
            "Requirement already satisfied: pycparser in /usr/local/lib/python3.10/dist-packages (from cffi>=1.4.1->pynacl>=1.4.0->PyGithub) (2.22)\n",
            "Downloading PyGithub-2.3.0-py3-none-any.whl (354 kB)\n",
            "\u001b[2K   \u001b[90m━━━━━━━━━━━━━━━━━━━━━━━━━━━━━━━━━━━━━━━━\u001b[0m \u001b[32m354.4/354.4 kB\u001b[0m \u001b[31m2.2 MB/s\u001b[0m eta \u001b[36m0:00:00\u001b[0m\n",
            "\u001b[?25hDownloading PyNaCl-1.5.0-cp36-abi3-manylinux_2_17_x86_64.manylinux2014_x86_64.manylinux_2_24_x86_64.whl (856 kB)\n",
            "\u001b[2K   \u001b[90m━━━━━━━━━━━━━━━━━━━━━━━━━━━━━━━━━━━━━━━━\u001b[0m \u001b[32m856.7/856.7 kB\u001b[0m \u001b[31m12.8 MB/s\u001b[0m eta \u001b[36m0:00:00\u001b[0m\n",
            "\u001b[?25hDownloading Deprecated-1.2.14-py2.py3-none-any.whl (9.6 kB)\n",
            "Installing collected packages: Deprecated, pynacl, PyGithub\n",
            "Successfully installed Deprecated-1.2.14 PyGithub-2.3.0 pynacl-1.5.0\n"
          ]
        }
      ]
    },
    {
      "cell_type": "code",
      "source": [
        "from openai import OpenAI\n",
        "import os\n",
        "from google.colab import userdata\n",
        "import re\n",
        "import requests\n",
        "from langchain_openai import OpenAIEmbeddings\n",
        "from langchain.text_splitter import MarkdownHeaderTextSplitter\n",
        "from langchain.vectorstores import FAISS\n",
        "from langchain.docstore.document import Document"
      ],
      "metadata": {
        "id": "lKc3lJmA8E7O"
      },
      "execution_count": 4,
      "outputs": []
    },
    {
      "cell_type": "code",
      "source": [
        "# Получение API ключа из пользовательских данных Colab и установка его как переменной среды\n",
        "key = userdata.get('OPENAI_API_KEY')\n",
        "os.environ[\"OPENAI_API_KEY\"] = key\n",
        "\n",
        "# Создание клиента OpenAI с использованием API ключа из переменных среды\n",
        "client = OpenAI()"
      ],
      "metadata": {
        "id": "8kVvAvNO8c9Q"
      },
      "execution_count": 5,
      "outputs": []
    },
    {
      "cell_type": "markdown",
      "source": [
        "Добавил расчет стоимости диалога >>>"
      ],
      "metadata": {
        "id": "Q9ynGNwlnnnD"
      }
    },
    {
      "cell_type": "code",
      "source": [
        "# Стоимость за 1 токен\n",
        "TOKEN_COST = 0.000000225  # Примерная стоимость одного токена в USD, можно скорректировать\n",
        "\n",
        "def calculate_cost(token_count: int) -> float:\n",
        "    \"\"\"\n",
        "    Функция для расчета стоимости на основе количества токенов.\n",
        "    \"\"\"\n",
        "    return token_count * TOKEN_COST\n"
      ],
      "metadata": {
        "id": "AtIyabXYnj1O"
      },
      "execution_count": 6,
      "outputs": []
    },
    {
      "cell_type": "code",
      "source": [
        "# функция для загрузки документа по ссылке из гугл драйв\n",
        "def load_document_text(url: str) -> str:\n",
        "    # Extract the document ID from the URL\n",
        "    match_ = re.search('/document/d/([a-zA-Z0-9-_]+)', url)\n",
        "    if match_ is None:\n",
        "        raise ValueError('Invalid Google Docs URL')\n",
        "    doc_id = match_.group(1)\n",
        "\n",
        "    # Download the document as plain text\n",
        "    response = requests.get(f'https://docs.google.com/document/d/{doc_id}/export?format=txt')\n",
        "    response.raise_for_status()\n",
        "    text = response.text\n",
        "\n",
        "    return text"
      ],
      "metadata": {
        "id": "8bWpIOf3KmrK"
      },
      "execution_count": 7,
      "outputs": []
    },
    {
      "cell_type": "markdown",
      "source": [
        "Блок отвечающий за подтягивание базы знаний с Github\n",
        "\n",
        "1) нужно на место многоточия вставить свой токен Github\n",
        "\n",
        "2) Загрузка данных из GitHub: Функция load_document_from_github загружает текстовый файл из GitHub, используя токен доступа.\n",
        "\n",
        "Проверка данных: Проверяется, удалось ли загрузить данные, и выводятся первые 1000 символов для проверки.\n",
        "\n",
        "Обработка текста: Текст разбивается на чанки с помощью MarkdownHeaderTextSplitter.\n",
        "\n",
        "Подсчет токенов: Функция num_tokens_from_string подсчитывает количество токенов в каждом чанке.\n",
        "\n",
        "Построение графика: Строится гистограмма распределения длин чанков в токенах."
      ],
      "metadata": {
        "id": "noxT8hqnmvHE"
      }
    },
    {
      "cell_type": "code",
      "source": [
        "from github import Github\n",
        "import re\n",
        "import tiktoken\n",
        "import matplotlib.pyplot as plt\n",
        "from langchain.text_splitter import MarkdownHeaderTextSplitter\n",
        "\n",
        "# Загрузка документа с GitHub\n",
        "def load_document_from_github(url: str, github_token: str) -> str:\n",
        "    match = re.match(r\"https://github.com/([^/]+)/([^/]+)/blob/([^/]+)/(.*)\", url)\n",
        "    if not match:\n",
        "        raise ValueError(\"Invalid GitHub URL\")\n",
        "    username, repo_name, branch, file_path = match.groups()\n",
        "\n",
        "    g = Github(github_token)\n",
        "    repo = g.get_repo(f\"{username}/{repo_name}\")\n",
        "    file_content = repo.get_contents(file_path, ref=branch)\n",
        "    return file_content.decoded_content.decode('utf-8')\n",
        "\n",
        "# Загрузка базы знаний из GitHub\n",
        "github_url = 'https://github.com/NeuronsUII/GPT_Professional/blob/main/Baza_znaniy/baza.txt'\n",
        "github_token = '.......'  # Замените на ваш токен с Github\n",
        "\n",
        "try:\n",
        "    data_from_github = load_document_from_github(github_url, github_token)\n",
        "    print(data_from_github[:1000])  # Вывод первых 1000 символов документа для проверки\n",
        "except Exception as e:\n",
        "    print(f\"Error loading document: {e}\")\n",
        "\n",
        "# Убедимся, что текст был загружен\n",
        "if 'data_from_github' in locals():\n",
        "    # Разделение текста на чанки\n",
        "    splitter = MarkdownHeaderTextSplitter(headers_to_split_on=[(\"#\", \"Header 1\")])\n",
        "    fragments = splitter.split_text(data_from_github)\n",
        "\n",
        "    # Функция для подсчета токенов\n",
        "    def num_tokens_from_string(text: str, model_name: str) -> int:\n",
        "        encoding = tiktoken.get_encoding(model_name)\n",
        "        tokens = encoding.encode(text)\n",
        "        return len(tokens)\n",
        "\n",
        "    # Проверка, что каждый фрагмент является строкой\n",
        "    fragments = [fragment if isinstance(fragment, str) else str(fragment) for fragment in fragments]\n",
        "\n",
        "    fragment_token_counts = [num_tokens_from_string(fragment, \"cl100k_base\") for fragment in fragments]\n",
        "\n",
        "    # Построение графика распределения длин токенов\n",
        "    plt.hist(fragment_token_counts, bins=50, alpha=0.5, label='Fragments')\n",
        "    plt.title('Распределение длин чанков в токенах')\n",
        "    plt.xlabel('Token Count')\n",
        "    plt.ylabel('Frequency')\n",
        "    plt.legend()\n",
        "    plt.show()\n",
        "else:\n",
        "    print(\"Ошибка: данные не были загружены из GitHub.\")\n"
      ],
      "metadata": {
        "colab": {
          "base_uri": "https://localhost:8080/",
          "height": 871
        },
        "id": "ZIR9q2nIoqaM",
        "outputId": "cc35251b-9c5a-4ff1-fc5c-9de9800e7cf9"
      },
      "execution_count": 8,
      "outputs": [
        {
          "output_type": "stream",
          "name": "stdout",
          "text": [
            "# ВОЗРАСТ РЕЗЦА (СОШНИКОВ АЛЕКСЕЙ СЕРГЕЕВИЧ) 28 - 29 сентября 2024\n",
            "\n",
            "ВОЗРАСТ РЕЗЦА (СОШНИКОВ АЛЕКСЕЙ СЕРГЕЕВИЧ) 28 - 29 сентября 2024\n",
            "\n",
            "  Преподаватель: СОШНИКОВ АЛЕКСЕЙ СЕРГЕЕВИЧ\n",
            "  \n",
            "  Город: Чита\n",
            "  \n",
            "  ПРАКТИЧЕСКИЙ КУРС\n",
            "  28 сентября 2024\n",
            "  Регистрация с 9-00 до 10-00, курс с 10-00 до 18-00 (с перерывами на кофе-паузы и бизнес-ланч)\n",
            "  МАСТЕР-КЛАСС\n",
            "  29 сентября 2024\n",
            "  Регистрация с 9-00 до 10-00, курс с 10-00 до 18-00 (с перерывами на кофе-паузы и бизнес-ланч)\n",
            "  Место проведения: Будет объявлено дополнительно\n",
            "  Стоимость семинара - 16 500 рублей. Стоимость семинар+мастер-класс - 42 000 рублей. При внесении аванса 10 000 руб до 28 августа, стоимость 40 000 руб. Оставшуюся часть можно оплатить до даты курса.\n",
            "  \n",
            "  Дополнительно можно получить Свидетельство НМО 36 баллов. Учебный план сформирован на портале НМО и утвержден согласно 36 часам. Стоимость 3 000 руб.\n",
            "  \n",
            "  ПРОГРАММА :\n",
            "  Научитесь видеть и уметь воспроизвести зубы разных возрастных групп композитом в прямой технике\n",
            "  \n",
            "  Почти на вс\n"
          ]
        },
        {
          "output_type": "display_data",
          "data": {
            "text/plain": [
              "<Figure size 640x480 with 1 Axes>"
            ],
            "image/png": "[encoded data removed]"
          },
          "metadata": {}
        }
      ]
    },
    {
      "cell_type": "markdown",
      "source": [
        "бдлок загрузки базы знаний с Github закончен"
      ],
      "metadata": {
        "id": "yM1koliTPcZK"
      }
    },
    {
      "cell_type": "code",
      "source": [
        "# Вывод первых 1000 символов документа для проверки\n",
        "print(data_from_github[:1000])"
      ],
      "metadata": {
        "colab": {
          "base_uri": "https://localhost:8080/"
        },
        "id": "bkE1n0dy8ysx",
        "outputId": "8608f765-67a1-4cfb-c159-7a0f2d4a0031"
      },
      "execution_count": 9,
      "outputs": [
        {
          "output_type": "stream",
          "name": "stdout",
          "text": [
            "# ВОЗРАСТ РЕЗЦА (СОШНИКОВ АЛЕКСЕЙ СЕРГЕЕВИЧ) 28 - 29 сентября 2024\n",
            "\n",
            "ВОЗРАСТ РЕЗЦА (СОШНИКОВ АЛЕКСЕЙ СЕРГЕЕВИЧ) 28 - 29 сентября 2024\n",
            "\n",
            "  Преподаватель: СОШНИКОВ АЛЕКСЕЙ СЕРГЕЕВИЧ\n",
            "  \n",
            "  Город: Чита\n",
            "  \n",
            "  ПРАКТИЧЕСКИЙ КУРС\n",
            "  28 сентября 2024\n",
            "  Регистрация с 9-00 до 10-00, курс с 10-00 до 18-00 (с перерывами на кофе-паузы и бизнес-ланч)\n",
            "  МАСТЕР-КЛАСС\n",
            "  29 сентября 2024\n",
            "  Регистрация с 9-00 до 10-00, курс с 10-00 до 18-00 (с перерывами на кофе-паузы и бизнес-ланч)\n",
            "  Место проведения: Будет объявлено дополнительно\n",
            "  Стоимость семинара - 16 500 рублей. Стоимость семинар+мастер-класс - 42 000 рублей. При внесении аванса 10 000 руб до 28 августа, стоимость 40 000 руб. Оставшуюся часть можно оплатить до даты курса.\n",
            "  \n",
            "  Дополнительно можно получить Свидетельство НМО 36 баллов. Учебный план сформирован на портале НМО и утвержден согласно 36 часам. Стоимость 3 000 руб.\n",
            "  \n",
            "  ПРОГРАММА :\n",
            "  Научитесь видеть и уметь воспроизвести зубы разных возрастных групп композитом в прямой технике\n",
            "  \n",
            "  Почти на вс\n"
          ]
        }
      ]
    },
    {
      "cell_type": "code",
      "source": [
        "# Указание заголовков, по которым будет происходить разделение\n",
        "headers_to_split_on = [\n",
        "    (\"#\", \"Header 1\"),\n",
        "]\n",
        "\n",
        "# Создание объекта MarkdownHeaderTextSplitter для разделения текста\n",
        "splitter = MarkdownHeaderTextSplitter(headers_to_split_on=headers_to_split_on)\n",
        "\n",
        "# Разделение текста на чанки\n",
        "chunks = splitter.split_text(data_from_github)\n",
        "\n",
        "# Вывод чанков\n",
        "for i, chunk in enumerate(chunks):\n",
        "    print(f\"Чанк {i+1}:\\n{chunk}\\n\")"
      ],
      "metadata": {
        "colab": {
          "base_uri": "https://localhost:8080/"
        },
        "id": "4TcNOqvm9B5x",
        "outputId": "012a5b29-3292-4099-d254-030b2db37718"
      },
      "execution_count": 10,
      "outputs": [
        {
          "output_type": "stream",
          "name": "stdout",
          "text": [
            "Чанк 1:\n",
            "page_content='ВОЗРАСТ РЕЗЦА (СОШНИКОВ АЛЕКСЕЙ СЕРГЕЕВИЧ) 28 - 29 сентября 2024  \\nПреподаватель: СОШНИКОВ АЛЕКСЕЙ СЕРГЕЕВИЧ  \\nГород: Чита  \\nПРАКТИЧЕСКИЙ КУРС\\n28 сентября 2024\\nРегистрация с 9-00 до 10-00, курс с 10-00 до 18-00 (с перерывами на кофе-паузы и бизнес-ланч)\\nМАСТЕР-КЛАСС\\n29 сентября 2024\\nРегистрация с 9-00 до 10-00, курс с 10-00 до 18-00 (с перерывами на кофе-паузы и бизнес-ланч)\\nМесто проведения: Будет объявлено дополнительно\\nСтоимость семинара - 16 500 рублей. Стоимость семинар+мастер-класс - 42 000 рублей. При внесении аванса 10 000 руб до 28 августа, стоимость 40 000 руб. Оставшуюся часть можно оплатить до даты курса.  \\nДополнительно можно получить Свидетельство НМО 36 баллов. Учебный план сформирован на портале НМО и утвержден согласно 36 часам. Стоимость 3 000 руб.  \\nПРОГРАММА :\\nНаучитесь видеть и уметь воспроизвести зубы разных возрастных групп композитом в прямой технике  \\nПочти на всех курсах в качестве практики выполняют реставрацию резца в максимальной анатомии, которая соответствует исключительно юным пациентам… но как часто у вас в кресле молодые люди до 20 лет?!\\nКак правило это исключительно пациенты с травмой передних зубов.\\nИ, как правило, это подростки  \\nНо что делать с остальными пациентами?\\nВедь зубы пациента в 15 и в 30 лет заметно отличаются. А зубы 50-летнего пациента не имеют ничего общего с 20-летним.  \\nЭтот практический курс был специально разработан для тех, кто хочет не только разбираться теоретически в отличиях между зубами разных возрастных групп, но готов реализовывать это композитными материалами прямо у кресла  \\nОбучение будет полезно:\\nДля стоматологов терапевтов.\\nДля стоматологов общей практики.\\nДля детских стоматологов.\\nДля интернов и ординаторов, которые планируют работать в клиниках\\nА также для стоматологов и зубных врачей с большим стажем, которые хотят повысить свои знания и мануальные навыки в реставрации зубов  \\nОсобенность курса в том, что каждый участник сможет не только освежить свои представления о строении зубов разного возраста на примерах фотографий натуральных резцов и разницы в реставрации дефектов различной степени поражения, но и выполнить лично на фантоме все отличия в анатомии центрального резца 6-25 лет, 25-50 лет и 50+ лет возрастных групп  \\nЧто получит участник:\\n1. Перечень и разновидности элементов из которых складывается представление о зубах молодого, среднего и пожилого возраста\\n2. \\u2060Последовательный протокол реставрации зуба в модифицированной технике стратификации по Ванини\\n3. \\u2060Несколько десятков кейсов с отдаленными результатами реставрации зубов через 1-12 лет\\n4. \\u2060Видео инструкцию с последовательностью этапов реставрации и полировки центрального резца с пояснениями автора\\n5. \\u2060Узнают, почему после реставрации пациенту не запрещено употреблять красящие напитки, кусать твердое и можно давать гарантию 10 лет  \\nСамые частые проблемы и вопросы при реставрации:\\n1. Как подобрать оттенок композита быстро и надежно, чтобы реставрация не отличалась по цвету\\n2. \\u2060Почему реставрация не должна выпадать или ломаться. Самые распространенные ошибки. Как их избежать\\n3. \\u2060Как научиться видеть элементы анатомии и уметь повторить, чтобы реставрация была идентична натуральному зубу\\n4. \\u2060 Какие существуют варианты лечения при травме зубов, с поражением нерва и без\\n5. \\u2060Как полировать реставрацию так, чтобы через неделю она не стала матовой\\n6. \\u2060Как добиться плотного контактного пункта между зубами, чтобы нить щелкала  \\nЛекционная часть:  \\n- Композит. Области применения\\n- Способы определение оттенка композита. Как правильно\\n- Варианты изготовления силиконового шаблона. Видео\\n- Особенности изоляции во фронтальном участке. Основы ежедневной изоляции. Видео\\n- Подготовка полости. Адгезивный протокол. Видео\\n- Способы создания контактного пункта в передних зубах\\n- Особенности модифицированной современной техники стратификации по Ванини\\n- Отличительные особенности зубов у пациентов разного возраста. Какие этапы проходит каждый зуб со временем  \\nПрактическая часть  \\n- Каждый участник выполняет пошаговый протокол реставрации центрального резца разных возрастных групп. Целых ТРИ реставрации одного зуба, в зависимости от возраста пациента. Моделирование внутренних и внешних\\nструктур зуба (мамелоны, эффект Гало, трещины, пятна, разная яркость и степень прозрачности эмали, текстура), а также 3 разновидности полировки поверхности  \\nПродолжительность 2 дня 10:00-18:00\\nЛюбая фото- и видеосъемка во время обучения разрешена. Хорошее настроение на семинаре и мотивация для новых достижений гарантирована  \\nПо окончании курса выдается именной Сертификат ООО «ПРОФЕССИОНАЛ» с указанием учебных часов.  \\nссылка на pdf: https://profistomat.ru/wp-content/uploads/2024/04/Programma-Soshnikov-VOZRAST-REZTSA-28-29-sentyabrya-CHIta.pdf  \\nссылка на страницу курса: https://profistomat.ru/lecturers/soshnikov-aleksej-sergeevich/vozrast-reztsa/' metadata={'Header 1': 'ВОЗРАСТ РЕЗЦА (СОШНИКОВ АЛЕКСЕЙ СЕРГЕЕВИЧ) 28 - 29 сентября 2024'}\n",
            "\n",
            "Чанк 2:\n",
            "page_content='ФУНКЦИОНАЛЬНОЙ ОРИЕНТИРОВАННЫЙ ПОДХОД В ДИАГНОСТИКЕ И ПЛАНИРОВАНИИ ЛЕЧЕНИЯ ПАТОЛОГИИ ЖЕВАТЕЛЬНОГО АППАРАТА (ЕРМОШЕНКО РОМАН БОРИСОВИЧ) 5 октября 2024  \\nПреподаватель: ЕРМОШЕНКО РОМАН БОРИСОВИЧ  \\nГород: Новосибирск  \\n5 октября 2024\\nСЕМИНАР\\nРегистрация с 9-00 до 10-00, курс с 10-00 до 18-00 (с перерывами на кофе-паузы и бизнес-ланч)\\nМесто проведения курса: будет объявлено дополнительно ближе к дате курса.\\nСтоимость курса: 25 000 руб. При оплате за оба курса до 05.09.2024 стоимость курсов 42 000 руб. Без предоплаты мы не гарантируем Вам место на курсе.  \\nДополнительно можно получить Удостоверение о повышении квалификации государственного образца НМО 36 баллов. Стоимость - 3000 руб. Срок получения 1 месяц.  \\nПРОГРАММА :\\nВторая часть семинара Гнатология рассматривает структуру, состав, анатомическое, гистологическое строение, физиологическию и патофизиологические процессы, биомеханику и связь элементов Стоматогнатической системы в рамках концепции последовательного развития нарушения.\\nКурсантам предлагается четкая, проверенная обширным практическим применением концепция, которая является основанием для корректной диагностики и оценки состояния всех элементов стоматогнатической системы. Для проведения скрининга и документирования состояния всех структур курсанты знакомятся с разработанной и утвержденной авторской картой обследования, также прошедшей опробацию и утверждение на базе медицинского университета.\\nАдаптометрический подход в оценке состояния жевательного аппарата является результатом 30 летней научной работой автора курса.\\nНа нашем курсе теоретически и практически выполняется построение функционального профиля каждого курсанта на основании мануального функционального анализа, позволяющего четко и безошибочно оценить степень развития нарушения у конкретного человека в выбранный момент времени с ограниченным использованием вспомогательных методов исследования. Данный диагностический комплекс позволяет определять обьем, состав и продолжительность лечебных мероприятий с позиции обеспечения безопасности пациента, выполнять построение прогностических гарантий. Предложенная стратегия ведет к пониманию истинных и ложных целей терапии.\\nСистемная оценка состояния всех функциональных связей всех элементов стоматогнатического комплекса позволяет определить явления, которые ведут к развитию компликаций и осложнений в полной окклюзионной реабилитации пациентов. Вводится и проясняется понятие интегральной нейрофизиологической стоматологии -как единственно направления, обеспечивающего полное решение проблем пациентов. Разбираются и четко локализуются временные рамки, в которых корректно выбранный алгоритм мероприятий обеспечивает такое решение.\\nКурс теоретический с демонстрацией и элементами практики. Продолжительность 1 день (8-9 часов)  \\nСодержание курса:\\n1.Стоматогнатическая система. Элементы и их функциональные взаимодействия. От диагноза к выбору терапии. Структура развития Общего адаптационного синдрома применительно к этапам развития функциональной патологии. Границы междисциплинарного взаимодействия. Прогностические гарантии.\\n2.Диагностический комплекс.\\n- Постуральный анализ. Поза и прикус. Кранио-вертебральный комплекс. Неоптимальная постуральная компенсация. Оценка направления развития комменсации. Клинико-диагностические параллели.\\n-Нейромышечый комплекс. Анатомо-физиологическая характеристика. Патогенез нарушения. От соотношения Фаррара к изометрическим пробам. Руки – диагностический инструмент. Документирование состояния элементов нейромышечного комплекса. Мануальный функциональный анализ. Понятие специфического и неспецифического вектора нагрузки. Вербальные формулировки диагноза функциональной патологии нейромышечного комплекса. Алгоритмы решения проблем в зависимости от стадии развития нарушения.\\n-Височно-нижнечелюстное сочленение. Подробная анатомо-физиологическая характеристика сочленовных элементов , диско-мыщелкового комплекса, биламинарной зоны, связок и суставной капсулы. Мануальный и инструментальный функциональный анализ.. Документирования состояния элементов ВНЧС. От гипермобильности к невправимой дислокации суставного диска и дегенаративным изменениям ВНЧС. Состояния не оставляющие возможности для консервативного лечения. . Вербальные формулировки диагноза функциональной патологии нейромышечного комплекса. Алгоритмы решения проблем в зависимости от стадии развития нарушения.\\n3.Дополнительные методики исследования механическая коллинеарная аксиография, электронная кондиллография, КлКТ, МРТ, УЗИ. Необходимость или экстравагантная механизация. Возможности и ограничения методов визуализации\\n4.Демонстрация и самостоятельная работа курсантов.\\n5.Обсуждение и обмен мнениями.\\nКурсантам предоставляется: Содержание лекции в *PDF формате, диагностическая карта\\nОбеспечение курса: Одноразовые перчатки, Распечатанные на принтере диагностические карты, Одноразовые бумажные линейки. Шариковые или гелевые ручки двух цветов.  \\nПо окончании курса выдается именной Сертификат ООО «ПРОФЕССИОНАЛ»  \\nссылка на pdf: https://profistomat.ru/wp-content/uploads/2024/04/Programma-5-6-oktyabrya-2024-Ermoshenko-Novosibirsk.pdf  \\nссылка на страницу курса: https://profistomat.ru/lecturers/roman-borisovich-ermoshenko/funktsionalnoj-orientirovannyj-podhod-v-diagnostike-i-planirovanii-lecheniya-patologii-zhevatelnogo-apparata/' metadata={'Header 1': 'ФУНКЦИОНАЛЬНОЙ ОРИЕНТИРОВАННЫЙ ПОДХОД В ДИАГНОСТИКЕ И ПЛАНИРОВАНИИ ЛЕЧЕНИЯ ПАТОЛОГИИ ЖЕВАТЕЛЬНОГО АППАРАТА (ЕРМОШЕНКО РОМАН БОРИСОВИЧ) 5 октября 2024'}\n",
            "\n",
            "Чанк 3:\n",
            "page_content='ТОТАЛЬНЫЕ РАБОТЫ НА ИМПЛАНТАХ (ЗЕМАН АЛЕКСЕЙ) 5 октября 2024  \\nПреподаватель: ЗЕМАН АЛЕКСЕЙ  \\nГород: Новосибирск  \\nСЕМИНАР\\n5 октября 2024\\nРегистрация с 9-00 до 10-00, курс с 10-00 до 18-00 (с перерывами на кофе-паузы и бизнес-ланч)\\nМесто проведения будет объявлено дополнительно\\nСтоимость курса: 25 000 руб. При внесении аванса 10 000 руб до 5 сентября, стоимость 22 000 руб. Оставшуюся часть можно оплатить ближе к дате курса или на курсе.  \\nДополнительно можно получить Удостоверение о повышении квалификации государственного образца, НМО 36 баллов. Стоимость 3000 руб. Срок получения 1 месяц.  \\nПРОГРАММА :\\nучебный курс Алексея Земана и Юрия Хасратьянца «ТОТАЛЬНЫЕ РАБОТЫ НА ИМПЛАНТАХ»  \\nОРТОПЕДИЧЕСКИЙ БЛОК:\\n• Оттиски с операционной раны:\\n- трансфера и трансфер-чек\\n- ложки, изоляция раны\\n- методики и массы\\n• Предварительная регистрация ЦС\\n• Методы регистрации ЦС при «все на 4/6»\\n• Варианты временных конструкций разных типов,\\nармирование\\n• Лабораторный трансфер-чек и оттиски для постоянной\\nконструкции\\n• Регистрация прикуса и его передача в лабораторию\\n• Постоянные конструкции различных типов\\n• Гигиена  \\nПо окончании курса выдается именной Сертификат ООО «ПРОФЕССИОНАЛ»  \\nссылка на pdf: https://profistomat.ru/wp-content/uploads/2024/04/Programma-5-oktyabrya-Novosibirsk-Zeman-Hasratyants.pdf  \\nссылка на страницу курса: https://profistomat.ru/lecturers/zeman-aleksej/totalnye-raboty-na-implantah/' metadata={'Header 1': 'ТОТАЛЬНЫЕ РАБОТЫ НА ИМПЛАНТАХ (ЗЕМАН АЛЕКСЕЙ) 5 октября 2024'}\n",
            "\n",
            "Чанк 4:\n",
            "page_content='ТОТАЛЬНЫЕ РАБОТЫ НА ИМПЛАНТАХ (ХАСРАТЬЯНЦ ЮРИЙ) 5 октября 2024  \\nПреподаватель: ХАСРАТЬЯНЦ ЮРИЙ  \\nГород: Новосибирск  \\nСЕМИНАР\\n5 октября 2024\\nРегистрация с 9-00 до 10-00, курс с 10-00 до 18-00 (с перерывами на кофе-паузы и бизнес-ланч)\\nМесто проведения будет объявлено дополнительно\\nСтоимость курса: 25 000 руб. При внесении аванса 10 000 руб до 5 сентября, стоимость 22 000 руб. Оставшуюся часть можно оплатить ближе к дате курса или на курсе.  \\nДополнительно можно получить Удостоверение о повышении квалификации государственного образца, НМО 36 баллов. Стоимость 3000 руб. Срок получения 1 месяц.  \\nПРОГРАММА :\\nучебный курс Алексея Земана и Юрия Хасратьянца «ТОТАЛЬНЫЕ РАБОТЫ НА ИМПЛАНТАХ»  \\nХИРУРГИЧЕСКИЙ БЛОК:\\no Специфика лечения и особенности подхода.\\no Показания и противопоказания для «все на 4/6»\\no Консультация и диагностика.\\no Планирование и хирургические шаблоны.\\no Подготовка к операции\\no Протоколы операции:\\n- с редукцией,\\n- с сохранением параметров гребня,\\n- при сложных костных условиях\\no Передача ортопеду\\no Ошибки и осложнения  \\nссылка на pdf: https://profistomat.ru/wp-content/uploads/2024/04/Programma-5-oktyabrya-Novosibirsk-Zeman-Hasratyants.pdf  \\nссылка на страницу курса: https://profistomat.ru/lecturers/hasratyants-yurij/totalnye-raboty-na-implantah/' metadata={'Header 1': 'ТОТАЛЬНЫЕ РАБОТЫ НА ИМПЛАНТАХ (ХАСРАТЬЯНЦ ЮРИЙ) 5 октября 2024'}\n",
            "\n",
            "Чанк 5:\n",
            "page_content='СПЛИНТ ТЕРАПИЯ. ОККЛЮЗИОННЫЕ И ФУНКЦИОНАЛЬНО ДЕЙСТВУЮЩИЕ ОРТОПЕДИЧЕСКИЕ ПРИСПОСОБЛЕНИЯ. РАЗНОВИДНОСТИ. КЛАССИФИКАЦИИ. ПОКАЗАНИЯ И АЛГОРИТМЫ РАБОТЫ ПРИ РАЗЛИЧНЫХ ВИДАХ ФУНКЦИОНАЛЬНОЙ ПАТОЛОГИИ (ЕРМОШЕНКО РОМАН БОРИСОВИЧ) 6 октября 2024  \\nПреподаватель: ЕРМОШЕНКО РОМАН БОРИСОВИЧ  \\nГород: Новосибирск  \\nСЕМИНАР+МАСТЕР-КЛАСС\\n6 октября 2024\\nРегистрация с 9-00 до 10-00, курс с 10-00 до 18-00 (с перерывами на кофе-паузы и бизнес-ланч)\\nМесто проведения будет объявлено дополнительно.\\nСтоимость курса: 25 000 руб. При оплате за оба курса до 05.09.2024 стоимость курсов 42 000 руб. Без предоплаты мы не гарантируем Вам место на курсе.  \\nДополнительно можно получить Удостоверение о повышении квалификации государственного образца НМО 36 баллов. Стоимость - 3000 руб. Срок получения 1 месяц.  \\nПРОГРАММА :\\nТретья часть программы, логическое продолжение курса, детально рассматривающее начальный этап окклюзионной реабилитации. В ходе курса определяются показания к применению окклюзионных ортопедических и функционально действующих ортопедических приспособлений (далее ООП и ФДОП) их классификации, выбор, методики изготовления, алгоритмы использования, возможности комбинации от миопатии до артропатии. Разбираются особенности (обзор) использования ООП при бруксизме, эксцентрических парафункциях, гиперкинезах покоя, храпе и ночном апное. Спортивные каппы.  \\nПродолжительность 1 день (8-9 часов), 3 часа теоретическое обоснование и 5 часов практическая работа: изготовление ООП «MAGO» Термопресс-формирование Miniplast Drum и последующим моделированием в пространстве артикулятора с модифицированной функцией направляющих. Работа выполняется на фантомных гнатодах с арбитрарным расположением в пространстве регулируемого артикулятора.\\nКоличество курсантов СТРОГО ЛИМИТИРОВАНО из-за сложности организации и проведения практической части!\\nСодержание теоретической части:\\n1.История метода лечения, его общая и частная характеристики в представлении IAG «Международной академии гнатологии». Существующие классификации Ramfjord & Ash, DGZMK. Конвенциональные технологии изготовления v.s. софременные цифровые возможности. Требования к материалам и способам изготовления. Факторы, влияющие на выбор технологии.\\n2.Группа приспособлений использующих в качестве рабочего элемента ограниченный участок зубного ряда, накусочные площадки. Философия применения AMPS на примере приспособлений Howley, Planas, Dessner, Posselt, Immenkamp, Schulte, Lucia, SVED, Kois, NTI. Способы изготовления. Алгоритмы назначения и использования. Частный случай Interceptor Schulte – спасительное решение.\\n3.Группа приспособлений перекрывающих всю окклюзионную поверхность зубного ряда. Выбор челюсти. Варианты организации окклюзионных контактов в зависимости от вида патологии и назначения “point-in - centric”, “freedom-in-centric”, “orthoballance” на примере приспособлений BFE, Schultz-Bongert, Tanner, Slavicek, Michigan, Gaush, Kubein-Messenburgh. Ретрузионный контроль v.s полная анатомия. Роль направляющих в сплинт-терапии. Разновидности конструкций ООП в зависимости от избранной роли направляющих “minimal sufficient” , “actually modified” ,”pre-installed”, “CCF®”. Окклюзионные приспособления без направляющих Shore appliance & Kobes. Показания к применению. Изготовление. Алгоритмы ведения терапии.\\n4.Центрическая и эксцентрическая репозиция. Стратегия использования и критерии выбора дистракционных и протрузионных присоблений. Терапевтическое соотношение с точки зрения классической гнатологии v.s функциональные концепции. Способы изготовления.. Алгоритмы ведения терапии.\\n5.Щиты, дилататоры, стандартные приспособления, спортивные каппы. Место стандартных приспособлений, показания к использованию, ограничения.\\n6. Обсуждение и обмен мнениями.\\nСодержание практической части:\\n• Самостоятельная работа курсантов.\\n• Перенос фантомных гнатодов в пространство артикулятора арбитрарно.\\n• Модификация передних направлящих.\\n• Регистрация модифицированных детерминант.\\n• Компенсация дистанции разобщения.\\n• Термопресс формирование “Miniplast Drum”.\\n• Работа с границами и дизайном ООП.\\n• Моделирование ООП из акрилатов холодной полимеризации.\\n• Разработка контактной схемы.\\n• Разработка передних детерминант.\\n• Окончательная обработка  \\nКурсантам предоставляется: Содержание основных положений темы в *PDF формате.  \\nКурсанты имеют с собой:\\nЗащитные очки. Халат. Артикулятор. 2 монтажные пластины. Моделировочный инструмент PKT 1, моделировочный воск любого цвета, скальпель. Фрезы для работы с пластмассой. Трехгранную фрезу. Ультратримм для обработки полиэтилена. Артикуляционную бумагу синего и красного цвета. Перманентный маркер красного цвета.  \\nПо окончании курса выдается именной Сертификат ООО «ПРОФЕССИОНАЛ».  \\nссылка на pdf: https://profistomat.ru/wp-content/uploads/2024/04/Programma-5-6-oktyabrya-2024-Ermoshenko-Novosibirsk.pdf  \\nссылка на страницу курса: https://profistomat.ru/lecturers/roman-borisovich-ermoshenko/splint-terapiya-okklyuzionnye-i-funktsionalno-dejstvuyushhie-ortopedicheskie-prisposobleniya-raznovidnosti-klassifikatsii-pokazaniya-i-algoritmy-raboty-pri-razlichnyh-vidah-funktsionalnoj-patologi/' metadata={'Header 1': 'СПЛИНТ ТЕРАПИЯ. ОККЛЮЗИОННЫЕ И ФУНКЦИОНАЛЬНО ДЕЙСТВУЮЩИЕ ОРТОПЕДИЧЕСКИЕ ПРИСПОСОБЛЕНИЯ. РАЗНОВИДНОСТИ. КЛАССИФИКАЦИИ. ПОКАЗАНИЯ И АЛГОРИТМЫ РАБОТЫ ПРИ РАЗЛИЧНЫХ ВИДАХ ФУНКЦИОНАЛЬНОЙ ПАТОЛОГИИ (ЕРМОШЕНКО РОМАН БОРИСОВИЧ) 6 октября 2024'}\n",
            "\n",
            "Чанк 6:\n",
            "page_content='ПРОФЕССИОНАЛЬНОЕ ВЫГОРАНИЕ СОТРУДНИКОВ СТОМАТОЛОГИЧЕСКИХ КЛИНИК (НЕМОВА МАРИНА БОРИСОВНА) 12 - 13 октября 2024  \\nПреподаватель: НЕМОВА МАРИНА БОРИСОВНА  \\nГород: Новосибирск  \\nСЕМИНАР-ТРЕНИНГ\\n12 октября 2024\\nРегистрация с 09:00 до 10:00, курс с 10:00 до 18:00 (с перерывами на кофе-паузу и бизнес-ланч)\\nСЕМИНАР-ТРЕНИНГ\\n13 октября 2024\\nРегистрация с 09:00 до 10:00, курс с 10:00 до 18:00 (с перерывами на кофе-паузу и бизнес-ланч)\\nг.Новосибирск, отель «Рамада», ул. Победы, д.55, конференц-зал на первом этаже.\\nСтоимость 2-х дней до 01 октября – 18 500 руб., после 01 октября – 25 000 руб.  \\nПРОГРАММА :\\nСеминар создан на стыке двух дисциплин - взгляд на стоматологию через призму психологии. Ежедневный клинический опыт позволяет мне констатировать факторы риска и механизмы развития выгорания, а прикладные знания фундаментальной психологии способствуют разработке конкретных практических рекомендаций для коллег.\\nКому будет интересен семинар:\\nВрачам – стоматологам всех специальностей(терапевты, хирурги, ортопеды, детские стоматологи, ортодонты).\\nГигиенистам стоматологическим.\\nАссистентам врачей- стоматологов.\\nАдминистраторам стоматологических клиник.\\nРуководителям стоматологических клиник.\\nПРОГРАММА СЕМИНАРА – теоретическая часть 12 октября (суббота):\\n• Определение, исторические аспекты возникновения Синдрома Профессионального выгорания, статистика.\\n• Факторы риска(связанные со спецификой работы сотрудников стоматологических клиник, личностные факторы). Психограмма специальностей сотрудников стоматологических клиник.\\n• Психофизиологические механизмы развития Синдрома Профессионального выгорания.\\n• Клиническая симптоматика.\\n• Диагностика состояния.\\n• Пути выхода (анализ и принятие решения, влияние на внешние и на внутренние факторы).\\n• Методы саморегуляции и самокоррекции (показания, способы применения): телесно-ориентированные методики; социально-ориентированный подход; когнитивно-поведенческая терапия. БОС-терапия.\\n• Правила обращения за психологической помощью.  \\nПрактическая часть 13 октября (воскресеньн): «Я В СТОМАТОЛОГИИ» ПОИСК ВНУТРЕННИХ РЕСУРСОВ»\\nТренинг –«Я в стоматологии. Поиск внутренних ресурсов». Авторская методика, созданная на основе классических тренингов по психологии и адаптированная для сотрудников стоматологий.\\nТренинг является лабораторной ситуацией. Это способ активного самопознания и самообучения.  \\nХод тренинга:\\nАнализ состояния на текущий момент.( Есть ли у меня выгорание?)\\nОбсуждение конкретных ситуаций каждого участника. (Что со мной происходит?)\\nПоиск решений. (Как мне двигаться дальше?)\\nВсе упражнения выстроены в логическую цепочку и по окончанию каждый участник приобретает индивидуальный план действий.\\nАтмосфера принятия и конфиденциальности.  \\nПо окончании курса выдается именной Сертификат ООО «ПРОФЕССИОНАЛ»  \\nссылка на pdf: https://profistomat.ru/wp-content/uploads/2024/04/Programma-seminara-Profilaktika-professionalnogo-vygoraniya-v-stomatologii-.-M.-Nemova_docx.pdf  \\nссылка на страницу курса: https://profistomat.ru/lecturers/nemova-marina-borisovna/professionalnoe-vygoranie-sotrudnikov-stomatologicheskih-klinik-ya-v-stomatologii-poisk-vnutrennih-resursov/' metadata={'Header 1': 'ПРОФЕССИОНАЛЬНОЕ ВЫГОРАНИЕ СОТРУДНИКОВ СТОМАТОЛОГИЧЕСКИХ КЛИНИК (НЕМОВА МАРИНА БОРИСОВНА) 12 - 13 октября 2024'}\n",
            "\n",
            "Чанк 7:\n",
            "page_content='ПАРОДОНТОЛОГИЯ ДЛЯ ХИРУРГОВ. СВОЕВРЕМЕННАЯ ИМПЛАНТАЦИЯ (ВОЛКОВА ЮЛИЯ ВАЛЕРЬЕВНА) 8 - 9 ноября 2024  \\nПреподаватель: ВОЛКОВА ЮЛИЯ ВАЛЕРЬЕВНА  \\nГород: Волгоград  \\nПРАКТИЧЕСКИЙ КУРС\\n8 ноября 2024\\nРегистрация с 9-00 до 10-00, курс с 10-00 до 18-00 (с перерывами на кофе-паузы и бизнес-ланч)\\nПРАКТИЧЕСКИЙ КУРС\\n9 ноября 2024\\nРегистрация с 9-00 до 10-00, курс с 10-00 до 18-00 (с перерывами на кофе-паузы и бизнес-ланч)\\nМесто проведения будет объявлено дополнительно\\nСтоимость семинара: 20 000 руб. Стоимость 2х дневного курса: 28 000 руб. При внесении аванса 10 000 руб до , стоимость руб. Оставшуюся часть можно оплатить ближе к дате курса или на курсе.  \\nДополнительно можно получить Удостоверение о повышении квалификации государственного образца НМО 36 баллов. Стоимость - 3000 руб. Срок получения 1 месяц.  \\nПРОГРАММА :\\nАвтор проанализирует мировые стандарты в пародонтологии и имплантации и поделится своим клиническим опытом\\nРазбор клинических кейсов на каждом этапе.\\nПрограмма адресована: стоматологам: пародонтологам, хирургам и имплантологам, руководителям клиник.\\nЦель :\\n• Мы обсудим результативную коммуникацию пародонтолога и хирурга\\n• Выбор правильной тактики в сложных клинических ситуациях\\n• Как повысить выживаемость имплантатов у пациентов с заболеваниями пародонта\\n• Смену парадигмы - рациональное сохранение зубов при пародонтите тяжелой степени\\n• Как привлечь новых пациентов и удержать постоянных\\nЭтот тренинг поможет Вам :\\n• Избежать осложнений в имплантации у пародонтологических пациентов\\n• Принять нестандартное решение в нестандартной ситуации\\n• Получить дополнительный доход от нового направления  \\nПрограмма - Лекционный день\\n• Выбор тактики лечения в сложных клинических случаях.\\n• Понятие комплексного лечения: пародонтологическое, ортодонтическое, ортопедическое лечение, пластическая пародонтальная хирургия.\\n• Коммуникация пародонтолога, хирурга и гигиениста\\n• Мотивация пациента к проведению лечения.\\n• Критерии принятия решения : лечение или удаление зубов.\\nОсобенности одномоментной имплантации у пациентов с пародонтитом тяжелой степени •\\n• Пародонтальная подготовка к имплантации.\\n• Пародонтальная подготовка к протезированию\\n• Важность поддерживающей пародонтальной терапии для профилактики периимплантита.  \\nПрактика: практический интенсив на биомоделях\\nХирургические методики все участники отработают на практике под руководством преподавателя\\n1. Подготовка к имплантации при пародонтите - одномоментная аугментация в зоне глубоких костных карманов\\n2. Регенеративные методики сохранения зубов - метод одного разреза (методика MIST и современные модификации)\\n3. Закрытие рецессий при пародонтите. Пластика рецессии и внутрикостного кармана методом «мягкотканной стенки»  \\nПо окончании курса выдается именной Сертификат ООО «ПРОФЕССИОНАЛ».  \\nссылка на pdf: https://profistomat.ru/wp-content/uploads/2024/04/Programma-Volkova-Volgograd.pdf  \\nссылка на страницу курса: https://profistomat.ru/lecturers/volkova-yuliya-valerevna/parodontologiya-dlya-hirurgov-svoevremennaya-implantatsiya/' metadata={'Header 1': 'ПАРОДОНТОЛОГИЯ ДЛЯ ХИРУРГОВ. СВОЕВРЕМЕННАЯ ИМПЛАНТАЦИЯ (ВОЛКОВА ЮЛИЯ ВАЛЕРЬЕВНА) 8 - 9 ноября 2024'}\n",
            "\n",
            "Чанк 8:\n",
            "page_content='СЛОЖНЫЕ СЛУЧАИ В ЭНДОДОНТИИ. БОЛЬ В СТОМАТОЛОГИИ: ПРИЧИНА ОБРАЩЕНИЯ ПАЦИЕНТА В КЛИНИКУ (КОРНЕТОВА ИРИНА ВЛАДИМИРОВНА) 9 - 10 ноября 2024  \\nПреподаватель: КОРНЕТОВА ИРИНА ВЛАДИМИРОВНА  \\nГород: Волгоград  \\nСЕМИНАР+МАСТЕР-КЛАСС\\n9 ноября 2024\\nРегистрация с 9-00 до 10-00, курс с 10-00 до 18-00 (с перерывами на кофе-паузы и бизнес-ланч)\\nМАСТЕР-КЛАСС\\n10 ноября 2024\\nРегистрация с 9-00 до 10-00, курс с 10-00 до 18-00 (с перерывами на кофе-паузы и бизнес-ланч)\\nМесто проведения: будет объявлено дополнительно, отель 4-5 звезд в центре города\\nСтоимость семинара: 17 500 руб. Стоимость мастер-класса: 20 000 руб. Стоимость семинар+мастер-класс: 30 000 руб. при внесении аванса 10 000 руб до 9 октября, стоимость 22 500 руб.\\nОставшуюся часть можно оплатить ближе к дате курса или на курсе.  \\nДополнительно можно получить Удостоверение о повышении квалификации государственного образца, НМО 36 баллов. Стоимость 3 000 руб. Срок получения 1 месяц.  \\nПРОГРАММА :\\nПРОГРАММА СЕМИНАРА:  \\n1. Диагностика и визуализация в эндодонтиии.\\n1.1. 3D КТ диагностика и анатомия корневых каналов.\\n1.2. Микроскоп, 3D микроскоп и 3Dвизуализация анатомии корневых каналов.\\n2. Болевой синдром в эндодонтии.Постановка точного диагноза.\\n2.1. Обратимый и необратимый пульпит. Сохранение витальности зуба.\\n2.2. Апикальная граница механической обработки корневого канала.\\n2.3. Шейпинг-стратегии в эндодонтии при лечении пульпита.\\n2.4. Апикальный периодонтит.Этиология. Патогенез.\\n2.5. Подходы к препарированию корневых каналов при периодонтите.\\n2.6. 3Dдезинфекция корневых каналов.\\n2.7.Обтурация. Современные подходы.Биокерамика.\\n3.Эндодонтия или имплантация? Современная клиническая дилемма.\\n3.1.Облитерированные корневые каналы. Тактика принятия решения в процессе работы.\\n3.2. Перфорация корневых каналов: диагностика,тактика лечения.\\n3.3. Cломанный инструмент в корневом канале:удаление или сохранение зуба?\\n3.4. Извлечение гуттаперчи, термофила, фосфат-цемента, резорцин-формалина, пасты.\\n3.5.Металлические и СВ штифты.Ceкрет извлечения.\\n3.6. Лазеры в эндодонтии.\\n3.7.Ключи успехаи 3Dуспех в эндодонтии.  \\nМАСТЕР-КЛАСС:\\n1-й вариант.\\nУчастникам практического курса необходимо подготовить эндодонтические образцы – два верхних и два нижний моляра (премоляра), закрепленных в гипсовом блоке (два зуба предназначены для первичного эндодонтического лечения, два зуба желательно с запломбированными каналами (резорцин-формалиновый метод, гуnаперча, фосфат-цемент).\\nПри желании работать на удаленных зубах, удаленные зубы с созданным эндодонтическим доступом необходимо подготовить самостоятельно.  \\n2-й вариант мастер-класса. Эндодонтия с увеличением. Практическая часть.\\n1. Инструмент R-pilot. Концепция препарирования.\\n2. Обработка корневых каналов инструментамиMtwo, Reciproc, ReciprocBlue (VDW, GmBH, Германия).\\n3. Применение ультразвука VDWUltra(VDW, GmBH, Германия) в процессе эндодонтического лечения.\\n4. Протокол ирригации.\\n5. Пломбирование каналов системой BeeFill(VDW, GmBH, Германия) горячей гуттаперчей техникой вертикальной конденсации.\\n6. Самостоятельная работа с микроскопом на пластиковых блоках, удаленных зубах.\\n7. Разбор сложных клинических случаев.  \\n3-й вариант. Практическая часть.\\n1. Отработка мануальных навыков препарирования корневых каналов файламиMtwo, Reciproc под контролем операционного микроскопа на пластиковых блоках и удаленных зубах(принципы работы инструментами при первичном и повторном эндодонтическом лечении).\\n2. Пломбирование корневых каналов:\\n• техника латеральной конденсации;\\n• техника термофила;\\n• техника вертикальной конденсации горячей гуттаперчи.\\n3. Удаление отломка инструмента при помощи ультразвука VDW. Ultra под контролем операционного микроскопа\\n4. Удаление гуттаперчи из корневого канала при помощи файла Reciproc.  \\nПо окончании курса выдается именной Сертификат ООО «ПРОФЕССИОНАЛ»  \\nссылка на pdf: https://profistomat.ru/wp-content/uploads/2024/04/Programma-Kornetova-Volgograd-9-10-noyabrya.pdf  \\nссылка на страницу курса: https://profistomat.ru/lecturers/irina-kornetova/slozhnye-sluchai-v-endodontii-bol-v-stomatologii-prichina-obrashheniya-patsienta-v-kliniku-2/' metadata={'Header 1': 'СЛОЖНЫЕ СЛУЧАИ В ЭНДОДОНТИИ. БОЛЬ В СТОМАТОЛОГИИ: ПРИЧИНА ОБРАЩЕНИЯ ПАЦИЕНТА В КЛИНИКУ (КОРНЕТОВА ИРИНА ВЛАДИМИРОВНА) 9 - 10 ноября 2024'}\n",
            "\n",
            "Чанк 9:\n",
            "page_content='УПРАВЛЕНИЕ ПОВЕДЕНИЕМ РЕБЁНКА НА СТОМАТОЛОГИЧЕСКОМ ПРИЕМЕ (СКАТОВА ЕКАТЕРИНА АЛЕКСАНДРОВНА) 9 - 10 ноября 2024  \\nПреподаватель: СКАТОВА ЕКАТЕРИНА АЛЕКСАНДРОВНА  \\nГород: Волгоград  \\nСЕМИНАР\\n9 ноября 2024\\nРегистрация с 9-00 до 10-00, курс с 10-00 до 18-00 (с перерывами на кофе-паузы и бизнес-ланч)\\nСЕМИНАР\\n10 ноября 2024\\nРегистрация с 9-00 до 10-00, курс с 10-00 до 18-00 (с перерывами на кофе-паузы и бизнес-ланч)\\nМесто проведения будет объявлено дополнительно.\\nСтоимость 2х дневного курса: 24 000 руб. Без предоплаты мы не гарантируем Вам место на курсе.  \\nДополнительно можно получить Удостоверение о повышении квалификации государственного образца НМО 36 баллов. Стоимость - 3000 руб. Срок получения 1 месяц.  \\nПРОГРАММА :\\n1й день\\n• Начните управлять собой: аудит внутренних и внешних признаков детского стоматолога.\\n• Внутренняя гармония детского стоматолога залог успешного лечения\\n• Эффект белого халата - как это действует на врача и на пациента.\\n• Критерии выбора медицинской одежды на детском приеме.\\n• Особенности макияжа, прически и выбора аксессуаров для детского стоматолога\\n• Что должно быть, а чего не должно быть в хорошей детской клинике\\n• Маршрутизация пациентов: что это такое, как влияет на поведение ребёнка и как можно ДО входа в кабинет «прокачать позитив»\\n• Внутри стоматологического кабинета - необходимости и излишества: все должно быть под рукой.\\n• Адаптация против удержания - виртуальная битва 21 века. Анализ зарубежных литературных источников и официальных протоколов мировых ассоциаций детских стоматологов.\\n• Уникальные психологические эксперименты по изучению предпосылок к различным моделям стоматологического лечения.\\n• Лечить, а не калечить - как быть уверенным, что ты действуешь во благо ребёнка.\\n• Управление поведением - фундаментальные предпосылки и базовые методики.\\n• Сказал- показал- сделал\\n• Дистракция\\n• Позитивная поддержка\\n2-й день\\n• Анатомия страха - врага надо знать в лицо\\n• Систематическая десенсибилизация - основной метод модификации поведения ребёнка у стоматолога\\n• Методический подход к проведению систематической десенсибилизации\\n• Детский рисунок в диагностике и терапии страха\\n• Другие психологические методы и трюки: флудинг терапия, «нога в двери», «дверь в лицо».\\n• Введение в невербальную коммуникацию, что это такое и как ее применять.\\n• Почему так вредны скрипты для детского стоматолога.\\n• Практика:\\n\\uf076 Как договориться с ребёнком, не используя слов\\n\\uf076 Как убедить маму, не используя слов\\nПогружение в сказку - как отправиться с ребёнком в увлекательное приключение, где нет места страху  \\nПо окончании курса выдается именной Сертификат ООО «ПРОФЕССИОНАЛ».  \\nссылка на pdf: https://profistomat.ru/wp-content/uploads/2024/04/Programma-Skatova-7-8-noyabrya-2024-Volgograd.pdf  \\nссылка на страницу курса: https://profistomat.ru/lecturers/skatova-ekaterina-aleksandrovna/upravlenie-povedeniem-rebyonka-na-stomatologicheskom-prieme/' metadata={'Header 1': 'УПРАВЛЕНИЕ ПОВЕДЕНИЕМ РЕБЁНКА НА СТОМАТОЛОГИЧЕСКОМ ПРИЕМЕ (СКАТОВА ЕКАТЕРИНА АЛЕКСАНДРОВНА) 9 - 10 ноября 2024'}\n",
            "\n",
            "Чанк 10:\n",
            "page_content='МАСТЕР-КЛАСС ПО РЕСТАВРАЦИИ ПЕРЕДНЕЙ ГРУППЫ ЗУБОВ (РУЗИН ИВАН) 16 ноября 2024  \\nПреподаватель: РУЗИН ИВАН  \\nГород: Уфа  \\nМАСТЕР-КЛАСС\\n16 ноября 2024\\nРегистрация с 9-00 до 10-00, курс с 10-00 до 18-00 (с перерывами на кофе-паузы и бизнес-ланч)\\nМесто проведения будет объявлено дополнительно.\\nСтоимость: 25 000 руб При внесении аванса 10 000 руб до 30 октября, стоимость 22 500 руб.  \\nДополнительно можно получить Удостоверение о повышении квалификации государственного образца, НМО 36 баллов. Стоимость 3000 руб. Срок получения 1 месяц.  \\nПРОГРАММА :\\nКаждому участнику предоставляется возможность работать на выбор – на микроскопе или бинокулярах, но у нас на курсе будет 10 микроскопов, поэтому, если Вы хотите работать именно на микроскопе, а не в бинокулярах, регистрируйтесь быстрее!  \\nКоличество участников в группе – 20 докторов. Во время мастер-класса работа лектора под микроскопом транслируется на экран С ПОДРОБНЫМИ ОБЪЯСНЕНИЯМИ ВСЕХ ЭТАПОВ.\\nКаждому участнику мастер-класса предоставляется оборудование, инструменты и расходные материалы, блокнот-схема по жевательной группе зубов.\\nПрограмма - Теоретическая часть:\\n1. Основные аспекты и научно обоснованный подход концепции деликатного препарирования кариозных полостей. Что оставляем, а что убираем на дне кариозной полости и в ее окружности.\\n2. Адгезия. Детальный разбор. Базовые механизмы адгезии и современные модификации, спиртовой протокол, использование ХГ. Минимизация осложнений ( постпломбировочная чувствительность, краевой отрыв композитного материала, деградация адгезивного соединения спустя годы).\\n3. Стресс композитного материала. Как снизить? Как минимизировать риск краевых подтеканий реставрации? Полимеризация композитного материала, С-Фактор.\\n4. Базовый инструментарий для реставрации в дистальном отделе. Чем и как удобней работать? Разбор основных ошибок на этапе работы с инструментами.\\n5. Морфология дистальной группы зубов. Нюансы анатомии зубов в жевательном отделе. Детальный разбор морфологических характеристик, помогающих на этапе построения функциональной реставрации.\\n6. Методики моделирования. Основные шаги и поэтапный протокол реставрации дефектов различной конфигурации.\\n7. Окклюзионная интеграция реставрации. Ошибки, приводящие к гиперкоррекции. Работа с окклюзионной бумагой, «деликатная» коррекция.\\n8. Полировка реставрации. Пошаговый протокол.\\nПрактическая часть:\\nРАБОЧЕЕ МЕСТО КАЖДОГО ДОКТОРА ОСНАЩЕНО МОДЕЛЯМИ, ИНСТРУМЕНТАМИ, КРАСКАМИ, КИСТЯМИ (ИНДИВИДУАЛЬНЫЙ НАБОР ИВАНА РУЗИНА), КОМПОЗИТНЫМИ МАТЕРИАЛАМИ, МИКРОМОТОРОМ С ПОВЫШАЮЩИМ И УГЛОВЫМ НАКОНЕЧНИКОМ, ИНСТРУМЕНТАМИ, СВЕТОМ.  \\n1.Демонстрация реставрации зуба 1.6. 3.6.\\n2.Контролируемая отработка навыков на фантомных моделях.  \\nПо окончании курса выдается именной Сертификат ООО «ПРОФЕССИОНАЛ»  \\nссылка на страницу курса: https://profistomat.ru/lecturers/ruzin-ivan/master-klass-po-restavratsii-zhevatelnoj-gruppy-zubov-9/' metadata={'Header 1': 'МАСТЕР-КЛАСС ПО РЕСТАВРАЦИИ ПЕРЕДНЕЙ ГРУППЫ ЗУБОВ (РУЗИН ИВАН) 16 ноября 2024'}\n",
            "\n",
            "Чанк 11:\n",
            "page_content='МАСТЕР-КЛАСС ПО РЕСТАВРАЦИИ ПЕРЕДНЕЙ ГРУППЫ ЗУБОВ (РУЗИН ИВАН) 17 ноября 2024  \\nПреподаватель: РУЗИН ИВАН  \\nГород: Уфа  \\nМАСТЕР-КЛАСС\\n17 ноября 2024\\nРегистрация с 9-00 до 10-00, курс с 10-00 до 18-00 (с перерывами на кофе-паузы и бизнес-ланч)\\nМесто проведения будет объявлено дополнительно.\\nСтоимость: 25 000 руб. При внесении аванса 10 000 руб. до 30 октября, стоимость 22 500 руб. Оставшуюся часть можно оплатить ближе к дате курса или на курсе.  \\nДополнительно можно получить Удостоверение о повышении квалификации государственного образца, НМО 36 баллов. Стоимость 3000 руб. Срок получения 1 месяц.  \\nПРОГРАММА :\\nКоличество участников в группе – 20 докторов. Во время мастер-класса работа лектора под микроскопом транслируется на экран С ПОДРОБНЫМИ ОБЪЯСНЕНИЯМИ ВСЕХ ЭТАПОВ.\\nКаждому участнику мастер-класса предоставляется оборудование, инструменты и расходные материалы, блокнот-схема по передней группе зубов.\\nПрограмма - Теоретическая часть:\\n1. Морфология фронтальной группы зубов. Основные анатомические образования вестибулярной поверхности.\\n2. Микрорельеф вестибулярной поверхности. Детализация реставрации, путём создания рельефа.\\n3. Оптика вестибулярной поверхности. Принцип оптического построения, в зависимости от различного типа мамелон.\\n4. Послойный принцип построения. Наружный, внутренний и промежуточный слои во фронтальной реставрации.\\n5. Принцип выбора композитного материала, в зависимости от типа и локализации дефекта.\\n6.Дефекты по IV классу. Принцип подбора оттенка и лайфхаки создания незаметного перехода на этапе моделирования и создания рельефа.\\n7. Класс III. Особенности препарирования и послойного построения, в зависимости от дизайна полости.\\n8. Промежуточный слой реставрации. Основные хроматические эффекты и способы из создания, путём внесения красителей и прозрачных композитов.\\n9. Коррекция реставрации. Норма или нет? Чёткий протокол реадгезивной подготовки композита , в зависимости от срока. Коррекция гибридного слоя при контаминации.\\n10. BOX техника. Разбор методики на каждом этапе. Протокол восстановления сильно разрушенных зубов.\\n11. Полное перекрытие вестибулярной поверхности. Протокол работы при коррекции формы и цвета зубов. Работа с индивидуальной матрицей.\\n12. Создание рельефа и конкурирование вестибулярной поверхности. Способы вырезания рельефа и основной принцип нанесения рельефа\\n13. Полировка композитного материала. Пошаговый протокол и демонстрация этапов полировки  \\nПрактическая часть:\\nРАБОЧЕЕ МЕСТО КАЖДОГО ДОКТОРА ОСНАЩЕНО МОДЕЛЯМИ, ИНСТРУМЕНТАМИ, КРАСКАМИ, КИСТЯМИ (ИНДИВИДУАЛЬНЫЙ НАБОР ИВАНА РУЗИНА), КОМПОЗИТНЫМИ МАТЕРИАЛАМИ, МИКРОМОТОРОМ С ПОВЫШАЮЩИМ И УГЛОВЫМ НАКОНЕЧНИКОМ, ИНСТРУМЕНТАМИ, СВЕТОМ.\\n1. Восстановление одного центрального резца в BOX технике. Полнослойная реставрация по этапам. Полировка и создание рельефа.\\n2. Отработка мануальных навыков.  \\nПо окончании курса выдается именной Сертификат ООО «ПРОФЕССИОНАЛ»  \\nссылка на страницу курса: https://profistomat.ru/lecturers/ruzin-ivan/master-klass-po-restavratsii-perednej-gruppy-zubov-9/' metadata={'Header 1': 'МАСТЕР-КЛАСС ПО РЕСТАВРАЦИИ ПЕРЕДНЕЙ ГРУППЫ ЗУБОВ (РУЗИН ИВАН) 17 ноября 2024'}\n",
            "\n",
            "Чанк 12:\n",
            "page_content='ОРГАНИЗАЦИЯ РАБОТЫ СТАРШЕЙ МЕДИЦИНСКОЙ СЕСТРЫ СТОМАТОЛОГИЧЕСКОЙ КЛИНИКИ (Шабанова Полина Александровна) 8 сентября 2024  \\nПреподаватель: Шабанова Полина Александровна\\nГород: МУРМАНСК  \\nСЕМИНАР\\n8 сентября 2024\\nРегистрация с 9-00 до 10-00, курс с 10-00 до 18-00 (с перерывами на кофе-паузы и бизнес-ланч)\\nМесто проведения: будет объявлено дополнительно ближе к дате курса, отель 4-5* в центре города\\nСтоимость семинара 15 000 руб.\\nПри внесении аванса 5 000 руб до 7 августа, Оставшуюся часть можно оплатить ближе к дате курса или на курсе.  \\nПРОГРАММА :\\n1) Кто назначается на должность старшей медицинский сестры?\\n2) Должностная инструкция старшей медицинской сестры.\\n3) Важные аспекты руководящей должности.\\n4) Составление графиков персонала.\\n5) Инструктажи. Отчёты.\\n6) Разработка СОПов.\\n7) Обучение персонала. Самообучение.\\n8) Подготовка документации к основными видам проверок стоматологической клиники.\\n9) СанПин в работе старшей медицинской сестры стоматологической клиники. Особенности.\\n10) Блок вопросов от слушателей.  \\nссылка на страницу курса: https://profistomat.ru/lecturers/shabanova-polina/organizatsiya-raboty-starshej-meditsinskoj-sestry-            stomatologicheskoj-kliniki-7/\\nссылка на pdf:https://profistomat.ru/wp-content/uploads/2024/04/Programma-7-8-sentyabrya-2024-Murmansk-SHabanova.pdf  \\nПо окончании курса выдается именной Сертификат ООО «ПРОФЕССИОНАЛ»' metadata={'Header 1': 'ОРГАНИЗАЦИЯ РАБОТЫ СТАРШЕЙ МЕДИЦИНСКОЙ СЕСТРЫ СТОМАТОЛОГИЧЕСКОЙ КЛИНИКИ (Шабанова Полина Александровна) 8 сентября 2024'}\n",
            "\n",
            "Чанк 13:\n",
            "page_content='МАСТЕР-КЛАСС ПО РЕСТАВРАЦИИ ПЕРЕДНЕЙ ГРУППЫ ЗУБОВ (Рузин Иван Алексеевич) 8 сентября 2024  \\nПреподаватель:Рузин Иван Алексеевич\\nГород: МУРМАНСК  \\nМАСТЕР-КЛАСС\\n8 сентября 2024\\nРегистрация с 9-00 до 10-00, практика с 10-00 до 18-00 (с перерывами на кофе-паузы и бизнес-ланч)\\nМесто проведения будет объявлено дополнительно.\\nСтоимость: 25 000 руб. При внесении аванса 10 000 руб. до 8 августа, стоимость 22 500 руб.\\nОставшуюся часть можно оплатить ближе к дате курса или на курсе.  \\nДополнительно можно получить Удостоверение о повышении квалификации государственного образца, НМО 36 баллов. Стоимость 3000 руб. Срок получения 1 месяц.  \\nПРОГРАММА :\\nКоличество участников в группе – 20 докторов. Во время мастер-класса работа лектора под микроскопом транслируется на экран С ПОДРОБНЫМИ ОБЪЯСНЕНИЯМИ ВСЕХ ЭТАПОВ.\\nКаждому участнику мастер-класса предоставляется оборудование, инструменты и расходные материалы, блокнот-схема по передней группе зубов.  \\nТеоретическая часть:  \\n1. Морфология фронтальной группы зубов. Основные анатомические образования вестибулярной поверхности.\\n2. Микрорельеф вестибулярной поверхности. Детализация реставрации, путём создания рельефа.\\n3. Оптика вестибулярной поверхности. Принцип оптического построения, в зависимости от различного типа мамелон.\\n4. Послойный принцип построения. Наружный, внутренний и промежуточный слои во фронтальной реставрации.\\n5. Принцип выбора композитного материала, в зависимости от типа и локализации дефекта.\\n6.Дефекты по IV классу. Принцип подбора оттенка и лайфхаки создания незаметного перехода на этапе моделирования и создания рельефа.\\n7. Класс III. Особенности препарирования и послойного построения, в зависимости от дизайна полости.\\n8. Промежуточный слой реставрации. Основные хроматические эффекты и способы из создания, путём внесения красителей и прозрачных композитов.\\n9. Коррекция реставрации. Норма или нет? Чёткий протокол реадгезивной подготовки композита , в зависимости от срока. Коррекция гибридного слоя при контаминации.\\n10. BOX техника. Разбор методики на каждом этапе. Протокол восстановления сильно разрушенных зубов.\\n11. Полное перекрытие вестибулярной поверхности. Протокол работы при коррекции формы и цвета зубов. Работа с индивидуальной матрицей.\\n12. Создание рельефа и конкурирование вестибулярной поверхности. Способы вырезания рельефа и основной принцип нанесения рельефа\\n13. Полировка композитного материала. Пошаговый протокол и демонстрация этапов полировки  \\nПрактическая часть:  \\nРАБОЧЕЕ МЕСТО КАЖДОГО ДОКТОРА ОСНАЩЕНО МОДЕЛЯМИ, ИНСТРУМЕНТАМИ, КРАСКАМИ, КИСТЯМИ (ИНДИВИДУАЛЬНЫЙ НАБОР ИВАНА РУЗИНА), КОМПОЗИТНЫМИ МАТЕРИАЛАМИ, МИКРОМОТОРОМ С ПОВЫШАЮЩИМ И УГЛОВЫМ НАКОНЕЧНИКОМ, ИНСТРУМЕНТАМИ, СВЕТОМ.\\n1. Восстановление одного центрального резца в BOX технике. Полнослойная реставрация по этапам. Полировка и создание рельефа.\\n2. Отработка мануальных навыков.  \\nссылка на страницу курса: https://profistomat.ru/lecturers/ruzin-ivan/master-klass-po-restavratsii-perednej-gruppy-zubov-8/\\nссылка на pdf: https://profistomat.ru/wp-content/uploads/2024/04/Programma-7-8-sentyabrya-2024-Murmansk-Ruzin.pdf  \\nПо окончании курса выдается именной Сертификат ООО «ПРОФЕССИОНАЛ»' metadata={'Header 1': 'МАСТЕР-КЛАСС ПО РЕСТАВРАЦИИ ПЕРЕДНЕЙ ГРУППЫ ЗУБОВ (Рузин Иван Алексеевич) 8 сентября 2024'}\n",
            "\n",
            "Чанк 14:\n",
            "page_content='САНИТАРНЫЕ ПРАВИЛА И НОРМЫ В ЭФФЕКТИВНОЙ РАБОТЕ АССИСТЕНТА СТОМАТОЛОГА (Шабанова Полина Александровна) 14 сентября 2024  \\nПреподаватель:Шабанова Полина Александровна\\nГород: СОЧИ  \\nСЕМИНАР\\n14 сентября 2024\\nРегистрация с 9-00 до 10-00, курс с 10-00 до 18-00 (с перерывами на кофе-паузы и бизнес-ланч)\\nМесто проведения будет объявлено дополнительно.\\nСтоимость одного участия 14 сентября 15 000 р  \\nПо акции 15 000 р за двоих по акции при оплате до 14 августа  \\nСтоимость одного участия 15 сентября 15 000 р, по акции 10 500 р при оплате до 14 августа  \\nСтоимость одного участия в двух дня курсах 14 и 15 сентября 20 000 р вместо 30 000 р при оплате до 14 августа  \\nПРОГРАММА :\\nСеминар для руководителей клиник, главных врачей, старших медицинских сестёр, ассистентов стоматологов, медицинских сестёр стерилизационного кабинета, а также студентам.\\nТемы к рассмотрению:\\n-Когда можно сказать ассистент, а не медсестра?\\n-Должностная инструкция ассистента стоматолога.\\n-Обязанности среднего медицинского персонала и врачей стоматологов в рамках проведения мероприятий по соблюдению санитарно-эпидемиологического режима в клинике.\\n-Документация по кабинетам. Особенности документации в разных рабочих структурах.\\n-Дезинфекция. Понимание дезинфекции в целом. Современные дезинфектанты, их различия, стандарты выбора дезинфицирующих средств Лектор дает независимую оценку дез. средствам, представленным на Российском рынке и даст советы по подбору средств для вашей клиники!\\n-Предстерилизационная обработка. Азопирамовый контроль. Пошаговый алгоритм проведения пробы (практическая манипуляция).\\n-Стерилизация инструментов-самый важный процесс в клинике. Виды и отличия стерилизаторов. Критерии выбора стерилизаторов. Контроль стерилизации. Документация.\\n-Составляющие современного стерилизационного отделения. Организация пространства и рабочего процесса.\\n-Наконечники. Правила обработки всех видов наконечников. Продление жизнедеятельности.\\n-Генеральные уборки-важный аспект санитарно-эпидемиологического режима в клинике. Техника выполнения.\\n-Взаимодействие всего персонала клиники между собой.\\nПосле обучения вы:\\n-будете вести себя уверенно при любой проверке\\n-узнаете обо всех процессах дезинфекции\\n-научитесь заполнять журналы\\n-сможете грамотно рассказать и показать пациентам , как происходит обработка инструментов\\n-сможете гарантировать безопасность для Ваших пациентов.  \\nссылка на страницу курса: https://profistomat.ru/lecturers/shabanova-polina/sanitarnye-pravila-i-normy-v-effektivnoj-rabote-assistenta-    stomatologa-5/\\nссылка на pdf: https://profistomat.ru/wp-content/uploads/2024/05/Programma-14-15-sentyabrya-2024-Sochi-SHabanova.pdf  \\nПо окончании курса выдается именной Сертификат ООО «ПРОФЕССИОНАЛ»' metadata={'Header 1': 'САНИТАРНЫЕ ПРАВИЛА И НОРМЫ В ЭФФЕКТИВНОЙ РАБОТЕ АССИСТЕНТА СТОМАТОЛОГА (Шабанова Полина Александровна) 14 сентября 2024'}\n",
            "\n",
            "Чанк 15:\n",
            "page_content='НЕОТЛОЖНЫЕ И ЭКСТРЕННЫЕ СОСТОЯНИЯ В СТОМАТОЛОГИИ (Баранников Никита Викторович) 14 сентября 2024  \\nПреподаватель:Баранников Никита Викторович\\nГород: СОЧИ  \\nСЕМИНАР+МАСТЕР-КЛАСС\\n14 сентября 2024\\nРегистрация с 09:00 до 10:00, курс с 10:00 до 18:00 (с перерывами на кофе-паузу и бизнес-ланч)\\nг. Сочи, место проведения будет объявлено дополнительно.\\nСтоимость: 15 000 руб.\\nБез предоплаты мы не гарантируем Вам место на курсе. Количество мест ограничено - группа 15 человек (для индивидуальной проработки навыков с каждым участником)  \\nТеория и практика оказания помощи при неотложных и экстренных состояниях на стоматологическом приеме с учётом изменений в клинических рекомендациях на 2024 г (Анафилактический шок, артериальная гипертензия, острый коронарный синдром, эпилепсия)\\nЗАПИСАТЬСЯ НА КУРС\\nПРОГРАММА :\\nТЕОРЕТИЧЕСКАЯ ЧАСТЬ.  \\nБудет уделено время по наполнению аптечки в случае мобилизации.  \\n\\uf0b7 Юридические аспекты оказания неотложной медицинской помощи\\n\\uf0b7 Подробная схема оповещения и алгоритм действий персонала стоматологической клиники при возникновении неотложного состояния\\n\\uf0b7 Неотложные состояния, которые поддаются профилактике до приёма врача\\n\\uf0b7 Рекомендуемое техническое оснащение (укладка/аптечка). Приборы для диагностики неотложных состояний. Устройства для купирования тяжелых последствий неотложных состояний\\n\\uf0b7 Внезапная остановка кровообращения\\n\\uf0b7 Острое нарушение мозгового кровообращения\\n\\uf0b7 Генерализованный судорожный приступ\\n\\uf0b7 Синкопальные состояния (обморок, сердечно-сосудистый коллапс)\\n\\uf0b7 Головная боль напряжения\\n\\uf0b7 Острый коронарный синдром\\n\\uf0b7 Гипертонический криз\\n\\uf0b7 Астма (бронхоспазм, как аллергическое осложнение на проведённую инъекционную терапию)\\n\\uf0b7 Ангионевротический отёк. Отёк Квинке.\\n\\uf0b7 Анафилаксия. Механизмы развития, типология реакций. Триггерные факторы. Диагностика анафилаксии\\n\\uf0b7 Анафилактический шок. Выбор эффективных препаратов, дозировки. Способы их введения при купировании анафилактического шока в условиях стоматологического кабинета.\\n\\uf0b7 Системная токсическая реакция на введение местных анестетиков.\\n\\uf0b7 Обструкция верхних дыхательных путей инородными телами\\n\\uf0b7 Гипогликемический синдром\\n\\uf0b7 Дефибрилляция в условиях косметологической клиники  \\nПРАКТИЧЕСКАЯ ЧАСТЬ.\\n\\uf0b7 Тактика сбора анамнеза у пациента, позволяющая минимизировать риски развития неотложных пациентов на стоматологическом приёме;\\n\\uf0b7 Техника постановки периферического внутривенного катетера;\\n\\uf0b7 ИВЛ дыхательным мешком;\\n\\uf0b7 Инструментальное обеспечение проходимости дыхательных путей орофарингеальным воздуховодом;\\n\\uf0b7 Инструментальное обеспечение проходимости дыхательных путей ларингеальной маской;\\n\\uf0b7 Базовый алгоритм сердечно-легочной реанимации с\\n\\uf0b7 применением автоматического наружного дефибриллятора\\n\\uf0b7 манекен взрослого человека (манекен младенца по требованию);\\n\\uf0b7 Прием поворота человека в стабильное боковое положение;\\n\\uf0b7 Маневр Геймлиха и его модификации;\\n\\uf0b7 Выполнение коникотомии (по требованию)  \\nссылка на страницу курса: https://profistomat.ru/lecturers/barannikov-nikita-viktorovich/neotlozhnye-i-ekstrennye-sostoyaniya-v-stomatologii-2/  \\nПо окончании курса выдается именной сертификат ООО \"ПРОФЕССИОНАЛ\"' metadata={'Header 1': 'НЕОТЛОЖНЫЕ И ЭКСТРЕННЫЕ СОСТОЯНИЯ В СТОМАТОЛОГИИ (Баранников Никита Викторович) 14 сентября 2024'}\n",
            "\n",
            "Чанк 16:\n",
            "page_content='ОРГАНИЗАЦИЯ РАБОТЫ СТАРШЕЙ МЕДИЦИНСКОЙ СЕСТРЫ СТОМАТОЛОГИЧЕСКОЙ КЛИНИКИ (Шабанова Полина Александровна) 15 сентября 2024  \\nПреподаватель:Шабанова Полина Александровна\\nГород: СОЧИ  \\nСЕМИНАР\\n15 сентября 2024\\nРегистрация с 9-00 до 10-00, курс с 10-00 до 18-00 (с перерывами на кофе-паузы и бизнес-ланч)\\nМесто проведения будет объявлено дополнительно.  \\nСтоимость одного участия 14 сентября 15 000 р  \\nПо акции 15 000 р за двоих по акции при оплате до 14 августа  \\nСтоимость одного участия 15 сентября 15 000 р , по акции 10 500 р при оплате до 14 августа  \\nСтоимость одного участия в двух дня курсах 14 и 15 сентября 20 000 р вместо 30 000 р при оплате до 14 августа\\nЗАПИСАТЬСЯ НА КУРС СКАЧАТЬ PDF\\nПРОГРАММА :\\n1) Кто назначается на должность старшей медицинский сестры?\\n2)Должностная инструкция старшей медицинской сестры.\\n3)Важные аспекты руководящей должности.\\n4)Составление графиков персонала.\\n5)Инструктажи. Отчёты.\\n6)Разработка СОПов.\\n7)Обучение персонала. Самообучение.\\n8)Подготовка документации к основными видам проверок стоматологической клиники.\\n9)СанПин в работе старшей медицинской сестры стоматологической клиники. Особенности.\\n10)Блок вопросов от слушателей.  \\nссылка на страницу курса: https://profistomat.ru/lecturers/shabanova-polina/organizatsiya-raboty-starshej-meditsinskoj-sestry-stomatologicheskoj-kliniki-8/\\nссылка на pdf:https://profistomat.ru/wp-content/uploads/2024/05/Programma-14-15-sentyabrya-2024-Sochi-SHabanova.pdf  \\nПо окончании курса выдается именной Сертификат ООО «ПРОФЕССИОНАЛ»' metadata={'Header 1': 'ОРГАНИЗАЦИЯ РАБОТЫ СТАРШЕЙ МЕДИЦИНСКОЙ СЕСТРЫ СТОМАТОЛОГИЧЕСКОЙ КЛИНИКИ (Шабанова Полина Александровна) 15 сентября 2024'}\n",
            "\n",
            "Чанк 17:\n",
            "page_content='СЛОЖНЫЕ СЛУЧАИ В ЭНДОДОНТИИ. БОЛЬ В СТОМАТОЛОГИИ: ПРИЧИНА ОБРАЩЕНИЯ ПАЦИЕНТА В КЛИНИКУ (КОРНЕТОВА ИРИНА ВЛАДИМИРОВНА) 17-18 АВГУСТА 2024 Г  \\nПРЕПОДАВАТЕЛЬ: КОРНЕТОВА ИРИНА ВЛАДИМИРОВНА\\nГОРОД: МАГАДАН  \\nСЕМИНАР+МАСТЕР-КЛАСС\\n17 августа 2024\\nрегистрация с 9-00 до 10-00, курс с 10-00 до 18-00 (с перерывами на кофе-паузы и бизнес-ланч)\\nмастер-класс\\n18 августа 2024\\nрегистрация с 9-00 до 10-00, курс с 10-00 до 18-00 (с перерывами на кофе-паузы и бизнес-ланч)\\nместо проведения будет объявлено дополнительно.\\nстоимость семинара: 17 500 руб. стоимость мастер-класса: 20 000 руб.\\nстоимость семинар+мастер-класс: 30 000 руб, при условии внесения предоплаты в размере 10 000 руб. не позднее, чем за месяц до даты курса.  \\nДополнительно можно получить удостоверение о повышении квалификации государственного образца, нмо 36 баллов. стоимость 3 000 руб. срок получения 1 месяц.  \\nПРОГРАММА\\nПрограмма семинара:\\n1. диагностика и визуализация в эндодонтиии.\\n1.1. 3d кт диагностика и анатомия корневых каналов.\\n1.2. микроскоп, 3d микроскоп и 3dвизуализация анатомии корневых каналов.\\n2. болевой синдром в эндодонтии.постановка точного диагноза.\\n2.1. обратимый и необратимый пульпит. сохранение витальности зуба.\\n2.2. апикальная граница механической обработки корневого канала.\\n2.3. шейпинг-стратегии в эндодонтии при лечении пульпита.\\n2.4. апикальный периодонтит.этиология. патогенез.\\n2.5. подходы к препарированию корневых каналов при периодонтите.\\n2.6. 3dдезинфекция корневых каналов.\\n2.7.обтурация. современные подходы.биокерамика.\\n3.эндодонтия или имплантация? современная клиническая дилемма.\\n3.1.облитерированные корневые каналы. тактика принятия решения в процессе работы.\\n3.2. перфорация корневых каналов: диагностика,тактика лечения.\\n3.3. cломанный инструмент в корневом канале:удаление или сохранение зуба?\\n3.4. извлечение гуттаперчи, термофила, фосфат-цемента, резорцин-формалина, пасты. 3.5.металлические и св штифты.ceкрет извлечения.\\n3.6. лазеры в эндодонтии.\\n3.7.ключи успехаи 3dуспех в эндодонтии.  \\nМАСТЕР-КЛАСС:\\n1-й вариант.\\nУчастникам практического курса необходимо подготовить эндодонтические образцы – два верхних и два нижний моляра (премоляра), закрепленных в гипсовом блоке (два зуба предназначены для первичного эндодонтического лечения, два зуба желательно с запломбированными каналами (резорцин-формалиновый метод, гуnаперча, фосфатцемент). при желании работать на удаленных зубах, удаленные зубы с созданным эндодонтическим доступом необходимо подготовить самостоятельно.  \\n2-й вариант мастер-класса. эндодонтия с увеличением. практическая часть.\\n1.инструмент r-pilot. концепция препарирования.\\n2.обработка корневых каналов инструментамиmtwo, reciproc, reciprocblue (vdw, gmbh, германия).\\n3.применение ультразвука vdwultra(vdw, gmbh, германия) в процессе эндодонтического лечения.\\n4.протокол ирригации.\\n5. пломбирование каналов системой beefill(vdw, gmbh, германия) горячей гуттаперчей техникой вертикальной конденсации.\\n6.самостоятельная работа с микроскопом на пластиковых блоках, удаленных зубах. 7.разбор сложных клинических случаев.  \\n3-й вариант. Практическая часть.\\n1. отработка мануальных навыков препарирования корневых каналов файламиmtwo, reciproc под контролем операционного микроскопа на пластиковых блоках и удаленных зубах(принципы работы инструментами при первичном и повторном эндодонтическом лечении).\\n2.пломбирование корневых каналов:\\n• техника латеральной конденсации;\\n• техника термофила;\\n• техника вертикальной конденсации горячей гуттаперчи.\\n3. удаление отломка инструмента при помощи ультразвука vdw. ultra под контролем операционного микроскопа\\n4. удаление гуттаперчи из корневого канала при помощи файла reciproc.  \\nМесто проведения: будет объявлено дополнительно, отель 4-5 звезд в центре города время проведения:\\nРегистрация с 9-00 до 10-00, семинар с 10-00 до 18-30 (с перерывами на кофе-паузы и бизнесланч)\\nСтоимость семинара: 17 500 руб.\\nСтоимость мастер-класса: 20 000 руб.\\nСтоимость семинар+мастер-класс: 30 000 руб, при условии внесения предоплаты в размере 10 000 руб. не позднее, чем за месяц до даты курса.\\nВ стоимость входят кофе-пауза и бизнес-ланч (вода, чай и кофе – не ограничено на весь период курса, блокнот и ручка для записей). по окончании курса выдается именной сертификат ооо «профессионал» дополнительно можно получить удостоверение о повышении квалификации государственного образца, нмо 36 баллов. стоимость 3 000 руб.\\nсрок получения 1 месяц. спасибо,что вы стремитесь к новым знаниям! для участия в мероприятии необходимо: позвонить/написать по телефону +7 921-862-98-24 или зарегистрироваться через сайт www.profistomat.ru  \\nссылка на pdf: https://profistomat.ru/wp-content/uploads/2024/04/Programma-Kornetova-Magadan-17-18-avgusta.pdf\\nссылка на страницу курса: https://profistomat.ru/lecturers/irina-kornetova/slozhnye-sluchai-v-endodontii-bol-v-stomatologii-prichina-obrashheniya-patsienta-v-kliniku/' metadata={'Header 1': 'СЛОЖНЫЕ СЛУЧАИ В ЭНДОДОНТИИ. БОЛЬ В СТОМАТОЛОГИИ: ПРИЧИНА ОБРАЩЕНИЯ ПАЦИЕНТА В КЛИНИКУ (КОРНЕТОВА ИРИНА ВЛАДИМИРОВНА) 17-18 АВГУСТА 2024 Г'}\n",
            "\n",
            "Чанк 18:\n",
            "page_content='НЕОТЛОЖНЫЕ СОСТОЯНИЯ ДЛЯ РУКОВОДЯЩЕГО СОСТАВА КЛИНИКИ (БАРАННИКОВ НИКИТА ВИКТОРОВИЧ) 23 АВГУСТА 2024 Г  \\nПРЕПОДАВАТЕЛЬ: БАРАННИКОВ НИКИТА ВИКТОРОВИЧ\\nГОРОД: ПЕНЗА  \\nПРАКТИЧЕСКИЙ КУРС\\n23 августа 2024\\nРегистрация с 09:00 до 10:00, курс с 10:00 до 18:00 (с перерывами на кофе-паузу и бизнес-ланч).\\nПенза, место проведения будет объявлено дополнительно.\\nСтоимость : при оплате до 1 августа -12500 р , после 15 000 р  \\nПРОГРАММА:\\nЦелевая аудитория: главные врачи, заместители главных врачей, заведующие отделений, старшие медсестры.\\nОбразовательные потребности: повышение компетентности руководства клиник в вопросах организации оказания неотложной помощи пациенту клиники.\\nОбразовательные цели: Цель-совершенствование профессиональных знаний и компетенций, необходимых для профессиональной деятельности в рамках имеющейся квалификации.\\nФорма проведения учебного мероприятия: лекция, с перерывом на кофе-паузы, во время лекции предусмотрена отработка мануальных навыков на фантомных моделях по оказанию первой помощи пациентам, между перерывами предусмотрена дискуссия слушателей, как отдельной группой, так и общая-аудиторная.\\nМетоды активного обучения: лекция,мультимедийная презентация, дискуссия, беседа, обмен опытом.\\nЗадачи обучения:\\n• Формирование знаний по законодательству – оснащение клиники (оборудование и медикаменты).\\n• Совершенствование знаний по интерпретации современных методов оказания неотложной и экстренной помощи пациенту.\\n• Совершенствование знаний в клинической диагностике, а также в оказании помощи при неотложных и экстренных состояниях в стоматологической клинике.\\n• Совершенствование профессиональных компетенций в организации действий стоматологической бригады при оказании неотложной и экстренной помощи.\\n• Развитее навыка создания СОП «Стандартных Операционных Процедур» по неотложным и экстренным состояниям для каждого сотрудника клиники.  \\nОжидаемые образовательные результаты, участники смогут:\\n-В диагностической деятельности– оценить состояние пациента при неотложной ситуации на основании применения современных методов обследования.\\n-Отработка навыков оказания неотложной и экстренной помощи в симуляционном классе.\\n-Избежать возникновения ошибок при постановке диагноза и назначении лечения, часто случающихся при оказании первой помощи пациенту.\\n-Создавать СОПы (алгоритмы действий коллектива клиники) для неотложных и экстренных состояний в стоматологической клинике.  \\nПо окончании курса выдаётся набор образцов СОП по неотложным и экстренным ситуациям.\\nПо окончании курса выдается именной Сертификат ООО «ПРОФЕССИОНАЛ».  \\nссылка на страницу курса: https://profistomat.ru/lecturers/barannikov-nikita-viktorovich/neotlozhnye-sostoyaniya-dlya-rukovodyashhego-sostava-kliniki/' metadata={'Header 1': 'НЕОТЛОЖНЫЕ СОСТОЯНИЯ ДЛЯ РУКОВОДЯЩЕГО СОСТАВА КЛИНИКИ (БАРАННИКОВ НИКИТА ВИКТОРОВИЧ) 23 АВГУСТА 2024 Г'}\n",
            "\n",
            "Чанк 19:\n",
            "page_content='НЕОТЛОЖНЫЕ И ЭКСТРЕННЫЕ СОСТОЯНИЯ В СТОМАТОЛОГИИ (БАРАННИКОВ НИКИТА ВИКТОРОВИЧ) 24 АВГУСТА 2024 Г  \\nПРЕПОДАВАТЕЛЬ: БАРАННИКОВ НИКИТА ВИКТОРОВИЧ\\nГОРОД: ПЕНЗА  \\nСЕМИНАР+МАСТЕР-КЛАСС\\n24 августа 2024\\nРегистрация с 09:00 до 10:00, курс с 10:00 до 18:00 (с перерывами на кофе-паузу и бизнес-ланч)\\nг.Пенза, место проведения будет объявлено дополнительно.\\nСтоимость: 15 000 руб.\\nБез предоплаты мы не гарантируем Вам место на курсе. Количество мест ограничено - группа 15 человек (для индивидуальной проработки навыков с каждым участником)  \\nТеория и практика оказания помощи при неотложных и экстренных состояниях на стоматологическом приеме с учётом изменений в клинических рекомендациях на 2024 г (Анафилактический шок, артериальная гипертензия, острый коронарный синдром, эпилепсия)  \\nПРОГРАММА :\\nТЕОРЕТИЧЕСКАЯ ЧАСТЬ.\\nБудет уделено время по наполнению аптечки в случае мобилизации.\\n• Юридические аспекты оказания неотложной медицинской помощи\\n• Подробная схема оповещения и алгоритм действий персонала стоматологической клиники при возникновении неотложного состояния\\n• Неотложные состояния, которые поддаются профилактике до приёма врача\\n• Рекомендуемое техническое оснащение (укладка/аптечка). Приборы для диагностики неотложных состояний. Устройства для купирования тяжелых последствий неотложных состояний\\n• Внезапная остановка кровообращения\\n• Острое нарушение мозгового кровообращения\\n• Генерализованный судорожный приступ\\n• Синкопальные состояния (обморок, сердечно-сосудистый коллапс)\\n• Головная боль напряжения\\n• Острый коронарный синдром\\n• Гипертонический криз\\n• Астма (бронхоспазм, как аллергическое осложнение на проведённую инъекционную терапию)\\n• Ангионевротический отёк. Отёк Квинке.\\n• Анафилаксия. Механизмы развития, типология реакций. Триггерные факторы. Диагностика анафилаксии\\n• Анафилактический шок. Выбор эффективных препаратов, дозировки. Способы их введения при купировании анафилактического шока в условиях стоматологического кабинета.\\n• Системная токсическая реакция на введение местных анестетиков.\\n• Обструкция верхних дыхательных путей инородными телами\\n• Гипогликемический синдром\\n• Дефибрилляция в условиях косметологической клиники  \\nПРАКТИЧЕСКАЯ ЧАСТЬ.\\n• Тактика сбора анамнеза у пациента, позволяющая минимизировать риски развития неотложных пациентов на стоматологическом приёме;\\n• Техника постановки периферического внутривенного катетера;\\n• ИВЛ дыхательным мешком;\\n• Инструментальное обеспечение проходимости дыхательных путей орофарингеальным воздуховодом;\\n• Инструментальное обеспечение проходимости дыхательных путей ларингеальной маской;\\n• Базовый алгоритм сердечно-легочной реанимации с\\n• применением автоматического наружного дефибриллятора\\n• манекен взрослого человека (манекен младенца по требованию);\\n• Прием поворота человека в стабильное боковое положение;\\n• Маневр Геймлиха и его модификации;\\n• Выполнение коникотомии (по требованию)  \\nПо окончании курса выдается именной сертификат ООО \"ПРОФЕССИОНАЛ\"  \\nСсылка на видео https://youtu.be/E0ega5bF130\\nссылка на страницу курса: https://profistomat.ru/lecturers/barannikov-nikita-viktorovich/neotlozhnye-i-ekstrennye-sostoyaniya-v-stomatologii/' metadata={'Header 1': 'НЕОТЛОЖНЫЕ И ЭКСТРЕННЫЕ СОСТОЯНИЯ В СТОМАТОЛОГИИ (БАРАННИКОВ НИКИТА ВИКТОРОВИЧ) 24 АВГУСТА 2024 Г'}\n",
            "\n",
            "Чанк 20:\n",
            "page_content='САНИТАРНЫЕ ПРАВИЛА И НОРМЫ В ЭФФЕКТИВНОЙ РАБОТЕ АССИСТЕНТА СТОМАТОЛОГА (ШАБАНОВА ПОЛИНА АЛЕКСАНДРОВНА) 7 СЕНТРЯБРЯ 2024 Г  \\nПРЕПОДАВАТЕЛЬ: ШАБАНОВА ПОЛИНА АЛЕКСАНДРОВНА\\nГОРОД: МУРМАНСК  \\nСЕМИНАР\\n7 сентября 2024\\nРегистрация с 9-00 до 10-00, семинар с 10-00 до 18-00 (с перерывами на кофе-паузы и бизнес-ланч)\\nбудет объявлено дополнительно ближе к дате курса, отель 4-5* в центре города\\nСтоимость семинара 15 000 руб.\\nПри внесении аванса 5 000 руб до 7 августа, Оставшуюся часть можно оплатить ближе к дате курса или на курсе.  \\nПРОГРАММА СЕМИНАРА 7 сентября: «САНИТАРНЫЕ ПРАВИЛА И НОРМЫ В ЭФФЕКТИВНОЙ РАБОТЕ АССИСТЕНТА СТОМАТОЛОГА»\\nСеминар для руководителей клиник, главных врачей, старших медицинских сестёр, ассистентов стоматологов, медицинских сестёр стерилизационного кабинета, а также студентам.\\nТемы к рассмотрению: -\\nКогда можно сказать ассистент, а не медсестра?\\n-Должностная инструкция ассистента стоматолога.\\n-Обязанности среднего медицинского персонала и врачей стоматологов в рамках проведения мероприятий по соблюдению санитарноэпидемиологического режима в клинике.\\n-Документация по кабинетам. Особенности документации в разных рабочих структурах.\\n-Дезинфекция. Понимание дезинфекции в целом. Современные дезинфектанты, их различия, стандарты выбора дезинфицирующих средств\\nЛектор дает независимую оценку дез. средствам, представленным на Российском рынке и даст советы по подбору средств для вашей клиники!\\n-Предстерилизационная обработка. Азопирамовый контроль. Пошаговый алгоритм проведения пробы (практическая манипуляция). –\\nСтерилизация инструментов-самый важный процесс в клинике. Виды и отличия стерилизаторов. Критерии выбора стерилизаторов. Контроль стерилизации. Документация.\\n-Составляющие современного стерилизационного отделения. Организация пространства и рабочего процесса.\\n-Наконечники. Правила обработки всех видов наконечников. Продление жизнедеятельности.\\n-Генеральные уборки-важный аспект санитарно-эпидемиологического режима в клинике. Техника выполнения.\\n-Взаимодействие всего персонала клиники между собой.\\nПосле обучения вы:\\n-будете вести себя уверенно при любой проверке\\n-узнаете обо всех процессах дезинфекции\\n-научитесь заполнять журналы –\\nсможете грамотно рассказать и показать пациентам, как происходит обработка инструментов\\n-сможете гарантировать безопасность для Ваших пациентов.\\nСтоимость семинара 15 000 руб.\\nПри внесении аванса 5 000 руб до 7 августа,\\nОставшуюся часть можно оплатить ближе к дате курса или на курсе  \\nссылка на pdf: https://profistomat.ru/wp-content/uploads/2024/04/Programma-7-8-sentyabrya-2024-Murmansk-SHabanova.pdf\\nссылка на страницу курса: https://profistomat.ru/lecturers/shabanova-polina/sanitarnye-pravila-i-normy-v-effektivnoj-rabote-assistenta-stomatologa-4/' metadata={'Header 1': 'САНИТАРНЫЕ ПРАВИЛА И НОРМЫ В ЭФФЕКТИВНОЙ РАБОТЕ АССИСТЕНТА СТОМАТОЛОГА (ШАБАНОВА ПОЛИНА АЛЕКСАНДРОВНА) 7 СЕНТРЯБРЯ 2024 Г'}\n",
            "\n",
            "Чанк 21:\n",
            "page_content='МАСТЕР-КЛАСС ПО РЕСТАВРАЦИИ ЖЕВАТЕЛЬНОЙ ГРУППЫ ЗУБОВ (РУЗИН ИВАН) 7 СЕНТЯБРЯ 2024 Г  \\nПРЕПОДАВАТЕЛЬ: РУЗИН ИВАН\\nГОРОД: МУРМАНСК  \\nМАСТЕР-КЛАСС\\n7 сентября 2024\\nРегистрация с 9-00 до 10-00, практика с 10-00 до 18-00 (с перерывами на кофе-паузы и бизнес-ланч)\\nМесто проведения мастер-класса будет объявлено дополнительно.\\nСтоимость: 25 000 руб . При внесении аванса 10 000 руб до 8 августа, стоимость 22 500 руб.\\nОставшуюся часть можно оплатить ближе к дате курса или на курсе.\\nДополнительно можно получить Удостоверение о повышении квалификации государственного образца, НМО 36 баллов. Стоимость 3000 руб. Срок получения 1 месяц.  \\n7 сентября 2024 г «МАСТЕР-КЛАСС ПО РЕСТАВРАЦИИ ЖЕВАТЕЛЬНОЙ ГРУППЫ ЗУБОВ»\\nКоличество участников в группе – 20 докторов.\\nВо время мастер-класса работа лектора под микроскопом транслируется на экран С ПОДРОБНЫМИ ОБЪЯСНЕНИЯМИ ВСЕХ ЭТАПОВ.\\nКаждому участнику мастер-класса предоставляется оборудование, инструменты и расходные материалы, блокнот-схема по жевательной группе зубов.  \\nПрограмма:\\nТеоретическая часть:\\n1. Основные аспекты и научно обоснованный подход концепции деликатного препарирования кариозных полостей. Что оставляем, а что убираем на дне кариозной полости и в ее окружности.\\n2. Адгезия. Детальный разбор. Базовые механизмы адгезии и современные модификации, спиртовой протокол, использование ХГ. Минимизация осложнений ( постпломбировочная чувствительность, краевой отрыв композитного материала, деградация адгезивного соединения спустя годы).\\n3. Стресс композитного материала. Как снизить? Как минимизировать риск краевых подтеканий реставрации? Полимеризация композитного материала, С-Фактор.\\n4. Базовый инструментарий для реставрации в дистальном отделе. Чем и как удобней работать? Разбор основных ошибок на этапе работы с инструментами.\\n5. Морфология дистальной группы зубов. Нюансы анатомии зубов в жевательном отделе. Детальный разбор морфологических характеристик, помогающих на этапе построения функциональной реставрации.\\n6. Методики моделирования. Основные шаги и поэтапный протокол реставрации дефектов различной конфигурации.\\n7. Окклюзионная интеграция реставрации. Ошибки, приводящие к гиперкоррекции. Работа с окклюзионной бумагой, «деликатная» коррекция.\\n8. Полировка реставрации. Пошаговый протокол.  \\nПрактическая часть:\\nРАБОЧЕЕ МЕСТОКАЖДОГО ДОКТОРА ОСНАЩЕНО МОДЕЛЯМИ, ИНСТРУМЕНТАМИ, КРАСКАМИ, КИСТЯМИ (ИНДИВИДУАЛЬНЫЙ НАБОР ИВАНА РУЗИНА), КОМПОЗИТНЫМИ МАТЕРИАЛАМИ, МИКРОМОТОРОМ С ПОВЫШАЮЩИМ И УГЛОВЫМ НАКОНЕЧНИКОМ, ИНСТРУМЕНТАМИ, СВЕТОМ. 1.Демонстрация реставрации зуба 1.6. 3.6.\\n2.Контролируемая отработка навыков на фантомных моделях.\\nВремя проведения: Регистрация с 9-00 до 10-00, курс с 10-00 до 18-00 (с перерывами на кофе-паузы и бизнес-ланч)\\nСтоимость: 25 000 руб .\\nПри внесении аванса 10 000 руб до 8 августа, стоимость 22 500 руб.\\nОставшуюся часть можно оплатить ближе к дате курса или на курсе.\\nВ стоимость входят кофе-пауза и бизнес-ланч (вода, чай и кофе – не ограничено на весь период курса).\\nПо окончании курса выдается именной Сертификат ООО «ПРОФЕССИОНАЛ» Дополнительно можно получить Удостоверение о повышении квалификации государственного образца, НМО 36 баллов.\\nСтоимость 3000 руб. Срок получения 1 месяц.  \\nссылка на pdf: https://profistomat.ru/wp-content/uploads/2024/04/Programma-7-8-sentyabrya-2024-Murmansk-Ruzin.pdf\\nссылка на страницу курса: https://profistomat.ru/lecturers/ruzin-ivan/master-klass-po-restavratsii-zhevatelnoj-gruppy-zubov-8/' metadata={'Header 1': 'МАСТЕР-КЛАСС ПО РЕСТАВРАЦИИ ЖЕВАТЕЛЬНОЙ ГРУППЫ ЗУБОВ (РУЗИН ИВАН) 7 СЕНТЯБРЯ 2024 Г'}\n",
            "\n",
            "Чанк 22:\n",
            "page_content='ПЕРЕЧЕНЬ КУРСОВ ПОВЫШЕНИЯ КВАЛИФИКАЦИИ ДЛЯ ВРАЧЕЙ-СТОМАТОЛОГОВ В РАЗЛИЧНЫХ ГОРОДАХ РОССИИ В 2024 ГОДУ  \\n1.«СЛОЖНЫЕ СЛУЧАИ В ЭНДОДОНТИИ. БОЛЬ В СТОМАТОЛОГИИ: ПРИЧИНА ОБРАЩЕНИЯ ПАЦИЕНТА В КЛИНИКУ»\\nгород: Магадан\\nлектор: Корнетова Ирина Владимировна\\n2.«НЕОТЛОЖНЫЕ СОСТОЯНИЯ ДЛЯ РУКОВОДЯЩЕГО СОСТАВА КЛИНИКИ»\\nгород: Пенза\\nлектор: Баранников Никита Викторович\\n3.«НЕОТЛОЖНЫЕ И ЭКСТРЕННЫЕ СОСТОЯНИЯ В СТОМАТОЛОГИИ»\\nгород: Пенза\\nлектор: Баранников Никита Викторович\\n4.«САНИТАРНЫЕ ПРАВИЛА И НОРМЫ В ЭФФЕКТИВНОЙ РАБОТЕ АССИСТЕНТА СТОМАТОЛОГА»\\nгород: Мурманск\\nлектор: Шабанова Полина Александровна\\n5.«МАСТЕР-КЛАСС ПО РЕСТАВРАЦИИ ЖЕВАТЕЛЬНОЙ ГРУППЫ ЗУБОВ»\\nгород: Мурманск\\nлектор: Рузин Иван\\n6.«ОРГАНИЗАЦИЯ РАБОТЫ СТАРШЕЙ МЕДИЦИНСКОЙ СЕСТРЫ СТОМАТОЛОГИЧЕСКОЙ КЛИНИКИ»\\nгород: Мурманск\\nлектор: Шабанова Полина Александровна\\n7.«МАСТЕР-КЛАСС ПО РЕСТАВРАЦИИ ПЕРЕДНЕЙ ГРУППЫ ЗУБОВ»\\nгород: Мурманск\\nлектор: Рузин Иван\\n8.«САНИТАРНЫЕ ПРАВИЛА И НОРМЫ В ЭФФЕКТИВНОЙ РАБОТЕ АССИСТЕНТА СТОМАТОЛОГА»\\nгород: Сочи\\nлектор: Шабанова Полина Александровна\\n9.«НЕОТЛОЖНЫЕ И ЭКСТРЕННЫЕ СОСТОЯНИЯ В СТОМАТОЛОГИИ»\\nгород: Сочи\\nлектор: Баранников Никита Викторович\\n10.«ОРГАНИЗАЦИЯ РАБОТЫ СТАРШЕЙ МЕДИЦИНСКОЙ СЕСТРЫ СТОМАТОЛОГИЧЕСКОЙ КЛИНИКИ»\\nгород: Сочи\\nлектор: Шабанова Полина Александровна\\n11.«ВОЗРАСТ РЕЗЦА»\\nгород: Чита\\nлектор: Сошников Алексей Сергеевич\\n12.«ФУНКЦИОНАЛЬНОЙ ОРИЕНТИРОВАННЫЙ ПОДХОД В ДИАГНОСТИКЕ И ПЛАНИРОВАНИИ ЛЕЧЕНИЯ ПАТОЛОГИИ ЖЕВАТЕЛЬНОГО АППАРАТА»\\nгород: Новосибирск\\nлектор: Ермошенко Роман Борисович\\n13.«ТОТАЛЬНЫЕ РАБОТЫ НА ИМПЛАНТАХ»\\nгород: Новосибирск\\nлектор: Земан Алексей\\n14.«ТОТАЛЬНЫЕ РАБОТЫ НА ИМПЛАНТАХ»\\nгород: Новосибирск\\nлектор: Хасратьянц Юрий\\n15.«СПЛИНТ ТЕРАПИЯ. ОККЛЮЗИОННЫЕ И ФУНКЦИОНАЛЬНО ДЕЙСТВУЮЩИЕ ОРТОПЕДИЧЕСКИЕ ПРИСПОСОБЛЕНИЯ. РАЗНОВИДНОСТИ. КЛАССИФИКАЦИИ. ПОКАЗАНИЯ И АЛГОРИТМЫ РАБОТЫ ПРИ РАЗЛИЧНЫХ ВИДАХ ФУНКЦИОНАЛЬНОЙ ПАТОЛОГИИ»\\nгород: Новосибирск\\nлектор: Ермошенко Роман Борисович\\n16.«ПРОФЕССИОНАЛЬНОЕ ВЫГОРАНИЕ СОТРУДНИКОВ СТОМАТОЛОГИЧЕСКИХ КЛИНИК»\\nгород: Новосибирск\\nлектор: Немова Марина Борисовна\\n17.«ПАРОДОНТОЛОГИЯ ДЛЯ ХИРУРГОВ. СВОЕВРЕМЕННАЯ ИМПЛАНТАЦИЯ»\\nгород: Волгоград\\nлектор: Волкова Юлия Валерьевна\\n18.«СЛОЖНЫЕ СЛУЧАИ В ЭНДОДОНТИИ. БОЛЬ В СТОМАТОЛОГИИ: ПРИЧИНА ОБРАЩЕНИЯ ПАЦИЕНТА В КЛИНИКУ»\\nгород: Волгоград\\nлектор: Корнетова Ирина Владимировна\\n19.«УПРАВЛЕНИЕ ПОВЕДЕНИЕМ РЕБЁНКА НА СТОМАТОЛОГИЧЕСКОМ ПРИЕМЕ»\\nгород: Волгоград\\nлектор: Скатова Екатерина Александровна\\n20.«МАСТЕР-КЛАСС ПО РЕСТАВРАЦИИ ЖЕВАТЕЛЬНОЙ ГРУППЫ ЗУБОВ»\\nгород: Уфа\\nлектор: Рузин Иван\\n21.«МАСТЕР-КЛАСС ПО РЕСТАВРАЦИИ ПЕРЕДНЕЙ ГРУППЫ ЗУБОВ»\\nгород: Уфа\\nлектор: Рузин Иван' metadata={'Header 1': 'ПЕРЕЧЕНЬ КУРСОВ ПОВЫШЕНИЯ КВАЛИФИКАЦИИ ДЛЯ ВРАЧЕЙ-СТОМАТОЛОГОВ В РАЗЛИЧНЫХ ГОРОДАХ РОССИИ В 2024 ГОДУ'}\n",
            "\n",
            "Чанк 23:\n",
            "page_content='ИНФОРМАЦИЯ О ПРЕПОДАВАТЕЛЯХ (ЛЕКТОРАХ) КУРСОВ  \\nссылка на биографию Корнетова Ирина Владимировна: https://profistomat.ru/lecturers/irina-kornetova/\\nссылка на биографию Баранников Никита Викторович: https://profistomat.ru/lecturers/barannikov-nikita-viktorovich/\\nссылка на биографию Шабанова Полина Александровна: https://profistomat.ru/lecturers/shabanova-polina/\\nссылка на биографию Рузин Иван: https://profistomat.ru/lecturers/ruzin-ivan/\\nссылка на биографию Сошников Алексей Сергеевич: https://profistomat.ru/lecturers/soshnikov-aleksej-sergeevich/\\nссылка на биографию Ермошенко Роман Борисович: https://profistomat.ru/lecturers/roman-borisovich-ermoshenko/\\nссылка на биографию Земан Алексей: https://profistomat.ru/lecturers/zeman-aleksej/\\nссылка на биографию Хасратьянц Юрий: https://profistomat.ru/lecturers/hasratyants-yurij/\\nссылка на биографию Немова Марина Борисовна: https://profistomat.ru/lecturers/nemova-marina-borisovna/\\nссылка на биографию Волкова Юлия Валерьевна: https://profistomat.ru/lecturers/volkova-yuliya-valerevna/\\nссылка на биографию Скатова Екатерина Александровна: https://profistomat.ru/lecturers/skatova-ekaterina-aleksandrovna/' metadata={'Header 1': 'ИНФОРМАЦИЯ О ПРЕПОДАВАТЕЛЯХ (ЛЕКТОРАХ) КУРСОВ'}\n",
            "\n"
          ]
        }
      ]
    },
    {
      "cell_type": "code",
      "source": [
        "# Инструкция в system\n",
        "\n",
        "system = load_document_text('https://docs.google.com/document/d/1jOpPZ5Boz1774QOjOANGuoK-cUPN7ohPWdnsIioGxz8/edit?usp=sharing') # заполняем параметр ссылкой на составленный промпт. Не забываем открыть доступ"
      ],
      "metadata": {
        "id": "YWAd7R7t9I4B"
      },
      "execution_count": 11,
      "outputs": []
    },
    {
      "cell_type": "code",
      "source": [
        "from google.colab import drive\n",
        "drive.mount('/content/drive')"
      ],
      "metadata": {
        "colab": {
          "base_uri": "https://localhost:8080/"
        },
        "id": "6RR8cj4b9SfE",
        "outputId": "608295d5-55f6-430a-a852-25e54cc48e31"
      },
      "execution_count": null,
      "outputs": [
        {
          "output_type": "stream",
          "name": "stdout",
          "text": [
            "Drive already mounted at /content/drive; to attempt to forcibly remount, call drive.mount(\"/content/drive\", force_remount=True).\n"
          ]
        }
      ]
    },
    {
      "cell_type": "code",
      "source": [
        "# Вывод первых 4000 символов system\n",
        "print(system[:4000])"
      ],
      "metadata": {
        "colab": {
          "base_uri": "https://localhost:8080/"
        },
        "id": "jKw_M3pE9NM6",
        "outputId": "3fd4042b-5353-4e47-9cb3-d9fcf8609796"
      },
      "execution_count": 12,
      "outputs": [
        {
          "output_type": "stream",
          "name": "stdout",
          "text": [
            "﻿Ты известный практикующий врач стоматолог , преподаватель и консультант учебного центра ООО «ПРОФЕССИОНАЛ», курсы повышения квалификации и непрерывного образования для врачей стоматологов в различных городах России. Все наши мероприятия проходят аккредитацию по линии НМО с получением кредитов. \r\n",
            "\r\n",
            "\r\n",
            "Предоставь точную информацию о курсах повышения квалификации и непрерывного образования для врачей-стоматологов, доступных в различных городах России. \r\n",
            "При ответах на вопросы используй базу знаний с информацией о курсах,  данную тебе. Ничего от себя не придумывай и отвечай строго по тексту базы знаний про каждый конкретный курс. У каждого курса есть своя программа, свой лектор и варианты городов и дат проведения обучения, не путай их между собой. Особенно аккуратно обращайся с датами проведения курсов, ты должен предоставить очень точную информацию по датам. Ответы на вопросы клиентов должны быть точными и релевантными, строго исходя из базы знаний. \r\n",
            "\r\n",
            "\r\n",
            "Если клиент спрашивает подробную программу курса выдай в своем ответе также соответствующую ссылку на страницу сайта учебного центра с данным курсом (имеется в информации по каждому конкретному курсу).\r\n",
            "\r\n",
            "\r\n",
            "На вопрос пользователя про лектора - выдавай ссылки на его биографию из базы знаний. \r\n",
            "\r\n",
            "\r\n",
            "Для каждого курса выдавай все возможные варианты дат и мест проведения обучающих курсов. Если есть два и более курса по той же тематике, то надо рассказать обо всех.\r\n",
            "\r\n",
            "\r\n",
            "Не дублируй название курса, даты курса, преподавателя, если эта информация уже указана в вопросе пользователя.\r\n",
            "\r\n",
            "\r\n",
            "Ты не должен отвечать на вопросы, не связанные с работой учебного центра ООО «ПРОФЕССИОНАЛ». На такие вопросы отвечай: “\"Извините , но я не могу ответить на вопрос не относящийся к теме курсов повышения квалификации врачей стоматологов. Могу посоветовать вам найти ответ на этот вопрос в открытых источниках сети интернет. Прошу задавать мне вопросы только по теме курсов повышения квалификации врачей стоматологов.\"    \r\n",
            "\r\n",
            "\r\n",
            "\r\n",
            "\r\n",
            "Если на вопрос о деятельности учебного центра ООО “Профессионал” нет ответа в предоставленной базе знаний, ты должен ответить: “Для уточнения данной информации прошу обратиться в наш контактный центр:  +7 921 862-98-24 или info@profistomat.ru”.\r\n",
            "\r\n",
            "\r\n",
            "Также ты должен выявлять потребности клиента, отвечать чётко по каждому курсу.\r\n",
            "В своих ответах ты должен подчеркивать уникальные преимущества курсов: доступ к передовым знаниям, обучение у ведущих специалистов, актуальность программы.\r\n",
            "В случае запроса пользователем конкретного курса, даты, преподавателя в конце ответа обязательно давай ссылку “записаться на курс”.\r\n",
            "Ссылка “записаться на курс” находится на странице каждого конкретного курса на сайте.\n"
          ]
        }
      ]
    },
    {
      "cell_type": "code",
      "source": [
        "# выводим несколько чанков, чтобы убедиться, что все получилось в необходимом нам формате\n",
        "chunks[0:5]"
      ],
      "metadata": {
        "colab": {
          "base_uri": "https://localhost:8080/"
        },
        "id": "OjtknHM--QRj",
        "outputId": "e933fe89-ceb1-44f9-e255-650df736d303"
      },
      "execution_count": 13,
      "outputs": [
        {
          "output_type": "execute_result",
          "data": {
            "text/plain": [
              "[Document(page_content='ВОЗРАСТ РЕЗЦА (СОШНИКОВ АЛЕКСЕЙ СЕРГЕЕВИЧ) 28 - 29 сентября 2024  \\nПреподаватель: СОШНИКОВ АЛЕКСЕЙ СЕРГЕЕВИЧ  \\nГород: Чита  \\nПРАКТИЧЕСКИЙ КУРС\\n28 сентября 2024\\nРегистрация с 9-00 до 10-00, курс с 10-00 до 18-00 (с перерывами на кофе-паузы и бизнес-ланч)\\nМАСТЕР-КЛАСС\\n29 сентября 2024\\nРегистрация с 9-00 до 10-00, курс с 10-00 до 18-00 (с перерывами на кофе-паузы и бизнес-ланч)\\nМесто проведения: Будет объявлено дополнительно\\nСтоимость семинара - 16 500 рублей. Стоимость семинар+мастер-класс - 42 000 рублей. При внесении аванса 10 000 руб до 28 августа, стоимость 40 000 руб. Оставшуюся часть можно оплатить до даты курса.  \\nДополнительно можно получить Свидетельство НМО 36 баллов. Учебный план сформирован на портале НМО и утвержден согласно 36 часам. Стоимость 3 000 руб.  \\nПРОГРАММА :\\nНаучитесь видеть и уметь воспроизвести зубы разных возрастных групп композитом в прямой технике  \\nПочти на всех курсах в качестве практики выполняют реставрацию резца в максимальной анатомии, которая соответствует исключительно юным пациентам… но как часто у вас в кресле молодые люди до 20 лет?!\\nКак правило это исключительно пациенты с травмой передних зубов.\\nИ, как правило, это подростки  \\nНо что делать с остальными пациентами?\\nВедь зубы пациента в 15 и в 30 лет заметно отличаются. А зубы 50-летнего пациента не имеют ничего общего с 20-летним.  \\nЭтот практический курс был специально разработан для тех, кто хочет не только разбираться теоретически в отличиях между зубами разных возрастных групп, но готов реализовывать это композитными материалами прямо у кресла  \\nОбучение будет полезно:\\nДля стоматологов терапевтов.\\nДля стоматологов общей практики.\\nДля детских стоматологов.\\nДля интернов и ординаторов, которые планируют работать в клиниках\\nА также для стоматологов и зубных врачей с большим стажем, которые хотят повысить свои знания и мануальные навыки в реставрации зубов  \\nОсобенность курса в том, что каждый участник сможет не только освежить свои представления о строении зубов разного возраста на примерах фотографий натуральных резцов и разницы в реставрации дефектов различной степени поражения, но и выполнить лично на фантоме все отличия в анатомии центрального резца 6-25 лет, 25-50 лет и 50+ лет возрастных групп  \\nЧто получит участник:\\n1. Перечень и разновидности элементов из которых складывается представление о зубах молодого, среднего и пожилого возраста\\n2. \\u2060Последовательный протокол реставрации зуба в модифицированной технике стратификации по Ванини\\n3. \\u2060Несколько десятков кейсов с отдаленными результатами реставрации зубов через 1-12 лет\\n4. \\u2060Видео инструкцию с последовательностью этапов реставрации и полировки центрального резца с пояснениями автора\\n5. \\u2060Узнают, почему после реставрации пациенту не запрещено употреблять красящие напитки, кусать твердое и можно давать гарантию 10 лет  \\nСамые частые проблемы и вопросы при реставрации:\\n1. Как подобрать оттенок композита быстро и надежно, чтобы реставрация не отличалась по цвету\\n2. \\u2060Почему реставрация не должна выпадать или ломаться. Самые распространенные ошибки. Как их избежать\\n3. \\u2060Как научиться видеть элементы анатомии и уметь повторить, чтобы реставрация была идентична натуральному зубу\\n4. \\u2060 Какие существуют варианты лечения при травме зубов, с поражением нерва и без\\n5. \\u2060Как полировать реставрацию так, чтобы через неделю она не стала матовой\\n6. \\u2060Как добиться плотного контактного пункта между зубами, чтобы нить щелкала  \\nЛекционная часть:  \\n- Композит. Области применения\\n- Способы определение оттенка композита. Как правильно\\n- Варианты изготовления силиконового шаблона. Видео\\n- Особенности изоляции во фронтальном участке. Основы ежедневной изоляции. Видео\\n- Подготовка полости. Адгезивный протокол. Видео\\n- Способы создания контактного пункта в передних зубах\\n- Особенности модифицированной современной техники стратификации по Ванини\\n- Отличительные особенности зубов у пациентов разного возраста. Какие этапы проходит каждый зуб со временем  \\nПрактическая часть  \\n- Каждый участник выполняет пошаговый протокол реставрации центрального резца разных возрастных групп. Целых ТРИ реставрации одного зуба, в зависимости от возраста пациента. Моделирование внутренних и внешних\\nструктур зуба (мамелоны, эффект Гало, трещины, пятна, разная яркость и степень прозрачности эмали, текстура), а также 3 разновидности полировки поверхности  \\nПродолжительность 2 дня 10:00-18:00\\nЛюбая фото- и видеосъемка во время обучения разрешена. Хорошее настроение на семинаре и мотивация для новых достижений гарантирована  \\nПо окончании курса выдается именной Сертификат ООО «ПРОФЕССИОНАЛ» с указанием учебных часов.  \\nссылка на pdf: https://profistomat.ru/wp-content/uploads/2024/04/Programma-Soshnikov-VOZRAST-REZTSA-28-29-sentyabrya-CHIta.pdf  \\nссылка на страницу курса: https://profistomat.ru/lecturers/soshnikov-aleksej-sergeevich/vozrast-reztsa/', metadata={'Header 1': 'ВОЗРАСТ РЕЗЦА (СОШНИКОВ АЛЕКСЕЙ СЕРГЕЕВИЧ) 28 - 29 сентября 2024'}),\n",
              " Document(page_content='ФУНКЦИОНАЛЬНОЙ ОРИЕНТИРОВАННЫЙ ПОДХОД В ДИАГНОСТИКЕ И ПЛАНИРОВАНИИ ЛЕЧЕНИЯ ПАТОЛОГИИ ЖЕВАТЕЛЬНОГО АППАРАТА (ЕРМОШЕНКО РОМАН БОРИСОВИЧ) 5 октября 2024  \\nПреподаватель: ЕРМОШЕНКО РОМАН БОРИСОВИЧ  \\nГород: Новосибирск  \\n5 октября 2024\\nСЕМИНАР\\nРегистрация с 9-00 до 10-00, курс с 10-00 до 18-00 (с перерывами на кофе-паузы и бизнес-ланч)\\nМесто проведения курса: будет объявлено дополнительно ближе к дате курса.\\nСтоимость курса: 25 000 руб. При оплате за оба курса до 05.09.2024 стоимость курсов 42 000 руб. Без предоплаты мы не гарантируем Вам место на курсе.  \\nДополнительно можно получить Удостоверение о повышении квалификации государственного образца НМО 36 баллов. Стоимость - 3000 руб. Срок получения 1 месяц.  \\nПРОГРАММА :\\nВторая часть семинара Гнатология рассматривает структуру, состав, анатомическое, гистологическое строение, физиологическию и патофизиологические процессы, биомеханику и связь элементов Стоматогнатической системы в рамках концепции последовательного развития нарушения.\\nКурсантам предлагается четкая, проверенная обширным практическим применением концепция, которая является основанием для корректной диагностики и оценки состояния всех элементов стоматогнатической системы. Для проведения скрининга и документирования состояния всех структур курсанты знакомятся с разработанной и утвержденной авторской картой обследования, также прошедшей опробацию и утверждение на базе медицинского университета.\\nАдаптометрический подход в оценке состояния жевательного аппарата является результатом 30 летней научной работой автора курса.\\nНа нашем курсе теоретически и практически выполняется построение функционального профиля каждого курсанта на основании мануального функционального анализа, позволяющего четко и безошибочно оценить степень развития нарушения у конкретного человека в выбранный момент времени с ограниченным использованием вспомогательных методов исследования. Данный диагностический комплекс позволяет определять обьем, состав и продолжительность лечебных мероприятий с позиции обеспечения безопасности пациента, выполнять построение прогностических гарантий. Предложенная стратегия ведет к пониманию истинных и ложных целей терапии.\\nСистемная оценка состояния всех функциональных связей всех элементов стоматогнатического комплекса позволяет определить явления, которые ведут к развитию компликаций и осложнений в полной окклюзионной реабилитации пациентов. Вводится и проясняется понятие интегральной нейрофизиологической стоматологии -как единственно направления, обеспечивающего полное решение проблем пациентов. Разбираются и четко локализуются временные рамки, в которых корректно выбранный алгоритм мероприятий обеспечивает такое решение.\\nКурс теоретический с демонстрацией и элементами практики. Продолжительность 1 день (8-9 часов)  \\nСодержание курса:\\n1.Стоматогнатическая система. Элементы и их функциональные взаимодействия. От диагноза к выбору терапии. Структура развития Общего адаптационного синдрома применительно к этапам развития функциональной патологии. Границы междисциплинарного взаимодействия. Прогностические гарантии.\\n2.Диагностический комплекс.\\n- Постуральный анализ. Поза и прикус. Кранио-вертебральный комплекс. Неоптимальная постуральная компенсация. Оценка направления развития комменсации. Клинико-диагностические параллели.\\n-Нейромышечый комплекс. Анатомо-физиологическая характеристика. Патогенез нарушения. От соотношения Фаррара к изометрическим пробам. Руки – диагностический инструмент. Документирование состояния элементов нейромышечного комплекса. Мануальный функциональный анализ. Понятие специфического и неспецифического вектора нагрузки. Вербальные формулировки диагноза функциональной патологии нейромышечного комплекса. Алгоритмы решения проблем в зависимости от стадии развития нарушения.\\n-Височно-нижнечелюстное сочленение. Подробная анатомо-физиологическая характеристика сочленовных элементов , диско-мыщелкового комплекса, биламинарной зоны, связок и суставной капсулы. Мануальный и инструментальный функциональный анализ.. Документирования состояния элементов ВНЧС. От гипермобильности к невправимой дислокации суставного диска и дегенаративным изменениям ВНЧС. Состояния не оставляющие возможности для консервативного лечения. . Вербальные формулировки диагноза функциональной патологии нейромышечного комплекса. Алгоритмы решения проблем в зависимости от стадии развития нарушения.\\n3.Дополнительные методики исследования механическая коллинеарная аксиография, электронная кондиллография, КлКТ, МРТ, УЗИ. Необходимость или экстравагантная механизация. Возможности и ограничения методов визуализации\\n4.Демонстрация и самостоятельная работа курсантов.\\n5.Обсуждение и обмен мнениями.\\nКурсантам предоставляется: Содержание лекции в *PDF формате, диагностическая карта\\nОбеспечение курса: Одноразовые перчатки, Распечатанные на принтере диагностические карты, Одноразовые бумажные линейки. Шариковые или гелевые ручки двух цветов.  \\nПо окончании курса выдается именной Сертификат ООО «ПРОФЕССИОНАЛ»  \\nссылка на pdf: https://profistomat.ru/wp-content/uploads/2024/04/Programma-5-6-oktyabrya-2024-Ermoshenko-Novosibirsk.pdf  \\nссылка на страницу курса: https://profistomat.ru/lecturers/roman-borisovich-ermoshenko/funktsionalnoj-orientirovannyj-podhod-v-diagnostike-i-planirovanii-lecheniya-patologii-zhevatelnogo-apparata/', metadata={'Header 1': 'ФУНКЦИОНАЛЬНОЙ ОРИЕНТИРОВАННЫЙ ПОДХОД В ДИАГНОСТИКЕ И ПЛАНИРОВАНИИ ЛЕЧЕНИЯ ПАТОЛОГИИ ЖЕВАТЕЛЬНОГО АППАРАТА (ЕРМОШЕНКО РОМАН БОРИСОВИЧ) 5 октября 2024'}),\n",
              " Document(page_content='ТОТАЛЬНЫЕ РАБОТЫ НА ИМПЛАНТАХ (ЗЕМАН АЛЕКСЕЙ) 5 октября 2024  \\nПреподаватель: ЗЕМАН АЛЕКСЕЙ  \\nГород: Новосибирск  \\nСЕМИНАР\\n5 октября 2024\\nРегистрация с 9-00 до 10-00, курс с 10-00 до 18-00 (с перерывами на кофе-паузы и бизнес-ланч)\\nМесто проведения будет объявлено дополнительно\\nСтоимость курса: 25 000 руб. При внесении аванса 10 000 руб до 5 сентября, стоимость 22 000 руб. Оставшуюся часть можно оплатить ближе к дате курса или на курсе.  \\nДополнительно можно получить Удостоверение о повышении квалификации государственного образца, НМО 36 баллов. Стоимость 3000 руб. Срок получения 1 месяц.  \\nПРОГРАММА :\\nучебный курс Алексея Земана и Юрия Хасратьянца «ТОТАЛЬНЫЕ РАБОТЫ НА ИМПЛАНТАХ»  \\nОРТОПЕДИЧЕСКИЙ БЛОК:\\n• Оттиски с операционной раны:\\n- трансфера и трансфер-чек\\n- ложки, изоляция раны\\n- методики и массы\\n• Предварительная регистрация ЦС\\n• Методы регистрации ЦС при «все на 4/6»\\n• Варианты временных конструкций разных типов,\\nармирование\\n• Лабораторный трансфер-чек и оттиски для постоянной\\nконструкции\\n• Регистрация прикуса и его передача в лабораторию\\n• Постоянные конструкции различных типов\\n• Гигиена  \\nПо окончании курса выдается именной Сертификат ООО «ПРОФЕССИОНАЛ»  \\nссылка на pdf: https://profistomat.ru/wp-content/uploads/2024/04/Programma-5-oktyabrya-Novosibirsk-Zeman-Hasratyants.pdf  \\nссылка на страницу курса: https://profistomat.ru/lecturers/zeman-aleksej/totalnye-raboty-na-implantah/', metadata={'Header 1': 'ТОТАЛЬНЫЕ РАБОТЫ НА ИМПЛАНТАХ (ЗЕМАН АЛЕКСЕЙ) 5 октября 2024'}),\n",
              " Document(page_content='ТОТАЛЬНЫЕ РАБОТЫ НА ИМПЛАНТАХ (ХАСРАТЬЯНЦ ЮРИЙ) 5 октября 2024  \\nПреподаватель: ХАСРАТЬЯНЦ ЮРИЙ  \\nГород: Новосибирск  \\nСЕМИНАР\\n5 октября 2024\\nРегистрация с 9-00 до 10-00, курс с 10-00 до 18-00 (с перерывами на кофе-паузы и бизнес-ланч)\\nМесто проведения будет объявлено дополнительно\\nСтоимость курса: 25 000 руб. При внесении аванса 10 000 руб до 5 сентября, стоимость 22 000 руб. Оставшуюся часть можно оплатить ближе к дате курса или на курсе.  \\nДополнительно можно получить Удостоверение о повышении квалификации государственного образца, НМО 36 баллов. Стоимость 3000 руб. Срок получения 1 месяц.  \\nПРОГРАММА :\\nучебный курс Алексея Земана и Юрия Хасратьянца «ТОТАЛЬНЫЕ РАБОТЫ НА ИМПЛАНТАХ»  \\nХИРУРГИЧЕСКИЙ БЛОК:\\no Специфика лечения и особенности подхода.\\no Показания и противопоказания для «все на 4/6»\\no Консультация и диагностика.\\no Планирование и хирургические шаблоны.\\no Подготовка к операции\\no Протоколы операции:\\n- с редукцией,\\n- с сохранением параметров гребня,\\n- при сложных костных условиях\\no Передача ортопеду\\no Ошибки и осложнения  \\nссылка на pdf: https://profistomat.ru/wp-content/uploads/2024/04/Programma-5-oktyabrya-Novosibirsk-Zeman-Hasratyants.pdf  \\nссылка на страницу курса: https://profistomat.ru/lecturers/hasratyants-yurij/totalnye-raboty-na-implantah/', metadata={'Header 1': 'ТОТАЛЬНЫЕ РАБОТЫ НА ИМПЛАНТАХ (ХАСРАТЬЯНЦ ЮРИЙ) 5 октября 2024'}),\n",
              " Document(page_content='СПЛИНТ ТЕРАПИЯ. ОККЛЮЗИОННЫЕ И ФУНКЦИОНАЛЬНО ДЕЙСТВУЮЩИЕ ОРТОПЕДИЧЕСКИЕ ПРИСПОСОБЛЕНИЯ. РАЗНОВИДНОСТИ. КЛАССИФИКАЦИИ. ПОКАЗАНИЯ И АЛГОРИТМЫ РАБОТЫ ПРИ РАЗЛИЧНЫХ ВИДАХ ФУНКЦИОНАЛЬНОЙ ПАТОЛОГИИ (ЕРМОШЕНКО РОМАН БОРИСОВИЧ) 6 октября 2024  \\nПреподаватель: ЕРМОШЕНКО РОМАН БОРИСОВИЧ  \\nГород: Новосибирск  \\nСЕМИНАР+МАСТЕР-КЛАСС\\n6 октября 2024\\nРегистрация с 9-00 до 10-00, курс с 10-00 до 18-00 (с перерывами на кофе-паузы и бизнес-ланч)\\nМесто проведения будет объявлено дополнительно.\\nСтоимость курса: 25 000 руб. При оплате за оба курса до 05.09.2024 стоимость курсов 42 000 руб. Без предоплаты мы не гарантируем Вам место на курсе.  \\nДополнительно можно получить Удостоверение о повышении квалификации государственного образца НМО 36 баллов. Стоимость - 3000 руб. Срок получения 1 месяц.  \\nПРОГРАММА :\\nТретья часть программы, логическое продолжение курса, детально рассматривающее начальный этап окклюзионной реабилитации. В ходе курса определяются показания к применению окклюзионных ортопедических и функционально действующих ортопедических приспособлений (далее ООП и ФДОП) их классификации, выбор, методики изготовления, алгоритмы использования, возможности комбинации от миопатии до артропатии. Разбираются особенности (обзор) использования ООП при бруксизме, эксцентрических парафункциях, гиперкинезах покоя, храпе и ночном апное. Спортивные каппы.  \\nПродолжительность 1 день (8-9 часов), 3 часа теоретическое обоснование и 5 часов практическая работа: изготовление ООП «MAGO» Термопресс-формирование Miniplast Drum и последующим моделированием в пространстве артикулятора с модифицированной функцией направляющих. Работа выполняется на фантомных гнатодах с арбитрарным расположением в пространстве регулируемого артикулятора.\\nКоличество курсантов СТРОГО ЛИМИТИРОВАНО из-за сложности организации и проведения практической части!\\nСодержание теоретической части:\\n1.История метода лечения, его общая и частная характеристики в представлении IAG «Международной академии гнатологии». Существующие классификации Ramfjord & Ash, DGZMK. Конвенциональные технологии изготовления v.s. софременные цифровые возможности. Требования к материалам и способам изготовления. Факторы, влияющие на выбор технологии.\\n2.Группа приспособлений использующих в качестве рабочего элемента ограниченный участок зубного ряда, накусочные площадки. Философия применения AMPS на примере приспособлений Howley, Planas, Dessner, Posselt, Immenkamp, Schulte, Lucia, SVED, Kois, NTI. Способы изготовления. Алгоритмы назначения и использования. Частный случай Interceptor Schulte – спасительное решение.\\n3.Группа приспособлений перекрывающих всю окклюзионную поверхность зубного ряда. Выбор челюсти. Варианты организации окклюзионных контактов в зависимости от вида патологии и назначения “point-in - centric”, “freedom-in-centric”, “orthoballance” на примере приспособлений BFE, Schultz-Bongert, Tanner, Slavicek, Michigan, Gaush, Kubein-Messenburgh. Ретрузионный контроль v.s полная анатомия. Роль направляющих в сплинт-терапии. Разновидности конструкций ООП в зависимости от избранной роли направляющих “minimal sufficient” , “actually modified” ,”pre-installed”, “CCF®”. Окклюзионные приспособления без направляющих Shore appliance & Kobes. Показания к применению. Изготовление. Алгоритмы ведения терапии.\\n4.Центрическая и эксцентрическая репозиция. Стратегия использования и критерии выбора дистракционных и протрузионных присоблений. Терапевтическое соотношение с точки зрения классической гнатологии v.s функциональные концепции. Способы изготовления.. Алгоритмы ведения терапии.\\n5.Щиты, дилататоры, стандартные приспособления, спортивные каппы. Место стандартных приспособлений, показания к использованию, ограничения.\\n6. Обсуждение и обмен мнениями.\\nСодержание практической части:\\n• Самостоятельная работа курсантов.\\n• Перенос фантомных гнатодов в пространство артикулятора арбитрарно.\\n• Модификация передних направлящих.\\n• Регистрация модифицированных детерминант.\\n• Компенсация дистанции разобщения.\\n• Термопресс формирование “Miniplast Drum”.\\n• Работа с границами и дизайном ООП.\\n• Моделирование ООП из акрилатов холодной полимеризации.\\n• Разработка контактной схемы.\\n• Разработка передних детерминант.\\n• Окончательная обработка  \\nКурсантам предоставляется: Содержание основных положений темы в *PDF формате.  \\nКурсанты имеют с собой:\\nЗащитные очки. Халат. Артикулятор. 2 монтажные пластины. Моделировочный инструмент PKT 1, моделировочный воск любого цвета, скальпель. Фрезы для работы с пластмассой. Трехгранную фрезу. Ультратримм для обработки полиэтилена. Артикуляционную бумагу синего и красного цвета. Перманентный маркер красного цвета.  \\nПо окончании курса выдается именной Сертификат ООО «ПРОФЕССИОНАЛ».  \\nссылка на pdf: https://profistomat.ru/wp-content/uploads/2024/04/Programma-5-6-oktyabrya-2024-Ermoshenko-Novosibirsk.pdf  \\nссылка на страницу курса: https://profistomat.ru/lecturers/roman-borisovich-ermoshenko/splint-terapiya-okklyuzionnye-i-funktsionalno-dejstvuyushhie-ortopedicheskie-prisposobleniya-raznovidnosti-klassifikatsii-pokazaniya-i-algoritmy-raboty-pri-razlichnyh-vidah-funktsionalnoj-patologi/', metadata={'Header 1': 'СПЛИНТ ТЕРАПИЯ. ОККЛЮЗИОННЫЕ И ФУНКЦИОНАЛЬНО ДЕЙСТВУЮЩИЕ ОРТОПЕДИЧЕСКИЕ ПРИСПОСОБЛЕНИЯ. РАЗНОВИДНОСТИ. КЛАССИФИКАЦИИ. ПОКАЗАНИЯ И АЛГОРИТМЫ РАБОТЫ ПРИ РАЗЛИЧНЫХ ВИДАХ ФУНКЦИОНАЛЬНОЙ ПАТОЛОГИИ (ЕРМОШЕНКО РОМАН БОРИСОВИЧ) 6 октября 2024'})]"
            ]
          },
          "metadata": {},
          "execution_count": 13
        }
      ]
    },
    {
      "cell_type": "code",
      "source": [
        "len(chunks)"
      ],
      "metadata": {
        "colab": {
          "base_uri": "https://localhost:8080/"
        },
        "id": "DvGCVGQn-iEB",
        "outputId": "7847bd49-bbe2-4e15-e7d7-13b31fc36b2a"
      },
      "execution_count": 14,
      "outputs": [
        {
          "output_type": "execute_result",
          "data": {
            "text/plain": [
              "23"
            ]
          },
          "metadata": {},
          "execution_count": 14
        }
      ]
    },
    {
      "cell_type": "code",
      "source": [
        "# Инициализируем модель эмбеддингов\n",
        "embeddings = OpenAIEmbeddings()\n",
        "\n",
        "# Создадим индексную базу из разделенных фрагментов текста\n",
        "db = FAISS.from_documents(chunks, embeddings)"
      ],
      "metadata": {
        "id": "fVybHR5b9SKZ"
      },
      "execution_count": 15,
      "outputs": []
    },
    {
      "cell_type": "markdown",
      "source": [
        "Отдельный блок для сохранения базы Faiss (если необходимо)"
      ],
      "metadata": {
        "id": "qdqaxjn39Zyw"
      }
    },
    {
      "cell_type": "code",
      "source": [
        "# Задаем имя и путь для сохранения файла\n",
        "folder_path = '/content/drive/MyDrive/'\n",
        "index_name = \"db\""
      ],
      "metadata": {
        "id": "_DiWXXsr-ssW"
      },
      "execution_count": 16,
      "outputs": []
    },
    {
      "cell_type": "code",
      "source": [
        "# Сохраняем db на ваш Google Drive\n",
        "db.save_local(folder_path=folder_path, index_name=index_name)"
      ],
      "metadata": {
        "id": "lLjKBETV-0Zr"
      },
      "execution_count": 17,
      "outputs": []
    },
    {
      "cell_type": "code",
      "source": [
        "# Путь к сохраненному файлу\n",
        "saved_file_path = f\"{folder_path}{index_name}\""
      ],
      "metadata": {
        "id": "IiqEv8f--5hb"
      },
      "execution_count": 18,
      "outputs": []
    },
    {
      "cell_type": "code",
      "source": [
        "# Настройка общего доступа и получение ссылки вручную\n",
        "print(f\"Файл сохранен в {saved_file_path}. Перейдите на Google Drive, найдите файл и настройте общий доступ.\")"
      ],
      "metadata": {
        "colab": {
          "base_uri": "https://localhost:8080/"
        },
        "id": "M87rkypa_Cch",
        "outputId": "d9c618cb-263d-453c-ad0d-77c66211d875"
      },
      "execution_count": 19,
      "outputs": [
        {
          "output_type": "stream",
          "name": "stdout",
          "text": [
            "Файл сохранен в /content/drive/MyDrive/db. Перейдите на Google Drive, найдите файл и настройте общий доступ.\n"
          ]
        }
      ]
    },
    {
      "cell_type": "code",
      "source": [
        "# Вывод ссылки для ручного копирования и настройки общего доступа\n",
        "drive_link = f\"https://drive.google.com/drive/u/0/my-drive\"\n",
        "print(f\"Ссылка на ваш Google Drive: {drive_link}\")"
      ],
      "metadata": {
        "colab": {
          "base_uri": "https://localhost:8080/"
        },
        "id": "uXdiPjNO_XQq",
        "outputId": "2facbb77-b552-410c-f792-4bfee01ed723"
      },
      "execution_count": null,
      "outputs": [
        {
          "output_type": "stream",
          "name": "stdout",
          "text": [
            "Ссылка на ваш Google Drive: https://drive.google.com/drive/u/0/my-drive\n"
          ]
        }
      ]
    },
    {
      "cell_type": "markdown",
      "source": [
        "Конец блока сохранения базы Faiss"
      ],
      "metadata": {
        "id": "HtXs-dkh_jPD"
      }
    },
    {
      "cell_type": "code",
      "source": [
        "def insert_newlines(text: str, max_len: int = 170) -> str:\n",
        "    \"\"\"\n",
        "    Функция разбивает длинный текст на строки определенной максимальной длины.\n",
        "    \"\"\"\n",
        "    words = text.split()\n",
        "    lines = []\n",
        "    current_line = \"\"\n",
        "    for word in words:\n",
        "        if len(current_line + \" \" + word) > max_len:\n",
        "            lines.append(current_line)\n",
        "            current_line = \"\"\n",
        "        current_line += \" \" + word\n",
        "    lines.append(current_line)\n",
        "    return \"\\n\".join(lines)"
      ],
      "metadata": {
        "id": "eFyoqe6KrR0R"
      },
      "execution_count": 20,
      "outputs": []
    },
    {
      "cell_type": "code",
      "source": [
        "# Функция для ответа на вопросы с использованием индекса. Модифицирована и возвращает еще и стоимость ответа.\n",
        "def answer_index(system, topic, search_index, verbose=0):\n",
        "    \"\"\"\n",
        "    Функция для ответа на вопросы с использованием индекса и расчета стоимости.\n",
        "\n",
        "    Args:\n",
        "      system:\n",
        "      topic:\n",
        "      search_index:\n",
        "      verbose:\n",
        "\n",
        "    Returns:\n",
        "      answer: Ответ на вопрос\n",
        "      cost: Стоимость ответа в USD\n",
        "    \"\"\"\n",
        "    # Поиск релевантных отрезков из базы знаний\n",
        "    docs = search_index.similarity_search(topic, k=4)\n",
        "    if verbose: print('\\n ===========================================: ')\n",
        "\n",
        "    message_content = re.sub(r'\\n{2}', ' ', '\\n '.join([f'\\nОтрывок документа №{i+1}\\n=====================' + doc.page_content + '\\n' for i, doc in enumerate(docs)]))\n",
        "    if verbose: print('message_content :\\n ======================================== \\n', message_content)\n",
        "\n",
        "    client = OpenAI()\n",
        "    messages = [\n",
        "        {\"role\": \"system\", \"content\": system},\n",
        "        {\"role\": \"user\", \"content\": f\"Ответь на вопрос. Документ с информацией для ответа: {message_content}\\n\\nВопрос пользователя: \\n{topic}\"}\n",
        "    ]\n",
        "\n",
        "    if verbose: print('\\n ===========================================: ')\n",
        "\n",
        "    completion = client.chat.completions.create(\n",
        "        model=\"gpt-4o-mini-2024-07-18\",  # Выберите модель\n",
        "        messages=messages,\n",
        "        temperature=0  # Указываем значение\n",
        "    )\n",
        "\n",
        "    answer = completion.choices[0].message.content\n",
        "\n",
        "    # Подсчет токенов\n",
        "    token_count = num_tokens_from_string(message_content + answer, \"cl100k_base\")\n",
        "    cost = calculate_cost(token_count)\n",
        "\n",
        "    return answer, cost\n"
      ],
      "metadata": {
        "id": "q4-cdMcw_udG"
      },
      "execution_count": 21,
      "outputs": []
    },
    {
      "cell_type": "code",
      "source": [
        "def summarize_questions(dialog):\n",
        "    \"\"\"\n",
        "    Функция возвращает саммаризированный текст диалога.\n",
        "    \"\"\"\n",
        "    messages = [\n",
        "        {\"role\": \"system\", \"content\": \"Ты - нейро-саммаризатор. Твоя задача - саммаризировать диалог, который тебе пришел. Если пользователь назвал свое имя, обязательно отрази его в саммаризированном диалоге\"},\n",
        "        {\"role\": \"user\", \"content\": \"Саммаризируй следующий диалог консультанта и пользователя: \" + \" \".join(dialog)}\n",
        "    ]\n",
        "\n",
        "    completion = client.chat.completions.create(\n",
        "        model=\"gpt-4o-mini-2024-07-18\",\n",
        "        messages=messages,\n",
        "        temperature=0,          # Используем более низкую температуру для более определенной суммаризации\n",
        "    )\n",
        "\n",
        "    return completion.choices[0].message.content"
      ],
      "metadata": {
        "id": "B4lg7q-prfr6"
      },
      "execution_count": 22,
      "outputs": []
    },
    {
      "cell_type": "code",
      "source": [
        "# Модифицирована и теперь она будет включать расчет стоимости для каждого вопроса и ответа\n",
        "def answer_user_question_dialog(system, db, user_question, question_history):\n",
        "    \"\"\"\n",
        "    Функция возвращает ответ на вопрос пользователя с расчетом стоимости.\n",
        "    \"\"\"\n",
        "    summarized_history = \"\"\n",
        "    if len(question_history) > 0:\n",
        "        # Извлекаем только вопросы и ответы для саммаризации\n",
        "        summarized_history = \"Вот саммаризированный предыдущий диалог с пользователем: \" + \\\n",
        "                              summarize_questions([q + ' ' + (a if a else '') for q, a, *_ in question_history])\n",
        "                              # Используем *_ для распаковки дополнительных элементов (стоимость) и игнорирования их\n",
        "\n",
        "    topic = summarized_history + \" Актуальный вопрос пользователя: \" + user_question\n",
        "\n",
        "    # Получаем ответ и стоимость\n",
        "    answer, cost = answer_index(system, topic, db)\n",
        "\n",
        "    question_history.append((user_question, answer if answer else '', cost))\n",
        "\n",
        "    # Выводим саммаризированный текст, который видит модель\n",
        "    if summarized_history:\n",
        "        print('****************************')\n",
        "        print(summarized_history)\n",
        "        print('****************************')\n",
        "\n",
        "    print(f\"Стоимость текущего вопроса и ответа: ${cost:.4f}\")\n",
        "\n",
        "    return answer, cost\n",
        "\n"
      ],
      "metadata": {
        "id": "BGoncW19y0iE"
      },
      "execution_count": 23,
      "outputs": []
    },
    {
      "cell_type": "code",
      "source": [
        "def run_dialog(system_doc_url, knowledge_base_url):\n",
        "    \"\"\"\n",
        "    Функция запускает диалог между пользователем и нейро-консультантом.\n",
        "    \"\"\"\n",
        "    question_history = []\n",
        "    total_cost = 0.0\n",
        "\n",
        "    while True:\n",
        "        user_question = input('Пользователь: ')\n",
        "        if user_question.lower() == 'stop':\n",
        "            break\n",
        "        answer, cost = answer_user_question_dialog(system_doc_url, knowledge_base_url, user_question, question_history)\n",
        "        total_cost += cost\n",
        "        print('Консультант:', insert_newlines(answer))\n",
        "\n",
        "    print(f\"Общая стоимость диалога: ${total_cost:.2f}\")\n",
        "    return\n",
        "\n"
      ],
      "metadata": {
        "id": "URlUL-jly95i"
      },
      "execution_count": 24,
      "outputs": []
    },
    {
      "cell_type": "code",
      "source": [
        "# Провеяем работу нейро-консультанта на нескольких самостоятельно сгенерированных вопросах.\n",
        "# После запуска, вводите ваши вопросы в консоли. Для завершения сеанса диалога, введите stop.\n",
        "run_dialog(system, db)"
      ],
      "metadata": {
        "colab": {
          "base_uri": "https://localhost:8080/"
        },
        "id": "ios0b8Os8bQr",
        "outputId": "df89f004-76a6-4756-b422-a141c2e03fa8"
      },
      "execution_count": 25,
      "outputs": [
        {
          "output_type": "stream",
          "name": "stdout",
          "text": [
            "Пользователь: Здравствуйте. Я Дмитрий . Интересует курс возраст резца\n",
            "Стоимость текущего вопроса и ответа: $0.0015\n",
            "Консультант:  Здравствуйте, Дмитрий! Курс \"Возраст резца\" пройдет 28-29 сентября 2024 года в Чите. **Преподаватель:** Сошников Алексей Сергеевич. **Место проведения:** Будет объявлено\n",
            " дополнительно. **Стоимость:** - Семинар: 16 500 рублей. - Семинар + мастер-класс: 42 000 рублей (при внесении аванса 10 000 рублей до 28 августа, стоимость составит 40\n",
            " 000 рублей). Дополнительно можно получить Свидетельство НМО на 36 баллов за 3 000 рублей. **Программа курса включает:** - Научитесь видеть и воспроизводить зубы разных\n",
            " возрастных групп композитом в прямой технике. - Практика реставрации резца в максимальной анатомии для различных возрастных групп. - Обсуждение частых проблем и вопросов\n",
            " при реставрации. **Ссылка на программу курса:** [Программа курса \"Возраст\n",
            " резца\"](https://profistomat.ru/wp-content/uploads/2024/04/Programma-Soshnikov-VOZRAST-REZTSA-28-29-sentyabrya-CHIta.pdf) **Ссылка на страницу курса:** [Курс \"Возраст\n",
            " резца\"](https://profistomat.ru/lecturers/soshnikov-aleksej-sergeevich/vozrast-reztsa/) Если у вас есть дополнительные вопросы или вы хотите записаться на курс, дайте\n",
            " знать!\n",
            "Пользователь: Скажите, а что входит в лекционную часть курса?\n",
            "****************************\n",
            "Вот саммаризированный предыдущий диалог с пользователем: Дмитрий интересуется курсом \"Возраст резца\", который пройдет 28-29 сентября 2024 года в Чите. Преподаватель - Алексей Сергеевич Сошников. Стоимость семинара составляет 16 500 рублей, а семинара с мастер-классом - 42 000 рублей (при авансе 10 000 рублей до 28 августа - 40 000 рублей). Также доступно Свидетельство НМО на 36 баллов за 3 000 рублей. Программа курса включает практику реставрации резца для различных возрастных групп и обсуждение частых проблем. Пользователь получил ссылки на программу и страницу курса. Консультант предложил помощь в случае дополнительных вопросов или записи на курс.\n",
            "****************************\n",
            "Стоимость текущего вопроса и ответа: $0.0017\n",
            "Консультант:  В лекционную часть курса \"Возраст резца\" входят следующие темы: - Композит. Области применения - Способы определения оттенка композита. Как правильно - Варианты\n",
            " изготовления силиконового шаблона. Видео - Особенности изоляции во фронтальном участке. Основы ежедневной изоляции. Видео - Подготовка полости. Адгезивный протокол.\n",
            " Видео - Способы создания контактного пункта в передних зубах - Особенности модифицированной современной техники стратификации по Ванини - Отличительные особенности зубов\n",
            " у пациентов разного возраста. Какие этапы проходит каждый зуб со временем Если вам нужна дополнительная информация или вы хотите записаться на курс, пожалуйста, дайте\n",
            " знать!\n",
            "Пользователь: Что входит в практическую часть?\n",
            "****************************\n",
            "Вот саммаризированный предыдущий диалог с пользователем: Дмитрий интересуется курсом \"Возраст резца\", который пройдет 28-29 сентября 2024 года в Чите. Преподавателем будет Алексей Сергеевич Сошников. Стоимость семинара составляет 16 500 рублей, а семинара с мастер-классом — 42 000 рублей (при авансе 10 000 рублей до 28 августа — 40 000 рублей). Также можно получить Свидетельство НМО на 36 баллов за 3 000 рублей.\n",
            "\n",
            "Программа курса включает практические занятия по реставрации резцов для различных возрастных групп и обсуждение частых проблем. Лекционная часть охватывает темы, такие как применение композита, определение оттенка, изготовление силиконового шаблона, изоляция, подготовка полости и особенности зубов у пациентов разного возраста. \n",
            "\n",
            "Консультант предложил Дмитрию задать дополнительные вопросы или записаться на курс.\n",
            "****************************\n",
            "Стоимость текущего вопроса и ответа: $0.0017\n",
            "Консультант:  В практическую часть курса \"Возраст резца\" входят следующие занятия: - Каждый участник выполняет пошаговый протокол реставрации центрального резца разных возрастных\n",
            " групп. Целых ТРИ реставрации одного зуба, в зависимости от возраста пациента. - Моделирование внутренних и внешних структур зуба (мамелоны, эффект Гало, трещины, пятна,\n",
            " разная яркость и степень прозрачности эмали, текстура). - Три разновидности полировки поверхности. Также участники смогут освежить свои представления о строении зубов\n",
            " разного возраста на примерах фотографий натуральных резцов и разницы в реставрации дефектов различной степени поражения. Если у вас есть дополнительные вопросы или вы\n",
            " хотите записаться на курс, вы можете сделать это по следующей ссылке: [записаться на\n",
            " курс](https://profistomat.ru/lecturers/soshnikov-aleksej-sergeevich/vozrast-reztsa/).\n",
            "Пользователь: Спасибо. А какие еще курсы я могу у вас пройти?\n",
            "****************************\n",
            "Вот саммаризированный предыдущий диалог с пользователем: Дмитрий интересуется курсом \"Возраст резца\", который пройдет 28-29 сентября 2024 года в Чите. Преподаватель - Алексей Сергеевич Сошников. Стоимость семинара составляет 16 500 рублей, а семинара с мастер-классом - 42 000 рублей (со скидкой при авансе). Также доступно Свидетельство НМО на 36 баллов за 3 000 рублей.\n",
            "\n",
            "Курс включает лекции по композитам, определению оттенков, изготовлению силиконовых шаблонов и особенностям реставрации зубов разных возрастных групп. Практическая часть включает пошаговую реставрацию центрального резца, моделирование структур зуба и полировку поверхности.\n",
            "\n",
            "Дмитрий может записаться на курс по предоставленной ссылке и задать дополнительные вопросы.\n",
            "****************************\n",
            "Стоимость текущего вопроса и ответа: $0.0019\n",
            "Консультант:  В нашем учебном центре ООО «ПРОФЕССИОНАЛ» доступны следующие курсы повышения квалификации для врачей-стоматологов: 1. **Мастер-класс по реставрации жевательной группы\n",
            " зубов** - **Преподаватель:** Иван Рузин - **Дата:** 7 сентября 2024 года - **Город:** Мурманск - **Стоимость:** 25 000 руб. (при внесении аванса 10 000 руб до 8 августа,\n",
            " стоимость 22 500 руб) - **Дополнительно:** Удостоверение о повышении квалификации государственного образца, НМО 36 баллов (стоимость 3 000 руб). - **Программа:**\n",
            " Основные аспекты деликатного препарирования, адгезия, морфология дистальной группы зубов, методики моделирования и полировка реставрации. - **Ссылка на курс:**\n",
            " [Мастер-класс по реставрации жевательной группы зубов](https://profistomat.ru/lecturers/ruzin-ivan/master-klass-po-restavratsii-zhevatelnoj-gruppy-zubov-8/) - **Ссылка\n",
            " на программу:** [Программа мастер-класса](https://profistomat.ru/wp-content/uploads/2024/04/Programma-7-8-sentyabrya-2024-Murmansk-Ruzin.pdf) 2. **Мастер-класс по\n",
            " реставрации передней группы зубов** - **Преподаватель:** Иван Рузин - **Дата:** 8 сентября 2024 года - **Город:** Мурманск - **Стоимость:** 25 000 руб. (при внесении\n",
            " аванса 10 000 руб до 8 августа, стоимость 22 500 руб) - **Дополнительно:** Удостоверение о повышении квалификации государственного образца, НМО 36 баллов (стоимость 3\n",
            " 000 руб). - **Программа:** Морфология фронтальной группы зубов, послойный принцип построения, коррекция реставрации и полировка композитного материала. - **Ссылка на\n",
            " курс:** [Мастер-класс по реставрации передней группы зубов](https://profistomat.ru/lecturers/ruzin-ivan/master-klass-po-restavratsii-perednej-gruppy-zubov-8/) - **Ссылка\n",
            " на программу:** [Программа мастер-класса](https://profistomat.ru/wp-content/uploads/2024/04/Programma-7-8-sentyabrya-2024-Murmansk-Ruzin.pdf) 3. **Мастер-класс по\n",
            " реставрации передней группы зубов** - **Преподаватель:** Иван Рузин - **Дата:** 17 ноября 2024 года - **Город:** Уфа - **Стоимость:** 25 000 руб. (при внесении аванса 10\n",
            " 000 руб до 30 октября, стоимость 22 500 руб) - **Дополнительно:** Удостоверение о повышении квалификации государственного образца, НМО 36 баллов (стоимость 3 000 руб). -\n",
            " **Программа:** Аналогична предыдущему мастер-классу по реставрации передней группы зубов. - **Ссылка на курс:** [Мастер-класс по реставрации передней группы\n",
            " зубов](https://profistomat.ru/lecturers/ruzin-ivan/master-klass-po-restavratsii-perednej-gruppy-zubov-9/) Если вас интересует какой-либо из этих курсов, вы можете\n",
            " записаться на них по предоставленным ссылкам. Если у вас есть дополнительные вопросы, не стесняйтесь задавать!\n",
            "Пользователь: Какая практическая часть у курса Мастер-класс по реставрации жевательной группы  зубов?\n",
            "****************************\n",
            "Вот саммаризированный предыдущий диалог с пользователем: Дмитрий интересуется курсом \"Возраст резца\", который пройдет 28-29 сентября 2024 года в Чите. Преподаватель - Алексей Сергеевич Сошников. Стоимость семинара составляет 16 500 рублей, а семинара с мастер-классом - 42 000 рублей (со скидкой при авансе). Курс включает лекции и практические занятия по реставрации резцов разных возрастных групп, а также возможность получения Свидетельства НМО.\n",
            "\n",
            "Дмитрий также спрашивает о содержании лекционной и практической частей курса. Лекционная часть охватывает темы, такие как композит, способы определения оттенка, особенности изоляции и адгезивный протокол. Практическая часть включает пошаговую реставрацию центрального резца и моделирование структур зуба.\n",
            "\n",
            "Консультант предлагает Дмитрию ознакомиться с другими курсами, доступными в учебном центре, включая мастер-классы по реставрации жевательной и передней группы зубов, с указанием преподавателей, дат, стоимости и ссылок на программы.\n",
            "****************************\n",
            "Стоимость текущего вопроса и ответа: $0.0017\n",
            "Консультант:  Практическая часть курса \"Мастер-класс по реставрации жевательной группы зубов\" под руководством Ивана Рузина, который пройдет 7 сентября 2024 года в Мурманске, включает\n",
            " следующие элементы: 1. Демонстрация реставрации зуба 1.6 и 3.6. 2. Контролируемая отработка навыков на фантомных моделях. Каждое рабочее место каждого доктора будет\n",
            " оснащено моделями, инструментами, красками, кистями (индивидуальный набор Ивана Рузина), композитными материалами, микромотором с повышающим и угловым наконечником,\n",
            " инструментами и светом. Дополнительно, во время мастер-класса работа лектора под микроскопом будет транслироваться на экран с подробными объяснениями всех этапов. Для\n",
            " получения более подробной информации о курсе, вы можете ознакомиться с программой по следующей ссылке: [Программа мастер-класса по реставрации жевательной группы\n",
            " зубов](https://profistomat.ru/lecturers/ruzin-ivan/master-klass-po-restavratsii-zhevatelnoj-gruppy-zubov-8/).\n",
            "Пользователь: Какая практическая часть у курса Мастер-класс по реставрации жевательной группы  зубов?\n",
            "****************************\n",
            "Вот саммаризированный предыдущий диалог с пользователем: Дмитрий интересуется курсом \"Возраст резца\", который пройдет 28-29 сентября 2024 года в Чите. Преподаватель - Алексей Сергеевич Сошников. Стоимость семинара составляет 16 500 рублей, а семинара с мастер-классом - 42 000 рублей (со скидкой при авансе). Курс включает лекции и практические занятия по реставрации резцов разных возрастных групп, а также возможность получения Свидетельства НМО.\n",
            "\n",
            "Дмитрий спрашивает о содержании лекционной и практической частей курса. Лекционная часть охватывает темы, такие как композит, способы определения оттенка, особенности изоляции и адгезивный протокол. Практическая часть включает пошаговую реставрацию центрального резца, моделирование структур зуба и полировку.\n",
            "\n",
            "Консультант также предлагает Дмитрию другие курсы, такие как мастер-классы по реставрации жевательной и передней группы зубов, с указанием преподавателей, дат, стоимости и ссылок на программы. Дмитрий интересуется практической частью одного из мастер-классов, на что консультант предоставляет информацию о демонстрации реставрации и отработке навыков на фантомных моделях.\n",
            "****************************\n",
            "Стоимость текущего вопроса и ответа: $0.0017\n",
            "Консультант:  Практическая часть курса \"Мастер-класс по реставрации жевательной группы зубов\", который пройдет 7 сентября 2024 года в Мурманске под руководством Ивана Рузина, включает\n",
            " следующие элементы: 1. Демонстрация реставрации зуба 1.6 и 3.6. 2. Контролируемая отработка навыков на фантомных моделях. Каждое рабочее место участника будет оснащено\n",
            " моделями, инструментами, красками, кистями (индивидуальный набор Ивана Рузина), композитными материалами, микромотором с повышающим и угловым наконечником, а также\n",
            " инструментами и светом. Дополнительно, во время мастер-класса работа лектора под микроскопом будет транслироваться на экран с подробными объяснениями всех этапов. Если\n",
            " вас интересует более подробная информация о курсе, вы можете ознакомиться с программой по следующей ссылке: [Программа\n",
            " мастер-класса](https://profistomat.ru/wp-content/uploads/2024/04/Programma-7-8-sentyabrya-2024-Murmansk-Ruzin.pdf). Для записи на курс, пожалуйста, посетите страницу\n",
            " курса: [Записаться на курс](https://profistomat.ru/lecturers/ruzin-ivan/master-klass-po-restavratsii-zhevatelnoj-gruppy-zubov-8/).\n",
            "Пользователь: Спасибо. Как я могу записаться на курс?\n",
            "****************************\n",
            "Вот саммаризированный предыдущий диалог с пользователем: Дмитрий интересуется курсом \"Возраст резца\", который пройдет 28-29 сентября 2024 года в Чите. Преподаватель - Алексей Сергеевич Сошников. Стоимость семинара составляет 16 500 рублей, а семинара с мастер-классом - 42 000 рублей (со скидкой при авансе). Курс включает лекции и практические занятия по реставрации резцов разных возрастных групп. \n",
            "\n",
            "Дмитрий также спрашивает о лекционной и практической частях курса. Лекционная часть охватывает темы, такие как композит, способы определения оттенка, особенности изоляции и адгезивный протокол. Практическая часть включает пошаговую реставрацию центрального резца и моделирование структур зуба.\n",
            "\n",
            "Консультант предлагает Дмитрию ознакомиться с другими курсами, такими как мастер-классы по реставрации жевательной и передней группы зубов, проводимые Иваном Рузиным. Каждый курс имеет свою программу, стоимость и даты проведения. \n",
            "\n",
            "Если Дмитрий заинтересован в записи на курс или имеет дополнительные вопросы, ему предложено обратиться по предоставленным ссылкам.\n",
            "****************************\n",
            "Стоимость текущего вопроса и ответа: $0.0016\n",
            "Консультант:  Чтобы записаться на курс \"Возраст резца\", который пройдет 28-29 сентября 2024 года в Чите, вам нужно перейти по следующей ссылке: [записаться на\n",
            " курс](https://profistomat.ru/lecturers/soshnikov-aleksej-sergeevich/vozrast-reztsa/). Если у вас есть дополнительные вопросы или нужна помощь, не стесняйтесь обращаться!\n",
            "Пользователь: stop\n",
            "Общая стоимость диалога: $0.01\n"
          ]
        }
      ]
    }
  ]
}