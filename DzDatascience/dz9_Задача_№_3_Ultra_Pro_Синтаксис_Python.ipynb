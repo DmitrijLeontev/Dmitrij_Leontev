{
  "nbformat": 4,
  "nbformat_minor": 0,
  "metadata": {
    "colab": {
      "provenance": [],
      "authorship_tag": "ABX9TyO8/Va1nXLmDx2shj/lyu1c",
      "include_colab_link": true
    },
    "kernelspec": {
      "name": "python3",
      "display_name": "Python 3"
    },
    "language_info": {
      "name": "python"
    }
  },
  "cells": [
    {
      "cell_type": "markdown",
      "metadata": {
        "id": "view-in-github",
        "colab_type": "text"
      },
      "source": [
        "<a href=\"https://colab.research.google.com/github/DmitrijLeontev/Dmitrij_Leontev/blob/main/DzDatascience/dz9_%D0%97%D0%B0%D0%B4%D0%B0%D1%87%D0%B0_%E2%84%96_3_Ultra_Pro_%D0%A1%D0%B8%D0%BD%D1%82%D0%B0%D0%BA%D1%81%D0%B8%D1%81_Python.ipynb\" target=\"_parent\"><img src=\"https://colab.research.google.com/assets/colab-badge.svg\" alt=\"Open In Colab\"/></a>"
      ]
    },
    {
      "cell_type": "markdown",
      "source": [
        "Задача 3\n",
        "\n",
        "Попробуйте написать простую карточную игру. Играют два игрока - player_1 и player_2. У каждого из них по 6 карт.\n",
        "\n",
        "player_1 = [6, 10, 7, 8, 9, 6]\n",
        "\n",
        "player_2 = [10, 7, 9, 6, 10, 7]\n",
        "\n",
        "Необходимо, используя операторы for, if и elif, сыграть одну партию. Игроки ходят по очереди, и тот, у кого достоинство карты больше, забирает себе карту противника. Сыгранные карты больше не используются. Достоинства карт в списке берутся по порядку, например:\n",
        "\n",
        "первый ход: (6, 10);\n",
        "\n",
        "второй ход: (10, 7).\n",
        "\n",
        "Побеждает тот, у кого по окончании игры на руках меньшая сумма достоинств карт.\n",
        "\n",
        "Кто победил, player_1 или player_2? Выведите ход игры, пожалуйста."
      ],
      "metadata": {
        "id": "iCbiEZFz0Q2K"
      }
    },
    {
      "cell_type": "code",
      "execution_count": null,
      "metadata": {
        "colab": {
          "base_uri": "https://localhost:8080/"
        },
        "id": "sU0hwzLTzsFA",
        "outputId": "0eecc5cf-17aa-479f-9ae9-ee19a35f5b17"
      },
      "outputs": [
        {
          "output_type": "stream",
          "name": "stdout",
          "text": [
            "Ход 1, карты: (6, 10), player_1: 0, player_2: 16\n",
            "Ход 2, карты: (10, 7), player_1: 17, player_2: 16\n",
            "Ход 3, карты: (7, 9), player_1: 17, player_2: 32\n",
            "Ход 4, карты: (8, 6), player_1: 31, player_2: 32\n",
            "Ход 5, карты: (9, 10), player_1: 31, player_2: 51\n",
            "Ход 6, карты: (6, 7), player_1: 31, player_2: 64\n",
            "\n",
            "Победитель: player_1 !!!\n"
          ]
        }
      ],
      "source": [
        "player_1 = [6, 10, 7, 8, 9, 6]            # Карты первого игрока\n",
        "player_2 = [10, 7, 9, 6, 10, 7]           # Карты второго игрока\n",
        "\n",
        "player_1_cards = 0                        # Сумма достоинств карт не в игре у первого игрока\n",
        "player_2_cards = 0                        # Сумма достоинств карт не в игре у второго игрока\n",
        "\n",
        "for i in range(len(player_1)):            # Для всех карт первого игрока\n",
        "    turn_sum = player_1[i] + player_2[i]  # Сумма хода\n",
        "    # Ход: у кого достоинство карты больше, тому добавление к сумме карт не в игре\n",
        "    if player_1[i] > player_2[i]:\n",
        "        player_1_cards += turn_sum\n",
        "    elif player_2[i] > player_1[i]:\n",
        "        player_2_cards += turn_sum\n",
        "\n",
        "    print(f'Ход {i+1}, карты: {(player_1[i], player_2[i])}, player_1: {player_1_cards}, player_2: {player_2_cards}')\n",
        "\n",
        "# Вывод сообщения о победе\n",
        "print()\n",
        "if player_1_cards < player_2_cards:\n",
        "    print('Победитель: player_1 !!!')\n",
        "if player_2_cards < player_1_cards:\n",
        "    print('Победитель: player_2 !!!')\n",
        "# При равенстве сумм\n",
        "elif player_1_cards == player_2_cards:\n",
        "    print('Ничья')"
      ]
    }
  ]
}