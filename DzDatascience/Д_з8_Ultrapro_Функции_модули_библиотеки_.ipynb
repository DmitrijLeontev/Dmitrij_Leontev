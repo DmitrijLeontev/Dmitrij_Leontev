{
  "nbformat": 4,
  "nbformat_minor": 0,
  "metadata": {
    "colab": {
      "provenance": [],
      "authorship_tag": "ABX9TyMWx0LY61vyWfNN37qt18kb",
      "include_colab_link": true
    },
    "kernelspec": {
      "name": "python3",
      "display_name": "Python 3"
    },
    "language_info": {
      "name": "python"
    }
  },
  "cells": [
    {
      "cell_type": "markdown",
      "metadata": {
        "id": "view-in-github",
        "colab_type": "text"
      },
      "source": [
        "<a href=\"https://colab.research.google.com/github/DmitrijLeontev/Dmitrij_Leontev/blob/main/DzDatascience/%D0%94_%D0%B78_Ultrapro_%D0%A4%D1%83%D0%BD%D0%BA%D1%86%D0%B8%D0%B8_%D0%BC%D0%BE%D0%B4%D1%83%D0%BB%D0%B8_%D0%B1%D0%B8%D0%B1%D0%BB%D0%B8%D0%BE%D1%82%D0%B5%D0%BA%D0%B8_.ipynb\" target=\"_parent\"><img src=\"https://colab.research.google.com/assets/colab-badge.svg\" alt=\"Open In Colab\"/></a>"
      ]
    },
    {
      "cell_type": "code",
      "source": [
        "help(str.replace)"
      ],
      "metadata": {
        "colab": {
          "base_uri": "https://localhost:8080/"
        },
        "id": "At97d4nWgJGv",
        "outputId": "39e26f89-a66b-42e4-fb68-57c41a5b9074"
      },
      "execution_count": null,
      "outputs": [
        {
          "output_type": "stream",
          "name": "stdout",
          "text": [
            "Help on method_descriptor:\n",
            "\n",
            "replace(self, old, new, count=-1, /)\n",
            "    Return a copy with all occurrences of substring old replaced by new.\n",
            "    \n",
            "      count\n",
            "        Maximum number of occurrences to replace.\n",
            "        -1 (the default value) means replace all occurrences.\n",
            "    \n",
            "    If the optional argument count is given, only the first count occurrences are\n",
            "    replaced.\n",
            "\n"
          ]
        }
      ]
    },
    {
      "cell_type": "code",
      "source": [
        "help(str.split)"
      ],
      "metadata": {
        "colab": {
          "base_uri": "https://localhost:8080/"
        },
        "id": "TT_WgYEjhpvh",
        "outputId": "373fc3f6-5c47-4323-8d67-09e74e8ee874"
      },
      "execution_count": null,
      "outputs": [
        {
          "output_type": "stream",
          "name": "stdout",
          "text": [
            "Help on method_descriptor:\n",
            "\n",
            "split(self, /, sep=None, maxsplit=-1)\n",
            "    Return a list of the words in the string, using sep as the delimiter string.\n",
            "    \n",
            "    sep\n",
            "      The delimiter according which to split the string.\n",
            "      None (the default value) means split according to any whitespace,\n",
            "      and discard empty strings from the result.\n",
            "    maxsplit\n",
            "      Maximum number of splits to do.\n",
            "      -1 (the default value) means no limit.\n",
            "\n"
          ]
        }
      ]
    },
    {
      "cell_type": "code",
      "source": [
        "text_pro = '«Компьютеры становятся все умнее. Ученые утверждают, что скоро они смогут разговаривать с нами. (Говоря «они», я имею в виду компьютеры; я сомневаюсь, что ученые когда-либо смогут разговаривать с нами.)»'"
      ],
      "metadata": {
        "id": "Z4M5fr2FSYtG"
      },
      "execution_count": null,
      "outputs": []
    },
    {
      "cell_type": "code",
      "source": [
        "# Первый вариант\n",
        "def text_to_list(text):\n",
        "\n",
        "  # Замена символов на пустую строку\n",
        "  text = text.replace('«', '')\n",
        "  text = text.replace('.', '')\n",
        "  text = text.replace(',', '')\n",
        "  text = text.replace('(', '')\n",
        "  text = text.replace('»', '')\n",
        "  text = text.replace(';', '')\n",
        "  text = text.replace(')', '')\n",
        "\n",
        "  # Разделение текста на элементы на позициях пробела\n",
        "  text = text.split()\n",
        "\n",
        "  # Возврат списка\n",
        "  return text"
      ],
      "metadata": {
        "id": "gCpC8CkQiWR8"
      },
      "execution_count": null,
      "outputs": []
    },
    {
      "cell_type": "code",
      "source": [
        "# Смотрим результат\n",
        "text_to_list(text_pro)"
      ],
      "metadata": {
        "colab": {
          "base_uri": "https://localhost:8080/"
        },
        "id": "p4WNl0sS-geZ",
        "outputId": "e6e42272-1b8b-4220-9bcc-7a7efe17364d"
      },
      "execution_count": null,
      "outputs": [
        {
          "output_type": "execute_result",
          "data": {
            "text/plain": [
              "['Компьютеры',\n",
              " 'становятся',\n",
              " 'все',\n",
              " 'умнее',\n",
              " 'Ученые',\n",
              " 'утверждают',\n",
              " 'что',\n",
              " 'скоро',\n",
              " 'они',\n",
              " 'смогут',\n",
              " 'разговаривать',\n",
              " 'с',\n",
              " 'нами',\n",
              " 'Говоря',\n",
              " 'они',\n",
              " 'я',\n",
              " 'имею',\n",
              " 'в',\n",
              " 'виду',\n",
              " 'компьютеры',\n",
              " 'я',\n",
              " 'сомневаюсь',\n",
              " 'что',\n",
              " 'ученые',\n",
              " 'когда-либо',\n",
              " 'смогут',\n",
              " 'разговаривать',\n",
              " 'с',\n",
              " 'нами']"
            ]
          },
          "metadata": {},
          "execution_count": 30
        }
      ]
    },
    {
      "cell_type": "code",
      "source": [
        "# Второй вариант\n",
        "def text_to_lst(text):\n",
        "  # Замена знаков препинания и скобок с помощью цикла с пробегом по каждому символу\n",
        "  for с in '«.,(»;)':\n",
        "    text = text.replace(с, '')\n",
        "  text = text.split()\n",
        "\n",
        "  return text"
      ],
      "metadata": {
        "id": "mk1sHc4Q_j6u"
      },
      "execution_count": null,
      "outputs": []
    },
    {
      "cell_type": "code",
      "source": [
        "text_to_lst(text_pro)"
      ],
      "metadata": {
        "colab": {
          "base_uri": "https://localhost:8080/"
        },
        "id": "kMGYx3JCAcQ1",
        "outputId": "acc5b66e-152f-4827-fce6-6fbc819a1fe4"
      },
      "execution_count": null,
      "outputs": [
        {
          "output_type": "execute_result",
          "data": {
            "text/plain": [
              "['Компьютеры',\n",
              " 'становятся',\n",
              " 'все',\n",
              " 'умнее',\n",
              " 'Ученые',\n",
              " 'утверждают',\n",
              " 'что',\n",
              " 'скоро',\n",
              " 'они',\n",
              " 'смогут',\n",
              " 'разговаривать',\n",
              " 'с',\n",
              " 'нами',\n",
              " 'Говоря',\n",
              " 'они',\n",
              " 'я',\n",
              " 'имею',\n",
              " 'в',\n",
              " 'виду',\n",
              " 'компьютеры',\n",
              " 'я',\n",
              " 'сомневаюсь',\n",
              " 'что',\n",
              " 'ученые',\n",
              " 'когда-либо',\n",
              " 'смогут',\n",
              " 'разговаривать',\n",
              " 'с',\n",
              " 'нами']"
            ]
          },
          "metadata": {},
          "execution_count": 32
        }
      ]
    }
  ]
}