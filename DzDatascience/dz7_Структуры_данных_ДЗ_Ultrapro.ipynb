{
  "nbformat": 4,
  "nbformat_minor": 0,
  "metadata": {
    "colab": {
      "provenance": [],
      "authorship_tag": "ABX9TyMqmCR+4BZpYmeea+Z+FvMl",
      "include_colab_link": true
    },
    "kernelspec": {
      "name": "python3",
      "display_name": "Python 3"
    },
    "language_info": {
      "name": "python"
    }
  },
  "cells": [
    {
      "cell_type": "markdown",
      "metadata": {
        "id": "view-in-github",
        "colab_type": "text"
      },
      "source": [
        "<a href=\"https://colab.research.google.com/github/DmitrijLeontev/Dmitrij_Leontev/blob/main/DzDatascience/dz7_%D0%A1%D1%82%D1%80%D1%83%D0%BA%D1%82%D1%83%D1%80%D1%8B_%D0%B4%D0%B0%D0%BD%D0%BD%D1%8B%D1%85_%D0%94%D0%97_Ultrapro.ipynb\" target=\"_parent\"><img src=\"https://colab.research.google.com/assets/colab-badge.svg\" alt=\"Open In Colab\"/></a>"
      ]
    },
    {
      "cell_type": "code",
      "execution_count": null,
      "metadata": {
        "colab": {
          "base_uri": "https://localhost:8080/"
        },
        "id": "6GEpOu1Q9McO",
        "outputId": "2d5e2345-9741-4e7f-92c7-8d279f97be59"
      },
      "outputs": [
        {
          "name": "stdout",
          "output_type": "stream",
          "text": [
            "Введите число №1: 6\n",
            "Введите число №2: 90\n",
            "Введите число №3: 67\n",
            "Введите число №4: 25\n",
            "Введите число №5: 30\n"
          ]
        },
        {
          "output_type": "execute_result",
          "data": {
            "text/plain": [
              "[6, 90, 67, 25, 30]"
            ]
          },
          "metadata": {},
          "execution_count": 6
        }
      ],
      "source": [
        "# Создаем пустой список для заполнения\n",
        "\n",
        "naturals_list = []\n",
        "\n",
        "# проходим циклом for 5 итераций и запрашиваем у пользователя числа от 0 до 100 и с помощью .append добавляем их в список\n",
        "for i in range(5):\n",
        "  natural = int(input('Введите число №' +  str(i+1) + ': '))\n",
        "  naturals_list.append(natural)\n",
        "\n",
        "# Вывод на экран полученного списка\n",
        "naturals_list"
      ]
    },
    {
      "cell_type": "code",
      "source": [
        "# Отсортируем список\n",
        "naturals_list.sort()\n",
        "naturals_list"
      ],
      "metadata": {
        "colab": {
          "base_uri": "https://localhost:8080/"
        },
        "id": "E1wPHrV6GtWN",
        "outputId": "5fadac03-a734-4394-e821-d193debb600d"
      },
      "execution_count": null,
      "outputs": [
        {
          "output_type": "execute_result",
          "data": {
            "text/plain": [
              "[6, 25, 30, 67, 90]"
            ]
          },
          "metadata": {},
          "execution_count": 7
        }
      ]
    },
    {
      "cell_type": "code",
      "source": [
        "# Если число из списка больше 50, прибавим 100, если меньше 50 , возведем в квадрат на месте\n",
        "for i in range(len(naturals_list)):\n",
        "\n",
        "  if naturals_list[i] > 50:\n",
        "\n",
        "    naturals_list[i] += 100\n",
        "\n",
        "  else:\n",
        "\n",
        "    naturals_list[i] **= 2\n",
        "\n",
        "print(naturals_list)"
      ],
      "metadata": {
        "colab": {
          "base_uri": "https://localhost:8080/"
        },
        "id": "gXyqe90JHQ3L",
        "outputId": "d84a7070-b89a-4d8c-b6aa-50664f596147"
      },
      "execution_count": null,
      "outputs": [
        {
          "output_type": "stream",
          "name": "stdout",
          "text": [
            "[36, 625, 900, 167, 190]\n"
          ]
        }
      ]
    }
  ]
}