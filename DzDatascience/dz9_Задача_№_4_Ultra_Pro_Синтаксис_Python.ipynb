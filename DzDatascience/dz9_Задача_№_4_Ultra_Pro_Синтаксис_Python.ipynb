{
  "nbformat": 4,
  "nbformat_minor": 0,
  "metadata": {
    "colab": {
      "provenance": [],
      "authorship_tag": "ABX9TyP2IFcH3afsukB7Qb9ioQvh",
      "include_colab_link": true
    },
    "kernelspec": {
      "name": "python3",
      "display_name": "Python 3"
    },
    "language_info": {
      "name": "python"
    }
  },
  "cells": [
    {
      "cell_type": "markdown",
      "metadata": {
        "id": "view-in-github",
        "colab_type": "text"
      },
      "source": [
        "<a href=\"https://colab.research.google.com/github/DmitrijLeontev/Dmitrij_Leontev/blob/main/DzDatascience/dz9_%D0%97%D0%B0%D0%B4%D0%B0%D1%87%D0%B0_%E2%84%96_4_Ultra_Pro_%D0%A1%D0%B8%D0%BD%D1%82%D0%B0%D0%BA%D1%81%D0%B8%D1%81_Python.ipynb\" target=\"_parent\"><img src=\"https://colab.research.google.com/assets/colab-badge.svg\" alt=\"Open In Colab\"/></a>"
      ]
    },
    {
      "cell_type": "markdown",
      "source": [
        "# Задача **4**"
      ],
      "metadata": {
        "id": "xHJltcGpmZfI"
      }
    },
    {
      "cell_type": "markdown",
      "source": [
        "Введите три слова через пробел. Преобразуйте их таким образом, чтобы все буквы стали заглавными и между буквами в каждом слове появились дефисы.\n",
        "\n",
        "Например: Вставай на лыжи --> В-С-Т-А-В-А-Й Н-А Л-Ы-Ж-И"
      ],
      "metadata": {
        "id": "9-aJhoTfkbou"
      }
    },
    {
      "cell_type": "code",
      "execution_count": null,
      "metadata": {
        "colab": {
          "base_uri": "https://localhost:8080/"
        },
        "id": "yF9ih0kpjdbL",
        "outputId": "7ab044c6-ad01-4527-8693-e82b638e1402"
      },
      "outputs": [
        {
          "output_type": "stream",
          "name": "stdout",
          "text": [
            "Вставай на лыжи\n",
            "Вставай на лыжи\n"
          ]
        }
      ],
      "source": [
        "v = input() # создаем форму для ввода\n",
        "print(v)"
      ]
    },
    {
      "cell_type": "code",
      "source": [
        "v = v.upper() # переводим в верхний регистр\n",
        "print(v)"
      ],
      "metadata": {
        "colab": {
          "base_uri": "https://localhost:8080/"
        },
        "id": "w257Y53plOqH",
        "outputId": "92be3a8c-ac5f-4ef8-82fa-65507dd91d79"
      },
      "execution_count": null,
      "outputs": [
        {
          "output_type": "stream",
          "name": "stdout",
          "text": [
            "ВСТАВАЙ НА ЛЫЖИ\n"
          ]
        }
      ]
    },
    {
      "cell_type": "code",
      "source": [
        "v = list(v) # переводим в список и тем самым разделяем буквы и пробелы\n",
        "print(v)"
      ],
      "metadata": {
        "colab": {
          "base_uri": "https://localhost:8080/"
        },
        "id": "Kg9r4tugltx5",
        "outputId": "1bf41ec3-bde7-4506-cb91-28b15a5b93fe"
      },
      "execution_count": null,
      "outputs": [
        {
          "output_type": "stream",
          "name": "stdout",
          "text": [
            "['В', 'С', 'Т', 'А', 'В', 'А', 'Й', ' ', 'Н', 'А', ' ', 'Л', 'Ы', 'Ж', 'И']\n"
          ]
        }
      ]
    },
    {
      "cell_type": "code",
      "source": [
        "v = '-'.join(v) # объединим список методом .join() с указанным в условии указателем\n",
        "print(v)"
      ],
      "metadata": {
        "colab": {
          "base_uri": "https://localhost:8080/"
        },
        "id": "-7RN6YrRl2pm",
        "outputId": "fc690bc1-bff6-4c58-87f7-f8b651a9929d"
      },
      "execution_count": null,
      "outputs": [
        {
          "output_type": "stream",
          "name": "stdout",
          "text": [
            "В-С-Т-А-В-А-Й- -Н-А- -Л-Ы-Ж-И\n"
          ]
        }
      ]
    },
    {
      "cell_type": "code",
      "source": [
        "v = v.replace('- -',' ') # заменим на пробел лишние символы\n",
        "print(v)"
      ],
      "metadata": {
        "colab": {
          "base_uri": "https://localhost:8080/"
        },
        "id": "DeDNadiVl_zL",
        "outputId": "0986bb42-cea9-479d-bfae-a3e9bf87305a"
      },
      "execution_count": null,
      "outputs": [
        {
          "output_type": "stream",
          "name": "stdout",
          "text": [
            "В-С-Т-А-В-А-Й Н-А Л-Ы-Ж-И\n"
          ]
        }
      ]
    }
  ]
}