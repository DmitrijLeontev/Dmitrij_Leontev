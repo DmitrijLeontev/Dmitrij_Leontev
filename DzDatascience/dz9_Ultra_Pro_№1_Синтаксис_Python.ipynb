{
  "nbformat": 4,
  "nbformat_minor": 0,
  "metadata": {
    "colab": {
      "provenance": [],
      "authorship_tag": "ABX9TyOImsXqnQlqKg0JSLtVNdOK",
      "include_colab_link": true
    },
    "kernelspec": {
      "name": "python3",
      "display_name": "Python 3"
    },
    "language_info": {
      "name": "python"
    }
  },
  "cells": [
    {
      "cell_type": "markdown",
      "metadata": {
        "id": "view-in-github",
        "colab_type": "text"
      },
      "source": [
        "<a href=\"https://colab.research.google.com/github/DmitrijLeontev/Dmitrij_Leontev/blob/main/DzDatascience/dz9_Ultra_Pro_%E2%84%961_%D0%A1%D0%B8%D0%BD%D1%82%D0%B0%D0%BA%D1%81%D0%B8%D1%81_Python.ipynb\" target=\"_parent\"><img src=\"https://colab.research.google.com/assets/colab-badge.svg\" alt=\"Open In Colab\"/></a>"
      ]
    },
    {
      "cell_type": "markdown",
      "source": [
        "Задача 1\n",
        "\n",
        "Вы отправляетесь в отпуск в Америку. У себя на родине вы привыкли все считать в рублях, километрах и литрах.\n",
        "\n",
        "Приехав в Америку, вы запланировали недельную поездку от Нью-Йорка до Лос-Анджелеса на машине. Весь день вы будете ехать, а ночью останавливаться в отеле.\n",
        "\n",
        "Исходые данные:\n",
        "\n",
        "Расстояние: 2790 миль;\n",
        "\n",
        "Стоимость аренды авто на неделю: 820 долларов;\n",
        "\n",
        "Стоимость одной ночи в отеле (всего 6 ночей): 110 долларов;\n",
        "\n",
        "Расход бензина: 15.8 миль на один галлон;\n",
        "\n",
        "Стоимость одного галлона 3.89 доллара;\n",
        "\n",
        "Курс доллара 77.4 руб.\n",
        "\n",
        "Необходимо вычислить в рублях, сколько потребуется денег, чтобы проехать этот путь на машине.\n",
        "\n",
        "При выводе на экран все значения округлите до двух знаков после запятой."
      ],
      "metadata": {
        "id": "HQNJS8cpjV73"
      }
    },
    {
      "cell_type": "code",
      "execution_count": null,
      "metadata": {
        "colab": {
          "base_uri": "https://localhost:8080/"
        },
        "id": "PA9DP9_Wix23",
        "outputId": "1ae3b444-4224-436e-ac75-61872c0924dd"
      },
      "outputs": [
        {
          "output_type": "stream",
          "name": "stdout",
          "text": [
            "176.58 галлонов на всю дорогу\n",
            "53166.45 рублей на бензин\n",
            "63468.0 рублей за аренду авто\n",
            "51084.0 рублей за отель\n",
            "На всю поездку необходимо 167718.45 руб.\n"
          ]
        }
      ],
      "source": [
        "distance = 2790                           # Дистанция\n",
        "car_rent = 820                            # Тариф за машину\n",
        "hotel = 6 * 110                           # Стоимость проживания\n",
        "gas_mileage = 15.8                        # Расход бензина\n",
        "gas_price = 3.89                          # Стоимость одного галлона\n",
        "dollar_rate = 77.4                        # Курс доллара\n",
        "\n",
        "# Расчет и вывод расхода бензина на всю дорогу\n",
        "gallon_for_road = distance / gas_mileage\n",
        "print(round(gallon_for_road, 2), 'галлонов на всю дорогу')\n",
        "\n",
        "# Расчет и вывод стоимости бензина\n",
        "gas_rub = gallon_for_road * gas_price * dollar_rate\n",
        "print(round(gas_rub, 2), 'рублей на бензин')\n",
        "\n",
        "# Расчет и вывод аренды авто\n",
        "car_rent_rub = car_rent * dollar_rate\n",
        "print(round(car_rent_rub, 2), 'рублей за аренду авто')\n",
        "\n",
        "# Расчет и вывод стоимости отеля\n",
        "hotel_rub = hotel * dollar_rate\n",
        "print(round(hotel_rub, 2), 'рублей за отель')\n",
        "\n",
        "# Расчет и вывод общей стоимости поездки\n",
        "trip_summary = gas_rub + car_rent_rub + hotel_rub\n",
        "print('На всю поездку необходимо', round(trip_summary, 2), 'руб.')"
      ]
    }
  ]
}