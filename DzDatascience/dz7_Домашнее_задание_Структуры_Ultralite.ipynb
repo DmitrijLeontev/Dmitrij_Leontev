{
  "nbformat": 4,
  "nbformat_minor": 0,
  "metadata": {
    "colab": {
      "provenance": [],
      "authorship_tag": "ABX9TyNNVjcMTh3mVZWvAHJJhNW+",
      "include_colab_link": true
    },
    "kernelspec": {
      "name": "python3",
      "display_name": "Python 3"
    },
    "language_info": {
      "name": "python"
    }
  },
  "cells": [
    {
      "cell_type": "markdown",
      "metadata": {
        "id": "view-in-github",
        "colab_type": "text"
      },
      "source": [
        "<a href=\"https://colab.research.google.com/github/DmitrijLeontev/Dmitrij_Leontev/blob/main/DzDatascience/dz7_%D0%94%D0%BE%D0%BC%D0%B0%D1%88%D0%BD%D0%B5%D0%B5_%D0%B7%D0%B0%D0%B4%D0%B0%D0%BD%D0%B8%D0%B5_%D0%A1%D1%82%D1%80%D1%83%D0%BA%D1%82%D1%83%D1%80%D1%8B_Ultralite.ipynb\" target=\"_parent\"><img src=\"https://colab.research.google.com/assets/colab-badge.svg\" alt=\"Open In Colab\"/></a>"
      ]
    },
    {
      "cell_type": "code",
      "execution_count": 1,
      "metadata": {
        "colab": {
          "base_uri": "https://localhost:8080/"
        },
        "id": "dlZ6IC9yE9hW",
        "outputId": "e564d0b0-3781-46e2-daa6-eef89c386b19"
      },
      "outputs": [
        {
          "output_type": "stream",
          "name": "stdout",
          "text": [
            "{'Леонард': 'leo@hoffsted.com', 'Шелдон': 'shelly@moonpie.org', 'Пенни': 'penni@blondie.org', 'Раджеш': 'radzh@indmail.com'}\n"
          ]
        }
      ],
      "source": [
        "# Словарь — адресная книга. {имя: адрес}\n",
        "\n",
        "contacts = {'Леонард': 'leo@hoffsted.com',\n",
        "           'Шелдон': 'shelly@moonpie.org',\n",
        "           'Пенни': 'penni@blondie.org',\n",
        "           'Раджеш': 'radzh@indmail.com'\n",
        "           }\n",
        "print(contacts)"
      ]
    },
    {
      "cell_type": "code",
      "source": [
        "# Запись в словарь новой пары 'Говард': 'gov@gmail.com' по новому ключу\n",
        "contacts['Говард'] = 'gov@gmail.com'\n",
        "print(contacts)"
      ],
      "metadata": {
        "colab": {
          "base_uri": "https://localhost:8080/"
        },
        "id": "2-6EEOe9H7IM",
        "outputId": "56857e2c-8f85-42c5-de75-6b4bc358efdc"
      },
      "execution_count": null,
      "outputs": [
        {
          "output_type": "stream",
          "name": "stdout",
          "text": [
            "{'Леонард': 'leo@hoffsted.com', 'Шелдон': 'shelly@moonpie.org', 'Пенни': 'penni@blondie.org', 'Раджеш': 'radzh@indmail.com', 'Говард': 'gov@gmail.com'}\n"
          ]
        }
      ]
    },
    {
      "cell_type": "code",
      "source": [
        "#Запись в словарь новой пары 'Говард': 'gov@gmail.com' методом словарей .update\n",
        "contacts.update({'Говард': 'gov@gmail.com'})\n",
        "print(contacts)"
      ],
      "metadata": {
        "colab": {
          "base_uri": "https://localhost:8080/"
        },
        "id": "BDniZsl1KOYL",
        "outputId": "7dba6df4-e034-482c-aacd-89c2ff7c1936"
      },
      "execution_count": null,
      "outputs": [
        {
          "output_type": "stream",
          "name": "stdout",
          "text": [
            "{'Леонард': 'leo@hoffsted.com', 'Шелдон': 'shelly@moonpie.org', 'Пенни': 'penni@blondie.org', 'Раджеш': 'radzh@indmail.com', 'Говард': 'gov@gmail.com'}\n"
          ]
        }
      ]
    }
  ]
}