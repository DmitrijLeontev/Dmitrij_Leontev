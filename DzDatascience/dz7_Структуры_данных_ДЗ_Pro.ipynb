{
  "nbformat": 4,
  "nbformat_minor": 0,
  "metadata": {
    "colab": {
      "provenance": [],
      "authorship_tag": "ABX9TyNRyG9JzNrDCTJErXn09BrL",
      "include_colab_link": true
    },
    "kernelspec": {
      "name": "python3",
      "display_name": "Python 3"
    },
    "language_info": {
      "name": "python"
    }
  },
  "cells": [
    {
      "cell_type": "markdown",
      "metadata": {
        "id": "view-in-github",
        "colab_type": "text"
      },
      "source": [
        "<a href=\"https://colab.research.google.com/github/DmitrijLeontev/Dmitrij_Leontev/blob/main/DzDatascience/dz7_%D0%A1%D1%82%D1%80%D1%83%D0%BA%D1%82%D1%83%D1%80%D1%8B_%D0%B4%D0%B0%D0%BD%D0%BD%D1%8B%D1%85_%D0%94%D0%97_Pro.ipynb\" target=\"_parent\"><img src=\"https://colab.research.google.com/assets/colab-badge.svg\" alt=\"Open In Colab\"/></a>"
      ]
    },
    {
      "cell_type": "code",
      "execution_count": null,
      "metadata": {
        "colab": {
          "base_uri": "https://localhost:8080/"
        },
        "id": "cczGcaEo4_dh",
        "outputId": "4bdb16c7-6261-4f5d-e3c4-34553421f649"
      },
      "outputs": [
        {
          "output_type": "stream",
          "name": "stdout",
          "text": [
            "Было: [22, 30, 55, 65, 78] <class 'list'>\n"
          ]
        }
      ],
      "source": [
        "# Создаем произвольный список\n",
        "Natural = [22, 30, 55, 65, 78]\n",
        "print('Было:', Natural, type(Natural))"
      ]
    },
    {
      "cell_type": "code",
      "source": [
        "# Проходим циклом по списку\n",
        "for  i in range(len(Natural)):\n",
        "  # Если число больше 50, то прибавляем 100\n",
        "  if  Natural[i] > 50:\n",
        "   Natural[i] += 100\n",
        "   # Если число меньше 50 то возводим в квадрат на месте\n",
        "  else :\n",
        "    Natural[i] **= 2\n",
        "\n",
        "# Результат\n",
        "print(Natural)"
      ],
      "metadata": {
        "colab": {
          "base_uri": "https://localhost:8080/"
        },
        "id": "C4_NOoZWyWEr",
        "outputId": "25b5da97-e563-4b4f-862b-469b81f8f6fd"
      },
      "execution_count": null,
      "outputs": [
        {
          "output_type": "stream",
          "name": "stdout",
          "text": [
            "[484, 900, 155, 165, 178]\n"
          ]
        }
      ]
    }
  ]
}