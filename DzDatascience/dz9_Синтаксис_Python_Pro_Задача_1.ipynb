{
  "nbformat": 4,
  "nbformat_minor": 0,
  "metadata": {
    "colab": {
      "provenance": [],
      "authorship_tag": "ABX9TyNTkQ/fRg1iBji+j7ezusn9",
      "include_colab_link": true
    },
    "kernelspec": {
      "name": "python3",
      "display_name": "Python 3"
    },
    "language_info": {
      "name": "python"
    }
  },
  "cells": [
    {
      "cell_type": "markdown",
      "metadata": {
        "id": "view-in-github",
        "colab_type": "text"
      },
      "source": [
        "<a href=\"https://colab.research.google.com/github/DmitrijLeontev/Dmitrij_Leontev/blob/main/DzDatascience/dz9_%D0%A1%D0%B8%D0%BD%D1%82%D0%B0%D0%BA%D1%81%D0%B8%D1%81_Python_Pro_%D0%97%D0%B0%D0%B4%D0%B0%D1%87%D0%B0_1.ipynb\" target=\"_parent\"><img src=\"https://colab.research.google.com/assets/colab-badge.svg\" alt=\"Open In Colab\"/></a>"
      ]
    },
    {
      "cell_type": "code",
      "execution_count": null,
      "metadata": {
        "id": "eNGhm-31DJIz"
      },
      "outputs": [],
      "source": [
        "Напишите программу, которая просит пользователя ввести произвольную цифру от 1 до 9, а затем выводит таблицу умножения для введенного числа.\n",
        "\n",
        "Добавьте проверку введенной пользователем информации:\n",
        "\n",
        "данные должны быть целочисленного типа\n",
        "число должно находиться в диапазоне от 1 до 9\n"
      ]
    },
    {
      "cell_type": "code",
      "source": [
        "# Запрос числа у пользователя\n",
        "n = input('Введите цифру от 1 до 9: ')\n",
        "\n",
        "if not n.isnumeric():\n",
        "    print('Вы ввели нечисловую информацию. К сожалению, ничего не получится')\n",
        "elif int(n)<1 or int(n)>9:\n",
        "    print('Введенное число должно быть в диапазоне от 1 до 9')\n",
        "else:\n",
        "    i = 0\n",
        "    while i != 9:\n",
        "        i += 1\n",
        "        print(f'{n} * {i} = {i * int(n)}')"
      ],
      "metadata": {
        "colab": {
          "base_uri": "https://localhost:8080/"
        },
        "id": "XIDCUJfmTDYB",
        "outputId": "17cf3aff-9a1d-465c-f6c6-c5dd3c0ebc79"
      },
      "execution_count": null,
      "outputs": [
        {
          "output_type": "stream",
          "name": "stdout",
          "text": [
            "Введите цифру от 1 до 9: 4\n",
            "4 * 1 = 4\n",
            "4 * 2 = 8\n",
            "4 * 3 = 12\n",
            "4 * 4 = 16\n",
            "4 * 5 = 20\n",
            "4 * 6 = 24\n",
            "4 * 7 = 28\n",
            "4 * 8 = 32\n",
            "4 * 9 = 36\n"
          ]
        }
      ]
    }
  ]
}