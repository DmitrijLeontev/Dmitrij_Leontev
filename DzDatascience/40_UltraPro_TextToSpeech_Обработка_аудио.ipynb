{
  "nbformat": 4,
  "nbformat_minor": 0,
  "metadata": {
    "colab": {
      "provenance": [],
      "include_colab_link": true
    },
    "kernelspec": {
      "name": "python3",
      "display_name": "Python 3"
    },
    "language_info": {
      "name": "python"
    }
  },
  "cells": [
    {
      "cell_type": "markdown",
      "metadata": {
        "id": "view-in-github",
        "colab_type": "text"
      },
      "source": [
        "<a href=\"https://colab.research.google.com/github/DmitrijLeontev/Dmitrij_Leontev/blob/main/DzDatascience/40_UltraPro_TextToSpeech_%D0%9E%D0%B1%D1%80%D0%B0%D0%B1%D0%BE%D1%82%D0%BA%D0%B0_%D0%B0%D1%83%D0%B4%D0%B8%D0%BE.ipynb\" target=\"_parent\"><img src=\"https://colab.research.google.com/assets/colab-badge.svg\" alt=\"Open In Colab\"/></a>"
      ]
    },
    {
      "cell_type": "markdown",
      "metadata": {
        "id": "g3RxTmSmqqgn"
      },
      "source": [
        "Напишите простую нейронную сеть для задачи классификации картинок cifar10. Используя библиотеку gTTS, напишите колбэк, при помощи которого (после обучения сети), автоматически будет воспроизводиться фраза \"Обучение закончено. Точность сети на проверочной выборке {здесь озвучивается точность в процентах}\"."
      ]
    },
    {
      "cell_type": "code",
      "metadata": {
        "id": "DiHtF92PxCg9"
      },
      "source": [
        "# Ваше решение"
      ],
      "execution_count": null,
      "outputs": []
    },
    {
      "cell_type": "markdown",
      "source": [
        "Создание сверточной нейросети и ее сохранение.\n",
        "\n",
        "Это сверточная сеть для классификации стандартного набора Cifar10.\n",
        "\n",
        "Важно! Для ускорения обучения модели стоит переключиться на GPU в верхнем меню Colab:\n",
        "\n",
        "Среда выполнения --> Сменить среду выполнения --> Аппаратный ускоритель\n",
        "\n",
        "Загрузка базы изображений и ее конвертация в нужный формат"
      ],
      "metadata": {
        "id": "_ayfszLhB-RU"
      }
    },
    {
      "cell_type": "code",
      "source": [
        "%%capture\n",
        "\n",
        "# Бесплатная библиотека Google для задачи TTS\n",
        "!pip install gTTS"
      ],
      "metadata": {
        "id": "qPj6U6o3rfeI"
      },
      "execution_count": null,
      "outputs": []
    },
    {
      "cell_type": "code",
      "source": [
        "# Импорт библиотеки google-cloud-texttospeech\n",
        "import gtts\n",
        "\n",
        "# Основной интерфейс для перевода текста в аудио\n",
        "from gtts import gTTS\n",
        "\n",
        "# Используем для проигрывания аудио\n",
        "from IPython.display import Audio"
      ],
      "metadata": {
        "id": "aeN3yCcfrv0L"
      },
      "execution_count": null,
      "outputs": []
    },
    {
      "cell_type": "markdown",
      "source": [
        "Словарь со всеми доступными языками. К сожалению, для русского языка доступен только один голос:"
      ],
      "metadata": {
        "id": "h7Mc-b0Vr2M8"
      }
    },
    {
      "cell_type": "code",
      "source": [
        "gtts.lang.tts_langs()"
      ],
      "metadata": {
        "colab": {
          "base_uri": "https://localhost:8080/"
        },
        "id": "731t9SgNr3VS",
        "outputId": "6dd7a2bc-7231-43c1-9e2c-9ed1aa0442ae"
      },
      "execution_count": null,
      "outputs": [
        {
          "output_type": "execute_result",
          "data": {
            "text/plain": [
              "{'af': 'Afrikaans',\n",
              " 'ar': 'Arabic',\n",
              " 'bg': 'Bulgarian',\n",
              " 'bn': 'Bengali',\n",
              " 'bs': 'Bosnian',\n",
              " 'ca': 'Catalan',\n",
              " 'cs': 'Czech',\n",
              " 'da': 'Danish',\n",
              " 'de': 'German',\n",
              " 'el': 'Greek',\n",
              " 'en': 'English',\n",
              " 'es': 'Spanish',\n",
              " 'et': 'Estonian',\n",
              " 'fi': 'Finnish',\n",
              " 'fr': 'French',\n",
              " 'gu': 'Gujarati',\n",
              " 'hi': 'Hindi',\n",
              " 'hr': 'Croatian',\n",
              " 'hu': 'Hungarian',\n",
              " 'id': 'Indonesian',\n",
              " 'is': 'Icelandic',\n",
              " 'it': 'Italian',\n",
              " 'iw': 'Hebrew',\n",
              " 'ja': 'Japanese',\n",
              " 'jw': 'Javanese',\n",
              " 'km': 'Khmer',\n",
              " 'kn': 'Kannada',\n",
              " 'ko': 'Korean',\n",
              " 'la': 'Latin',\n",
              " 'lv': 'Latvian',\n",
              " 'ml': 'Malayalam',\n",
              " 'mr': 'Marathi',\n",
              " 'ms': 'Malay',\n",
              " 'my': 'Myanmar (Burmese)',\n",
              " 'ne': 'Nepali',\n",
              " 'nl': 'Dutch',\n",
              " 'no': 'Norwegian',\n",
              " 'pl': 'Polish',\n",
              " 'pt': 'Portuguese',\n",
              " 'ro': 'Romanian',\n",
              " 'ru': 'Russian',\n",
              " 'si': 'Sinhala',\n",
              " 'sk': 'Slovak',\n",
              " 'sq': 'Albanian',\n",
              " 'sr': 'Serbian',\n",
              " 'su': 'Sundanese',\n",
              " 'sv': 'Swedish',\n",
              " 'sw': 'Swahili',\n",
              " 'ta': 'Tamil',\n",
              " 'te': 'Telugu',\n",
              " 'th': 'Thai',\n",
              " 'tl': 'Filipino',\n",
              " 'tr': 'Turkish',\n",
              " 'uk': 'Ukrainian',\n",
              " 'ur': 'Urdu',\n",
              " 'vi': 'Vietnamese',\n",
              " 'zh-CN': 'Chinese (Simplified)',\n",
              " 'zh-TW': 'Chinese (Mandarin/Taiwan)',\n",
              " 'zh': 'Chinese (Mandarin)'}"
            ]
          },
          "metadata": {},
          "execution_count": 20
        }
      ]
    },
    {
      "cell_type": "code",
      "source": [
        "# Загрузка библиотек\n",
        "\n",
        "from tensorflow.keras.layers import Dense\n",
        "from tensorflow.keras import Sequential\n",
        "import matplotlib.pyplot as plt\n",
        "import numpy as np\n",
        "import tensorflow as tf\n",
        "from tensorflow.keras.datasets import cifar10\n",
        "from tensorflow.keras.models import Sequential\n",
        "from tensorflow.keras.layers import Dense, Flatten, Conv2D, MaxPooling2D\n",
        "from tensorflow.keras.optimizers import Adam\n",
        "from tensorflow.keras.callbacks import Callback\n",
        "from gtts import gTTS\n",
        "import os\n",
        "import matplotlib.pyplot as plt\n",
        "from IPython.display import Audio\n",
        "import io\n"
      ],
      "metadata": {
        "id": "UCd0akbVDQJb"
      },
      "execution_count": null,
      "outputs": []
    },
    {
      "cell_type": "code",
      "source": [
        "from tensorflow.keras.datasets import cifar10\n",
        "\n",
        "# Загрузка cifar10\n",
        "(x_train10, y_train10), (x_test10, y_test10) = cifar10.load_data()"
      ],
      "metadata": {
        "id": "uze87KkuCSu_"
      },
      "execution_count": null,
      "outputs": []
    },
    {
      "cell_type": "code",
      "source": [
        "# Размер изображения 32 x 32, 3 канала (цветное)\n",
        "\n",
        "x_train10.shape"
      ],
      "metadata": {
        "colab": {
          "base_uri": "https://localhost:8080/"
        },
        "id": "7KGdrbwaDcda",
        "outputId": "62fb5204-3436-4046-bc6c-424108dad6b5"
      },
      "execution_count": null,
      "outputs": [
        {
          "output_type": "execute_result",
          "data": {
            "text/plain": [
              "(50000, 32, 32, 3)"
            ]
          },
          "metadata": {},
          "execution_count": 37
        }
      ]
    },
    {
      "cell_type": "code",
      "source": [
        "# Определение названий классов в порядке, установленном в описании набора данных\n",
        "\n",
        "classes = ['самолет', 'автомобиль', 'птица', 'кот', 'олень', 'собака', 'лягушка', 'лошадь', 'корабль', 'грузовик']"
      ],
      "metadata": {
        "id": "nnK2QLoRDijC"
      },
      "execution_count": null,
      "outputs": []
    },
    {
      "cell_type": "code",
      "source": [
        "# Нормирование изображений\n",
        "\n",
        "x_train10 = x_train10 / 255.\n",
        "x_test10 = x_test10 / 255."
      ],
      "metadata": {
        "id": "6PieRRDkDnsd"
      },
      "execution_count": null,
      "outputs": []
    },
    {
      "cell_type": "code",
      "source": [
        "# Перевод меток класса y_train и y_test в формат one hot encoding\n",
        "\n",
        "from tensorflow.keras import utils\n",
        "\n",
        "# Число категорий в to_categorical() можно не указывать - инструмент определит его по данным\n",
        "y_train10 = utils.to_categorical(y_train10)\n",
        "y_test10 = utils.to_categorical(y_test10)"
      ],
      "metadata": {
        "id": "uTtWIs1iDwAN"
      },
      "execution_count": null,
      "outputs": []
    },
    {
      "cell_type": "code",
      "source": [
        "# Проверка формы получившихся выборок\n",
        "\n",
        "print(x_train10.shape)\n",
        "print(x_test10.shape)\n",
        "print(y_train10.shape)\n",
        "print(y_test10.shape)"
      ],
      "metadata": {
        "colab": {
          "base_uri": "https://localhost:8080/"
        },
        "id": "mI5a_ReSD3Ba",
        "outputId": "0fc543ba-a69b-418a-ae4b-a6604105a4d1"
      },
      "execution_count": null,
      "outputs": [
        {
          "output_type": "stream",
          "name": "stdout",
          "text": [
            "(50000, 32, 32, 3)\n",
            "(10000, 32, 32, 3)\n",
            "(50000, 10)\n",
            "(10000, 10)\n"
          ]
        }
      ]
    },
    {
      "cell_type": "markdown",
      "source": [
        "Задайте размер пакета:"
      ],
      "metadata": {
        "id": "Di2Mk6B-D-ns"
      }
    },
    {
      "cell_type": "code",
      "source": [
        "batch_size = 128"
      ],
      "metadata": {
        "id": "nuElkOKrECmT"
      },
      "execution_count": null,
      "outputs": []
    },
    {
      "cell_type": "markdown",
      "source": [
        "Создайте архитектуру модели:"
      ],
      "metadata": {
        "id": "oeZ5D6SoEIic"
      }
    },
    {
      "cell_type": "code",
      "source": [
        "from tensorflow.keras.models import Sequential\n",
        "from tensorflow.keras.layers import Dense, Conv2D, MaxPooling2D, Flatten, Dropout, BatchNormalization"
      ],
      "metadata": {
        "id": "8BmQ9o-xEJmk"
      },
      "execution_count": null,
      "outputs": []
    },
    {
      "cell_type": "code",
      "source": [
        "model = Sequential()\n",
        "\n",
        "model.add(BatchNormalization(input_shape=(32, 32, 3)))\n",
        "model.add(Conv2D(32, (3, 3), padding='same', activation='relu'))\n",
        "model.add(Conv2D(32, (3, 3), padding='same', activation='relu'))\n",
        "model.add(MaxPooling2D(pool_size=(2, 2)))\n",
        "model.add(Dropout(0.25))\n",
        "\n",
        "model.add(BatchNormalization())\n",
        "model.add(Conv2D(64, (3, 3), padding='same', activation='relu'))\n",
        "model.add(Conv2D(64, (3, 3), padding='same', activation='relu'))\n",
        "model.add(MaxPooling2D(pool_size=(2, 2)))\n",
        "model.add(Dropout(0.20))\n",
        "\n",
        "model.add(BatchNormalization())\n",
        "model.add(Conv2D(128, (3, 3), padding='same', activation='relu'))\n",
        "model.add(Conv2D(128, (3, 3), padding='same', activation='relu'))\n",
        "model.add(MaxPooling2D(pool_size=(2, 2)))\n",
        "model.add(Dropout(0.15))\n",
        "\n",
        "model.add(Flatten())\n",
        "model.add(Dense(512, activation='relu'))\n",
        "model.add(Dropout(0.20))\n",
        "model.add(Dense(10, activation='softmax'))"
      ],
      "metadata": {
        "id": "vNw72KBCEUdC"
      },
      "execution_count": null,
      "outputs": []
    },
    {
      "cell_type": "markdown",
      "source": [
        "Проверьте созданную архитектуру модели:"
      ],
      "metadata": {
        "id": "7MEXV1DREk0r"
      }
    },
    {
      "cell_type": "code",
      "source": [
        "model.summary()"
      ],
      "metadata": {
        "colab": {
          "base_uri": "https://localhost:8080/"
        },
        "id": "PCklUmT8EmAT",
        "outputId": "8d833194-06ed-4fc1-b195-7aa46ad1bb73"
      },
      "execution_count": null,
      "outputs": [
        {
          "output_type": "stream",
          "name": "stdout",
          "text": [
            "Model: \"sequential_2\"\n",
            "_________________________________________________________________\n",
            " Layer (type)                Output Shape              Param #   \n",
            "=================================================================\n",
            " batch_normalization_6 (Bat  (None, 32, 32, 3)         12        \n",
            " chNormalization)                                                \n",
            "                                                                 \n",
            " conv2d_12 (Conv2D)          (None, 32, 32, 32)        896       \n",
            "                                                                 \n",
            " conv2d_13 (Conv2D)          (None, 32, 32, 32)        9248      \n",
            "                                                                 \n",
            " max_pooling2d_6 (MaxPoolin  (None, 16, 16, 32)        0         \n",
            " g2D)                                                            \n",
            "                                                                 \n",
            " dropout_8 (Dropout)         (None, 16, 16, 32)        0         \n",
            "                                                                 \n",
            " batch_normalization_7 (Bat  (None, 16, 16, 32)        128       \n",
            " chNormalization)                                                \n",
            "                                                                 \n",
            " conv2d_14 (Conv2D)          (None, 16, 16, 64)        18496     \n",
            "                                                                 \n",
            " conv2d_15 (Conv2D)          (None, 16, 16, 64)        36928     \n",
            "                                                                 \n",
            " max_pooling2d_7 (MaxPoolin  (None, 8, 8, 64)          0         \n",
            " g2D)                                                            \n",
            "                                                                 \n",
            " dropout_9 (Dropout)         (None, 8, 8, 64)          0         \n",
            "                                                                 \n",
            " batch_normalization_8 (Bat  (None, 8, 8, 64)          256       \n",
            " chNormalization)                                                \n",
            "                                                                 \n",
            " conv2d_16 (Conv2D)          (None, 8, 8, 128)         73856     \n",
            "                                                                 \n",
            " conv2d_17 (Conv2D)          (None, 8, 8, 128)         147584    \n",
            "                                                                 \n",
            " max_pooling2d_8 (MaxPoolin  (None, 4, 4, 128)         0         \n",
            " g2D)                                                            \n",
            "                                                                 \n",
            " dropout_10 (Dropout)        (None, 4, 4, 128)         0         \n",
            "                                                                 \n",
            " flatten_2 (Flatten)         (None, 2048)              0         \n",
            "                                                                 \n",
            " dense_4 (Dense)             (None, 512)               1049088   \n",
            "                                                                 \n",
            " dropout_11 (Dropout)        (None, 512)               0         \n",
            "                                                                 \n",
            " dense_5 (Dense)             (None, 10)                5130      \n",
            "                                                                 \n",
            "=================================================================\n",
            "Total params: 1341622 (5.12 MB)\n",
            "Trainable params: 1341424 (5.12 MB)\n",
            "Non-trainable params: 198 (792.00 Byte)\n",
            "_________________________________________________________________\n"
          ]
        }
      ]
    },
    {
      "cell_type": "markdown",
      "source": [],
      "metadata": {
        "id": "TcxHxWRykJtg"
      }
    },
    {
      "cell_type": "code",
      "source": [
        "# Компиляция модели\n",
        "model.compile(loss=\"categorical_crossentropy\", optimizer=Adam(learning_rate=0.0001), metrics=[\"accuracy\"])\n"
      ],
      "metadata": {
        "id": "uoJzkVmgkII7"
      },
      "execution_count": null,
      "outputs": []
    },
    {
      "cell_type": "code",
      "source": [
        "# Класс колбэка для gTTS и IPython\n",
        "class TTS_Callback(Callback):\n",
        "    def on_train_end(self, logs=None):\n",
        "        accuracy = logs.get('val_accuracy') * 100\n",
        "        tts = gTTS(f'Обучение закончено. Точность сети на проверочной выборке {accuracy:.2f} процентов', lang='ru')\n",
        "        fp = io.BytesIO()\n",
        "        tts.write_to_fp(fp)\n",
        "        fp.seek(0)\n",
        "        display(Audio(fp.read(), autoplay=True))\n",
        "\n"
      ],
      "metadata": {
        "id": "OMzPxyFttFWc"
      },
      "execution_count": null,
      "outputs": []
    },
    {
      "cell_type": "code",
      "source": [
        "# Обучение модели с колбэком\n",
        "history = model.fit(x_train10,\n",
        "                    y_train10,\n",
        "                    batch_size=batch_size,\n",
        "                    epochs=100,\n",
        "                    validation_data=(x_test10, y_test10),\n",
        "                    verbose=1,\n",
        "                    callbacks=[TTS_Callback()])\n",
        "\n",
        "\n",
        "# Вывод графика точности обучения\n",
        "\n",
        "import matplotlib.pyplot as plt # -------- отрисовка графиков\n",
        "\n",
        "plt.plot(history.history['accuracy'], label='Доля верных ответов на обучающем наборе')\n",
        "plt.plot(history.history['val_accuracy'], label='Доля верных ответов на проверочном наборе')\n",
        "plt.xlabel('Эпоха обучения')\n",
        "plt.ylabel('Доля верных ответов')\n",
        "plt.legend()\n",
        "plt.show()\n"
      ],
      "metadata": {
        "id": "xtSZZrktE25S",
        "colab": {
          "base_uri": "https://localhost:8080/",
          "height": 1000
        },
        "outputId": "bc6cde1b-6109-4be6-a077-749f6f826110"
      },
      "execution_count": null,
      "outputs": [
        {
          "output_type": "stream",
          "name": "stdout",
          "text": [
            "Epoch 1/100\n",
            "391/391 [==============================] - 7s 11ms/step - loss: 1.7165 - accuracy: 0.3710 - val_loss: 2.1315 - val_accuracy: 0.2590\n",
            "Epoch 2/100\n",
            "391/391 [==============================] - 4s 11ms/step - loss: 1.3843 - accuracy: 0.4950 - val_loss: 1.2977 - val_accuracy: 0.5256\n",
            "Epoch 3/100\n",
            "391/391 [==============================] - 4s 10ms/step - loss: 1.2263 - accuracy: 0.5573 - val_loss: 1.1506 - val_accuracy: 0.5903\n",
            "Epoch 4/100\n",
            "391/391 [==============================] - 4s 11ms/step - loss: 1.1174 - accuracy: 0.5991 - val_loss: 1.0510 - val_accuracy: 0.6307\n",
            "Epoch 5/100\n",
            "391/391 [==============================] - 4s 11ms/step - loss: 1.0290 - accuracy: 0.6328 - val_loss: 1.0305 - val_accuracy: 0.6388\n",
            "Epoch 6/100\n",
            "391/391 [==============================] - 4s 10ms/step - loss: 0.9521 - accuracy: 0.6615 - val_loss: 0.9567 - val_accuracy: 0.6640\n",
            "Epoch 7/100\n",
            "391/391 [==============================] - 4s 9ms/step - loss: 0.8885 - accuracy: 0.6854 - val_loss: 0.8852 - val_accuracy: 0.6875\n",
            "Epoch 8/100\n",
            "391/391 [==============================] - 4s 10ms/step - loss: 0.8314 - accuracy: 0.7054 - val_loss: 0.8282 - val_accuracy: 0.7127\n",
            "Epoch 9/100\n",
            "391/391 [==============================] - 4s 10ms/step - loss: 0.7806 - accuracy: 0.7227 - val_loss: 0.8280 - val_accuracy: 0.7137\n",
            "Epoch 10/100\n",
            "391/391 [==============================] - 4s 10ms/step - loss: 0.7390 - accuracy: 0.7395 - val_loss: 0.8024 - val_accuracy: 0.7219\n",
            "Epoch 11/100\n",
            "391/391 [==============================] - 5s 12ms/step - loss: 0.7018 - accuracy: 0.7525 - val_loss: 0.7549 - val_accuracy: 0.7381\n",
            "Epoch 12/100\n",
            "391/391 [==============================] - 4s 10ms/step - loss: 0.6646 - accuracy: 0.7648 - val_loss: 0.7175 - val_accuracy: 0.7523\n",
            "Epoch 13/100\n",
            "391/391 [==============================] - 4s 10ms/step - loss: 0.6295 - accuracy: 0.7780 - val_loss: 0.7179 - val_accuracy: 0.7556\n",
            "Epoch 14/100\n",
            "391/391 [==============================] - 4s 11ms/step - loss: 0.5990 - accuracy: 0.7882 - val_loss: 0.6933 - val_accuracy: 0.7633\n",
            "Epoch 15/100\n",
            "391/391 [==============================] - 4s 10ms/step - loss: 0.5704 - accuracy: 0.7983 - val_loss: 0.6432 - val_accuracy: 0.7759\n",
            "Epoch 16/100\n",
            "391/391 [==============================] - 4s 10ms/step - loss: 0.5406 - accuracy: 0.8102 - val_loss: 0.6423 - val_accuracy: 0.7798\n",
            "Epoch 17/100\n",
            "391/391 [==============================] - 4s 11ms/step - loss: 0.5139 - accuracy: 0.8198 - val_loss: 0.6391 - val_accuracy: 0.7782\n",
            "Epoch 18/100\n",
            "391/391 [==============================] - 5s 12ms/step - loss: 0.4864 - accuracy: 0.8271 - val_loss: 0.6358 - val_accuracy: 0.7821\n",
            "Epoch 19/100\n",
            "391/391 [==============================] - 4s 10ms/step - loss: 0.4685 - accuracy: 0.8357 - val_loss: 0.6346 - val_accuracy: 0.7842\n",
            "Epoch 20/100\n",
            "391/391 [==============================] - 4s 10ms/step - loss: 0.4469 - accuracy: 0.8432 - val_loss: 0.6075 - val_accuracy: 0.7911\n",
            "Epoch 21/100\n",
            "391/391 [==============================] - 4s 10ms/step - loss: 0.4238 - accuracy: 0.8507 - val_loss: 0.5979 - val_accuracy: 0.7972\n",
            "Epoch 22/100\n",
            "391/391 [==============================] - 4s 10ms/step - loss: 0.4003 - accuracy: 0.8575 - val_loss: 0.5924 - val_accuracy: 0.7997\n",
            "Epoch 23/100\n",
            "391/391 [==============================] - 4s 10ms/step - loss: 0.3822 - accuracy: 0.8649 - val_loss: 0.5944 - val_accuracy: 0.7988\n",
            "Epoch 24/100\n",
            "391/391 [==============================] - 4s 10ms/step - loss: 0.3671 - accuracy: 0.8706 - val_loss: 0.5972 - val_accuracy: 0.8014\n",
            "Epoch 25/100\n",
            "391/391 [==============================] - 4s 11ms/step - loss: 0.3494 - accuracy: 0.8753 - val_loss: 0.5829 - val_accuracy: 0.8072\n",
            "Epoch 26/100\n",
            "391/391 [==============================] - 4s 11ms/step - loss: 0.3362 - accuracy: 0.8813 - val_loss: 0.5976 - val_accuracy: 0.8041\n",
            "Epoch 27/100\n",
            "391/391 [==============================] - 4s 10ms/step - loss: 0.3229 - accuracy: 0.8853 - val_loss: 0.5911 - val_accuracy: 0.8092\n",
            "Epoch 28/100\n",
            "391/391 [==============================] - 4s 10ms/step - loss: 0.3016 - accuracy: 0.8936 - val_loss: 0.5880 - val_accuracy: 0.8096\n",
            "Epoch 29/100\n",
            "391/391 [==============================] - 4s 11ms/step - loss: 0.2899 - accuracy: 0.8972 - val_loss: 0.5898 - val_accuracy: 0.8112\n",
            "Epoch 30/100\n",
            "391/391 [==============================] - 4s 10ms/step - loss: 0.2748 - accuracy: 0.9016 - val_loss: 0.5785 - val_accuracy: 0.8160\n",
            "Epoch 31/100\n",
            "391/391 [==============================] - 4s 10ms/step - loss: 0.2646 - accuracy: 0.9053 - val_loss: 0.5832 - val_accuracy: 0.8168\n",
            "Epoch 32/100\n",
            "391/391 [==============================] - 4s 11ms/step - loss: 0.2545 - accuracy: 0.9103 - val_loss: 0.5941 - val_accuracy: 0.8139\n",
            "Epoch 33/100\n",
            "391/391 [==============================] - 5s 12ms/step - loss: 0.2413 - accuracy: 0.9149 - val_loss: 0.5975 - val_accuracy: 0.8138\n",
            "Epoch 34/100\n",
            "391/391 [==============================] - 4s 10ms/step - loss: 0.2281 - accuracy: 0.9189 - val_loss: 0.6099 - val_accuracy: 0.8135\n",
            "Epoch 35/100\n",
            "391/391 [==============================] - 4s 11ms/step - loss: 0.2178 - accuracy: 0.9233 - val_loss: 0.5999 - val_accuracy: 0.8148\n",
            "Epoch 36/100\n",
            "391/391 [==============================] - 4s 10ms/step - loss: 0.2071 - accuracy: 0.9265 - val_loss: 0.6021 - val_accuracy: 0.8185\n",
            "Epoch 37/100\n",
            "391/391 [==============================] - 4s 9ms/step - loss: 0.2040 - accuracy: 0.9277 - val_loss: 0.6016 - val_accuracy: 0.8190\n",
            "Epoch 38/100\n",
            "391/391 [==============================] - 4s 11ms/step - loss: 0.1943 - accuracy: 0.9307 - val_loss: 0.6092 - val_accuracy: 0.8191\n",
            "Epoch 39/100\n",
            "391/391 [==============================] - 4s 10ms/step - loss: 0.1810 - accuracy: 0.9363 - val_loss: 0.6231 - val_accuracy: 0.8167\n",
            "Epoch 40/100\n",
            "391/391 [==============================] - 4s 11ms/step - loss: 0.1730 - accuracy: 0.9383 - val_loss: 0.6264 - val_accuracy: 0.8177\n",
            "Epoch 41/100\n",
            "391/391 [==============================] - 4s 11ms/step - loss: 0.1638 - accuracy: 0.9424 - val_loss: 0.6114 - val_accuracy: 0.8214\n",
            "Epoch 42/100\n",
            "391/391 [==============================] - 4s 10ms/step - loss: 0.1594 - accuracy: 0.9434 - val_loss: 0.6528 - val_accuracy: 0.8136\n",
            "Epoch 43/100\n",
            "391/391 [==============================] - 4s 10ms/step - loss: 0.1571 - accuracy: 0.9440 - val_loss: 0.6287 - val_accuracy: 0.8217\n",
            "Epoch 44/100\n",
            "391/391 [==============================] - 4s 11ms/step - loss: 0.1470 - accuracy: 0.9488 - val_loss: 0.6497 - val_accuracy: 0.8178\n",
            "Epoch 45/100\n",
            "391/391 [==============================] - 4s 10ms/step - loss: 0.1425 - accuracy: 0.9497 - val_loss: 0.6510 - val_accuracy: 0.8218\n",
            "Epoch 46/100\n",
            "391/391 [==============================] - 4s 10ms/step - loss: 0.1377 - accuracy: 0.9514 - val_loss: 0.6642 - val_accuracy: 0.8168\n",
            "Epoch 47/100\n",
            "391/391 [==============================] - 5s 13ms/step - loss: 0.1303 - accuracy: 0.9540 - val_loss: 0.6415 - val_accuracy: 0.8207\n",
            "Epoch 48/100\n",
            "391/391 [==============================] - 4s 10ms/step - loss: 0.1263 - accuracy: 0.9562 - val_loss: 0.6580 - val_accuracy: 0.8221\n",
            "Epoch 49/100\n",
            "391/391 [==============================] - 4s 10ms/step - loss: 0.1219 - accuracy: 0.9584 - val_loss: 0.6734 - val_accuracy: 0.8211\n",
            "Epoch 50/100\n",
            "391/391 [==============================] - 4s 11ms/step - loss: 0.1204 - accuracy: 0.9572 - val_loss: 0.6690 - val_accuracy: 0.8150\n",
            "Epoch 51/100\n",
            "391/391 [==============================] - 4s 10ms/step - loss: 0.1141 - accuracy: 0.9604 - val_loss: 0.6720 - val_accuracy: 0.8201\n",
            "Epoch 52/100\n",
            "391/391 [==============================] - 4s 10ms/step - loss: 0.1112 - accuracy: 0.9606 - val_loss: 0.6770 - val_accuracy: 0.8201\n",
            "Epoch 53/100\n",
            "391/391 [==============================] - 4s 10ms/step - loss: 0.1036 - accuracy: 0.9640 - val_loss: 0.6734 - val_accuracy: 0.8198\n",
            "Epoch 54/100\n",
            "391/391 [==============================] - 4s 11ms/step - loss: 0.1051 - accuracy: 0.9624 - val_loss: 0.7007 - val_accuracy: 0.8170\n",
            "Epoch 55/100\n",
            "391/391 [==============================] - 4s 10ms/step - loss: 0.0976 - accuracy: 0.9668 - val_loss: 0.6900 - val_accuracy: 0.8226\n",
            "Epoch 56/100\n",
            "391/391 [==============================] - 5s 12ms/step - loss: 0.0938 - accuracy: 0.9673 - val_loss: 0.6697 - val_accuracy: 0.8257\n",
            "Epoch 57/100\n",
            "391/391 [==============================] - 4s 10ms/step - loss: 0.0969 - accuracy: 0.9665 - val_loss: 0.6945 - val_accuracy: 0.8208\n",
            "Epoch 58/100\n",
            "391/391 [==============================] - 4s 10ms/step - loss: 0.0916 - accuracy: 0.9682 - val_loss: 0.6983 - val_accuracy: 0.8214\n",
            "Epoch 59/100\n",
            "391/391 [==============================] - 4s 11ms/step - loss: 0.0849 - accuracy: 0.9702 - val_loss: 0.6950 - val_accuracy: 0.8256\n",
            "Epoch 60/100\n",
            "391/391 [==============================] - 4s 9ms/step - loss: 0.0852 - accuracy: 0.9705 - val_loss: 0.7062 - val_accuracy: 0.8205\n",
            "Epoch 61/100\n",
            "391/391 [==============================] - 4s 11ms/step - loss: 0.0839 - accuracy: 0.9705 - val_loss: 0.7194 - val_accuracy: 0.8230\n",
            "Epoch 62/100\n",
            "391/391 [==============================] - 4s 11ms/step - loss: 0.0817 - accuracy: 0.9717 - val_loss: 0.7000 - val_accuracy: 0.8252\n",
            "Epoch 63/100\n",
            "391/391 [==============================] - 4s 10ms/step - loss: 0.0818 - accuracy: 0.9708 - val_loss: 0.6969 - val_accuracy: 0.8246\n",
            "Epoch 64/100\n",
            "391/391 [==============================] - 4s 10ms/step - loss: 0.0775 - accuracy: 0.9733 - val_loss: 0.7483 - val_accuracy: 0.8245\n",
            "Epoch 65/100\n",
            "391/391 [==============================] - 5s 12ms/step - loss: 0.0807 - accuracy: 0.9717 - val_loss: 0.7323 - val_accuracy: 0.8222\n",
            "Epoch 66/100\n",
            "391/391 [==============================] - 4s 10ms/step - loss: 0.0774 - accuracy: 0.9744 - val_loss: 0.7338 - val_accuracy: 0.8240\n",
            "Epoch 67/100\n",
            "391/391 [==============================] - 4s 9ms/step - loss: 0.0744 - accuracy: 0.9742 - val_loss: 0.7315 - val_accuracy: 0.8255\n",
            "Epoch 68/100\n",
            "391/391 [==============================] - 5s 12ms/step - loss: 0.0713 - accuracy: 0.9755 - val_loss: 0.7241 - val_accuracy: 0.8244\n",
            "Epoch 69/100\n",
            "391/391 [==============================] - 4s 11ms/step - loss: 0.0707 - accuracy: 0.9755 - val_loss: 0.7340 - val_accuracy: 0.8234\n",
            "Epoch 70/100\n",
            "391/391 [==============================] - 4s 10ms/step - loss: 0.0682 - accuracy: 0.9765 - val_loss: 0.7372 - val_accuracy: 0.8221\n",
            "Epoch 71/100\n",
            "391/391 [==============================] - 4s 11ms/step - loss: 0.0655 - accuracy: 0.9768 - val_loss: 0.7390 - val_accuracy: 0.8258\n",
            "Epoch 72/100\n",
            "391/391 [==============================] - 4s 10ms/step - loss: 0.0650 - accuracy: 0.9769 - val_loss: 0.7320 - val_accuracy: 0.8267\n",
            "Epoch 73/100\n",
            "391/391 [==============================] - 4s 10ms/step - loss: 0.0648 - accuracy: 0.9777 - val_loss: 0.7566 - val_accuracy: 0.8192\n",
            "Epoch 74/100\n",
            "391/391 [==============================] - 4s 10ms/step - loss: 0.0608 - accuracy: 0.9795 - val_loss: 0.7472 - val_accuracy: 0.8251\n",
            "Epoch 75/100\n",
            "391/391 [==============================] - 5s 13ms/step - loss: 0.0613 - accuracy: 0.9782 - val_loss: 0.7408 - val_accuracy: 0.8233\n",
            "Epoch 76/100\n",
            "391/391 [==============================] - 4s 10ms/step - loss: 0.0592 - accuracy: 0.9792 - val_loss: 0.7677 - val_accuracy: 0.8231\n",
            "Epoch 77/100\n",
            "391/391 [==============================] - 4s 11ms/step - loss: 0.0590 - accuracy: 0.9793 - val_loss: 0.7675 - val_accuracy: 0.8254\n",
            "Epoch 78/100\n",
            "391/391 [==============================] - 4s 10ms/step - loss: 0.0580 - accuracy: 0.9801 - val_loss: 0.7699 - val_accuracy: 0.8226\n",
            "Epoch 79/100\n",
            "391/391 [==============================] - 4s 9ms/step - loss: 0.0571 - accuracy: 0.9806 - val_loss: 0.7765 - val_accuracy: 0.8252\n",
            "Epoch 80/100\n",
            "391/391 [==============================] - 4s 10ms/step - loss: 0.0542 - accuracy: 0.9814 - val_loss: 0.7854 - val_accuracy: 0.8246\n",
            "Epoch 81/100\n",
            "391/391 [==============================] - 4s 11ms/step - loss: 0.0546 - accuracy: 0.9811 - val_loss: 0.7875 - val_accuracy: 0.8259\n",
            "Epoch 82/100\n",
            "391/391 [==============================] - 4s 11ms/step - loss: 0.0571 - accuracy: 0.9799 - val_loss: 0.7712 - val_accuracy: 0.8263\n",
            "Epoch 83/100\n",
            "391/391 [==============================] - 4s 11ms/step - loss: 0.0543 - accuracy: 0.9814 - val_loss: 0.7675 - val_accuracy: 0.8291\n",
            "Epoch 84/100\n",
            "391/391 [==============================] - 4s 10ms/step - loss: 0.0520 - accuracy: 0.9815 - val_loss: 0.7837 - val_accuracy: 0.8254\n",
            "Epoch 85/100\n",
            "391/391 [==============================] - 4s 10ms/step - loss: 0.0515 - accuracy: 0.9824 - val_loss: 0.7864 - val_accuracy: 0.8254\n",
            "Epoch 86/100\n",
            "391/391 [==============================] - 4s 11ms/step - loss: 0.0502 - accuracy: 0.9830 - val_loss: 0.7799 - val_accuracy: 0.8276\n",
            "Epoch 87/100\n",
            "391/391 [==============================] - 4s 10ms/step - loss: 0.0492 - accuracy: 0.9826 - val_loss: 0.7874 - val_accuracy: 0.8291\n",
            "Epoch 88/100\n",
            "391/391 [==============================] - 4s 9ms/step - loss: 0.0513 - accuracy: 0.9820 - val_loss: 0.7799 - val_accuracy: 0.8242\n",
            "Epoch 89/100\n",
            "391/391 [==============================] - 5s 12ms/step - loss: 0.0496 - accuracy: 0.9828 - val_loss: 0.7969 - val_accuracy: 0.8248\n",
            "Epoch 90/100\n",
            "391/391 [==============================] - 5s 11ms/step - loss: 0.0475 - accuracy: 0.9834 - val_loss: 0.7949 - val_accuracy: 0.8260\n",
            "Epoch 91/100\n",
            "391/391 [==============================] - 4s 10ms/step - loss: 0.0487 - accuracy: 0.9830 - val_loss: 0.7934 - val_accuracy: 0.8243\n",
            "Epoch 92/100\n",
            "391/391 [==============================] - 4s 10ms/step - loss: 0.0457 - accuracy: 0.9842 - val_loss: 0.8147 - val_accuracy: 0.8239\n",
            "Epoch 93/100\n",
            "391/391 [==============================] - 4s 11ms/step - loss: 0.0432 - accuracy: 0.9851 - val_loss: 0.8239 - val_accuracy: 0.8251\n",
            "Epoch 94/100\n",
            "391/391 [==============================] - 4s 10ms/step - loss: 0.0454 - accuracy: 0.9840 - val_loss: 0.8293 - val_accuracy: 0.8295\n",
            "Epoch 95/100\n",
            "391/391 [==============================] - 4s 10ms/step - loss: 0.0453 - accuracy: 0.9845 - val_loss: 0.8058 - val_accuracy: 0.8265\n",
            "Epoch 96/100\n",
            "391/391 [==============================] - 4s 11ms/step - loss: 0.0436 - accuracy: 0.9853 - val_loss: 0.8119 - val_accuracy: 0.8269\n",
            "Epoch 97/100\n",
            "391/391 [==============================] - 4s 11ms/step - loss: 0.0439 - accuracy: 0.9849 - val_loss: 0.8234 - val_accuracy: 0.8244\n",
            "Epoch 98/100\n",
            "391/391 [==============================] - 4s 11ms/step - loss: 0.0447 - accuracy: 0.9840 - val_loss: 0.8237 - val_accuracy: 0.8284\n",
            "Epoch 99/100\n",
            "391/391 [==============================] - 4s 10ms/step - loss: 0.0457 - accuracy: 0.9846 - val_loss: 0.8005 - val_accuracy: 0.8288\n",
            "Epoch 100/100\n",
            "391/391 [==============================] - 4s 10ms/step - loss: 0.0396 - accuracy: 0.9867 - val_loss: 0.8237 - val_accuracy: 0.8288\n"
          ]
        },
        {
          "output_type": "display_data",
          "data": {
            "text/plain": [
              "<IPython.lib.display.Audio object>"
            ],
            "text/html": [
              "\n",
              "                <audio  controls=\"controls\" autoplay=\"autoplay\">\n",
              "                    <source src=\"data:audio/wav;base64,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\" type=\"audio/wav\" />\n",
              "                    Your browser does not support the audio element.\n",
              "                </audio>\n",
              "              "
            ]
          },
          "metadata": {}
        },
        {
          "output_type": "display_data",
          "data": {
            "text/plain": [
              "<Figure size 640x480 with 1 Axes>"
            ],
            "image/png": "[encoded data removed]"
          },
          "metadata": {}
        }
      ]
    }
  ]
}