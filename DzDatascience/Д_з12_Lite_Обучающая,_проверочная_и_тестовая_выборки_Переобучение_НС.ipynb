{
  "nbformat": 4,
  "nbformat_minor": 0,
  "metadata": {
    "colab": {
      "provenance": [],
      "authorship_tag": "ABX9TyPlOHtgsGZ/N9Im+GAoNDIG",
      "include_colab_link": true
    },
    "kernelspec": {
      "name": "python3",
      "display_name": "Python 3"
    },
    "language_info": {
      "name": "python"
    }
  },
  "cells": [
    {
      "cell_type": "markdown",
      "metadata": {
        "id": "view-in-github",
        "colab_type": "text"
      },
      "source": [
        "<a href=\"https://colab.research.google.com/github/DmitrijLeontev/Dmitrij_Leontev/blob/main/DzDatascience/%D0%94_%D0%B712_Lite_%D0%9E%D0%B1%D1%83%D1%87%D0%B0%D1%8E%D1%89%D0%B0%D1%8F%2C_%D0%BF%D1%80%D0%BE%D0%B2%D0%B5%D1%80%D0%BE%D1%87%D0%BD%D0%B0%D1%8F_%D0%B8_%D1%82%D0%B5%D1%81%D1%82%D0%BE%D0%B2%D0%B0%D1%8F_%D0%B2%D1%8B%D0%B1%D0%BE%D1%80%D0%BA%D0%B8_%D0%9F%D0%B5%D1%80%D0%B5%D0%BE%D0%B1%D1%83%D1%87%D0%B5%D0%BD%D0%B8%D0%B5_%D0%9D%D0%A1.ipynb\" target=\"_parent\"><img src=\"https://colab.research.google.com/assets/colab-badge.svg\" alt=\"Open In Colab\"/></a>"
      ]
    },
    {
      "cell_type": "markdown",
      "source": [
        "Используя шаблон ноутбука для распознавания видов одежды и аксессуаров из набора fashion_mnist, выполните следующие действия:\n",
        "\n",
        "Создайте 9 моделей нейронной сети с различными архитектурами и сравните в них значения точности на проверочной выборке (на последней эпохе) и на тестовой выборке. Используйте следующее деление: обучающая выборка - 50000 примеров, проверочная выборка - 10000 примеров, тестовая выборка - 10000 примеров.\n",
        "\n",
        "Создайте сравнительную таблицу в конце ноутбука, напишите свои выводы по результатам проведенных тестов."
      ],
      "metadata": {
        "id": "dXamx8TPvjWJ"
      }
    },
    {
      "cell_type": "markdown",
      "source": [
        "**Шаблон ноутбука**"
      ],
      "metadata": {
        "id": "BSaxrjpkv0Xp"
      }
    },
    {
      "cell_type": "markdown",
      "source": [
        "**Импорт библиотек**"
      ],
      "metadata": {
        "id": "QyOEt6kVv_Pc"
      }
    },
    {
      "cell_type": "code",
      "source": [
        "# Последовательная модель НС\n",
        "from tensorflow.keras.models import Sequential\n",
        "\n",
        "# Основные слои\n",
        "from tensorflow.keras.layers import Dense, Activation, Dropout, BatchNormalization\n",
        "\n",
        "# Утилиты для to_categorical()\n",
        "from tensorflow.keras import utils\n",
        "\n",
        "# Алгоритмы оптимизации для обучения модели\n",
        "from tensorflow.keras.optimizers import Adam, Adadelta\n",
        "\n",
        "# Библиотека для работы с массивами\n",
        "import numpy as np\n",
        "\n",
        "# Библиотека для работы с таблицами\n",
        "import pandas as pd\n",
        "\n",
        "# Отрисовка графиков\n",
        "import matplotlib.pyplot as plt\n",
        "\n",
        "# Связь с google-диском\n",
        "from google.colab import files\n",
        "\n",
        "# Предварительная обработка данных\n",
        "from sklearn import preprocessing\n",
        "\n",
        "# Разделение данных на выборки\n",
        "from sklearn.model_selection import train_test_split\n",
        "\n",
        "# Для загрузки датасета\n",
        "from keras.datasets import fashion_mnist\n",
        "\n",
        "# Отрисовывать изображения в ноутбуке, а не в консоль или файл\n",
        "%matplotlib inline"
      ],
      "metadata": {
        "id": "qKaxeGG6wDOi"
      },
      "execution_count": null,
      "outputs": []
    },
    {
      "cell_type": "markdown",
      "source": [
        "**Описание базы**"
      ],
      "metadata": {
        "id": "fnTot2mhwZiM"
      }
    },
    {
      "cell_type": "markdown",
      "source": [
        "База: одежда, обувь и аксессуары\n",
        "Датасет состоит из набора изображений одежды, обуви, аксессуаров и их классов.\n",
        "\n",
        "Изображения одного вида хранятся в numpy-массиве (28, 28) - x_train, x_test.\n",
        "База содержит 10 классов: (Футболка, Брюки, Пуловер, Платье, Пальто, Сандалии/Босоножки, Рубашка, Кроссовки, Сумочка, Ботильоны) - y_train, y_test.\n",
        "\n",
        "Примеров: train - 60000, test - 10000."
      ],
      "metadata": {
        "id": "F-SQcjdFwe7K"
      }
    },
    {
      "cell_type": "markdown",
      "source": [
        "**Вывод примеров**"
      ],
      "metadata": {
        "id": "EWPwS8BewyWh"
      }
    },
    {
      "cell_type": "code",
      "source": [
        "# Загрузка датасета\n",
        "(x_train, y_train), (x_test, y_test) = fashion_mnist.load_data()\n",
        "x_train, x_val, y_train, y_val = train_test_split(x_train, y_train, shuffle=True,test_size=0.16666)\n",
        "\n",
        "# Вывод размерностей выборок\n",
        "\n",
        "print('Размер x_train:',x_train.shape)\n",
        "print('Размер y_train:',y_train.shape)\n",
        "print('Размер x_test:',x_test.shape)\n",
        "print('Размер y_test:',y_test.shape)\n",
        "print('Размер x_val:',x_val.shape)\n",
        "print('Размер y_val:',y_val.shape)"
      ],
      "metadata": {
        "colab": {
          "base_uri": "https://localhost:8080/"
        },
        "id": "1GzH051r83Rd",
        "outputId": "83e0ea6e-68cd-4434-d6c2-6831aae43b62"
      },
      "execution_count": null,
      "outputs": [
        {
          "output_type": "stream",
          "name": "stdout",
          "text": [
            "Размер x_train: (50000, 28, 28)\n",
            "Размер y_train: (50000,)\n",
            "Размер x_test: (10000, 28, 28)\n",
            "Размер y_test: (10000,)\n",
            "Размер x_val: (10000, 28, 28)\n",
            "Размер y_val: (10000,)\n"
          ]
        }
      ]
    },
    {
      "cell_type": "code",
      "source": [
        "# Выбор 1 изображения каждого класса\n",
        "imgs = np.array([x_train[y_train==i][0] for i in range(10)])\n",
        "\n",
        "# Соединение изображения в одну линию\n",
        "imgs = np.concatenate(imgs, axis=1)\n",
        "\n",
        "# Создание поля для изображения\n",
        "plt.figure(figsize=(30, 6))\n",
        "\n",
        "# Отрисовка итогового изображения\n",
        "plt.imshow(imgs, cmap='Greys_r')\n",
        "\n",
        "# Без сетки\n",
        "plt.grid(False)\n",
        "\n",
        "# Без осей\n",
        "plt.axis('off')\n",
        "\n",
        "# Вывод результата\n",
        "plt.show()"
      ],
      "metadata": {
        "colab": {
          "base_uri": "https://localhost:8080/",
          "height": 151
        },
        "id": "MZe--Wgr9ODu",
        "outputId": "2ca7f5a5-5559-4cfa-b779-57d70b2ba492"
      },
      "execution_count": null,
      "outputs": [
        {
          "output_type": "display_data",
          "data": {
            "text/plain": [
              "<Figure size 3000x600 with 1 Axes>"
            ],
            "image/png": "[encoded data removed]"
          },
          "metadata": {}
        }
      ]
    },
    {
      "cell_type": "markdown",
      "source": [
        "**Решение:**"
      ],
      "metadata": {
        "id": "tMQmXalqxLjz"
      }
    },
    {
      "cell_type": "markdown",
      "source": [
        "**Подготовка данных**"
      ],
      "metadata": {
        "id": "x7mK3tM-7TqA"
      }
    },
    {
      "cell_type": "code",
      "source": [
        "# Изменение формы входных картинок с 28х28 на 784х1\n",
        "print('Размерность ДО   ', x_train.shape)\n",
        "x_train = x_train.reshape(-1, 784)\n",
        "x_test = x_test.reshape(-1, 784)\n",
        "x_val = x_val.reshape(-1, 784)\n",
        "print('Размерность ПОСЛЕ', x_train.shape)\n",
        "\n",
        "# Нормализация, из диапазона 1-255 в 0-1\n",
        "x_train= x_train/255.\n",
        "x_test= x_test/255.\n",
        "x_val= x_val/255.\n",
        "\n",
        "# Преобразование данных в формат one_hot_encoding\n",
        "y_train = utils.to_categorical(y_train, 10)\n",
        "y_test = utils.to_categorical(y_test, 10)\n",
        "y_val = utils.to_categorical(y_val, 10)"
      ],
      "metadata": {
        "colab": {
          "base_uri": "https://localhost:8080/"
        },
        "id": "zE0_Vq4z9cp1",
        "outputId": "3b0bb019-bbce-4ee6-a81c-2fd5a6b85b0e"
      },
      "execution_count": null,
      "outputs": [
        {
          "output_type": "stream",
          "name": "stdout",
          "text": [
            "Размерность ДО    (50000, 28, 28)\n",
            "Размерность ПОСЛЕ (50000, 784)\n"
          ]
        }
      ]
    },
    {
      "cell_type": "markdown",
      "source": [
        "**Создание и обучение модели**"
      ],
      "metadata": {
        "id": "nLIwGsWb9kS7"
      }
    },
    {
      "cell_type": "markdown",
      "source": [
        "Составим списки гиперпараметров которые будем изменять в процессе обучения:"
      ],
      "metadata": {
        "id": "dAR3YnpW9viI"
      }
    },
    {
      "cell_type": "code",
      "source": [
        "dense_1 = [200, 400, 600] # кол-во нейронов во входном слое\n",
        "drop_1  = [0.1, 0.2, 0.4] # доля отключаемых нейронов\n",
        "\n",
        "parameters = []"
      ],
      "metadata": {
        "id": "I2EkRBO99nSg"
      },
      "execution_count": null,
      "outputs": []
    },
    {
      "cell_type": "code",
      "source": [
        "for i in dense_1:\n",
        "\n",
        "    for k in drop_1:\n",
        "\n",
        "      print('Параметры модели:', i, k)\n",
        "\n",
        "      # Создание последовательной модели\n",
        "      model = Sequential()\n",
        "\n",
        "      model.add(Dense(i, input_dim=784, activation=\"relu\")) # Добавление полносвязного слоя на 500 нейронов с relu-активацией\n",
        "      model.add(Dense(100, activation=\"relu\")) # Добавление полносвязного слоя на 200 нейронов с relu-активацией\n",
        "      model.add(Dropout(k))\n",
        "      model.add(Dense(10, activation=\"softmax\")) # Добавление полносвязного слоя на 10 нейронов с softmax-активацией\n",
        "\n",
        "      # Компиляция модели\n",
        "      model.compile(loss=\"categorical_crossentropy\",\n",
        "                    optimizer=\"adam\",\n",
        "                    metrics=[\"accuracy\"])\n",
        "\n",
        "      # Обучение модели\n",
        "      model.fit(x_train, # обучающая выборка экземпляры класса\n",
        "                y_train,  # обучающая выборка метки класса\n",
        "                batch_size=128,  # размер батча\n",
        "                epochs=10,  # количество эпох\n",
        "                verbose=1, # 0 - не показывать ход обучения, 1 - показывать\n",
        "                validation_data=(x_val, y_val)\n",
        "                )\n",
        "\n",
        "      ev_list = model.evaluate(x_test, y_test)\n",
        "      print('Точность на тестовой выборке:', ev_list[1] )\n",
        "\n",
        "      parameters.append(('Параметры модели:', i, k, ev_list[1]))\n",
        "\n",
        "\n",
        "print(parameters)"
      ],
      "metadata": {
        "colab": {
          "base_uri": "https://localhost:8080/"
        },
        "id": "z98xJHCz97Jk",
        "outputId": "f44897f7-47f4-4d96-ed2e-f3ae14c46a22"
      },
      "execution_count": null,
      "outputs": [
        {
          "output_type": "stream",
          "name": "stdout",
          "text": [
            "Параметры модели: 200 0.1\n",
            "Epoch 1/10\n",
            "391/391 [==============================] - 5s 9ms/step - loss: 0.5718 - accuracy: 0.8014 - val_loss: 0.3974 - val_accuracy: 0.8604\n",
            "Epoch 2/10\n",
            "391/391 [==============================] - 4s 12ms/step - loss: 0.3922 - accuracy: 0.8568 - val_loss: 0.3838 - val_accuracy: 0.8609\n",
            "Epoch 3/10\n",
            "391/391 [==============================] - 3s 8ms/step - loss: 0.3563 - accuracy: 0.8706 - val_loss: 0.3344 - val_accuracy: 0.8832\n",
            "Epoch 4/10\n",
            "391/391 [==============================] - 3s 9ms/step - loss: 0.3248 - accuracy: 0.8814 - val_loss: 0.3107 - val_accuracy: 0.8873\n",
            "Epoch 5/10\n",
            "391/391 [==============================] - 4s 10ms/step - loss: 0.3064 - accuracy: 0.8887 - val_loss: 0.3237 - val_accuracy: 0.8836\n",
            "Epoch 6/10\n",
            "391/391 [==============================] - 4s 10ms/step - loss: 0.2881 - accuracy: 0.8929 - val_loss: 0.3176 - val_accuracy: 0.8870\n",
            "Epoch 7/10\n",
            "391/391 [==============================] - 3s 8ms/step - loss: 0.2749 - accuracy: 0.8993 - val_loss: 0.3156 - val_accuracy: 0.8847\n",
            "Epoch 8/10\n",
            "391/391 [==============================] - 3s 8ms/step - loss: 0.2650 - accuracy: 0.9011 - val_loss: 0.3037 - val_accuracy: 0.8912\n",
            "Epoch 9/10\n",
            "391/391 [==============================] - 4s 11ms/step - loss: 0.2529 - accuracy: 0.9060 - val_loss: 0.3189 - val_accuracy: 0.8808\n",
            "Epoch 10/10\n",
            "391/391 [==============================] - 3s 9ms/step - loss: 0.2434 - accuracy: 0.9094 - val_loss: 0.2887 - val_accuracy: 0.8963\n",
            "313/313 [==============================] - 1s 2ms/step - loss: 0.3286 - accuracy: 0.8855\n",
            "Точность на тестовой выборке: 0.8855000138282776\n",
            "Параметры модели: 200 0.2\n",
            "Epoch 1/10\n",
            "391/391 [==============================] - 5s 12ms/step - loss: 0.5926 - accuracy: 0.7924 - val_loss: 0.4005 - val_accuracy: 0.8575\n",
            "Epoch 2/10\n",
            "391/391 [==============================] - 4s 10ms/step - loss: 0.4023 - accuracy: 0.8546 - val_loss: 0.3545 - val_accuracy: 0.8715\n",
            "Epoch 3/10\n",
            "391/391 [==============================] - 4s 9ms/step - loss: 0.3603 - accuracy: 0.8696 - val_loss: 0.3299 - val_accuracy: 0.8812\n",
            "Epoch 4/10\n",
            "391/391 [==============================] - 4s 11ms/step - loss: 0.3308 - accuracy: 0.8792 - val_loss: 0.3161 - val_accuracy: 0.8883\n",
            "Epoch 5/10\n",
            "391/391 [==============================] - 3s 9ms/step - loss: 0.3125 - accuracy: 0.8851 - val_loss: 0.3225 - val_accuracy: 0.8876\n",
            "Epoch 6/10\n",
            "391/391 [==============================] - 3s 8ms/step - loss: 0.2948 - accuracy: 0.8915 - val_loss: 0.3111 - val_accuracy: 0.8878\n",
            "Epoch 7/10\n",
            "391/391 [==============================] - 3s 8ms/step - loss: 0.2850 - accuracy: 0.8942 - val_loss: 0.3132 - val_accuracy: 0.8854\n",
            "Epoch 8/10\n",
            "391/391 [==============================] - 4s 11ms/step - loss: 0.2727 - accuracy: 0.8982 - val_loss: 0.3015 - val_accuracy: 0.8918\n",
            "Epoch 9/10\n",
            "391/391 [==============================] - 3s 9ms/step - loss: 0.2622 - accuracy: 0.9031 - val_loss: 0.3007 - val_accuracy: 0.8941\n",
            "Epoch 10/10\n",
            "391/391 [==============================] - 3s 9ms/step - loss: 0.2535 - accuracy: 0.9047 - val_loss: 0.2982 - val_accuracy: 0.8941\n",
            "313/313 [==============================] - 1s 3ms/step - loss: 0.3371 - accuracy: 0.8834\n",
            "Точность на тестовой выборке: 0.883400022983551\n",
            "Параметры модели: 200 0.4\n",
            "Epoch 1/10\n",
            "391/391 [==============================] - 4s 9ms/step - loss: 0.6390 - accuracy: 0.7741 - val_loss: 0.4173 - val_accuracy: 0.8525\n",
            "Epoch 2/10\n",
            "391/391 [==============================] - 3s 9ms/step - loss: 0.4292 - accuracy: 0.8475 - val_loss: 0.3682 - val_accuracy: 0.8683\n",
            "Epoch 3/10\n",
            "391/391 [==============================] - 4s 10ms/step - loss: 0.3811 - accuracy: 0.8633 - val_loss: 0.3433 - val_accuracy: 0.8784\n",
            "Epoch 4/10\n",
            "391/391 [==============================] - 4s 9ms/step - loss: 0.3560 - accuracy: 0.8717 - val_loss: 0.3409 - val_accuracy: 0.8789\n",
            "Epoch 5/10\n",
            "391/391 [==============================] - 3s 9ms/step - loss: 0.3408 - accuracy: 0.8766 - val_loss: 0.3243 - val_accuracy: 0.8845\n",
            "Epoch 6/10\n",
            "391/391 [==============================] - 3s 8ms/step - loss: 0.3211 - accuracy: 0.8825 - val_loss: 0.3303 - val_accuracy: 0.8847\n",
            "Epoch 7/10\n",
            "391/391 [==============================] - 4s 11ms/step - loss: 0.3094 - accuracy: 0.8861 - val_loss: 0.3112 - val_accuracy: 0.8893\n",
            "Epoch 8/10\n",
            "391/391 [==============================] - 3s 9ms/step - loss: 0.2953 - accuracy: 0.8920 - val_loss: 0.3097 - val_accuracy: 0.8880\n",
            "Epoch 9/10\n",
            "391/391 [==============================] - 3s 9ms/step - loss: 0.2872 - accuracy: 0.8943 - val_loss: 0.3095 - val_accuracy: 0.8870\n",
            "Epoch 10/10\n",
            "391/391 [==============================] - 4s 10ms/step - loss: 0.2781 - accuracy: 0.8977 - val_loss: 0.3059 - val_accuracy: 0.8938\n",
            "313/313 [==============================] - 1s 4ms/step - loss: 0.3438 - accuracy: 0.8772\n",
            "Точность на тестовой выборке: 0.8772000074386597\n",
            "Параметры модели: 400 0.1\n",
            "Epoch 1/10\n",
            "391/391 [==============================] - 6s 12ms/step - loss: 0.5426 - accuracy: 0.8070 - val_loss: 0.3938 - val_accuracy: 0.8590\n",
            "Epoch 2/10\n",
            "391/391 [==============================] - 5s 13ms/step - loss: 0.3831 - accuracy: 0.8603 - val_loss: 0.3748 - val_accuracy: 0.8629\n",
            "Epoch 3/10\n",
            "391/391 [==============================] - 6s 14ms/step - loss: 0.3467 - accuracy: 0.8729 - val_loss: 0.3297 - val_accuracy: 0.8822\n",
            "Epoch 4/10\n",
            "391/391 [==============================] - 5s 12ms/step - loss: 0.3170 - accuracy: 0.8832 - val_loss: 0.3455 - val_accuracy: 0.8750\n",
            "Epoch 5/10\n",
            "391/391 [==============================] - 6s 14ms/step - loss: 0.3017 - accuracy: 0.8880 - val_loss: 0.3099 - val_accuracy: 0.8893\n",
            "Epoch 6/10\n",
            "391/391 [==============================] - 5s 13ms/step - loss: 0.2846 - accuracy: 0.8951 - val_loss: 0.2982 - val_accuracy: 0.8921\n",
            "Epoch 7/10\n",
            "391/391 [==============================] - 5s 13ms/step - loss: 0.2691 - accuracy: 0.8992 - val_loss: 0.2943 - val_accuracy: 0.8944\n",
            "Epoch 8/10\n",
            "391/391 [==============================] - 5s 14ms/step - loss: 0.2564 - accuracy: 0.9038 - val_loss: 0.2902 - val_accuracy: 0.8964\n",
            "Epoch 9/10\n",
            "391/391 [==============================] - 5s 12ms/step - loss: 0.2471 - accuracy: 0.9067 - val_loss: 0.3107 - val_accuracy: 0.8884\n",
            "Epoch 10/10\n",
            "391/391 [==============================] - 6s 15ms/step - loss: 0.2410 - accuracy: 0.9092 - val_loss: 0.3043 - val_accuracy: 0.8944\n",
            "313/313 [==============================] - 1s 3ms/step - loss: 0.3477 - accuracy: 0.8800\n",
            "Точность на тестовой выборке: 0.8799999952316284\n",
            "Параметры модели: 400 0.2\n",
            "Epoch 1/10\n",
            "391/391 [==============================] - 6s 13ms/step - loss: 0.5540 - accuracy: 0.8029 - val_loss: 0.4081 - val_accuracy: 0.8524\n",
            "Epoch 2/10\n",
            "391/391 [==============================] - 8s 20ms/step - loss: 0.3946 - accuracy: 0.8586 - val_loss: 0.3505 - val_accuracy: 0.8719\n",
            "Epoch 3/10\n",
            "391/391 [==============================] - 6s 14ms/step - loss: 0.3520 - accuracy: 0.8725 - val_loss: 0.3508 - val_accuracy: 0.8769\n",
            "Epoch 4/10\n",
            "391/391 [==============================] - 6s 15ms/step - loss: 0.3279 - accuracy: 0.8796 - val_loss: 0.3225 - val_accuracy: 0.8836\n",
            "Epoch 5/10\n",
            "391/391 [==============================] - 5s 12ms/step - loss: 0.3086 - accuracy: 0.8856 - val_loss: 0.3097 - val_accuracy: 0.8897\n",
            "Epoch 6/10\n",
            "391/391 [==============================] - 5s 12ms/step - loss: 0.2909 - accuracy: 0.8920 - val_loss: 0.3261 - val_accuracy: 0.8802\n",
            "Epoch 7/10\n",
            "391/391 [==============================] - 6s 14ms/step - loss: 0.2780 - accuracy: 0.8965 - val_loss: 0.3092 - val_accuracy: 0.8866\n",
            "Epoch 8/10\n",
            "391/391 [==============================] - 5s 12ms/step - loss: 0.2683 - accuracy: 0.8993 - val_loss: 0.2878 - val_accuracy: 0.8987\n",
            "Epoch 9/10\n",
            "391/391 [==============================] - 5s 14ms/step - loss: 0.2552 - accuracy: 0.9040 - val_loss: 0.2991 - val_accuracy: 0.8920\n",
            "Epoch 10/10\n",
            "391/391 [==============================] - 5s 12ms/step - loss: 0.2483 - accuracy: 0.9079 - val_loss: 0.2949 - val_accuracy: 0.8934\n",
            "313/313 [==============================] - 1s 3ms/step - loss: 0.3227 - accuracy: 0.8850\n",
            "Точность на тестовой выборке: 0.8849999904632568\n",
            "Параметры модели: 400 0.4\n",
            "Epoch 1/10\n",
            "391/391 [==============================] - 7s 15ms/step - loss: 0.6163 - accuracy: 0.7856 - val_loss: 0.4226 - val_accuracy: 0.8447\n",
            "Epoch 2/10\n",
            "391/391 [==============================] - 5s 12ms/step - loss: 0.4259 - accuracy: 0.8480 - val_loss: 0.3651 - val_accuracy: 0.8672\n",
            "Epoch 3/10\n",
            "391/391 [==============================] - 6s 15ms/step - loss: 0.3830 - accuracy: 0.8621 - val_loss: 0.3477 - val_accuracy: 0.8749\n",
            "Epoch 4/10\n",
            "391/391 [==============================] - 5s 13ms/step - loss: 0.3499 - accuracy: 0.8726 - val_loss: 0.3230 - val_accuracy: 0.8832\n",
            "Epoch 5/10\n",
            "391/391 [==============================] - 5s 13ms/step - loss: 0.3297 - accuracy: 0.8815 - val_loss: 0.3343 - val_accuracy: 0.8782\n",
            "Epoch 6/10\n",
            "391/391 [==============================] - 6s 14ms/step - loss: 0.3149 - accuracy: 0.8854 - val_loss: 0.3102 - val_accuracy: 0.8876\n",
            "Epoch 7/10\n",
            "391/391 [==============================] - 5s 12ms/step - loss: 0.3038 - accuracy: 0.8894 - val_loss: 0.3046 - val_accuracy: 0.8925\n",
            "Epoch 8/10\n",
            "391/391 [==============================] - 6s 14ms/step - loss: 0.2858 - accuracy: 0.8941 - val_loss: 0.2899 - val_accuracy: 0.8956\n",
            "Epoch 9/10\n",
            "391/391 [==============================] - 5s 12ms/step - loss: 0.2771 - accuracy: 0.8973 - val_loss: 0.2950 - val_accuracy: 0.8940\n",
            "Epoch 10/10\n",
            "391/391 [==============================] - 5s 12ms/step - loss: 0.2667 - accuracy: 0.9014 - val_loss: 0.2972 - val_accuracy: 0.8927\n",
            "313/313 [==============================] - 1s 4ms/step - loss: 0.3351 - accuracy: 0.8829\n",
            "Точность на тестовой выборке: 0.8828999996185303\n",
            "Параметры модели: 600 0.1\n",
            "Epoch 1/10\n",
            "391/391 [==============================] - 7s 16ms/step - loss: 0.5329 - accuracy: 0.8100 - val_loss: 0.4195 - val_accuracy: 0.8513\n",
            "Epoch 2/10\n",
            "391/391 [==============================] - 7s 19ms/step - loss: 0.3839 - accuracy: 0.8606 - val_loss: 0.3480 - val_accuracy: 0.8706\n",
            "Epoch 3/10\n",
            "391/391 [==============================] - 6s 16ms/step - loss: 0.3426 - accuracy: 0.8743 - val_loss: 0.3240 - val_accuracy: 0.8833\n",
            "Epoch 4/10\n",
            "391/391 [==============================] - 7s 19ms/step - loss: 0.3169 - accuracy: 0.8834 - val_loss: 0.3261 - val_accuracy: 0.8816\n",
            "Epoch 5/10\n",
            "391/391 [==============================] - 6s 15ms/step - loss: 0.2964 - accuracy: 0.8903 - val_loss: 0.3234 - val_accuracy: 0.8817\n",
            "Epoch 6/10\n",
            "391/391 [==============================] - 7s 18ms/step - loss: 0.2816 - accuracy: 0.8951 - val_loss: 0.3094 - val_accuracy: 0.8896\n",
            "Epoch 7/10\n",
            "391/391 [==============================] - 6s 15ms/step - loss: 0.2661 - accuracy: 0.9014 - val_loss: 0.3101 - val_accuracy: 0.8877\n",
            "Epoch 8/10\n",
            "391/391 [==============================] - 7s 19ms/step - loss: 0.2580 - accuracy: 0.9040 - val_loss: 0.2865 - val_accuracy: 0.8984\n",
            "Epoch 9/10\n",
            "391/391 [==============================] - 6s 16ms/step - loss: 0.2466 - accuracy: 0.9071 - val_loss: 0.2904 - val_accuracy: 0.8969\n",
            "Epoch 10/10\n",
            "391/391 [==============================] - 7s 18ms/step - loss: 0.2365 - accuracy: 0.9110 - val_loss: 0.2919 - val_accuracy: 0.8977\n",
            "313/313 [==============================] - 1s 4ms/step - loss: 0.3215 - accuracy: 0.8897\n",
            "Точность на тестовой выборке: 0.8896999955177307\n",
            "Параметры модели: 600 0.2\n",
            "Epoch 1/10\n",
            "391/391 [==============================] - 8s 18ms/step - loss: 0.5548 - accuracy: 0.8019 - val_loss: 0.4205 - val_accuracy: 0.8458\n",
            "Epoch 2/10\n",
            "391/391 [==============================] - 6s 16ms/step - loss: 0.3901 - accuracy: 0.8579 - val_loss: 0.3611 - val_accuracy: 0.8704\n",
            "Epoch 3/10\n",
            "391/391 [==============================] - 7s 18ms/step - loss: 0.3473 - accuracy: 0.8732 - val_loss: 0.3386 - val_accuracy: 0.8785\n",
            "Epoch 4/10\n",
            "391/391 [==============================] - 6s 16ms/step - loss: 0.3206 - accuracy: 0.8820 - val_loss: 0.3258 - val_accuracy: 0.8817\n",
            "Epoch 5/10\n",
            "391/391 [==============================] - 7s 19ms/step - loss: 0.3043 - accuracy: 0.8867 - val_loss: 0.3131 - val_accuracy: 0.8873\n",
            "Epoch 6/10\n",
            "391/391 [==============================] - 6s 16ms/step - loss: 0.2905 - accuracy: 0.8926 - val_loss: 0.3050 - val_accuracy: 0.8935\n",
            "Epoch 7/10\n",
            "391/391 [==============================] - 7s 18ms/step - loss: 0.2732 - accuracy: 0.8982 - val_loss: 0.3024 - val_accuracy: 0.8923\n",
            "Epoch 8/10\n",
            "391/391 [==============================] - 6s 16ms/step - loss: 0.2616 - accuracy: 0.9032 - val_loss: 0.3194 - val_accuracy: 0.8918\n",
            "Epoch 9/10\n",
            "391/391 [==============================] - 7s 18ms/step - loss: 0.2547 - accuracy: 0.9036 - val_loss: 0.2984 - val_accuracy: 0.8937\n",
            "Epoch 10/10\n",
            "391/391 [==============================] - 6s 15ms/step - loss: 0.2440 - accuracy: 0.9081 - val_loss: 0.2966 - val_accuracy: 0.8954\n",
            "313/313 [==============================] - 2s 5ms/step - loss: 0.3250 - accuracy: 0.8820\n",
            "Точность на тестовой выборке: 0.8820000290870667\n",
            "Параметры модели: 600 0.4\n",
            "Epoch 1/10\n",
            "391/391 [==============================] - 7s 16ms/step - loss: 0.5991 - accuracy: 0.7880 - val_loss: 0.4172 - val_accuracy: 0.8451\n",
            "Epoch 2/10\n",
            "391/391 [==============================] - 7s 18ms/step - loss: 0.4181 - accuracy: 0.8509 - val_loss: 0.3984 - val_accuracy: 0.8478\n",
            "Epoch 3/10\n",
            "391/391 [==============================] - 6s 16ms/step - loss: 0.3772 - accuracy: 0.8638 - val_loss: 0.3542 - val_accuracy: 0.8761\n",
            "Epoch 4/10\n",
            "391/391 [==============================] - 7s 18ms/step - loss: 0.3471 - accuracy: 0.8748 - val_loss: 0.3184 - val_accuracy: 0.8845\n",
            "Epoch 5/10\n",
            "391/391 [==============================] - 6s 15ms/step - loss: 0.3255 - accuracy: 0.8813 - val_loss: 0.3297 - val_accuracy: 0.8810\n",
            "Epoch 6/10\n",
            "391/391 [==============================] - 7s 18ms/step - loss: 0.3101 - accuracy: 0.8881 - val_loss: 0.3294 - val_accuracy: 0.8810\n",
            "Epoch 7/10\n",
            "391/391 [==============================] - 6s 15ms/step - loss: 0.2967 - accuracy: 0.8900 - val_loss: 0.3033 - val_accuracy: 0.8919\n",
            "Epoch 8/10\n",
            "391/391 [==============================] - 7s 19ms/step - loss: 0.2836 - accuracy: 0.8952 - val_loss: 0.2911 - val_accuracy: 0.8930\n",
            "Epoch 9/10\n",
            "391/391 [==============================] - 6s 16ms/step - loss: 0.2742 - accuracy: 0.8993 - val_loss: 0.3046 - val_accuracy: 0.8892\n",
            "Epoch 10/10\n",
            "391/391 [==============================] - 7s 18ms/step - loss: 0.2650 - accuracy: 0.9020 - val_loss: 0.3030 - val_accuracy: 0.8914\n",
            "313/313 [==============================] - 1s 4ms/step - loss: 0.3391 - accuracy: 0.8797\n",
            "Точность на тестовой выборке: 0.8797000050544739\n",
            "[('Параметры модели:', 200, 0.1, 0.8855000138282776), ('Параметры модели:', 200, 0.2, 0.883400022983551), ('Параметры модели:', 200, 0.4, 0.8772000074386597), ('Параметры модели:', 400, 0.1, 0.8799999952316284), ('Параметры модели:', 400, 0.2, 0.8849999904632568), ('Параметры модели:', 400, 0.4, 0.8828999996185303), ('Параметры модели:', 600, 0.1, 0.8896999955177307), ('Параметры модели:', 600, 0.2, 0.8820000290870667), ('Параметры модели:', 600, 0.4, 0.8797000050544739)]\n"
          ]
        }
      ]
    },
    {
      "cell_type": "code",
      "source": [
        "for i in parameters:\n",
        "  print(i)"
      ],
      "metadata": {
        "colab": {
          "base_uri": "https://localhost:8080/"
        },
        "id": "N4v_v72xApiy",
        "outputId": "58cb57c2-3a90-4ffd-a99a-feb0cb5b2adf"
      },
      "execution_count": null,
      "outputs": [
        {
          "output_type": "stream",
          "name": "stdout",
          "text": [
            "('Параметры модели:', 200, 0.1, 0.8855000138282776)\n",
            "('Параметры модели:', 200, 0.2, 0.883400022983551)\n",
            "('Параметры модели:', 200, 0.4, 0.8772000074386597)\n",
            "('Параметры модели:', 400, 0.1, 0.8799999952316284)\n",
            "('Параметры модели:', 400, 0.2, 0.8849999904632568)\n",
            "('Параметры модели:', 400, 0.4, 0.8828999996185303)\n",
            "('Параметры модели:', 600, 0.1, 0.8896999955177307)\n",
            "('Параметры модели:', 600, 0.2, 0.8820000290870667)\n",
            "('Параметры модели:', 600, 0.4, 0.8797000050544739)\n"
          ]
        }
      ]
    },
    {
      "cell_type": "markdown",
      "source": [
        "Эксперименты показали, что при количестве нейронов 600 во входном слое и отключении 20% нейронов точность при данной архитектуре достигает ~ 0.888\n",
        "\n"
      ],
      "metadata": {
        "id": "hOlIeN3pBCdc"
      }
    },
    {
      "cell_type": "markdown",
      "source": [
        "**Тестирование модели**"
      ],
      "metadata": {
        "id": "Jxt6Lq1gBPwW"
      }
    },
    {
      "cell_type": "code",
      "source": [
        "# Предсказание тестовой выборки\n",
        "prediction = model.predict(x_test)\n",
        "\n",
        "# Предсказание на материале случайного изображения из базы\n",
        "n = np.random.randint(0, 100)\n",
        "print('Предсказание ', np.argmax(prediction[n]))\n",
        "print('Правильный ответ', np.argmax(y_test[n]))"
      ],
      "metadata": {
        "colab": {
          "base_uri": "https://localhost:8080/"
        },
        "id": "4OPAd6wxBGNq",
        "outputId": "c549bf41-444e-43bb-fc8d-9b2af92dd7e4"
      },
      "execution_count": null,
      "outputs": [
        {
          "output_type": "stream",
          "name": "stdout",
          "text": [
            "313/313 [==============================] - 1s 3ms/step\n",
            "Предсказание  4\n",
            "Правильный ответ 4\n"
          ]
        }
      ]
    }
  ]
}