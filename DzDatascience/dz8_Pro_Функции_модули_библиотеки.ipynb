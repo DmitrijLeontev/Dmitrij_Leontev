{
  "nbformat": 4,
  "nbformat_minor": 0,
  "metadata": {
    "colab": {
      "provenance": [],
      "authorship_tag": "ABX9TyPeL2K6M9uoKtqaBFkaFlD3",
      "include_colab_link": true
    },
    "kernelspec": {
      "name": "python3",
      "display_name": "Python 3"
    },
    "language_info": {
      "name": "python"
    }
  },
  "cells": [
    {
      "cell_type": "markdown",
      "metadata": {
        "id": "view-in-github",
        "colab_type": "text"
      },
      "source": [
        "<a href=\"https://colab.research.google.com/github/DmitrijLeontev/Dmitrij_Leontev/blob/main/DzDatascience/dz8_Pro_%D0%A4%D1%83%D0%BD%D0%BA%D1%86%D0%B8%D0%B8_%D0%BC%D0%BE%D0%B4%D1%83%D0%BB%D0%B8_%D0%B1%D0%B8%D0%B1%D0%BB%D0%B8%D0%BE%D1%82%D0%B5%D0%BA%D0%B8.ipynb\" target=\"_parent\"><img src=\"https://colab.research.google.com/assets/colab-badge.svg\" alt=\"Open In Colab\"/></a>"
      ]
    },
    {
      "cell_type": "code",
      "execution_count": null,
      "metadata": {
        "id": "LaUKEkI9Sl4z"
      },
      "outputs": [],
      "source": [
        "# Импорт модуля для генерации случайных чисел\n",
        "import random"
      ]
    },
    {
      "cell_type": "code",
      "source": [
        "# Генерация случайного числа на отрезке от 1 до 15\n",
        "number  =  random.randint(1, 15)"
      ],
      "metadata": {
        "id": "laN8jjoyyEVZ"
      },
      "execution_count": null,
      "outputs": []
    },
    {
      "cell_type": "code",
      "source": [
        "# Первое предложение пользователю\n",
        "user_input = int(input('Угадайте число: '))\n",
        "# Подключаем цикл, он будет работать пока пользователь не угадает число\n",
        "while  user_input !=  number:\n",
        "  # Если число пользователя меньше загаданного\n",
        "  if  user_input < number:\n",
        "    print('Введенное число меньше загаданного')\n",
        "  #В другом случае\n",
        "  else:  print('Введенное число больше загаданного')\n",
        "  # Повторное предложение\n",
        "  user_input =  int(input('Повторите попытку:'))\n",
        "print ('Поздравляем! Вы угадали! Хорошего Вам настроения!')"
      ],
      "metadata": {
        "id": "_yPDC6nRy8HG",
        "colab": {
          "base_uri": "https://localhost:8080/"
        },
        "outputId": "b978830f-6fb5-4ba4-c33d-6194fe56fa4f"
      },
      "execution_count": null,
      "outputs": [
        {
          "output_type": "stream",
          "name": "stdout",
          "text": [
            "Угадайте число: 2\n",
            "Введенное число меньше загаданного\n",
            "Повторите попытку:1\n",
            "Введенное число меньше загаданного\n",
            "Повторите попытку:5\n",
            "Введенное число меньше загаданного\n",
            "Повторите попытку:7\n",
            "Введенное число меньше загаданного\n",
            "Повторите попытку:10\n",
            "Введенное число меньше загаданного\n",
            "Повторите попытку:12\n",
            "Введенное число меньше загаданного\n",
            "Повторите попытку:14\n",
            "Введенное число больше загаданного\n",
            "Повторите попытку:13\n",
            "Поздравляем! Вы угадали! Хорошего Вам настроения!\n"
          ]
        }
      ]
    }
  ]
}