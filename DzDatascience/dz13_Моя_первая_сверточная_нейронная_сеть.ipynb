{
  "nbformat": 4,
  "nbformat_minor": 0,
  "metadata": {
    "colab": {
      "provenance": [],
      "authorship_tag": "ABX9TyN//+SrrhjBDninv/Qe7MBy",
      "include_colab_link": true
    },
    "kernelspec": {
      "name": "python3",
      "display_name": "Python 3"
    },
    "language_info": {
      "name": "python"
    }
  },
  "cells": [
    {
      "cell_type": "markdown",
      "metadata": {
        "id": "view-in-github",
        "colab_type": "text"
      },
      "source": [
        "<a href=\"https://colab.research.google.com/github/DmitrijLeontev/Dmitrij_Leontev/blob/main/DzDatascience/dz13_%D0%9C%D0%BE%D1%8F_%D0%BF%D0%B5%D1%80%D0%B2%D0%B0%D1%8F_%D1%81%D0%B2%D0%B5%D1%80%D1%82%D0%BE%D1%87%D0%BD%D0%B0%D1%8F_%D0%BD%D0%B5%D0%B9%D1%80%D0%BE%D0%BD%D0%BD%D0%B0%D1%8F_%D1%81%D0%B5%D1%82%D1%8C.ipynb\" target=\"_parent\"><img src=\"https://colab.research.google.com/assets/colab-badge.svg\" alt=\"Open In Colab\"/></a>"
      ]
    },
    {
      "cell_type": "markdown",
      "source": [
        "Создание простой модели сверточной нейронной сети- Моя первая модель сверточной нейронной сети!!!"
      ],
      "metadata": {
        "id": "ZoaE8v6pOdzf"
      }
    },
    {
      "cell_type": "markdown",
      "source": [
        "Подключите основу – класс создания последовательной модели Sequential:"
      ],
      "metadata": {
        "id": "tRyWMHonOkX2"
      }
    },
    {
      "cell_type": "code",
      "execution_count": null,
      "metadata": {
        "id": "wACC7RqSOFuK"
      },
      "outputs": [],
      "source": [
        "from tensorflow.keras.models import Sequential"
      ]
    },
    {
      "cell_type": "markdown",
      "source": [
        "С помощью него создайте экземпляр вашей модели:"
      ],
      "metadata": {
        "id": "67H3XMfdVO9D"
      }
    },
    {
      "cell_type": "code",
      "source": [
        "model = Sequential()"
      ],
      "metadata": {
        "id": "VTfB5kVtVQK7"
      },
      "execution_count": null,
      "outputs": []
    },
    {
      "cell_type": "markdown",
      "source": [
        "Это и есть ваша модель! Сейчас она больше похожа на пустую коробку. Чтобы она что-то делала, нужно поместить в нее какой-нибудь механизм. Это не механизм в обычном смысле слова, потому что вы будете оперировать не предметами, а информацией – главным ресурсом XXI века. Механизм будет принимать на вход и выдавать на выход какие-то данные.\n",
        "\n",
        "Так из чего же вы можете создать механизм? Для начала определитесь, сколько информации вы будете давать нейросети на вход. Один экземпляр такой информации называется объектом. Не углубляйтесь пока, какими они бывают и как устроены. Сейчас достаточно знать, что объекты всегда состоят из чисел.\n",
        "\n",
        "Например, вы решили, что ваши объекты - изображения. Для подачи в нейросеть их надо оцифровать.\n",
        "\n",
        "У изображений есть высота img_height, ширина img_width и количество цветовых каналов channels.\n",
        "\n",
        "Их называют входной формой (или формой входных данных) и записывают как:\n",
        "\n",
        "input_shape=(img_height, img_width, channels)"
      ],
      "metadata": {
        "id": "WrQmUQ4dVgO6"
      }
    },
    {
      "cell_type": "markdown",
      "source": [
        "Важно: все изображения, которые вы подаете на вход нейронной сети, должны иметь общие высоту, ширину и количество каналов. Ниже вы узнаете, как это сделать.\n",
        "\n",
        "Добавьте в модель первый слой при помощи .add():"
      ],
      "metadata": {
        "id": "9vXFmrzKVt0T"
      }
    },
    {
      "cell_type": "code",
      "source": [
        "from tensorflow.keras.layers import Conv2D\n",
        "\n",
        "# Первый сверточный слой\n",
        "model.add(Conv2D(8, (3, 3), padding='same', activation='relu', input_shape=(28, 56, 3)))"
      ],
      "metadata": {
        "id": "KMcsxnRXVi77"
      },
      "execution_count": null,
      "outputs": []
    },
    {
      "cell_type": "markdown",
      "source": [
        "Расшифруем написанное выше: первый сверточный слой принимает на вход цветное изображение (3 канала) размерами 28 на 56 пикселей. То есть форма входящего массива - (28, 56, 3).\n",
        "\n",
        "Внутри слоя к нему применяется свертка 8-ю фильтрами (3, 3) с шагом смещения (1, 1), а затем функция активации relu.\n",
        "\n",
        "Какой формы получится выходной массив?\n",
        "\n",
        "Обратите внимание, что padding ='same', stride=(1,1) по умолчанию; вычислим pad = (size - 1) / 2 = (3-1) /2 = 1.\n",
        "\n",
        "Используем формулу:\n",
        "\n",
        "output_h = (input_h + 2 * pad - size) // stride + 1 = (28 + 2 * 1 - 3) // 1 + 1 = 27 + 1 = 28\n",
        "output_w = (input_w + 2 * pad - size) // stride + 1 = (56 + 2 * 1 - 3) // 1 + 1 = 55 + 1 = 56\n",
        "Как видите, при стандартном stride и padding ='same' длина и ширина входного и выходного массивов сверточного слоя равны. Но отличие все-таки будет - это глубина!\n",
        "\n",
        "На вход пришло 3 канала, а сверточный слой имеет 8 ядер свертки, каждое из которых выдает свою карту признаков, обработав любое количество каналов. Значит, глубина на выходе будет 8 вместо 3. Полная форма данных на выходе получится (28, 56, 8).\n",
        "\n",
        "Проверьте это методом модели .summary():"
      ],
      "metadata": {
        "id": "DRAQn1ReV06z"
      }
    },
    {
      "cell_type": "code",
      "source": [
        "model.summary()"
      ],
      "metadata": {
        "colab": {
          "base_uri": "https://localhost:8080/"
        },
        "id": "OaDil1f1V8rj",
        "outputId": "fee92ce7-5c96-4bce-ad59-673b53956314"
      },
      "execution_count": null,
      "outputs": [
        {
          "output_type": "stream",
          "name": "stdout",
          "text": [
            "Model: \"sequential\"\n",
            "_________________________________________________________________\n",
            " Layer (type)                Output Shape              Param #   \n",
            "=================================================================\n",
            " conv2d (Conv2D)             (None, 28, 56, 8)         224       \n",
            "                                                                 \n",
            "=================================================================\n",
            "Total params: 224 (896.00 Byte)\n",
            "Trainable params: 224 (896.00 Byte)\n",
            "Non-trainable params: 0 (0.00 Byte)\n",
            "_________________________________________________________________\n"
          ]
        }
      ]
    },
    {
      "cell_type": "markdown",
      "source": [
        "Отлично!\n",
        "\n",
        "Посмотрим, что будет, если добавить следующий сверточный слой c 5 фильтрами с ядром (3, 2), шагом смещения (2, 3) и padding ='valid':"
      ],
      "metadata": {
        "id": "TeX2onrVWFQS"
      }
    },
    {
      "cell_type": "code",
      "source": [
        "# Второй сверточный слой\n",
        "model.add(Conv2D(5, (3, 2), strides = (2,3), padding='valid', activation='relu'))"
      ],
      "metadata": {
        "id": "fBRe3S9SWGd9"
      },
      "execution_count": null,
      "outputs": []
    },
    {
      "cell_type": "markdown",
      "source": [
        "Если padding='valid', то по правилам pad = 0. Подставим значения:\n",
        "\n",
        "    output_h = (input_h + 2 * pad - size) // stride + 1 = (28 + 2 * 0 - 3) // 2 + 1 = 25 // 2 + 1 = 12 + 1 = 13\n",
        "    output_w = (input_w + 2 * pad - size) // stride + 1 = (56 + 2 * 0 - 2) // 3 + 1 = 54 // 3 + 1 = 18 + 1 = 19\n",
        "У вас 5 фильтров, значит форма данных на выходе получится (13, 19, 5).\n",
        "\n",
        "Проверьте:"
      ],
      "metadata": {
        "id": "kaTts4VmWLPa"
      }
    },
    {
      "cell_type": "code",
      "source": [
        "model.summary()"
      ],
      "metadata": {
        "colab": {
          "base_uri": "https://localhost:8080/"
        },
        "id": "w5ozBgU5WbWy",
        "outputId": "373f184f-235f-4883-9a9d-cfeba151d51d"
      },
      "execution_count": null,
      "outputs": [
        {
          "output_type": "stream",
          "name": "stdout",
          "text": [
            "Model: \"sequential\"\n",
            "_________________________________________________________________\n",
            " Layer (type)                Output Shape              Param #   \n",
            "=================================================================\n",
            " conv2d (Conv2D)             (None, 28, 56, 8)         224       \n",
            "                                                                 \n",
            " conv2d_1 (Conv2D)           (None, 13, 19, 5)         245       \n",
            "                                                                 \n",
            "=================================================================\n",
            "Total params: 469 (1.83 KB)\n",
            "Trainable params: 469 (1.83 KB)\n",
            "Non-trainable params: 0 (0.00 Byte)\n",
            "_________________________________________________________________\n"
          ]
        }
      ]
    },
    {
      "cell_type": "markdown",
      "source": [
        "Примените слой MaxPooling2D:"
      ],
      "metadata": {
        "id": "Sy4CU87VWkyD"
      }
    },
    {
      "cell_type": "code",
      "source": [
        "from tensorflow.keras.layers import MaxPooling2D\n",
        "\n",
        "# Слой подвыборки\n",
        "model.add(MaxPooling2D(pool_size=(3, 3)))"
      ],
      "metadata": {
        "id": "ixUxVASVWmVq"
      },
      "execution_count": null,
      "outputs": []
    },
    {
      "cell_type": "markdown",
      "source": [
        "MaxPooling2D изменит форму данных следующим образом (учитывая, что stride=pool_size):\n",
        "\n",
        " output_h = (input - pool_size) // strides + 1 = (13 - 3) // 3 + 1 = 4\n",
        " output_w = (input - pool_size) // strides + 1 = (19 - 3) // 3 + 1 = 6\n",
        "Глубина в MaxPooling2D не меняется, выходная форма данных (4, 6, 5).\n",
        "\n",
        "Проверьте:"
      ],
      "metadata": {
        "id": "9rZQ_32EWr0R"
      }
    },
    {
      "cell_type": "code",
      "source": [
        "model.summary()"
      ],
      "metadata": {
        "colab": {
          "base_uri": "https://localhost:8080/"
        },
        "id": "ECcVus-iWzJN",
        "outputId": "4d3f59a7-23d5-45d8-ecde-412e4fc517eb"
      },
      "execution_count": null,
      "outputs": [
        {
          "output_type": "stream",
          "name": "stdout",
          "text": [
            "Model: \"sequential\"\n",
            "_________________________________________________________________\n",
            " Layer (type)                Output Shape              Param #   \n",
            "=================================================================\n",
            " conv2d (Conv2D)             (None, 28, 56, 8)         224       \n",
            "                                                                 \n",
            " conv2d_1 (Conv2D)           (None, 13, 19, 5)         245       \n",
            "                                                                 \n",
            " max_pooling2d (MaxPooling2  (None, 4, 6, 5)           0         \n",
            " D)                                                              \n",
            "                                                                 \n",
            "=================================================================\n",
            "Total params: 469 (1.83 KB)\n",
            "Trainable params: 469 (1.83 KB)\n",
            "Non-trainable params: 0 (0.00 Byte)\n",
            "_________________________________________________________________\n"
          ]
        }
      ]
    },
    {
      "cell_type": "markdown",
      "source": [
        "Далее примените слой Flatten, который вытягивает входящий тензор в одномерный вектор. На входе слоя ожидается тензор (4, 6, 5), а на выходе будет вектор (4 * 6 * 5) = (120)"
      ],
      "metadata": {
        "id": "8wEepBN5W-TD"
      }
    },
    {
      "cell_type": "code",
      "source": [
        "from tensorflow.keras.layers import Flatten\n",
        "\n",
        "# Слой преобразования многомерных данных в одномерные\n",
        "model.add(Flatten())"
      ],
      "metadata": {
        "id": "01wW-P1NW_0a"
      },
      "execution_count": null,
      "outputs": []
    },
    {
      "cell_type": "code",
      "source": [
        "model.summary()"
      ],
      "metadata": {
        "colab": {
          "base_uri": "https://localhost:8080/"
        },
        "id": "E8ehcGBBXEdc",
        "outputId": "54d2598c-e312-4ed7-a647-387f37e1537d"
      },
      "execution_count": null,
      "outputs": [
        {
          "output_type": "stream",
          "name": "stdout",
          "text": [
            "Model: \"sequential\"\n",
            "_________________________________________________________________\n",
            " Layer (type)                Output Shape              Param #   \n",
            "=================================================================\n",
            " conv2d (Conv2D)             (None, 28, 56, 8)         224       \n",
            "                                                                 \n",
            " conv2d_1 (Conv2D)           (None, 13, 19, 5)         245       \n",
            "                                                                 \n",
            " max_pooling2d (MaxPooling2  (None, 4, 6, 5)           0         \n",
            " D)                                                              \n",
            "                                                                 \n",
            " flatten (Flatten)           (None, 120)               0         \n",
            "                                                                 \n",
            "=================================================================\n",
            "Total params: 469 (1.83 KB)\n",
            "Trainable params: 469 (1.83 KB)\n",
            "Non-trainable params: 0 (0.00 Byte)\n",
            "_________________________________________________________________\n"
          ]
        }
      ]
    },
    {
      "cell_type": "markdown",
      "source": [
        "Нужно обратить внимание, что размерность первых двух элементов тензора перед Flatten слоем (в этом случае, 4 х 6) не должна быть очень большая - можно добавлять слои Conv2D и MaxPooling2D пока эта размерность не станет равна 1 х 1. Например, если бы мы не добавили слой MaxPooling2D, эта размерность была бы равна 13 х 19, что бы было уже однозначно много.\n",
        "\n",
        "Если размерность, которая мы подаем в Flatten() слой слишком большая, следующий слой не сможет извлечь достаточно значемые признаки для правильной классификации, потому что на вход слоя приходят слишком много данных.\n",
        "\n",
        "Далее мы создадим последний, выходной слой Dense. Он получит на вход одномерный вектор (120), а на выходе выдаст одномерный вектор (3). Активационная функция softmax выдаст вероятности принадлежности входных данных к каждому из трех классов.\n",
        "\n",
        "Проверьте:"
      ],
      "metadata": {
        "id": "RIezimkaXOLK"
      }
    },
    {
      "cell_type": "code",
      "source": [
        "from tensorflow.keras.layers import Dense\n",
        "\n",
        "model.add(Dense(3, activation='softmax'))"
      ],
      "metadata": {
        "id": "e0P58NApXP9z"
      },
      "execution_count": null,
      "outputs": []
    },
    {
      "cell_type": "code",
      "source": [
        "model.summary()"
      ],
      "metadata": {
        "colab": {
          "base_uri": "https://localhost:8080/"
        },
        "id": "CbkqMQYSXWxj",
        "outputId": "86c8b21c-cca9-4ed8-e555-8d6b8306240f"
      },
      "execution_count": null,
      "outputs": [
        {
          "output_type": "stream",
          "name": "stdout",
          "text": [
            "Model: \"sequential\"\n",
            "_________________________________________________________________\n",
            " Layer (type)                Output Shape              Param #   \n",
            "=================================================================\n",
            " conv2d (Conv2D)             (None, 28, 56, 8)         224       \n",
            "                                                                 \n",
            " conv2d_1 (Conv2D)           (None, 13, 19, 5)         245       \n",
            "                                                                 \n",
            " max_pooling2d (MaxPooling2  (None, 4, 6, 5)           0         \n",
            " D)                                                              \n",
            "                                                                 \n",
            " flatten (Flatten)           (None, 120)               0         \n",
            "                                                                 \n",
            " dense (Dense)               (None, 3)                 363       \n",
            "                                                                 \n",
            "=================================================================\n",
            "Total params: 832 (3.25 KB)\n",
            "Trainable params: 832 (3.25 KB)\n",
            "Non-trainable params: 0 (0.00 Byte)\n",
            "_________________________________________________________________\n"
          ]
        }
      ]
    },
    {
      "cell_type": "markdown",
      "source": [
        "Вот вы и построили простую сверточную сеть. Теперь у вас есть небольшой опыт, который пригодится для построения более сложной сети, чтобы решить задачу классификации."
      ],
      "metadata": {
        "id": "3RyV1pW_XjMT"
      }
    },
    {
      "cell_type": "markdown",
      "source": [
        "https://colab.research.google.com/drive/1gvcOKclIUhie9WfKRr27fB9bJ1quDNVe?usp=sharing"
      ],
      "metadata": {
        "id": "aej2bAEqZVTd"
      }
    }
  ]
}