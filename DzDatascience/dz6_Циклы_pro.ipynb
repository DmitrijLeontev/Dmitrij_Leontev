{
  "nbformat": 4,
  "nbformat_minor": 0,
  "metadata": {
    "colab": {
      "provenance": [],
      "authorship_tag": "ABX9TyN7Doc9IQ+kGzmAtF8Irjer",
      "include_colab_link": true
    },
    "kernelspec": {
      "name": "python3",
      "display_name": "Python 3"
    },
    "language_info": {
      "name": "python"
    }
  },
  "cells": [
    {
      "cell_type": "markdown",
      "metadata": {
        "id": "view-in-github",
        "colab_type": "text"
      },
      "source": [
        "<a href=\"https://colab.research.google.com/github/DmitrijLeontev/Dmitrij_Leontev/blob/main/DzDatascience/dz6_%D0%A6%D0%B8%D0%BA%D0%BB%D1%8B_pro.ipynb\" target=\"_parent\"><img src=\"https://colab.research.google.com/assets/colab-badge.svg\" alt=\"Open In Colab\"/></a>"
      ]
    },
    {
      "cell_type": "code",
      "execution_count": 1,
      "metadata": {
        "id": "R-GXkLYuAAwk",
        "colab": {
          "base_uri": "https://localhost:8080/"
        },
        "outputId": "2fef353d-42e5-47cd-c2d2-f2b4f43a94e5"
      },
      "outputs": [
        {
          "output_type": "stream",
          "name": "stdout",
          "text": [
            "Машина заехала. Осталось 7 мест.\n",
            "Машина заехала. Осталось 6 мест.\n",
            "Машина заехала. Осталось 5 мест.\n",
            "Машина заехала. Осталось 4 мест.\n",
            "Машина заехала. Осталось 3 мест.\n",
            "Машина заехала. Осталось 2 мест.\n",
            "Машина заехала. Осталось 1 мест.\n",
            "Машина заехала. Осталось 0 мест.\n",
            "На парковке нет свободных мест\n"
          ]
        }
      ],
      "source": [
        "# Мое решение\n",
        "number_car = 8\n",
        "\n",
        "number_next = 1\n",
        "\n",
        "while number_car >= number_next:\n",
        "  number_car -= number_next\n",
        "  print(\"Машина заехала.\", \"Осталось\", number_car, \"мест.\")\n",
        "if number_car < 1:\n",
        "  print(\"На парковке нет свободных мест\")"
      ]
    }
  ]
}