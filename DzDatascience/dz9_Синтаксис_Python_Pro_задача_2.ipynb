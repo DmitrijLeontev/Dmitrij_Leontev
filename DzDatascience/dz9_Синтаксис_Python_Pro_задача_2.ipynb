{
  "nbformat": 4,
  "nbformat_minor": 0,
  "metadata": {
    "colab": {
      "provenance": [],
      "authorship_tag": "ABX9TyOW1UeOec/jjyP1F3G2Hj5X",
      "include_colab_link": true
    },
    "kernelspec": {
      "name": "python3",
      "display_name": "Python 3"
    },
    "language_info": {
      "name": "python"
    }
  },
  "cells": [
    {
      "cell_type": "markdown",
      "metadata": {
        "id": "view-in-github",
        "colab_type": "text"
      },
      "source": [
        "<a href=\"https://colab.research.google.com/github/DmitrijLeontev/Dmitrij_Leontev/blob/main/DzDatascience/dz9_%D0%A1%D0%B8%D0%BD%D1%82%D0%B0%D0%BA%D1%81%D0%B8%D1%81_Python_Pro_%D0%B7%D0%B0%D0%B4%D0%B0%D1%87%D0%B0_2.ipynb\" target=\"_parent\"><img src=\"https://colab.research.google.com/assets/colab-badge.svg\" alt=\"Open In Colab\"/></a>"
      ]
    },
    {
      "cell_type": "markdown",
      "source": [
        "Задача 2\n",
        "\n",
        "Напишите программу, которая ищет все числа в интервале от 300 до 430 включительно, делящиеся на 11, но не делящиеся на 5. Выведите на экран все найденные числа."
      ],
      "metadata": {
        "id": "HLji2Nlpvf_2"
      }
    },
    {
      "cell_type": "code",
      "execution_count": null,
      "metadata": {
        "colab": {
          "base_uri": "https://localhost:8080/"
        },
        "id": "pYNzGNLkYUax",
        "outputId": "f5090e77-247d-4f56-82f7-7e94a6a06e9b"
      },
      "outputs": [
        {
          "output_type": "stream",
          "name": "stdout",
          "text": [
            "308\n",
            "319\n",
            "341\n",
            "352\n",
            "363\n",
            "374\n",
            "396\n",
            "407\n",
            "418\n",
            "429\n"
          ]
        }
      ],
      "source": [
        "for i in range (300, 431): # Проходим в цикле по всем элементам от 300 до 430\n",
        "    if ((i % 11 == 0) and (i % 5 != 0)): # Проверяем,  если текущий элемент делится на 11 без остатка и не делится без остатка на 5, то\n",
        "        print (i)  # Выводим этот элемент"
      ]
    }
  ]
}