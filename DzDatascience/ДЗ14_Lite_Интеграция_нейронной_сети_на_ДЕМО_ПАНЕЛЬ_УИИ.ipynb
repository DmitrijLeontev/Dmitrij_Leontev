{
  "nbformat": 4,
  "nbformat_minor": 0,
  "metadata": {
    "colab": {
      "provenance": [],
      "include_colab_link": true
    },
    "kernelspec": {
      "name": "python3",
      "display_name": "Python 3"
    },
    "language_info": {
      "name": "python"
    }
  },
  "cells": [
    {
      "cell_type": "markdown",
      "metadata": {
        "id": "view-in-github",
        "colab_type": "text"
      },
      "source": [
        "<a href=\"https://colab.research.google.com/github/DmitrijLeontev/Dmitrij_Leontev/blob/main/DzDatascience/%D0%94%D0%9714_Lite_%D0%98%D0%BD%D1%82%D0%B5%D0%B3%D1%80%D0%B0%D1%86%D0%B8%D1%8F_%D0%BD%D0%B5%D0%B9%D1%80%D0%BE%D0%BD%D0%BD%D0%BE%D0%B9_%D1%81%D0%B5%D1%82%D0%B8_%D0%BD%D0%B0_%D0%94%D0%95%D0%9C%D0%9E_%D0%9F%D0%90%D0%9D%D0%95%D0%9B%D0%AC_%D0%A3%D0%98%D0%98.ipynb\" target=\"_parent\"><img src=\"https://colab.research.google.com/assets/colab-badge.svg\" alt=\"Open In Colab\"/></a>"
      ]
    },
    {
      "cell_type": "markdown",
      "metadata": {
        "id": "d_qXycKuUA51"
      },
      "source": [
        "### Задание"
      ]
    },
    {
      "cell_type": "markdown",
      "metadata": {
        "id": "PIUdD6H0FBGC"
      },
      "source": [
        "Необходимо создать, обучить нейронную сеть и упаковать её в архив для загрузки на демо-панель:\n",
        "* создать нейронную сеть для распознавания цифр из MNIST\n",
        "* сохраните веса (модель)\n",
        "* подготовить запуск модели \"из коробки\"\n",
        "* подготовить архив с готовой нейронной сетью для загрузки в демо-панель\n",
        "\n"
      ]
    },
    {
      "cell_type": "markdown",
      "source": [
        "Ваше решение:"
      ],
      "metadata": {
        "id": "i_W9EGNGi711"
      }
    },
    {
      "cell_type": "code",
      "metadata": {
        "id": "MKXGv21tHGLr",
        "colab": {
          "base_uri": "https://localhost:8080/"
        },
        "outputId": "6e39d3f7-179e-406a-a4d0-a382fdbe8326"
      },
      "source": [
        "# загрузка датасета MNIST\n",
        "\n",
        "from tensorflow.keras.datasets import mnist\n",
        "(x_train, y_train), (x_test, y_test) = mnist.load_data()"
      ],
      "execution_count": null,
      "outputs": [
        {
          "output_type": "stream",
          "name": "stdout",
          "text": [
            "Downloading data from https://storage.googleapis.com/tensorflow/tf-keras-datasets/mnist.npz\n",
            "11490434/11490434 [==============================] - 0s 0us/step\n"
          ]
        }
      ]
    },
    {
      "cell_type": "code",
      "metadata": {
        "id": "2zDFM0apy8-R"
      },
      "source": [
        "# Подключение утилит для to_categorical\n",
        "from tensorflow.keras import utils\n",
        "\n",
        "# Подключение библиотеки для работы с массивами\n",
        "import numpy as np\n",
        "\n",
        "# Подключение библиотек для отрисовки изображений\n",
        "import matplotlib.pyplot as plt\n",
        "\n",
        "# Подключение библиотеки для генерации случайных чисел\n",
        "import random\n",
        "\n",
        "# Подключение класса для работы с изображением\n",
        "from PIL import Image\n",
        "\n",
        "# Вывод изображения в ноутбуке, а не в консоли или файле\n",
        "%matplotlib inline"
      ],
      "execution_count": null,
      "outputs": []
    },
    {
      "cell_type": "code",
      "metadata": {
        "colab": {
          "base_uri": "https://localhost:8080/",
          "height": 174
        },
        "id": "m3975_TeIOCl",
        "outputId": "f7141c4c-dd84-49a0-e063-ba45be41de06"
      },
      "source": [
        "# вывод изображений каждого класса для ознакомления с датасетом\n",
        "\n",
        "fig, axs = plt.subplots(1, 10, figsize=(25,3)) # создаем полотно для 10 графиков с размером 25 на 3\n",
        "for i in range(10):\n",
        "  label_indexes = np.where(y_train == i)[0] # получаем список из индексов положений класса i в y_train\n",
        "  index = random.choice(label_indexes) # выбирает случайный индекс из списка созданного выше\n",
        "  img = x_train[index] # выбираем из x_train нужное положение\n",
        "  axs[i].imshow(Image.fromarray(img), cmap='gray') # выводим изображение\n",
        "\n",
        "plt.show()"
      ],
      "execution_count": null,
      "outputs": [
        {
          "output_type": "display_data",
          "data": {
            "text/plain": [
              "<Figure size 2500x300 with 10 Axes>"
            ],
            "image/png": "[encoded data removed]"
          },
          "metadata": {}
        }
      ]
    },
    {
      "cell_type": "code",
      "metadata": {
        "colab": {
          "base_uri": "https://localhost:8080/"
        },
        "id": "pEZFm-i_InWB",
        "outputId": "cf9c6d64-d394-44ca-a30a-f3cf229e5024"
      },
      "source": [
        "# добавляем размерность массиву mnist, чтобы сеть поняла что это чб\n",
        "x_train = x_train.reshape(x_train.shape[0], x_train.shape[1], x_train.shape[2], 1)\n",
        "x_test = x_test.reshape(x_test.shape[0], x_test.shape[1], x_test.shape[2], 1)\n",
        "\n",
        "# преобразуем выборки с ответами в OHE\n",
        "y_train = utils.to_categorical(y_train, 10)\n",
        "y_test = utils.to_categorical(y_test, 10)\n",
        "\n",
        "# посмотрим форматы выборок перед обучением\n",
        "print('x_train:', x_train.shape)\n",
        "print('x_test:', x_test.shape)\n",
        "print()\n",
        "print('y_train:', y_train.shape)\n",
        "print('y_test:', y_test.shape)"
      ],
      "execution_count": null,
      "outputs": [
        {
          "output_type": "stream",
          "name": "stdout",
          "text": [
            "x_train: (60000, 28, 28, 1)\n",
            "x_test: (10000, 28, 28, 1)\n",
            "\n",
            "y_train: (60000, 10)\n",
            "y_test: (10000, 10)\n"
          ]
        }
      ]
    },
    {
      "cell_type": "markdown",
      "source": [
        "Ваше решение"
      ],
      "metadata": {
        "id": "BBW3PRHVU_C3"
      }
    },
    {
      "cell_type": "code",
      "source": [
        "from tensorflow.keras.models import Sequential\n",
        "from keras.layers import Dense, Dropout, BatchNormalization, Flatten, Activation\n",
        "from keras.layers import Conv2D, MaxPooling2D\n",
        "from keras import backend as K\n"
      ],
      "metadata": {
        "id": "n3ataXqlDc6X"
      },
      "execution_count": null,
      "outputs": []
    },
    {
      "cell_type": "code",
      "source": [
        "# import matplotlib for visualization\n",
        "import matplotlib.pyplot as plt\n"
      ],
      "metadata": {
        "id": "A4HVz9YGfZk0"
      },
      "execution_count": null,
      "outputs": []
    },
    {
      "cell_type": "code",
      "source": [
        "# tuning parameters\n",
        "batch_size = 128\n",
        "num_classes = 10\n",
        "epochs = 10\n"
      ],
      "metadata": {
        "id": "jaUpq9a1fqQ_"
      },
      "execution_count": null,
      "outputs": []
    },
    {
      "cell_type": "markdown",
      "source": [
        "Далее мы преобразуем наш набор данных из изображений, структурированных как 28 на 28 пикселей, в вектор, который имеет входные значения 784 пикселя.\n",
        "Сначала мы введем размеры нашего изображения.\n",
        "\n"
      ],
      "metadata": {
        "id": "cEWXe8XAf-Tl"
      }
    },
    {
      "cell_type": "code",
      "source": [
        "# input image dimensions\n",
        "img_rows, img_cols = 28, 28"
      ],
      "metadata": {
        "id": "lUgQKc-ff9mf"
      },
      "execution_count": null,
      "outputs": []
    },
    {
      "cell_type": "markdown",
      "source": [
        "А затем мы изменяем наши данные.\n",
        "\n",
        "Мы также нормализуем значения пикселей из оттенков серого (от 0 до 255) в диапазон от 0 до 1. Мы делаем это, разделив каждое из них на 255:\n"
      ],
      "metadata": {
        "id": "xmUXMjCfgMB2"
      }
    },
    {
      "cell_type": "code",
      "source": [
        "if K.image_data_format() == 'channels_first':\n",
        "    x_train = x_train.reshape(x_train.shape[0], 1, img_rows, img_cols)\n",
        "    x_test = x_test.reshape(x_test.shape[0], 1, img_rows, img_cols)\n",
        "    input_shape = (1, img_rows, img_cols)\n",
        "else:\n",
        "    x_train = x_train.reshape(x_train.shape[0], img_rows, img_cols, 1)\n",
        "    x_test = x_test.reshape(x_test.shape[0], img_rows, img_cols, 1)\n",
        "    input_shape = (img_rows, img_cols, 1)\n",
        "\n",
        "x_train = x_train.astype('float32')\n",
        "x_test = x_test.astype('float32')\n",
        "x_train /= 255\n",
        "x_test /= 255\n",
        "print('x_train shape:', x_train.shape)\n",
        "print(x_train.shape[0], 'training samples')\n",
        "print(x_test.shape[0], 'testing samples')\n"
      ],
      "metadata": {
        "colab": {
          "base_uri": "https://localhost:8080/"
        },
        "id": "1U5e9R_dgNc_",
        "outputId": "25a297d0-0731-4fd7-f18d-e895bcbca9a0"
      },
      "execution_count": null,
      "outputs": [
        {
          "output_type": "stream",
          "name": "stdout",
          "text": [
            "x_train shape: (60000, 28, 28, 1)\n",
            "60000 training samples\n",
            "10000 testing samples\n"
          ]
        }
      ]
    },
    {
      "cell_type": "markdown",
      "source": [
        "Определение нашей нейронной сети\n",
        "\n",
        "Теперь мы определим нашу модель нейронной сети, которая, как уже упоминалось, будет использовать TensorFlow в качестве бэкэнда модели.\n",
        "Структура нашей архитектуры сверточной нейронной сети определена ниже:\n",
        "\n",
        "Первый скрытый слойConv2D— это сверточный слой, который имеет 32 карты объектов, каждая размером 3 x 3, и мы используем adam 0.001 как функцию активации .\n",
        "Затем мы добавляем еще один сверточный слой с 64 картами объектов.\n",
        "Мы добавляем третий сверточный слой со 128 картами признаков.\n",
        "Затем мы добавляем слой объединенияMaxPooling2D1который настроен с размером пула 2 x 2\n",
        "\n",
        "Затем мы применяем слой регуляризации, используяDropoutнастроено на случайное исключение 25% нейронов в слое – это используется для уменьшения переобучения\n",
        "Затем мы преобразуем двумерную матрицу в вектор, используяFlatten– это позволяет обрабатывать наши выходные данные полностью связанными слоями.\n",
        "Далее мы добавляем полносвязный слой со 128 нейронами и функцией активации  \n",
        "adam 0.001.\n",
        "\n",
        "Затем мы добавим еще один слой регуляризации, чтобы уменьшить переобучение, на этот раз мы случайным образом исключаем 50% нейронов.\n",
        "Мы завершаем нейронную сеть выходным слоем, имеющим 10 нейронов — столько же, сколько классов в нашей задаче классификации и функции активации softmax. Это выведет прогноз вероятности того, что цифра принадлежит каждому классу.\n"
      ],
      "metadata": {
        "id": "eIMiXyDIiA02"
      }
    },
    {
      "cell_type": "code",
      "source": [
        "# import TensorFlow backend\n",
        "import tensorflow as tf\n",
        "\n",
        "# define our model\n",
        "model = Sequential()\n",
        "model.add(Conv2D(32, kernel_size=(3, 3), activation='relu',input_shape=input_shape))\n",
        "model.add(Conv2D(64, (3, 3), activation='relu'))\n",
        "model.add(Conv2D(128, (3, 3), activation='relu'))\n",
        "model.add(MaxPooling2D(pool_size=(2, 2)))\n",
        "model.add(Dropout(0.25))\n",
        "model.add(Flatten())\n",
        "model.add(Dense(128, activation='relu'))\n",
        "model.add(Dropout(0.5))\n",
        "model.add(Dense(num_classes, activation=Activation(tf.nn.softmax)))\n",
        "\n"
      ],
      "metadata": {
        "id": "FWE-JRSxiJm9"
      },
      "execution_count": null,
      "outputs": []
    },
    {
      "cell_type": "code",
      "source": [
        "model.summary()"
      ],
      "metadata": {
        "colab": {
          "base_uri": "https://localhost:8080/"
        },
        "id": "hhPkM334Y5C-",
        "outputId": "5b81b256-d5a7-4d1f-9756-5d62cbdca0a0"
      },
      "execution_count": null,
      "outputs": [
        {
          "output_type": "stream",
          "name": "stdout",
          "text": [
            "Model: \"sequential\"\n",
            "_________________________________________________________________\n",
            " Layer (type)                Output Shape              Param #   \n",
            "=================================================================\n",
            " conv2d (Conv2D)             (None, 26, 26, 32)        320       \n",
            "                                                                 \n",
            " conv2d_1 (Conv2D)           (None, 24, 24, 64)        18496     \n",
            "                                                                 \n",
            " conv2d_2 (Conv2D)           (None, 22, 22, 128)       73856     \n",
            "                                                                 \n",
            " max_pooling2d (MaxPooling2  (None, 11, 11, 128)       0         \n",
            " D)                                                              \n",
            "                                                                 \n",
            " dropout (Dropout)           (None, 11, 11, 128)       0         \n",
            "                                                                 \n",
            " flatten (Flatten)           (None, 15488)             0         \n",
            "                                                                 \n",
            " dense (Dense)               (None, 128)               1982592   \n",
            "                                                                 \n",
            " dropout_1 (Dropout)         (None, 128)               0         \n",
            "                                                                 \n",
            " dense_1 (Dense)             (None, 10)                1290      \n",
            "                                                                 \n",
            "=================================================================\n",
            "Total params: 2076554 (7.92 MB)\n",
            "Trainable params: 2076554 (7.92 MB)\n",
            "Non-trainable params: 0 (0.00 Byte)\n",
            "_________________________________________________________________\n"
          ]
        }
      ]
    },
    {
      "cell_type": "code",
      "source": [
        "#Скомпилируем модель с помощью .Adam\n",
        "import keras\n",
        "from keras import layers\n",
        "\n",
        "model.compile(loss=keras.losses.categorical_crossentropy,\n",
        "\t\toptimizer=keras.optimizers.Adam(learning_rate=0.001), metrics=['accuracy'])\n"
      ],
      "metadata": {
        "id": "oyLQra3Gls0s"
      },
      "execution_count": null,
      "outputs": []
    },
    {
      "cell_type": "markdown",
      "source": [
        "Обучение модели\n",
        "Теперь мы подгоним модель, используя размер пакета 128 и 6 эпох.\n"
      ],
      "metadata": {
        "id": "Cn0bm0Tfn3j9"
      }
    },
    {
      "cell_type": "code",
      "source": [
        "history = model.fit(x_train,  # ----------------- x_train, примеры набора данных\n",
        "                           y_train,  # ----------------- y_train, метки примеров набора данных\n",
        "                           validation_split=0.2,  # --- 0.2 - доля данных для валидационной (проверочной) выборки, 1-0.2=0.8 останется в обучающей\n",
        "                           shuffle=True,  # ----------- перемешивание данных для равномерного обучения, соответствие экземпляра и метки сохраняется\n",
        "                           batch_size=batch_size,  # ---------- размер пакета, который обрабатывает нейронка перед одним изменением весов\n",
        "                           epochs=epochs,  # -------------- epochs - количество эпох обучения\n",
        "                           verbose=1)  # -------------- 0 - не визуализировать ход обучения, 1 - визуализировать\n",
        "\n"
      ],
      "metadata": {
        "colab": {
          "base_uri": "https://localhost:8080/"
        },
        "id": "PyOsfny1n7Zb",
        "outputId": "6a8bba5c-a26c-4984-9a86-3484e1e5b82d"
      },
      "execution_count": null,
      "outputs": [
        {
          "output_type": "stream",
          "name": "stdout",
          "text": [
            "Epoch 1/10\n",
            "375/375 [==============================] - 335s 890ms/step - loss: 0.2229 - accuracy: 0.9332 - val_loss: 0.0559 - val_accuracy: 0.9836\n",
            "Epoch 2/10\n",
            "375/375 [==============================] - 338s 900ms/step - loss: 0.0833 - accuracy: 0.9756 - val_loss: 0.0426 - val_accuracy: 0.9872\n",
            "Epoch 3/10\n",
            "375/375 [==============================] - 329s 877ms/step - loss: 0.0603 - accuracy: 0.9822 - val_loss: 0.0420 - val_accuracy: 0.9882\n",
            "Epoch 4/10\n",
            "375/375 [==============================] - 329s 878ms/step - loss: 0.0495 - accuracy: 0.9849 - val_loss: 0.0412 - val_accuracy: 0.9883\n",
            "Epoch 5/10\n",
            "375/375 [==============================] - 328s 874ms/step - loss: 0.0387 - accuracy: 0.9883 - val_loss: 0.0354 - val_accuracy: 0.9902\n",
            "Epoch 6/10\n",
            "375/375 [==============================] - 330s 880ms/step - loss: 0.0337 - accuracy: 0.9893 - val_loss: 0.0357 - val_accuracy: 0.9904\n",
            "Epoch 7/10\n",
            "375/375 [==============================] - 353s 942ms/step - loss: 0.0297 - accuracy: 0.9912 - val_loss: 0.0318 - val_accuracy: 0.9912\n",
            "Epoch 8/10\n",
            "375/375 [==============================] - 343s 913ms/step - loss: 0.0252 - accuracy: 0.9921 - val_loss: 0.0312 - val_accuracy: 0.9917\n",
            "Epoch 9/10\n",
            "375/375 [==============================] - 325s 866ms/step - loss: 0.0239 - accuracy: 0.9923 - val_loss: 0.0343 - val_accuracy: 0.9912\n",
            "Epoch 10/10\n",
            "375/375 [==============================] - 325s 866ms/step - loss: 0.0232 - accuracy: 0.9926 - val_loss: 0.0348 - val_accuracy: 0.9918\n"
          ]
        }
      ]
    },
    {
      "cell_type": "markdown",
      "source": [
        "В переменную history как результат метода обучения модели .fit() записалась история обучения, значения тех самых loss и accuracy на каждой эпохе обучения. Причем как для обучающей выборки, так и для проверочной.\n",
        "\n",
        "Вы видели эти значения в распечатке по ходу обучения модели. По окончании обучения они записались в словарь history.history\n",
        "\n",
        "Чтобы обратиться к этим данным в переменной history, используем loss, val_loss, accuracy и val_accuracy в качестве ключей словаря. Далее с помощью методов из модуля matplotlib.pyplot покажем их в виде графиков.\n",
        "\n",
        "Смотрите:"
      ],
      "metadata": {
        "id": "jOWXwxbFs68G"
      }
    },
    {
      "cell_type": "code",
      "source": [
        "# Создание полотна для рисунка\n",
        "plt.figure(1, figsize=(18, 5))\n",
        "\n",
        "# Задание первой (левой) области для построения графиков\n",
        "plt.subplot(1, 2, 1)\n",
        "# Отрисовка графиков 'loss' и 'val_loss' из значений словаря store_learning.history\n",
        "plt.plot(history.history['loss'],\n",
        "         label='Значение ошибки на обучающем наборе')\n",
        "plt.plot(history.history['val_loss'],\n",
        "         label='Значение ошибки на проверочном наборе')\n",
        "# Задание подписей осей\n",
        "plt.xlabel('Эпоха обучения')\n",
        "plt.ylabel('Значение ошибки')\n",
        "plt.legend()\n",
        "\n",
        "# Задание второй (правой) области для построения графиков\n",
        "plt.subplot(1, 2, 2)\n",
        "# Отрисовка графиков 'accuracy' и 'val_accuracy' из значений словаря store_learning.history\n",
        "plt.plot(history.history['accuracy'],\n",
        "         label='Доля верных ответов на обучающем наборе')\n",
        "plt.plot(history.history['val_accuracy'],\n",
        "         label='Доля верных ответов на проверочном наборе')\n",
        "# Задание подписей осей\n",
        "plt.xlabel('Эпоха обучения')\n",
        "plt.ylabel('Доля верных ответов')\n",
        "plt.legend()\n",
        "\n",
        "# Фиксация графиков и рисование всей картинки\n",
        "plt.show()"
      ],
      "metadata": {
        "colab": {
          "base_uri": "https://localhost:8080/",
          "height": 464
        },
        "id": "IqLYh8KLqmZk",
        "outputId": "eeae2c4d-1d71-4f9c-b16d-07dbb6038e84"
      },
      "execution_count": null,
      "outputs": [
        {
          "output_type": "display_data",
          "data": {
            "text/plain": [
              "<Figure size 1800x500 with 2 Axes>"
            ],
            "image/png": "[encoded data removed]"
          },
          "metadata": {}
        }
      ]
    },
    {
      "cell_type": "code",
      "source": [
        "# Сохранение обученной модели полностью (веса и архитектура) после всех эпох\n",
        "\n",
        "model.save('model_fmr_all.h51')"
      ],
      "metadata": {
        "id": "RX-vIaQ8ayQF"
      },
      "execution_count": null,
      "outputs": []
    },
    {
      "cell_type": "markdown",
      "source": [
        "Запуск готовой модели\n",
        "\n",
        "Чтобы можно было воспользоваться результатами обучения нейронки, необходимо провести подготовительные работы. В этом помогут изученные ранее функции и модули.\n",
        "\n",
        "Загрузите сохраненную модель в переменную model:"
      ],
      "metadata": {
        "id": "Z9Tt2IN_bBX9"
      }
    },
    {
      "cell_type": "code",
      "source": [
        "from tensorflow.keras.models import load_model\n",
        "\n",
        "model = load_model('/content/model_fmr_all.h51')"
      ],
      "metadata": {
        "id": "0Ns-6v2ybDLl"
      },
      "execution_count": null,
      "outputs": []
    },
    {
      "cell_type": "markdown",
      "source": [
        "Подготовьте тестовую картинку для подачи в модель:"
      ],
      "metadata": {
        "id": "ZSC6YyrqdEzG"
      }
    },
    {
      "cell_type": "code",
      "source": [
        "# Загрузка тестовых изображений 10 классов\n",
        "import tensorflow as tf\n",
        "\n",
        "# Загружаем тестовый набор данных MNIST\n",
        "mnist = tf.keras.datasets.mnist\n",
        "(y_test, _), (x_test, _) = mnist.load_data()\n",
        "\n",
        "# Сохраняем тестовые данные в файл \"mnist_test.csv\"\n",
        "import numpy as np\n",
        "np.savetxt('mnist_test.csv', x_test.reshape(x_test.shape[0], -1), delimiter=',')\n",
        "\n"
      ],
      "metadata": {
        "id": "rcGKz-tBdGEc"
      },
      "execution_count": null,
      "outputs": []
    },
    {
      "cell_type": "code",
      "source": [
        "# Просмотр тестового изображения\n",
        "import numpy as np\n",
        "import matplotlib.pyplot as plt\n",
        "\n",
        "# Загружаем тестовый набор данных MNIST\n",
        "mnist = tf.keras.datasets.mnist\n",
        "(_, _), (x_test, _) = mnist.load_data()\n",
        "\n",
        "# Выбираем первое изображение из тестового набора (можно выбрать любое другое число)\n",
        "image_index = 0\n",
        "image = x_test[image_index]\n",
        "\n",
        "# Выводим изображение на экран\n",
        "plt.imshow(image, cmap='gray')\n",
        "plt.axis('off')  # Отключаем оси координат\n",
        "plt.show()\n",
        "\n"
      ],
      "metadata": {
        "colab": {
          "base_uri": "https://localhost:8080/",
          "height": 406
        },
        "id": "VgjHYdltm3Ql",
        "outputId": "36b8f109-aafb-471b-e363-bbe75059f26c"
      },
      "execution_count": null,
      "outputs": [
        {
          "output_type": "display_data",
          "data": {
            "text/plain": [
              "<Figure size 640x480 with 1 Axes>"
            ],
            "image/png": "[encoded data removed]"
          },
          "metadata": {}
        }
      ]
    },
    {
      "cell_type": "markdown",
      "source": [
        "Задайте требуемый для модели размер изображения:"
      ],
      "metadata": {
        "id": "iBnanXgtoXHr"
      }
    },
    {
      "cell_type": "code",
      "source": [
        "# Требуемый для модели размер изображения\n",
        "img_width, img_height = 28, 28"
      ],
      "metadata": {
        "id": "bt_LIA3aoYaq"
      },
      "execution_count": null,
      "outputs": []
    },
    {
      "cell_type": "markdown",
      "source": [
        "Подготовьте тестовое изображение для подачи в модель.\n",
        "\n",
        "Для наглядного расположения выводимой информации воспользуемся строковым методом .format(), задав выравнивание влево для имени класса и процентное представление вероятности принадлежности картинки к классу.\n",
        "\n",
        "Для извлечения индексов класса применим встроенную функцию enumerate(), которая вернет не только элементы списка (имена классов), но и их индексы. Для всех классов это удобно сделать в цикле:\n",
        "\n",
        "for i, cl in enumerate(classes):"
      ],
      "metadata": {
        "id": "WkOuXJ_4opzS"
      }
    },
    {
      "cell_type": "code",
      "source": [
        "# Подготовка изображения для подачи в модель НС\n",
        "import numpy as np\n",
        "from PIL import Image\n",
        "import tensorflow as tf\n",
        "\n",
        "\n",
        "# Загрузка модели (замените эту часть кода на ваш способ загрузки модели)\n",
        "model = tf.keras.models.load_model('/content/model_fmr_all.h51')\n",
        "\n",
        "# Параметры изображения\n",
        "img_width, img_height = 28, 28  # Размер изображения в наборе данных MNIST\n",
        "\n",
        "# Выбор индекса тестового изображения для распознавания\n",
        "image_index = 5\n",
        "\n",
        "# Открытие картинки и изменение ее размера для соответствия входу модели\n",
        "img = Image.fromarray(x_test[image_index]).resize((img_width, img_height))\n",
        "\n",
        "# Проверка результата (вывод изображения)\n",
        "img.show()\n",
        "\n",
        "# Проверка результата\n",
        "display(img)\n",
        "\n",
        "# Преобразование картинки в numpy-массив чисел с плавающей запятой и нормализация значений пикселей\n",
        "image = np.array(img, dtype='float64') / 255.\n",
        "\n",
        "# добавление оси для совпадения формы входа модели; получается батч из одного примера\n",
        "image = np.expand_dims(image, axis=0)\n",
        "\n",
        "# Распознавание изображения нейронной сетью\n",
        "pred = model.predict(image)\n",
        "\n",
        "# Вывод результатов предсказания\n",
        "print('Результат распознавания:')\n",
        "\n",
        "for i in range(10):  # Для MNIST всего 10 классов\n",
        "    # Вывод предсказания сети для каждого класса\n",
        "    print('Класс {}: {:6.2%}'.format(i, pred[0, i]))\n",
        "\n",
        "# Вычисление индекса класса с максимальным значением вероятности и вывод имени класса\n",
        "cls_image = np.argmax(model.predict(image))\n",
        "print('Изображен(а) цифра: ', cls_image)\n",
        "\n"
      ],
      "metadata": {
        "colab": {
          "base_uri": "https://localhost:8080/",
          "height": 288
        },
        "id": "C257LB_sWdup",
        "outputId": "4ca61bb6-7eb4-4ae7-bce4-67b7ebd8c245"
      },
      "execution_count": null,
      "outputs": [
        {
          "output_type": "display_data",
          "data": {
            "text/plain": [
              "<PIL.Image.Image image mode=L size=28x28>"
            ],
            "image/png": "[encoded data removed]"
          },
          "metadata": {}
        },
        {
          "output_type": "stream",
          "name": "stdout",
          "text": [
            "1/1 [==============================] - 0s 130ms/step\n",
            "Результат распознавания:\n",
            "Класс 0:  0.00%\n",
            "Класс 1: 100.00%\n",
            "Класс 2:  0.00%\n",
            "Класс 3:  0.00%\n",
            "Класс 4:  0.00%\n",
            "Класс 5:  0.00%\n",
            "Класс 6:  0.00%\n",
            "Класс 7:  0.00%\n",
            "Класс 8:  0.00%\n",
            "Класс 9:  0.00%\n",
            "1/1 [==============================] - 0s 25ms/step\n",
            "Изображен(а) цифра:  1\n"
          ]
        }
      ]
    },
    {
      "cell_type": "markdown",
      "source": [
        "Запуск модели на демо-панели\n",
        "Итак, у вас есть почти все необходимое для размещения модели нейронной сети на демо-панели. Осталась лишь пара штрихов.\n",
        "\n",
        "Вначале создадим скрипт, который реализует распознавание изображения."
      ],
      "metadata": {
        "id": "W1kI9WBcbKgJ"
      }
    },
    {
      "cell_type": "markdown",
      "source": [
        "ВАЖНЫЕ МОМЕНТЫ в задании главной функции скрипта:\n",
        "\n",
        "она должна иметь имя predict, так как сервер демо-панели будет вызывать функцию именно с таким именем;\n",
        "\n",
        "она должна иметь первый обязательный аргумент img_path - путь к тестовому изображению на сервере демо-панели;\n",
        "\n",
        "она должна иметь второй обязательный аргумент model_path - путь к модели на сервере демо-панели;\n",
        "\n",
        "в скрипте должны быть импортированы все необходимые библиотеки для запуска модели, открытия и подготовки изображения."
      ],
      "metadata": {
        "id": "6dYu4eZGbY3h"
      }
    },
    {
      "cell_type": "code",
      "source": [
        "from PIL import Image\n",
        "import numpy as np\n",
        "from tensorflow.keras.models import load_model\n",
        "import matplotlib.pyplot as plt\n",
        "\n",
        "def predict(img_index=0, model_path='/content/model_fmr_all.h51'):\n",
        "    classes = {0: '0', 1: '1', 2: '2', 3: '3', 4: '4',\n",
        "               5: '5', 6: '6', 7: '7', 8: '8', 9: '9'}\n",
        "\n",
        "    # Загрузка модели\n",
        "    model = load_model(model_path)\n",
        "\n",
        "    # Параметры изображения\n",
        "    img_width, img_height = 28, 28\n",
        "\n",
        "    # Открытие и подготовка изображения\n",
        "    img = x_test[img_index]\n",
        "    image = np.array(img, dtype='float64') / 255.\n",
        "    image = np.expand_dims(image, axis=0)\n",
        "\n",
        "    # Распознавание изображения нейронной сетью\n",
        "    pred = model.predict(image)\n",
        "    cls_image = np.argmax(pred)\n",
        "\n",
        "    # Вывод результата предсказания\n",
        "    print('Изображена цифра:', cls_image)\n",
        "\n",
        "    # Отображение изображения\n",
        "    plt.imshow(img, cmap='gray')\n",
        "    plt.show()\n",
        "\n",
        "# Пример использования функции predict с заданным индексом изображения\n",
        "predict(img_index=0)\n"
      ],
      "metadata": {
        "colab": {
          "base_uri": "https://localhost:8080/",
          "height": 465
        },
        "id": "jQhOVEnlhQUD",
        "outputId": "092e22f3-5488-4def-eeac-13a667074941"
      },
      "execution_count": null,
      "outputs": [
        {
          "output_type": "stream",
          "name": "stdout",
          "text": [
            "1/1 [==============================] - 0s 78ms/step\n",
            "Изображена цифра: 7\n"
          ]
        },
        {
          "output_type": "display_data",
          "data": {
            "text/plain": [
              "<Figure size 640x480 with 1 Axes>"
            ],
            "image/png": "[encoded data removed]"
          },
          "metadata": {}
        }
      ]
    },
    {
      "cell_type": "code",
      "source": [
        "# Пример использования функции predict с заданным индексом изображения\n",
        "predict(img_index=9)\n"
      ],
      "metadata": {
        "colab": {
          "base_uri": "https://localhost:8080/",
          "height": 465
        },
        "id": "7Vp0DyZ6ixJL",
        "outputId": "9cdd4d58-3898-46da-f862-16ae226aaf38"
      },
      "execution_count": null,
      "outputs": [
        {
          "output_type": "stream",
          "name": "stdout",
          "text": [
            "1/1 [==============================] - 0s 78ms/step\n",
            "Изображена цифра: 9\n"
          ]
        },
        {
          "output_type": "display_data",
          "data": {
            "text/plain": [
              "<Figure size 640x480 with 1 Axes>"
            ],
            "image/png": "[encoded data removed]"
          },
          "metadata": {}
        }
      ]
    },
    {
      "cell_type": "markdown",
      "source": [
        "Теперь создадим текстовый файл с расширением .py и запишем в него созданный выше код (это и будет скрипт для демо-панели):"
      ],
      "metadata": {
        "id": "1gbe6nPQGfvz"
      }
    },
    {
      "cell_type": "code",
      "source": [
        "# Сохранение кода скрипта в переменной text_code\n",
        "text_code = '''\n",
        "from tensorflow.keras.models import load_model\n",
        "from PIL import Image\n",
        "import numpy as np\n",
        "\n",
        "def predict(img_index=0, model_path='/content/model_fmr_all.h51'):\n",
        "    classes = {0: 0,\n",
        "               1: 1,\n",
        "               2: 2,\n",
        "               3: 3,\n",
        "               4: 4,\n",
        "               5: 5,\n",
        "               6: 6,\n",
        "               7: 7,\n",
        "               8: 8,\n",
        "               9: 9}\n",
        "\n",
        "    # Используйте свой способ загрузки модели, например, load_model(model_path)\n",
        "    # model = load_model(model_path)\n",
        "\n",
        "    # Ваш код загрузки модели замените на эту строку\n",
        "    model = load_model('/content/model_fmr_all.h51')\n",
        "\n",
        "    # Выбор индекса тестового изображения для распознавания\n",
        "    image_index = img_index\n",
        "\n",
        "    # Открытие картинки и изменение ее размера для соответствия входу модели\n",
        "    # Вместо x_test используйте свой тестовый датасет\n",
        "    img = Image.fromarray(x_test[image_index]).resize((28, 28))\n",
        "\n",
        "    # Преобразование картинки в numpy-массив чисел с плавающей запятой и нормализация значений пикселей\n",
        "    image = np.array(img, dtype='float64') / 255.\n",
        "\n",
        "    # Добавление оси для совпадения формы входа модели; получается батч из одного примера\n",
        "    image = np.expand_dims(image, axis=0)\n",
        "\n",
        "    # Распознавание изображения нейросетью\n",
        "    pred = model.predict(image)\n",
        "\n",
        "    # Вывод результатов предсказания\n",
        "    print('Результат распознавания:')\n",
        "\n",
        "    for i in range(10):  # Для MNIST всего 10 классов\n",
        "        # Вывод предсказания сети для каждого класса\n",
        "        print('Класс {}: {:6.2%}'.format(i, pred[0, i]))\n",
        "\n",
        "    # Вычисление индекса класса с максимальным значением вероятности и вывод имени класса\n",
        "    cls_image = np.argmax(model.predict(image))\n",
        "    print('Изображена цифра: ', cls_image)\n",
        "'''\n",
        "\n",
        "# Запись содержимого переменной в файл скрипта\n",
        "with open('script.py', 'w') as f:  # Создание / открытие файла\n",
        "    f.write(text_code)  # Запись в файл значения переменной text_code\n"
      ],
      "metadata": {
        "id": "ObCNtlp-GsnC"
      },
      "execution_count": null,
      "outputs": []
    },
    {
      "cell_type": "markdown",
      "source": [
        "Следующим шагом подберем десять различных изображений, соответствующих классам датасета. Эти десять изображений будут отображаться на странице демо-панели в качестве пресетов. Загрузим их в директорию Colab под порядковыми номерами классов.\n",
        "\n",
        "Вы можете взять абсолютно любые 10 изображений.\n",
        "\n",
        "Здесь возьмем для этих целей файлы из тестовой папки:"
      ],
      "metadata": {
        "id": "KophquN3R1IQ"
      }
    },
    {
      "cell_type": "code",
      "source": [
        "from tensorflow.keras.datasets import mnist\n",
        "from PIL import Image\n",
        "import os\n",
        "\n",
        "# Создадим директорию, если ее еще нет\n",
        "directory = '/content/test_images'\n",
        "if not os.path.exists(directory):\n",
        "    os.makedirs(directory)\n",
        "\n",
        "# Загрузим набор данных MNIST\n",
        "(x_train, y_train), (x_test, y_test) = mnist.load_data()\n",
        "\n",
        "# Сохраним несколько изображений из тестового набора данных MNIST в директорию test_images\n",
        "for i in range(10):\n",
        "    img = Image.fromarray(x_test[i])\n",
        "    img_path = os.path.join(directory, f'{i}.jpg')\n",
        "    img.save(img_path)\n"
      ],
      "metadata": {
        "id": "AjuBhZ4eSAxh"
      },
      "execution_count": null,
      "outputs": []
    },
    {
      "cell_type": "code",
      "source": [
        "from IPython.display import Image, display\n",
        "\n",
        "# Показать сохраненные изображения\n",
        "for i in range(10):\n",
        "    img_path = f'/content/test_images/{i}.jpg'\n",
        "    display(Image(filename=img_path))\n"
      ],
      "metadata": {
        "id": "2U7PNfuzY7Q5",
        "colab": {
          "base_uri": "https://localhost:8080/",
          "height": 297
        },
        "outputId": "5217838a-d9db-458e-ddcf-090a76d4e709"
      },
      "execution_count": null,
      "outputs": [
        {
          "output_type": "display_data",
          "data": {
            "image/jpeg": "[encoded data removed]",
            "text/plain": [
              "<IPython.core.display.Image object>"
            ]
          },
          "metadata": {}
        },
        {
          "output_type": "display_data",
          "data": {
            "image/jpeg": "[encoded data removed]",
            "text/plain": [
              "<IPython.core.display.Image object>"
            ]
          },
          "metadata": {}
        },
        {
          "output_type": "display_data",
          "data": {
            "image/jpeg": "[encoded data removed]",
            "text/plain": [
              "<IPython.core.display.Image object>"
            ]
          },
          "metadata": {}
        },
        {
          "output_type": "display_data",
          "data": {
            "image/jpeg": "[encoded data removed]",
            "text/plain": [
              "<IPython.core.display.Image object>"
            ]
          },
          "metadata": {}
        },
        {
          "output_type": "display_data",
          "data": {
            "image/jpeg": "[encoded data removed]",
            "text/plain": [
              "<IPython.core.display.Image object>"
            ]
          },
          "metadata": {}
        },
        {
          "output_type": "display_data",
          "data": {
            "image/jpeg": "[encoded data removed]",
            "text/plain": [
              "<IPython.core.display.Image object>"
            ]
          },
          "metadata": {}
        },
        {
          "output_type": "display_data",
          "data": {
            "image/jpeg": "[encoded data removed]",
            "text/plain": [
              "<IPython.core.display.Image object>"
            ]
          },
          "metadata": {}
        },
        {
          "output_type": "display_data",
          "data": {
            "image/jpeg": "[encoded data removed]",
            "text/plain": [
              "<IPython.core.display.Image object>"
            ]
          },
          "metadata": {}
        },
        {
          "output_type": "display_data",
          "data": {
            "image/jpeg": "[encoded data removed]",
            "text/plain": [
              "<IPython.core.display.Image object>"
            ]
          },
          "metadata": {}
        },
        {
          "output_type": "display_data",
          "data": {
            "image/jpeg": "[encoded data removed]",
            "text/plain": [
              "<IPython.core.display.Image object>"
            ]
          },
          "metadata": {}
        }
      ]
    },
    {
      "cell_type": "markdown",
      "source": [
        "Следующий шаг - использовать созданный ранее скрипт для распознавания изображений MNIST и применить его к этим изображениям. Для этого мы будем использовать функцию predict из скрипта, которую мы создали ранее."
      ],
      "metadata": {
        "id": "pqn_3Nh-gtEb"
      }
    },
    {
      "cell_type": "markdown",
      "source": [
        "Далее создадим текстовый файл label.txt с именами классов, распознаваемых моделью. Алгоритм аналогичный: сначала создаем текстовую переменную с именами классов, затем записываем текст в файл:"
      ],
      "metadata": {
        "id": "m8Nz4Q6y-fYK"
      }
    },
    {
      "cell_type": "code",
      "source": [
        "# Предполагаемые классы для каждого изображения MNIST\n",
        "predicted_classes = [7, 2, 1, 0, 4, 1, 4, 9, 5, 9]\n",
        "\n",
        "# Создадим текстовую переменную с именами классов\n",
        "label_txt = '''\n",
        "0\n",
        "1\n",
        "2\n",
        "3\n",
        "4\n",
        "5\n",
        "6\n",
        "7\n",
        "8\n",
        "9\n",
        "'''\n",
        "\n",
        "# Запишем текст в файл label.txt\n",
        "with open('label.txt', 'w') as f:  # Создание / открытие файла\n",
        "    f.write(label_txt.strip())     # Запись в файл значения переменной\n"
      ],
      "metadata": {
        "id": "ZNbyobDq-hG-"
      },
      "execution_count": null,
      "outputs": []
    },
    {
      "cell_type": "markdown",
      "source": [
        "Осталось упаковать все файлы в один архив для отправки на сервер.\n",
        "\n",
        "Это можно сделать вручную; в ячейке ниже показано, как процесс может быть запрограммирован на Python."
      ],
      "metadata": {
        "id": "FhfalT1k_PPW"
      }
    },
    {
      "cell_type": "markdown",
      "source": [
        "Важно! Перед запуском следующей ячейки кода убедитесь, что все необходимые файлы присутствуют в каталоге /content!\n",
        "\n",
        "сохраненная модель model_fmr_all.h51;\n",
        "\n",
        "скрипт script.py с функцией predict();\n",
        "\n",
        "текстовый файл label.txt с именами классов;\n",
        "\n",
        "10 изображений."
      ],
      "metadata": {
        "id": "T7rEUE0k_Y3J"
      }
    },
    {
      "cell_type": "code",
      "source": [
        "import os\n",
        "from zipfile import ZipFile as Zip             # Модуль для работы с zip-архивами\n",
        "\n",
        "# Путь к директории с изображениями\n",
        "image_directory = '/content/test_images'\n",
        "\n",
        "# Список всех файлов\n",
        "integrate_files = ['model_fmr_all.h51', 'script.py', 'label.txt']  # Начнем с других файлов\n",
        "\n",
        "# Добавляем каждое изображение в список файлов\n",
        "for i in range(10):\n",
        "    img_path = os.path.join(image_directory, f'{i}.jpg')  # Формируем полный путь к изображению\n",
        "    if os.path.exists(img_path):  # Проверяем, существует ли файл\n",
        "        integrate_files.append(img_path)  # Добавляем полный путь к изображению в список\n",
        "    else:\n",
        "        print(f'Файл {img_path} отсутствует!')\n",
        "\n",
        "# Создание архива\n",
        "zipArchive = Zip('/content/archive.zip', 'w')  # Открытие файла, если такого не существует - будет создан новый\n",
        "\n",
        "# Добавление файлов в архив\n",
        "for file in integrate_files:  # Для всех нужных файлов\n",
        "    if os.path.exists(file):  # Если файл существует,\n",
        "        zipArchive.write(file)  # то добавление его в архив\n",
        "    else:\n",
        "        print(f'Файл {file} отсутствует!')  # иначе вывод на экран названия отсутствующего файла\n",
        "\n",
        "zipArchive.close()  # Закрытие архива\n"
      ],
      "metadata": {
        "id": "yT3Xccvj_QdC"
      },
      "execution_count": null,
      "outputs": []
    }
  ]
}