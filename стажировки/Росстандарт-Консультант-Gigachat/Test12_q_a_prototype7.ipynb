{
  "cells": [
    {
      "cell_type": "markdown",
      "metadata": {
        "id": "view-in-github",
        "colab_type": "text"
      },
      "source": [
        "<a href=\"https://colab.research.google.com/github/DmitrijLeontev/Dmitrij_Leontev/blob/main/%D1%81%D1%82%D0%B0%D0%B6%D0%B8%D1%80%D0%BE%D0%B2%D0%BA%D0%B8/%D0%A0%D0%BE%D1%81%D1%81%D1%82%D0%B0%D0%BD%D0%B4%D0%B0%D1%80%D1%82-%D0%9A%D0%BE%D0%BD%D1%81%D1%83%D0%BB%D1%8C%D1%82%D0%B0%D0%BD%D1%82-Gigachat/Test12_q_a_prototype7.ipynb\" target=\"_parent\"><img src=\"https://colab.research.google.com/assets/colab-badge.svg\" alt=\"Open In Colab\"/></a>"
      ]
    },
    {
      "cell_type": "markdown",
      "metadata": {
        "id": "9kS79IOScA0g"
      },
      "source": [
        "Подход после 12 встречи\n",
        "\n",
        "Тест прототипа на полной базе вопрос-ответ с промптом и динамической базой знаний из двух баз(без конкатенации баз)."
      ]
    },
    {
      "cell_type": "markdown",
      "metadata": {
        "id": "uWd8rU8BeiJn"
      },
      "source": [
        "Установка\n",
        "\n",
        "Для работы нам понадобится векторая база данных. Мы будем использовать Chroma и faiss-cpu."
      ]
    },
    {
      "cell_type": "code",
      "execution_count": null,
      "metadata": {
        "id": "jSakN6Kd4NVv"
      },
      "outputs": [],
      "source": [
        "!pip install chromadb --quiet"
      ]
    },
    {
      "cell_type": "markdown",
      "metadata": {
        "id": "YzwuGe665Mz-"
      },
      "source": [
        "Инициализация модели\n",
        "\n",
        "Теперь инициализируем модель GigaChat."
      ]
    },
    {
      "cell_type": "code",
      "execution_count": null,
      "metadata": {
        "id": "PNE2LbUg3wse"
      },
      "outputs": [],
      "source": [
        "!pip install gigachain"
      ]
    },
    {
      "cell_type": "code",
      "execution_count": null,
      "metadata": {
        "id": "vgysT0ms4QlH"
      },
      "outputs": [],
      "source": [
        "!pip install gigachat"
      ]
    },
    {
      "cell_type": "markdown",
      "source": [
        "Для работы нам также понадобится векторая база данных faiss-cpu , tiktoken, langchain."
      ],
      "metadata": {
        "id": "qrQRHzTQnWSI"
      }
    },
    {
      "cell_type": "code",
      "source": [
        "!pip install faiss-cpu"
      ],
      "metadata": {
        "id": "mPwQrT95qnsa"
      },
      "execution_count": null,
      "outputs": []
    },
    {
      "cell_type": "code",
      "source": [
        "!pip install tiktoken"
      ],
      "metadata": {
        "id": "DGd0jFDEr7Cq"
      },
      "execution_count": null,
      "outputs": []
    },
    {
      "cell_type": "code",
      "source": [
        "!pip install langchain"
      ],
      "metadata": {
        "id": "P_6DunaKuiPL"
      },
      "execution_count": null,
      "outputs": []
    },
    {
      "cell_type": "code",
      "source": [
        "!pip install langchain-community"
      ],
      "metadata": {
        "id": "LHvBCqFI6or6"
      },
      "execution_count": null,
      "outputs": []
    },
    {
      "cell_type": "markdown",
      "source": [
        "Импорт библиотек"
      ],
      "metadata": {
        "id": "TCL70b6Rw9uR"
      }
    },
    {
      "cell_type": "code",
      "source": [
        "import chromadb"
      ],
      "metadata": {
        "id": "J5ckxThgvk4k"
      },
      "execution_count": null,
      "outputs": []
    },
    {
      "cell_type": "code",
      "source": [
        "import re\n",
        "import requests"
      ],
      "metadata": {
        "id": "U9nvFWa_wDBa"
      },
      "execution_count": null,
      "outputs": []
    },
    {
      "cell_type": "code",
      "source": [
        "from langchain_community.embeddings.gigachat import GigaChatEmbeddings"
      ],
      "metadata": {
        "id": "e1bencZa6bLV"
      },
      "execution_count": null,
      "outputs": []
    },
    {
      "cell_type": "code",
      "source": [
        "\n",
        "import numpy as np\n",
        "import faiss\n",
        "import os\n",
        "from langchain.text_splitter import RecursiveCharacterTextSplitter\n",
        "from langchain.vectorstores import Chroma\n",
        "from chromadb.config import Settings\n",
        "\n",
        "from langchain.document_loaders import TextLoader\n",
        "from langchain.text_splitter import MarkdownTextSplitter\n",
        "\n",
        "# Определение кодировки файла\n",
        "import chardet"
      ],
      "metadata": {
        "id": "UMJUnxVUwKql"
      },
      "execution_count": null,
      "outputs": []
    },
    {
      "cell_type": "code",
      "execution_count": null,
      "metadata": {
        "id": "NbdvEUWO5LCf"
      },
      "outputs": [],
      "source": [
        "from langchain.chat_models.gigachat import GigaChat\n",
        "\n",
        "llm = GigaChat(credentials=\".........\", verify_ssl_certs=True)"
      ]
    },
    {
      "cell_type": "code",
      "execution_count": null,
      "metadata": {
        "id": "j6HsNcHp5O3f"
      },
      "outputs": [],
      "source": [
        "# Передайте полученные авторизационные данные в параметре credentials объекта GigaChat\n",
        "\n",
        "!chat = GigaChat(credentials='.............')"
      ]
    },
    {
      "cell_type": "code",
      "execution_count": null,
      "metadata": {
        "id": "W_L7vSbM5hkv"
      },
      "outputs": [],
      "source": [
        "# Вы также можете явно указать версию API с помощью атрибута scope:\n",
        "# Личное пространство\n",
        "!giga = GigaChat(credentials='....................', scope=\"GIGACHAT_API_PERS\")"
      ]
    },
    {
      "cell_type": "markdown",
      "metadata": {
        "id": "ceiWB95s54m2"
      },
      "source": [
        "Установка сертификатов минцифры\n",
        "\n",
        "Для обращения к GigaChat в вашем приложении или в вашей ОС должны быть установлены сертификаты минцифры.\n",
        "\n",
        "Вы можете установить сертификаты с помощью утилиты gigachain-cli. Для этого:\n",
        "\n",
        "Установите утилиту с помощью менеджера пакетов pip:"
      ]
    },
    {
      "cell_type": "code",
      "execution_count": null,
      "metadata": {
        "id": "BA2PjbOw5zU-"
      },
      "outputs": [],
      "source": [
        "!pip install gigachain-cli"
      ]
    },
    {
      "cell_type": "markdown",
      "metadata": {
        "id": "LA964hPcF7Ia"
      },
      "source": [
        "Перезагрузите среду выполнения :   Среда выполнения > правой кнопкой мышки на перезапустить сеанс > перезагрузить."
      ]
    },
    {
      "cell_type": "markdown",
      "metadata": {
        "id": "NZSg5ohT6QZ3"
      },
      "source": [
        "Установите сертификаты с помощью команды:"
      ]
    },
    {
      "cell_type": "code",
      "execution_count": null,
      "metadata": {
        "colab": {
          "base_uri": "https://localhost:8080/"
        },
        "id": "MJAt9hXY6Rmm",
        "outputId": "7f6a431f-d160-4a51-c6ec-abf50a23e46b"
      },
      "outputs": [
        {
          "output_type": "stream",
          "name": "stdout",
          "text": [
            "Сертификат Минцифры установлен!\n"
          ]
        }
      ],
      "source": [
        "!gigachain install-rus-certs"
      ]
    },
    {
      "cell_type": "code",
      "execution_count": null,
      "metadata": {
        "colab": {
          "base_uri": "https://localhost:8080/"
        },
        "id": "pMdvdLtMmRnd",
        "outputId": "dff6a65c-eff2-4fcc-a235-843367bd44e0"
      },
      "outputs": [
        {
          "output_type": "stream",
          "name": "stdout",
          "text": [
            "Mounted at /content/drive\n"
          ]
        }
      ],
      "source": [
        "# Подгружаем гугл-диск. Там лежит база знаний \"вопрос-ответ\" и \"основная база знаний\" в текстовом формате.\n",
        "\n",
        "from google.colab import drive\n",
        "drive.mount('/content/drive')"
      ]
    },
    {
      "cell_type": "markdown",
      "metadata": {
        "id": "KduV3ooqiioQ"
      },
      "source": [
        "Применим RAG-подход."
      ]
    },
    {
      "cell_type": "markdown",
      "metadata": {
        "id": "plJwrlmQScbN"
      },
      "source": [
        "Далее приступаем к адаптации нашего 6(9) и 5(8)занятий ChatGPTprofessional под задачу поставленную на стажировке. Начинаем дорарабатывать нейроконсультанта."
      ]
    },
    {
      "cell_type": "code",
      "execution_count": null,
      "metadata": {
        "id": "q6Waxcs9bkMd"
      },
      "outputs": [],
      "source": [
        "# функция для загрузки документа по ссылке из гугл драйв\n",
        "def load_document_text(url: str) -> str:\n",
        "    # Extract the document ID from the URL\n",
        "    match_ = re.search('/document/d/([a-zA-Z0-9-_]+)', url)\n",
        "    if match_ is None:\n",
        "        raise ValueError('Invalid Google Docs URL')\n",
        "    doc_id = match_.group(1)\n",
        "\n",
        "    # Download the document as plain text\n",
        "    response = requests.get(f'https://docs.google.com/document/d/{doc_id}/export?format=txt')\n",
        "    response.raise_for_status()\n",
        "    text = response.text\n",
        "\n",
        "    return text\n"
      ]
    },
    {
      "cell_type": "code",
      "execution_count": null,
      "metadata": {
        "id": "5YXkD5hO306T"
      },
      "outputs": [],
      "source": [
        "# База знаний \"вопрос-ответ\", которая будет подаваться в langChain\n",
        "database1= load_document_text('https://docs.google.com/document/d/1WE7Ch1K0ef4zKdOMAQIZ0WLZrkF2PGccaSse0Hn7jKk/edit?usp=sharing')   # заполните необходимым значением, база данных"
      ]
    },
    {
      "cell_type": "code",
      "execution_count": null,
      "metadata": {
        "id": "2OLKG_TKEF_b"
      },
      "outputs": [],
      "source": [
        "database1[:4000]"
      ]
    },
    {
      "cell_type": "markdown",
      "metadata": {
        "id": "fZdcdyv_QE8Y"
      },
      "source": [
        "Видим часть базы знаний вопрос-ответ. Ответ и вопрос по  по базе знаний \"вопрос-ответ\"."
      ]
    },
    {
      "cell_type": "code",
      "execution_count": null,
      "metadata": {
        "id": "kxaQKnqTDL9q"
      },
      "outputs": [],
      "source": [
        "def text_to_markdown(text):\n",
        "    # Заменяем все номера пунктов с 1 до 45 на решетки\n",
        "    text = re.sub(r'^(?:[1-9]|[1-3][0-9]|4[0-5])\\.', '#', text, flags=re.MULTILINE)\n",
        "\n",
        "    # Добавляем заголовок 1 уровня на основе арабских чисел (без переноса строки)\n",
        "    # и дублируем его строчкой ниже\n",
        "    def replace_header1(match):\n",
        "        return f\"# {'#' * len(match.group(1))} {match.group(2)}\\n{match.group(2)}\"\n",
        "\n",
        "    text = re.sub(r'^(I{1,3})\\. (.+)', replace_header1, text, flags=re.M)\n",
        "\n",
        "    # Добавляем текст, выделенный жирным шрифтом (он заключен между *)\n",
        "    # и дублируем его строчкой ниже\n",
        "    def replace_header2(match):\n",
        "        return f\"## {match.group(1)}\\n{match.group(1)}\"\n",
        "\n",
        "    text = re.sub(r'\\*([^\\*]+)\\*', replace_header2, text)\n",
        "\n",
        "    # Заменяем число 1 на решетку в начале текста\n",
        "    text = re.sub(r'^1\\.', '#', text, flags=re.MULTILINE)\n",
        "\n",
        "    return text\n"
      ]
    },
    {
      "cell_type": "code",
      "execution_count": null,
      "metadata": {
        "id": "KtFipjrxKK89"
      },
      "outputs": [],
      "source": [
        "markdown1 = text_to_markdown(database1)                 # заполните необходимым значением\n",
        "print(markdown1[:150000])"
      ]
    },
    {
      "cell_type": "markdown",
      "metadata": {
        "id": "JzJ5A3PTY-xu"
      },
      "source": [
        "Создание базы данных эмбеддингов\n",
        "\n",
        "Эмбеддинг это векторное представление текста, которое может быть использовано для определения смысловой близости текстов. Векторная база данных хранит тексты и соответствующие им эмбеддинги, а также умеет выполнять поиск по ним. Для работы с базой данных мы создаем объект GigaChatEmbeddings и передаем его в базу данных Chroma.\n",
        "\n",
        "Обратите внимание, что сервис для вычисления эмбеддингов может тарифицироваться отдельно от стоимости модели GigaChat.\n",
        "\n",
        "Напишу сразу, оплату эмбеддингов произвел отдельно для доступа к векторному хранилищу и модели GigaChatEmbeddings: затраты Сбером заявлены в пределах 1000 рублей на 6 месяцев , дают 10000 токенов."
      ]
    },
    {
      "cell_type": "markdown",
      "metadata": {
        "id": "o7w8UDD5UIaV"
      },
      "source": [
        "Предобрабатываем документы базы знаний сплитером MarkdownTextSplitter"
      ]
    },
    {
      "cell_type": "code",
      "execution_count": null,
      "metadata": {
        "colab": {
          "base_uri": "https://localhost:8080/"
        },
        "id": "CEyCQ-dnJqZZ",
        "outputId": "7312572a-7f71-47fc-fe3e-57143aad66ae"
      },
      "outputs": [
        {
          "output_type": "stream",
          "name": "stdout",
          "text": [
            "Total documents1: 111\n"
          ]
        }
      ],
      "source": [
        "with open('/content/drive/MyDrive/Colab Notebooks/stagirovki/neuro_consultant_Rosstandart/question_and_answer.txt', 'rb') as file:\n",
        "    rawdata = file.read()\n",
        "    result = chardet.detect(rawdata)\n",
        "    encoding = result['encoding']\n",
        "\n",
        "# Загрузка файла 'question_and_answer.txt' с заданной кодировкой\n",
        "loader = TextLoader('/content/drive/MyDrive/Colab Notebooks/stagirovki/neuro_consultant_Rosstandart/question_and_answer.txt', encoding=encoding)\n",
        "documents1 = loader.load()\n",
        "\n",
        "# Инициализация объекта для разделения текста с использованием разметки Markdown\n",
        "text_splitter = MarkdownTextSplitter(\n",
        "    chunk_size=1000,\n",
        "    chunk_overlap=200,\n",
        ")\n",
        "\n",
        "# Разделение текста на документы\n",
        "documents1 = text_splitter.split_documents(documents1)\n",
        "print(f\"Total documents1: {len(documents1)}\")\n"
      ]
    },
    {
      "cell_type": "markdown",
      "metadata": {
        "id": "x_wpHUTrsdbt"
      },
      "source": [
        "Теперь обработаем \"основную базу знаний с нормативными документами\""
      ]
    },
    {
      "cell_type": "code",
      "execution_count": null,
      "metadata": {
        "id": "xvSB9INI1AoT"
      },
      "outputs": [],
      "source": [
        "# База знаний, которая будет подаваться в langChain\n",
        "database2= load_document_text('https://docs.google.com/document/d/1VtmWp2rstlXl1GZPnJnFD8_hnVX8igbr09eUCIa_sPA/edit?usp=sharing')   # заполните необходимым значением, база данных"
      ]
    },
    {
      "cell_type": "code",
      "execution_count": null,
      "metadata": {
        "id": "fCpuDTJy1J1S"
      },
      "outputs": [],
      "source": [
        "database2[:4000]"
      ]
    },
    {
      "cell_type": "code",
      "execution_count": null,
      "metadata": {
        "id": "FW2s81mMsgVV"
      },
      "outputs": [],
      "source": [
        "# Функция для загрузки документа по ссылке из гугл драйв\n",
        "def load_document_text(url: str) -> str:\n",
        "    # Extract the document ID from the URL\n",
        "    match_ = re.search('/document/d/([a-zA-Z0-9-_]+)', url)\n",
        "    if match_ is None:\n",
        "        raise ValueError('Invalid Google Docs URL')\n",
        "    doc_id = match_.group(1)\n",
        "\n",
        "    # Download the document as plain text\n",
        "    response = requests.get(f'https://docs.google.com/document/d/{doc_id}/export?format=txt')\n",
        "    response.raise_for_status()\n",
        "    text = response.text\n",
        "\n",
        "    return text\n",
        "\n",
        "# Ссылка на ваш Google Документ\n",
        "google_docs_url = 'https://docs.google.com/document/d/1VtmWp2rstlXl1GZPnJnFD8_hnVX8igbr09eUCIa_sPA/edit?usp=sharing'\n",
        "\n",
        "# Загрузка текста документа\n",
        "document2 = load_document_text(google_docs_url)"
      ]
    },
    {
      "cell_type": "code",
      "execution_count": null,
      "metadata": {
        "id": "o2b9Zbo5xP8X"
      },
      "outputs": [],
      "source": [
        "document2"
      ]
    },
    {
      "cell_type": "code",
      "execution_count": null,
      "metadata": {
        "id": "EtjhQu3xxaC3"
      },
      "outputs": [],
      "source": [
        "markdown2 = document2\n",
        "print(markdown2[:150000])"
      ]
    },
    {
      "cell_type": "markdown",
      "metadata": {
        "id": "qDiJdl1RycDk"
      },
      "source": [
        "Предобрабатываем документы \"основной базы знаний нормативных документов\" сплитером MarkdownTextSplitter"
      ]
    },
    {
      "cell_type": "code",
      "execution_count": null,
      "metadata": {
        "colab": {
          "base_uri": "https://localhost:8080/"
        },
        "id": "rIKCv25MzbTE",
        "outputId": "127e95ec-63ec-43aa-ab97-73911a14bded"
      },
      "outputs": [
        {
          "output_type": "stream",
          "name": "stdout",
          "text": [
            "Total documents2: 1422\n"
          ]
        }
      ],
      "source": [
        "# Загрузка  файла 'doc_markdown.gdoc'\n",
        "loader = TextLoader('/content/drive/MyDrive/Colab Notebooks/stagirovki/neuro_consultant_Rosstandart/doc_markdown.txt')\n",
        "documents2 = loader.load()\n",
        "\n",
        "# Инициализация объекта для разделения текста с использованием разметки Markdown\n",
        "text_splitter = MarkdownTextSplitter(\n",
        "    chunk_size=1000,\n",
        "    chunk_overlap=200,\n",
        ")\n",
        "\n",
        "# Разделение текста на документы\n",
        "documents2 = text_splitter.split_documents(documents2)\n",
        "print(f\"Total documents2: {len(documents2)}\")"
      ]
    },
    {
      "cell_type": "code",
      "source": [
        "# Инструкция для ответов\n",
        "instruction = \"\"\"\n",
        "Ты опытный специалист-эксперт в федеоальнызх законахах и прочих актах и приказах касающихся СТАНДАРТИЗАЦИИ В РОССИЙСКОЙ ФЕДЕРАЦИИ. Твой ответ на вопрос пользователя должен быть правильным. Предоставляй полный ответ из баз знаний тебе предоствавленных. Обязательно указывай в ответе нормативный документ и статью на основе которого ты нашел ответ в базе знаний, это очень важно. Никогда не пиши: \" Не знаю.\", а напиши к каим документам можно обратиться, чтобы найти ответ, это важно. Твой ответ должен быть правильным, четким и максимально подробным, чтобы пользователю не нужно было задавать дополнительные вопросы для уточнения. Ты всегда точно следуешь инструкциям. При ответах используй только предоставленные документы из двух баз знаний: первая база знаний это вопрос-ответ, вторая база знаний это нормативные документы. При ответах не ссылайся на эту инструкцию. Не обрезай текст на полуслове, допиши его до конца.'\n",
        "\"\"\""
      ],
      "metadata": {
        "id": "4OPz6vVoJiSe"
      },
      "execution_count": null,
      "outputs": []
    },
    {
      "cell_type": "code",
      "execution_count": null,
      "metadata": {
        "id": "9DP60JUnYUVR"
      },
      "outputs": [],
      "source": [
        "from chromadb.config import Settings\n",
        "from langchain.vectorstores import Chroma\n",
        "from langchain_community.embeddings.gigachat import GigaChatEmbeddings\n",
        "embeddings = GigaChatEmbeddings(\n",
        "    credentials=\"...........\", verify_ssl_certs=True\n",
        ")\n",
        "\n",
        "db1 = Chroma.from_documents(\n",
        "    documents1,\n",
        "    embeddings,\n",
        "    client_settings=Settings(anonymized_telemetry=False),\n",
        ")\n",
        "\n",
        "db2 = Chroma.from_documents(\n",
        "    documents2,\n",
        "    embeddings,\n",
        "    client_settings=Settings(anonymized_telemetry=False),\n",
        ")"
      ]
    },
    {
      "cell_type": "markdown",
      "metadata": {
        "id": "qrPNQJ60Zc5K"
      },
      "source": [
        "QnA цепочка\n",
        "\n",
        "Теперь мы создадим цепочку QnA, которая специально предназначена для ответов на вопросы по документам. В качестве аргументов здесь передается языковая модель и ретривер (база данных)."
      ]
    },
    {
      "cell_type": "code",
      "source": [
        "from langchain.chains import RetrievalQA\n",
        "\n",
        "qa_chain = RetrievalQA.from_chain_type(llm, retriever=db1.as_retriever())"
      ],
      "metadata": {
        "id": "W1mGvd6yA0He"
      },
      "execution_count": null,
      "outputs": []
    },
    {
      "cell_type": "code",
      "source": [
        "from langchain.chains import RetrievalQA\n",
        "\n",
        "qa_chain = RetrievalQA.from_chain_type(llm, retriever=db2.as_retriever())"
      ],
      "metadata": {
        "id": "LKqdSfyrCEh5"
      },
      "execution_count": null,
      "outputs": []
    },
    {
      "cell_type": "code",
      "source": [
        "from langchain.chains import RetrievalQA\n",
        "\n",
        "def get_answer(query, embeddings, qa_chain, instruction):\n",
        "    try:\n",
        "        # Подготовка запроса пользователя с учётом инструкции\n",
        "        prepared_query = str(instruction) + ' ' + query\n",
        "        # Поиск ответа на запрос\n",
        "        answer = qa_chain(prepared_query, embeddings)\n",
        "        return answer\n",
        "    except Exception as e:\n",
        "        return str(e)\n"
      ],
      "metadata": {
        "id": "HDRmw1LcLhCo"
      },
      "execution_count": null,
      "outputs": []
    },
    {
      "cell_type": "markdown",
      "metadata": {
        "id": "Xsj0lZs4ZtdD"
      },
      "source": [
        "Наконец можно задать вопросы нашей цепочке и получить правильные ответы!"
      ]
    },
    {
      "cell_type": "code",
      "source": [
        "# Зададим 1вопрос пользователя\n",
        "user_query = 'Возможно ли оформление результатов поверки нанесением знака поверки на самоклеящуюся этикетку (в том числе с помощью принтера), которая в дальнейшем наклеивается на средство измерений или вклеивается в паспорт?'\n",
        "print(get_answer(user_query, embeddings, qa_chain, instruction))"
      ],
      "metadata": {
        "colab": {
          "base_uri": "https://localhost:8080/"
        },
        "id": "GuNMj-bM1bTM",
        "outputId": "72da1d47-1e52-49b1-bf39-12a4ec33c8d6"
      },
      "execution_count": null,
      "outputs": [
        {
          "output_type": "stream",
          "name": "stdout",
          "text": [
            "{'result': 'Да, возможно оформление результатов поверки нанесением знака поверки на самоклеящуюся этикетку (в том числе с помощью принтера), которая в дальнейшем наклеивается на средство измерений или вклеивается в паспорт. Это предусмотрено требованиями к содержанию свидетельства о поверке, установленными Приложением N 3 к приказу Минпромторга России от 31 июля 2020 г. N 2510.'}\n"
          ]
        }
      ]
    },
    {
      "cell_type": "code",
      "source": [
        "# Зададим 2 вопрос пользователя\n",
        "user_query = 'Каков порядок представления на поверку средств измерений, изготовленных до 29.12.2021 и не имеющих заводских номеров?'\n",
        "print(get_answer(user_query, embeddings, qa_chain, instruction))"
      ],
      "metadata": {
        "id": "_gOntRjx1oFi"
      },
      "execution_count": null,
      "outputs": []
    }
  ],
  "metadata": {
    "colab": {
      "provenance": [],
      "include_colab_link": true
    },
    "kernelspec": {
      "display_name": "Python 3",
      "name": "python3"
    },
    "language_info": {
      "name": "python"
    }
  },
  "nbformat": 4,
  "nbformat_minor": 0
}