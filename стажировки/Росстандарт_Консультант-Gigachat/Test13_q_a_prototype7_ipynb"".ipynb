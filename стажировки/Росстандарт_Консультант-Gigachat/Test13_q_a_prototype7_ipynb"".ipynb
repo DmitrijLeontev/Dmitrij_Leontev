{
  "cells": [
    {
      "cell_type": "markdown",
      "metadata": {
        "id": "view-in-github",
        "colab_type": "text"
      },
      "source": [
        "<a href=\"https://colab.research.google.com/github/DmitrijLeontev/Dmitrij_Leontev/blob/main/%D1%81%D1%82%D0%B0%D0%B6%D0%B8%D1%80%D0%BE%D0%B2%D0%BA%D0%B8/%D0%A0%D0%BE%D1%81%D1%81%D1%82%D0%B0%D0%BD%D0%B4%D0%B0%D1%80%D1%82_%D0%9A%D0%BE%D0%BD%D1%81%D1%83%D0%BB%D1%8C%D1%82%D0%B0%D0%BD%D1%82-Gigachat/Test13_q_a_prototype7_ipynb%22%22.ipynb\" target=\"_parent\"><img src=\"https://colab.research.google.com/assets/colab-badge.svg\" alt=\"Open In Colab\"/></a>"
      ]
    },
    {
      "cell_type": "markdown",
      "metadata": {
        "id": "9kS79IOScA0g"
      },
      "source": [
        "Подход после 12 встречи\n",
        "\n",
        "Тест прототипа на полной базе вопрос-ответ с промптом и динамической базой знаний из двух баз, полученной конкатенацией баз в одну (documents = documents1 + documents2)."
      ]
    },
    {
      "cell_type": "markdown",
      "metadata": {
        "id": "uWd8rU8BeiJn"
      },
      "source": [
        "Установка\n",
        "\n",
        "Для работы нам понадобится векторая база данных. Мы будем использовать Chroma и faiss-cpu."
      ]
    },
    {
      "cell_type": "code",
      "execution_count": null,
      "metadata": {
        "id": "jSakN6Kd4NVv"
      },
      "outputs": [],
      "source": [
        "!pip install chromadb --quiet"
      ]
    },
    {
      "cell_type": "markdown",
      "metadata": {
        "id": "YzwuGe665Mz-"
      },
      "source": [
        "Инициализация модели\n",
        "\n",
        "Теперь инициализируем модель GigaChat."
      ]
    },
    {
      "cell_type": "code",
      "execution_count": null,
      "metadata": {
        "id": "PNE2LbUg3wse"
      },
      "outputs": [],
      "source": [
        "!pip install gigachain"
      ]
    },
    {
      "cell_type": "code",
      "execution_count": null,
      "metadata": {
        "id": "vgysT0ms4QlH"
      },
      "outputs": [],
      "source": [
        "!pip install gigachat"
      ]
    },
    {
      "cell_type": "markdown",
      "source": [
        "Для работы нам также понадобится векторая база данных faiss-cpu , tiktoken, langchain."
      ],
      "metadata": {
        "id": "qrQRHzTQnWSI"
      }
    },
    {
      "cell_type": "code",
      "source": [
        "!pip install faiss-cpu"
      ],
      "metadata": {
        "id": "mPwQrT95qnsa"
      },
      "execution_count": null,
      "outputs": []
    },
    {
      "cell_type": "code",
      "source": [
        "!pip install tiktoken"
      ],
      "metadata": {
        "id": "DGd0jFDEr7Cq"
      },
      "execution_count": null,
      "outputs": []
    },
    {
      "cell_type": "code",
      "source": [
        "!pip install langchain"
      ],
      "metadata": {
        "id": "P_6DunaKuiPL"
      },
      "execution_count": null,
      "outputs": []
    },
    {
      "cell_type": "code",
      "source": [
        "!pip install langchain-community"
      ],
      "metadata": {
        "id": "LHvBCqFI6or6"
      },
      "execution_count": null,
      "outputs": []
    },
    {
      "cell_type": "markdown",
      "source": [
        "Импорт библиотек"
      ],
      "metadata": {
        "id": "TCL70b6Rw9uR"
      }
    },
    {
      "cell_type": "code",
      "source": [
        "import chromadb"
      ],
      "metadata": {
        "id": "J5ckxThgvk4k"
      },
      "execution_count": null,
      "outputs": []
    },
    {
      "cell_type": "code",
      "source": [
        "import re\n",
        "import requests"
      ],
      "metadata": {
        "id": "U9nvFWa_wDBa"
      },
      "execution_count": null,
      "outputs": []
    },
    {
      "cell_type": "code",
      "source": [
        "from langchain_community.embeddings.gigachat import GigaChatEmbeddings"
      ],
      "metadata": {
        "id": "e1bencZa6bLV"
      },
      "execution_count": null,
      "outputs": []
    },
    {
      "cell_type": "code",
      "source": [
        "\n",
        "import numpy as np\n",
        "import faiss\n",
        "import os\n",
        "from langchain.text_splitter import RecursiveCharacterTextSplitter\n",
        "from langchain.vectorstores import Chroma\n",
        "from chromadb.config import Settings\n",
        "\n",
        "from langchain.document_loaders import TextLoader\n",
        "from langchain.text_splitter import MarkdownTextSplitter\n",
        "\n",
        "# Определение кодировки файла\n",
        "import chardet"
      ],
      "metadata": {
        "id": "UMJUnxVUwKql"
      },
      "execution_count": null,
      "outputs": []
    },
    {
      "cell_type": "code",
      "execution_count": null,
      "metadata": {
        "id": "NbdvEUWO5LCf"
      },
      "outputs": [],
      "source": [
        "from langchain.chat_models.gigachat import GigaChat\n",
        "\n",
        "llm = GigaChat(credentials=\".....................\", verify_ssl_certs=True)"
      ]
    },
    {
      "cell_type": "code",
      "execution_count": null,
      "metadata": {
        "id": "j6HsNcHp5O3f"
      },
      "outputs": [],
      "source": [
        "# Передайте полученные авторизационные данные в параметре credentials объекта GigaChat\n",
        "\n",
        "!chat = GigaChat(credentials='.................')"
      ]
    },
    {
      "cell_type": "code",
      "execution_count": null,
      "metadata": {
        "id": "W_L7vSbM5hkv"
      },
      "outputs": [],
      "source": [
        "# Вы также можете явно указать версию API с помощью атрибута scope:\n",
        "# Личное пространство\n",
        "!giga = GigaChat(credentials='............', scope=\"GIGACHAT_API_PERS\")"
      ]
    },
    {
      "cell_type": "markdown",
      "metadata": {
        "id": "ceiWB95s54m2"
      },
      "source": [
        "Установка сертификатов минцифры\n",
        "\n",
        "Для обращения к GigaChat в вашем приложении или в вашей ОС должны быть установлены сертификаты минцифры.\n",
        "\n",
        "Вы можете установить сертификаты с помощью утилиты gigachain-cli. Для этого:\n",
        "\n",
        "Установите утилиту с помощью менеджера пакетов pip:"
      ]
    },
    {
      "cell_type": "code",
      "execution_count": null,
      "metadata": {
        "id": "BA2PjbOw5zU-"
      },
      "outputs": [],
      "source": [
        "!pip install gigachain-cli"
      ]
    },
    {
      "cell_type": "markdown",
      "metadata": {
        "id": "LA964hPcF7Ia"
      },
      "source": [
        "Перезагрузите среду выполнения :   Среда выполнения > правой кнопкой мышки на перезапустить сеанс > перезагрузить."
      ]
    },
    {
      "cell_type": "markdown",
      "metadata": {
        "id": "NZSg5ohT6QZ3"
      },
      "source": [
        "Установите сертификаты с помощью команды:"
      ]
    },
    {
      "cell_type": "code",
      "execution_count": null,
      "metadata": {
        "colab": {
          "base_uri": "https://localhost:8080/"
        },
        "id": "MJAt9hXY6Rmm",
        "outputId": "e05f46b1-22d8-4ea9-b5fb-2606bb2dd47c"
      },
      "outputs": [
        {
          "output_type": "stream",
          "name": "stdout",
          "text": [
            "Сертификат Минцифры установлен!\n"
          ]
        }
      ],
      "source": [
        "!gigachain install-rus-certs"
      ]
    },
    {
      "cell_type": "code",
      "execution_count": null,
      "metadata": {
        "colab": {
          "base_uri": "https://localhost:8080/"
        },
        "id": "pMdvdLtMmRnd",
        "outputId": "60ac5f73-8a84-4dc5-fede-e6dc6cb8ded6"
      },
      "outputs": [
        {
          "output_type": "stream",
          "name": "stdout",
          "text": [
            "Mounted at /content/drive\n"
          ]
        }
      ],
      "source": [
        "# Подгружаем гугл-диск. Там лежит база знаний \"вопрос-ответ\" и \"основная база знаний\" в текстовом формате.\n",
        "\n",
        "from google.colab import drive\n",
        "drive.mount('/content/drive')"
      ]
    },
    {
      "cell_type": "markdown",
      "metadata": {
        "id": "KduV3ooqiioQ"
      },
      "source": [
        "Применим RAG-подход."
      ]
    },
    {
      "cell_type": "markdown",
      "metadata": {
        "id": "plJwrlmQScbN"
      },
      "source": [
        "Далее приступаем к адаптации нашего 6(9) и 5(8)занятий ChatGPTprofessional под задачу поставленную на стажировке. Начинаем дорарабатывать нейроконсультанта."
      ]
    },
    {
      "cell_type": "code",
      "execution_count": null,
      "metadata": {
        "id": "q6Waxcs9bkMd"
      },
      "outputs": [],
      "source": [
        "# функция для загрузки документа по ссылке из гугл драйв\n",
        "def load_document_text(url: str) -> str:\n",
        "    # Extract the document ID from the URL\n",
        "    match_ = re.search('/document/d/([a-zA-Z0-9-_]+)', url)\n",
        "    if match_ is None:\n",
        "        raise ValueError('Invalid Google Docs URL')\n",
        "    doc_id = match_.group(1)\n",
        "\n",
        "    # Download the document as plain text\n",
        "    response = requests.get(f'https://docs.google.com/document/d/{doc_id}/export?format=txt')\n",
        "    response.raise_for_status()\n",
        "    text = response.text\n",
        "\n",
        "    return text\n"
      ]
    },
    {
      "cell_type": "code",
      "execution_count": null,
      "metadata": {
        "id": "5YXkD5hO306T"
      },
      "outputs": [],
      "source": [
        "# База знаний \"вопрос-ответ\", которая будет подаваться в langChain\n",
        "database1= load_document_text('https://docs.google.com/document/d/1WE7Ch1K0ef4zKdOMAQIZ0WLZrkF2PGccaSse0Hn7jKk/edit?usp=sharing')   # заполните необходимым значением, база данных"
      ]
    },
    {
      "cell_type": "code",
      "execution_count": null,
      "metadata": {
        "colab": {
          "base_uri": "https://localhost:8080/",
          "height": 88
        },
        "id": "2OLKG_TKEF_b",
        "outputId": "34199d61-bd1b-4a2a-c6cb-e16a38c6aaba"
      },
      "outputs": [
        {
          "output_type": "execute_result",
          "data": {
            "text/plain": [
              "'\\ufeffТребования к измерениям при проведении работ по ОТ\\r\\nВопрос:\\r\\nКакие предъявляются требования к измерениям при проведении работ\\r\\nпо обеспечению безопасных условий и охраны труда, а также к лицам, которые их проводят?\\r\\nОтвет:\\r\\nЗаконодательство Российской Федерации об обеспечении единства измерений не устанавливает требования к лицам, осуществляющих работы по обеспечению безопасных условий и охраны труда.\\r\\nТребования к работам по обеспечению безопасных условий и охраны труда, в том числе оформлению результатов данных работ, устанавливаются другими нормативными правовыми и законодательными актами, в том числе Трудовым кодексом Российской Федерации от 30.12.2001 № 197-ФЗ, Федеральным законом от 28.12.2013 № 426-ФЗ «О специальной оценке условий труда» (далее – Закон № 426-ФЗ), приказом Минтруда России от 24.01.2014\\r\\n№ 33н «Об утверждении Методики проведения специальной оценки условий труда, Классификатора вредных и (или) опасных производственных факторов, формы отчета о проведении специальной оценки условий труда и инструкции по ее заполнению» и т.д.\\r\\nНапример, в соответствии с пунктом 3 статьи 12 Закона № 426-ФЗ исследования (испытания) и измерения фактических значений вредных и (или) опасных производственных факторов осуществляются испытательной лабораторией (центром), экспертами и (или) иными работниками организации, проводящей специальную оценку условий труда.\\r\\n2. Сфера ГРОЕИ и судебные поручения.docx\\r\\nВопрос:\\r\\nКакой нормативный правовой акт устанавливает перечень измерений, реализуемых в сфере государственного регулирования обеспечения единства измерений при выполнении поручений суда, органов прокуратуры, государственных органов исполнительной власти, в том числе обязательные метрологические требования к ним.\\r\\nОтвет:\\r\\nВ соответствии с частью 1 статьи 9 Федерального закона от 26.06.2008\\r\\n№ 102-ФЗ «Об обеспечении единства измерений» (далее - Федеральный закон) в сфере государственного регулирования обеспечения единства измерений к применению допускаются средства измерений утвержденного типа, прошедшие поверку, а также обеспечивающие соблюдение установленных законодательством Российской Федерации об обеспечении единства измерений обязательных требований, включая обязательные метрологические требования к измерениям, обязательные метрологические и технические требования к средствам измерений, и установленных законодательством Российской Федерации о техническом регулировании обязательных требований.\\r\\nСфера государственного регулирования обеспечения единства измерений согласно пункту 16 части 3 статьи 1 Федерального закона распространяется на измерения, проводимые при выполнении поручений суда, органов прокуратуры, государственных органов исполнительной власти.\\r\\nКроме того, в соответствии с частью 5 статьи 1 Федерального закона сфера государственного регулирования обеспечения единства измерений распространяется в том числе на средства измерений, к которым установлены обязательные требования.\\r\\nПри выполнении измерений в сфере государственного регулирования обеспечения единства измерений должны быть обеспечены показатели точности, установленные в Перечне измерений, относящихся к сфере государственного регулирования обеспечения единства измерений, утвержденного постановлением Правительства Российской Федерации от 16.11.2020 № 1847 (далее - Перечень измерений). Примечанием к Перечню измерений установлено, что обязательные метрологические требования к измерениям распространяются также на измерения, проводимые в том числе при выполнении поручений суда, органов прокуратуры, государственных органов исполнительной власти.\\r\\nПри этом, при выполнении измерений в сфере государственного регулирования обеспечения единства измерений, не включенных в Перечень измерений, необходимо обеспечивать показатели точности измерений, установленные в нормативных правовых актах или нормативных документах. Для выполнения измерений, к показателям точности которых обязательные требования Перечнем измерений или другими нормативными правовыми актами не установлены, в '"
            ],
            "application/vnd.google.colaboratory.intrinsic+json": {
              "type": "string"
            }
          },
          "metadata": {},
          "execution_count": 21
        }
      ],
      "source": [
        "database1[:4000]"
      ]
    },
    {
      "cell_type": "markdown",
      "metadata": {
        "id": "fZdcdyv_QE8Y"
      },
      "source": [
        "Видим часть базы знаний вопрос-ответ. Ответ и вопрос по  по базе знаний \"вопрос-ответ\"."
      ]
    },
    {
      "cell_type": "code",
      "execution_count": null,
      "metadata": {
        "id": "kxaQKnqTDL9q"
      },
      "outputs": [],
      "source": [
        "def text_to_markdown(text):\n",
        "    # Заменяем все номера пунктов с 1 до 45 на решетки\n",
        "    text = re.sub(r'^(?:[1-9]|[1-3][0-9]|4[0-5])\\.', '#', text, flags=re.MULTILINE)\n",
        "\n",
        "    # Добавляем заголовок 1 уровня на основе арабских чисел (без переноса строки)\n",
        "    # и дублируем его строчкой ниже\n",
        "    def replace_header1(match):\n",
        "        return f\"# {'#' * len(match.group(1))} {match.group(2)}\\n{match.group(2)}\"\n",
        "\n",
        "    text = re.sub(r'^(I{1,3})\\. (.+)', replace_header1, text, flags=re.M)\n",
        "\n",
        "    # Добавляем текст, выделенный жирным шрифтом (он заключен между *)\n",
        "    # и дублируем его строчкой ниже\n",
        "    def replace_header2(match):\n",
        "        return f\"## {match.group(1)}\\n{match.group(1)}\"\n",
        "\n",
        "    text = re.sub(r'\\*([^\\*]+)\\*', replace_header2, text)\n",
        "\n",
        "    # Заменяем число 1 на решетку в начале текста\n",
        "    text = re.sub(r'^1\\.', '#', text, flags=re.MULTILINE)\n",
        "\n",
        "    return text\n"
      ]
    },
    {
      "cell_type": "code",
      "execution_count": null,
      "metadata": {
        "id": "KtFipjrxKK89"
      },
      "outputs": [],
      "source": [
        "markdown1 = text_to_markdown(database1)                 # заполните необходимым значением\n",
        "print(markdown1[:150000])"
      ]
    },
    {
      "cell_type": "markdown",
      "metadata": {
        "id": "JzJ5A3PTY-xu"
      },
      "source": [
        "Создание базы данных эмбеддингов\n",
        "\n",
        "Эмбеддинг это векторное представление текста, которое может быть использовано для определения смысловой близости текстов. Векторная база данных хранит тексты и соответствующие им эмбеддинги, а также умеет выполнять поиск по ним. Для работы с базой данных мы создаем объект GigaChatEmbeddings и передаем его в базу данных Chroma.\n",
        "\n",
        "Обратите внимание, что сервис для вычисления эмбеддингов может тарифицироваться отдельно от стоимости модели GigaChat.\n",
        "\n",
        "Напишу сразу, оплату эмбеддингов произвел отдельно для доступа к векторному хранилищу и модели GigaChatEmbeddings: затраты Сбером заявлены в пределах 1000 рублей на 6 месяцев , дают 10000 токенов."
      ]
    },
    {
      "cell_type": "markdown",
      "metadata": {
        "id": "o7w8UDD5UIaV"
      },
      "source": [
        "Предобрабатываем документы базы знаний сплитером MarkdownTextSplitter"
      ]
    },
    {
      "cell_type": "code",
      "execution_count": null,
      "metadata": {
        "colab": {
          "base_uri": "https://localhost:8080/"
        },
        "id": "CEyCQ-dnJqZZ",
        "outputId": "185cb7e8-a0ed-4d10-97d0-f74c22cba1ee"
      },
      "outputs": [
        {
          "output_type": "stream",
          "name": "stdout",
          "text": [
            "Total documents1: 111\n"
          ]
        }
      ],
      "source": [
        "with open('/content/drive/MyDrive/Colab Notebooks/stagirovki/neuro_consultant_Rosstandart/question_and_answer.txt', 'rb') as file:\n",
        "    rawdata = file.read()\n",
        "    result = chardet.detect(rawdata)\n",
        "    encoding = result['encoding']\n",
        "\n",
        "# Загрузка файла 'question_and_answer.txt' с заданной кодировкой\n",
        "loader = TextLoader('/content/drive/MyDrive/Colab Notebooks/stagirovki/neuro_consultant_Rosstandart/question_and_answer.txt', encoding=encoding)\n",
        "documents1 = loader.load()\n",
        "\n",
        "# Инициализация объекта для разделения текста с использованием разметки Markdown\n",
        "text_splitter = MarkdownTextSplitter(\n",
        "    chunk_size=1000,\n",
        "    chunk_overlap=200,\n",
        ")\n",
        "\n",
        "# Разделение текста на документы\n",
        "documents1 = text_splitter.split_documents(documents1)\n",
        "print(f\"Total documents1: {len(documents1)}\")\n"
      ]
    },
    {
      "cell_type": "markdown",
      "metadata": {
        "id": "x_wpHUTrsdbt"
      },
      "source": [
        "Теперь обработаем \"основную базу знаний с нормативными документами\""
      ]
    },
    {
      "cell_type": "code",
      "execution_count": null,
      "metadata": {
        "id": "xvSB9INI1AoT"
      },
      "outputs": [],
      "source": [
        "# База знаний, которая будет подаваться в langChain\n",
        "database2= load_document_text('https://docs.google.com/document/d/1VtmWp2rstlXl1GZPnJnFD8_hnVX8igbr09eUCIa_sPA/edit?usp=sharing')   # заполните необходимым значением, база данных"
      ]
    },
    {
      "cell_type": "code",
      "execution_count": null,
      "metadata": {
        "colab": {
          "base_uri": "https://localhost:8080/",
          "height": 88
        },
        "id": "fCpuDTJy1J1S",
        "outputId": "3dff45ed-7d16-4015-f058-99c3f0f19584"
      },
      "outputs": [
        {
          "output_type": "execute_result",
          "data": {
            "text/plain": [
              "'\\ufeffДокумент предоставлен КонсультантПлюс\\r\\n\\r\\n\\r\\n# ПРАВИТЕЛЬСТВО РОССИЙСКОЙ ФЕДЕРАЦИИ ПОСТАНОВЛЕНИЕ от 16 ноября 2020 г. N 1847 ОБ УТВЕРЖДЕНИИ ПЕРЕЧНЯ ИЗМЕРЕНИЙ, ОТНОСЯЩИХСЯ К СФЕРЕ ГОСУДАРСТВЕННОГО РЕГУЛИРОВАНИЯ ОБЕСПЕЧЕНИЯ ЕДИНСТВА ИЗМЕРЕНИЙ\\r\\n# ПРАВИТЕЛЬСТВО РОССИЙСКОЙ ФЕДЕРАЦИИ ПОСТАНОВЛЕНИЕ от 16 ноября 2020 г. N 1847 ОБ УТВЕРЖДЕНИИ ПЕРЕЧНЯ ИЗМЕРЕНИЙ, ОТНОСЯЩИХСЯ К СФЕРЕ ГОСУДАРСТВЕННОГО РЕГУЛИРОВАНИЯ ОБЕСПЕЧЕНИЯ ЕДИНСТВА ИЗМЕРЕНИЙ\\r\\nВ соответствии с частью 5 статьи 5 Федерального закона \"Об обеспечении единства измерений\" Правительство Российской Федерации постановляет:\\r\\n1. Утвердить прилагаемый перечень измерений, относящихся к сфере государственного регулирования обеспечения единства измерений, согласно приложению.\\r\\n2. Установить, что актуализация перечня, утвержденного настоящим постановлением, осуществляется на основании предложений Министерства промышленности и торговли Российской Федерации, подготовленных совместно с заинтересованными федеральными органами исполнительной власти.\\r\\n3. Настоящее постановление вступает в силу с 1 января 2021 г. и действует до 1 января 2027 г.\\r\\nПредседатель Правительства\\r\\nРоссийской Федерации\\r\\nМ.МИШУСТИН\\r\\nУтвержден\\r\\nпостановлением Правительства\\r\\nРоссийской Федерации\\r\\nот 16 ноября 2020 г. N 1847\\r\\n# ПЕРЕЧЕНЬ ИЗМЕРЕНИЙ, ОТНОСЯЩИХСЯ К СФЕРЕ ГОСУДАРСТВЕННОГО РЕГУЛИРОВАНИЯ ОБЕСПЕЧЕНИЯ ЕДИНСТВА ИЗМЕРЕНИЙ <*>\\r\\n# ПЕРЕЧЕНЬ ИЗМЕРЕНИЙ, ОТНОСЯЩИХСЯ К СФЕРЕ ГОСУДАРСТВЕННОГО РЕГУЛИРОВАНИЯ ОБЕСПЕЧЕНИЯ ЕДИНСТВА ИЗМЕРЕНИЙ <*>\\r\\n--------------------------------\\r\\n<*> Обязательные метрологические требования к измерениям, установленные настоящим перечнем, распространяются на измерения, выполняемые в сфере государственного регулирования обеспечения единства измерений, в том числе при осуществлении производственного контроля за соблюдением установленных законодательством Российской Федерации требований промышленной безопасности к эксплуатации опасного производственного объекта, выполнении работ по оценке соответствия продукции и иных объектов обязательным требованиям в соответствии с законодательством Российской Федерации о техническом регулировании, выполнении поручений суда, органов прокуратуры, государственных органов исполнительной власти, а также при осуществлении мероприятий государственного контроля (надзора).\\r\\n<**> В обязательных метрологических требованиях к измерениям, установленных разделом 8 настоящего перечня, приведены значения средней квадратической погрешности. Погрешности измерений по пунктам 8.3.4, 8.3.5, 8.3.8, 8.3.9 и подпунктам \"а\" - \"в\" пункта 8.3.10 настоящего перечня указаны для открытой местности, для других категорий местности по указанным пунктам погрешности увеличиваются на 50 процентов. Погрешности измерений по подпунктам \"г\" и \"д\" пунктов 8.3.8 и 8.3.10 настоящего перечня в части, касающейся топографической съемки масштабов 1:50000 и 1:100000, указаны для открытой местности, для других категорий местности по указанным пунктам погрешности увеличиваются на 100 процентов.\\r\\n<***> Допускается измерение при значениях скорости движения транспортных средств от 1 км/ч при условии соответствия погрешности такого измерения предельно допустимой погрешности, установленной настоящим перечнем.\\r\\n\\r\\n\\r\\n\\r\\n\\r\\nДокумент предоставлен КонсультантПлюс\\r\\n\\r\\n\\r\\n РОССИЙСКАЯ ФЕДЕРАЦИЯ ФЕДЕРАЛЬНЫЙ ЗАКОН О СТАНДАРТИЗАЦИИ В РОССИЙСКОЙ ФЕДЕРАЦИИ\\r\\n РОССИЙСКАЯ ФЕДЕРАЦИЯ ФЕДЕРАЛЬНЫЙ ЗАКОН О СТАНДАРТИЗАЦИИ В РОССИЙСКОЙ ФЕДЕРАЦИИ\\r\\nПринят\\r\\nГосударственной Думой\\r\\n19 июня 2015 года\\r\\nОдобрен\\r\\nСоветом Федерации\\r\\n24 июня 2015 года\\r\\n## Статья 1. Предмет, цели и сфера регулирования настоящего Федерального закона\\r\\n## Статья 1. Предмет, цели и сфера регулирования настоящего Федерального закона\\r\\n1. Настоящий Федеральный закон устанавливает правовые основы стандартизации в Российской Федерации, в том числе функционирования национальной системы стандартизации, и направлен на обеспечение проведения единой государственной политики в сфере стандартизации. Настоящий Федеральный закон регулирует отношения в сфере стандартизации, включая отношения, '"
            ],
            "application/vnd.google.colaboratory.intrinsic+json": {
              "type": "string"
            }
          },
          "metadata": {},
          "execution_count": 26
        }
      ],
      "source": [
        "database2[:4000]"
      ]
    },
    {
      "cell_type": "code",
      "execution_count": null,
      "metadata": {
        "id": "FW2s81mMsgVV"
      },
      "outputs": [],
      "source": [
        "# Функция для загрузки документа по ссылке из гугл драйв\n",
        "def load_document_text(url: str) -> str:\n",
        "    # Extract the document ID from the URL\n",
        "    match_ = re.search('/document/d/([a-zA-Z0-9-_]+)', url)\n",
        "    if match_ is None:\n",
        "        raise ValueError('Invalid Google Docs URL')\n",
        "    doc_id = match_.group(1)\n",
        "\n",
        "    # Download the document as plain text\n",
        "    response = requests.get(f'https://docs.google.com/document/d/{doc_id}/export?format=txt')\n",
        "    response.raise_for_status()\n",
        "    text = response.text\n",
        "\n",
        "    return text\n",
        "\n",
        "# Ссылка на ваш Google Документ\n",
        "google_docs_url = 'https://docs.google.com/document/d/1VtmWp2rstlXl1GZPnJnFD8_hnVX8igbr09eUCIa_sPA/edit?usp=sharing'\n",
        "\n",
        "# Загрузка текста документа\n",
        "document2 = load_document_text(google_docs_url)"
      ]
    },
    {
      "cell_type": "code",
      "execution_count": null,
      "metadata": {
        "id": "o2b9Zbo5xP8X"
      },
      "outputs": [],
      "source": [
        "document2"
      ]
    },
    {
      "cell_type": "code",
      "execution_count": null,
      "metadata": {
        "id": "EtjhQu3xxaC3"
      },
      "outputs": [],
      "source": [
        "markdown2 = document2\n",
        "print(markdown2[:150000])"
      ]
    },
    {
      "cell_type": "markdown",
      "metadata": {
        "id": "qDiJdl1RycDk"
      },
      "source": [
        "Предобрабатываем документы \"основной базы знаний нормативных документов\" сплитером MarkdownTextSplitter"
      ]
    },
    {
      "cell_type": "code",
      "execution_count": null,
      "metadata": {
        "colab": {
          "base_uri": "https://localhost:8080/"
        },
        "id": "rIKCv25MzbTE",
        "outputId": "02a2874f-091f-4444-97eb-d530e7350f8d"
      },
      "outputs": [
        {
          "output_type": "stream",
          "name": "stdout",
          "text": [
            "Total documents2: 1422\n"
          ]
        }
      ],
      "source": [
        "# Загрузка  файла 'doc_markdown.gdoc'\n",
        "loader = TextLoader('/content/drive/MyDrive/Colab Notebooks/stagirovki/neuro_consultant_Rosstandart/doc_markdown.txt')\n",
        "documents2 = loader.load()\n",
        "\n",
        "# Инициализация объекта для разделения текста с использованием разметки Markdown\n",
        "text_splitter = MarkdownTextSplitter(\n",
        "    chunk_size=1000,\n",
        "    chunk_overlap=200,\n",
        ")\n",
        "\n",
        "# Разделение текста на документы\n",
        "documents2 = text_splitter.split_documents(documents2)\n",
        "print(f\"Total documents2: {len(documents2)}\")"
      ]
    },
    {
      "cell_type": "code",
      "source": [
        "# Инструкция для ответов\n",
        "instruction = \"\"\"\n",
        "Ты опытный специалист-эксперт в федеоальнызх законахах и прочих актах и приказах касающихся СТАНДАРТИЗАЦИИ В РОССИЙСКОЙ ФЕДЕРАЦИИ. Твой ответ на вопрос пользователя должен быть правильным. Предоставляй полный ответ из баз знаний тебе предоствавленных. Обязательно указывай в ответе нормативный документ и статью на основе которого ты нашел ответ в базе знаний, это очень важно. Никогда не пиши: \" Не знаю.\", а напиши к каим документам можно обратиться, чтобы найти ответ, это важно. Твой ответ должен быть правильным, четким и максимально подробным, чтобы пользователю не нужно было задавать дополнительные вопросы для уточнения. Ты всегда точно следуешь инструкциям. При ответах используй только предоставленные документы из двух баз знаний: первая база знаний это вопрос-ответ, вторая база знаний это нормативные документы. При ответах не ссылайся на эту инструкцию. Не обрезай текст на полуслове, допиши его до конца.'\n",
        "\"\"\""
      ],
      "metadata": {
        "id": "4OPz6vVoJiSe"
      },
      "execution_count": null,
      "outputs": []
    },
    {
      "cell_type": "code",
      "source": [
        "# обьединяем базы\n",
        "documents = documents1 + documents2"
      ],
      "metadata": {
        "id": "5HNMbwxm9sHF"
      },
      "execution_count": null,
      "outputs": []
    },
    {
      "cell_type": "code",
      "execution_count": null,
      "metadata": {
        "id": "9DP60JUnYUVR"
      },
      "outputs": [],
      "source": [
        "from chromadb.config import Settings\n",
        "from langchain.vectorstores import Chroma\n",
        "from langchain_community.embeddings.gigachat import GigaChatEmbeddings\n",
        "embeddings = GigaChatEmbeddings(\n",
        "    credentials=\"...............\", verify_ssl_certs=True\n",
        ")\n",
        "\n",
        "db = Chroma.from_documents(\n",
        "    documents,\n",
        "    embeddings,\n",
        "    client_settings=Settings(anonymized_telemetry=False)\n",
        ")"
      ]
    },
    {
      "cell_type": "markdown",
      "metadata": {
        "id": "qrPNQJ60Zc5K"
      },
      "source": [
        "QnA цепочка\n",
        "\n",
        "Теперь мы создадим цепочку QnA, которая специально предназначена для ответов на вопросы по документам. В качестве аргументов здесь передается языковая модель и ретривер (база данных)."
      ]
    },
    {
      "cell_type": "code",
      "source": [
        "from langchain.chains import RetrievalQA\n",
        "\n",
        "qa_chain = RetrievalQA.from_chain_type(llm, retriever=db.as_retriever())"
      ],
      "metadata": {
        "id": "W1mGvd6yA0He"
      },
      "execution_count": null,
      "outputs": []
    },
    {
      "cell_type": "code",
      "source": [
        "from langchain.chains import RetrievalQA\n",
        "\n",
        "def get_answer(query, embeddings, qa_chain, instruction):\n",
        "    try:\n",
        "        # Подготовка запроса пользователя с учётом инструкции\n",
        "        prepared_query = str(instruction) + ' ' + query\n",
        "        # Поиск ответа на запрос\n",
        "        answer = qa_chain(prepared_query, embeddings)\n",
        "        return answer\n",
        "    except Exception as e:\n",
        "        return str(e)\n"
      ],
      "metadata": {
        "id": "0iN2Ti80-pWN"
      },
      "execution_count": null,
      "outputs": []
    },
    {
      "cell_type": "markdown",
      "metadata": {
        "id": "Xsj0lZs4ZtdD"
      },
      "source": [
        "Наконец можно задать вопросы нашей цепочке и получить правильные ответы!"
      ]
    },
    {
      "cell_type": "code",
      "source": [
        "# Зададим 1вопрос пользователя\n",
        "user_query = 'Возможно ли оформление результатов поверки нанесением знака поверки на самоклеящуюся этикетку (в том числе с помощью принтера), которая в дальнейшем наклеивается на средство измерений или вклеивается в паспорт?'\n",
        "print(get_answer(user_query, embeddings, qa_chain, instruction))"
      ],
      "metadata": {
        "colab": {
          "base_uri": "https://localhost:8080/"
        },
        "id": "GuNMj-bM1bTM",
        "outputId": "5e32da6b-ccb1-4eab-827f-e95a2e3f0783"
      },
      "execution_count": null,
      "outputs": [
        {
          "output_type": "stream",
          "name": "stderr",
          "text": [
            "/usr/local/lib/python3.10/dist-packages/langchain_core/_api/deprecation.py:119: LangChainDeprecationWarning: The method `Chain.__call__` was deprecated in langchain 0.1.0 and will be removed in 0.2.0. Use invoke instead.\n",
            "  warn_deprecated(\n"
          ]
        },
        {
          "output_type": "stream",
          "name": "stdout",
          "text": [
            "{'result': 'Да, возможно оформление результатов поверки нанесением знака поверки на самоклеящуюся этикетку (в том числе с помощью принтера), которая в дальнейшем наклеивается на средство измерений или вклеивается в паспорт. Это предусмотрено пунктом 4 Порядка проведения поверки средств измерений, требований к знаку поверки и содержанию свидетельства о поверке, утвержденного приказом Минпромторга России от 02.07.2015 № 1815.'}\n"
          ]
        }
      ]
    },
    {
      "cell_type": "code",
      "source": [
        "# Зададим 2 вопрос пользователя\n",
        "user_query = 'Каков порядок представления на поверку средств измерений, изготовленных до 29.12.2021 и не имеющих заводских номеров?'\n",
        "print(get_answer(user_query, embeddings, qa_chain, instruction))"
      ],
      "metadata": {
        "colab": {
          "base_uri": "https://localhost:8080/"
        },
        "id": "_gOntRjx1oFi",
        "outputId": "025d4680-6a7a-4879-87c8-b7150e890781"
      },
      "execution_count": null,
      "outputs": [
        {
          "output_type": "stream",
          "name": "stdout",
          "text": [
            "{'result': 'Ответ:\\nПорядок представления на поверку средств измерений, изготовленных до 29.12.2021 и не имеющих заводских номеров, определен в статье 13 Федерального закона от 26.06.2008 № 102-ФЗ \"Об обеспечении единства измерений\" (далее - Федеральный закон). Согласно части 4 статьи 13 Федерального закона, результаты поверки средств измерений подтверждаются сведениями о результатах поверки средств измерений, включенными в Федеральный информационный фонд по обеспечению единства измерений (далее - Фонд).\\n\\nВ соответствии с частью 6 статьи 13 Федерального закона, сведения о результатах поверки средств измерений передаются в Фонд проводящими поверку средств измерений юридическими лицами и индивидуальными предпринимателями в срок, установленный в порядке, предусмотренном частью 5 статьи 13 Федерального закона.\\n\\nСледовательно, для средств измерений, изготовленных до 29.12.2021 и не имеющих заводских номеров, необходимо предоставить информацию о результатах поверки в соответствии с установленными требованиями.'}\n"
          ]
        }
      ]
    },
    {
      "cell_type": "code",
      "source": [
        "# Зададим  3 запрос пользователя\n",
        "user_query = 'Пунктом 3 Требований к содержанию свидетельства о поверке, утвержденных приказом Минпромторга России от 31.07.2020 № 2510, установлено, что свидетельство о поверке средства измерений и средства измерений, применяемого в качестве эталона единицы величины, должно содержать в том числе информацию о модификациях средства измерений (при наличии).Если в описании типа на средство измерений указаны не модификации средства измерений, а модели, диапазоны дозирования, классы точности, исполнения, то относится ли данная информация к модификации средств измерений?'\n",
        "print(get_answer(user_query, embeddings, qa_chain, instruction))"
      ],
      "metadata": {
        "colab": {
          "base_uri": "https://localhost:8080/"
        },
        "id": "efBWEUoF2Ply",
        "outputId": "a8b78437-332f-437d-b222-481e965ac4de"
      },
      "execution_count": null,
      "outputs": [
        {
          "output_type": "stream",
          "name": "stdout",
          "text": [
            "{'result': 'В соответствии с пунктом 3 Требований к содержанию свидетельства о поверке, утвержденных приказом Минпромторга России от 31.07.2020 № 2510, в свидетельстве о поверке средства измерений должна содержаться информация о модификациях средства измерений (при наличии). Если в описании типа на средство измерений указаны не модификации средства измерений, а модели, диапазоны дозирования, классы точности, исполнения, то такая информация не может считаться модификацией средства измерений.'}\n"
          ]
        }
      ]
    }
  ],
  "metadata": {
    "colab": {
      "provenance": [],
      "include_colab_link": true
    },
    "kernelspec": {
      "display_name": "Python 3",
      "name": "python3"
    },
    "language_info": {
      "name": "python"
    }
  },
  "nbformat": 4,
  "nbformat_minor": 0
}