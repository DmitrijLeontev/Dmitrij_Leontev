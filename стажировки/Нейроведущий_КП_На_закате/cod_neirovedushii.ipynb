{
  "nbformat": 4,
  "nbformat_minor": 0,
  "metadata": {
    "colab": {
      "provenance": [],
      "authorship_tag": "ABX9TyMBluMfFM2Kzvi3NayAswDO",
      "include_colab_link": true
    },
    "kernelspec": {
      "name": "python3",
      "display_name": "Python 3"
    },
    "language_info": {
      "name": "python"
    }
  },
  "cells": [
    {
      "cell_type": "markdown",
      "metadata": {
        "id": "view-in-github",
        "colab_type": "text"
      },
      "source": [
        "<a href=\"https://colab.research.google.com/github/DmitrijLeontev/Dmitrij_Leontev/blob/main/%D1%81%D1%82%D0%B0%D0%B6%D0%B8%D1%80%D0%BE%D0%B2%D0%BA%D0%B8%20/%D0%9D%D0%B5%D0%B9%D1%80%D0%BE%D0%B2%D0%B5%D0%B4%D1%83%D1%89%D0%B8%D0%B9_%D0%9A%D0%9F_%D0%9D%D0%B0_%D0%B7%D0%B0%D0%BA%D0%B0%D1%82%D0%B5/cod_neirovedushii.ipynb\" target=\"_parent\"><img src=\"https://colab.research.google.com/assets/colab-badge.svg\" alt=\"Open In Colab\"/></a>"
      ]
    },
    {
      "cell_type": "markdown",
      "source": [
        "Целью данного проекта является разработка и интеграция искусственного интеллекта (ИИ) на базе ChatGPT для участия в телевизионной программе \"На Закате\" в роли ведущего. ИИ должен быть способен вести беседу с настоящими ведущими и отвечать на их вопросы, создавая естественную и непринужденную атмосферу для зрителей. Выведите гистограммы распределения длин чанков. Получите ответы нейро-ведущего на представленной БЗ(вводный документ)+ самаризированный диалог.\n",
        "\n",
        "Тест проведем на основе русской сказки Колобок:-) Cсылк на ДБ: \"https://docs.google.com/document/d/1bFBdxhVVVGzPvMp0YcunAi_8LGxJYr34z3a_kmL6o4Q/edit?usp=sharing\""
      ],
      "metadata": {
        "id": "r2cisR0ieRKg"
      }
    },
    {
      "cell_type": "code",
      "source": [
        "!pip install faiss-cpu langchain==0.0.271 openai tiktoken cohere"
      ],
      "metadata": {
        "colab": {
          "base_uri": "https://localhost:8080/"
        },
        "id": "3YDQC8sSDlWC",
        "outputId": "d69d083d-de0d-4799-a934-7b093866d946"
      },
      "execution_count": null,
      "outputs": [
        {
          "output_type": "stream",
          "name": "stdout",
          "text": [
            "Requirement already satisfied: faiss-cpu in /usr/local/lib/python3.10/dist-packages (1.7.4)\n",
            "Requirement already satisfied: langchain==0.0.271 in /usr/local/lib/python3.10/dist-packages (0.0.271)\n",
            "Requirement already satisfied: openai in /usr/local/lib/python3.10/dist-packages (0.28.0)\n",
            "Requirement already satisfied: tiktoken in /usr/local/lib/python3.10/dist-packages (0.5.1)\n",
            "Requirement already satisfied: cohere in /usr/local/lib/python3.10/dist-packages (4.34)\n",
            "Requirement already satisfied: PyYAML>=5.3 in /usr/local/lib/python3.10/dist-packages (from langchain==0.0.271) (6.0.1)\n",
            "Requirement already satisfied: SQLAlchemy<3,>=1.4 in /usr/local/lib/python3.10/dist-packages (from langchain==0.0.271) (2.0.23)\n",
            "Requirement already satisfied: aiohttp<4.0.0,>=3.8.3 in /usr/local/lib/python3.10/dist-packages (from langchain==0.0.271) (3.8.6)\n",
            "Requirement already satisfied: async-timeout<5.0.0,>=4.0.0 in /usr/local/lib/python3.10/dist-packages (from langchain==0.0.271) (4.0.3)\n",
            "Requirement already satisfied: dataclasses-json<0.6.0,>=0.5.7 in /usr/local/lib/python3.10/dist-packages (from langchain==0.0.271) (0.5.14)\n",
            "Requirement already satisfied: langsmith<0.1.0,>=0.0.21 in /usr/local/lib/python3.10/dist-packages (from langchain==0.0.271) (0.0.64)\n",
            "Requirement already satisfied: numexpr<3.0.0,>=2.8.4 in /usr/local/lib/python3.10/dist-packages (from langchain==0.0.271) (2.8.7)\n",
            "Requirement already satisfied: numpy<2,>=1 in /usr/local/lib/python3.10/dist-packages (from langchain==0.0.271) (1.23.5)\n",
            "Requirement already satisfied: pydantic<3,>=1 in /usr/local/lib/python3.10/dist-packages (from langchain==0.0.271) (1.10.13)\n",
            "Requirement already satisfied: requests<3,>=2 in /usr/local/lib/python3.10/dist-packages (from langchain==0.0.271) (2.31.0)\n",
            "Requirement already satisfied: tenacity<9.0.0,>=8.1.0 in /usr/local/lib/python3.10/dist-packages (from langchain==0.0.271) (8.2.3)\n",
            "Requirement already satisfied: tqdm in /usr/local/lib/python3.10/dist-packages (from openai) (4.66.1)\n",
            "Requirement already satisfied: regex>=2022.1.18 in /usr/local/lib/python3.10/dist-packages (from tiktoken) (2023.6.3)\n",
            "Requirement already satisfied: backoff<3.0,>=2.0 in /usr/local/lib/python3.10/dist-packages (from cohere) (2.2.1)\n",
            "Requirement already satisfied: fastavro==1.8.2 in /usr/local/lib/python3.10/dist-packages (from cohere) (1.8.2)\n",
            "Requirement already satisfied: importlib_metadata<7.0,>=6.0 in /usr/local/lib/python3.10/dist-packages (from cohere) (6.8.0)\n",
            "Requirement already satisfied: urllib3<3,>=1.26 in /usr/local/lib/python3.10/dist-packages (from cohere) (2.0.7)\n",
            "Requirement already satisfied: attrs>=17.3.0 in /usr/local/lib/python3.10/dist-packages (from aiohttp<4.0.0,>=3.8.3->langchain==0.0.271) (23.1.0)\n",
            "Requirement already satisfied: charset-normalizer<4.0,>=2.0 in /usr/local/lib/python3.10/dist-packages (from aiohttp<4.0.0,>=3.8.3->langchain==0.0.271) (3.3.2)\n",
            "Requirement already satisfied: multidict<7.0,>=4.5 in /usr/local/lib/python3.10/dist-packages (from aiohttp<4.0.0,>=3.8.3->langchain==0.0.271) (6.0.4)\n",
            "Requirement already satisfied: yarl<2.0,>=1.0 in /usr/local/lib/python3.10/dist-packages (from aiohttp<4.0.0,>=3.8.3->langchain==0.0.271) (1.9.2)\n",
            "Requirement already satisfied: frozenlist>=1.1.1 in /usr/local/lib/python3.10/dist-packages (from aiohttp<4.0.0,>=3.8.3->langchain==0.0.271) (1.4.0)\n",
            "Requirement already satisfied: aiosignal>=1.1.2 in /usr/local/lib/python3.10/dist-packages (from aiohttp<4.0.0,>=3.8.3->langchain==0.0.271) (1.3.1)\n",
            "Requirement already satisfied: marshmallow<4.0.0,>=3.18.0 in /usr/local/lib/python3.10/dist-packages (from dataclasses-json<0.6.0,>=0.5.7->langchain==0.0.271) (3.20.1)\n",
            "Requirement already satisfied: typing-inspect<1,>=0.4.0 in /usr/local/lib/python3.10/dist-packages (from dataclasses-json<0.6.0,>=0.5.7->langchain==0.0.271) (0.9.0)\n",
            "Requirement already satisfied: zipp>=0.5 in /usr/local/lib/python3.10/dist-packages (from importlib_metadata<7.0,>=6.0->cohere) (3.17.0)\n",
            "Requirement already satisfied: typing-extensions>=4.2.0 in /usr/local/lib/python3.10/dist-packages (from pydantic<3,>=1->langchain==0.0.271) (4.5.0)\n",
            "Requirement already satisfied: idna<4,>=2.5 in /usr/local/lib/python3.10/dist-packages (from requests<3,>=2->langchain==0.0.271) (3.4)\n",
            "Requirement already satisfied: certifi>=2017.4.17 in /usr/local/lib/python3.10/dist-packages (from requests<3,>=2->langchain==0.0.271) (2023.7.22)\n",
            "Requirement already satisfied: greenlet!=0.4.17 in /usr/local/lib/python3.10/dist-packages (from SQLAlchemy<3,>=1.4->langchain==0.0.271) (3.0.1)\n",
            "Requirement already satisfied: packaging>=17.0 in /usr/local/lib/python3.10/dist-packages (from marshmallow<4.0.0,>=3.18.0->dataclasses-json<0.6.0,>=0.5.7->langchain==0.0.271) (23.2)\n",
            "Requirement already satisfied: mypy-extensions>=0.3.0 in /usr/local/lib/python3.10/dist-packages (from typing-inspect<1,>=0.4.0->dataclasses-json<0.6.0,>=0.5.7->langchain==0.0.271) (1.0.0)\n"
          ]
        }
      ]
    },
    {
      "cell_type": "code",
      "source": [
        "!pip install openai==0.28.0"
      ],
      "metadata": {
        "id": "MpblbPaQ6aiW",
        "colab": {
          "base_uri": "https://localhost:8080/"
        },
        "outputId": "a18f83df-20da-485e-bd8b-c70c94a9f296"
      },
      "execution_count": null,
      "outputs": [
        {
          "output_type": "stream",
          "name": "stdout",
          "text": [
            "Requirement already satisfied: openai==0.28.0 in /usr/local/lib/python3.10/dist-packages (0.28.0)\n",
            "Requirement already satisfied: requests>=2.20 in /usr/local/lib/python3.10/dist-packages (from openai==0.28.0) (2.31.0)\n",
            "Requirement already satisfied: tqdm in /usr/local/lib/python3.10/dist-packages (from openai==0.28.0) (4.66.1)\n",
            "Requirement already satisfied: aiohttp in /usr/local/lib/python3.10/dist-packages (from openai==0.28.0) (3.8.6)\n",
            "Requirement already satisfied: charset-normalizer<4,>=2 in /usr/local/lib/python3.10/dist-packages (from requests>=2.20->openai==0.28.0) (3.3.2)\n",
            "Requirement already satisfied: idna<4,>=2.5 in /usr/local/lib/python3.10/dist-packages (from requests>=2.20->openai==0.28.0) (3.4)\n",
            "Requirement already satisfied: urllib3<3,>=1.21.1 in /usr/local/lib/python3.10/dist-packages (from requests>=2.20->openai==0.28.0) (2.0.7)\n",
            "Requirement already satisfied: certifi>=2017.4.17 in /usr/local/lib/python3.10/dist-packages (from requests>=2.20->openai==0.28.0) (2023.7.22)\n",
            "Requirement already satisfied: attrs>=17.3.0 in /usr/local/lib/python3.10/dist-packages (from aiohttp->openai==0.28.0) (23.1.0)\n",
            "Requirement already satisfied: multidict<7.0,>=4.5 in /usr/local/lib/python3.10/dist-packages (from aiohttp->openai==0.28.0) (6.0.4)\n",
            "Requirement already satisfied: async-timeout<5.0,>=4.0.0a3 in /usr/local/lib/python3.10/dist-packages (from aiohttp->openai==0.28.0) (4.0.3)\n",
            "Requirement already satisfied: yarl<2.0,>=1.0 in /usr/local/lib/python3.10/dist-packages (from aiohttp->openai==0.28.0) (1.9.2)\n",
            "Requirement already satisfied: frozenlist>=1.1.1 in /usr/local/lib/python3.10/dist-packages (from aiohttp->openai==0.28.0) (1.4.0)\n",
            "Requirement already satisfied: aiosignal>=1.1.2 in /usr/local/lib/python3.10/dist-packages (from aiohttp->openai==0.28.0) (1.3.1)\n"
          ]
        }
      ]
    },
    {
      "cell_type": "code",
      "source": [
        "import os\n",
        "import getpass\n",
        "from langchain.embeddings.openai import OpenAIEmbeddings\n",
        "from langchain.vectorstores import FAISS\n",
        "from langchain.text_splitter import RecursiveCharacterTextSplitter\n",
        "import re\n",
        "import requests\n",
        "import openai\n",
        "from langchain.text_splitter import RecursiveCharacterTextSplitter\n",
        "from langchain.text_splitter import MarkdownHeaderTextSplitter\n",
        "import matplotlib.pyplot as plt\n",
        "from langchain.chat_models import ChatOpenAI\n",
        "from langchain.schema import SystemMessage\n",
        "import tiktoken\n",
        "from langchain.docstore.document import Document\n",
        "openai_key = getpass.getpass(\"OpenAI API Key:\")\n",
        "os.environ[\"OPENAI_API_KEY\"] = openai_key\n",
        "openai.api_key = openai_key"
      ],
      "metadata": {
        "id": "mqcL4q916ek-",
        "colab": {
          "base_uri": "https://localhost:8080/"
        },
        "outputId": "cb2377fe-5523-4355-adf3-a3e3b26d2378"
      },
      "execution_count": null,
      "outputs": [
        {
          "name": "stdout",
          "output_type": "stream",
          "text": [
            "OpenAI API Key:··········\n"
          ]
        }
      ]
    },
    {
      "cell_type": "code",
      "source": [
        "# функция для загрузки документа по ссылке из гугл драйв\n",
        "def load_document_text(url: str) -> str:\n",
        "    # Extract the document ID from the URL\n",
        "    match_ = re.search('/document/d/([a-zA-Z0-9-_]+)', url)\n",
        "    if match_ is None:\n",
        "        raise ValueError('Invalid Google Docs URL')\n",
        "    doc_id = match_.group(1)\n",
        "\n",
        "    # Download the document as plain text\n",
        "    response = requests.get(f'https://docs.google.com/document/d/{doc_id}/export?format=txt')\n",
        "    response.raise_for_status()\n",
        "    text = response.text\n",
        "\n",
        "    return text"
      ],
      "metadata": {
        "id": "qKSfJ6qfemn9"
      },
      "execution_count": null,
      "outputs": []
    },
    {
      "cell_type": "code",
      "source": [
        "# База знаний, которая будет подаваться в langChain\n",
        "database= load_document_text('https://docs.google.com/document/d/1bFBdxhVVVGzPvMp0YcunAi_8LGxJYr34z3a_kmL6o4Q/edit?usp=sharing')   # заполните необходимым значением, база данных"
      ],
      "metadata": {
        "id": "DP3VlSVoerVN"
      },
      "execution_count": null,
      "outputs": []
    },
    {
      "cell_type": "code",
      "source": [
        "database[:1000]"
      ],
      "metadata": {
        "id": "hrzn8GZjewFm",
        "colab": {
          "base_uri": "https://localhost:8080/",
          "height": 105
        },
        "outputId": "9849ac87-5d13-4c7e-bd5c-43f9e802c145"
      },
      "execution_count": null,
      "outputs": [
        {
          "output_type": "execute_result",
          "data": {
            "text/plain": [
              "'\\ufeffЖили-были старик со старухой. Однажды просит старик:\\r\\n— Испеки, старуха, колобок.\\r\\n— Из чего испечь-то? Муки нет.\\r\\n— Эх, старуха! По коробу поскреби, по сусеку помети; авось муки и наберется.\\r\\nСтаруха по коробу поскребла, по сусеку помела, и набралось муки две пригоршни. Замесила на сметане, пожарила в масле и положила на окошечко остудить.\\r\\nКолобок полежал-полежал, да вдруг и покатился — с окна на лавку, с лавки на пол, по полу да к дверям, перепрыгнул через порог в сени, из сеней на крыльцо, с крыльца на двор, со двора за ворота, дальше и дальше.\\r\\nКатится колобок по дороге, а навстречу ему заяц:\\r\\n— Колобок, колобок! Я тебя съем!\\r\\n— Не ешь меня, косой зайчик! Я тебе песенку спою, — сказал колобок и запел:\\r\\nЯ по коробу скребен,\\r\\nПо сусеку метен,\\r\\nНа сметане мешон\\r\\nДа в масле пряжон,\\r\\nНа окошке стужон;\\r\\nЯ от дедушки ушел,\\r\\nЯ от бабушки ушел,\\r\\nОт тебя, зайца, не хитро уйти!\\r\\nИ покатился себе дальше; только заяц его и видел!..\\r\\nКатится колобок, а навстречу ему волк:\\r\\n— Колобок, колобок! '"
            ],
            "application/vnd.google.colaboratory.intrinsic+json": {
              "type": "string"
            }
          },
          "metadata": {},
          "execution_count": 31
        }
      ]
    },
    {
      "cell_type": "code",
      "source": [
        "# предобработаем текст таким образом, чтобы его можно было бы поделить на чанки при помощи MarkdownHeaderTextSplitter\n",
        "def text_to_markdown(text):\n",
        "    # Добавляем заголовок 1 уровня на основе римских чисел (без переноса строки)\n",
        "    # и дублируем его строчкой ниже - иначе эта информация перенесется в метаданные, а порой она бывает полезной.\n",
        "    def replace_header1(match):\n",
        "        return f\"# {match.group(2)}\\n{match.group(2)}\"\n",
        "    '''Далее используем функцию re.sub из модуля регулярных выражений re для замены подстрок в строке text.\n",
        "    Шаблон регулярного выражения (I{1,3}|IV|V)\\. (.+) ищет римские числа от I до V в начале строки, за которыми следует точка и пробел.\n",
        "    Функция replace_header1 вызывается для каждого совпадения, и ее возвращаемое значение используется для замены найденной подстроки.\n",
        "    Флаг re.M позволяет ^ соответствовать началу каждой строки, а не только началу всего текста.'''\n",
        "    text = re.sub(r'^(I{1,3}|IV|V)\\. (.+)', replace_header1, text, flags=re.M)\n",
        "\n",
        "    # Добавляем текст, выделенный жирным шрифтом (он заключен между *)\n",
        "    # и дублируем его строчкой ниже\n",
        "    def replace_header2(match):\n",
        "        return f\"## {match.group(1)}\\n{match.group(1)}\"\n",
        "\n",
        "    text = re.sub(r'\\*([^\\*]+)\\*', replace_header2, text)\n",
        "\n",
        "    return text"
      ],
      "metadata": {
        "id": "2YpHJrcge0PG"
      },
      "execution_count": null,
      "outputs": []
    },
    {
      "cell_type": "code",
      "source": [
        "markdown = text_to_markdown(database)                 # заполните необходимым значением\n",
        "print(markdown[:5000])"
      ],
      "metadata": {
        "id": "i_mLTMLTe6cF",
        "colab": {
          "base_uri": "https://localhost:8080/"
        },
        "outputId": "cfeb775f-3922-4144-c8bb-16fdbd7a8b34"
      },
      "execution_count": null,
      "outputs": [
        {
          "output_type": "stream",
          "name": "stdout",
          "text": [
            "﻿Жили-были старик со старухой. Однажды просит старик:\r\n",
            "— Испеки, старуха, колобок.\r\n",
            "— Из чего испечь-то? Муки нет.\r\n",
            "— Эх, старуха! По коробу поскреби, по сусеку помети; авось муки и наберется.\r\n",
            "Старуха по коробу поскребла, по сусеку помела, и набралось муки две пригоршни. Замесила на сметане, пожарила в масле и положила на окошечко остудить.\r\n",
            "Колобок полежал-полежал, да вдруг и покатился — с окна на лавку, с лавки на пол, по полу да к дверям, перепрыгнул через порог в сени, из сеней на крыльцо, с крыльца на двор, со двора за ворота, дальше и дальше.\r\n",
            "Катится колобок по дороге, а навстречу ему заяц:\r\n",
            "— Колобок, колобок! Я тебя съем!\r\n",
            "— Не ешь меня, косой зайчик! Я тебе песенку спою, — сказал колобок и запел:\r\n",
            "Я по коробу скребен,\r\n",
            "По сусеку метен,\r\n",
            "На сметане мешон\r\n",
            "Да в масле пряжон,\r\n",
            "На окошке стужон;\r\n",
            "Я от дедушки ушел,\r\n",
            "Я от бабушки ушел,\r\n",
            "От тебя, зайца, не хитро уйти!\r\n",
            "И покатился себе дальше; только заяц его и видел!..\r\n",
            "Катится колобок, а навстречу ему волк:\r\n",
            "— Колобок, колобок! Я тебя съем!\r\n",
            "— Не ешь меня, серый волк! Я тебе песенку спою!\r\n",
            "Я по коробу скребен,\r\n",
            "По сусеку метен,\r\n",
            "На сметане мешон\r\n",
            "Да в масле пряжон,\r\n",
            "На окошке стужон;\r\n",
            "Я от дедушки ушел,\r\n",
            "Я от бабушки ушел,\r\n",
            "Я от зайца ушел,\r\n",
            "От тебя, волка, не хитро уйти!\r\n",
            "И покатился себе дальше; только волк его и видел!..\r\n",
            "Катится колобок, а навстречу ему медведь:\r\n",
            "— Колобок, колобок! Я тебя съем.\r\n",
            "— Где тебе, косолапому, съесть меня!\r\n",
            "Я по коробу скребен,\r\n",
            "По сусеку метен,\r\n",
            "На сметане мешон\r\n",
            "Да в масле пряжон,\r\n",
            "На окошке стужон;\r\n",
            "Я от дедушки ушел,\r\n",
            "Я от бабушки ушел,\r\n",
            "Я от зайца ушел,\r\n",
            "Я от волка ушел,\r\n",
            "От тебя, медведь, не хитро уйти!\r\n",
            "И опять укатился; только медведь его и видел!..\r\n",
            "Катится, катится колобок, а навстречу ему лиса:\r\n",
            "— Здравствуй, колобок! Какой ты хорошенький!\r\n",
            "А колобок запел:\r\n",
            "Я по коробу скребен,\r\n",
            "По сусеку метен,\r\n",
            "На сметане мешон\r\n",
            "Да в масле пряжон,\r\n",
            "На окошке стужен;\r\n",
            "Я от дедушки ушел,\r\n",
            "Я от бабушки ушел,\r\n",
            "Я от зайца ушел,\r\n",
            "Я от волка ушел,\r\n",
            "От медведя ушел,\r\n",
            "От тебя, лиса, и подавно уйду!\r\n",
            "— Какая славная песенка! — сказала лиса. — Но ведь я, колобок, стара стала, плохо слышу; сядь-ка на мою мордочку да пропой еще разок погромче.\r\n",
            "Колобок вскочил лисе на мордочку и запел ту же песню.\r\n",
            "— Спасибо, колобок! Славная песенка, еще бы послушала! Сядь-ка на мой язычок да пропой в последний разок, — сказала лиса и высунула свой язык.\r\n",
            "Колобок прыг ей на язык, а лиса — ам его! — и скушала.\n"
          ]
        }
      ]
    },
    {
      "cell_type": "code",
      "source": [
        "# Инструкция в system\n",
        "system = load_document_text('https://docs.google.com/document/d/1vmlu1DXhg48ltJBf9lvCraUi8TWNQ-gBmh1tRKv1eXQ/edit?usp=sharing') # заполните параметр ссылкой на составленный вами промпт. Не забудьте открыть доступ"
      ],
      "metadata": {
        "id": "Ti2OOA__fAV7"
      },
      "execution_count": null,
      "outputs": []
    },
    {
      "cell_type": "code",
      "source": [
        "def num_tokens_from_string(string: str, encoding_name: str) -> int:\n",
        "      \"\"\"Возвращает количество токенов в строке\"\"\"\n",
        "      encoding = tiktoken.get_encoding(encoding_name)\n",
        "      num_tokens = len(encoding.encode(string))\n",
        "      return num_tokens\n",
        "\n",
        "def split_text(text, max_count):\n",
        "    headers_to_split_on = [\n",
        "        (\"#\", \"Header 1\"),\n",
        "        (\"##\", \"Header 2\"),\n",
        "        (\"###\", \"Header 3\"),\n",
        "    ]\n",
        "\n",
        "    markdown_splitter = MarkdownHeaderTextSplitter(headers_to_split_on=headers_to_split_on)\n",
        "    fragments = markdown_splitter.split_text(text)\n",
        "\n",
        "    # Подсчет токенов для каждого фрагмента и построение графика\n",
        "    fragment_token_counts = [num_tokens_from_string(fragment.page_content, \"cl100k_base\") for fragment in fragments]\n",
        "    plt.hist(fragment_token_counts, bins=20, alpha=0.5, label='Fragments')\n",
        "    plt.title('Distribution of Fragment Token Counts')\n",
        "    plt.xlabel('Token Count')\n",
        "    plt.ylabel('Frequency')\n",
        "    plt.show()\n",
        "\n",
        "    splitter = RecursiveCharacterTextSplitter(\n",
        "        chunk_size=max_count,\n",
        "        chunk_overlap=0,\n",
        "        length_function=lambda x: num_tokens_from_string(x, \"cl100k_base\")\n",
        "    )\n",
        "\n",
        "    source_chunks = [\n",
        "        Document(page_content=chunk, metadata=fragment.metadata)\n",
        "        for fragment in fragments\n",
        "        for chunk in splitter.split_text(fragment.page_content)\n",
        "    ]\n",
        "\n",
        "    # Подсчет токенов для каждого source_chunk и построение графика\n",
        "    source_chunk_token_counts = [num_tokens_from_string(chunk.page_content, \"cl100k_base\") for chunk in source_chunks]\n",
        "    plt.hist(source_chunk_token_counts, bins=20, alpha=0.5, label='Source Chunks')\n",
        "    plt.title('Distribution of Source Chunk Token Counts')\n",
        "    plt.xlabel('Token Count')\n",
        "    plt.ylabel('Frequency')\n",
        "    plt.show()\n",
        "\n",
        "    return source_chunks"
      ],
      "metadata": {
        "id": "0Qy_SFGufJUY"
      },
      "execution_count": null,
      "outputs": []
    },
    {
      "cell_type": "code",
      "source": [
        "source_chunks = split_text(database, 100)                          # заполните необходимыми значениями\n",
        "print(\"Общее количество чанков: \",len(source_chunks))\n",
        "print(\"Первый чанк \", source_chunks[0])"
      ],
      "metadata": {
        "id": "hNTKtkRYfO5V",
        "colab": {
          "base_uri": "https://localhost:8080/",
          "height": 962
        },
        "outputId": "28dc8d70-1890-4da6-943e-f5bc0e26feb2"
      },
      "execution_count": null,
      "outputs": [
        {
          "output_type": "display_data",
          "data": {
            "text/plain": [
              "<Figure size 640x480 with 1 Axes>"
            ],
            "image/png": "[encoded data removed]"
          },
          "metadata": {}
        },
        {
          "output_type": "display_data",
          "data": {
            "text/plain": [
              "<Figure size 640x480 with 1 Axes>"
            ],
            "image/png": "[encoded data removed]"
          },
          "metadata": {}
        },
        {
          "output_type": "stream",
          "name": "stdout",
          "text": [
            "Общее количество чанков:  18\n",
            "Первый чанк  page_content='\\ufeffЖили-были старик со старухой. Однажды просит старик:\\n— Испеки, старуха, колобок.\\n— Из чего испечь-то? Муки нет.' metadata={}\n"
          ]
        }
      ]
    },
    {
      "cell_type": "code",
      "source": [
        "# Инициализирум модель эмбеддингов\n",
        "embeddings = OpenAIEmbeddings()\n",
        "\n",
        "# Создадим индексную базу из разделенных фрагментов текста\n",
        "db = FAISS.from_documents(source_chunks, embeddings)"
      ],
      "metadata": {
        "id": "6BeqvWzofTlN"
      },
      "execution_count": null,
      "outputs": []
    },
    {
      "cell_type": "code",
      "source": [
        "def insert_newlines(text: str, max_len: int = 170) -> str:\n",
        "    \"\"\"\n",
        "    Функция разбивает длинный текст на строки определенной максимальной длины.\n",
        "    \"\"\"\n",
        "    words = text.split()\n",
        "    lines = []\n",
        "    current_line = \"\"\n",
        "    for word in words:\n",
        "        if len(current_line + \" \" + word) > max_len:\n",
        "            lines.append(current_line)\n",
        "            current_line = \"\"\n",
        "        current_line += \" \" + word\n",
        "    lines.append(current_line)\n",
        "    return \"\\n\".join(lines)"
      ],
      "metadata": {
        "id": "_St_qvP1fZfX"
      },
      "execution_count": null,
      "outputs": []
    },
    {
      "cell_type": "code",
      "source": [
        "def answer_index(system, topic, search_index, temp=0, verbose=0) -> str:\n",
        "    \"\"\"\n",
        "    Функция возвращает ответ модели на основе заданной темы.\n",
        "    \"\"\"\n",
        "    # находим наиболее релевантные вопросу пользователя чанки:\n",
        "    docs = search_index.similarity_search(topic, k=4)\n",
        "\n",
        "    message_content = re.sub(r'\\n{2}', ' ', '\\n '.join([f'\\nОтрывок документа №{i+1}\\n=====================' + doc.page_content + '\\n' for i, doc in enumerate(docs)]))\n",
        "\n",
        "    # если параметр verbose=1, то выводим релевантные чанки\n",
        "    if verbose:\n",
        "        print('message_content :\\n', message_content)\n",
        "\n",
        "    messages = [\n",
        "        {\"role\": \"system\", \"content\": system},\n",
        "        {\"role\": \"user\", \"content\": f\"Документ с информацией для ответа пользователю: {message_content}\\n\\nВопрос пользователя: \\n{topic}\"}\n",
        "    ]\n",
        "\n",
        "    completion = openai.ChatCompletion.create(\n",
        "        model=\"gpt-3.5-turbo\",\n",
        "        messages=messages,\n",
        "        temperature=temp\n",
        "    )\n",
        "\n",
        "    return insert_newlines(completion.choices[0].message.content)"
      ],
      "metadata": {
        "id": "UGbo43rNfeTf"
      },
      "execution_count": null,
      "outputs": []
    },
    {
      "cell_type": "code",
      "source": [
        "def summarize_questions(dialog):\n",
        "    \"\"\"\n",
        "    Функция возвращает саммаризированный текст диалога.\n",
        "    \"\"\"\n",
        "    messages = [\n",
        "        {\"role\": \"system\", \"content\": \"Ты - нейро-саммаризатор. Твоя задача - саммаризировать диалог, который тебе пришел. Если пользователь назвал свое имя, обязательно отрази его в саммаризированном диалоге\"},\n",
        "        {\"role\": \"user\", \"content\": \"Саммаризируй следующий диалог консультанта и пользователя: \" + \" \".join(dialog)}\n",
        "    ]\n",
        "\n",
        "    completion = openai.ChatCompletion.create(\n",
        "        model=\"gpt-3.5-turbo\",     # используем gpt3.5 для более точной саммаризации\n",
        "        messages=messages,\n",
        "        temperature=0,          # Используем более низкую температуру для более определенной суммаризации\n",
        "    )\n",
        "\n",
        "    return completion.choices[0].message.content"
      ],
      "metadata": {
        "id": "q-ywFUGafjQm"
      },
      "execution_count": null,
      "outputs": []
    },
    {
      "cell_type": "code",
      "source": [
        "def answer_user_question_dialog(system, db, user_question, question_history):\n",
        "    \"\"\"\n",
        "    Функция возвращает ответ на вопрос пользователя.\n",
        "    \"\"\"\n",
        "    summarized_history = \"\"\n",
        "    # Если в истории более одного вопроса, применяем суммаризацию\n",
        "    if len(question_history) > 0:\n",
        "        summarized_history = \"Вот краткий обзор предыдущего диалога: \" + summarize_questions([q + ' ' + (a if a else '') for q, a in question_history])\n",
        "\n",
        "    # Добавляем явное разделение между историей диалога и текущим вопросом\n",
        "    input_text = summarized_history + \"\\n\\nТекущий вопрос: \" + user_question\n",
        "\n",
        "    # Извлекаем наиболее похожие отрезки текста из базы знаний и получение ответа модели\n",
        "    answer_text = answer_index(system, input_text, db)\n",
        "\n",
        "    # Добавляем вопрос пользователя и ответ системы в историю\n",
        "    question_history.append((user_question, answer_text if answer_text else ''))\n",
        "\n",
        "    # Выводим саммаризированный текст, который видит модель\n",
        "    if summarized_history:\n",
        "        print('****************************')\n",
        "        print(insert_newlines(summarized_history))\n",
        "        print('****************************')\n",
        "\n",
        "    return insert_newlines(answer_text)"
      ],
      "metadata": {
        "id": "AK6uM1lJfp6N"
      },
      "execution_count": null,
      "outputs": []
    },
    {
      "cell_type": "code",
      "source": [
        "def run_dialog(system_doc_url, knowledge_base_url):\n",
        "    \"\"\"\n",
        "    Функция запускает диалог между пользователем и нейро-консультантом.\n",
        "    \"\"\"\n",
        "    #список кортежей, где каждый кортеж содержит пару вопрос-ответ, для отслеживания истории вопросов и ответов во время сессии диалога.\n",
        "    question_history = []\n",
        "    while True:\n",
        "        user_question = input('Пользователь: ')\n",
        "        if user_question.lower() == 'stop':\n",
        "            break\n",
        "        answer = answer_user_question_dialog(system_doc_url, knowledge_base_url, user_question, question_history)\n",
        "        print('Консультант:', answer)\n",
        "\n",
        "    return"
      ],
      "metadata": {
        "id": "5p8aIwE2fvu9"
      },
      "execution_count": null,
      "outputs": []
    },
    {
      "cell_type": "code",
      "source": [
        "# проверьте работу нейро-консультанта на нескольких самостоятельно сгенерированных вопросах. Проверьте, что соблюдаются инструкции и поддерживается диалог\n",
        "run_dialog(system, db)"
      ],
      "metadata": {
        "id": "6EHIjwCsf1TN",
        "colab": {
          "base_uri": "https://localhost:8080/"
        },
        "outputId": "9d1d58f1-cb92-4b9e-e2fb-10aca97bd051"
      },
      "execution_count": null,
      "outputs": [
        {
          "name": "stdout",
          "output_type": "stream",
          "text": [
            "Пользователь: Кто испек колобка?\n",
            "Консультант:  Старик попросил старуху испечь колобок.\n",
            "Пользователь: А от зайца колобок ушел?\n",
            "****************************\n",
            " Вот краткий обзор предыдущего диалога: Пользователь спросил, кто испек колобка, на что консультант ответил, что старик попросил старуху испечь колобок.\n",
            "****************************\n",
            "Консультант:  Да, от зайца колобок ушел.\n",
            "Пользователь: Медведь Колобка скушал?\n",
            "****************************\n",
            " Вот краткий обзор предыдущего диалога: Пользователь спросил, кто испек колобка. Консультант ответил, что старик попросил старуху испечь колобок. Пользователь уточнил,\n",
            " ушел ли колобок от зайца. Консультант подтвердил, что колобок ушел от зайца.\n",
            "****************************\n",
            "Консультант:  Нет, медведь не скушал Колобка.\n",
            "Пользователь: А кто скушал, волк?\n",
            "****************************\n",
            " Вот краткий обзор предыдущего диалога: Пользователь и консультант обсуждают историю о колобке. Старик попросил старуху испечь колобок. Колобок ушел от зайца, но медведь\n",
            " его не съел.\n",
            "****************************\n",
            "Консультант:  Волк не скушал колобка.\n",
            "Пользователь: Кто же тогда скушал колобка?\n",
            "****************************\n",
            " Вот краткий обзор предыдущего диалога: Старик попросил старуху испечь колобок. Колобок ушел от зайца. Медведь не скушал колобка. Волк тоже не скушал колобка.\n",
            "****************************\n",
            "Консультант:  Колобка съела лиса.\n",
            "Пользователь: Жалко тебе колобка?\n",
            "****************************\n",
            " Вот краткий обзор предыдущего диалога: Старик попросил старуху испечь колобок. Колобок ушел от зайца. Медведь не скушал колобка. Волк также не съел колобка. Колобка\n",
            " съела лиса.\n",
            "****************************\n",
            "Консультант:  Колобоку не повезло, его съела лиса.\n",
            "Пользователь: Это точно.\n",
            "****************************\n",
            " Вот краткий обзор предыдущего диалога: Старик попросил старуху испечь колобок. Колобок ушел от зайца. Медведь не скушал колобка. Волк тоже не скушал колобка. Колобка\n",
            " съела лиса. Колобоку не повезло, его съела лиса.\n",
            "****************************\n",
            "Консультант:  Да, это точно. Колобок ушел от зайца, медведь и волк не съели его, но лиса скушала колобка. Колобоку не повезло.\n",
            "Пользователь: стоп\n",
            "****************************\n",
            " Вот краткий обзор предыдущего диалога: Колобоку не повезло - он ушел от зайца, не был съеден медведем и волком, но его съела лиса.\n",
            "****************************\n",
            "Консультант:  Колобоку не повезло - он ушел от зайца, не был съеден медведем и волком, но его съела лиса. Вопрос?\n",
            "Пользователь: stop\n"
          ]
        }
      ]
    }
  ]
}