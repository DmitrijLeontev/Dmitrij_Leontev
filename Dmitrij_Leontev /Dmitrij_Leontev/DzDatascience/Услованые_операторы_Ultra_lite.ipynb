{
  "nbformat": 4,
  "nbformat_minor": 0,
  "metadata": {
    "colab": {
      "provenance": [],
      "authorship_tag": "ABX9TyOXOmc9oDVpeCwe3nAhPYCv",
      "include_colab_link": true
    },
    "kernelspec": {
      "name": "python3",
      "display_name": "Python 3"
    },
    "language_info": {
      "name": "python"
    }
  },
  "cells": [
    {
      "cell_type": "markdown",
      "metadata": {
        "id": "view-in-github",
        "colab_type": "text"
      },
      "source": [
        "<a href=\"https://colab.research.google.com/github/DmitrijLeontev/Dmitrij_Leontev/blob/main/Dmitrij_Leontev%20/Dmitrij_Leontev/DzDatascience/%D0%A3%D1%81%D0%BB%D0%BE%D0%B2%D0%B0%D0%BD%D1%8B%D0%B5_%D0%BE%D0%BF%D0%B5%D1%80%D0%B0%D1%82%D0%BE%D1%80%D1%8B_Ultra_lite.ipynb\" target=\"_parent\"><img src=\"https://colab.research.google.com/assets/colab-badge.svg\" alt=\"Open In Colab\"/></a>"
      ]
    },
    {
      "cell_type": "code",
      "execution_count": null,
      "metadata": {
        "id": "VAf3wTeSSMRm"
      },
      "outputs": [],
      "source": [
        "# мое решение\n",
        "a = int(input(\"Введите,пожалуйста, любое число:\"))\n",
        "b = int(input(\"Введите, пожалуйста, еще одно любое число:\"))\n",
        "print(\"Сумма этих чисел=\", a+b)\n",
        "c = a + b\n",
        "if  c >= 100:\n",
        "  print(\"Спасибо за участие и хорошего дня!\")\n",
        "elif   c>100:\n",
        "  print(\"Спасибо за участие и хорошего вам настроения!\")\n",
        "else  :\n",
        "  print(\"Произведение введенных вами чисел=\", a*b)"
      ]
    }
  ]
}