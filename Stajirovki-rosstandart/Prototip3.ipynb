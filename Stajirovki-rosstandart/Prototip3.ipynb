{
  "nbformat": 4,
  "nbformat_minor": 0,
  "metadata": {
    "colab": {
      "provenance": [],
      "gpuType": "V100",
      "include_colab_link": true
    },
    "kernelspec": {
      "name": "python3",
      "display_name": "Python 3"
    },
    "language_info": {
      "name": "python"
    },
    "accelerator": "GPU"
  },
  "cells": [
    {
      "cell_type": "markdown",
      "metadata": {
        "id": "view-in-github",
        "colab_type": "text"
      },
      "source": [
        "<a href=\"https://colab.research.google.com/github/DmitrijLeontev/Dmitrij_Leontev/blob/main/Stajirovki-rosstandart/Prototip3.ipynb\" target=\"_parent\"><img src=\"https://colab.research.google.com/assets/colab-badge.svg\" alt=\"Open In Colab\"/></a>"
      ]
    },
    {
      "cell_type": "markdown",
      "source": [
        "Подход 3\n",
        "\n",
        "Тестируем RAG (англ. Retrieval Augment Generation) с использованием GigaChat на примере \"разговор с книгой\".\n",
        "\n",
        "Пример взят с Github по ссылке из документации к GigaChat:\n",
        "\n",
        "https://github.com/ai-forever/gigachain/tree/master\n",
        "\n",
        "Retrieval Augmented Generation(RAG) с использованием GigaChat на примере задачи \"разговор с книгой\"\n",
        "\n",
        "Подход RAG позволяет большим языковым моделям (LLM) отвечать на вопросы по документам, которы не помещаются в промпт. Ниже приведен пример того, как можно научить модель отвечать на вопросы, используя текст из книги \"Мастер и Маргарита\".\n",
        "\n",
        "Подробнее про RAG вы можете прочитать в документации LangChain и в курсе по промпт-инженирингу от Сбера (ссылка будет позже).\n",
        "\n",
        "В качестве примера мы рассмотрим текст романа Булгакова \"Мастер и Маргарита\" (главы 1 и 2).\n",
        "\n",
        "Вопрос будет - Какой плащ был у Понтия Пилата?. Ответ содержится во второй главе книги: В белом плаще с кровавым подбоем, шаркающей кавалерийской походкой, ранним утром четырнадцатого числа весеннего месяца нисана в крытую колоннаду между двумя крыльями дворца ирода великого вышел прокуратор Иудеи Понтий Пилат.\n",
        "Попытка совмещения двух ноутбуков:\n",
        "\n",
        "1). Retrieval Augmented Generation(RAG) с использованием GigaChat на примере задачи \"разговор с книгой\"\n",
        "\n",
        "2).ДЗPro6(9)занятиес.ipynb из курса ChatGPTProfessional\n",
        "\n",
        "Установка\n",
        "\n",
        "Для работы нам понадобится векторая база данных. Мы будем использовать Chroma."
      ],
      "metadata": {
        "id": "ToYYSAKMebEd"
      }
    },
    {
      "cell_type": "code",
      "source": [
        "!pip install chromadb --quiet"
      ],
      "metadata": {
        "id": "o6bPQgmjuNi3"
      },
      "execution_count": null,
      "outputs": []
    },
    {
      "cell_type": "code",
      "source": [
        "import chromadb"
      ],
      "metadata": {
        "id": "hAROsi4Ht6KH"
      },
      "execution_count": null,
      "outputs": []
    },
    {
      "cell_type": "markdown",
      "source": [
        "Инициализация модели\n",
        "\n",
        "Теперь инициализируем модель GigaChat."
      ],
      "metadata": {
        "id": "dDsA3ajIh3Wj"
      }
    },
    {
      "cell_type": "code",
      "source": [
        "!pip install gigachain"
      ],
      "metadata": {
        "colab": {
          "base_uri": "https://localhost:8080/"
        },
        "id": "IAuxQZhyh8ZT",
        "outputId": "cec6dec5-0420-4d56-cc5f-7c120efa5acf"
      },
      "execution_count": null,
      "outputs": [
        {
          "output_type": "stream",
          "name": "stdout",
          "text": [
            "Requirement already satisfied: gigachain in /usr/local/lib/python3.10/dist-packages (0.1.16)\n",
            "Requirement already satisfied: PyYAML>=5.3 in /usr/local/lib/python3.10/dist-packages (from gigachain) (6.0.1)\n",
            "Requirement already satisfied: SQLAlchemy<3,>=1.4 in /usr/local/lib/python3.10/dist-packages (from gigachain) (2.0.29)\n",
            "Requirement already satisfied: aiohttp<4.0.0,>=3.8.3 in /usr/local/lib/python3.10/dist-packages (from gigachain) (3.9.5)\n",
            "Requirement already satisfied: async-timeout<5.0.0,>=4.0.0 in /usr/local/lib/python3.10/dist-packages (from gigachain) (4.0.3)\n",
            "Requirement already satisfied: dataclasses-json<0.7,>=0.5.7 in /usr/local/lib/python3.10/dist-packages (from gigachain) (0.5.14)\n",
            "Requirement already satisfied: gigachain-community<0.1,>=0.0.32 in /usr/local/lib/python3.10/dist-packages (from gigachain) (0.0.33.1)\n",
            "Requirement already satisfied: gigachain-core<0.2.0,>=0.1.42 in /usr/local/lib/python3.10/dist-packages (from gigachain) (0.1.43.1)\n",
            "Requirement already satisfied: gigachain-text-splitters<0.1,>=0.0.1 in /usr/local/lib/python3.10/dist-packages (from gigachain) (0.0.1)\n",
            "Requirement already satisfied: jsonpatch<2.0,>=1.33 in /usr/local/lib/python3.10/dist-packages (from gigachain) (1.33)\n",
            "Requirement already satisfied: langsmith<0.2.0,>=0.1.17 in /usr/local/lib/python3.10/dist-packages (from gigachain) (0.1.52)\n",
            "Requirement already satisfied: numpy<2,>=1 in /usr/local/lib/python3.10/dist-packages (from gigachain) (1.25.2)\n",
            "Requirement already satisfied: pydantic<3,>=1 in /usr/local/lib/python3.10/dist-packages (from gigachain) (1.10.15)\n",
            "Requirement already satisfied: requests<3,>=2 in /usr/local/lib/python3.10/dist-packages (from gigachain) (2.31.0)\n",
            "Requirement already satisfied: tenacity<9.0.0,>=8.1.0 in /usr/local/lib/python3.10/dist-packages (from gigachain) (8.2.3)\n",
            "Requirement already satisfied: aiosignal>=1.1.2 in /usr/local/lib/python3.10/dist-packages (from aiohttp<4.0.0,>=3.8.3->gigachain) (1.3.1)\n",
            "Requirement already satisfied: attrs>=17.3.0 in /usr/local/lib/python3.10/dist-packages (from aiohttp<4.0.0,>=3.8.3->gigachain) (23.2.0)\n",
            "Requirement already satisfied: frozenlist>=1.1.1 in /usr/local/lib/python3.10/dist-packages (from aiohttp<4.0.0,>=3.8.3->gigachain) (1.4.1)\n",
            "Requirement already satisfied: multidict<7.0,>=4.5 in /usr/local/lib/python3.10/dist-packages (from aiohttp<4.0.0,>=3.8.3->gigachain) (6.0.5)\n",
            "Requirement already satisfied: yarl<2.0,>=1.0 in /usr/local/lib/python3.10/dist-packages (from aiohttp<4.0.0,>=3.8.3->gigachain) (1.9.4)\n",
            "Requirement already satisfied: marshmallow<4.0.0,>=3.18.0 in /usr/local/lib/python3.10/dist-packages (from dataclasses-json<0.7,>=0.5.7->gigachain) (3.21.1)\n",
            "Requirement already satisfied: typing-inspect<1,>=0.4.0 in /usr/local/lib/python3.10/dist-packages (from dataclasses-json<0.7,>=0.5.7->gigachain) (0.9.0)\n",
            "Requirement already satisfied: gigachat<0.2.0,>=0.1.23 in /usr/local/lib/python3.10/dist-packages (from gigachain-community<0.1,>=0.0.32->gigachain) (0.1.23)\n",
            "Requirement already satisfied: packaging<24.0,>=23.2 in /usr/local/lib/python3.10/dist-packages (from gigachain-core<0.2.0,>=0.1.42->gigachain) (23.2)\n",
            "Requirement already satisfied: jsonpointer>=1.9 in /usr/local/lib/python3.10/dist-packages (from jsonpatch<2.0,>=1.33->gigachain) (2.4)\n",
            "Requirement already satisfied: orjson<4.0.0,>=3.9.14 in /usr/local/lib/python3.10/dist-packages (from langsmith<0.2.0,>=0.1.17->gigachain) (3.10.1)\n",
            "Requirement already satisfied: typing-extensions>=4.2.0 in /usr/local/lib/python3.10/dist-packages (from pydantic<3,>=1->gigachain) (4.11.0)\n",
            "Requirement already satisfied: charset-normalizer<4,>=2 in /usr/local/lib/python3.10/dist-packages (from requests<3,>=2->gigachain) (3.3.2)\n",
            "Requirement already satisfied: idna<4,>=2.5 in /usr/local/lib/python3.10/dist-packages (from requests<3,>=2->gigachain) (3.7)\n",
            "Requirement already satisfied: urllib3<3,>=1.21.1 in /usr/local/lib/python3.10/dist-packages (from requests<3,>=2->gigachain) (2.0.7)\n",
            "Requirement already satisfied: certifi>=2017.4.17 in /usr/local/lib/python3.10/dist-packages (from requests<3,>=2->gigachain) (2023.11.17)\n",
            "Requirement already satisfied: greenlet!=0.4.17 in /usr/local/lib/python3.10/dist-packages (from SQLAlchemy<3,>=1.4->gigachain) (3.0.3)\n",
            "Requirement already satisfied: httpx<1 in /usr/local/lib/python3.10/dist-packages (from gigachat<0.2.0,>=0.1.23->gigachain-community<0.1,>=0.0.32->gigachain) (0.25.2)\n",
            "Requirement already satisfied: mypy-extensions>=0.3.0 in /usr/local/lib/python3.10/dist-packages (from typing-inspect<1,>=0.4.0->dataclasses-json<0.7,>=0.5.7->gigachain) (1.0.0)\n",
            "Requirement already satisfied: anyio in /usr/local/lib/python3.10/dist-packages (from httpx<1->gigachat<0.2.0,>=0.1.23->gigachain-community<0.1,>=0.0.32->gigachain) (3.7.1)\n",
            "Requirement already satisfied: httpcore==1.* in /usr/local/lib/python3.10/dist-packages (from httpx<1->gigachat<0.2.0,>=0.1.23->gigachain-community<0.1,>=0.0.32->gigachain) (1.0.5)\n",
            "Requirement already satisfied: sniffio in /usr/local/lib/python3.10/dist-packages (from httpx<1->gigachat<0.2.0,>=0.1.23->gigachain-community<0.1,>=0.0.32->gigachain) (1.3.1)\n",
            "Requirement already satisfied: h11<0.15,>=0.13 in /usr/local/lib/python3.10/dist-packages (from httpcore==1.*->httpx<1->gigachat<0.2.0,>=0.1.23->gigachain-community<0.1,>=0.0.32->gigachain) (0.14.0)\n",
            "Requirement already satisfied: exceptiongroup in /usr/local/lib/python3.10/dist-packages (from anyio->httpx<1->gigachat<0.2.0,>=0.1.23->gigachain-community<0.1,>=0.0.32->gigachain) (1.2.1)\n"
          ]
        }
      ]
    },
    {
      "cell_type": "code",
      "source": [
        "!pip install gigachat"
      ],
      "metadata": {
        "colab": {
          "base_uri": "https://localhost:8080/"
        },
        "id": "urDBN3AdiK4c",
        "outputId": "5f50d7c3-5ff2-4529-f66b-f0830b16fe0f"
      },
      "execution_count": null,
      "outputs": [
        {
          "output_type": "stream",
          "name": "stdout",
          "text": [
            "Requirement already satisfied: gigachat in /usr/local/lib/python3.10/dist-packages (0.1.23)\n",
            "Requirement already satisfied: httpx<1 in /usr/local/lib/python3.10/dist-packages (from gigachat) (0.25.2)\n",
            "Requirement already satisfied: pydantic>=1 in /usr/local/lib/python3.10/dist-packages (from gigachat) (1.10.15)\n",
            "Requirement already satisfied: anyio in /usr/local/lib/python3.10/dist-packages (from httpx<1->gigachat) (3.7.1)\n",
            "Requirement already satisfied: certifi in /usr/local/lib/python3.10/dist-packages (from httpx<1->gigachat) (2023.11.17)\n",
            "Requirement already satisfied: httpcore==1.* in /usr/local/lib/python3.10/dist-packages (from httpx<1->gigachat) (1.0.5)\n",
            "Requirement already satisfied: idna in /usr/local/lib/python3.10/dist-packages (from httpx<1->gigachat) (3.7)\n",
            "Requirement already satisfied: sniffio in /usr/local/lib/python3.10/dist-packages (from httpx<1->gigachat) (1.3.1)\n",
            "Requirement already satisfied: h11<0.15,>=0.13 in /usr/local/lib/python3.10/dist-packages (from httpcore==1.*->httpx<1->gigachat) (0.14.0)\n",
            "Requirement already satisfied: typing-extensions>=4.2.0 in /usr/local/lib/python3.10/dist-packages (from pydantic>=1->gigachat) (4.11.0)\n",
            "Requirement already satisfied: exceptiongroup in /usr/local/lib/python3.10/dist-packages (from anyio->httpx<1->gigachat) (1.2.1)\n"
          ]
        }
      ]
    },
    {
      "cell_type": "code",
      "source": [
        "from langchain.chat_models.gigachat import GigaChat\n",
        "\n",
        "llm = GigaChat(credentials=\"OTQ0YThiZTgtNTdjYy00NDIxLWFkNGMtMDcxN2I1YmJiZTk3OjdiM2Q0MGVkLTAzZDMtNGVmMy1iZjk1LTQ1YzZjM2FhMTRkYQ==\", verify_ssl_certs=True)"
      ],
      "metadata": {
        "id": "gs8_RuLwiUkg"
      },
      "execution_count": null,
      "outputs": []
    },
    {
      "cell_type": "code",
      "source": [
        "# Передайте полученные авторизационные данные в параметре credentials объекта GigaChat\n",
        "\n",
        "!chat = GigaChat(credentials='OTQ0YThiZTgtNTdjYy00NDIxLWFkNGMtMDcxN2I1YmJiZTk3OjdiM2Q0MGVkLTAzZDMtNGVmMy1iZjk1LTQ1YzZjM2FhMTRkYQ==')"
      ],
      "metadata": {
        "colab": {
          "base_uri": "https://localhost:8080/"
        },
        "id": "mSN8ALtyluL7",
        "outputId": "5cf65c39-013c-4ca1-90d1-039a126e09b0"
      },
      "execution_count": null,
      "outputs": [
        {
          "output_type": "stream",
          "name": "stdout",
          "text": [
            "/bin/bash: -c: line 1: syntax error near unexpected token `('\n",
            "/bin/bash: -c: line 1: `chat = GigaChat(credentials='OTQ0YThiZTgtNTdjYy00NDIxLWFkNGMtMDcxN2I1YmJiZTk3OjdiM2Q0MGVkLTAzZDMtNGVmMy1iZjk1LTQ1YzZjM2FhMTRkYQ==')'\n"
          ]
        }
      ]
    },
    {
      "cell_type": "code",
      "source": [
        "# Вы также можете явно указать версию API с помощью атрибута scope:\n",
        "# Личное пространство\n",
        "!giga = GigaChat(credentials='OTQ0YThiZTgtNTdjYy00NDIxLWFkNGMtMDcxN2I1YmJiZTk3OjdiM2Q0MGVkLTAzZDMtNGVmMy1iZjk1LTQ1YzZjM2FhMTRkYQ==', scope=\"GIGACHAT_API_PERS\")"
      ],
      "metadata": {
        "colab": {
          "base_uri": "https://localhost:8080/"
        },
        "id": "fKUf-EN0l9BG",
        "outputId": "a6d4979e-ba8a-4299-c1a7-5506314d340a"
      },
      "execution_count": null,
      "outputs": [
        {
          "output_type": "stream",
          "name": "stdout",
          "text": [
            "/bin/bash: -c: line 1: syntax error near unexpected token `('\n",
            "/bin/bash: -c: line 1: `giga = GigaChat(credentials='OTQ0YThiZTgtNTdjYy00NDIxLWFkNGMtMDcxN2I1YmJiZTk3OjdiM2Q0MGVkLTAzZDMtNGVmMy1iZjk1LTQ1YzZjM2FhMTRkYQ==', scope=\"GIGACHAT_API_PERS\")'\n"
          ]
        }
      ]
    },
    {
      "cell_type": "markdown",
      "source": [
        "Установка сертификатов минцифры\n",
        "\n",
        "Для обращения к GigaChat в вашем приложении или в вашей ОС должны быть установлены сертификаты минцифры.\n",
        "\n",
        "Вы можете установить сертификаты с помощью утилиты gigachain-cli. Для этого:\n",
        "\n",
        "Установите утилиту с помощью менеджера пакетов pip:"
      ],
      "metadata": {
        "id": "FZVjUtnimIwX"
      }
    },
    {
      "cell_type": "code",
      "source": [
        "!pip install gigachain-cli"
      ],
      "metadata": {
        "colab": {
          "base_uri": "https://localhost:8080/"
        },
        "id": "1jbaouS_mH3U",
        "outputId": "9d7ce201-2bd1-4c92-88d0-bc378d85b0b8"
      },
      "execution_count": null,
      "outputs": [
        {
          "output_type": "stream",
          "name": "stdout",
          "text": [
            "Requirement already satisfied: gigachain-cli in /usr/local/lib/python3.10/dist-packages (0.0.21)\n",
            "Requirement already satisfied: certifi<2024.0.0,>=2023.7.22 in /usr/local/lib/python3.10/dist-packages (from gigachain-cli) (2023.11.17)\n",
            "Requirement already satisfied: gigaserve[all]>=0.0.16 in /usr/local/lib/python3.10/dist-packages (from gigachain-cli) (0.0.51)\n",
            "Requirement already satisfied: gitpython<4.0.0,>=3.1.40 in /usr/local/lib/python3.10/dist-packages (from gigachain-cli) (3.1.43)\n",
            "Requirement already satisfied: httpx<0.26.0,>=0.25.0 in /usr/local/lib/python3.10/dist-packages (from gigachain-cli) (0.25.2)\n",
            "Requirement already satisfied: tomlkit<0.13.0,>=0.12.2 in /usr/local/lib/python3.10/dist-packages (from gigachain-cli) (0.12.4)\n",
            "Requirement already satisfied: typer[all]<0.10.0,>=0.9.0 in /usr/local/lib/python3.10/dist-packages (from gigachain-cli) (0.9.4)\n",
            "Requirement already satisfied: uvicorn<0.24.0,>=0.23.2 in /usr/local/lib/python3.10/dist-packages (from gigachain-cli) (0.23.2)\n",
            "Requirement already satisfied: gigachain<0.2.0,>=0.1.12 in /usr/local/lib/python3.10/dist-packages (from gigaserve[all]>=0.0.16->gigachain-cli) (0.1.16)\n",
            "Requirement already satisfied: orjson>=2 in /usr/local/lib/python3.10/dist-packages (from gigaserve[all]>=0.0.16->gigachain-cli) (3.10.1)\n",
            "Requirement already satisfied: pydantic<2,>=1.1.13 in /usr/local/lib/python3.10/dist-packages (from gigaserve[all]>=0.0.16->gigachain-cli) (1.10.15)\n",
            "Requirement already satisfied: fastapi<1,>=0.90.1 in /usr/local/lib/python3.10/dist-packages (from gigaserve[all]>=0.0.16->gigachain-cli) (0.110.3)\n",
            "Requirement already satisfied: httpx-sse>=0.3.1 in /usr/local/lib/python3.10/dist-packages (from gigaserve[all]>=0.0.16->gigachain-cli) (0.4.0)\n",
            "Requirement already satisfied: sse-starlette<2.0.0,>=1.3.0 in /usr/local/lib/python3.10/dist-packages (from gigaserve[all]>=0.0.16->gigachain-cli) (1.8.2)\n",
            "Requirement already satisfied: gitdb<5,>=4.0.1 in /usr/local/lib/python3.10/dist-packages (from gitpython<4.0.0,>=3.1.40->gigachain-cli) (4.0.11)\n",
            "Requirement already satisfied: anyio in /usr/local/lib/python3.10/dist-packages (from httpx<0.26.0,>=0.25.0->gigachain-cli) (3.7.1)\n",
            "Requirement already satisfied: httpcore==1.* in /usr/local/lib/python3.10/dist-packages (from httpx<0.26.0,>=0.25.0->gigachain-cli) (1.0.5)\n",
            "Requirement already satisfied: idna in /usr/local/lib/python3.10/dist-packages (from httpx<0.26.0,>=0.25.0->gigachain-cli) (3.7)\n",
            "Requirement already satisfied: sniffio in /usr/local/lib/python3.10/dist-packages (from httpx<0.26.0,>=0.25.0->gigachain-cli) (1.3.1)\n",
            "Requirement already satisfied: h11<0.15,>=0.13 in /usr/local/lib/python3.10/dist-packages (from httpcore==1.*->httpx<0.26.0,>=0.25.0->gigachain-cli) (0.14.0)\n",
            "Requirement already satisfied: click<9.0.0,>=7.1.1 in /usr/local/lib/python3.10/dist-packages (from typer[all]<0.10.0,>=0.9.0->gigachain-cli) (8.1.7)\n",
            "Requirement already satisfied: typing-extensions>=3.7.4.3 in /usr/local/lib/python3.10/dist-packages (from typer[all]<0.10.0,>=0.9.0->gigachain-cli) (4.11.0)\n",
            "Requirement already satisfied: colorama<0.5.0,>=0.4.3 in /usr/local/lib/python3.10/dist-packages (from typer[all]<0.10.0,>=0.9.0->gigachain-cli) (0.4.6)\n",
            "Requirement already satisfied: shellingham<2.0.0,>=1.3.0 in /usr/local/lib/python3.10/dist-packages (from typer[all]<0.10.0,>=0.9.0->gigachain-cli) (1.5.4)\n",
            "Requirement already satisfied: rich<14.0.0,>=10.11.0 in /usr/local/lib/python3.10/dist-packages (from typer[all]<0.10.0,>=0.9.0->gigachain-cli) (13.7.1)\n",
            "Requirement already satisfied: starlette<0.38.0,>=0.37.2 in /usr/local/lib/python3.10/dist-packages (from fastapi<1,>=0.90.1->gigaserve[all]>=0.0.16->gigachain-cli) (0.37.2)\n",
            "Requirement already satisfied: PyYAML>=5.3 in /usr/local/lib/python3.10/dist-packages (from gigachain<0.2.0,>=0.1.12->gigaserve[all]>=0.0.16->gigachain-cli) (6.0.1)\n",
            "Requirement already satisfied: SQLAlchemy<3,>=1.4 in /usr/local/lib/python3.10/dist-packages (from gigachain<0.2.0,>=0.1.12->gigaserve[all]>=0.0.16->gigachain-cli) (2.0.29)\n",
            "Requirement already satisfied: aiohttp<4.0.0,>=3.8.3 in /usr/local/lib/python3.10/dist-packages (from gigachain<0.2.0,>=0.1.12->gigaserve[all]>=0.0.16->gigachain-cli) (3.9.5)\n",
            "Requirement already satisfied: async-timeout<5.0.0,>=4.0.0 in /usr/local/lib/python3.10/dist-packages (from gigachain<0.2.0,>=0.1.12->gigaserve[all]>=0.0.16->gigachain-cli) (4.0.3)\n",
            "Requirement already satisfied: dataclasses-json<0.7,>=0.5.7 in /usr/local/lib/python3.10/dist-packages (from gigachain<0.2.0,>=0.1.12->gigaserve[all]>=0.0.16->gigachain-cli) (0.5.14)\n",
            "Requirement already satisfied: gigachain-community<0.1,>=0.0.32 in /usr/local/lib/python3.10/dist-packages (from gigachain<0.2.0,>=0.1.12->gigaserve[all]>=0.0.16->gigachain-cli) (0.0.33.1)\n",
            "Requirement already satisfied: gigachain-core<0.2.0,>=0.1.42 in /usr/local/lib/python3.10/dist-packages (from gigachain<0.2.0,>=0.1.12->gigaserve[all]>=0.0.16->gigachain-cli) (0.1.43.1)\n",
            "Requirement already satisfied: gigachain-text-splitters<0.1,>=0.0.1 in /usr/local/lib/python3.10/dist-packages (from gigachain<0.2.0,>=0.1.12->gigaserve[all]>=0.0.16->gigachain-cli) (0.0.1)\n",
            "Requirement already satisfied: jsonpatch<2.0,>=1.33 in /usr/local/lib/python3.10/dist-packages (from gigachain<0.2.0,>=0.1.12->gigaserve[all]>=0.0.16->gigachain-cli) (1.33)\n",
            "Requirement already satisfied: langsmith<0.2.0,>=0.1.17 in /usr/local/lib/python3.10/dist-packages (from gigachain<0.2.0,>=0.1.12->gigaserve[all]>=0.0.16->gigachain-cli) (0.1.52)\n",
            "Requirement already satisfied: numpy<2,>=1 in /usr/local/lib/python3.10/dist-packages (from gigachain<0.2.0,>=0.1.12->gigaserve[all]>=0.0.16->gigachain-cli) (1.25.2)\n",
            "Requirement already satisfied: requests<3,>=2 in /usr/local/lib/python3.10/dist-packages (from gigachain<0.2.0,>=0.1.12->gigaserve[all]>=0.0.16->gigachain-cli) (2.31.0)\n",
            "Requirement already satisfied: tenacity<9.0.0,>=8.1.0 in /usr/local/lib/python3.10/dist-packages (from gigachain<0.2.0,>=0.1.12->gigaserve[all]>=0.0.16->gigachain-cli) (8.2.3)\n",
            "Requirement already satisfied: smmap<6,>=3.0.1 in /usr/local/lib/python3.10/dist-packages (from gitdb<5,>=4.0.1->gitpython<4.0.0,>=3.1.40->gigachain-cli) (5.0.1)\n",
            "Requirement already satisfied: markdown-it-py>=2.2.0 in /usr/local/lib/python3.10/dist-packages (from rich<14.0.0,>=10.11.0->typer[all]<0.10.0,>=0.9.0->gigachain-cli) (3.0.0)\n",
            "Requirement already satisfied: pygments<3.0.0,>=2.13.0 in /usr/local/lib/python3.10/dist-packages (from rich<14.0.0,>=10.11.0->typer[all]<0.10.0,>=0.9.0->gigachain-cli) (2.16.1)\n",
            "Requirement already satisfied: exceptiongroup in /usr/local/lib/python3.10/dist-packages (from anyio->httpx<0.26.0,>=0.25.0->gigachain-cli) (1.2.1)\n",
            "Requirement already satisfied: aiosignal>=1.1.2 in /usr/local/lib/python3.10/dist-packages (from aiohttp<4.0.0,>=3.8.3->gigachain<0.2.0,>=0.1.12->gigaserve[all]>=0.0.16->gigachain-cli) (1.3.1)\n",
            "Requirement already satisfied: attrs>=17.3.0 in /usr/local/lib/python3.10/dist-packages (from aiohttp<4.0.0,>=3.8.3->gigachain<0.2.0,>=0.1.12->gigaserve[all]>=0.0.16->gigachain-cli) (23.2.0)\n",
            "Requirement already satisfied: frozenlist>=1.1.1 in /usr/local/lib/python3.10/dist-packages (from aiohttp<4.0.0,>=3.8.3->gigachain<0.2.0,>=0.1.12->gigaserve[all]>=0.0.16->gigachain-cli) (1.4.1)\n",
            "Requirement already satisfied: multidict<7.0,>=4.5 in /usr/local/lib/python3.10/dist-packages (from aiohttp<4.0.0,>=3.8.3->gigachain<0.2.0,>=0.1.12->gigaserve[all]>=0.0.16->gigachain-cli) (6.0.5)\n",
            "Requirement already satisfied: yarl<2.0,>=1.0 in /usr/local/lib/python3.10/dist-packages (from aiohttp<4.0.0,>=3.8.3->gigachain<0.2.0,>=0.1.12->gigaserve[all]>=0.0.16->gigachain-cli) (1.9.4)\n",
            "Requirement already satisfied: marshmallow<4.0.0,>=3.18.0 in /usr/local/lib/python3.10/dist-packages (from dataclasses-json<0.7,>=0.5.7->gigachain<0.2.0,>=0.1.12->gigaserve[all]>=0.0.16->gigachain-cli) (3.21.1)\n",
            "Requirement already satisfied: typing-inspect<1,>=0.4.0 in /usr/local/lib/python3.10/dist-packages (from dataclasses-json<0.7,>=0.5.7->gigachain<0.2.0,>=0.1.12->gigaserve[all]>=0.0.16->gigachain-cli) (0.9.0)\n",
            "Requirement already satisfied: gigachat<0.2.0,>=0.1.23 in /usr/local/lib/python3.10/dist-packages (from gigachain-community<0.1,>=0.0.32->gigachain<0.2.0,>=0.1.12->gigaserve[all]>=0.0.16->gigachain-cli) (0.1.23)\n",
            "Requirement already satisfied: packaging<24.0,>=23.2 in /usr/local/lib/python3.10/dist-packages (from gigachain-core<0.2.0,>=0.1.42->gigachain<0.2.0,>=0.1.12->gigaserve[all]>=0.0.16->gigachain-cli) (23.2)\n",
            "Requirement already satisfied: jsonpointer>=1.9 in /usr/local/lib/python3.10/dist-packages (from jsonpatch<2.0,>=1.33->gigachain<0.2.0,>=0.1.12->gigaserve[all]>=0.0.16->gigachain-cli) (2.4)\n",
            "Requirement already satisfied: mdurl~=0.1 in /usr/local/lib/python3.10/dist-packages (from markdown-it-py>=2.2.0->rich<14.0.0,>=10.11.0->typer[all]<0.10.0,>=0.9.0->gigachain-cli) (0.1.2)\n",
            "Requirement already satisfied: charset-normalizer<4,>=2 in /usr/local/lib/python3.10/dist-packages (from requests<3,>=2->gigachain<0.2.0,>=0.1.12->gigaserve[all]>=0.0.16->gigachain-cli) (3.3.2)\n",
            "Requirement already satisfied: urllib3<3,>=1.21.1 in /usr/local/lib/python3.10/dist-packages (from requests<3,>=2->gigachain<0.2.0,>=0.1.12->gigaserve[all]>=0.0.16->gigachain-cli) (2.0.7)\n",
            "Requirement already satisfied: greenlet!=0.4.17 in /usr/local/lib/python3.10/dist-packages (from SQLAlchemy<3,>=1.4->gigachain<0.2.0,>=0.1.12->gigaserve[all]>=0.0.16->gigachain-cli) (3.0.3)\n",
            "Requirement already satisfied: mypy-extensions>=0.3.0 in /usr/local/lib/python3.10/dist-packages (from typing-inspect<1,>=0.4.0->dataclasses-json<0.7,>=0.5.7->gigachain<0.2.0,>=0.1.12->gigaserve[all]>=0.0.16->gigachain-cli) (1.0.0)\n"
          ]
        }
      ]
    },
    {
      "cell_type": "markdown",
      "source": [
        "Установите сертификаты с помощью команды:"
      ],
      "metadata": {
        "id": "MC0bs5j_mhZM"
      }
    },
    {
      "cell_type": "code",
      "source": [
        "!gigachain install-rus-certs"
      ],
      "metadata": {
        "colab": {
          "base_uri": "https://localhost:8080/"
        },
        "id": "XJFzc5XWmilD",
        "outputId": "2f877df3-c722-4bad-fb02-669d94633516"
      },
      "execution_count": null,
      "outputs": [
        {
          "output_type": "stream",
          "name": "stdout",
          "text": [
            "ERR: Сертификат Минцифры уже установлен!\n"
          ]
        }
      ]
    },
    {
      "cell_type": "code",
      "source": [
        "# Подгружаем гугл-диск. Там лежит Мастер и Маргарита\n",
        "\n",
        "from google.colab import drive\n",
        "drive.mount('/content/drive')"
      ],
      "metadata": {
        "colab": {
          "base_uri": "https://localhost:8080/"
        },
        "id": "eC36Slj2mtgu",
        "outputId": "050819d6-e03b-44a6-d995-c6b6f93a7142"
      },
      "execution_count": null,
      "outputs": [
        {
          "output_type": "stream",
          "name": "stdout",
          "text": [
            "Mounted at /content/drive\n"
          ]
        }
      ]
    },
    {
      "cell_type": "markdown",
      "source": [
        "Для проверки спросим у модели вопрос про цвет плаща без какого-либо контекста. Возможно, она и так будет давать ожидаемый ответ..."
      ],
      "metadata": {
        "id": "M8ZJjWXsnCHG"
      }
    },
    {
      "cell_type": "code",
      "source": [
        "from langchain.schema import HumanMessage\n",
        "\n",
        "question = \"Какой плащ был у Понтия Пилата?\"\n",
        "llm([HumanMessage(content=question)]).content[0:200]"
      ],
      "metadata": {
        "id": "z9sR3YklqwyZ"
      },
      "execution_count": null,
      "outputs": []
    },
    {
      "cell_type": "markdown",
      "source": [
        "/usr/local/lib/python3.10/dist-packages/langchain_core/_api/deprecation.py:117: LangChainDeprecationWarning: The function `__call__` was deprecated in LangChain 0.1.7 and will be removed in 0.2.0. Use invoke instead.\n",
        "  warn_deprecated(\n",
        "Понтий Пилат, римский прокуратор Иудеи, носил плащ, который назывался \"тога\". Тога была традиционной одеждой римлян и представляла собой длинное прямоугольное полотно ткани, которое оборачивалось вокр"
      ],
      "metadata": {
        "id": "-YwWiu_pqkKl"
      }
    },
    {
      "cell_type": "markdown",
      "source": [
        "Видим, что модель не отвечает так, как нам хотелось бы, поэтому применим RAG-подход.\n",
        "\n",
        "Подготовка документа Для работы с документом нам нужно разделить его на части. Для этого используем TextLoader для загрузки книги и RecursiveCharacterTextSplitter, чтобы разделить текст на приблизительно равные куски в ~1000 символов с перекрытием в ~200 символов. Этот тип сплиттера сам выбирает каким способом следует оптимально разделять документ (по абзацам, по предложениям и т.д.)"
      ],
      "metadata": {
        "id": "pjmKltVeq73g"
      }
    },
    {
      "cell_type": "code",
      "source": [
        "from langchain.document_loaders import TextLoader\n",
        "from langchain.text_splitter import RecursiveCharacterTextSplitter\n",
        "\n",
        "# Указание кодировки cp1251 при открытии файла\n",
        "file_path = \"/content/drive/MyDrive/Colab Notebooks/stagirovki/Разработка_нейро_консультанта_для_обработки_обращений_граждан_в_федеральные_органы_исполнительной_власти _ФГБУ_ВНИИМС_Росстандарт/Булгаков Михаил. Мастер и Маргарита (Художник Г. Новожилов) - royallib.com.txt\"\n",
        "loader = TextLoader(file_path=file_path, encoding='cp1251')\n",
        "\n",
        "documents = loader.load()\n",
        "text_splitter = RecursiveCharacterTextSplitter(\n",
        "    chunk_size=1000,\n",
        "    chunk_overlap=200,\n",
        ")\n",
        "documents = text_splitter.split_documents(documents)\n",
        "\n",
        "print(f\"Total documents: {len(documents)}\")"
      ],
      "metadata": {
        "colab": {
          "base_uri": "https://localhost:8080/"
        },
        "id": "67LAPh0jq9Ff",
        "outputId": "0456f980-7af2-4868-d737-cbe7ca125698"
      },
      "execution_count": null,
      "outputs": [
        {
          "output_type": "stream",
          "name": "stdout",
          "text": [
            "Total documents: 1005\n"
          ]
        }
      ]
    },
    {
      "cell_type": "markdown",
      "source": [
        "После нарезки мы получили 1005 документов частями книги.\n",
        "\n",
        "Создание базы данных эмбеддингов\n",
        "\n",
        "Эмбеддинг это векторное представление текста, которое может быть использовано для определения смысловой близости текстов. Векторная база данных хранит тексты и соответствующие им эмбеддинги, а также умеет выполнять поиск по ним. Для работы с базой данных мы создаем объект GigaChatEmbeddings и передаем его в базу данных Chroma.\n",
        "\n",
        "Обратите внимание, что сервис для вычисления эмбеддингов может тарифицироваться отдельно от стоимости модели GigaChat.\n",
        "\n",
        "Напишу сразу, оплату эмбеддингов произвел отдельно для доступа к векторному хранилищу и модели GigaChatEmbeddings: затраты Сбером заявлены в пределах 1000 рублей на 6 месяцев , дают 10000 токенов."
      ],
      "metadata": {
        "id": "PLNazOWYraKf"
      }
    },
    {
      "cell_type": "code",
      "source": [
        "from chromadb.config import Settings\n",
        "from langchain.vectorstores import Chroma\n",
        "from langchain_community.embeddings.gigachat import GigaChatEmbeddings\n",
        "\n",
        "embeddings = GigaChatEmbeddings(\n",
        "    credentials=\"OTQ0YThiZTgtNTdjYy00NDIxLWFkNGMtMDcxN2I1YmJiZTk3OjdiM2Q0MGVkLTAzZDMtNGVmMy1iZjk1LTQ1YzZjM2FhMTRkYQ==\", verify_ssl_certs=True\n",
        ")\n",
        "\n",
        "db = Chroma.from_documents(\n",
        "    documents,\n",
        "    embeddings,\n",
        "    client_settings=Settings(anonymized_telemetry=False),\n",
        ")"
      ],
      "metadata": {
        "id": "UVnP9Q13rcFh"
      },
      "execution_count": null,
      "outputs": []
    },
    {
      "cell_type": "code",
      "source": [
        "import os\n",
        "import getpass\n",
        "import matplotlib.pyplot as plt\n",
        "from langchain.embeddings.openai import OpenAIEmbeddings\n",
        "from langchain.vectorstores import FAISS\n",
        "from langchain.text_splitter import RecursiveCharacterTextSplitter\n",
        "from langchain.text_splitter import MarkdownHeaderTextSplitter\n",
        "from langchain.chat_models import ChatOpenAI\n",
        "from langchain.schema import SystemMessage\n",
        "import re\n",
        "import tiktoken\n",
        "import requests\n",
        "import openai\n",
        "from langchain.docstore.document import Document"
      ],
      "metadata": {
        "id": "aebb3tCPuD8G"
      },
      "execution_count": null,
      "outputs": []
    },
    {
      "cell_type": "code",
      "source": [
        "# функция для загрузки документа по ссылке из гугл драйв\n",
        "def load_document_text(url: str) -> str:\n",
        "    # Extract the document ID from the URL\n",
        "    match_ = re.search('/document/d/([a-zA-Z0-9-_]+)', url)\n",
        "    if match_ is None:\n",
        "        raise ValueError('Invalid Google Docs URL')\n",
        "    doc_id = match_.group(1)\n",
        "\n",
        "    # Download the document as plain text\n",
        "    response = requests.get(f'https://docs.google.com/document/d/{doc_id}/export?format=txt')\n",
        "    response.raise_for_status()\n",
        "    text = response.text\n",
        "\n",
        "    return text"
      ],
      "metadata": {
        "id": "GlWtKZuSWh_V"
      },
      "execution_count": null,
      "outputs": []
    },
    {
      "cell_type": "code",
      "source": [
        "# База знаний, которая будет подаваться в langChain\n",
        "database= load_document_text('https://docs.google.com/document/d/1PGw2Y4PSJ2S7vfPlge9j6G_x0zX6jX4UEIitfwlP-c0/edit?usp=sharing')   # заполните необходимым значением, база данных"
      ],
      "metadata": {
        "id": "pLpPZBdb7oeB"
      },
      "execution_count": null,
      "outputs": []
    },
    {
      "cell_type": "code",
      "source": [
        "database[:1000]"
      ],
      "metadata": {
        "colab": {
          "base_uri": "https://localhost:8080/",
          "height": 105
        },
        "id": "N5SFGYOQ9oI4",
        "outputId": "22850c16-9113-4a6c-87e7-6a9ec01650d6"
      },
      "execution_count": null,
      "outputs": [
        {
          "output_type": "execute_result",
          "data": {
            "text/plain": [
              "'\\ufeff# УТВЕРЖДЕН:\\r\\nПостановлением Исполкома\\r\\nОбщероссийской общественной организации\\r\\n«Российский футбольный союз»\\r\\n№ 65/2 от «23» декабря 2010 года\\r\\nс последующими изменениями и дополнениями\\r\\n(в редакции на 01.10.2019)\\r\\n# ДИСЦИПЛИНАРНЫЙ РЕГЛАМЕНТ РФС\\r\\nМосква, 2019 год\\r\\nСписок терминов и определений\\r\\nВ настоящем Регламенте используются следующие термины и определения:\\r\\n1. ФИФА – Международная федерация футбольных ассоциаций.\\r\\n2. УЕФА – Союз европейских футбольных ассоциаций.\\r\\n3. РФС – Общероссийская общественная организация «Российский футбольный\\r\\nсоюз».\\r\\n4. РФПЛ – Некоммерческое партнерство «Российская футбольная Премьер-Лига».\\r\\n5. ФНЛ – Некоммерческое партнерство «Футбольная Национальная Лига».\\r\\n6. Юрисдикционные органы – Контрольно-дисциплинарный комитет РФС,\\r\\nАпелляционный комитет РФС, осуществляющие свою деятельность в соответствии с\\r\\nуставом РФС и настоящим Регламентом, а также юрисдикционные органы Федераций,\\r\\nосуществляющие свою деятельность в соответствии с настоящим регламентом, '"
            ],
            "application/vnd.google.colaboratory.intrinsic+json": {
              "type": "string"
            }
          },
          "metadata": {},
          "execution_count": 6
        }
      ]
    },
    {
      "cell_type": "code",
      "source": [
        "# предобработаем текст таким образом, чтобы его можно было бы поделить на чанки при помощи MarkdownHeaderTextSplitter\n",
        "def text_to_markdown(text):\n",
        "    # Добавляем заголовок 1 уровня на основе римских чисел (без переноса строки)\n",
        "    # и дублируем его строчкой ниже - иначе эта информация перенесется в метаданные, а порой она бывает полезной.\n",
        "    def replace_header1(match):\n",
        "        return f\"# {match.group(2)}\\n{match.group(2)}\"\n",
        "    '''Далее используем функцию re.sub из модуля регулярных выражений re для замены подстрок в строке text.\n",
        "    Шаблон регулярного выражения (I{1,3}|IV|V)\\. (.+) ищет римские числа от I до V в начале строки, за которыми следует точка и пробел.\n",
        "    Функция replace_header1 вызывается для каждого совпадения, и ее возвращаемое значение используется для замены найденной подстроки.\n",
        "    Флаг re.M позволяет ^ соответствовать началу каждой строки, а не только началу всего текста.'''\n",
        "    text = re.sub(r'^(I{1,3}|IV|V)\\. (.+)', replace_header1, text, flags=re.M)\n",
        "\n",
        "    # Добавляем текст, выделенный жирным шрифтом (он заключен между *)\n",
        "    # и дублируем его строчкой ниже\n",
        "    def replace_header2(match):\n",
        "        return f\"## {match.group(1)}\\n{match.group(1)}\"\n",
        "\n",
        "    text = re.sub(r'\\*([^\\*]+)\\*', replace_header2, text)\n",
        "\n",
        "    return text"
      ],
      "metadata": {
        "id": "t8vce6-59wKE"
      },
      "execution_count": null,
      "outputs": []
    },
    {
      "cell_type": "code",
      "source": [
        "markdown = text_to_markdown(database)                 # заполните необходимым значением\n",
        "print(markdown[:30000])"
      ],
      "metadata": {
        "colab": {
          "base_uri": "https://localhost:8080/"
        },
        "id": "bY1sU3GL-fm2",
        "outputId": "b1b75f77-edcc-44db-bebf-048e562651c0"
      },
      "execution_count": null,
      "outputs": [
        {
          "output_type": "stream",
          "name": "stdout",
          "text": [
            "﻿# УТВЕРЖДЕН:\r\n",
            "Постановлением Исполкома\r\n",
            "Общероссийской общественной организации\r\n",
            "«Российский футбольный союз»\r\n",
            "№ 65/2 от «23» декабря 2010 года\r\n",
            "с последующими изменениями и дополнениями\r\n",
            "(в редакции на 01.10.2019)\r\n",
            "# ДИСЦИПЛИНАРНЫЙ РЕГЛАМЕНТ РФС\r\n",
            "Москва, 2019 год\r\n",
            "Список терминов и определений\r\n",
            "В настоящем Регламенте используются следующие термины и определения:\r\n",
            "1. ФИФА – Международная федерация футбольных ассоциаций.\r\n",
            "2. УЕФА – Союз европейских футбольных ассоциаций.\r\n",
            "3. РФС – Общероссийская общественная организация «Российский футбольный\r\n",
            "союз».\r\n",
            "4. РФПЛ – Некоммерческое партнерство «Российская футбольная Премьер-Лига».\r\n",
            "5. ФНЛ – Некоммерческое партнерство «Футбольная Национальная Лига».\r\n",
            "6. Юрисдикционные органы – Контрольно-дисциплинарный комитет РФС,\r\n",
            "Апелляционный комитет РФС, осуществляющие свою деятельность в соответствии с\r\n",
            "уставом РФС и настоящим Регламентом, а также юрисдикционные органы Федераций,\r\n",
            "осуществляющие свою деятельность в соответствии с настоящим регламентом, уставами\r\n",
            "и иными документами Федераций.\r\n",
            "7. Регламент – Дисциплинарный регламент РФС.\r\n",
            "8. Федерации – региональные федерации футбола (РФФ) и межрегиональные\r\n",
            "объединения региональных федераций футбола (МРО).\r\n",
            "9. Лига – некоммерческая организация, признанная РФС и спортивно\r\n",
            "подчиняющаяся ему, основанная на членстве, признающая в своей деятельности в области\r\n",
            "спорта верховенство норм и правил ФИФА, УЕФА, РФС, основными целями которой\r\n",
            "является представительство клубов и защита их законных предпринимательских и\r\n",
            "спортивных интересов, а также проведение спортивных футбольных соревнований с\r\n",
            "участием игроков, если данное право им делегировано РФС.\r\n",
            "10. Клуб (Команда) – спортивный футбольный клуб (команда), спортивно\r\n",
            "подчиняющийся нормам и правилам ФИФА, УЕФА и РФС, участвующий или желающий\r\n",
            "участвовать в организованных под юрисдикцией (эгидой) РФС спортивных\r\n",
            "соревнованиях по футболу (любых его разновидностей).\r\n",
            "11. Игрок – футболист, зарегистрированный в таком качестве в РФС, если иное не\r\n",
            "установлено нормами ФИФА, УЕФА или РФС.\r\n",
            "12. Официальное лицо – любое должностное лицо, выполняющее организационно-\r\n",
            "распорядительные или административно-хозяйственные функции в организациях-\r\n",
            "субъектах футбола, в том числе их руководители (заместители), а также члены\r\n",
            "коллегиальных органов, технические работники, иные лица, ответственные за\r\n",
            "технические, медицинские и административные вопросы в РФС, Федерациях, членах РФС\r\n",
            "- юридических лицах, Лигах или Клубах.\r\n",
            "13. Официальное лицо Клуба – любое должностное лицо, выполняющее\r\n",
            "организационно-распорядительные или административно-хозяйственные функции в\r\n",
            "Клубе, в том числе их руководители (заместители), тренеры и иные работники Клуба,\r\n",
            "заявленные (зарегистрированные) Клубом для участия в Соревнованиях.\r\n",
            "14. Субъект футбола – ФИФА, УЕФА, РФС, учрежденные им организации, члены\r\n",
            "РФС, члены коллегиальных органов РФС, работники РФС (административный аппарат\r\n",
            "РФС), лиги и их работники, клубы и их работники, официальные лица, игроки,\r\n",
            "спортивные команды, коллективы физической культуры, агенты матчей и посредники,\r\n",
            "профессиональные союзы в области футбола, центры спортивной подготовки, спортивные\r\n",
            "школы различных видов, пользователи и владельцы спортивных сооружений,\r\n",
            "используемых в области футбола, зрители (болельщики) и их объединения, а также иные\r\n",
            "лица, деятельность которых связана с соревнованиями, проводимыми под эгидой РФС и\r\n",
            "которые признают нормы, установленные РФС.\r\n",
            "15. Официальное лицо матча – лица, осуществляющие контроль за соблюдением\r\n",
            "Правил игры, организацией матча и лица, оценивающие действия судей (в т.ч. судья,\r\n",
            "помощник судьи, резервный судья, делегат, инспектор, комиссар).\r\n",
            "16. Участник матча – лицо, внесенное Клубом в протокол матча.\r\n",
            "2161\r\n",
            ". Участие в матче – выход на поле Игрока в качестве футболиста основного\r\n",
            "состава либо выход на замену в матче.\r\n",
            "17. Участник Соревнования – Клуб, принимающий участие в Соревнованиях, а\r\n",
            "также Игроки и Официальные лица клуба, заявленные Клубом для участия в\r\n",
            "Соревнованиях.\r\n",
            "18. Правила игры – правила игры в футбол, мини-футбол, принятые\r\n",
            "Международным советом ИФАБ («Международным советом Футбольной ассоциации»), и\r\n",
            "правила игры в пляжный футбол, принятые Всемирной Организацией Пляжного футбола.\r\n",
            "19. Время «до матча» – промежуток времени между вступлением участвующей в\r\n",
            "матче Команды на территорию Стадиона и началом матча, которое обозначается\r\n",
            "стартовым свистком судьи.\r\n",
            "20. Время «после матча» – промежуток времени между финальным свистком судьи\r\n",
            "и моментом, когда Команда покинет территорию Стадиона.\r\n",
            "21. «Во время матча» – промежуток времени между началом матча и его\r\n",
            "окончанием (обозначаются стартовым и финальным свистками судьи).\r\n",
            "22. Соревнования – Всероссийские соревнования по футболу (Чемпионат России,\r\n",
            "Первенство России, Кубок России) среди мужских и женских команд, всероссийские\r\n",
            "соревнования (Чемпионат России, Первенство России, Кубок России) по мини-футболу и\r\n",
            "пляжному футболу, а также всероссийские соревнования или их этапы, проводимые МРО\r\n",
            "или РФФ по поручению РФС, и региональные соревнования, организуемые и\r\n",
            "проводимые РФФ.\r\n",
            "23. Матч – футбольный матч, проводимый в рамках Соревнований.\r\n",
            "24. Сезон – временный период, начиная с первого официального матча и заканчивая\r\n",
            "днем проведения последнего официального матча соответствующего Соревнования.\r\n",
            "25. Стадион – комплекс спортивных сооружений, предназначенных для проведения\r\n",
            "учебно-тренировочного процесса и спортивных мероприятий по различным видам спорта,\r\n",
            "с прилегающей к нему территорией, вплоть до внешнего ограждения, основным\r\n",
            "элементом которого является спортивная арена, предназначенная для проведения\r\n",
            "соревнований по футболу. К стадионам также относятся спортивные площадки, на\r\n",
            "которых проводятся соревнования по спортивным дисциплинам футбола (в т.ч. мини-\r\n",
            "футболу и пляжному футболу).\r\n",
            "26. Принимающая сторона – Клуб, который в соответствии с регламентом\r\n",
            "Соревнования и утвержденным календарем Соревнования является стороной,\r\n",
            "ответственной за проведение матча.\r\n",
            "27. Зритель – лицо, присутствующее на Стадионе до, во время и после Матча, не\r\n",
            "относящееся к Игрокам, Официальным лицам Клуба и Официальным лицам Матча и\r\n",
            "обслуживающему персоналу Стадиона.\r\n",
            "28. Список запрета на вход – действующий список лиц, которым за неправомерные\r\n",
            "действия (нарушение правил поведения на Матче, нарушение общественного порядка)\r\n",
            "запрещен (ограничен) решениями Комитета РФС по этике, Контрольно –\r\n",
            "дисциплинарного комитета РФС вход на Стадион во время проведения Матча.\r\n",
            "29. Договорный матч – футбольный матч, проводимый в рамках соревнований под\r\n",
            "эгидой РФС, в котором установлена умышленная манипуляция результатом матча с целью\r\n",
            "получения материальной или иной выгоды.\r\n",
            "30. Игровая зона – зона вокруг футбольного поля для размещения в ней\r\n",
            "помощников судьи, резервного судьи, мальчиков, подающих мячи, аккредитованных теле\r\n",
            "и фотокорреспондентов, медицинского персонала, охраны, официальных лиц.\r\n",
            "31. Физическое воздействие – грубое и/или агрессивное применение физической\r\n",
            "силы, осуществленное из хулиганских побуждений либо с целью влияния или\r\n",
            "принуждения лица к совершению каких-либо действий вопреки его воле.\r\n",
            "32. РФФ - региональные федерации футбола, за исключением Московской\r\n",
            "Федерации футбола и Федерации футбола Московской области.\r\n",
            "333. МРО - межрегиональные объединения региональных федераций футбола, а\r\n",
            "также Московская Федерация футбола и Федерация футбола Московской области.\r\n",
            "34. Федерация – РФФ и МРО.\r\n",
            "35. Национальный арбитраж - постоянно действующее арбитражное учреждение,\r\n",
            "администрирующее арбитраж (третейское разбирательство) споров в области\r\n",
            "профессионального спорта и спорта высших достижений, включая индивидуальные\r\n",
            "трудовые споры, в соответствии с Федеральным законом от 04.12.2007 N 329-ФЗ «О\r\n",
            "физической культуре и спорте в Российской Федерации», и признанное в соответствии с\r\n",
            "Уставом РФС Исполкомом для целей разрешения споров в футболе.\r\n",
            "Все названия и определения, предусмотренные текстом настоящего Регламента,\r\n",
            "могут использоваться как в единственном, так и во множественном числе, без ущерба для\r\n",
            "их значения.\r\n",
            "# РАЗДЕЛ I. ВВОДНАЯ ЧАСТЬ\r\n",
            "## ГЛАВА 1. ОБЛАСТЬ РЕГУЛИРОВАНИЯ И ДЕЯТЕЛЬНОСТЬ НАСТОЯЩЕГО РЕГЛАМЕНТА\r\n",
            "### Статья 1. Область регулирования\r\n",
            "1. Настоящий Регламент определяет обязательные для соблюдения правила,\r\n",
            "нарушение которых влечет применение спортивных санкций, виды спортивных санкций,\r\n",
            "условия и порядок привлечения субъектов футбола к спортивной ответственности,\r\n",
            "деятельность Юрисдикционных органов при рассмотрении нарушений и привлечении к\r\n",
            "спортивной ответственности, а также порядок обжалования решений Юрисдикционных\r\n",
            "органов.\r\n",
            "2. Настоящий Регламент устанавливает общие принципы и порядок привлечения к\r\n",
            "спортивной ответственности для участников Соревнований. Дисциплинарные регламенты\r\n",
            "Федераций не должны противоречить настоящему Регламенту, а в случае противоречий\r\n",
            "применяется настоящий Регламент.\r\n",
            "### Статья 2. Действие настоящего Регламента\r\n",
            "1. Действие настоящего Регламента распространяется на РФС, Федерации, Лиги,\r\n",
            "Клубы, Игроков, Официальных лиц, Официальных лиц матча, Официальных лиц Клуба и\r\n",
            "иных субъектов футбола. Спортивная ответственность применяется в отношении лиц,\r\n",
            "совершивших дисциплинарные нарушения, предусмотренные настоящим Регламентом.\r\n",
            "Настоящий Регламент за исключением ответственности за организацию договорных\r\n",
            "матчей (статья 124.2 настоящего Регламента) не регулирует отношения, связанные с\r\n",
            "привлечением к ответственности судей, инспекторов, делегатов и иных лиц,\r\n",
            "осуществляющих контроль за организацией матча или оценивающих действия судей, а\r\n",
            "также посредников.\r\n",
            "2. Действие настоящего Регламента распространяется на все Соревнования.\r\n",
            "Спортивные санкции, применяемые в соответствии с настоящим Регламентом, действуют\r\n",
            "на всей территории Российской Федерации. Примененные спортивные санкции могут\r\n",
            "быть расширены до мирового масштаба (т.е. распространены на территорию всего мира)\r\n",
            "уполномоченными органами ФИФА в соответствии с процедурой, установленной\r\n",
            "Дисциплинарным кодексом ФИФА.\r\n",
            "3. Действие настоящего Регламента распространяется на отношения, возникшие\r\n",
            "после вступления в силу настоящего Регламента. Положения, устраняющие\r\n",
            " неправомерность деяния, смягчающие спортивные санкции или иным образом\r\n",
            "улучшающие положение лица, совершившего дисциплинарное нарушение, имеют\r\n",
            "обратную силу, то есть распространяются на лиц, совершивших соответствующие\r\n",
            "дисциплинарные нарушения до вступления в силу настоящего Регламента. Положения,\r\n",
            "устанавливающие неправомерность деяния, усиливающие спортивные санкции или иным образом ухудшающие положение лица, совершившего дисциплинарное нарушение, обратной силы не имеют.\r\n",
            "# РАЗДЕЛ II. ОБЩАЯ ЧАСТЬ\r\n",
            "## ГЛАВА 2. ДИСЦИПЛИНАРНЫЕ НАРУШЕНИЯ\r\n",
            "### Статья 3. Понятие дисциплинарного нарушения\r\n",
            "1. Дисциплинарным нарушением признается виновно совершенное деяние (действие\r\n",
            "или бездействие), выразившееся в нарушении правил, установленных настоящим\r\n",
            "Регламентом, регламентами Соревнований и Правилами игры.\r\n",
            "2. Дисциплинарные нарушения, которые влекут применение спортивных санкций,\r\n",
            "указаны в Разделе V «Особенная часть» настоящего Регламента.\r\n",
            "3. Квалификацию дисциплинарного нарушения осуществляет уполномоченный\r\n",
            "Юрисдикционный орган.\r\n",
            "4. Субъектом дисциплинарного нарушения являются Клубы, а также лица,\r\n",
            "являющиеся на момент его совершения Игроком или Официальным лицом Клуба, если\r\n",
            "иное не указано в настоящем Регламенте. Если норма настоящего Регламента\r\n",
            "устанавливает спортивную ответственность специального субъекта (т.е. субъекта\r\n",
            "дисциплинарного нарушения, указанного в определенной статье настоящего Регламента)\r\n",
            "за совершение определенного дисциплинарного нарушения, то спортивная санкция за\r\n",
            "совершение такого нарушения может быть применена только в отношении указанного в\r\n",
            "ней субъекта.\r\n",
            "### Статья 4. Совокупность дисциплинарных нарушений\r\n",
            "1. Совокупностью дисциплинарных нарушений признается совершение двух или\r\n",
            "более дисциплинарных нарушений, ни за одно из которых лицо не было ранее привлечено\r\n",
            "к спортивной ответственности, за исключением случаев, когда совершение двух или более\r\n",
            "дисциплинарных нарушений предусмотрено настоящим Регламентом в качестве\r\n",
            "обстоятельства, влекущего более строгие спортивные санкции.\r\n",
            "2. Совокупностью дисциплинарных нарушений признается и одно действие\r\n",
            "(бездействие), содержащее признаки дисциплинарных нарушений, предусмотренных\r\n",
            "двумя или более нормами настоящего Регламента.\r\n",
            "3. При совокупности дисциплинарных нарушений лицо несет спортивную\r\n",
            "ответственность за каждое совершенное нарушение по соответствующей норме\r\n",
            "настоящего Регламента.\r\n",
            "4. Если дисциплинарное нарушение предусмотрено общей и специальной нормами,\r\n",
            "то совокупность дисциплинарных нарушений отсутствует, и спортивная ответственность\r\n",
            "наступает по специальной норме.\r\n",
            "### Статья 5. Вина\r\n",
            "1. Виновным в совершении дисциплинарного нарушения признается лицо,\r\n",
            "совершившее деяние умышленно или по неосторожности.\r\n",
            "2. Юридическое лицо признается виновным в совершении дисциплинарного\r\n",
            "нарушения, если будет установлено, что у него имелась возможность для соблюдения\r\n",
            "правил и норм, за нарушение которых настоящим Регламентом предусмотрена спортивная\r\n",
            "ответственность, но данным лицом не были приняты все зависящие от него меры по их соблюдению.\r\n",
            "3. Если в настоящем Регламенте не указано иного, лицо привлекается к спортивной\r\n",
            "ответственности независимо от того, совершено дисциплинарное нарушение умышленно или по неосторожности.\r\n",
            "### Статья 6. Попытка совершить дисциплинарное нарушение\r\n",
            "1. Попыткой совершить дисциплинарное нарушение признаются виновные деяния,\r\n",
            "совершаемые лицом, непосредственно направленные на совершение дисциплинарного нарушения, если при этом дисциплинарное нарушение не было доведено до конца по не зависящим от этого лица обстоятельствам.\r\n",
            "2. Спортивная ответственность за попытку совершения дисциплинарного нарушения\r\n",
            "наступает по норме настоящего Регламента, предусматривающей ответственность за\r\n",
            "оконченное дисциплинарное нарушение, со ссылкой на настоящую статью.\r\n",
            "3. При рассмотрении попытки совершения дисциплинарного нарушения\r\n",
            "Юрисдикционный орган вправе уменьшить спортивную санкцию, предусмотренную за\r\n",
            "совершение оконченного дисциплинарного нарушения, при этом назначаемая\r\n",
            "Юрисдикционным органом санкция не может быть ниже минимального размера штрафа, предусмотренного настоящим Регламентом.\r\n",
            "### Статья 7. Соучастие в дисциплинарном нарушении\r\n",
            "1. Соучастием в дисциплинарном нарушении признается умышленное совместное\r\n",
            "участие двух или более лиц в совершении дисциплинарного нарушения.\r\n",
            "2. Лицо, участвующее в совершении дисциплинарного нарушения в качестве\r\n",
            "исполнителя, организатора, подстрекателя либо пособника, привлекается к спортивной\r\n",
            "ответственности.\r\n",
            "3. Лицо, не являющееся субъектом дисциплинарного нарушения, специально\r\n",
            "указанным в соответствующей норме настоящего Регламента, участвовавшее в\r\n",
            "совершении дисциплинарного нарушения, предусмотренного этой нормой, может быть\r\n",
            "привлечено к спортивной ответственности за данное дисциплинарное нарушение в\r\n",
            "качестве его организатора, подстрекателя либо пособника.\r\n",
            "4. Спортивная ответственность в отношении организатора, подстрекателя либо\r\n",
            "пособника наступает по норме настоящего Регламента, предусматривающей\r\n",
            "ответственность субъекта дисциплинарного нарушения (исполнителя), со ссылкой на\r\n",
            "настоящую статью.\r\n",
            "5. При рассмотрении дисциплинарных нарушений, совершенных в соучастии,\r\n",
            "Юрисдикционный орган вправе уменьшить организатору, подстрекателю либо пособнику спортивную санкцию, предусмотренную за совершение такого дисциплинарного нарушения, при этом назначаемая Юрисдикционным органом санкция не может быть ниже минимального размера штрафа, предусмотренного настоящим Регламентом.\r\n",
            "## ГЛАВА 3. СПОРТИВНЫЕ САНКЦИИ\r\n",
            "### СТАТЬЯ 8. Понятие спортивных санкций\r\n",
            "1. Спортивной санкцией признается мера ответственности лица за совершение\r\n",
            "дисциплинарного нарушения, применяемая по решению Юрисдикционного органа, а в\r\n",
            "предусмотренных настоящим Регламентом случаях - по решению судьи до, во время и\r\n",
            "после матча.\r\n",
            "2. К лицу, совершившему дисциплинарное нарушение, может быть применена\r\n",
            "спортивная санкция, предусмотренная настоящей главой.\r\n",
            "3. Виды спортивных санкций, применяемых за совершение дисциплинарных\r\n",
            "нарушений, указаны в статьях 9 – 11 настоящего Регламента.\r\n",
            "### Статья 9. Общие спортивные санкции, применяемые к физическим и юридическим\r\n",
            "лицам\r\n",
            "К физическим и юридическим лицам могут быть применены следующие\r\n",
            "спортивные санкции:\r\n",
            "1) замечание;\r\n",
            "2) штраф;\r\n",
            "3) лишение завоеванных наград.\r\n",
            "### Статья 10. Спортивные санкции, применяемые к физическим лицам\r\n",
            "Исключительно к физическим лицам могут быть применены следующие спортивные\r\n",
            "санкции:\r\n",
            "1) предупреждение;\r\n",
            "2) удаление;\r\n",
            "3) дисквалификация;\r\n",
            "4) запрет на осуществление любой связанной с футболом деятельности;\r\n",
            "5) запрет на вход на стадион.\r\n",
            "### Статья 11. Санкции, применяемые к юридическим лицам\r\n",
            "Исключительно к юридическим лицам могут быть применены следующие\r\n",
            "спортивные санкции:\r\n",
            "1) проведение матча без зрителей;\r\n",
            "2) проведение матча на нейтральном стадионе в другом городе;\r\n",
            "3) запрет на допуск зрителей в секторы стадиона;\r\n",
            "4) аннулирование результата матча;\r\n",
            "5) присуждение поражения;\r\n",
            "6) снятие очков;\r\n",
            "7) исключение из числа участников соревнования;\r\n",
            "8) перевод в низший по рангу дивизион.\r\n",
            "2. Санкции, указанные в пунктах 1-3 части 1 настоящей статьи, наложенные на\r\n",
            "матчи Чемпионата и Первенства России, не распространяются на матчи розыгрыша Кубка\r\n",
            "России и наоборот.\r\n",
            "3. Реализация санкций, указанных в пунктах 1-3 части 1 настоящей статьи,\r\n",
            "допускается не ранее чем через 5 (пять) рабочих дней с момента вступления\r\n",
            "соответствующего решения в силу.\r\n",
            "### Статья 12. Замечание\r\n",
            "1. Замечание является спортивной санкцией, которая применяется Юрисдикционным\r\n",
            "органом и выражается в письменном напоминании лицу о сути обязательного для\r\n",
            "соблюдения правила, сопряженном с угрозой применения иной более строгой спортивной\r\n",
            "санкции в случае совершения нарушения в будущем.\r\n",
            "2. Замечание применяется Юрисдикционным органом за совершение лицом впервые\r\n",
            "незначительного дисциплинарного нарушения, за которое предусмотрена спортивная\r\n",
            "санкция только в виде штрафа, размер которого не превышает 50 000 рублей.\r\n",
            "### Статья 13. Штраф\r\n",
            "1. Штраф является спортивной санкцией, применяемой Юрисдикционным органом,\r\n",
            "которая выражается в денежном взыскании и применяется за совершение\r\n",
            "дисциплинарного нарушения. Штраф устанавливается и оплачивается в рублях\r\n",
            "Российской Федерации.\r\n",
            "2. Минимальный размер штрафа не может быть менее:\r\n",
            "1) для Клубов – членов РФПЛ – 5 000 рублей;\r\n",
            "2) для иных Клубов – 1 000 рублей;\r\n",
            "3) для физических лиц – 1 000 рублей.\r\n",
            "3. Максимальный размер штрафа не может превышать:\r\n",
            "1) для Клубов – членов РФПЛ – 5 000 000 рублей;\r\n",
            "2) для иных Клубов – 1 000 000 рублей;\r\n",
            "3) для физических лиц – 500 000 рублей.\r\n",
            "При этом указанные максимальные размеры штрафов не применяются к статье 124.2\r\n",
            "настоящего Регламента.\r\n",
            "4. Штраф, примененный решением Юрисдикционного органа, должен быть оплачен\r\n",
            "в течение 30 (тридцати) дней с момента получения решения, если решение не обжаловано\r\n",
            "в соответствии с настоящим Регламентом. Если в результате обжалования у лица\r\n",
            "сохранится обязанность по оплате штрафа, то он должен быть оплачен в течение 30\r\n",
            "(тридцати) дней с момента получения решения Апелляционного комитета РФС.\r\n",
            "5. Клуб несет субсидиарную ответственность за уплату штрафа физическим лицом, в\r\n",
            "заявку которого на момент совершения дисциплинарного нарушения включено такое\r\n",
            "физическое лицо.\r\n",
            "6. Все взимаемые штрафы поступают на расчетный счет РФС, если в регламенте\r\n",
            "Соревнований не указано иное. При оплате штрафа в платежном поручении указывается\r\n",
            "номер и дата решения Юрисдикционного органа, который вынес решение о применении\r\n",
            "штрафа.\r\n",
            "7. Размеры штрафов за совершение дисциплинарных нарушений указаны в\r\n",
            "соответствующих статьях Особенной части настоящего Регламента или в Приложении №\r\n",
            "1 к настоящему Регламенту и определяются в зависимости от соревнований, в которых\r\n",
            "принимает участие лицо, совершившее дисциплинарное нарушение. Конкретный размер\r\n",
            "штрафа за совершенное дисциплинарное нарушение определяется Юрисдикционным\r\n",
            "органом в пределах, установленных в Приложении № 1 к настоящему Регламенту,\r\n",
            "соразмерно серьезности дисциплинарного нарушения, с учетом личности лица, виновного\r\n",
            "в совершении дисциплинарного нарушения, отсутствия у виновного лица\r\n",
            "дисциплинарных нарушений в прошлом, систематичности совершения дисциплинарных\r\n",
            "нарушений, причин совершения дисциплинарного нарушения, смягчающих и отягчающих\r\n",
            "обстоятельств, а также иных обстоятельств, имеющих значение для дела, в том числе\r\n",
            "работы, проводимой клубом, к которому применяется санкция, направленной на\r\n",
            "недопущение нарушений зрителями матча, действий клуба по немедленному пресечению\r\n",
            "нарушения, участия клуба в выявлении и установлении личностей виновных лиц.\r\n",
            "88. Если Приложение № 1 к настоящему Регламенту не определяет максимальный\r\n",
            "размер штрафа для определенных соревнований, Юрисдикционный орган вправе\r\n",
            "самостоятельно определить его размер соразмерно серьезности дисциплинарного\r\n",
            "нарушения, с учетом личности лица, виновного в совершении дисциплинарного\r\n",
            "нарушения, отсутствия у виновного лица дисциплинарных нарушений в прошлом,\r\n",
            "систематичности совершения дисциплинарных нарушений, причин совершения\r\n",
            "дисциплинарного нарушения, смягчающих и отягчающих обстоятельств, а также иных\r\n",
            "обстоятельств, имеющих значение для дела, но в пределах минимального и\r\n",
            "максимального размера штрафа, установленного частями 2 и 3 настоящей статьи.\r\n",
            "9. Штрафы, поступающие в РФС в соответствии с настоящим Регламентом,\r\n",
            "направляются исключительно на мероприятия, имеющие целью развитие детско-\r\n",
            "юношеского футбола, и/или организацию специальной подготовки контролеров-\r\n",
            "распорядителей в футболе и/или организацию мероприятий по работе с болельщиками.\r\n",
            "Штрафы, поступающие в РФС и примененные в связи с неисполнением обязательств\r\n",
            "клуба по оплате взносов за участие в детско-юношеских соревнованиях, организуемых\r\n",
            "МРО, могут направляться в соответствующие МРО в случае, если клуб перестал\r\n",
            "участвовать в соревнованиях под эгидой РФС и на момент получения РФС\r\n",
            "соответствующих штрафов не исполнил обязательств по оплате соответствующих взносов\r\n",
            "в МРО.\r\n",
            "Перечень мероприятий, указанных выше, формируется на соответствующий\r\n",
            "календарный год совместно РФС, РФПЛ, ФНЛ, ПФЛ.\r\n",
            "РФС на своем официальном сайте в сети Интернет ежегодно по окончании первого\r\n",
            "квартала, следующего за отчетным годом, публикует информацию о целевом\r\n",
            "расходовании поступивших штрафов.\r\n",
            "### Статья 14. Лишение завоеванных наград\r\n",
            "1. Лишение завоеванных наград является спортивной санкцией, применяемой\r\n",
            "Юрисдикционным органом, при назначении которой лицо, которому назначена такая\r\n",
            "санкция, обязано вернуть все награды, полученные от организаторов Соревнований и\r\n",
            "организаций, проводящих Соревнования (в т.ч. медали, кубки, титулы, денежные\r\n",
            "вознаграждения и иные призы).\r\n",
            "2. Юрисдикционный орган при назначении спортивной санкции в виде лишения\r\n",
            "завоеванных наград определяет, какие награды подлежат возврату.\r\n",
            "### Статья 15. Предупреждение\r\n",
            "1. Предупреждение является спортивной санкцией, которая применяется в\r\n",
            "отношении Игрока/Официального лица клуба судьей до, во время и после матча в\r\n",
            "соответствии с Правилами игры и выражается в предъявлении Игроку/Официальному\r\n",
            "лицу клуба желтой карточки.\r\n",
            "2. Два предупреждения, полученные Игроком/Официальным лицом клуба в ходе\r\n",
            "одного матча, влекут за собой удаление и автоматическую дисквалификацию на\r\n",
            "следующий матч.\r\n",
            "3. В случае, если в настоящем Регламенте для применения спортивных санкций\r\n",
            "имеет значение количество предупреждений, полученных одним либо несколькими\r\n",
            "Игроками/Официальными лицами клуба, получение Игроком/Официальным лицом клуба\r\n",
            "в течение одного матча двух предупреждений рассматривается как удаление и такие\r\n",
            "предупреждения не учитываются при подсчете общего количества предупреждений. Если\r\n",
            "Игрок/Официальное лицо клуба удален с поля за нарушение Правил игры, не связанное с\r\n",
            "получением двух предупреждений, то предупреждение, которое он до этого получил в\r\n",
            "ходе того же матча, сохраняется и учитывается при подсчете общего количества\r\n",
            "предупреждений.\r\n",
            "4. Автоматическую дисквалификацию на следующий после получения последнего\r\n",
            "предупреждения матч соответствующего соревнования влекут за собой:\r\n",
            "1) каждые четыре предупреждения, полученные Игроком/Официальным лицом\r\n",
            "клуба в разных матчах Чемпионата и/или Первенства России;\r\n",
            "2) 2 (два) предупреждения, полученные Игроком/Официальным лицом клуба в\r\n",
            "разных матчах одного соревнования Кубка России;\r\n",
            "3) установленное регламентом соответствующего Соревнования количество\r\n",
            "предупреждений, полученных Игроком/Официальным лицом клуба в разных матчах\r\n",
            "одного Соревнования – в отношении Соревнований, не указанных в пунктах 1-2 части 4\r\n",
            "настоящей статьи;\r\n",
            "5. В случае, если матч не доигран по каким-либо причинам и принято решение о\r\n",
            "доигровке матча, то любые предупреждения, полученные во время этого матча,\r\n",
            "сохраняются.\r\n",
            "6. В случае аннулирования результата матча:\r\n",
            "1) если принято решение о переигровке матча, то предупреждения, полученные в\r\n",
            "ходе этого матча, не сохраняются;\r\n",
            "2) если принято решение о присуждении поражения одной из команд или обеим\r\n",
            "командам, то предупреждения, полученные в ходе этого матча, сохраняются.\r\n",
            "7. В случае, если Команда по каким-либо причинам выбыла из числа участников\r\n",
            "Соревнования, то все предупреждения, полученные Игроками/Официальными лицами\r\n",
            "клуба этой Команды, сохраняются.\r\n",
            "8. Предупреждения, полученные в матчах Чемпионата и Первенства России, не\r\n",
            "распространяются на матчи розыгрыша Кубка России и наоборот.\r\n",
            "9. Предупреждения, полученные в матчах одного Соревнования соответствующего\r\n",
            "спортивного сезона, не переносятся на следующий спортивный сезон.\r\n",
            "### Статья 16. Удаление\r\n",
            "1. Удаление является спортивной санкцией, которая применяется судьей в\r\n",
            "отношении участников матча во время матча в соответствии с Правилами игры и\r\n",
            "выражается в требовании со стороны судьи покинуть поле игры и его окрестности,\r\n",
            "включая скамью запасных. Удаленное лицо может быть допущено на трибуны.\r\n",
            "2. При удалении Игрока/Официального лица Клуба судья предъявляет ему красную\r\n",
            "карточку.\r\n",
            "3. Удаление влечет за собой автоматическую дисквалификацию на следующий матч.\r\n",
            "В предусмотренных настоящим Регламентом случаях Юрисдикционный орган может\r\n",
            "увеличить срок действия дисквалификации.\r\n",
            "4. Если удаление применено в ходе матча, который не был доигран до конца и/или\r\n",
            "результат такого матча аннулирован, оно также влечет автоматическую дисквалификацию\r\n",
            "на следующий матч.\r\n",
            "5. Удаление в матче за Суперкубок России по футболу не влечет дисквалификации\r\n",
            "на следующие матчи.\r\n",
            "### Статья 17. Спортивная дисквалификация\r\n",
            "1. Спортивная дисквалификация (дисквалификация) является спортивной санкцией,\r\n",
            "которая применяется Юрисдикционным органом, за исключением случаев\r\n",
            "автоматической дисквалификации, и выражается в отстранении от участия в\r\n",
            "Соревнованиях.\r\n",
            "2. Дисквалификация применяется к Игрокам, а также Официальным лицам Клубов.\r\n",
            "103. Дисквалифицированное лицо не должно включаться в протокол матча.\r\n",
            "Дисквалифицированное Официальное лицо не вправе исполнять до, во время и после\r\n",
            "матча свои обязанности, предусмотренные регламентом Соревнования, а также\r\n",
            "находиться до, во время и после матча на скамье запасных, в раздевалках команд,\r\n",
            "подтрибунных помещениях.\r\n",
            "4. Дисквалификация налагается на матчи и на определенный срок (дни, месяцы,\r\n",
            "годы). Если в настоящем Регламенте не оговаривается иное, она не может превышать 24\r\n",
            "(двадцати четырех) матчей или 2 (двух) лет. В случае нарушения антидопинговых правил\r\n",
            "или организации договорных матчей дисквалификация может быть пожизненной.\r\n",
            "Периоды неучастия в соревновании соответствующего клуба более 1 месяца во время\r\n",
            "спортивного сезона и/или периоды между спортивными сезонами не включаются в срок\r\n",
            "действия данной спортивной санкции, установленной на определенный срок.\r\n",
            "5. По общему правилу, если дисквалификация наложена на определенное число\r\n",
            "матчей, то в счет реализации дисквалификации идут лишь действительно сыгранные\r\n",
            "матчи.\r\n",
            "В качестве исключения из правила, установленного настоящей частью,\r\n",
            "дисквалификация считается реализованной в случае, если матч команды, за которую\r\n",
            "выступает дисквалифицированный Игрок, отменен по причине снятия в Соревновании\r\n",
            "команды-соперника либо Юрисдикционным органом вынесено окончательное решение о техническом поражении другой команды, а команда, за которую выступает\r\n",
            "дисквалифицированный Игрок, не несет ответственности за факты, которые привели к\r\n",
            "вынесению указанного решения.\r\n",
            "6. Дисквалификация (за исключением автоматической дисквалификации, указанной\r\n",
            "в части 4 статьи 15 настоящего Регламента), нереализованная в текущем спортивном\r\n",
            "сезоне, переносится на следующий спортивный сезон.\r\n",
            "7. Дисквалификация, наложенная на матчи Чемпионатов или Первенств России, не\r\n",
            "распространяются на матчи розыгрыша Кубков России и Молодежное Первенство России\r\n",
            "среди команд клубов РФПЛ и наоборот.\r\n",
            "8. Дисквалификация действует независимо от перехода дисквалифицированного\r\n",
            "лица в другой Клуб, участвующий в соревнованиях под эгидой РФС. Иные особенности\r\n",
            "по порядку учета дисквалификаций и предупреждений предусматриваются регламентом\r\n",
            "соответствующего Соревнования.\r\n",
            "9. В случае, если Команда по каким-либо причинам выбыла из числа участников\r\n",
            "Соревнования, то все дисквалификации Игроков этой Команды сохраняются.\r\n",
            "10. В установленных настоящим Регламентом случаях к лицу может быть применена\r\n",
            "автоматическая дисквалификация, которая означает, что лицо дисквалифицируется на\r\n",
            "один матч при наступлении обстоятельств, указанных в настоящем Регламенте, при этом\r\n",
            "не требуется вынесения решения Юрисдикционного органа. Если к лицу помимо\r\n",
            "автоматической дисквалификации Юрисдикционный орган применит дисквалификацию\r\n",
            "не менее чем на один матч, то реализация автоматической дисквалификации учитывается\r\n",
            "при реализации дисквалификации, наложенной Юрисдикционным органом.\r\n",
            "### Статья 18. Запрет на осуществление любой связанной с футболом деятельности\r\n",
            "1. Запрет на осуществлен\n"
          ]
        }
      ]
    },
    {
      "cell_type": "code",
      "source": [
        "# Инструкция в system\n",
        "system = load_document_text('https://docs.google.com/document/d/16GKwLjPg3EpfIG_iHL3YWmGPS0A0NBhER7gBNGSIK5A/edit?usp=sharing') # заполните параметр ссылкой на составленный вами промпт. Не забудьте открыть доступ"
      ],
      "metadata": {
        "id": "Estqph0y-tDh"
      },
      "execution_count": null,
      "outputs": []
    },
    {
      "cell_type": "code",
      "source": [
        "def num_tokens_from_string(string: str, encoding_name: str) -> int:\n",
        "      \"\"\"Возвращает количество токенов в строке\"\"\"\n",
        "      encoding = tiktoken.get_encoding(encoding_name)\n",
        "      num_tokens = len(encoding.encode(string))\n",
        "      return num_tokens\n",
        "\n",
        "def split_text(text, max_count):\n",
        "    headers_to_split_on = [\n",
        "        (\"#\", \"Header 1\"),\n",
        "        (\"##\", \"Header 2\"),\n",
        "        (\"###\", \"Header 3\"),\n",
        "    ]\n",
        "\n",
        "    markdown_splitter = MarkdownHeaderTextSplitter(headers_to_split_on=headers_to_split_on)\n",
        "    fragments = markdown_splitter.split_text(text)\n",
        "\n",
        "    # Подсчет токенов для каждого фрагмента и построение графика\n",
        "    fragment_token_counts = [num_tokens_from_string(fragment.page_content, \"cl100k_base\") for fragment in fragments]\n",
        "    plt.hist(fragment_token_counts, bins=20, alpha=0.5, label='Fragments')\n",
        "    plt.title('Distribution of Fragment Token Counts')\n",
        "    plt.xlabel('Token Count')\n",
        "    plt.ylabel('Frequency')\n",
        "    plt.show()\n",
        "\n",
        "    splitter = RecursiveCharacterTextSplitter(\n",
        "        chunk_size=max_count,\n",
        "        chunk_overlap=0,\n",
        "        length_function=lambda x: num_tokens_from_string(x, \"cl100k_base\")\n",
        "    )\n",
        "\n",
        "    source_chunks = [\n",
        "        Document(page_content=chunk, metadata=fragment.metadata)\n",
        "        for fragment in fragments\n",
        "        for chunk in splitter.split_text(fragment.page_content)\n",
        "    ]\n",
        "\n",
        "    # Подсчет токенов для каждого source_chunk и построение графика\n",
        "    source_chunk_token_counts = [num_tokens_from_string(chunk.page_content, \"cl100k_base\") for chunk in source_chunks]\n",
        "    plt.hist(source_chunk_token_counts, bins=20, alpha=0.5, label='Source Chunks')\n",
        "    plt.title('Distribution of Source Chunk Token Counts')\n",
        "    plt.xlabel('Token Count')\n",
        "    plt.ylabel('Frequency')\n",
        "    plt.show()\n",
        "\n",
        "    return source_chunks"
      ],
      "metadata": {
        "id": "k1vxt3F6F7MO"
      },
      "execution_count": null,
      "outputs": []
    },
    {
      "cell_type": "code",
      "source": [
        "source_chunks = split_text(database, 100)                          # заполните необходимыми значениями\n",
        "print(\"Общее количество чанков: \",len(source_chunks))\n",
        "print(\"Первый чанк \", source_chunks[0])"
      ],
      "metadata": {
        "colab": {
          "base_uri": "https://localhost:8080/",
          "height": 982
        },
        "id": "uf6U54fbGQUj",
        "outputId": "257fd0ad-9622-43dc-b282-3e50f9595eee"
      },
      "execution_count": null,
      "outputs": [
        {
          "output_type": "display_data",
          "data": {
            "text/plain": [
              "<Figure size 640x480 with 1 Axes>"
            ],
            "image/png": "[encoded data removed]"
          },
          "metadata": {}
        },
        {
          "output_type": "display_data",
          "data": {
            "text/plain": [
              "<Figure size 640x480 with 1 Axes>"
            ],
            "image/png": "[encoded data removed]"
          },
          "metadata": {}
        },
        {
          "output_type": "stream",
          "name": "stdout",
          "text": [
            "Общее количество чанков:  785\n",
            "Первый чанк  page_content='\\ufeff# УТВЕРЖДЕН:\\nПостановлением Исполкома\\nОбщероссийской общественной организации\\n«Российский футбольный союз»\\n№ 65/2 от «23» декабря 2010 года\\nс последующими изменениями и дополнениями' metadata={}\n"
          ]
        }
      ]
    },
    {
      "cell_type": "code",
      "source": [
        "# Инициализация модели эмбеддингов\n",
        "embeddings = OpenAIEmbeddings()\n",
        "\n",
        "# Создание индексной базы из разделенных фрагментов текста\n",
        "db = FAISS.from_documents(source_chunks, embeddings)\n"
      ],
      "metadata": {
        "id": "jObU5i4QC6r1"
      },
      "execution_count": null,
      "outputs": []
    },
    {
      "cell_type": "code",
      "source": [
        "def insert_newlines(text: str, max_len: int = 170) -> str:\n",
        "    \"\"\"\n",
        "    Функция разбивает длинный текст на строки определенной максимальной длины.\n",
        "    \"\"\"\n",
        "    words = text.split()\n",
        "    lines = []\n",
        "    current_line = \"\"\n",
        "    for word in words:\n",
        "        if len(current_line + \" \" + word) > max_len:\n",
        "            lines.append(current_line)\n",
        "            current_line = \"\"\n",
        "        current_line += \" \" + word\n",
        "    lines.append(current_line)\n",
        "    return \"\\n\".join(lines)"
      ],
      "metadata": {
        "id": "JmJNWHMsGhoC"
      },
      "execution_count": null,
      "outputs": []
    },
    {
      "cell_type": "code",
      "source": [
        "def answer_index(system, topic, search_index, temp=0, verbose=0) -> str:\n",
        "    \"\"\"\n",
        "    Функция возвращает ответ модели на основе заданной темы.\n",
        "    \"\"\"\n",
        "    # находим наиболее релевантные вопросу пользователя чанки:\n",
        "    docs = search_index.similarity_search(topic, k=4)\n",
        "\n",
        "    message_content = re.sub(r'\\n{2}', ' ', '\\n '.join([f'\\nОтрывок документа №{i+1}\\n=====================' + doc.page_content + '\\n' for i, doc in enumerate(docs)]))\n",
        "\n",
        "    # если параметр verbose=1, то выводим релевантные чанки\n",
        "    if verbose:\n",
        "        print('message_content :\\n', message_content)\n",
        "\n",
        "    messages = [\n",
        "        {\"role\": \"system\", \"content\": system},\n",
        "        {\"role\": \"user\", \"content\": f\"Документ с информацией для ответа пользователю: {message_content}\\n\\nВопрос пользователя: \\n{topic}\"}\n",
        "    ]\n",
        "\n",
        "    completion = openai.ChatCompletion.create(\n",
        "        model=\"gpt-3.5-turbo\",\n",
        "        messages=messages,\n",
        "        temperature=temp\n",
        "    )\n",
        "\n",
        "    return insert_newlines(completion.choices[0].message.content)"
      ],
      "metadata": {
        "id": "oxQUquM_GnYV"
      },
      "execution_count": null,
      "outputs": []
    },
    {
      "cell_type": "code",
      "source": [
        "def summarize_questions(dialog):\n",
        "    \"\"\"\n",
        "    Функция возвращает саммаризированный текст диалога.\n",
        "    \"\"\"\n",
        "    messages = [\n",
        "        {\"role\": \"system\", \"content\": \"Ты - нейро-саммаризатор. Твоя задача - саммаризировать диалог, который тебе пришел. Если пользователь назвал свое имя, обязательно отрази его в саммаризированном диалоге\"},\n",
        "        {\"role\": \"user\", \"content\": \"Саммаризируй следующий диалог консультанта и пользователя: \" + \" \".join(dialog)}\n",
        "    ]\n",
        "\n",
        "    completion = openai.ChatCompletion.create(\n",
        "        model=\"gpt-3.5-turbo\",     # используем gpt3.5 для более точной саммаризации\n",
        "        messages=messages,\n",
        "        temperature=0,          # Используем более низкую температуру для более определенной суммаризации\n",
        "    )\n",
        "\n",
        "    return completion.choices[0].message.content"
      ],
      "metadata": {
        "id": "6wp40kiiGu2E"
      },
      "execution_count": null,
      "outputs": []
    },
    {
      "cell_type": "code",
      "source": [
        "def answer_user_question_dialog(system, db, user_question, question_history):\n",
        "    \"\"\"\n",
        "    Функция возвращает ответ на вопрос пользователя.\n",
        "    \"\"\"\n",
        "    summarized_history = \"\"\n",
        "    # Если в истории более одного вопроса, применяем суммаризацию\n",
        "    if len(question_history) > 0:\n",
        "        summarized_history = \"Вот краткий обзор предыдущего диалога: \" + summarize_questions([q + ' ' + (a if a else '') for q, a in question_history])\n",
        "\n",
        "    # Добавляем явное разделение между историей диалога и текущим вопросом\n",
        "    input_text = summarized_history + \"\\n\\nТекущий вопрос: \" + user_question\n",
        "\n",
        "    # Извлекаем наиболее похожие отрезки текста из базы знаний и получение ответа модели\n",
        "    answer_text = answer_index(system, input_text, db)\n",
        "\n",
        "    # Добавляем вопрос пользователя и ответ системы в историю\n",
        "    question_history.append((user_question, answer_text if answer_text else ''))\n",
        "\n",
        "    # Выводим саммаризированный текст, который видит модель\n",
        "    if summarized_history:\n",
        "        print('****************************')\n",
        "        print(insert_newlines(summarized_history))\n",
        "        print('****************************')\n",
        "\n",
        "    return insert_newlines(answer_text)"
      ],
      "metadata": {
        "id": "QLcjCVPlG2Hq"
      },
      "execution_count": null,
      "outputs": []
    },
    {
      "cell_type": "code",
      "source": [
        "def run_dialog(system_doc_url, knowledge_base_url):\n",
        "    \"\"\"\n",
        "    Функция запускает диалог между пользователем и нейро-консультантом.\n",
        "    \"\"\"\n",
        "    #список кортежей, где каждый кортеж содержит пару вопрос-ответ, для отслеживания истории вопросов и ответов во время сессии диалога.\n",
        "    question_history = []\n",
        "    while True:\n",
        "        user_question = input('Пользователь: ')\n",
        "        if user_question.lower() == 'stop':\n",
        "            break\n",
        "        answer = answer_user_question_dialog(system_doc_url, knowledge_base_url, user_question, question_history)\n",
        "        print('Консультант:', answer)\n",
        "\n",
        "    return"
      ],
      "metadata": {
        "id": "M4r9OGPxG8nM"
      },
      "execution_count": null,
      "outputs": []
    },
    {
      "cell_type": "code",
      "source": [
        "# проверьте работу нейро-консультанта на нескольких самостоятельно сгенерированных вопросах. Проверьте, что соблюдаются инструкции и поддерживается диалог\n",
        "run_dialog(system, db)"
      ],
      "metadata": {
        "colab": {
          "base_uri": "https://localhost:8080/"
        },
        "id": "u3RtWftoHEDp",
        "outputId": "646618f0-8309-442b-bfb2-4bf014ad6804"
      },
      "execution_count": null,
      "outputs": [
        {
          "name": "stdout",
          "output_type": "stream",
          "text": [
            "Пользователь: Какие правила определяет Дисциплинарный Регламент РФС?\n",
            "Консультант:  Дисциплинарный Регламент РФС определяет спортивные санкции, предусмотренные для дисциплинарных нарушений, а также процедуру рассмотрения жалоб на решения\n",
            " Контрольно-дисциплинарного комитета РФС.\n",
            "Пользователь: что такое РФС\n",
            "****************************\n",
            " Вот краткий обзор предыдущего диалога: Диалог был описан вопросом о правилах, установленных Дисциплинарным Регламентом РФС. Консультант пояснил, что этот регламент\n",
            " определяет спортивные санкции за дисциплинарные нарушения и процедуру обжалования решений Контрольно-дисциплинарного комитета РФС.\n",
            "****************************\n",
            "Консультант:  Я не обладаю достаточной компетенцией для ответа на данный вопрос. Могу посоветовать Вам найти ответ на данный вопрос в открытых источниках или сети интернет. Прошу Вас\n",
            " задавать вопросы по теме ДИСЦИПЛИНАРНОГО РЕГЛАМЕНТА РФС (Российского Футбольного Союза), спасибо.\n",
            "Пользователь: stop\n"
          ]
        }
      ]
    }
  ]
}